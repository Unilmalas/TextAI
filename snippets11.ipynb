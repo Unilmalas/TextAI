{
 "cells": [
  {
   "cell_type": "code",
   "execution_count": null,
   "metadata": {},
   "outputs": [],
   "source": [
    "import numpy as np\n",
    "\n",
    "def levenshtein(seq1, seq2):  \n",
    "    size_x = len(seq1) + 1\n",
    "    size_y = len(seq2) + 1\n",
    "    matrix = np.zeros ((size_x, size_y))\n",
    "    for x in xrange(size_x):\n",
    "        matrix [x, 0] = x\n",
    "    for y in xrange(size_y):\n",
    "        matrix [0, y] = y\n",
    "\n",
    "    for x in xrange(1, size_x):\n",
    "        for y in xrange(1, size_y):\n",
    "            if seq1[x-1] == seq2[y-1]:\n",
    "                matrix [x,y] = min(\n",
    "                    matrix[x-1, y] + 1,\n",
    "                    matrix[x-1, y-1],\n",
    "                    matrix[x, y-1] + 1\n",
    "                )\n",
    "            else:\n",
    "                matrix [x,y] = min(\n",
    "                    matrix[x-1,y] + 1,\n",
    "                    matrix[x-1,y-1] + 1,\n",
    "                    matrix[x,y-1] + 1\n",
    "                )\n",
    "    print (matrix)\n",
    "    return (matrix[size_x - 1, size_y - 1])\n",
    "\n",
    "if __name__=='__main__':\n",
    "    print levenshtein('test', 'toast')"
   ]
  },
  {
   "cell_type": "code",
   "execution_count": 40,
   "metadata": {},
   "outputs": [
    {
     "name": "stdout",
     "output_type": "stream",
     "text": [
      "[1, [2, 0, 1, 1, 1, 0, 1, 2, 2]]\n"
     ]
    }
   ],
   "source": [
    "# tic-tac-toe minimax\n",
    "\n",
    "def chkwin(bl,p): # check for win for board list\n",
    "    for i in range(0,6,3):\n",
    "        if bl[i]==p and bl[i+1]==p and bl[i+2]==p:\n",
    "            return True\n",
    "    for i in range(3):\n",
    "        if bl[i]==p and bl[i+3]==p and bl[i+6]==p:\n",
    "            return True\n",
    "    if bl[0]==p and bl[4]==p and bl[8]==p:\n",
    "            return True\n",
    "    if bl[2]==p and bl[4]==p and bl[6]==p:\n",
    "            return True\n",
    "    return False\n",
    "\n",
    "def otherp(p):\n",
    "    if p==1:\n",
    "        return 2\n",
    "    return 1\n",
    "\n",
    "def mvopt(bl): # returns movement options for current board state\n",
    "    res = []\n",
    "    for i in range(len(bl)):\n",
    "        if bl[i]==0:\n",
    "            res.append(i)\n",
    "    return res\n",
    "\n",
    "def plyrmv(bl,i,p): # next player move\n",
    "    return [x if ind != i else p for ind, x in enumerate(bl)]\n",
    "\n",
    "def successors(bl,p): # return all successor board states\n",
    "    mo = mvopt(bl)\n",
    "    succs = []\n",
    "    for o in mo:\n",
    "        succs.append([0,plyrmv(bl,o,p)]) # [value=0 (default utility), state]\n",
    "    return succs\n",
    "\n",
    "def util(bl,p): # return utility of current board for player p\n",
    "    if chkwin(bl,p):\n",
    "        return 1\n",
    "    elif chkwin(bl,otherp(p)):\n",
    "        return -1\n",
    "    return 0\n",
    "\n",
    "def maxval(bl,p): # determine the max-value for player p\n",
    "    tt = util(bl,p)\n",
    "    if tt != 0:\n",
    "        return [tt,bl]\n",
    "    v = [-1000,bl]\n",
    "    succs = successors(bl,p)\n",
    "    for s in succs:\n",
    "        miv = minval(s[1],p)\n",
    "        if miv[0] > v[0]:\n",
    "            v = miv\n",
    "    return v\n",
    "\n",
    "def minval(bl,p): # determine the min-value for player p\n",
    "    tt = util(bl,p)\n",
    "    if tt != 0:\n",
    "        return [tt,bl]\n",
    "    v = [1000,bl]\n",
    "    succs = successors(bl,otherp(p))\n",
    "    for s in succs:\n",
    "        mav = maxval(s[1],p)\n",
    "        if mav[0] < v[0]:\n",
    "            v = mav\n",
    "    return v\n",
    "\n",
    "def minimaxdec(bl,p): # minimax decision player p\n",
    "    v = maxval(bl,p)\n",
    "    return v\n",
    "\n",
    "if __name__=='__main__':\n",
    "    brd = [2,0,1,1,0,0,1,2,2]\n",
    "    print minimaxdec(brd,1)"
   ]
  },
  {
   "cell_type": "code",
   "execution_count": 1,
   "metadata": {},
   "outputs": [
    {
     "name": "stdout",
     "output_type": "stream",
     "text": [
      "[[1 2]\n",
      " [2 4]]\n"
     ]
    }
   ],
   "source": [
    "# dot test\n",
    "import numpy as np\n",
    "\n",
    "vec0 = np.array([[1], [2]])\n",
    "vec1 = np.array([[1, 2]])\n",
    "\n",
    "print np.dot(vec0, vec1)"
   ]
  },
  {
   "cell_type": "code",
   "execution_count": 1,
   "metadata": {},
   "outputs": [
    {
     "name": "stdout",
     "output_type": "stream",
     "text": [
      "entzückend Chaos,\n",
      "kontrastierend kalter Landschaft,\n",
      "unersetzliche Phantasie.\n"
     ]
    }
   ],
   "source": [
    "# Haiku generator\n",
    "from random import randint\n",
    "\n",
    "wordList1 = [\"berauschend\", \"erstaunlich\", \"farbenfroh\", \"entzückend\", \"zarteste\"]\n",
    "wordList2 = [\"Visionen\", \"Entfernung\", \"Gewissen\", \"Prozess\", \"Chaos\"]\n",
    "wordList3 = [\"abergläubisch\", \"kontrastierend\", \"anmutig\", \"einladend\", \"widersprüchlich\", \"überwältigend\"]\n",
    "wordList4 = [\"wahrer\", \"dunkler\", \"kalter\", \"warmer\", \"heller\"]\n",
    "wordList5 = [\"Landschaft\", \"Jahreszeit\", \"Farben\", \"Licht\", \"Frühling\", \"Winter\", \"Sommer\", \"Herbst\"]\n",
    "wordList6 = [\"unbestreitbare\", \"schöne\", \"unersetzliche\", \"unglaubliche\", \"unwiderrufliche\"]\n",
    "wordList7 = [\"Inspiration\", \"Phantasie\", \"Weisheit\", \"Gedanken\"]\n",
    "\n",
    "wordIndex1=randint(0, len(wordList1)-1)\n",
    "wordIndex2=randint(0, len(wordList2)-1)\n",
    "wordIndex3=randint(0, len(wordList3)-1)\n",
    "wordIndex4=randint(0, len(wordList4)-1)\n",
    "wordIndex5=randint(0, len(wordList5)-1)\n",
    "wordIndex6=randint(0, len(wordList6)-1)\n",
    "wordIndex7=randint(0, len(wordList7)-1)\n",
    "\n",
    "haiku = wordList1[wordIndex1] + \" \" + wordList2[wordIndex2] + \",\\n\" \n",
    "haiku = haiku + wordList3[wordIndex3] + \" \" + wordList4[wordIndex4] + \" \" + wordList5[wordIndex5]  + \",\\n\"\n",
    "haiku = haiku + wordList6[wordIndex6] + \" \" + wordList7[wordIndex7] + \".\"\n",
    "\n",
    "print(haiku)"
   ]
  },
  {
   "cell_type": "code",
   "execution_count": 23,
   "metadata": {},
   "outputs": [
    {
     "name": "stdout",
     "output_type": "stream",
     "text": [
      "[[1. 1. 1. 1.]\n",
      " [1. 1. 1. 1.]\n",
      " [1. 1. 1. 1.]]\n",
      "[[1. 1. 1.]\n",
      " [1. 1. 1.]\n",
      " [1. 1. 1.]]\n",
      "[[3.]\n",
      " [3.]\n",
      " [3.]]\n"
     ]
    }
   ],
   "source": [
    "# matrix tests (against corresponding C-code)\n",
    "import numpy as np\n",
    "\n",
    "h = np.array([[1.,1.,1.,1.], [1.,1.,1.,1.], [1.,1.,1.,1.]])\n",
    "dWz = np.array([[1.,1.,1.], [1.,1.,1.], [1.,1.,1.]])\n",
    "dz = np.array([[1.,1.,1.]])\n",
    "x = np.array([[1.],[1.],[1.]])\n",
    "\n",
    "print h\n",
    "print dWz\n",
    "print np.dot(dWz.T, x)"
   ]
  },
  {
   "cell_type": "code",
   "execution_count": 2,
   "metadata": {},
   "outputs": [
    {
     "data": {
      "text/plain": [
       "[(1, 'a', 1), (2, 'b', 2), (3, 'c', 3)]"
      ]
     },
     "execution_count": 2,
     "metadata": {},
     "output_type": "execute_result"
    }
   ],
   "source": [
    "zip([1,2,3], ['a', 'b', 'c'], [1,2,3])"
   ]
  },
  {
   "cell_type": "code",
   "execution_count": 3,
   "metadata": {},
   "outputs": [
    {
     "name": "stdout",
     "output_type": "stream",
     "text": [
      "                                                                                #                             \n",
      "                                                                                                              \n",
      "                                                                                                              \n",
      "                                                                       #  ##                                  \n",
      "                                                                     ###########                              \n",
      "                                                                    ############                              \n",
      "                                                                     ##########                               \n",
      "                                                            ##   # ############  # #   #                      \n",
      "                                                    ###### # ########################### #                    \n",
      "                                                    ####################################### #####             \n",
      "                                                     ###########################################              \n",
      "                                               ### ############################################ #             \n",
      "                                                ##################################################            \n",
      "                                             ########################################################         \n",
      "                      #        #              #####################################################           \n",
      "                     #### ####### #          #######################################################          \n",
      "                      ##################    #######################################################  #        \n",
      "                   ####################### #########################################################          \n",
      "                   ####################### ########################################################           \n",
      "             #### ################################################################################            \n",
      "#############################################################################################                 \n",
      "             #### ################################################################################            \n",
      "                   ####################### ########################################################           \n",
      "                   ####################### #########################################################          \n",
      "                      ##################    #######################################################  #        \n",
      "                     #### ####### #          #######################################################          \n",
      "                      #        #              #####################################################           \n",
      "                                             ########################################################         \n",
      "                                                ##################################################            \n",
      "                                               ### ############################################ #             \n",
      "                                                     ###########################################              \n",
      "                                                    ####################################### #####             \n",
      "                                                    ###### # ########################### #                    \n",
      "                                                            ##   # ############  # #   #                      \n",
      "                                                                     ##########                               \n",
      "                                                                    ############                              \n",
      "                                                                     ###########                              \n",
      "                                                                       #  ##                                  \n",
      "                                                                                                              \n",
      "                                                                                                              \n"
     ]
    }
   ],
   "source": [
    " \n",
    "import math\n",
    " \n",
    "def mandelbrot(z , c , n=40):\n",
    "    if abs(z) > 1000:\n",
    "        return float(\"nan\")\n",
    "    elif n > 0:\n",
    "        return mandelbrot(z ** 2 + c, c, n - 1) \n",
    "    else:\n",
    "        return z ** 2 + c\n",
    " \n",
    "print(\"\\n\".join([\"\".join([\"#\" if not math.isnan(mandelbrot(0, x + 1j * y).real) else \" \"\n",
    "                 for x in [a * 0.02 for a in range(-80, 30)]]) \n",
    "                 for y in [a * 0.05 for a in range(-20, 20)]])\n",
    "     )\n",
    " "
   ]
  },
  {
   "cell_type": "code",
   "execution_count": 4,
   "metadata": {},
   "outputs": [
    {
     "name": "stdout",
     "output_type": "stream",
     "text": [
      "n: 3 -> Sn: 0\n",
      "n: 12 -> Sn: 0\n",
      "n: 39 -> Sn: 0\n",
      "n: 120 -> Sn: 0\n",
      "n: 363 -> Sn: 0\n",
      "n: 1092 -> Sn: 0\n",
      "n: 3279 -> Sn: 0\n"
     ]
    }
   ],
   "source": [
    "# a series\n",
    "\n",
    "def sn(sn1, n):\n",
    "    if sn1<n:\n",
    "        return sn1+n\n",
    "    return sn1-n\n",
    "\n",
    "if __name__=='__main__':\n",
    "    sn1 = 1\n",
    "    for n in range(2,5000):\n",
    "        sn1 = sn(sn1,n)\n",
    "        if sn1 == 0:\n",
    "            print 'n: %d -> Sn: %d' % (n, sn1)"
   ]
  },
  {
   "cell_type": "code",
   "execution_count": 5,
   "metadata": {},
   "outputs": [
    {
     "name": "stdout",
     "output_type": "stream",
     "text": [
      "x: 1.666667 y: -0.666667 z: 1.000000 t: 1.000000\n",
      "x: 1.333333 y: -0.166667 z: 2.000000 t: 1.000000\n",
      "x: 0.833333 y: -0.333333 z: 2.000000 t: 2.000000\n",
      "x: 1.000000 y: 0.000000 z: 3.000000 t: 1.000000\n",
      "x: 0.555556 y: -0.222222 z: 3.000000 t: 3.000000\n",
      "x: 0.414634 y: -0.219512 z: 3.000000 t: 4.000000\n",
      "x: 0.777778 y: 0.055556 z: 4.000000 t: 1.000000\n",
      "x: 0.666667 y: -0.083333 z: 4.000000 t: 2.000000\n",
      "x: 0.529412 y: -0.147059 z: 4.000000 t: 3.000000\n",
      "x: 0.416667 y: -0.166667 z: 4.000000 t: 4.000000\n"
     ]
    }
   ],
   "source": [
    "# integer equations\n",
    "\n",
    "def xx(y,z,t):\n",
    "    return 3./z + 2.*t/z*yy(z,t)\n",
    "\n",
    "def yy(z,t):\n",
    "    return (z-3.*t)/(2*t*t+z*z)\n",
    "\n",
    "def eq1(z,t):\n",
    "    y = yy(z,t)\n",
    "    return xx(y,z,t)*z - 2.*y*t\n",
    "\n",
    "def eq2(z,t):\n",
    "    y = yy(z,t)\n",
    "    return xx(y,z,t)*t + y*z\n",
    "\n",
    "if __name__=='__main__':\n",
    "    for z in range(1,5):\n",
    "        for t in range(1,5):\n",
    "            if eq1(float(z),float(t))==3. and eq2(float(z),float(t))==1.:\n",
    "                y = yy(z,t)\n",
    "                x = xx(y,z,t)\n",
    "                print 'x: %f y: %f z: %f t: %f' % (x, y, z, t)"
   ]
  },
  {
   "cell_type": "code",
   "execution_count": 3,
   "metadata": {},
   "outputs": [
    {
     "name": "stdout",
     "output_type": "stream",
     "text": [
      "52.11775858521866\n",
      "52.11775858521867\n"
     ]
    }
   ],
   "source": [
    "import numpy as np\n",
    "\n",
    "def kahansum(a):\n",
    "    mysum = 0.0\n",
    "    c = 0.0                       # A running compensation for lost low-order bits.\n",
    "    for i in range(len(a)):\n",
    "        y = a[i] - c              # So far, so good: c is zero.\n",
    "        t = mysum + y             # Alas, sum is big, y small, so low-order digits of y are lost.\n",
    "        c = (t - mysum) - y       # (t - sum) cancels the high-order part of y; subtracting y recovers negative (low part of y)\n",
    "        mysum = t                 # Algebraically, c should always be zero. Beware overly-aggressive optimizing compilers!\n",
    "    return mysum\n",
    "\n",
    "if __name__=='__main__':\n",
    "    tarr = np.random.rand(100)\n",
    "    print kahansum(tarr)\n",
    "    print np.sum(tarr)"
   ]
  },
  {
   "cell_type": "code",
   "execution_count": null,
   "metadata": {},
   "outputs": [],
   "source": []
  }
 ],
 "metadata": {
  "kernelspec": {
   "display_name": "Python 2",
   "language": "python",
   "name": "python2"
  },
  "language_info": {
   "codemirror_mode": {
    "name": "ipython",
    "version": 2
   },
   "file_extension": ".py",
   "mimetype": "text/x-python",
   "name": "python",
   "nbconvert_exporter": "python",
   "pygments_lexer": "ipython2",
   "version": "2.7.15"
  }
 },
 "nbformat": 4,
 "nbformat_minor": 2
}
