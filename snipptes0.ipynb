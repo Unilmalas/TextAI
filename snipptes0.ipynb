{
 "cells": [
  {
   "cell_type": "code",
   "execution_count": 2,
   "metadata": {},
   "outputs": [
    {
     "name": "stdout",
     "output_type": "stream",
     "text": [
      "2, 3, 7\n",
      "['2', ' 3', ' 7']\n",
      "('2', ' 3', ' 7')\n"
     ]
    }
   ],
   "source": [
    "# accepts a sequence of comma-separated numbers from console and generate a list and a tuple\n",
    "\n",
    "values=raw_input() # get console input\n",
    "l=values.split(\",\") # split comma-separated input\n",
    "t=tuple(l) # turn list into a tuple\n",
    "print l\n",
    "print t"
   ]
  },
  {
   "cell_type": "code",
   "execution_count": 4,
   "metadata": {},
   "outputs": [
    {
     "name": "stdout",
     "output_type": "stream",
     "text": [
      "4,5,7\n",
      "4,4,5\n"
     ]
    }
   ],
   "source": [
    "import math\n",
    "c=50\n",
    "h=30\n",
    "value = []\n",
    "items=[x for x in raw_input().split(',')]\n",
    "for d in items:\n",
    "    value.append(str(int(round(math.sqrt(2*c*float(d)/h)))))\n",
    "\n",
    "print ','.join(value)"
   ]
  },
  {
   "cell_type": "code",
   "execution_count": 5,
   "metadata": {},
   "outputs": [
    {
     "name": "stdout",
     "output_type": "stream",
     "text": [
      "set(['Postcard', 'Telegram', 'Radio'])\n"
     ]
    }
   ],
   "source": [
    "print set([\"Postcard\", \"Radio\", \"Telegram\", \"Postcard\"])"
   ]
  },
  {
   "cell_type": "code",
   "execution_count": 6,
   "metadata": {},
   "outputs": [
    {
     "name": "stdout",
     "output_type": "stream",
     "text": [
      "1\n",
      "1\n",
      "2\n",
      "3\n"
     ]
    }
   ],
   "source": [
    "a = [1, 1, 2, 3, 5, 8, 13, 21, 34, 55, 89]\n",
    "for elem in a:\n",
    "    if elem < 5:\n",
    "        print elem"
   ]
  },
  {
   "cell_type": "code",
   "execution_count": 8,
   "metadata": {},
   "outputs": [
    {
     "name": "stdout",
     "output_type": "stream",
     "text": [
      "[4, 16, 36, 64, 100]\n"
     ]
    }
   ],
   "source": [
    "# list comprehensions\n",
    "a = [1, 4, 9, 16, 25, 36, 49, 64, 81, 100]\n",
    "evena = [elem for elem in a if elem % 2 == 0]\n",
    "print evena"
   ]
  },
  {
   "cell_type": "code",
   "execution_count": 10,
   "metadata": {},
   "outputs": [
    {
     "name": "stdout",
     "output_type": "stream",
     "text": [
      "[1, 2, 3, 5, 8, 13]\n"
     ]
    }
   ],
   "source": [
    "# returns a list that contains only the elements that are common between the lists w/o duplicates\n",
    "a = [1, 1, 2, 3, 5, 8, 13, 21, 34, 55, 89]\n",
    "b = [1, 2, 3, 4, 5, 6, 7, 8, 9, 10, 11, 12, 13]\n",
    "overlaplist = [elema for elema in set(a) for elemb in set(b) if elema == elemb]\n",
    "print overlaplist"
   ]
  },
  {
   "cell_type": "code",
   "execution_count": 11,
   "metadata": {},
   "outputs": [
    {
     "name": "stdout",
     "output_type": "stream",
     "text": [
      "[5, 25]\n"
     ]
    }
   ],
   "source": [
    "# makes a new list of only the first and last elements of the given list\n",
    "def lst_ends(a_list):\n",
    "    #return [elema for idx, elema in enumerate(a_list) if (idx == 0 or idx == len(a_list)-1)]\n",
    "    return [a_list[0], a_list[len(a_list)-1]]\n",
    "\n",
    "a = [5, 10, 15, 20, 25]\n",
    "print lst_ends(a)"
   ]
  },
  {
   "cell_type": "code",
   "execution_count": 12,
   "metadata": {},
   "outputs": [
    {
     "name": "stdout",
     "output_type": "stream",
     "text": [
      "['Michele', 'Sara', 'Robin']\n"
     ]
    }
   ],
   "source": [
    "# takes a list and returns a new list that contains all the elements of the first list minus all the duplicates\n",
    "def lst_nodup(a_list):\n",
    "    return list(set(a_list))\n",
    "\n",
    "names = [\"Michele\", \"Robin\", \"Sara\", \"Michele\"]\n",
    "print lst_nodup(names)"
   ]
  },
  {
   "cell_type": "code",
   "execution_count": 13,
   "metadata": {},
   "outputs": [
    {
     "name": "stdout",
     "output_type": "stream",
     "text": [
      "this is a test\n",
      "['test', 'a', 'is', 'this']\n",
      "test a is this\n"
     ]
    }
   ],
   "source": [
    "# words in backwards order\n",
    "def rev_lst(alist):\n",
    "    return list(reversed(alist))\n",
    "\n",
    "def rev_lst_str(astr):\n",
    "    return ' '.join(astr.split()[::-1]) # :: sequence slice addresses can be written as a[start:end:step], any may be omitted\n",
    "\n",
    "inpstr=raw_input() # get console input\n",
    "print rev_lst(inpstr.split(\" \"))\n",
    "print rev_lst_str(inpstr)"
   ]
  },
  {
   "cell_type": "code",
   "execution_count": 25,
   "metadata": {},
   "outputs": [
    {
     "name": "stdout",
     "output_type": "stream",
     "text": [
      "34534534fsdfsdfsd\n",
      "False\n"
     ]
    }
   ],
   "source": [
    "# password check\n",
    "def contdigi(s): # contains digits\n",
    "    for i in range(len(s)):\n",
    "        if s[i].isdigit():\n",
    "            return True\n",
    "    return False\n",
    "\n",
    "def contalph(s): # contains letters\n",
    "    for i in range(len(s)):\n",
    "        if s[i].isalpha():\n",
    "            return True\n",
    "    return False\n",
    "\n",
    "def contsymb(s): # contains symbols\n",
    "    valid_symbols = \"!@#$%^&*()_-+={}[]\"\n",
    "    for i in range(len(s)):\n",
    "        if s[i] in valid_symbols:\n",
    "            return True\n",
    "    return False\n",
    "\n",
    "def pwchk(pw):\n",
    "    if len(pw) < 8: # 1. check: length > 7\n",
    "        return False\n",
    "    if not contdigi(pw): # 2. check for digits\n",
    "        return False\n",
    "    if not contalph(pw): # 3. check for letters\n",
    "        return False\n",
    "    if not contsymb(pw): # 4. check for symbols\n",
    "        return False\n",
    "    return True\n",
    "\n",
    "pwinp=raw_input() # get console input\n",
    "print pwchk(pwinp)"
   ]
  },
  {
   "cell_type": "code",
   "execution_count": 1,
   "metadata": {},
   "outputs": [
    {
     "name": "stderr",
     "output_type": "stream",
     "text": [
      "D:\\Anaconda2\\lib\\site-packages\\bs4\\__init__.py:181: UserWarning: No parser was explicitly specified, so I'm using the best available HTML parser for this system (\"lxml\"). This usually isn't a problem, but if you run this code on another system, or in a different virtual environment, it may use a different parser and behave differently.\n",
      "\n",
      "The code that caused this warning is on line 174 of the file D:\\Anaconda2\\lib\\runpy.py. To get rid of this warning, change code that looks like this:\n",
      "\n",
      " BeautifulSoup(YOUR_MARKUP})\n",
      "\n",
      "to this:\n",
      "\n",
      " BeautifulSoup(YOUR_MARKUP, \"lxml\")\n",
      "\n",
      "  markup_type=markup_type))\n"
     ]
    }
   ],
   "source": [
    "# Use the BeautifulSoup and requests Python packages to print out a list of all the article titles on the NY Times homepage\n",
    "import requests\n",
    "from bs4 import BeautifulSoup\n",
    " \n",
    "base_url = 'http://www.nytimes.com'\n",
    "r = requests.get(base_url)\n",
    "soup = BeautifulSoup(r.text)\n",
    " \n",
    "for story_heading in soup.find_all(class_=\"story-heading\"): \n",
    "    if story_heading.a: \n",
    "        print(story_heading.a.text.replace(\"\\n\", \" \").strip())\n",
    "    else: \n",
    "        print(story_heading.contents[0].strip())"
   ]
  },
  {
   "cell_type": "code",
   "execution_count": 9,
   "metadata": {},
   "outputs": [
    {
     "name": "stdout",
     "output_type": "stream",
     "text": [
      "Your guess: 1234\n",
      "cows: 1, bulls: 0 truth: 5084\n"
     ]
    }
   ],
   "source": [
    "# “cows and bulls” game\n",
    "from random import *\n",
    "\n",
    "def cowbull(nchk, ntru):\n",
    "    cows = 0\n",
    "    bulls = 0\n",
    "    snchk = str(nchk)\n",
    "    sntru = str(ntru)\n",
    "    for ic in range(len(snchk)):\n",
    "        for it in range(len(sntru)):\n",
    "            if snchk[ic] == sntru[it]:\n",
    "                if ic == it:\n",
    "                    cows += 1\n",
    "                else:\n",
    "                    bulls +=1\n",
    "    return 'cows: ' + str(cows) + ', bulls: ' + str(bulls) + ' truth: ' + str(ntru)\n",
    "\n",
    "if __name__==\"__main__\":\n",
    "    ntoguess = randint(1000, 9999)\n",
    "    \n",
    "    unum = 0\n",
    "    while unum < 1000 or unum > 9999:\n",
    "        unum = input(\"Your guess: \") # get console input\n",
    "    \n",
    "    print cowbull(unum, ntoguess)"
   ]
  },
  {
   "cell_type": "code",
   "execution_count": 1,
   "metadata": {},
   "outputs": [
    {
     "name": "stdout",
     "output_type": "stream",
     "text": [
      "False\n",
      "True\n"
     ]
    }
   ],
   "source": [
    "# decides whether or not the given number is inside the list\n",
    "def binarySearch(alist, item):\n",
    "    first = 0\n",
    "    last = len(alist)-1\n",
    "    found = False\n",
    "\n",
    "    while first<=last and not found:\n",
    "        midpoint = (first + last)//2 # // is a floor-division\n",
    "        if alist[midpoint] == item:\n",
    "            found = True\n",
    "        else:\n",
    "            if item < alist[midpoint]:\n",
    "                last = midpoint-1\n",
    "            else:\n",
    "                first = midpoint+1\n",
    "    return found\n",
    "\n",
    "testlist = [0, 1, 2, 8, 13, 17, 19, 32, 42,]\n",
    "print(binarySearch(testlist, 3))\n",
    "print(binarySearch(testlist, 13))"
   ]
  },
  {
   "cell_type": "code",
   "execution_count": 4,
   "metadata": {},
   "outputs": [
    {
     "name": "stdout",
     "output_type": "stream",
     "text": [
      " --- --- --- \n",
      "|   |   |   |\n",
      " --- --- --- \n",
      "|   |   |   |\n",
      " --- --- --- \n",
      "|   |   |   |\n",
      " --- --- --- \n",
      "\n"
     ]
    }
   ],
   "source": [
    "# draw a game grid\n",
    "def drawgrid():\n",
    "    print(\" --- --- --- \")\n",
    "    print(\"|   |   |   |\")\n",
    "    print(\" --- --- --- \")\n",
    "    print(\"|   |   |   |\")\n",
    "    print(\" --- --- --- \")\n",
    "    print(\"|   |   |   |\")\n",
    "    print(\" --- --- --- \")\n",
    "    return \"\"\n",
    "\n",
    "if __name__==\"__main__\":\n",
    "    print drawgrid()"
   ]
  },
  {
   "cell_type": "code",
   "execution_count": 6,
   "metadata": {},
   "outputs": [
    {
     "name": "stdout",
     "output_type": "stream",
     "text": [
      "aabcaa\n",
      "False\n"
     ]
    }
   ],
   "source": [
    "# Ask the user for a string and print out whether this string is a palindrome or not\n",
    "def chkpalind(cstr):\n",
    "    lenstr = len(cstr)\n",
    "    if lenstr == 0:\n",
    "        return False\n",
    "    i = 1\n",
    "    for c in cstr[0:lenstr//2:1]:\n",
    "        if c != cstr[lenstr-i]:\n",
    "            return False\n",
    "        i += 1\n",
    "    return True\n",
    "\n",
    "if __name__==\"__main__\":\n",
    "    strinp=raw_input() # get console input\n",
    "    print chkpalind(strinp)"
   ]
  },
  {
   "cell_type": "code",
   "execution_count": 3,
   "metadata": {},
   "outputs": [
    {
     "name": "stdout",
     "output_type": "stream",
     "text": [
      "5\n"
     ]
    }
   ],
   "source": [
    "# Find the last element of a list\n",
    "def lastlist(lst):\n",
    "    return lst[len(lst)-1]\n",
    "\n",
    "if __name__==\"__main__\":\n",
    "    print lastlist([0,1,2,3,4,5])"
   ]
  },
  {
   "cell_type": "code",
   "execution_count": 37,
   "metadata": {},
   "outputs": [
    {
     "name": "stdout",
     "output_type": "stream",
     "text": [
      "[0, 1, 2, 3, 4, 5, 6, [7], 8, 9]\n"
     ]
    }
   ],
   "source": [
    "# Flatten a nested list structure (but only one depth here, not arbitrary depth)\n",
    "def flatlist(lst):\n",
    "    lstlst = []\n",
    "    for item in lst: # first need to convert all elements to list items otherwise comprehension fails\n",
    "        if isinstance(item, list):\n",
    "            lstlst.append(item)\n",
    "        else:\n",
    "            lstlst.append([item])\n",
    "    return [item for sublist in lstlst for item in sublist] # sublist is the outer iterable, item the inner\n",
    "\n",
    "if __name__==\"__main__\":\n",
    "    print flatlist([0, [1,2,3],[4,5,6], [[7]], [8,9]])"
   ]
  },
  {
   "cell_type": "code",
   "execution_count": 1,
   "metadata": {},
   "outputs": [
    {
     "name": "stdout",
     "output_type": "stream",
     "text": [
      "[2, 3, 5, 7, 11, 13, 17, 19, 23, 29, 31, 37, 41, 43, 47]\n"
     ]
    }
   ],
   "source": [
    "noprimes = [j for i in range(2, 8) for j in range(i*2, 50, i)]\n",
    "primes = [x for x in range(2, 50) if x not in noprimes]\n",
    "print primes"
   ]
  },
  {
   "cell_type": "code",
   "execution_count": 20,
   "metadata": {},
   "outputs": [
    {
     "name": "stdout",
     "output_type": "stream",
     "text": [
      "[0, 1, 2, 3, 4, 5, 6, 7, 8, 9]\n"
     ]
    }
   ],
   "source": [
    "# Flatten a nested list structure arbitrary depth\n",
    "def flatlist(lst):\n",
    "    lstlst = []\n",
    "    # return [item for sublist in lstlst for item in sublist] # sublist is the outer iterable, item the inner\n",
    "    for item in lst:\n",
    "        if isinstance(item, list):\n",
    "            lstlst += flatlist(item)\n",
    "        else:\n",
    "            lstlst.append(item)\n",
    "    return lstlst\n",
    "\n",
    "if __name__==\"__main__\":\n",
    "    print flatlist([0, [1,2,3],[4,[5,6]], [[7]], [8,9]])"
   ]
  },
  {
   "cell_type": "code",
   "execution_count": 4,
   "metadata": {},
   "outputs": [
    {
     "name": "stdout",
     "output_type": "stream",
     "text": [
      "[0, 1, 2, 3, 4, 5, 6, 7, 8]\n"
     ]
    }
   ],
   "source": [
    "# Eliminate consecutive duplicates of list elements\n",
    "def rmdups(lst):\n",
    "    lstlst = []\n",
    "    firstrun = True\n",
    "    previtem = lst[0]\n",
    "    for item in lst:\n",
    "        if item != previtem or firstrun:\n",
    "            lstlst.append(item)\n",
    "            firstrun = False\n",
    "        previtem = item\n",
    "    return lstlst\n",
    "\n",
    "if __name__==\"__main__\":\n",
    "    print rmdups([0,1,1,2,2,2,3,4,5,5,6,7,8,8])"
   ]
  },
  {
   "cell_type": "code",
   "execution_count": 11,
   "metadata": {},
   "outputs": [
    {
     "name": "stdout",
     "output_type": "stream",
     "text": [
      "[[0], [1, 1], [2, 2, 2], [3], [4], [5, 5], [6], [7], [8, 8]]\n"
     ]
    }
   ],
   "source": [
    "# Pack consecutive duplicates of list elements into sublists\n",
    "def pack(lst):\n",
    "    lstlst = []\n",
    "    sublst = []\n",
    "    previtem = lst[0]\n",
    "    for item in lst:\n",
    "        if item != previtem:\n",
    "            lstlst.append(sublst)\n",
    "            sublst = []\n",
    "        sublst.append(item)\n",
    "        previtem = item\n",
    "    lstlst.append(sublst)\n",
    "    return lstlst\n",
    "\n",
    "if __name__==\"__main__\":\n",
    "    print pack([0,1,1,2,2,2,3,4,5,5,6,7,8,8])"
   ]
  },
  {
   "cell_type": "code",
   "execution_count": 12,
   "metadata": {},
   "outputs": [
    {
     "name": "stdout",
     "output_type": "stream",
     "text": [
      "[[1, 0], [2, 1], [3, 2], [1, 3], [1, 4], [2, 5], [1, 6], [1, 7], [2, 8]]\n"
     ]
    }
   ],
   "source": [
    "# Run-length encoding of a list\n",
    "def rlencode(lst):\n",
    "    lstlst = []\n",
    "    sublst = []\n",
    "    previtem = lst[0]\n",
    "    for item in lst:\n",
    "        if item != previtem:\n",
    "            lstlst.append(sublst)\n",
    "            sublst = []\n",
    "        sublst.append(item)\n",
    "        previtem = item\n",
    "    lstlst.append(sublst)\n",
    "    lst = []    \n",
    "    for item in lstlst:\n",
    "        lst.append([len(item), item[0]])\n",
    "    return lst\n",
    "\n",
    "if __name__==\"__main__\":\n",
    "    print rlencode([0,1,1,2,2,2,3,4,5,5,6,7,8,8])"
   ]
  },
  {
   "cell_type": "code",
   "execution_count": 2,
   "metadata": {},
   "outputs": [
    {
     "name": "stdout",
     "output_type": "stream",
     "text": [
      "[0, [2, 1], [3, 2], 3, 4, [2, 5], 6, 7, [2, 8]]\n"
     ]
    }
   ],
   "source": [
    "# Run-length encoding of a list modified (just one element: no encoding)\n",
    "def rlencodem(lst):\n",
    "    lstlst = []\n",
    "    sublst = []\n",
    "    previtem = lst[0]\n",
    "    for item in lst:\n",
    "        if item != previtem:\n",
    "            lstlst.append(sublst)\n",
    "            sublst = []\n",
    "        sublst.append(item)\n",
    "        previtem = item\n",
    "    lstlst.append(sublst)\n",
    "    lst = []    \n",
    "    for item in lstlst:\n",
    "        if len(item) > 1:\n",
    "            lst.append([len(item), item[0]])\n",
    "        else:\n",
    "            lst += item;\n",
    "    return lst\n",
    "\n",
    "if __name__==\"__main__\":\n",
    "    print rlencodem([0,1,1,2,2,2,3,4,5,5,6,7,8,8])"
   ]
  },
  {
   "cell_type": "code",
   "execution_count": 3,
   "metadata": {},
   "outputs": [
    {
     "name": "stdout",
     "output_type": "stream",
     "text": [
      "[0, 1, 1, 2, 2, 2, 3, 4, 5, 5, 6, 7, 8, 8]\n"
     ]
    }
   ],
   "source": [
    "# Decode a run-length encoded list (modified version), return uncompressed list\n",
    "def rlendecodem(lst):\n",
    "    lstlst = []\n",
    "    for item in lst:\n",
    "        if isinstance(item, list):\n",
    "            for i in range(0,item[0]):\n",
    "                lstlst.append(item[1])\n",
    "        else:\n",
    "            lstlst.append(item)\n",
    "    return lstlst\n",
    "\n",
    "if __name__==\"__main__\":\n",
    "    print rlendecodem([0, [2, 1], [3, 2], 3, 4, [2, 5], 6, 7, [2, 8]])"
   ]
  },
  {
   "cell_type": "code",
   "execution_count": 20,
   "metadata": {},
   "outputs": [
    {
     "name": "stdout",
     "output_type": "stream",
     "text": [
      "[0, [2, 1], [3, 2], 3, 4, [2, 5], 6, 7, [2, 8]]\n"
     ]
    }
   ],
   "source": [
    "# Run-length encoding of a list modified, direct (don't explicitly create the sublists)\n",
    "def rlencodemd(lst):\n",
    "    lstlst = []\n",
    "    previtem = None # just declare, no value\n",
    "    slctr = 0\n",
    "    firstrun = True\n",
    "    for item in lst:\n",
    "        if not firstrun:\n",
    "            if item != previtem:\n",
    "                if slctr == 0:\n",
    "                    lstlst.append(previtem)\n",
    "                else:\n",
    "                    lstlst.append([slctr+1,previtem])\n",
    "                slctr = 0\n",
    "            else:\n",
    "                slctr += 1\n",
    "        previtem = item\n",
    "        firstrun = False\n",
    "    if item == previtem: # need to handle multiple end items\n",
    "        if slctr == 0:\n",
    "            lstlst.append(previtem)\n",
    "        else:\n",
    "            lstlst.append([slctr+1,previtem])\n",
    "    return lstlst\n",
    "\n",
    "if __name__==\"__main__\":\n",
    "    print rlencodemd([0,1,1,2,2,2,3,4,5,5,6,7,8,8])"
   ]
  },
  {
   "cell_type": "code",
   "execution_count": 9,
   "metadata": {},
   "outputs": [
    {
     "name": "stdout",
     "output_type": "stream",
     "text": [
      "10\n",
      "29.2896825397\n"
     ]
    }
   ],
   "source": [
    "# n-th harmonic number Hn = sum k=1 to n of 1/k\n",
    "def harmonic(n):\n",
    "    if n < 1: return -1\n",
    "    h0 = 0\n",
    "    for k in range(1,n+1):\n",
    "        h0 += 1.0 / k\n",
    "    return h0\n",
    "\n",
    "# n * Hn (coupon collectors problem)\n",
    "def nharmonic(n):\n",
    "    if n < 1: return -1\n",
    "    h0 = 0\n",
    "    for k in range(1,n+1):\n",
    "        h0 += 1.0 / k\n",
    "    return n * h0\n",
    "\n",
    "if __name__==\"__main__\":\n",
    "    nh=int(raw_input()) # get console input\n",
    "    print nharmonic(nh)"
   ]
  },
  {
   "cell_type": "code",
   "execution_count": 15,
   "metadata": {},
   "outputs": [
    {
     "name": "stdout",
     "output_type": "stream",
     "text": [
      "Thomas Mann\n",
      "\n",
      "Der Tod in Venedig\n",
      "\n",
      "Erstes Kapitel\n",
      "\n",
      "\n",
      "Gustav Aschenbach oder von Aschenbach, wie seit seinem fünfzigsten\n",
      "Geburtstag amtlich sein Name lautete, hatte an einem\n",
      "Frühlingsnachmittag des Jahres 19.., das unserem Kontinent monatelang\n",
      "eine so gefahrdrohende Miene zeigte, von seiner Wohnung in der\n",
      "Prinz-Regentenstraße zu München aus, allein einen weiteren Spaziergang\n",
      "unternommen. Überreizt von der schwierigen und gefährlichen, eben\n",
      "jetzt eine höchste Behutsamkeit, Umsicht, Eindringlichkeit und\n",
      "Genauigkeit des Willens erfordernden Arbeit der Vormittagsstunden,\n",
      "hatte der Schriftsteller dem Fortschwingen des produzierenden\n",
      "Triebwerks in seinem Innern, jenem »motus animi continuus«, worin\n",
      "nach Cicero das Wesen der Beredsamkeit besteht, auch nach der\n",
      "Mittagsmahlzeit nicht Einhalt zu tun vermocht und den entlastenden\n",
      "Schlummer nicht gefunden, der ihm, bei zunehmender Abnutzbarkeit\n",
      "seiner Kräfte, einmal untertags so nötig war. So hatte er bald nach\n",
      "dem Tee das Freie gesucht, in der Hoffnung, daß Luft\n"
     ]
    }
   ],
   "source": [
    "# read a large text file, line by line\n",
    "import os\n",
    "\n",
    "def read1k():\n",
    "    return f.read(1024)\n",
    "\n",
    "def process_data(chunk, ctr):\n",
    "    #print('processed: {0}'.format(ctr))\n",
    "    if ctr < 1:\n",
    "        print chunk\n",
    "    \n",
    "if __name__==\"__main__\":\n",
    "    \n",
    "    os.chdir('C:\\Users\\Bernie\\Documents\\ML4D\\lrgtxt0')\n",
    "    f = open('todinvenedig.txt')\n",
    "    \n",
    "    ctr = 0\n",
    "    for piece in iter(read1k, ''):\n",
    "        process_data(piece, ctr)\n",
    "        ctr += 1"
   ]
  },
  {
   "cell_type": "code",
   "execution_count": 18,
   "metadata": {},
   "outputs": [
    {
     "name": "stdout",
     "output_type": "stream",
     "text": [
      "[['key2', 2], ['key1', 1], ['key0', 0]]\n"
     ]
    }
   ],
   "source": [
    "# dictionary to list\n",
    "mydict = {'key0': 0, 'key1': 1, 'key2': 2}\n",
    "dictlist = []\n",
    "\n",
    "for key, value in mydict.iteritems():\n",
    "    temp = [key,value]\n",
    "    dictlist.append(temp)\n",
    "\n",
    "print dictlist"
   ]
  },
  {
   "cell_type": "code",
   "execution_count": 8,
   "metadata": {},
   "outputs": [
    {
     "name": "stdout",
     "output_type": "stream",
     "text": [
      "[0, 0, 0, 1, 1, 1, 2, 2, 2, 3, 3, 3, 4, 4, 4, 5, 5, 5]\n"
     ]
    }
   ],
   "source": [
    "# Duplicate the elements of a list a given time\n",
    "def dupelem(lst, k):\n",
    "    lstlst = []\n",
    "    for elem in lst:\n",
    "        for i in range(k):\n",
    "            lstlst.append(elem)\n",
    "    return lstlst\n",
    "\n",
    "if __name__==\"__main__\":\n",
    "    print dupelem([0,1,2,3,4,5], 3)"
   ]
  },
  {
   "cell_type": "code",
   "execution_count": 16,
   "metadata": {},
   "outputs": [
    {
     "name": "stdout",
     "output_type": "stream",
     "text": [
      "[0, 1, 3, 4]\n"
     ]
    }
   ],
   "source": [
    "# Drop every N'th element from a list\n",
    "def drop(lst, k):\n",
    "    if k > len(lst): return []\n",
    "    lstlst = []\n",
    "    i = 1\n",
    "    for elem in lst:\n",
    "        if i % k != 0:\n",
    "            lstlst.append(elem)\n",
    "        i += 1\n",
    "    return lstlst\n",
    "\n",
    "if __name__==\"__main__\":\n",
    "    print drop([0,1,2,3,4,5], 3)"
   ]
  },
  {
   "cell_type": "code",
   "execution_count": 22,
   "metadata": {},
   "outputs": [
    {
     "name": "stdout",
     "output_type": "stream",
     "text": [
      "[0, 1]\n"
     ]
    }
   ],
   "source": [
    "# Split a list into two parts; the length of the first part is given\n",
    "def split(lst, l):\n",
    "    if l >= len(lst): return []\n",
    "    lstlst = []\n",
    "    i = 0\n",
    "    for elem in range(l):\n",
    "        lstlst.append(elem)\n",
    "        i += 1\n",
    "        if i == l: return lstlst\n",
    "\n",
    "if __name__==\"__main__\":\n",
    "    print split([0,1,2,3,4,5], 2)"
   ]
  },
  {
   "cell_type": "code",
   "execution_count": 9,
   "metadata": {},
   "outputs": [
    {
     "name": "stdout",
     "output_type": "stream",
     "text": [
      "True\n"
     ]
    }
   ],
   "source": [
    "# check a code for the prefix property\n",
    "# e.g. {9,55} has the prefix property, {9,5,59,55} not (5 is a prefix of 59 and 55)\n",
    "def prefcode(code):\n",
    "    for pref in code:\n",
    "        if len([elem for elem in code if pref == elem[0:len(pref)]]) > 1:\n",
    "            return False\n",
    "    return True\n",
    "\n",
    "if __name__==\"__main__\":\n",
    "    print prefcode(['1','22','83','4','94','75'])"
   ]
  },
  {
   "cell_type": "code",
   "execution_count": 21,
   "metadata": {},
   "outputs": [
    {
     "name": "stdout",
     "output_type": "stream",
     "text": [
      "[[0, 1], [0, 2], [1, 2]]\n"
     ]
    }
   ],
   "source": [
    "# Generate the combinations of K distinct objects chosen from the N elements of a list\n",
    "def comb0(spots, elems):\n",
    "    if spots == 0: return [[]]\n",
    "    if elems == []: return []\n",
    "    print('elems[:1] = {0} elems = {1}'.format(elems[:1], elems))\n",
    "    print('  comb0(spots-1, elems[1:]) = {0} comb0(spots, elems[1:]) = {1}'.format(comb0(spots-1, elems[1:]), comb0(spots, elems[1:])))\n",
    "    return [elems[:1] + a for a in comb0(spots-1, elems[1:])] + comb0(spots, elems[1:])\n",
    "\n",
    "def comb1(spots, elems):\n",
    "    if spots == 0: return [[]]\n",
    "    return [[x] + suffix for i, x in enumerate(elems) # enumerate adds a counter to an iterable, produces a tupel\n",
    "            for suffix in comb1(spots - 1, elems[i + 1:])]\n",
    "\n",
    "def comb2(spots, elems): # illustrative version: elems just a range (for arbitrary elements: use enumerate)\n",
    "    if spots == 0: return [[]]\n",
    "    # take element x from elemnts and combine with every list returned from next iteration (one spot less, elems from x+1)\n",
    "    return [[x] + y for x in elems for y in comb2(spots - 1, elems[x + 1:])]\n",
    "\n",
    "if __name__==\"__main__\":\n",
    "    print comb2(2, range(3))"
   ]
  },
  {
   "cell_type": "code",
   "execution_count": 6,
   "metadata": {},
   "outputs": [
    {
     "data": {
      "text/plain": [
       "215"
      ]
     },
     "execution_count": 6,
     "metadata": {},
     "output_type": "execute_result"
    }
   ],
   "source": [
    "23+48-3*17+22*(47-38)-(3+12)/5"
   ]
  },
  {
   "cell_type": "code",
   "execution_count": 15,
   "metadata": {},
   "outputs": [
    {
     "name": "stdout",
     "output_type": "stream",
     "text": [
      "[[(0, 1), 6], [(0, 1), 7], [(0, 1), 8], [(1, 2), 6], [(1, 2), 7], [(1, 2), 8], [(2, 3), 6], [(2, 3), 7], [(2, 3), 8], [(3, 4), 6], [(3, 4), 7], [(3, 4), 8], [(4, 5), 6], [(4, 5), 7], [(4, 5), 8]]\n"
     ]
    }
   ],
   "source": [
    "elems = [1,2,3,4,5]\n",
    "b = [6,7,8]\n",
    "print [[x] + [suffix] for x in enumerate(elems) for suffix in b]\n",
    "#print [x for x in enumerate(elems)]\n",
    "#print [x for x in elems]\n",
    "#print [x for i, x in elems]"
   ]
  },
  {
   "cell_type": "code",
   "execution_count": 23,
   "metadata": {},
   "outputs": [
    {
     "name": "stdout",
     "output_type": "stream",
     "text": [
      "[[1, 6], [1, 7], [1, 8], [2, 6], [2, 7], [2, 8], [3, 6], [3, 7], [3, 8], [4, 6], [4, 7], [4, 8], [5, 6], [5, 7], [5, 8]]\n",
      "[3, 4, 5]\n",
      "[2, 3, 4, 5]\n"
     ]
    }
   ],
   "source": [
    "elems = [1,2,3,4,5]\n",
    "b = [6,7,8]\n",
    "print [[x] + [y] for x in elems for y in b] # comprehensions [ ... for (outer or slow-running var) for (inner/fast var))]\n",
    "print elems[1 + 1:]\n",
    "print elems[1:]"
   ]
  },
  {
   "cell_type": "code",
   "execution_count": 3,
   "metadata": {
    "collapsed": true
   },
   "outputs": [],
   "source": [
    "# auto operations test\n",
    "import pyautogui as pauto\n",
    "\n",
    "pauto.click(10, 5)"
   ]
  },
  {
   "cell_type": "code",
   "execution_count": 1,
   "metadata": {},
   "outputs": [
    {
     "name": "stdout",
     "output_type": "stream",
     "text": [
      "dogs\n"
     ]
    }
   ],
   "source": [
    "import re\n",
    "\n",
    "line = 'these are my dogs and cats'\n",
    "val = 'dogs'\n",
    "matchObj = re.search( val, line, re.M|re.I)\n",
    "print matchObj.group()"
   ]
  },
  {
   "cell_type": "code",
   "execution_count": 6,
   "metadata": {},
   "outputs": [
    {
     "name": "stdout",
     "output_type": "stream",
     "text": [
      "[[ 0.  1.  0.  0.]\n",
      " [ 1.  0.  0.  0.]\n",
      " [ 0.  0.  0. -1.]\n",
      " [ 0.  0.  1.  0.]]\n",
      "[[ 3.          0.          0.          0.          0.        ]\n",
      " [ 0.          2.23606798  0.          0.          0.        ]\n",
      " [ 0.          0.          2.          0.          0.        ]\n",
      " [ 0.          0.          0.          0.          0.        ]]\n",
      "[[-0.          0.          1.          0.          0.        ]\n",
      " [ 0.4472136   0.          0.          0.          0.89442719]\n",
      " [-0.          1.          0.          0.          0.        ]\n",
      " [ 0.          0.          0.          1.          0.        ]\n",
      " [-0.89442719  0.          0.          0.          0.4472136 ]]\n",
      "[[1 0 0 0 2]\n",
      " [0 0 3 0 0]\n",
      " [0 0 0 0 0]\n",
      " [0 2 0 0 0]]\n",
      "[[ 1.  0.  0.  0.  2.]\n",
      " [ 0.  0.  3.  0.  0.]\n",
      " [ 0.  0.  0.  0.  0.]\n",
      " [ 0.  2.  0.  0.  0.]]\n"
     ]
    }
   ],
   "source": [
    "import numpy as np\n",
    "from scipy import linalg\n",
    "\n",
    "A = np.matrix([[1, 0, 0, 0, 2], [0, 0, 3, 0, 0], [0, 0, 0, 0, 0], [0, 2, 0, 0, 0]])\n",
    "\n",
    "#print A\n",
    "\n",
    "U, s, Vh = linalg.svd(A, overwrite_a=True)\n",
    "sc = np.matrix(s)\n",
    "#print sc\n",
    "sc = np.append(np.diagflat(sc), [[0],[0],[0],[0]], axis=1)\n",
    "\n",
    "print U\n",
    "print sc\n",
    "print Vh\n",
    "\n",
    "print A\n",
    "\n",
    "print U*sc*Vh"
   ]
  },
  {
   "cell_type": "code",
   "execution_count": 16,
   "metadata": {},
   "outputs": [
    {
     "data": {
      "text/plain": [
       "matrix([[1, 0, 0, 0, 2, 1],\n",
       "        [0, 0, 3, 0, 0, 1],\n",
       "        [0, 0, 0, 0, 0, 1],\n",
       "        [0, 2, 0, 0, 0, 1]])"
      ]
     },
     "execution_count": 16,
     "metadata": {},
     "output_type": "execute_result"
    }
   ],
   "source": [
    "import numpy as np\n",
    "\n",
    "A = np.matrix([[1, 0, 0, 0, 2], [0, 0, 3, 0, 0], [0, 0, 0, 0, 0], [0, 2, 0, 0, 0]])\n",
    "A = np.append(A, [[1],[1],[1],[1]],axis=1)\n",
    "A"
   ]
  },
  {
   "cell_type": "code",
   "execution_count": 9,
   "metadata": {},
   "outputs": [
    {
     "name": "stdout",
     "output_type": "stream",
     "text": [
      "[[ 0.70710678  0.70710678]\n",
      " [ 0.70710678 -0.70710678]]\n",
      "[[ 8.94427191  0.        ]\n",
      " [ 0.          4.47213595]]\n",
      "[[ 0.31622777  0.9486833 ]\n",
      " [ 0.9486833  -0.31622777]]\n"
     ]
    },
    {
     "data": {
      "text/plain": [
       "array([[ 5.,  5.],\n",
       "       [-1.,  7.]])"
      ]
     },
     "execution_count": 9,
     "metadata": {},
     "output_type": "execute_result"
    }
   ],
   "source": [
    "import numpy as np\n",
    "from scipy import linalg\n",
    "\n",
    "A = np.matrix([[5, 5], [-1, 7]])\n",
    "\n",
    "#print A\n",
    "\n",
    "U, s, Vh = linalg.svd(A, overwrite_a=True, full_matrices=False)\n",
    "#sc = np.matrix(s)\n",
    "#print sc\n",
    "#sc = np.append(np.diagflat(sc), [[0],[0]], axis=1)\n",
    "#sc = np.append(np.diagflat(sc), np.zeros((A.shape[0],1)), axis=1)\n",
    "sc = np.diag(s)\n",
    "\n",
    "print U\n",
    "print sc\n",
    "print Vh\n",
    "\n",
    "#np.allclose(A, np.dot(U, np.dot(sc, Vh)))\n",
    "np.dot(U, np.dot(sc, Vh))"
   ]
  },
  {
   "cell_type": "code",
   "execution_count": 19,
   "metadata": {},
   "outputs": [
    {
     "name": "stdout",
     "output_type": "stream",
     "text": [
      "-9\n",
      "4\n",
      "0.1\n",
      "-1.2\n",
      "0.1\n",
      "-1.2\n",
      "1.6\n",
      "12.8\n"
     ]
    }
   ],
   "source": [
    "\n",
    "def gleichung(x):\n",
    "    return 13 * x - 8\n",
    "\n",
    "ergebnis = 14\n",
    "probwert = 1\n",
    "\n",
    "abstand = gleichung(probwert) - ergebnis\n",
    "print abstand\n",
    "if (abstand < 0):\n",
    "    probwert += 1\n",
    "else:\n",
    "    probwert -= 1\n",
    "abstand = gleichung(probwert) - ergebnis\n",
    "print abstand\n",
    "if (abstand < 0):\n",
    "    probwert += 0.3\n",
    "else:\n",
    "    probwert -= 0.3\n",
    "abstand = gleichung(probwert) - ergebnis\n",
    "print abstand\n",
    "if (abstand < 0):\n",
    "    probwert += 0.1\n",
    "else:\n",
    "    probwert -= 0.1\n",
    "abstand = gleichung(probwert) - ergebnis\n",
    "print abstand\n",
    "if (abstand < 0):\n",
    "    probwert += 0.1\n",
    "else:\n",
    "    probwert -= 0.1\n",
    "abstand = gleichung(probwert) - ergebnis\n",
    "print abstand\n",
    "if (abstand < 0):\n",
    "    probwert += 0.1\n",
    "else:\n",
    "    probwert -= 0.1\n",
    "abstand = gleichung(probwert) - ergebnis\n",
    "print abstand\n",
    "print probwert\n",
    "print gleichung(probwert)"
   ]
  },
  {
   "cell_type": "code",
   "execution_count": 22,
   "metadata": {},
   "outputs": [
    {
     "name": "stdout",
     "output_type": "stream",
     "text": [
      "1.69411234237\n",
      "14.0234604508\n"
     ]
    }
   ],
   "source": [
    "# Gleichung lösen näherungsweise\n",
    "\n",
    "def sign(x):\n",
    "    if x > 0:\n",
    "        return 1.\n",
    "    elif x < 0:\n",
    "        return -1.\n",
    "    elif x == 0:\n",
    "        return 0.\n",
    "    else:\n",
    "        return x\n",
    "\n",
    "def gleichung(x):\n",
    "    return 13. * x - 8.\n",
    "\n",
    "ergebnis = 14.\n",
    "\n",
    "probwert = 1.\n",
    "abstand = 1000.\n",
    "altabst = 1000.\n",
    "richtung = 1.\n",
    "schritt = 1.\n",
    "\n",
    "while abs(abstand) > 0.01:\n",
    "    abstand = gleichung(probwert) - ergebnis\n",
    "    if (abs(abstand) > abs(altabst)):\n",
    "        richtung *= -1\n",
    "    else:\n",
    "        schritt *= 0.66\n",
    "    probwert += schritt * richtung\n",
    "    altabst = abstand\n",
    "    \n",
    "print probwert\n",
    "print gleichung(probwert)"
   ]
  },
  {
   "cell_type": "code",
   "execution_count": 3,
   "metadata": {},
   "outputs": [
    {
     "data": {
      "image/png": "[encoded data removed]",
      "text/plain": [
       "<matplotlib.figure.Figure at 0x475c4e0>"
      ]
     },
     "metadata": {},
     "output_type": "display_data"
    }
   ],
   "source": [
    "import numpy as np\n",
    "import matplotlib.pyplot as plt\n",
    "\n",
    "# evenly sampled time at 200ms intervals\n",
    "t = np.arange(0., 5., 0.2)\n",
    "\n",
    "# red dashes, blue squares and green triangles\n",
    "plt.plot(t, t, 'r--', t, t**2, 'bs', t, t**3, 'g^')\n",
    "plt.show()"
   ]
  },
  {
   "cell_type": "code",
   "execution_count": 5,
   "metadata": {},
   "outputs": [
    {
     "data": {
      "image/png": "[encoded data removed]",
      "text/plain": [
       "<matplotlib.figure.Figure at 0x85bef60>"
      ]
     },
     "metadata": {},
     "output_type": "display_data"
    }
   ],
   "source": [
    "# update a distribution based on new data.\n",
    "import numpy as np\n",
    "import matplotlib.pyplot as plt\n",
    "import scipy.stats as ss\n",
    "from matplotlib.animation import FuncAnimation\n",
    "\n",
    "class UpdateDist(object):\n",
    "    def __init__(self, ax, prob=0.5):\n",
    "        self.success = 0\n",
    "        self.prob = prob\n",
    "        self.line, = ax.plot([], [], 'k-')\n",
    "        self.x = np.linspace(0, 1, 200)\n",
    "        self.ax = ax\n",
    "\n",
    "        # Set up plot parameters\n",
    "        self.ax.set_xlim(0, 1)\n",
    "        self.ax.set_ylim(0, 15)\n",
    "        self.ax.grid(True)\n",
    "\n",
    "        # This vertical line represents the theoretical value, to\n",
    "        # which the plotted distribution should converge.\n",
    "        self.ax.axvline(prob, linestyle='--', color='black')\n",
    "\n",
    "    def init(self):\n",
    "        self.success = 0\n",
    "        self.line.set_data([], [])\n",
    "        return self.line,\n",
    "\n",
    "    def __call__(self, i):\n",
    "        # This way the plot can continuously run and we just keep\n",
    "        # watching new realizations of the process\n",
    "        if i == 0:\n",
    "            return self.init()\n",
    "\n",
    "        # Choose success based on exceed a threshold with a uniform pick\n",
    "        if np.random.rand(1,) < self.prob:\n",
    "            self.success += 1\n",
    "        y = ss.beta.pdf(self.x, self.success + 1, (i - self.success) + 1)\n",
    "        self.line.set_data(self.x, y)\n",
    "        return self.line,\n",
    "\n",
    "fig = plt.figure()\n",
    "ax = fig.add_subplot(1, 1, 1)\n",
    "ud = UpdateDist(ax, prob=0.7)\n",
    "anim = FuncAnimation(fig, ud, frames=np.arange(100), init_func=ud.init,\n",
    "        interval=100, blit=True)\n",
    "plt.show()"
   ]
  },
  {
   "cell_type": "code",
   "execution_count": 26,
   "metadata": {},
   "outputs": [
    {
     "name": "stdout",
     "output_type": "stream",
     "text": [
      "[[ 0.54569202  0.32535887  0.9437793 ]\n",
      " [ 0.93544115  0.67353687  0.80689005]\n",
      " [ 0.35353817  0.75951375  0.56948777]]\n",
      "[[ 0.54569202  0.32535887]\n",
      " [ 0.93544115  0.67353687]]\n",
      "[[ 0.54569202  0.32535887]\n",
      " [ 0.93544115  0.67353687]\n",
      " [ 0.35353817  0.75951375]]\n"
     ]
    }
   ],
   "source": [
    "# matrix minor\n",
    "import numpy as np\n",
    "\n",
    "def minor(arr,i,j):\n",
    "    # ith row, jth column removed\n",
    "    return arr[np.array(range(i)+range(i+1,arr.shape[0]))[:,np.newaxis],\n",
    "               np.array(range(j)+range(j+1,arr.shape[1]))]\n",
    "\n",
    "#arr=np.random.random((4,4))\n",
    "#print arr\n",
    "#print arr[np.array([0,2,3])[:,np.newaxis],np.array([0,1,3])]\n",
    "mtrx = np.random.rand(3,3)\n",
    "print mtrx\n",
    "print mtrx[:2, :2]\n",
    "print mtrx[:, :2]"
   ]
  },
  {
   "cell_type": "code",
   "execution_count": 12,
   "metadata": {},
   "outputs": [
    {
     "data": {
      "image/png": "[encoded data removed]",
      "text/plain": [
       "<matplotlib.figure.Figure at 0x8b1c358>"
      ]
     },
     "metadata": {},
     "output_type": "display_data"
    }
   ],
   "source": [
    "import numpy as np\n",
    "import matplotlib.pyplot as plt\n",
    "import math as math\n",
    "\n",
    "def f(t):\n",
    "    return np.log(1.0+np.exp(t))\n",
    "\n",
    "def df(t):\n",
    "    return 1.0 / (1.0+np.exp(-t))\n",
    "\n",
    "# evenly sampled time at 200ms intervals\n",
    "t = np.arange(-3., 3., 0.2)\n",
    "\n",
    "# red dashes\n",
    "#plt.plot(t, math.log(1.0+math.exp(t)), 'r--')\n",
    "plt.plot(t, f(t), 'r--', t, df(t), '-')\n",
    "plt.show()"
   ]
  },
  {
   "cell_type": "code",
   "execution_count": 1,
   "metadata": {},
   "outputs": [
    {
     "data": {
      "text/plain": [
       "array([[ 0.11327463, -0.09372307],\n",
       "       [ 0.20195834,  0.27539609],\n",
       "       [ 0.39780759,  0.09434379]])"
      ]
     },
     "execution_count": 1,
     "metadata": {},
     "output_type": "execute_result"
    }
   ],
   "source": [
    "import numpy as np\n",
    "np.random.rand(3,2) - np.full((3,2), 0.5) "
   ]
  },
  {
   "cell_type": "code",
   "execution_count": 7,
   "metadata": {},
   "outputs": [
    {
     "name": "stdout",
     "output_type": "stream",
     "text": [
      "[2 3 4]\n",
      "[0 2 5 9]\n",
      "[[ 1.  0.  0.  1.  0.  0.  1.  0.  0.]]\n"
     ]
    }
   ],
   "source": [
    "from sklearn.preprocessing import OneHotEncoder\n",
    "enc = OneHotEncoder()\n",
    "enc.fit([[0, 0, 3], [1, 1, 0], [0, 2, 1], [1, 0, 2]])   # dataset with three features in four samples\n",
    "OneHotEncoder(categorical_features='all', handle_unknown='error', n_values='auto', sparse=True)\n",
    "print enc.n_values_ # maximum number of values per feature\n",
    "print enc.feature_indices_ # Indices to feature ranges. Feature i in the original data is mapped to features from feature_indices_[i] to feature_indices_[i+1]\n",
    "print enc.transform([[0, 1, 1]]).toarray() # transform output"
   ]
  },
  {
   "cell_type": "code",
   "execution_count": 20,
   "metadata": {},
   "outputs": [
    {
     "name": "stdout",
     "output_type": "stream",
     "text": [
      "dic keys ['pain', 'stains', 'mainly', 'rain', 'falls', 'in', 'with', 'any', 'spain', 'on', 'hardly', 'plain', 'the', 'where']\n",
      "dictarr [[10]\n",
      " [15]\n",
      " [ 5]\n",
      " [ 1]\n",
      " [ 4]\n",
      " [ 2]\n",
      " [ 9]\n",
      " [13]\n",
      " [ 3]\n",
      " [ 6]\n",
      " [12]\n",
      " [ 8]\n",
      " [ 0]\n",
      " [11]]\n",
      "number of values per feature: [16]\n",
      "feature indices: [ 0 16]\n",
      "[[10, 1, 0, 0, 0, 0, 0, 0, 0, 0, 0, 0, 0, 0, 0], [15, 0, 1, 0, 0, 0, 0, 0, 0, 0, 0, 0, 0, 0, 0], [5, 0, 0, 1, 0, 0, 0, 0, 0, 0, 0, 0, 0, 0, 0], [1, 0, 0, 0, 1, 0, 0, 0, 0, 0, 0, 0, 0, 0, 0], [4, 0, 0, 0, 0, 1, 0, 0, 0, 0, 0, 0, 0, 0, 0], [2, 0, 0, 0, 0, 0, 1, 0, 0, 0, 0, 0, 0, 0, 0], [9, 0, 0, 0, 0, 0, 0, 1, 0, 0, 0, 0, 0, 0, 0], [13, 0, 0, 0, 0, 0, 0, 0, 1, 0, 0, 0, 0, 0, 0], [3, 0, 0, 0, 0, 0, 0, 0, 0, 1, 0, 0, 0, 0, 0], [6, 0, 0, 0, 0, 0, 0, 0, 0, 0, 1, 0, 0, 0, 0], [12, 0, 0, 0, 0, 0, 0, 0, 0, 0, 0, 1, 0, 0, 0], [8, 0, 0, 0, 0, 0, 0, 0, 0, 0, 0, 0, 1, 0, 0], [0, 0, 0, 0, 0, 0, 0, 0, 0, 0, 0, 0, 0, 1, 0], [11, 0, 0, 0, 0, 0, 0, 0, 0, 0, 0, 0, 0, 0, 1]]\n"
     ]
    }
   ],
   "source": [
    "from sklearn.preprocessing import OneHotEncoder\n",
    "import numpy as np\n",
    "\n",
    "def onehotvec(key, vec, dim): # returns a one-hot vector of dimension dim, all 0 but for 1 at vec\n",
    "    retvec = []\n",
    "    retvec.append(key)\n",
    "    for i in range(dim):\n",
    "        if i == vec:\n",
    "            retvec.append(1)\n",
    "        else:\n",
    "            retvec.append(0)\n",
    "    return retvec\n",
    "\n",
    "def onehotenc(dic): # one-hot encodes a dictionary\n",
    "    ohotret = []\n",
    "    dlen = len(dic)\n",
    "    i=0\n",
    "    for key in dic:\n",
    "        #ohotret.append(onehotvec(dic[key], dlen)) # does not work as dict keys are not guaranteed to be continuous\n",
    "        ohotret.append(onehotvec(dic[key], i, dlen))\n",
    "        i += 1\n",
    "    return ohotret\n",
    "\n",
    "enc = OneHotEncoder()\n",
    "myDict = {'on': 6, 'pain': 10, 'stains': 15, 'plain': 8, 'mainly': 5, 'rain': 1, 'falls': 4, 'where': 11, 'hardly': 12, 'in': 2, 'the': 0, 'with': 9, 'any': 13, 'spain': 3}\n",
    "dictarr = np.asarray(myDict.values()).reshape(-1, 1)\n",
    "print('dic keys {0}'.format(myDict.keys()))\n",
    "print('dictarr {0}'.format(dictarr))\n",
    "enc.fit(dictarr)\n",
    "print('number of values per feature: {0}'.format(enc.n_values_)) # Number of values per feature\n",
    "print('feature indices: {0}'.format(enc.feature_indices_)) # Indices to feature ranges. Feature i in the original data is mapped to features from feature_indices_[i] to feature_indices_[i+1]\n",
    "#print enc.transform([[0, 1, 1]]).toarray() # transform output\n",
    "print onehotenc(myDict)"
   ]
  },
  {
   "cell_type": "code",
   "execution_count": 27,
   "metadata": {},
   "outputs": [
    {
     "name": "stdout",
     "output_type": "stream",
     "text": [
      "[['the', 'rain', 'in'], ['rain', 'in', 'Spain'], ['in', 'Spain', 'falls'], ['Spain', 'falls', 'mainly'], ['falls', 'mainly', 'on'], ['mainly', 'on', 'the'], ['on', 'the', 'plain'], ['the', 'plain', 'with'], ['plain', 'with', 'pain'], ['with', 'pain', 'where'], ['pain', 'where', 'hardly'], ['where', 'hardly', 'any'], ['hardly', 'any', 'rain'], ['any', 'rain', 'stains'], ['rain', 'stains', 'the']]\n"
     ]
    }
   ],
   "source": [
    "def skipgram(corpus, window): # returns skip-grams for given window size from corpus (center word included)\n",
    "    if window > 5:\n",
    "        return []\n",
    "    cpanel = []\n",
    "    for i in range(window+1,len(corpus)-window+1):\n",
    "        skipg = []\n",
    "        for j in range(i-window-1,i+window):\n",
    "            skipg.append(corpus[j])\n",
    "        cpanel.append(skipg)\n",
    "    return cpanel\n",
    "\n",
    "if __name__==\"__main__\":\n",
    "    text = 'the rain in Spain falls mainly on the plain with pain where hardly any rain stains the'\n",
    "    print skipgram(text.split(' '), 1)"
   ]
  },
  {
   "cell_type": "code",
   "execution_count": 13,
   "metadata": {},
   "outputs": [
    {
     "data": {
      "text/plain": [
       "array([[ 0.,  0.,  0.],\n",
       "       [ 0.,  0.,  0.],\n",
       "       [ 0.,  0.,  0.]])"
      ]
     },
     "execution_count": 13,
     "metadata": {},
     "output_type": "execute_result"
    }
   ],
   "source": [
    "import numpy as np\n",
    "\n",
    "a = np.array([1., 2., -2.])\n",
    "b = np.array([2., 0., -2.])\n",
    "c = np.array([[0.], [1.], [-1.]])\n",
    "#np.dot(a, np.transpose(b))\n",
    "#a * np.transpose(b)\n",
    "#np.multiply(a, c)\n",
    "#np.transpose([b])\n",
    "#b[:, np.newaxis]\n",
    "#np.repeat(b[:, np.newaxis], 3, axis=1)\n",
    "#np.multiply(a, b[:, np.newaxis])\n",
    "#range(1,4)\n",
    "np.broadcast_to(a, (3, 3)) - a"
   ]
  },
  {
   "cell_type": "code",
   "execution_count": 2,
   "metadata": {},
   "outputs": [
    {
     "data": {
      "text/plain": [
       "array([[1, 1]])"
      ]
     },
     "execution_count": 2,
     "metadata": {},
     "output_type": "execute_result"
    }
   ],
   "source": [
    "from sklearn.neural_network import MLPClassifier\n",
    "X = [[0., 0.], [1., 1.]]\n",
    "y = [[0, 1], [1, 1]]\n",
    "clf = MLPClassifier(solver='lbfgs', alpha=1e-5, hidden_layer_sizes=(15,), random_state=1)\n",
    "clf.fit(X, y)\n",
    "clf.predict([[1., 2.]])"
   ]
  },
  {
   "cell_type": "code",
   "execution_count": 32,
   "metadata": {},
   "outputs": [
    {
     "name": "stdout",
     "output_type": "stream",
     "text": [
      "0.0184672014966\n",
      "0.0333395948105\n",
      "0.0145537783305\n"
     ]
    }
   ],
   "source": [
    "# test hash functions and their runtime\n",
    "# plenty of collisions, therefore hashtable size capacity * 1.5 or even capacity * 2\n",
    "import timeit # to check runtime\n",
    "import math as math\n",
    "\n",
    "def whash(word): # hash from word2vec\n",
    "    vocab_hash_size = 30e+06\n",
    "    myhash = 0\n",
    "    for a in word:\n",
    "        myhash = myhash * 257 + ord(a) # for each character in string\n",
    "    return myhash % vocab_hash_size # return modulo hash size (modulo slow, better use power-of-2s)\n",
    "\n",
    "def sdbm(word):\n",
    "    hashAddress = 0\n",
    "    for a in word:\n",
    "        hashAddress = ord(a) + (hashAddress << 6) + (hashAddress << 16) - hashAddress\n",
    "    return hashAddress\n",
    "\n",
    "def djb2(word):\n",
    "    hashAddress = 0\n",
    "    for a in word:\n",
    "        hashAddress = ((hashAddress << 5) + hashAddress) + ord(a)\n",
    "    return hashAddress\n",
    "\n",
    "def wrapper(func, *args, **kwargs):\n",
    "    def wrapped():\n",
    "        return func(*args, **kwargs)\n",
    "    return wrapped\n",
    "\n",
    "if __name__==\"__main__\":\n",
    "    teststring = 'wordtest'\n",
    "    #print whash(teststring)\n",
    "    #print sdbm(teststring)\n",
    "    #print djb2(teststring)\n",
    "    wrapped = wrapper(whash, teststring)\n",
    "    print timeit.timeit(wrapped, number=10000)\n",
    "    wrapped = wrapper(sdbm, teststring)\n",
    "    print timeit.timeit(wrapped, number=10000)\n",
    "    wrapped = wrapper(djb2, teststring)\n",
    "    print timeit.timeit(wrapped, number=10000)\n",
    "    \n",
    "    # subsampling formula: speeds - not with timeit (does not allow external calls)\n",
    "    #print timeit.timeit([(math.sqrt(x/0.001)+1.)*0.001/x for x in range(1,100)], number=1000)\n",
    "    #print timeit.timeit([math.sqrt(x) for x in range(1,100)], number=1000)"
   ]
  },
  {
   "cell_type": "code",
   "execution_count": 71,
   "metadata": {},
   "outputs": [
    {
     "name": "stdout",
     "output_type": "stream",
     "text": [
      "[('e', 6), ('b', 3), ('g', 3), ('c', 2), ('f', 1), ('a', 0), ('d', 0)]\n",
      "('e', 6)\n"
     ]
    }
   ],
   "source": [
    "# implement a priority queue (without packages)\n",
    "def getkey(item): # assumes item is a tupel (value, prio)\n",
    "    return item[1]\n",
    "\n",
    "def sortqueue(queue, rev): # sorts queue by prio or mother node\n",
    "    if rev: queue.sort(key=getkey, reverse=True) # reverse: highest prio first\n",
    "    else: queue.sort(key=getkey) # regular: highest prio last\n",
    "    return queue\n",
    "\n",
    "def insqueue(queue, item): # insert item into queue: item is a tupel (value, prio)\n",
    "    queue.append(item)\n",
    "    return sortqueue(queue, True)\n",
    "\n",
    "def remtop(queue): # removes and returns top level element\n",
    "    retval = queue[0]\n",
    "    queue.remove(retval)\n",
    "    return retval\n",
    "\n",
    "if __name__==\"__main__\":\n",
    "    # test\n",
    "    myqueue = [('a',0), ('b',3), ('c',2), ('d',0), ('e',6), ('f',1)]\n",
    "    print insqueue(myqueue, ('g', 3))\n",
    "    print remtop(myqueue)"
   ]
  },
  {
   "cell_type": "code",
   "execution_count": 34,
   "metadata": {},
   "outputs": [
    {
     "name": "stdout",
     "output_type": "stream",
     "text": [
      "[1]\n",
      "[1, 1]\n",
      "[1, 1, 1]\n",
      "[1, 1, 1, 1]\n",
      "[1, 1, 1, 1, 1]\n",
      "[1, 1, 1, 1, 1, 1]\n"
     ]
    }
   ],
   "source": [
    "# Huffman encoding\n",
    "# Using the characters and their frequency from the string:\n",
    "# this is an example for huffman encoding\n",
    "# create a program to generate a Huffman encoding for each character as a table\n",
    "\n",
    "# implement a priority queue (without packages)\n",
    "def getkey(item): # assumes item is a tupel (value, prio, tree), key for prio\n",
    "    return item[1]\n",
    "\n",
    "def sortqueue(queue, rev): # sorts queue by prio or mother node\n",
    "    if rev: queue.sort(key=getkey, reverse=True) # reverse: highest prio first\n",
    "    else: queue.sort(key=getkey) # regular: highest prio last\n",
    "    return queue\n",
    "\n",
    "def insqueue(queue, item): # insert item into queue: item is a tupel (value, prio, tree)\n",
    "    queue.append(item)\n",
    "    return sortqueue(queue, True)\n",
    "\n",
    "def remtop(queue): # removes and returns top level element\n",
    "    retval = queue[0]\n",
    "    queue.remove(retval)\n",
    "    return retval\n",
    "\n",
    "def nonint(queue): # returns the number of non-internal nodes in queue (only top-hierarchy)\n",
    "    intct = 0\n",
    "    for item in queue:\n",
    "        if item[0] == None:\n",
    "            intct += 1\n",
    "    return len(queue) - intct\n",
    "\n",
    "def strtoflst(strg, mnode): # convert a string to a character frequency list: (char, freq, tree)\n",
    "    retlst = []\n",
    "    tempstr = ''.join(sorted(strg)) # sort string by characters\n",
    "    prevc = ''\n",
    "    firstrun = True\n",
    "    ctr = 0\n",
    "    for c in tempstr:\n",
    "        if not firstrun:\n",
    "            if c != prevc:\n",
    "                retlst.append((prevc, ctr, mnode))\n",
    "                ctr = 0\n",
    "        else:\n",
    "            firstrun = False\n",
    "        ctr += 1\n",
    "        prevc = c\n",
    "    retlst.append((prevc, ctr, mnode)) # final append\n",
    "    return retlst\n",
    "    \n",
    "def encbin(tree , struc , data):\n",
    "    # If root is None , put 0 in structure array and return\n",
    "    if len(tree) == 0:\n",
    "        struc.append(0)\n",
    "        return\n",
    "    # Else place 1 in structure array, key in 'data' array\n",
    "    # and recur for left and right children\n",
    "    struc.append(1)\n",
    "    data.append(tree[0][0])\n",
    "    print struc\n",
    "    encbin(tree[0][2], struc , data)\n",
    "    encbin(tree[1][2], struc ,data)\n",
    "\n",
    "if __name__==\"__main__\":\n",
    "    #txt = \"this is an example for huffman encoding\"\n",
    "    txt = \"this is an\"\n",
    "    # create a leaf node for each symbol and add it to the priority queue\n",
    "    # the tree is stored as (<val>, <prio>, <children>) where <children> = [(<val>,<prio>,<children>),...]\n",
    "    tree = strtoflst(txt, [])\n",
    "    tree.sort(key=getkey, reverse=True) # going to encode this list\n",
    "    while nonint(tree) > 1: # while >1 node in queue\n",
    "        # remove highest prio (lowest prob.) node twice from queue\n",
    "        hipnode0 = remtop(tree)\n",
    "        hipnode1 = remtop(tree)\n",
    "        # create a new internal node with these two nodes as children, prob. = sum of child prios\n",
    "        insqueue(tree, (None, hipnode0[1] + hipnode1[1], [hipnode0, hipnode1])) # add this node to queue\n",
    "    # remaining node == root? Y: finished\n",
    "    # traverse the constructed binary tree from root to leaves assigning and accumulating a '0' for one branch\n",
    "    # and a '1' for the other at each node\n",
    "    #encbin(tree, '')\n",
    "    struc = []\n",
    "    data = []\n",
    "    encbin(tree , struc , data)\n",
    "    #print tree"
   ]
  },
  {
   "cell_type": "code",
   "execution_count": 48,
   "metadata": {},
   "outputs": [
    {
     "name": "stdout",
     "output_type": "stream",
     "text": [
      "Symbol\tWeight\tHuffman Code\n",
      " \t6\t101\n",
      "n\t4\t010\n",
      "a\t3\t1001\n",
      "e\t3\t1100\n",
      "f\t3\t1101\n",
      "h\t2\t0001\n",
      "i\t3\t1110\n",
      "m\t2\t0010\n",
      "o\t2\t0011\n",
      "s\t2\t0111\n",
      "g\t1\t00000\n",
      "l\t1\t00001\n",
      "p\t1\t01100\n",
      "r\t1\t01101\n",
      "t\t1\t10000\n",
      "u\t1\t10001\n",
      "x\t1\t11110\n",
      "c\t1\t111110\n",
      "d\t1\t111111\n"
     ]
    }
   ],
   "source": [
    "# Huffman encoding from RosettaStone\n",
    "from heapq import heappush, heappop, heapify\n",
    "from collections import defaultdict\n",
    " \n",
    "def encode(symb2freq):\n",
    "    \"\"\"Huffman encode the given dict mapping symbols to weights\"\"\"\n",
    "    heap = [[wt, [sym, \"\"]] for sym, wt in symb2freq.items()]\n",
    "    heapify(heap)\n",
    "    while len(heap) > 1:\n",
    "        lo = heappop(heap)\n",
    "        hi = heappop(heap)\n",
    "        for pair in lo[1:]:\n",
    "            pair[1] = '0' + pair[1]\n",
    "        for pair in hi[1:]:\n",
    "            pair[1] = '1' + pair[1]\n",
    "        heappush(heap, [lo[0] + hi[0]] + lo[1:] + hi[1:])\n",
    "    return sorted(heappop(heap)[1:], key=lambda p: (len(p[-1]), p))\n",
    " \n",
    "txt = \"this is an example for huffman encoding\"\n",
    "symb2freq = defaultdict(int)\n",
    "for ch in txt:\n",
    "    symb2freq[ch] += 1\n",
    "# in Python 3.1+:\n",
    "# symb2freq = collections.Counter(txt)\n",
    "huff = encode(symb2freq)\n",
    "print \"Symbol\\tWeight\\tHuffman Code\"\n",
    "for p in huff:\n",
    "    print \"%s\\t%s\\t%s\" % (p[0], symb2freq[p[0]], p[1])"
   ]
  },
  {
   "cell_type": "code",
   "execution_count": null,
   "metadata": {
    "collapsed": true
   },
   "outputs": [],
   "source": []
  }
 ],
 "metadata": {
  "kernelspec": {
   "display_name": "Python 2",
   "language": "python",
   "name": "python2"
  },
  "language_info": {
   "codemirror_mode": {
    "name": "ipython",
    "version": 2
   },
   "file_extension": ".py",
   "mimetype": "text/x-python",
   "name": "python",
   "nbconvert_exporter": "python",
   "pygments_lexer": "ipython2",
   "version": "2.7.13"
  }
 },
 "nbformat": 4,
 "nbformat_minor": 2
}
