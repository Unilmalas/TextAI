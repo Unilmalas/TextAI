{
 "cells": [
  {
   "cell_type": "code",
   "execution_count": 30,
   "metadata": {},
   "outputs": [
    {
     "data": {
      "image/png": "[encoded data removed]",
      "text/plain": [
       "<matplotlib.figure.Figure at 0x8d336d8>"
      ]
     },
     "metadata": {},
     "output_type": "display_data"
    }
   ],
   "source": [
    "# a polynomial fit of Fibonacci numbers\n",
    "import math\n",
    "import numpy as np\n",
    "import matplotlib.pyplot as plt\n",
    "\n",
    "def fib(n): # nth fibonacci\n",
    "    if n <= 2:\n",
    "        return 1\n",
    "    f0 = 1\n",
    "    f1 = 1\n",
    "    for k in range(3,n+1):\n",
    "        f2 = f0 + f1\n",
    "        f0 = f1\n",
    "        f1 = f2\n",
    "    return f2\n",
    "\n",
    "def pfitfib(n): # fit a polynomial to Fibonaccis up to n-1 to estimate nth\n",
    "    x = range(1,n)\n",
    "    y = [fib(k) for k in x]\n",
    "    return np.polyfit(x, y, n-2)\n",
    "\n",
    "def evalpfit(n): # evaluate polynomial fit\n",
    "    pfit = pfitfib(n)\n",
    "    psum = 0.\n",
    "    k = n-2\n",
    "    for a in pfit:\n",
    "        psum += n ** k * a\n",
    "        k -= 1\n",
    "    return psum\n",
    "\n",
    "def limeff(n): # limit of |estd Fn - Fn| / Fn\n",
    "    f = fib(n)\n",
    "    return abs(evalpfit(n) - f) / f\n",
    "\n",
    "if __name__==\"__main__\":\n",
    "    #print limeff(12)\n",
    "    x = [fib(n) for n in range(4,12)]\n",
    "    y = [limeff(n) for n in range(4,12)]\n",
    "    _ = plt.plot(x, y, '-')\n",
    "    plt.show()"
   ]
  },
  {
   "cell_type": "code",
   "execution_count": 11,
   "metadata": {},
   "outputs": [
    {
     "name": "stdout",
     "output_type": "stream",
     "text": [
      "1.10188277551\n"
     ]
    }
   ],
   "source": [
    "# average areas of squares\n",
    "import math\n",
    "import random\n",
    "\n",
    "def area(l,w,d): # area with variation\n",
    "    return random.uniform(l,l+d) * random.uniform(w,w+d)\n",
    "\n",
    "if __name__==\"__main__\":\n",
    "    asum = 0.\n",
    "    ntrials = 10000\n",
    "    for i in range(ntrials):\n",
    "        asum += area(1., 1., 0.1)\n",
    "    print asum/ntrials"
   ]
  },
  {
   "cell_type": "code",
   "execution_count": 45,
   "metadata": {},
   "outputs": [
    {
     "name": "stdout",
     "output_type": "stream",
     "text": [
      "a: 1 b: 3 c: 6 d: 990 : lcm: 990\n",
      "a: 1 b: 3 c: 12 d: 984 : lcm: 984\n",
      "a: 1 b: 3 c: 249 d: 747 : lcm: 747\n",
      "a: 1 b: 3 c: 498 d: 498 : lcm: 498\n",
      "a: 1 b: 9 c: 495 d: 495 : lcm: 495\n",
      "a: 1 b: 27 c: 486 d: 486 : lcm: 486\n",
      "a: 1 b: 37 c: 481 d: 481 : lcm: 481\n",
      "a: 1 b: 111 c: 444 d: 444 : lcm: 444\n",
      "a: 6 b: 142 c: 426 d: 426 : lcm: 426\n",
      "a: 20 b: 140 c: 420 d: 420 : lcm: 420\n"
     ]
    }
   ],
   "source": [
    "# minimum lcm(a,b,c,d) with a+b+c+d=1000\n",
    "import fractions\n",
    "import functools\n",
    "import itertools\n",
    "import operator\n",
    "\n",
    "def is_prime(n):\n",
    "    for i in range(3, n):\n",
    "        if n % i == 0:\n",
    "            return False\n",
    "    return True\n",
    "\n",
    "def prime_generator(n):\n",
    "    \"\"\"\n",
    "    Sieve of Eratosthenes\n",
    "    Create a candidate list within which non-primes will be\n",
    "    marked as None.\n",
    "    \"\"\"    \n",
    "    cand = [i for i in range(3, n + 1, 2)]\n",
    "    end = int(n ** 0.5) // 2\n",
    "    # Loop over candidates (cand), marking out each multiple.\n",
    "    for i in range(end):\n",
    "        if cand[i]:\n",
    "            cand[cand[i] + i::cand[i]] = [None] * (\n",
    "                (n // cand[i]) - (n // (2 * cand[i])) - 1)\n",
    "    # Filter out non-primes and return the list.\n",
    "    return [2] + [i for i in cand if i]\n",
    "\n",
    "primes_list = prime_generator(1000)\n",
    "\n",
    "def factorize(n):\n",
    "    prime_multiples = []\n",
    "    for item in primes_list:\n",
    "        if item > n:\n",
    "            break\n",
    "        else:\n",
    "            while n > 1:\n",
    "                if n % item == 0:\n",
    "                    n //= item\n",
    "                    prime_multiples.append(item)\n",
    "                else:\n",
    "                    break\n",
    "    return prime_multiples\n",
    "\n",
    "def calculate_divisors(n):\n",
    "    prime_multiples_list = factorize(n)\n",
    "    \"\"\"\n",
    "    construct unique combinations\n",
    "    A, B, B, C --> A, B, C, AB, AC, BB, BC, ABC, ABB, BBC\n",
    "    \"\"\"\n",
    "    unique_combinations = set()\n",
    "    for i in range(1, len(prime_multiples_list)):\n",
    "        unique_combinations.update(\n",
    "            set(itertools.combinations(prime_multiples_list, i)))\n",
    "    # multiply elements of each unique combination\n",
    "    combination_product = list(functools.reduce(operator.mul, i)\n",
    "                               for i in unique_combinations)\n",
    "    combination_product.sort()\n",
    "    return combination_product\n",
    "\n",
    "def lcm(a,b):\n",
    "    return abs(a * b) / fractions.gcd(a,b) if a and b else 0\n",
    "\n",
    "def lcmarr(arr):\n",
    "    lcm = arr[0]\n",
    "    for i in arr[1:]:\n",
    "        lcm = lcm*i / fractions.gcd(lcm, i) if lcm and i else 0\n",
    "    return lcm\n",
    "\n",
    "# function to find GCD of pair with max GCD in the array\n",
    "def findMaxGCD(arr, n) :\n",
    "    # Calculating MAX in array\n",
    "    high = 0\n",
    "    for i in range(0, n) :\n",
    "        high = max(high, arr[i])\n",
    " \n",
    "    # Maintaining count array\n",
    "    count = [0] * (high + 1)\n",
    "    for i in range(0, n) :\n",
    "        count[arr[i]] = 1\n",
    " \n",
    "    # Variable to store multiples of a number\n",
    "    counter = 0\n",
    " \n",
    "    # Iterating from MAX to 1 GCD is always between MAX and 1\n",
    "    # The first GCD found will be the highest as we are decrementing the potential GCD\n",
    "    for i in range(high, 0, -1) :\n",
    "        j = i\n",
    " \n",
    "        # Iterating from current potential GCD till it is less than MAX\n",
    "        while (j <= high) :\n",
    " \n",
    "            # A multiple found\n",
    "            if (count[j] == 1) :\n",
    "                counter = counter + 1       \n",
    " \n",
    "            # Incrementing potential GCD by itself to check i, 2i, 3i....\n",
    "            j = j + i\n",
    " \n",
    "            # 2 multiples found, max GCD found\n",
    "            if (counter == 2) :\n",
    "                return i\n",
    "\n",
    "if __name__==\"__main__\":\n",
    "    # Array in which pair with max GCD is to be found\n",
    "    #arr = [ 1, 2, 4, 8, 8, 12 ]\n",
    "    # Size of array\n",
    "    #n = len(arr)\n",
    "    #print(findMaxGCD(arr, n))\n",
    "    \n",
    "    # choose a,b,c from primes_list, d=1000-a-b-c\n",
    "    lp = len(primes_list)\n",
    "    minlcm = 1000\n",
    "    for a in range(1, 990):\n",
    "        #a = primes_list[i]\n",
    "        #b = primes_list[i+1]\n",
    "        #c = primes_list[i+2]\n",
    "        for b in range(a+1,900):\n",
    "            for c in range(b+1,900):\n",
    "                d = 1000 - a - b - c\n",
    "                lcma = [a,b,c,d]\n",
    "                thislcm = lcmarr(lcma)\n",
    "                if thislcm < minlcm and thislcm > 0:\n",
    "                    print('a: {0} b: {1} c: {2} d: {3} : lcm: {4}'.format(a,b,c,d,thislcm))\n",
    "                    #print('lcm a,b: {0}'.format(lcm(a,b)))\n",
    "                    minlcm = thislcm"
   ]
  },
  {
   "cell_type": "code",
   "execution_count": 26,
   "metadata": {},
   "outputs": [
    {
     "name": "stdout",
     "output_type": "stream",
     "text": [
      "73\n"
     ]
    }
   ],
   "source": [
    "# gcd of 2^72-1, 3^72-1,...\n",
    "import fractions\n",
    "\n",
    "def gcdpow(k): # gcd of powers 2^k-1, 3^k-1,...\n",
    "    onegcd = fractions.gcd(2 ** k - 1, 3 ** k - 1)\n",
    "    for p in range(4, k+1):\n",
    "        a = p ** k - 1\n",
    "        onegcd = fractions.gcd(onegcd, a)\n",
    "    return onegcd\n",
    "\n",
    "if __name__==\"__main__\":\n",
    "    print gcdpow(72)"
   ]
  },
  {
   "cell_type": "code",
   "execution_count": 15,
   "metadata": {},
   "outputs": [
    {
     "name": "stdout",
     "output_type": "stream",
     "text": [
      "[2017, 2013, 2011, 2009, 2007, 2003, 2001, 1999, 1997, 1993, 1991, 1989, 1987, 1983, 1981, 1979, 1977, 1973, 1971, 1969, 1967, 1963, 1961, 1959, 1957, 1953, 1951, 1949, 1947, 1943, 1941, 1939, 1937, 1933, 1931, 1929, 1927, 1923, 1921, 1919, 1917, 1913, 1911, 1909, 1907, 1903, 1901, 1899, 1897, 1893, 1891, 1889, 1887, 1883, 1881, 1879, 1877, 1873, 1871, 1869, 1867, 1863, 1861, 1859, 1857, 1853, 1851, 1849, 1847, 1843, 1841, 1839, 1837, 1833, 1831, 1829, 1827, 1823, 1821, 1819, 1817, 1813, 1811, 1809, 1807, 1803, 1801, 1799, 1797, 1793, 1791, 1789, 1787, 1783, 1781, 1779, 1777, 1773, 1771, 1769, 1767, 1763, 1761, 1759, 1757, 1753, 1751, 1749, 1747, 1743, 1741, 1739, 1737, 1733, 1731, 1729, 1727, 1723, 1721, 1719, 1717, 1713, 1711, 1709, 1707, 1703, 1701, 1699, 1697, 1693, 1691, 1689, 1687, 1683, 1681, 1679, 1677, 1673, 1671, 1669, 1667, 1663, 1661, 1659, 1657, 1653, 1651, 1649, 1647, 1643, 1641, 1639, 1637, 1633, 1631, 1629, 1627, 1623, 1621, 1619, 1617, 1613, 1611, 1609, 1607, 1603, 1601, 1599, 1597, 1593, 1591, 1589, 1587, 1583, 1581, 1579, 1577, 1573, 1571, 1569, 1567, 1563, 1561, 1559, 1557, 1553, 1551, 1549, 1547, 1543, 1541, 1539, 1537, 1533, 1531, 1529, 1527, 1523, 1521, 1519, 1517, 1513, 1511, 1509, 1507, 1503, 1501, 1499, 1497, 1493, 1491, 1489, 1487, 1483, 1481, 1479, 1477, 1473, 1471, 1469, 1467, 1463, 1461, 1459, 1457, 1453, 1451, 1449, 1447, 1443, 1441, 1439, 1437, 1433, 1431, 1429, 1427, 1423, 1421, 1419, 1417, 1413, 1411, 1409, 1407, 1403, 1401, 1399, 1397, 1393, 1391, 1389, 1387, 1383, 1381, 1379, 1377, 1373, 1371, 1369, 1367, 1363, 1361, 1359, 1357, 1353, 1351, 1349, 1347, 1343, 1341, 1339, 1337, 1333, 1331, 1329, 1327, 1323, 1321, 1319, 1317, 1313, 1311, 1309, 1307, 1303, 1301, 1299, 1297, 1293, 1291, 1289, 1287, 1283, 1281, 1279, 1277, 1273, 1271, 1269, 1267, 1263, 1261, 1259, 1257, 1253, 1251, 1249, 1247, 1243, 1241, 1239, 1237, 1233, 1231, 1229, 1227, 1223, 1221, 1219, 1217, 1213, 1211, 1209, 1207, 1203, 1201, 1199, 1197, 1193, 1191, 1189, 1187, 1183, 1181, 1179, 1177, 1173, 1171, 1169, 1167, 1163, 1161, 1159, 1157, 1153, 1151, 1149, 1147, 1143, 1141, 1139, 1137, 1133, 1131, 1129, 1127, 1123, 1121, 1119, 1117, 1113, 1111, 1109, 1107, 1103, 1101, 1099, 1097, 1093, 1091, 1089, 1087, 1083, 1081, 1079, 1077, 1073, 1071, 1069, 1067, 1063, 1061, 1059, 1057, 1053, 1051, 1049, 1047, 1043, 1041, 1039, 1037, 1033, 1031, 1029, 1027, 1023, 1021, 1019, 1017, 1013, 1011, 1009, 1007, 1003, 1001, 999, 997, 993, 991, 989, 987, 983, 981, 979, 977, 973, 971, 969, 967, 963, 961, 959, 957, 953, 951, 949, 947, 943, 941, 939, 937, 933, 931, 929, 927, 923, 921, 919, 917, 913, 911, 909, 907, 903, 901, 899, 897, 893, 891, 889, 887, 883, 881, 879, 877, 873, 871, 869, 867, 863, 861, 859, 857, 853, 851, 849, 847, 843, 841, 839, 837, 833, 831, 829, 827, 823, 821, 819, 817, 813, 811, 809, 807, 803, 801, 799, 797, 793, 791, 789, 787, 783, 781, 779, 777, 773, 771, 769, 767, 763, 761, 759, 757, 753, 751, 749, 747, 743, 741, 739, 737, 733, 731, 729, 727, 723, 721, 719, 717, 713, 711, 709, 707, 703, 701, 699, 697, 693, 691, 689, 687, 683, 681, 679, 677, 673, 671, 669, 667, 663, 661, 659, 657, 653, 651, 649, 647, 643, 641, 639, 637, 633, 631, 629, 627, 623, 621, 619, 617, 613, 611, 609, 607, 603, 601, 599, 597, 593, 591, 589, 587, 583, 581, 579, 577, 573, 571, 569, 567, 563, 561, 559, 557, 553, 551, 549, 547, 543, 541, 539, 537, 533, 531, 529, 527, 523, 521, 519, 517, 513, 511, 509, 507, 503, 501, 499, 497, 493, 491, 489, 487, 483, 481, 479, 477, 473, 471, 469, 467, 463, 461, 459, 457, 453, 451, 449, 447, 443, 441, 439, 437, 433, 431, 429, 427, 423, 421, 419, 417, 413, 411, 409, 407, 403, 401, 399, 397, 393, 391, 389, 387, 383, 381, 379, 377, 373, 371, 369, 367, 363, 361, 359, 357, 353, 351, 349, 347, 343, 341, 339, 337, 333, 331, 329, 327, 323, 321, 319, 317, 313, 311, 309, 307, 303, 301, 299, 297, 293, 291, 289, 287, 283, 281, 279, 277, 273, 271, 269, 267, 263, 261, 259, 257, 253, 251, 249, 247, 243, 241, 239, 237, 233, 231, 229, 227, 223, 221, 219, 217, 213, 211, 209, 207, 203, 201, 199, 197, 193, 191, 189, 187, 183, 181, 179, 177, 173, 171, 169, 167, 163, 161, 159, 157, 153, 151, 149, 147, 143, 141, 139, 137, 133, 131, 129, 127, 123, 121, 119, 117, 113, 111, 109, 107, 103, 101, 99, 97, 93, 91, 89, 87, 83, 81, 79, 77, 73, 71, 69, 67, 63, 61, 59, 57, 53, 51, 49, 47, 43, 41, 39, 37, 33, 31, 29, 27, 23, 21, 19, 17, 13, 11, 9, 7, 3, 1]\n"
     ]
    }
   ],
   "source": [
    "# non-0 digits of large factorials\n",
    "import math\n",
    "\n",
    "def no25(a): # return a list of all factorials of a less multiples of 2 and 5\n",
    "    if a > 3000:\n",
    "        return -1\n",
    "    retlst = []\n",
    "    while (a>0):\n",
    "        if a % 2 != 0 and a % 5 != 0:\n",
    "            retlst.append(a)\n",
    "        a -= 1\n",
    "    return retlst\n",
    "\n",
    "if __name__==\"__main__\":\n",
    "    k = 11\n",
    "    f = 4\n",
    "    #print math.factorial(k-1) % f\n",
    "    #print k % f\n",
    "    #print math.factorial(k-1) % f\n",
    "    print no25(2017)"
   ]
  },
  {
   "cell_type": "code",
   "execution_count": 19,
   "metadata": {},
   "outputs": [
    {
     "name": "stdout",
     "output_type": "stream",
     "text": [
      "2.4642842949\n"
     ]
    }
   ],
   "source": [
    "# odd sum of factors\n",
    "def get_divisors(num):\n",
    "    return [i for i in range(1, num+1) if num % i == 0]\n",
    "\n",
    "def sum_divisors(num):\n",
    "    return sum(get_divisors(num))\n",
    "\n",
    "if __name__==\"__main__\":\n",
    "    ns = 2.46398467273\n",
    "    for n in range(250000, 300000):\n",
    "        ls = sum_divisors(n)\n",
    "        if ls % 2 == 1:\n",
    "            #print('{0} -> {1}'.format(n, ls))\n",
    "            ns += 1. / float(n)\n",
    "    print ns"
   ]
  },
  {
   "cell_type": "code",
   "execution_count": 1,
   "metadata": {},
   "outputs": [
    {
     "name": "stdout",
     "output_type": "stream",
     "text": [
      "8 -> 2.99136862008 : 2 -- 6\n",
      "9 -> 3.13831935696 : 6 -- 3\n",
      "13 -> 3.55191212556 : 6 -- 7\n",
      "31 -> 4.35694306972 : 24 -- 7\n",
      "9 -> 3.13831935696 : 6 -- 3\n",
      "10 -> 3.26315694985 : 6 -- 4\n",
      "14 -> 3.62865124996 : 6 -- 8\n",
      "32 -> 4.3831947559 : 24 -- 8\n",
      "13 -> 3.55191212556 : 6 -- 7\n",
      "14 -> 3.62865124996 : 6 -- 8\n",
      "18 -> 3.87592520428 : 6 -- 12\n",
      "36 -> 4.47907186923 : 24 -- 12\n",
      "31 -> 4.35694306972 : 24 -- 7\n",
      "32 -> 4.3831947559 : 24 -- 8\n",
      "36 -> 4.47907186923 : 24 -- 12\n",
      "54 -> 4.79278343646 : 24 -- 30\n",
      "26 -> 4.20814098676 : 24 -- 2\n",
      "27 -> 4.24056782812 : 24 -- 3\n",
      "31 -> 4.35694306972 : 24 -- 7\n",
      "49 -> 4.71973241359 : 24 -- 25\n",
      "27 -> 4.24056782812 : 24 -- 3\n",
      "28 -> 4.2715514844 : 24 -- 4\n",
      "32 -> 4.3831947559 : 24 -- 8\n",
      "50 -> 4.73502526192 : 24 -- 26\n",
      "31 -> 4.35694306972 : 24 -- 7\n",
      "32 -> 4.3831947559 : 24 -- 8\n",
      "36 -> 4.47907186923 : 24 -- 12\n",
      "54 -> 4.79278343646 : 24 -- 30\n",
      "49 -> 4.71973241359 : 24 -- 25\n",
      "50 -> 4.73502526192 : 24 -- 26\n",
      "54 -> 4.79278343646 : 24 -- 30\n",
      "72 -> 5.00212781872 : 120 -- -48\n",
      "122 -> 5.36253292232 : 120 -- 2\n",
      "123 -> 5.3679021774 : 120 -- 3\n",
      "127 -> 5.38889446477 : 120 -- 7\n",
      "145 -> 5.47489574623 : 120 -- 25\n",
      "123 -> 5.3679021774 : 120 -- 3\n",
      "124 -> 5.37322211214 : 120 -- 4\n",
      "128 -> 5.39402548251 : 120 -- 8\n",
      "146 -> 5.47931462285 : 120 -- 26\n",
      "127 -> 5.38889446477 : 120 -- 7\n",
      "128 -> 5.39402548251 : 120 -- 8\n",
      "132 -> 5.41410460195 : 120 -- 12\n",
      "150 -> 5.49665464252 : 120 -- 30\n",
      "145 -> 5.47489574623 : 120 -- 25\n",
      "146 -> 5.47931462285 : 120 -- 26\n",
      "150 -> 5.49665464252 : 120 -- 30\n",
      "168 -> 5.56871395943 : 120 -- 48\n"
     ]
    }
   ],
   "source": [
    "# solving factorials\n",
    "import math\n",
    "\n",
    "def sfact(a, b, c): # a!+b!+c!\n",
    "    return math.factorial(a) + math.factorial(b) + math.factorial(c)\n",
    "\n",
    "def fstirl(a): # Stirling approx\n",
    "    return math.sqrt(2. * math.pi * a) * (a / math.e)**a\n",
    "\n",
    "def dapprox(a): # Stirling approx inv\n",
    "    r = 1.+16.*math.log(a**1.6/2./math.pi)\n",
    "    return (1. + math.sqrt(r)) / 2.\n",
    "\n",
    "if __name__==\"__main__\":\n",
    "    for a in range(3,6):\n",
    "        #af = math.factorial(a)\n",
    "        #print('{0} : {1} : {2}'.format(a, af, dapprox(af)))\n",
    "        for b in range(1,5):\n",
    "            for c in range(1,5):\n",
    "                d = sfact(a, b, c)\n",
    "                #print dapprox(d)\n",
    "                dinv = dapprox(d)\n",
    "                print('{0} -> {1} : {2} -- {3}'.format(d, dinv, math.factorial(int(dinv)), d - math.factorial(int(dinv))))"
   ]
  },
  {
   "cell_type": "code",
   "execution_count": 27,
   "metadata": {},
   "outputs": [
    {
     "name": "stdout",
     "output_type": "stream",
     "text": [
      "['1', '2', '6', '4', '2', '2', '4', '2', '8', '8', '8', '6', '8', '2', '8', '8', '6', '8', '2', '4', '4', '8', '4', '6', '4', '4', '8', '4', '6', '8', '8', '6', '8', '2', '2', '2', '4', '2', '8', '2', '2', '4', '2', '8', '6', '6', '2', '6', '4', '2', '2', '4', '2', '8', '4', '4', '8', '4', '6', '6', '6', '2', '6', '4', '6', '6', '2', '6', '4', '8', '8', '6', '8', '2', '4', '4', '8', '4', '6', '8', '8', '6', '8', '2', '2', '2', '4', '2', '8', '2', '2', '4', '2', '8', '6', '6', '2', '6', '4']\n"
     ]
    }
   ],
   "source": [
    "# solving factorials\n",
    "import math\n",
    "\n",
    "def nonzf(a): # last non-0 digit of factorial\n",
    "    facts = str(math.factorial(a))\n",
    "    zpos = facts.rfind(\"0\")\n",
    "    rpos = len(facts) - 1\n",
    "    while rpos > 0:\n",
    "        if facts[rpos] != \"0\":\n",
    "            return facts[rpos]\n",
    "        rpos -= 1\n",
    "    return facts[rpos]\n",
    "\n",
    "if __name__==\"__main__\":\n",
    "    #print nonzf(10)\n",
    "    res = []\n",
    "    for i in range(1,100):\n",
    "        res.append(nonzf(i))\n",
    "    print res"
   ]
  },
  {
   "cell_type": "code",
   "execution_count": 1,
   "metadata": {},
   "outputs": [
    {
     "name": "stdout",
     "output_type": "stream",
     "text": [
      "1\n",
      "11\n",
      "21\n",
      "1211\n",
      "111221\n",
      "312211\n",
      "13112221\n",
      "1113213211\n",
      "31131211131221\n",
      "13211311123113112211\n"
     ]
    }
   ],
   "source": [
    "def lookandsay(number):\n",
    "    result = \"\"\n",
    "\n",
    "    repeat = number[0]\n",
    "    number = number[1:]+\" \"\n",
    "    times = 1\n",
    "\n",
    "    for actual in number:\n",
    "        if actual != repeat:\n",
    "            result += str(times)+repeat\n",
    "            times = 1\n",
    "            repeat = actual\n",
    "        else:\n",
    "            times += 1\n",
    "\n",
    "    return result\n",
    "\n",
    "num = \"1\"\n",
    "\n",
    "for i in range(10):\n",
    "    print num\n",
    "    num = lookandsay(num)"
   ]
  },
  {
   "cell_type": "code",
   "execution_count": null,
   "metadata": {},
   "outputs": [
    {
     "name": "stdout",
     "output_type": "stream",
     "text": [
      "0\n",
      "0\n",
      "0\n",
      "0\n",
      "0\n",
      "1\n",
      "2\n",
      "1\n",
      "1\n",
      "1\n",
      "1\n",
      "1\n",
      "1\n",
      "1\n",
      "1\n",
      "1\n",
      "1\n",
      "1\n",
      "1\n",
      "1\n",
      "1\n",
      "1\n",
      "1\n",
      "1\n",
      "1\n",
      "1\n",
      "1\n",
      "1\n",
      "1\n",
      "1\n",
      "1\n",
      "1\n",
      "1\n",
      "1\n",
      "1\n",
      "1\n",
      "1\n",
      "1\n",
      "1\n",
      "1\n",
      "1\n",
      "1\n",
      "1\n"
     ]
    }
   ],
   "source": [
    "def decToBinary(num):\n",
    "    ret = \"\";\n",
    "    while(num > 0):\n",
    "        ret = str(num % 2) + ret;\n",
    "        num = int(num / 2);\n",
    "    return int(ret);\n",
    "\n",
    "def binaryLookAndSay(pSeq):\n",
    "    seq = \"\";\n",
    "    counter = 0;\n",
    "    while(counter < len(pSeq)):\n",
    "        n = 0;\n",
    "        m = pSeq[counter];\n",
    "        while(counter < len(pSeq) and pSeq[counter] == m):\n",
    "            n += 1;\n",
    "            counter += 1;\n",
    "        seq += str(decToBinary(n));\n",
    "        seq += str(m);\n",
    "    return seq;\n",
    "\n",
    "def f(seq):\n",
    "    counter = 0;\n",
    "    for i in range(0, len(seq) - 2):\n",
    "        if(seq[i] + seq[i+1] + seq[i+2] == \"100\"):\n",
    "            counter += 1;\n",
    "    return counter;\n",
    "\n",
    "sequence = \"1\";\n",
    "prev = 0;\n",
    "for i in range(0, 100):\n",
    "    prev = f(sequence);\n",
    "    sequence = binaryLookAndSay(sequence);\n",
    "    if(prev != 0):\n",
    "        print(f(sequence) / prev);\n",
    "    else:\n",
    "        print(\"0\");"
   ]
  },
  {
   "cell_type": "code",
   "execution_count": 27,
   "metadata": {},
   "outputs": [
    {
     "name": "stdout",
     "output_type": "stream",
     "text": [
      "49.3586821241\n"
     ]
    }
   ],
   "source": [
    "# buying stuff\n",
    "import math\n",
    "import random\n",
    "\n",
    "def spend(l): # spending random amt\n",
    "    return random.uniform(0,l)\n",
    "\n",
    "def iprice(l): # item price\n",
    "    return random.uniform(0,l)\n",
    "\n",
    "def spdbud(a,b): # spend budget\n",
    "    res = 0\n",
    "    s = iprice(a)\n",
    "    while b > 0.:\n",
    "        #s = spend(a)\n",
    "        if s > b or b < 0.00000001:\n",
    "            return res\n",
    "        b -= s\n",
    "        res += s\n",
    "    return res\n",
    "\n",
    "if __name__==\"__main__\":\n",
    "    #print spdbud(60., 60.)\n",
    "    rsum = 0.\n",
    "    l = 100000\n",
    "    for i in range(l):\n",
    "        rsum += spdbud(60., 60.)\n",
    "    print rsum / float(l)"
   ]
  },
  {
   "cell_type": "code",
   "execution_count": 3,
   "metadata": {},
   "outputs": [
    {
     "name": "stdout",
     "output_type": "stream",
     "text": [
      "1.148698355\n",
      "1.24573093962\n",
      "1.31950791077\n",
      "1.37972966146\n",
      "1.43096908111\n",
      "1.51571656651\n",
      "1.64375182952\n",
      "1.69521820307\n",
      "1.78260245797\n",
      "1.82056420303\n",
      "1.88817502259\n",
      "1.97435048583\n",
      "2.0\n",
      "2.06993505408\n",
      "2.11178576497\n",
      "2.13152551327\n",
      "2.1689435424\n"
     ]
    }
   ],
   "source": [
    "# prime of form n^5-1?\n",
    "import fractions\n",
    "import functools\n",
    "import itertools\n",
    "import operator\n",
    "\n",
    "def is_prime(n):\n",
    "    for i in range(3, n):\n",
    "        if n % i == 0:\n",
    "            return False\n",
    "    return True\n",
    "\n",
    "def n5(n):\n",
    "    return n ** 5\n",
    "\n",
    "if __name__==\"__main__\":\n",
    "    for p in range(1,50):\n",
    "        if is_prime(p):\n",
    "            print ( p + 1. ) ** (1./5.)"
   ]
  },
  {
   "cell_type": "code",
   "execution_count": 15,
   "metadata": {},
   "outputs": [
    {
     "name": "stdout",
     "output_type": "stream",
     "text": [
      "1441\n"
     ]
    }
   ],
   "source": [
    "# f(n) = 1-f(n-1)f(n-3)f(n-4)\n",
    "import math\n",
    "\n",
    "def fn(n):\n",
    "    if n<0:\n",
    "        return 1\n",
    "    return 1 - fn(n-1)*fn(n-3)*fn(n-4)\n",
    "\n",
    "def fnl(n):\n",
    "    retvals = [0,1,0,1,1,1,1]\n",
    "    if n<0:\n",
    "        return 1\n",
    "    return retvals[n % 7]\n",
    "\n",
    "if __name__==\"__main__\":\n",
    "    #for n in range(20):\n",
    "        #diff = fn(n) - fnl(n)\n",
    "        #print('n: {0} fn: {1} : {2}'.format(n, fn(n), diff))\n",
    "    res = 0\n",
    "    for n in range(2018):\n",
    "        res += fnl(n)\n",
    "    print res"
   ]
  },
  {
   "cell_type": "code",
   "execution_count": 11,
   "metadata": {},
   "outputs": [
    {
     "name": "stdout",
     "output_type": "stream",
     "text": [
      "-1.0\n",
      "0.0\n",
      "23.0\n",
      "25.0026269926\n",
      "27.0035396265\n",
      "29.0055504172\n",
      "34.0041695697\n",
      "40.0010571251\n",
      "64.0052321523\n",
      "65.0040038377\n",
      "68.002520034\n",
      "80.0060955535\n",
      "82.003886476\n",
      "94.0014895557\n",
      "96.0050064132\n",
      "102.00965486\n",
      "104.009985849\n"
     ]
    }
   ],
   "source": [
    "# 0^3+1^3+2^3=3^2 - perfect squares and cubes\n",
    "import math\n",
    "\n",
    "def nn(k):\n",
    "    a = (math.sqrt(3.) * math.sqrt(3.*k**4+32.)+3.*k*k) ** (1./3.)\n",
    "    return a / (18. ** (1./3.)) - 2. * (2./3.) ** (1./3.) / a - 1.\n",
    "\n",
    "if __name__==\"__main__\":\n",
    "    for k in range(0,2000):\n",
    "        n = nn(k)\n",
    "        if abs(n-math.floor(n)) < 0.01:\n",
    "            print n\n",
    "        #print('n: {0} fn: {1} : {2}'.format(n, fn(n), diff))"
   ]
  },
  {
   "cell_type": "code",
   "execution_count": 34,
   "metadata": {},
   "outputs": [
    {
     "name": "stdout",
     "output_type": "stream",
     "text": [
      "20.7389584857\n"
     ]
    }
   ],
   "source": [
    "# rolling dice and rerolling the sames\n",
    "import math\n",
    "import random\n",
    "from itertools import groupby\n",
    "\n",
    "def roll3(rl, n):\n",
    "    thsrlls = []\n",
    "    for i in range(n+1):\n",
    "        thsrlls.append(random.randint(1, 6))\n",
    "    ctlst = [len(list(group)) for key, group in groupby(thsrlls)]\n",
    "    ctlst.sort(reverse=True)\n",
    "    rl += thsrlls\n",
    "    if ctlst[0] == 1:\n",
    "        return rl\n",
    "    if ctlst[0] == 2:\n",
    "        return roll3(rl, 2)\n",
    "    if ctlst[0] >= 3:\n",
    "        return roll3(rl, 3)\n",
    "\n",
    "if __name__==\"__main__\":\n",
    "    #print roll3([], 3)\n",
    "    #print('n: {0} fn: {1} : {2}'.format(n, fn(n), diff))\n",
    "    res = 0.\n",
    "    nlen = 35000000\n",
    "    for i in range(nlen):\n",
    "        res += sum(roll3([], 3))\n",
    "    print res / nlen"
   ]
  },
  {
   "cell_type": "code",
   "execution_count": 12,
   "metadata": {},
   "outputs": [
    {
     "name": "stdout",
     "output_type": "stream",
     "text": [
      "dist: 0.000273053488 normal: -1.70761919983e-05\n",
      "params: [4.050000000000001, -2.624999999999999, 0.43750000000000006, 6.38378239159465e-16, 0.4100000000000006, 0.4200000000000006]\n",
      "dist: 0.00019797786175 normal: -0.000187363511998\n",
      "params: [4.075000000000001, -2.6374999999999993, 0.43750000000000006, 6.38378239159465e-16, 0.4100000000000006, 0.4200000000000006]\n",
      "dist: 0.000110915398937 normal: 0.000190547789252\n",
      "params: [4.112500000000002, -2.6499999999999995, 0.43750000000000006, 6.38378239159465e-16, 0.4100000000000006, 0.4200000000000006]\n",
      "dist: 3.54305539376e-05 normal: 1.95609067516e-05\n",
      "params: [4.137500000000002, -2.6624999999999996, 0.43750000000000006, 6.38378239159465e-16, 0.4100000000000006, 0.4200000000000006]\n",
      "dist: 4.03451035624e-05 normal: -0.000149876175748\n",
      "params: [4.162500000000002, -2.675, 0.43750000000000006, 6.38378239159465e-16, 0.4100000000000006, 0.4200000000000006]\n",
      "dist: 0.00026025348175 normal: 0.000295606458002\n",
      "params: [4.1750000000000025, -2.612499999999999, 0.45000000000000007, 6.38378239159465e-16, 0.4100000000000006, 0.4200000000000006]\n",
      "dist: 0.000126696832 normal: 0.000226754388002\n",
      "params: [4.200000000000003, -2.6875, 0.43750000000000006, 6.38378239159465e-16, 0.4100000000000006, 0.4200000000000006]\n",
      "dist: 0.000187537543 normal: 5.71793880021e-05\n",
      "params: [4.200000000000003, -2.624999999999999, 0.45000000000000007, 6.38378239159465e-16, 0.4100000000000006, 0.4200000000000006]\n",
      "dist: 0.00020288170825 normal: 5.66177430018e-05\n",
      "params: [4.225000000000003, -2.7, 0.43750000000000006, 6.38378239159465e-16, 0.4100000000000006, 0.4200000000000006]\n",
      "dist: 0.00011453079175 normal: -0.000179697881998\n",
      "params: [4.225000000000003, -2.6374999999999993, 0.45000000000000007, 6.38378239159465e-16, 0.4100000000000006, 0.4200000000000006]\n"
     ]
    }
   ],
   "source": [
    "# a square on a cubic curve\n",
    "import math\n",
    "\n",
    "def fcub(x, a, b, c): # function\n",
    "    return x*x*x + a*x*x + b*x + c\n",
    "\n",
    "def dist(x0, x1, a, b, c): # distance\n",
    "    return (x1 - x0)**2 + (fcub(x1, a, b, c) - fcub(x0, a, b, c))**2\n",
    "\n",
    "def dot(x0, x1, x2, a, b, c): # dot product\n",
    "    return (x1 - x0)*(x2 - x0) + (fcub(x1, a, b, c) + fcub(x0, a, b, c))*(fcub(x2, a, b, c) - fcub(x0, a, b, c))\n",
    "\n",
    "def triangle(a, b, c):\n",
    "    x0 = -2.\n",
    "    xrg = 3.\n",
    "    err = 0.0002998\n",
    "    ndiv = 30\n",
    "    for ix0 in range(ndiv):\n",
    "        x1 = x0 + 0.01\n",
    "        for ix1 in range(ndiv):\n",
    "            x3 = x1 + 0.01\n",
    "            d1 = dist(x0, x1, a, b, c)\n",
    "            for ix3 in range(ndiv):\n",
    "                d3 = dist(x0, x3, a, b, c)\n",
    "                adist = abs(d3 - d1)\n",
    "                if adist < err:\n",
    "                    ddo = dot(x0, x1, x3, a, b, c)\n",
    "                    #print abs(d3 - d1)\n",
    "                    if abs(ddo) < err:\n",
    "                        print('dist: {0} normal: {1}'.format(adist, ddo))\n",
    "                        return [a, b, c, x0, x1, x3]\n",
    "                x3 += xrg / ndiv\n",
    "            x1 += xrg / ndiv\n",
    "        x0 += xrg / ndiv\n",
    "    return []\n",
    "\n",
    "if __name__==\"__main__\":\n",
    "    nstps = 20\n",
    "    pardist = 0.25\n",
    "    a = 4.0\n",
    "    for ia in range(nstps):\n",
    "        b = -2.7\n",
    "        for ib in range(nstps):\n",
    "            c = 0.4\n",
    "            for ic in range(nstps):\n",
    "                tr = triangle(a, b, c)\n",
    "                if len(tr) > 0:\n",
    "                    print('params: {0}'.format(tr))\n",
    "                c += pardist / nstps\n",
    "            b += pardist / nstps\n",
    "        a += pardist / nstps"
   ]
  },
  {
   "cell_type": "code",
   "execution_count": 13,
   "metadata": {},
   "outputs": [
    {
     "name": "stdout",
     "output_type": "stream",
     "text": [
      "0.10999554683\n"
     ]
    }
   ],
   "source": [
    "# a square on a cubic curve 2\n",
    "import math\n",
    "\n",
    "def fcub(x, a, b, c): # function\n",
    "    return x*x*x + a*x*x + b*x + c\n",
    "\n",
    "def dist(x0, x1, a, b, c): # distance\n",
    "    return (x1 - x0)**2 + (fcub(x1, a, b, c) - fcub(x0, a, b, c))**2\n",
    "\n",
    "if __name__==\"__main__\":\n",
    "    a = 4.1625\n",
    "    b = -2.675\n",
    "    c = 0.4375\n",
    "    x0 = fcub(0., a, b, c)\n",
    "    x1 = fcub(0.41, a, b, c)\n",
    "    print dist(x0, x1, a, b, c)"
   ]
  },
  {
   "cell_type": "code",
   "execution_count": 7,
   "metadata": {},
   "outputs": [
    {
     "name": "stdout",
     "output_type": "stream",
     "text": [
      "[1, 3, 9, 27, 81]\n",
      "[1, 3]\n"
     ]
    }
   ],
   "source": [
    "# simple divisors\n",
    "import math\n",
    "\n",
    "def diva(a): # get divisors\n",
    "    res = []\n",
    "    for t in range(1,a+1):\n",
    "        if a % t == 0:\n",
    "            res += [t]\n",
    "    return res\n",
    "\n",
    "def div(a): # get divisors\n",
    "    res = []\n",
    "    for t in range(1,a+1):\n",
    "        if a % t == 0:\n",
    "            check = True\n",
    "            for ot in res:\n",
    "                if ot != 1 and t % ot == 0:\n",
    "                    check = False\n",
    "                    break\n",
    "            if check:\n",
    "                res += [t]\n",
    "    return res\n",
    "\n",
    "if __name__ == \"__main__\":\n",
    "    print diva(81)\n",
    "    print div(81)"
   ]
  },
  {
   "cell_type": "code",
   "execution_count": 59,
   "metadata": {},
   "outputs": [
    {
     "name": "stdout",
     "output_type": "stream",
     "text": [
      "2.0\n"
     ]
    }
   ],
   "source": [
    "# general Fibonacci\n",
    "import math\n",
    "\n",
    "def fib(n): # simple fibonacci\n",
    "    fn1 = 0.\n",
    "    fn2 = 1.\n",
    "    for k in range(1,n+1):\n",
    "        fn = fn1 + fn2\n",
    "        fn2 = fn1\n",
    "        fn1 = fn\n",
    "    return fn\n",
    "\n",
    "def fibm(n, m): # general fibonacci\n",
    "    fnm = []\n",
    "    for k in range(1,m):\n",
    "        fnm.append(0.)\n",
    "    fnm.append(1.)\n",
    "    for k in range(1,n):\n",
    "        fn = 0.\n",
    "        for i in range(k,k-m,-1):\n",
    "            fn += fnm[i]\n",
    "        fnm.append(fn)\n",
    "    return fn\n",
    "\n",
    "if __name__ == \"__main__\":\n",
    "    #print fib(8)\n",
    "    #print fibm(8, 2)\n",
    "    #print fib(101)/fib(100)\n",
    "    print fibm(3001, 3000)/fibm(3000, 3000)"
   ]
  },
  {
   "cell_type": "code",
   "execution_count": 80,
   "metadata": {},
   "outputs": [
    {
     "name": "stdout",
     "output_type": "stream",
     "text": [
      "0.575075887179\n",
      "22.2933942547\n",
      "0.0257957976523\n",
      "0.0148294537994\n"
     ]
    }
   ],
   "source": [
    "# hypercubes\n",
    "import math\n",
    "\n",
    "def hypc2(): # hypercube\n",
    "    nsteps = 10\n",
    "    ds = 1.0 / nsteps\n",
    "    sumd = 0.\n",
    "    for ix in range(nsteps):\n",
    "        x = -0.5 + ds * ix\n",
    "        sumd += math.sqrt(x*x+0.25)\n",
    "    return sumd / nsteps\n",
    "\n",
    "def hypc(n): # hypercube\n",
    "    nsteps = 10\n",
    "    ds = 1.0 / nsteps\n",
    "    sumd = 0.\n",
    "    xvec = [-0.5 for i in range(n)]\n",
    "    for idim in range(n):\n",
    "        xvec[idim] = -0.5\n",
    "        for ix in range(nsteps):\n",
    "            if idim < n-1:\n",
    "                xvec[idim] += ds * ix\n",
    "            sumvec = 0.\n",
    "            for i in range(n):\n",
    "                sumvec += xvec[i]**2\n",
    "            #print xvec\n",
    "            sumd += math.sqrt(sumvec)\n",
    "    return 2.**n*sumd / nsteps**(n-1)\n",
    "\n",
    "if __name__ == \"__main__\":\n",
    "    print hypc2()\n",
    "    print hypc(2)\n",
    "    print hypc2() / hypc(2)\n",
    "    print hypc(8)"
   ]
  },
  {
   "cell_type": "code",
   "execution_count": 139,
   "metadata": {},
   "outputs": [
    {
     "name": "stdout",
     "output_type": "stream",
     "text": [
      "14.95\n"
     ]
    }
   ],
   "source": [
    "# rolling dice and rerolling the sames but now over all dice\n",
    "import math\n",
    "import random\n",
    "from itertools import groupby\n",
    "\n",
    "def roll(tot, n):\n",
    "    thsrlls = []\n",
    "    for i in range(n):\n",
    "        thsrlls.append(random.randint(1, 6))\n",
    "    thsrlls.sort()\n",
    "    ctlst = [len(list(group)) for key, group in groupby(thsrlls)]\n",
    "    ctlst.sort(reverse=True)\n",
    "    tot += sum(thsrlls)\n",
    "    if ctlst[0] == 1: # no more multiples\n",
    "        return tot\n",
    "    if ctlst[0] == 2:\n",
    "        return roll(tot, 2)\n",
    "    if ctlst[0] > 2:\n",
    "        return roll(tot, 3)\n",
    "\n",
    "if __name__==\"__main__\":\n",
    "    res = 0.\n",
    "    nlen = 20\n",
    "    for i in range(nlen):\n",
    "        res += roll(0, 3)\n",
    "    print res / (nlen)"
   ]
  },
  {
   "cell_type": "code",
   "execution_count": 133,
   "metadata": {},
   "outputs": [
    {
     "name": "stdout",
     "output_type": "stream",
     "text": [
      "[2, 1]\n",
      "(1, <itertools._grouper object at 0x0000000004B0EDD8>)\n",
      "(3, <itertools._grouper object at 0x0000000004B0EFD0>)\n",
      "6\n"
     ]
    }
   ],
   "source": [
    "from itertools import groupby\n",
    "\n",
    "rolls = [1,3,1]\n",
    "rolls.sort()\n",
    "ctlst = [len(list(group)) for key, group in groupby(rolls)]\n",
    "ctlst.sort(reverse=True)\n",
    "print ctlst\n",
    "for g in groupby(rolls):\n",
    "    print g\n",
    "print random.randint(1, 6)"
   ]
  },
  {
   "cell_type": "code",
   "execution_count": null,
   "metadata": {
    "collapsed": true
   },
   "outputs": [],
   "source": []
  }
 ],
 "metadata": {
  "kernelspec": {
   "display_name": "Python 2",
   "language": "python",
   "name": "python2"
  },
  "language_info": {
   "codemirror_mode": {
    "name": "ipython",
    "version": 2
   },
   "file_extension": ".py",
   "mimetype": "text/x-python",
   "name": "python",
   "nbconvert_exporter": "python",
   "pygments_lexer": "ipython2",
   "version": "2.7.13"
  }
 },
 "nbformat": 4,
 "nbformat_minor": 2
}
