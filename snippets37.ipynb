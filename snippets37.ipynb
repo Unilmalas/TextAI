{
 "cells": [
  {
   "cell_type": "code",
   "execution_count": 1,
   "metadata": {},
   "outputs": [
    {
     "name": "stdout",
     "output_type": "stream",
     "text": [
      "3\n"
     ]
    }
   ],
   "source": [
    "# Hofstadter Female and Male sequences\n",
    "def fem(n):\n",
    "    '''Hofstadter Female sequence'''\n",
    "    #print('fem: ', n)\n",
    "    if n <= 0: return 1\n",
    "    return n - mle(fem(n-1))\n",
    "\n",
    "def mle(n):\n",
    "    '''Hofstadter Male sequence'''\n",
    "    #print('mle: ', n)\n",
    "    if n <= 0: return 0\n",
    "    return n - fem(mle(n-1))\n",
    "\n",
    "def main():\n",
    "    print(fem(4))\n",
    "\n",
    "if __name__ == '__main__':\n",
    "    main()"
   ]
  },
  {
   "cell_type": "markdown",
   "metadata": {},
   "source": [
    "# Machine Learning One-Liners"
   ]
  },
  {
   "cell_type": "code",
   "execution_count": 2,
   "metadata": {},
   "outputs": [
    {
     "name": "stdout",
     "output_type": "stream",
     "text": [
      "[158. 159.]\n"
     ]
    }
   ],
   "source": [
    "# linear regression one-liner\n",
    "from sklearn.linear_model import LinearRegression\n",
    "import numpy as np\n",
    "\n",
    "apple = np.array([155, 156, 157])\n",
    "n = len(apple)\n",
    "model = LinearRegression().fit(np.arange(n).reshape((n,1)), apple)\n",
    "print(model.predict([[3],[4]]))"
   ]
  },
  {
   "cell_type": "code",
   "execution_count": 3,
   "metadata": {},
   "outputs": [
    {
     "name": "stdout",
     "output_type": "stream",
     "text": [
      "['No' 'No' 'No' 'Yes' 'Yes']\n",
      "[['0']\n",
      " ['10']\n",
      " ['60']\n",
      " ['90']]\n"
     ]
    }
   ],
   "source": [
    "# linear regression one-liner\n",
    "from sklearn.linear_model import LogisticRegression\n",
    "import numpy as np\n",
    "\n",
    "X = np.array([[0, 'No'],\n",
    "             [10, 'No'],\n",
    "             [60, 'Yes'],\n",
    "             [90, 'Yes']])\n",
    "\n",
    "n = len(X)\n",
    "model = LogisticRegression().fit(X[:,0].reshape(n,1), X[:,1]) # fit first X[:,0] column against 2nd column X[:,1]\n",
    "\n",
    "print(model.predict([[2], [12], [13], [40], [90]]))\n",
    "print(X[:,0].reshape(n,1))"
   ]
  },
  {
   "cell_type": "code",
   "execution_count": 7,
   "metadata": {},
   "outputs": [
    {
     "name": "stdout",
     "output_type": "stream",
     "text": [
      "[[  50. 7000.]\n",
      " [  20. 2000.]]\n"
     ]
    }
   ],
   "source": [
    "# K Means\n",
    "from sklearn.cluster import KMeans\n",
    "import numpy as np\n",
    "\n",
    "X = np.array([[35, 7000], [45, 6900], [70, 7100],\n",
    "             [20, 2000], [25, 2200], [15, 1800]])\n",
    "\n",
    "kmeans = KMeans(n_clusters=2).fit(X) # fit X\n",
    "\n",
    "cc = kmeans.cluster_centers_\n",
    "print(cc)"
   ]
  },
  {
   "cell_type": "code",
   "execution_count": 9,
   "metadata": {},
   "outputs": [
    {
     "name": "stdout",
     "output_type": "stream",
     "text": [
      "[32500.]\n"
     ]
    }
   ],
   "source": [
    "# k nearest neighbors\n",
    "from sklearn.neighbors import KNeighborsRegressor\n",
    "import numpy as np\n",
    "\n",
    "X = np.array([[35, 30000], [45, 45000], [40, 50000],\n",
    "             [35, 35000], [25, 32500], [40, 40000]])\n",
    "\n",
    "KNN = KNeighborsRegressor(n_neighbors=3).fit(X[:,0].reshape(-1,1), X[:,1])\n",
    "\n",
    "res = KNN.predict([[30]])\n",
    "print(res)"
   ]
  },
  {
   "cell_type": "code",
   "execution_count": 1,
   "metadata": {},
   "outputs": [
    {
     "name": "stdout",
     "output_type": "stream",
     "text": [
      "[2175.40135654]\n"
     ]
    }
   ],
   "source": [
    "# NN\n",
    "from sklearn.neural_network import MLPRegressor\n",
    "import numpy as np\n",
    "\n",
    "X = np.array([[20, 11, 20, 30, 4000, 3000],\n",
    "             [12, 4, 0, 0, 1000, 1500],\n",
    "             [2, 0, 1, 10, 0, 1400],\n",
    "             [35, 5, 10, 70, 6000, 3800],\n",
    "             [30, 1, 4, 65, 0, 3900],\n",
    "             [35, 1, 0, 0, 0, 100],\n",
    "             [15, 1, 2, 25, 0, 3700],\n",
    "             [40, 3, -1, 60, 1000, 2000],\n",
    "             [40, 1, 2, 95, 0, 1000],\n",
    "             [10, 0, 0, 0, 0, 1400],\n",
    "             [30, 1, 0, 50, 0, 1700],\n",
    "             [1, 0, 0, 45, 0, 1762],\n",
    "             [10, 32, 10, 5, 0, 2400],\n",
    "             [5, 35, 4, 0, 13000, 3900],\n",
    "             [8, 9, 40, 30, 1000, 2625],\n",
    "             [1, 0, 1, 0, 0, 1900],\n",
    "             [1, 30, 10, 0, 1000, 1900],\n",
    "             [7, 16, 5, 0, 0, 3000]])\n",
    "\n",
    "NN = MLPRegressor(max_iter=10000).fit(X[:,:-1], X[:,-1])\n",
    "\n",
    "res = NN.predict([[20, 1, 10, 50, 1000]])\n",
    "print(res)"
   ]
  },
  {
   "cell_type": "code",
   "execution_count": 4,
   "metadata": {},
   "outputs": [
    {
     "name": "stdout",
     "output_type": "stream",
     "text": [
      "[['9' '5' '6']\n",
      " ['1' '8' '1']\n",
      " ['5' '7' '9']] ['computer science' 'linguistics' 'art']\n",
      "['computer science']\n",
      "['art']\n"
     ]
    }
   ],
   "source": [
    "# decision trees\n",
    "from sklearn import tree\n",
    "import numpy as np\n",
    "\n",
    "# scores math, lang, creativity\n",
    "X = np.array([[9, 5, 6, 'computer science'],\n",
    "             [1, 8, 1, 'linguistics'],\n",
    "             [5, 7, 9, 'art']])\n",
    "\n",
    "print(X[:, :-1], X[:, -1]) # all cols but last, last col\n",
    "\n",
    "Tree = tree.DecisionTreeClassifier().fit(X[:, :-1], X[:, -1])\n",
    "\n",
    "student_0 = Tree.predict([[8, 6, 5]])\n",
    "print(student_0)\n",
    "\n",
    "student_1 = Tree.predict([[3, 7, 9]])\n",
    "print(student_1)"
   ]
  },
  {
   "cell_type": "code",
   "execution_count": 8,
   "metadata": {},
   "outputs": [
    {
     "name": "stdout",
     "output_type": "stream",
     "text": [
      "row with min var:  3\n",
      "var:  0.25\n"
     ]
    }
   ],
   "source": [
    "# minimal variance\n",
    "import numpy as np\n",
    "\n",
    "X = np.array([[25, 27, 29, 30],\n",
    "              [1,5,3,2],\n",
    "              [12,11,8,3],\n",
    "              [1,1,2,2],\n",
    "              [2,6,2,2]])\n",
    "\n",
    "minvar_row = min([(i, np.var(X[i,:])) for i in range(len(X))], key=lambda x: x[1])\n",
    "\n",
    "print('row with min var: ', str(minvar_row[0]))\n",
    "print('var: ', str(minvar_row[1]))"
   ]
  },
  {
   "cell_type": "code",
   "execution_count": 10,
   "metadata": {},
   "outputs": [
    {
     "name": "stdout",
     "output_type": "stream",
     "text": [
      "2.0\n",
      "2.4444444444444446\n",
      "1.5634719199411433\n",
      "[3. 1. 2.] [2.66666667 0.         2.66666667] [1.63299316 0.         1.63299316]\n"
     ]
    }
   ],
   "source": [
    "# basic statistics\n",
    "import numpy as np\n",
    "\n",
    "X = np.array([[1, 3, 5],\n",
    "              [1, 1, 1],\n",
    "              [0, 2, 4]])\n",
    "\n",
    "print(np.average(X))\n",
    "print(np.var(X))\n",
    "print(np.std(X))\n",
    "\n",
    "avg, var, std = np.average(X, axis=1), np.var(X, axis=1), np.std(X, axis=1)\n",
    "print(avg, var, std)"
   ]
  },
  {
   "cell_type": "code",
   "execution_count": 13,
   "metadata": {},
   "outputs": [
    {
     "name": "stdout",
     "output_type": "stream",
     "text": [
      "['art']\n",
      "['computer science']\n"
     ]
    }
   ],
   "source": [
    "# support vector machine (SVM)\n",
    "from sklearn import svm\n",
    "import numpy as np\n",
    "\n",
    "# scores math, lang, creativity\n",
    "X = np.array([[9, 5, 6, 'computer science'],\n",
    "              [10, 1, 2, 'computer science'],\n",
    "              [1, 8, 1, 'linguistics'],\n",
    "              [4, 9, 3, 'linguistics'],\n",
    "              [0, 1, 10, 'art'],\n",
    "              [5, 7, 9, 'art']])\n",
    "\n",
    "svm = svm.SVC().fit(X[:, :-1], X[:, -1])\n",
    "\n",
    "student_0 = svm.predict([[3, 3, 6]])\n",
    "print(student_0)\n",
    "student_1 = svm.predict([[8, 1, 1]])\n",
    "print(student_1)"
   ]
  },
  {
   "cell_type": "code",
   "execution_count": 14,
   "metadata": {},
   "outputs": [
    {
     "name": "stdout",
     "output_type": "stream",
     "text": [
      "['computer science' 'art' 'linguistics']\n"
     ]
    }
   ],
   "source": [
    "# random forest\n",
    "from sklearn.ensemble import RandomForestClassifier\n",
    "import numpy as np\n",
    "\n",
    "# scores math, lang, creativity\n",
    "X = np.array([[9, 5, 6, 'computer science'],\n",
    "              [10, 1, 2, 'computer science'],\n",
    "              [1, 8, 1, 'linguistics'],\n",
    "              [4, 9, 3, 'linguistics'],\n",
    "              [0, 1, 10, 'art'],\n",
    "              [5, 7, 9, 'art']])\n",
    "\n",
    "forest = RandomForestClassifier(n_estimators=10).fit(X[:, :-1], X[:, -1])\n",
    "\n",
    "students = forest.predict([[8, 6, 5],\n",
    "                          [3, 7, 9],\n",
    "                          [2, 2, 1]])\n",
    "print(students)"
   ]
  },
  {
   "cell_type": "markdown",
   "metadata": {},
   "source": [
    "# RegEx One-Liners"
   ]
  },
  {
   "cell_type": "code",
   "execution_count": 24,
   "metadata": {},
   "outputs": [
    {
     "name": "stdout",
     "output_type": "stream",
     "text": [
      "dot regex:  ['fox']\n",
      "asterix regex greedy:  ['jumped over the lazy d']\n",
      "asterix regex nongreedy:  ['jumped']\n",
      "0-or-1 regex:  ['the', 'the', 'th']\n",
      "['peter', 'piper', 'picked a peck of pickled pepper']\n"
     ]
    }
   ],
   "source": [
    "# some basics\n",
    "import re\n",
    "\n",
    "text = '''the fox jumped over the lazy dog this makes no sense'''\n",
    "\n",
    "print('dot regex: ', re.findall('f.x', text))\n",
    "print('asterix regex greedy: ', re.findall('j.*d', text)) # greedy\n",
    "print('asterix regex nongreedy: ', re.findall('j.*?d', text)) # nongreedy\n",
    "print('0-or-1 regex: ', re.findall('the?', text)) # letter right in front of the ?\n",
    "\n",
    "text = 'peter piper picked a peck of pickled peppers'\n",
    "\n",
    "result = re.findall('p.*?e.*?r', text)\n",
    "print(result)"
   ]
  },
  {
   "cell_type": "code",
   "execution_count": 25,
   "metadata": {},
   "outputs": [
    {
     "name": "stdout",
     "output_type": "stream",
     "text": [
      "/security_crypto_916\n"
     ]
    }
   ],
   "source": [
    "# webscraper\n",
    "import urllib.request\n",
    "\n",
    "search_phrase = 'crypto'\n",
    "\n",
    "with urllib.request.urlopen('https://www.wired.com/') as response:\n",
    "    html = response.read().decode('utf8') # convert to string\n",
    "    first_pos = html.find(search_phrase)\n",
    "    print(html[first_pos - 10: first_pos + 10])"
   ]
  },
  {
   "cell_type": "code",
   "execution_count": 27,
   "metadata": {},
   "outputs": [
    {
     "name": "stdout",
     "output_type": "stream",
     "text": [
      "<re.Match object; span=(0, 29), match='crypto-bot is trading Bitcoin'>\n"
     ]
    }
   ],
   "source": [
    "import re\n",
    "\n",
    "text_1 = 'crypto-bot is trading Bitcoin and other currencies'\n",
    "\n",
    "pattern = re.compile('crypto(.{1,30})coin')\n",
    "# () regex matches whatever is inside, . matches one char, {1,30} matches 1 to 30 occurances\n",
    "\n",
    "print(pattern.match(text_1))"
   ]
  },
  {
   "cell_type": "code",
   "execution_count": 30,
   "metadata": {},
   "outputs": [
    {
     "name": "stdout",
     "output_type": "stream",
     "text": [
      "[('<a target=\"_blank\" href=\"https://blog.finxter.com/finxter-premium-membership/\" class=\"w3-large w3-btn w3-center w3-round-large w3-margin w3-padding orange w3-hover-white w3-hover-opacity\">', 'premium'), ('<a href=\"https://academy.finxter.com/\" target=\"_blank\">computer science academy</a>', 'science')]\n"
     ]
    }
   ],
   "source": [
    "# html\n",
    "import re\n",
    "\n",
    "page = '''<div id=\"certificates\" class=\"w3-center w3-round-xlarge w3-padding w3-margin-left w3-margin-right w3-hover-shadow\">\n",
    "  <h2>\n",
    "    <b>Become Premium Member and Certify Your Skills</b>\n",
    "  </h2>\n",
    "  <!--h4> Elo 0-9999 </h4-->\n",
    "  <p>\n",
    "    <img src=\"/static/Certificate/CertificateDemo.jpg\" alt=\"Demo Certificate\" class=\"w3-image w3-round\" loading=\"lazy\" style=\"width:50%;max-width:400px;min-width:150px\">\n",
    "    \n",
    "  </p>\n",
    "  <a target=\"_blank\" href=\"https://blog.finxter.com/finxter-premium-membership/\" class=\"w3-large w3-btn w3-center w3-round-large w3-margin w3-padding orange w3-hover-white w3-hover-opacity\">\n",
    "    Become Premium Member ($9/m) <i class=\"fas fa-award w3-large\" aria-hidden=\"true\"></i> </a>\n",
    "  <p class=\"w3-center\">\n",
    "    (Your benefits: unlimited puzzles, no book &amp; course ads here,\n",
    "    no annoying \"premium\" popups,\n",
    "    printable Python certificates, free\n",
    "    <a href=\"https://academy.finxter.com/\" target=\"_blank\">computer science academy</a>\n",
    "    access, and a small golden crown icon in the header ;)\n",
    "  </p>\n",
    "</div>'''\n",
    "\n",
    "p_test = re.findall(\"(<a.*?finxter.*?(premium|science).*?>)\", page)\n",
    "# () regex matches whatever is inside, . matches one char, {1,30} matches 1 to 30 occurances\n",
    "\n",
    "print(p_test)"
   ]
  },
  {
   "cell_type": "code",
   "execution_count": 1,
   "metadata": {},
   "outputs": [
    {
     "name": "stdout",
     "output_type": "stream",
     "text": [
      "['$1', '$18087791.41', '$0.25', '$4521947.8525']\n",
      "[('$1', ''), ('$18087791.41', '.41'), ('$0.25', '.25'), ('$4521947.8525', '.8525')]\n"
     ]
    }
   ],
   "source": [
    "# Dollars from string\n",
    "import re\n",
    "\n",
    "report = '''if you invested $1 in 1801 you would have $18087791.41 today. If you invested only $0.25 then you would have $4521947.8525.'''\n",
    "\n",
    "dollars = [x[0] for x in re.findall('(\\$[0-9]+(\\.[0-9]*)?)', report)] # \\ esc for special char, () indicates group\n",
    "\n",
    "print(dollars)\n",
    "print(re.findall('(\\$[0-9]+(\\.[0-9]*)?)', report))"
   ]
  },
  {
   "cell_type": "code",
   "execution_count": 4,
   "metadata": {},
   "outputs": [
    {
     "name": "stdout",
     "output_type": "stream",
     "text": [
      "['http://blog.finxter.com/appl/']\n"
     ]
    }
   ],
   "source": [
    "# nonsecure HTTP\n",
    "import re\n",
    "\n",
    "article = '''some text http://blog.finxter.com/appl/ is something which xxx http://not-valid-url http:/bla.bla.bla'''\n",
    "\n",
    "stale_links = re.findall('http://[a-z0-9_\\-.]+\\.[a-z0-9_\\-/]+', article) # numbers, lowercas chars, underscores, hyphens, dots accepted\n",
    "\n",
    "print(stale_links)"
   ]
  },
  {
   "cell_type": "code",
   "execution_count": 5,
   "metadata": {},
   "outputs": [
    {
     "name": "stdout",
     "output_type": "stream",
     "text": [
      "True\n",
      "True\n",
      "False\n",
      "False\n",
      "True\n"
     ]
    }
   ],
   "source": [
    "# time format input 0\n",
    "import re\n",
    "\n",
    "inputs = ['18:29', '23:55', '123', 'ab:23', '99:99']\n",
    "\n",
    "input_ok = lambda x: re.fullmatch('[0-9]{2}:[0-9]{2}', x) != None # 2-digit numbers separated by :\n",
    "for x in inputs:\n",
    "    print(input_ok(x))"
   ]
  },
  {
   "cell_type": "code",
   "execution_count": 8,
   "metadata": {},
   "outputs": [
    {
     "name": "stdout",
     "output_type": "stream",
     "text": [
      "True\n",
      "True\n",
      "False\n",
      "False\n",
      "False\n"
     ]
    }
   ],
   "source": [
    "# time format input 1\n",
    "import re\n",
    "\n",
    "inputs = ['18:29', '23:55', '123', 'ab:23', '99:99']\n",
    "\n",
    "input_ok = lambda x: re.fullmatch('([01][0-9]|2[0-3]):[0-5][0-9]', x) != None # check individual digits\n",
    "\n",
    "for x in inputs:\n",
    "    print(input_ok(x))"
   ]
  },
  {
   "cell_type": "code",
   "execution_count": 10,
   "metadata": {},
   "outputs": [
    {
     "name": "stdout",
     "output_type": "stream",
     "text": [
      "[('all', 'l'), ('woords', 'o'), ('duuplicate', 'u')]\n"
     ]
    }
   ],
   "source": [
    "# duplicate detection\n",
    "import re\n",
    "\n",
    "text = '''detect all woords that contain duuplicate characters.'''\n",
    "\n",
    "duplcts = re.findall('([^\\s]*(?P<x>[^\\s])(?P=x)[^\\s]*)', text) # (?P<x>[^\\s]) defines group named x containing single arbitrary char\n",
    "# (?P=x) matches the same char as the group; match ordinary non-whitespace before and after [^\\s]\n",
    "\n",
    "print(duplcts)"
   ]
  },
  {
   "cell_type": "code",
   "execution_count": 1,
   "metadata": {},
   "outputs": [
    {
     "name": "stdout",
     "output_type": "stream",
     "text": [
      "<re.Match object; span=(11, 34), match=' words too often words '>\n"
     ]
    }
   ],
   "source": [
    "# word repetition\n",
    "import re\n",
    "\n",
    "text = '''if you use words too often words become used'''\n",
    "\n",
    "duplcts = re.search('\\s(?P<x>[a-z]+)\\s+([a-z]+\\s+){0,10}(?P=x)\\s', ' ' + text + ' ') # (?P<x>[a-z]) defines group named x containing a to z at least once (+)\n",
    "# followed by whitespaces followed by characters, (?P=x) matches the same char as the group\n",
    "\n",
    "print(duplcts)"
   ]
  },
  {
   "cell_type": "code",
   "execution_count": 3,
   "metadata": {},
   "outputs": [
    {
     "name": "stdout",
     "output_type": "stream",
     "text": [
      "Alice Doe married John Doe. The new name of 'Alice Wonderland' is Alice Doe.\n"
     ]
    }
   ],
   "source": [
    "# modify regex\n",
    "import re\n",
    "\n",
    "text = '''Alice Wonderland married John Doe. The new name of 'Alice Wonderland' is Alice Doe.'''\n",
    "\n",
    "upd_txt = re.sub(\"Alice Wonderland(?!')\", 'Alice Doe', text) # replace A..W.. but not that end with a single '\n",
    "\n",
    "print(upd_txt)"
   ]
  },
  {
   "cell_type": "markdown",
   "metadata": {},
   "source": [
    "# Algorithm one-liners"
   ]
  },
  {
   "cell_type": "code",
   "execution_count": 5,
   "metadata": {},
   "outputs": [
    {
     "ename": "SystemExit",
     "evalue": "0",
     "output_type": "error",
     "traceback": [
      "An exception has occurred, use %tb to see the full traceback.\n",
      "\u001b[1;31mSystemExit\u001b[0m\u001b[1;31m:\u001b[0m 0\n"
     ]
    },
    {
     "name": "stderr",
     "output_type": "stream",
     "text": [
      "D:\\Anaconda\\envs\\venv\\lib\\site-packages\\IPython\\core\\interactiveshell.py:3351: UserWarning: To exit: use 'exit', 'quit', or Ctrl-D.\n",
      "  warn(\"To exit: use 'exit', 'quit', or Ctrl-D.\", stacklevel=1)\n"
     ]
    }
   ],
   "source": [
    "import sys\n",
    " \n",
    "from PyQt5.QtCore import QBasicTimer, Qt\n",
    "from PyQt5.QtGui import QFont\n",
    "from PyQt5.QtWidgets import QApplication, QLabel\n",
    " \n",
    " \n",
    "class Marquee(QLabel):\n",
    "    def __init__(self, **kwargs):\n",
    "        super().__init__(**kwargs)\n",
    "        self.right_to_left_direction = True\n",
    "        self.initUI()\n",
    "        self.timer = QBasicTimer()\n",
    "        self.timer.start(80, self)\n",
    " \n",
    "    def initUI(self):\n",
    "        self.setWindowFlags(Qt.FramelessWindowHint)\n",
    "        self.setAttribute(Qt.WA_TranslucentBackground)\n",
    "        self.setText(\"Hello World! \")\n",
    "        self.setFont(QFont(None, 50, QFont.Bold))\n",
    "        # make more irritating for the authenticity with <marquee> element\n",
    "        self.setStyleSheet(\"QLabel {color: cyan; }\")\n",
    " \n",
    "    def timerEvent(self, event):\n",
    "        i = 1 if self.right_to_left_direction else -1\n",
    "        self.setText(self.text()[i:] + self.text()[:i])  # rotate\n",
    " \n",
    "    def mouseReleaseEvent(self, event):  # change direction on mouse release\n",
    "        self.right_to_left_direction = not self.right_to_left_direction\n",
    " \n",
    "    def keyPressEvent(self, event):  # exit on Esc\n",
    "        if event.key() == Qt.Key_Escape:\n",
    "            self.close()\n",
    " \n",
    " \n",
    "app = QApplication(sys.argv)\n",
    "w = Marquee()\n",
    "# center widget on the screen\n",
    "w.adjustSize()  # update w.rect() now\n",
    "w.move(QApplication.instance().desktop().screen().rect().center()\n",
    "       - w.rect().center())\n",
    "w.show()\n",
    "sys.exit(app.exec())"
   ]
  },
  {
   "cell_type": "code",
   "execution_count": null,
   "metadata": {},
   "outputs": [],
   "source": []
  }
 ],
 "metadata": {
  "kernelspec": {
   "display_name": "Python [conda env:venv]",
   "language": "python",
   "name": "conda-env-venv-py"
  },
  "language_info": {
   "codemirror_mode": {
    "name": "ipython",
    "version": 3
   },
   "file_extension": ".py",
   "mimetype": "text/x-python",
   "name": "python",
   "nbconvert_exporter": "python",
   "pygments_lexer": "ipython3",
   "version": "3.7.7"
  }
 },
 "nbformat": 4,
 "nbformat_minor": 4
}
