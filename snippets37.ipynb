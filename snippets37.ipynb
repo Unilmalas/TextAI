{
 "cells": [
  {
   "cell_type": "code",
   "execution_count": 1,
   "metadata": {},
   "outputs": [
    {
     "name": "stdout",
     "output_type": "stream",
     "text": [
      "3\n"
     ]
    }
   ],
   "source": [
    "# Hofstadter Female and Male sequences\n",
    "def fem(n):\n",
    "    '''Hofstadter Female sequence'''\n",
    "    #print('fem: ', n)\n",
    "    if n <= 0: return 1\n",
    "    return n - mle(fem(n-1))\n",
    "\n",
    "def mle(n):\n",
    "    '''Hofstadter Male sequence'''\n",
    "    #print('mle: ', n)\n",
    "    if n <= 0: return 0\n",
    "    return n - fem(mle(n-1))\n",
    "\n",
    "def main():\n",
    "    print(fem(4))\n",
    "\n",
    "if __name__ == '__main__':\n",
    "    main()"
   ]
  },
  {
   "cell_type": "markdown",
   "metadata": {},
   "source": [
    "# Machine Learning One-Liners"
   ]
  },
  {
   "cell_type": "code",
   "execution_count": 2,
   "metadata": {},
   "outputs": [
    {
     "name": "stdout",
     "output_type": "stream",
     "text": [
      "[158. 159.]\n"
     ]
    }
   ],
   "source": [
    "# linear regression one-liner\n",
    "from sklearn.linear_model import LinearRegression\n",
    "import numpy as np\n",
    "\n",
    "apple = np.array([155, 156, 157])\n",
    "n = len(apple)\n",
    "model = LinearRegression().fit(np.arange(n).reshape((n,1)), apple)\n",
    "print(model.predict([[3],[4]]))"
   ]
  },
  {
   "cell_type": "code",
   "execution_count": 3,
   "metadata": {},
   "outputs": [
    {
     "name": "stdout",
     "output_type": "stream",
     "text": [
      "['No' 'No' 'No' 'Yes' 'Yes']\n",
      "[['0']\n",
      " ['10']\n",
      " ['60']\n",
      " ['90']]\n"
     ]
    }
   ],
   "source": [
    "# linear regression one-liner\n",
    "from sklearn.linear_model import LogisticRegression\n",
    "import numpy as np\n",
    "\n",
    "X = np.array([[0, 'No'],\n",
    "             [10, 'No'],\n",
    "             [60, 'Yes'],\n",
    "             [90, 'Yes']])\n",
    "\n",
    "n = len(X)\n",
    "model = LogisticRegression().fit(X[:,0].reshape(n,1), X[:,1]) # fit first X[:,0] column against 2nd column X[:,1]\n",
    "\n",
    "print(model.predict([[2], [12], [13], [40], [90]]))\n",
    "print(X[:,0].reshape(n,1))"
   ]
  },
  {
   "cell_type": "code",
   "execution_count": 7,
   "metadata": {},
   "outputs": [
    {
     "name": "stdout",
     "output_type": "stream",
     "text": [
      "[[  50. 7000.]\n",
      " [  20. 2000.]]\n"
     ]
    }
   ],
   "source": [
    "# K Means\n",
    "from sklearn.cluster import KMeans\n",
    "import numpy as np\n",
    "\n",
    "X = np.array([[35, 7000], [45, 6900], [70, 7100],\n",
    "             [20, 2000], [25, 2200], [15, 1800]])\n",
    "\n",
    "kmeans = KMeans(n_clusters=2).fit(X) # fit X\n",
    "\n",
    "cc = kmeans.cluster_centers_\n",
    "print(cc)"
   ]
  },
  {
   "cell_type": "code",
   "execution_count": 9,
   "metadata": {},
   "outputs": [
    {
     "name": "stdout",
     "output_type": "stream",
     "text": [
      "[32500.]\n"
     ]
    }
   ],
   "source": [
    "# k nearest neighbors\n",
    "from sklearn.neighbors import KNeighborsRegressor\n",
    "import numpy as np\n",
    "\n",
    "X = np.array([[35, 30000], [45, 45000], [40, 50000],\n",
    "             [35, 35000], [25, 32500], [40, 40000]])\n",
    "\n",
    "KNN = KNeighborsRegressor(n_neighbors=3).fit(X[:,0].reshape(-1,1), X[:,1])\n",
    "\n",
    "res = KNN.predict([[30]])\n",
    "print(res)"
   ]
  },
  {
   "cell_type": "code",
   "execution_count": 1,
   "metadata": {},
   "outputs": [
    {
     "name": "stdout",
     "output_type": "stream",
     "text": [
      "[2175.40135654]\n"
     ]
    }
   ],
   "source": [
    "# NN\n",
    "from sklearn.neural_network import MLPRegressor\n",
    "import numpy as np\n",
    "\n",
    "X = np.array([[20, 11, 20, 30, 4000, 3000],\n",
    "             [12, 4, 0, 0, 1000, 1500],\n",
    "             [2, 0, 1, 10, 0, 1400],\n",
    "             [35, 5, 10, 70, 6000, 3800],\n",
    "             [30, 1, 4, 65, 0, 3900],\n",
    "             [35, 1, 0, 0, 0, 100],\n",
    "             [15, 1, 2, 25, 0, 3700],\n",
    "             [40, 3, -1, 60, 1000, 2000],\n",
    "             [40, 1, 2, 95, 0, 1000],\n",
    "             [10, 0, 0, 0, 0, 1400],\n",
    "             [30, 1, 0, 50, 0, 1700],\n",
    "             [1, 0, 0, 45, 0, 1762],\n",
    "             [10, 32, 10, 5, 0, 2400],\n",
    "             [5, 35, 4, 0, 13000, 3900],\n",
    "             [8, 9, 40, 30, 1000, 2625],\n",
    "             [1, 0, 1, 0, 0, 1900],\n",
    "             [1, 30, 10, 0, 1000, 1900],\n",
    "             [7, 16, 5, 0, 0, 3000]])\n",
    "\n",
    "NN = MLPRegressor(max_iter=10000).fit(X[:,:-1], X[:,-1])\n",
    "\n",
    "res = NN.predict([[20, 1, 10, 50, 1000]])\n",
    "print(res)"
   ]
  },
  {
   "cell_type": "code",
   "execution_count": 4,
   "metadata": {},
   "outputs": [
    {
     "name": "stdout",
     "output_type": "stream",
     "text": [
      "[['9' '5' '6']\n",
      " ['1' '8' '1']\n",
      " ['5' '7' '9']] ['computer science' 'linguistics' 'art']\n",
      "['computer science']\n",
      "['art']\n"
     ]
    }
   ],
   "source": [
    "# decision trees\n",
    "from sklearn import tree\n",
    "import numpy as np\n",
    "\n",
    "# scores math, lang, creativity\n",
    "X = np.array([[9, 5, 6, 'computer science'],\n",
    "             [1, 8, 1, 'linguistics'],\n",
    "             [5, 7, 9, 'art']])\n",
    "\n",
    "print(X[:, :-1], X[:, -1]) # all cols but last, last col\n",
    "\n",
    "Tree = tree.DecisionTreeClassifier().fit(X[:, :-1], X[:, -1])\n",
    "\n",
    "student_0 = Tree.predict([[8, 6, 5]])\n",
    "print(student_0)\n",
    "\n",
    "student_1 = Tree.predict([[3, 7, 9]])\n",
    "print(student_1)"
   ]
  },
  {
   "cell_type": "code",
   "execution_count": 8,
   "metadata": {},
   "outputs": [
    {
     "name": "stdout",
     "output_type": "stream",
     "text": [
      "row with min var:  3\n",
      "var:  0.25\n"
     ]
    }
   ],
   "source": [
    "# minimal variance\n",
    "import numpy as np\n",
    "\n",
    "X = np.array([[25, 27, 29, 30],\n",
    "              [1,5,3,2],\n",
    "              [12,11,8,3],\n",
    "              [1,1,2,2],\n",
    "              [2,6,2,2]])\n",
    "\n",
    "minvar_row = min([(i, np.var(X[i,:])) for i in range(len(X))], key=lambda x: x[1])\n",
    "\n",
    "print('row with min var: ', str(minvar_row[0]))\n",
    "print('var: ', str(minvar_row[1]))"
   ]
  },
  {
   "cell_type": "code",
   "execution_count": 10,
   "metadata": {},
   "outputs": [
    {
     "name": "stdout",
     "output_type": "stream",
     "text": [
      "2.0\n",
      "2.4444444444444446\n",
      "1.5634719199411433\n",
      "[3. 1. 2.] [2.66666667 0.         2.66666667] [1.63299316 0.         1.63299316]\n"
     ]
    }
   ],
   "source": [
    "# basic statistics\n",
    "import numpy as np\n",
    "\n",
    "X = np.array([[1, 3, 5],\n",
    "              [1, 1, 1],\n",
    "              [0, 2, 4]])\n",
    "\n",
    "print(np.average(X))\n",
    "print(np.var(X))\n",
    "print(np.std(X))\n",
    "\n",
    "avg, var, std = np.average(X, axis=1), np.var(X, axis=1), np.std(X, axis=1)\n",
    "print(avg, var, std)"
   ]
  },
  {
   "cell_type": "code",
   "execution_count": 13,
   "metadata": {},
   "outputs": [
    {
     "name": "stdout",
     "output_type": "stream",
     "text": [
      "['art']\n",
      "['computer science']\n"
     ]
    }
   ],
   "source": [
    "# support vector machine (SVM)\n",
    "from sklearn import svm\n",
    "import numpy as np\n",
    "\n",
    "# scores math, lang, creativity\n",
    "X = np.array([[9, 5, 6, 'computer science'],\n",
    "              [10, 1, 2, 'computer science'],\n",
    "              [1, 8, 1, 'linguistics'],\n",
    "              [4, 9, 3, 'linguistics'],\n",
    "              [0, 1, 10, 'art'],\n",
    "              [5, 7, 9, 'art']])\n",
    "\n",
    "svm = svm.SVC().fit(X[:, :-1], X[:, -1])\n",
    "\n",
    "student_0 = svm.predict([[3, 3, 6]])\n",
    "print(student_0)\n",
    "student_1 = svm.predict([[8, 1, 1]])\n",
    "print(student_1)"
   ]
  },
  {
   "cell_type": "code",
   "execution_count": 1,
   "metadata": {},
   "outputs": [
    {
     "name": "stdout",
     "output_type": "stream",
     "text": [
      "['computer science' 'art' 'computer science']\n"
     ]
    }
   ],
   "source": [
    "# random forest\n",
    "from sklearn.ensemble import RandomForestClassifier\n",
    "import numpy as np\n",
    "\n",
    "# scores math, lang, creativity\n",
    "X = np.array([[9, 5, 6, 'computer science'],\n",
    "              [10, 1, 2, 'computer science'],\n",
    "              [1, 8, 1, 'linguistics'],\n",
    "              [4, 9, 3, 'linguistics'],\n",
    "              [0, 1, 10, 'art'],\n",
    "              [5, 7, 9, 'art']])\n",
    "\n",
    "forest = RandomForestClassifier(n_estimators=10).fit(X[:, :-1], X[:, -1])\n",
    "\n",
    "students = forest.predict([[8, 6, 5],\n",
    "                          [3, 7, 9],\n",
    "                          [2, 2, 1]])\n",
    "print(students)"
   ]
  },
  {
   "cell_type": "markdown",
   "metadata": {},
   "source": [
    "# RegEx One-Liners"
   ]
  },
  {
   "cell_type": "code",
   "execution_count": 24,
   "metadata": {},
   "outputs": [
    {
     "name": "stdout",
     "output_type": "stream",
     "text": [
      "dot regex:  ['fox']\n",
      "asterix regex greedy:  ['jumped over the lazy d']\n",
      "asterix regex nongreedy:  ['jumped']\n",
      "0-or-1 regex:  ['the', 'the', 'th']\n",
      "['peter', 'piper', 'picked a peck of pickled pepper']\n"
     ]
    }
   ],
   "source": [
    "# some basics\n",
    "import re\n",
    "\n",
    "text = '''the fox jumped over the lazy dog this makes no sense'''\n",
    "\n",
    "print('dot regex: ', re.findall('f.x', text))\n",
    "print('asterix regex greedy: ', re.findall('j.*d', text)) # greedy\n",
    "print('asterix regex nongreedy: ', re.findall('j.*?d', text)) # nongreedy\n",
    "print('0-or-1 regex: ', re.findall('the?', text)) # letter right in front of the ?\n",
    "\n",
    "text = 'peter piper picked a peck of pickled peppers'\n",
    "\n",
    "result = re.findall('p.*?e.*?r', text)\n",
    "print(result)"
   ]
  },
  {
   "cell_type": "code",
   "execution_count": 25,
   "metadata": {},
   "outputs": [
    {
     "name": "stdout",
     "output_type": "stream",
     "text": [
      "/security_crypto_916\n"
     ]
    }
   ],
   "source": [
    "# webscraper\n",
    "import urllib.request\n",
    "\n",
    "search_phrase = 'crypto'\n",
    "\n",
    "with urllib.request.urlopen('https://www.wired.com/') as response:\n",
    "    html = response.read().decode('utf8') # convert to string\n",
    "    first_pos = html.find(search_phrase)\n",
    "    print(html[first_pos - 10: first_pos + 10])"
   ]
  },
  {
   "cell_type": "code",
   "execution_count": 27,
   "metadata": {},
   "outputs": [
    {
     "name": "stdout",
     "output_type": "stream",
     "text": [
      "<re.Match object; span=(0, 29), match='crypto-bot is trading Bitcoin'>\n"
     ]
    }
   ],
   "source": [
    "import re\n",
    "\n",
    "text_1 = 'crypto-bot is trading Bitcoin and other currencies'\n",
    "\n",
    "pattern = re.compile('crypto(.{1,30})coin')\n",
    "# () regex matches whatever is inside, . matches one char, {1,30} matches 1 to 30 occurances\n",
    "\n",
    "print(pattern.match(text_1))"
   ]
  },
  {
   "cell_type": "code",
   "execution_count": 30,
   "metadata": {},
   "outputs": [
    {
     "name": "stdout",
     "output_type": "stream",
     "text": [
      "[('<a target=\"_blank\" href=\"https://blog.finxter.com/finxter-premium-membership/\" class=\"w3-large w3-btn w3-center w3-round-large w3-margin w3-padding orange w3-hover-white w3-hover-opacity\">', 'premium'), ('<a href=\"https://academy.finxter.com/\" target=\"_blank\">computer science academy</a>', 'science')]\n"
     ]
    }
   ],
   "source": [
    "# html\n",
    "import re\n",
    "\n",
    "page = '''<div id=\"certificates\" class=\"w3-center w3-round-xlarge w3-padding w3-margin-left w3-margin-right w3-hover-shadow\">\n",
    "  <h2>\n",
    "    <b>Become Premium Member and Certify Your Skills</b>\n",
    "  </h2>\n",
    "  <!--h4> Elo 0-9999 </h4-->\n",
    "  <p>\n",
    "    <img src=\"/static/Certificate/CertificateDemo.jpg\" alt=\"Demo Certificate\" class=\"w3-image w3-round\" loading=\"lazy\" style=\"width:50%;max-width:400px;min-width:150px\">\n",
    "    \n",
    "  </p>\n",
    "  <a target=\"_blank\" href=\"https://blog.finxter.com/finxter-premium-membership/\" class=\"w3-large w3-btn w3-center w3-round-large w3-margin w3-padding orange w3-hover-white w3-hover-opacity\">\n",
    "    Become Premium Member ($9/m) <i class=\"fas fa-award w3-large\" aria-hidden=\"true\"></i> </a>\n",
    "  <p class=\"w3-center\">\n",
    "    (Your benefits: unlimited puzzles, no book &amp; course ads here,\n",
    "    no annoying \"premium\" popups,\n",
    "    printable Python certificates, free\n",
    "    <a href=\"https://academy.finxter.com/\" target=\"_blank\">computer science academy</a>\n",
    "    access, and a small golden crown icon in the header ;)\n",
    "  </p>\n",
    "</div>'''\n",
    "\n",
    "p_test = re.findall(\"(<a.*?finxter.*?(premium|science).*?>)\", page)\n",
    "# () regex matches whatever is inside, . matches one char, {1,30} matches 1 to 30 occurances\n",
    "\n",
    "print(p_test)"
   ]
  },
  {
   "cell_type": "code",
   "execution_count": 1,
   "metadata": {},
   "outputs": [
    {
     "name": "stdout",
     "output_type": "stream",
     "text": [
      "['$1', '$18087791.41', '$0.25', '$4521947.8525']\n",
      "[('$1', ''), ('$18087791.41', '.41'), ('$0.25', '.25'), ('$4521947.8525', '.8525')]\n"
     ]
    }
   ],
   "source": [
    "# Dollars from string\n",
    "import re\n",
    "\n",
    "report = '''if you invested $1 in 1801 you would have $18087791.41 today. If you invested only $0.25 then you would have $4521947.8525.'''\n",
    "\n",
    "dollars = [x[0] for x in re.findall('(\\$[0-9]+(\\.[0-9]*)?)', report)] # \\ esc for special char, () indicates group\n",
    "\n",
    "print(dollars)\n",
    "print(re.findall('(\\$[0-9]+(\\.[0-9]*)?)', report))"
   ]
  },
  {
   "cell_type": "code",
   "execution_count": 4,
   "metadata": {},
   "outputs": [
    {
     "name": "stdout",
     "output_type": "stream",
     "text": [
      "['http://blog.finxter.com/appl/']\n"
     ]
    }
   ],
   "source": [
    "# nonsecure HTTP\n",
    "import re\n",
    "\n",
    "article = '''some text http://blog.finxter.com/appl/ is something which xxx http://not-valid-url http:/bla.bla.bla'''\n",
    "\n",
    "stale_links = re.findall('http://[a-z0-9_\\-.]+\\.[a-z0-9_\\-/]+', article) # numbers, lowercas chars, underscores, hyphens, dots accepted\n",
    "\n",
    "print(stale_links)"
   ]
  },
  {
   "cell_type": "code",
   "execution_count": 5,
   "metadata": {},
   "outputs": [
    {
     "name": "stdout",
     "output_type": "stream",
     "text": [
      "True\n",
      "True\n",
      "False\n",
      "False\n",
      "True\n"
     ]
    }
   ],
   "source": [
    "# time format input 0\n",
    "import re\n",
    "\n",
    "inputs = ['18:29', '23:55', '123', 'ab:23', '99:99']\n",
    "\n",
    "input_ok = lambda x: re.fullmatch('[0-9]{2}:[0-9]{2}', x) != None # 2-digit numbers separated by :\n",
    "for x in inputs:\n",
    "    print(input_ok(x))"
   ]
  },
  {
   "cell_type": "code",
   "execution_count": 8,
   "metadata": {},
   "outputs": [
    {
     "name": "stdout",
     "output_type": "stream",
     "text": [
      "True\n",
      "True\n",
      "False\n",
      "False\n",
      "False\n"
     ]
    }
   ],
   "source": [
    "# time format input 1\n",
    "import re\n",
    "\n",
    "inputs = ['18:29', '23:55', '123', 'ab:23', '99:99']\n",
    "\n",
    "input_ok = lambda x: re.fullmatch('([01][0-9]|2[0-3]):[0-5][0-9]', x) != None # check individual digits\n",
    "\n",
    "for x in inputs:\n",
    "    print(input_ok(x))"
   ]
  },
  {
   "cell_type": "code",
   "execution_count": 10,
   "metadata": {},
   "outputs": [
    {
     "name": "stdout",
     "output_type": "stream",
     "text": [
      "[('all', 'l'), ('woords', 'o'), ('duuplicate', 'u')]\n"
     ]
    }
   ],
   "source": [
    "# duplicate detection\n",
    "import re\n",
    "\n",
    "text = '''detect all woords that contain duuplicate characters.'''\n",
    "\n",
    "duplcts = re.findall('([^\\s]*(?P<x>[^\\s])(?P=x)[^\\s]*)', text) # (?P<x>[^\\s]) defines group named x containing single arbitrary char\n",
    "# (?P=x) matches the same char as the group; match ordinary non-whitespace before and after [^\\s]\n",
    "\n",
    "print(duplcts)"
   ]
  },
  {
   "cell_type": "code",
   "execution_count": 1,
   "metadata": {},
   "outputs": [
    {
     "name": "stdout",
     "output_type": "stream",
     "text": [
      "<re.Match object; span=(11, 34), match=' words too often words '>\n"
     ]
    }
   ],
   "source": [
    "# word repetition\n",
    "import re\n",
    "\n",
    "text = '''if you use words too often words become used'''\n",
    "\n",
    "duplcts = re.search('\\s(?P<x>[a-z]+)\\s+([a-z]+\\s+){0,10}(?P=x)\\s', ' ' + text + ' ') # (?P<x>[a-z]) defines group named x containing a to z at least once (+)\n",
    "# followed by whitespaces followed by characters, (?P=x) matches the same char as the group\n",
    "\n",
    "print(duplcts)"
   ]
  },
  {
   "cell_type": "code",
   "execution_count": 3,
   "metadata": {},
   "outputs": [
    {
     "name": "stdout",
     "output_type": "stream",
     "text": [
      "Alice Doe married John Doe. The new name of 'Alice Wonderland' is Alice Doe.\n"
     ]
    }
   ],
   "source": [
    "# modify regex\n",
    "import re\n",
    "\n",
    "text = '''Alice Wonderland married John Doe. The new name of 'Alice Wonderland' is Alice Doe.'''\n",
    "\n",
    "upd_txt = re.sub(\"Alice Wonderland(?!')\", 'Alice Doe', text) # replace A..W.. but not that end with a single '\n",
    "\n",
    "print(upd_txt)"
   ]
  },
  {
   "cell_type": "markdown",
   "metadata": {},
   "source": [
    "# Algorithm one-liners"
   ]
  },
  {
   "cell_type": "code",
   "execution_count": 1,
   "metadata": {},
   "outputs": [
    {
     "name": "stdout",
     "output_type": "stream",
     "text": [
      "True\n",
      "['e', 'i', 'l', 's', 'v'] ['e', 'i', 'l', 's', 'v']\n"
     ]
    }
   ],
   "source": [
    "# anagrams\n",
    "\n",
    "is_anagrm = lambda a, b: sorted(a) == sorted(b)\n",
    "\n",
    "print(is_anagrm('elvis', 'lives'))\n",
    "\n",
    "print(sorted('elvis'), sorted('lives'))"
   ]
  },
  {
   "cell_type": "code",
   "execution_count": 5,
   "metadata": {},
   "outputs": [
    {
     "name": "stdout",
     "output_type": "stream",
     "text": [
      "True\n",
      "True\n"
     ]
    }
   ],
   "source": [
    "# palindrome\n",
    "\n",
    "is_palindrm = lambda phrase: phrase == phrase[::-1]\n",
    "is_palindrm1 = lambda phrase: phrase.replace(' ', '') == phrase.replace(' ', '')[::-1]\n",
    "\n",
    "print(is_palindrm('hannah'))\n",
    "print(is_palindrm1('was it a car or a cat i saw'))"
   ]
  },
  {
   "cell_type": "code",
   "execution_count": 12,
   "metadata": {},
   "outputs": [
    {
     "name": "stdout",
     "output_type": "stream",
     "text": [
      "120\n"
     ]
    }
   ],
   "source": [
    "# permutations\n",
    "\n",
    "fact = lambda n: n * fact(n-1) if n>1 else 1\n",
    "\n",
    "print(fact(5))"
   ]
  },
  {
   "cell_type": "code",
   "execution_count": 1,
   "metadata": {},
   "outputs": [
    {
     "name": "stdout",
     "output_type": "stream",
     "text": [
      "5\n",
      "4\n",
      "2\n"
     ]
    }
   ],
   "source": [
    "# levenshtein\n",
    "\n",
    "a = 'cat'\n",
    "b = 'chello'\n",
    "c = 'chess'\n",
    "\n",
    "ls = lambda a, b: len(b) if not a else len(b) if not b else min( # get empty a, b out of the way\n",
    "    ls(a[1:], b[1:])+(a[0] != b[0]), # first char has to be exchanged? (!= -> True == 1 exchange) and recursion\n",
    "    ls(a[1:], b) + 1, ls(a, b[1:]) + 1) # try shortening a and b (and add one exchange for 1st char)\n",
    "    \n",
    "print(ls(a,b))\n",
    "print(ls(a,c))\n",
    "print(ls(b,c))"
   ]
  },
  {
   "cell_type": "code",
   "execution_count": 2,
   "metadata": {},
   "outputs": [
    {
     "name": "stdout",
     "output_type": "stream",
     "text": [
      "[set(), {1}, {2}, {1, 2}, {3}, {1, 3}, {2, 3}, {1, 2, 3}]\n"
     ]
    }
   ],
   "source": [
    "# power sets\n",
    "from functools import reduce # reduce (accumulated_val, update_val, init_val)\n",
    "\n",
    "s = {1, 2, 3}\n",
    "\n",
    "ps = lambda s: reduce(lambda P, x: P + [subset | {x} for subset in P], s, [set()]) # union of subset and subsets in P\n",
    "# starting with empty set, repeatedly adding subsets\n",
    "\n",
    "print(ps(s))"
   ]
  },
  {
   "cell_type": "code",
   "execution_count": 10,
   "metadata": {},
   "outputs": [
    {
     "name": "stdout",
     "output_type": "stream",
     "text": [
      "kgurkehffvnafknerkpbzvat\n",
      "xthexrussiansxarexcoming\n",
      "5\n",
      "['k', 'g', 'u', 'r', 'k', 'e', 'h', 'f', 'f', 'v', 'n', 'a', 'f', 'k', 'n', 'e', 'r', 'k', 'p', 'b', 'z', 'v', 'a', 't']\n"
     ]
    }
   ],
   "source": [
    "# Caesars cipher\n",
    "\n",
    "abc = 'abcdefghijklmnopqrstuvwxyz'\n",
    "s = 'xthexrussiansxarexcoming'\n",
    "\n",
    "rt13 = lambda x: \"\".join([abc[(abc.find(c) + 13) % 26] for c in x])\n",
    "\n",
    "print(rt13(s))\n",
    "print(rt13(rt13(s)))\n",
    "\n",
    "print((abc.find('s') + 13) % 26)\n",
    "print([abc[(abc.find(c) + 13) % 26] for c in s])"
   ]
  },
  {
   "cell_type": "code",
   "execution_count": 1,
   "metadata": {},
   "outputs": [
    {
     "name": "stdout",
     "output_type": "stream",
     "text": [
      "[-6.0, -6.333333333333333, 19.333333333333332, 19.666666666666668, 20.0]\n"
     ]
    }
   ],
   "source": [
    "xx = [-16, -17, 60, 61, 62]\n",
    "\n",
    "zz = [(x-2)/3 for x in xx]\n",
    "\n",
    "print(zz)"
   ]
  },
  {
   "cell_type": "code",
   "execution_count": 14,
   "metadata": {},
   "outputs": [
    {
     "name": "stdout",
     "output_type": "stream",
     "text": [
      "7\n",
      "[[[[], 0], 1], 2]\n"
     ]
    }
   ],
   "source": [
    "# tests reduce\n",
    "from functools import reduce\n",
    "\n",
    "print(reduce(lambda x, y: x + y, [0, 1, 2, 3], 1))\n",
    "print(reduce(lambda x, y: [x] + y, [[n] for n in range(3)], []))"
   ]
  },
  {
   "cell_type": "code",
   "execution_count": 2,
   "metadata": {},
   "outputs": [
    {
     "name": "stdout",
     "output_type": "stream",
     "text": [
      "{2, 3, 5, 7, 11, 13, 17, 19, 23, 29, 31, 37, 41, 43, 47, 53, 59, 61, 67, 71, 73, 79, 83, 89, 97}\n"
     ]
    }
   ],
   "source": [
    "# sieve of Eratosthenes\n",
    "from functools import reduce\n",
    "\n",
    "n=100\n",
    "\n",
    "primes = reduce(lambda r, x: r - set(range(x**2, n, x)) if x in r else r, # set(range(x**2, n, x) removes multiples\n",
    "               range(2, int(n**0.5) + 1), set(range(2, n)))\n",
    "\n",
    "print(primes)"
   ]
  },
  {
   "cell_type": "code",
   "execution_count": 1,
   "metadata": {},
   "outputs": [
    {
     "name": "stdout",
     "output_type": "stream",
     "text": [
      "[0, 1, 1, 2, 3, 5, 8, 13, 21, 34]\n"
     ]
    }
   ],
   "source": [
    "# Fibonacci\n",
    "from functools import reduce\n",
    "\n",
    "n=10\n",
    "\n",
    "fib = reduce(lambda x, _: x + [x[-2] + x[-1]], [0] * (n-2), [0, 1])\n",
    "\n",
    "print(fib)"
   ]
  },
  {
   "cell_type": "code",
   "execution_count": 6,
   "metadata": {},
   "outputs": [
    {
     "name": "stdout",
     "output_type": "stream",
     "text": [
      "4\n"
     ]
    }
   ],
   "source": [
    "# recursive binary search\n",
    "l = [3,6,14,16,33,55,56,89]\n",
    "x = 33\n",
    "\n",
    "# inputs ok?\n",
    "# search == middle element per chance ?\n",
    "# split search range and execute search on lower/upper half\n",
    "rbs = lambda l, x, lo, hi: -1 if lo > hi else \\\n",
    "    (lo+hi)//2 if l[(lo+hi)//2] == x else \\\n",
    "    rbs(l, x, lo, (lo+hi)//2) if l[(lo+hi)//2] > x else \\\n",
    "    rbs(l, x, (lo+hi)//2+1, hi)\n",
    "\n",
    "print(rbs(l, x, 0, len(l)-1)) # index of element found returned"
   ]
  },
  {
   "cell_type": "code",
   "execution_count": 1,
   "metadata": {},
   "outputs": [
    {
     "name": "stdout",
     "output_type": "stream",
     "text": [
      "[2, 3, 6, 33, 33, 45, 54]\n"
     ]
    }
   ],
   "source": [
    "# recursive quicksort\n",
    "unsrtd = [33,2,3,45,6,54,33]\n",
    "\n",
    "rqs = lambda l: rqs([x for x in l[1:] if x <= l[0]]) + [l[0]] + rqs([x for x in l if x > l[0]]) if l else []\n",
    "\n",
    "print(rqs(unsrtd))"
   ]
  },
  {
   "cell_type": "markdown",
   "metadata": {},
   "source": [
    "# other stuff again"
   ]
  },
  {
   "cell_type": "code",
   "execution_count": 3,
   "metadata": {},
   "outputs": [
    {
     "name": "stdout",
     "output_type": "stream",
     "text": [
      "2: 19, 31, 69, 81, 105, 106, 107, 119, 127, 131\n",
      "3: 261, 462, 471, 481, 558, 753, 1036, 1046, 1471, 1645\n",
      "4: 1168, 4972, 7423, 7752, 8431, 10267, 11317, 11487, 11549, 11680\n",
      "5: 4602, 5517, 7539, 12955, 14555, 20137, 20379, 26629, 32767, 35689\n",
      "6: 27257, 272570, 302693, 323576, 364509, 502785, 513675, 537771, 676657, 678146\n",
      "7: 140997, 490996, 1184321, 1259609, 1409970, 1783166, 1886654, 1977538, 2457756, 2714763\n"
     ]
    }
   ],
   "source": [
    "from itertools import islice, count\n",
    " \n",
    "def superd(d):\n",
    "    if d != int(d) or not 2 <= d <= 9:\n",
    "        raise ValueError(\"argument must be integer from 2 to 9 inclusive\")\n",
    "    tofind = str(d) * d\n",
    "    for n in count(2):\n",
    "        if tofind in str(d * n ** d):\n",
    "            yield n\n",
    "\n",
    "if __name__ == '__main__':\n",
    "    for d in range(2, 8):\n",
    "        print(f\"{d}:\", ', '.join(str(n) for n in islice(superd(d), 10)))"
   ]
  },
  {
   "cell_type": "code",
   "execution_count": 1,
   "metadata": {},
   "outputs": [
    {
     "name": "stdout",
     "output_type": "stream",
     "text": [
      "6\n",
      "[[2, 1, 0], [1, 2, 0], [1, 0, 2], [2, 0, 1], [0, 2, 1], [0, 1, 2]]\n",
      "3210\n",
      "[[[[], 0], 1], 2]\n",
      "[0] [1, 2]\n",
      "[[0, 0, 1, 2], [0, 0, 1, 2], [0, 1, 0, 2], [0, 1, 2, 0]]\n",
      "[[2, 1, 0], [1, 2, 0], [1, 0, 2], [2, 0, 1], [0, 2, 1], [0, 1, 2]]\n",
      "[[3, 2, 1, 0], [2, 3, 1, 0], [2, 1, 3, 0], [2, 1, 0, 3], [3, 1, 2, 0], [1, 3, 2, 0], [1, 2, 3, 0], [1, 2, 0, 3], [3, 1, 0, 2], [1, 3, 0, 2], [1, 0, 3, 2], [1, 0, 2, 3], [3, 2, 0, 1], [2, 3, 0, 1], [2, 0, 3, 1], [2, 0, 1, 3], [3, 0, 2, 1], [0, 3, 2, 1], [0, 2, 3, 1], [0, 2, 1, 3], [3, 0, 1, 2], [0, 3, 1, 2], [0, 1, 3, 2], [0, 1, 2, 3]]\n",
      "[[0, 1], [0, 1]]\n"
     ]
    }
   ],
   "source": [
    "# permutations\n",
    "from functools import reduce\n",
    "\n",
    "def permute(nums):\n",
    "    return reduce(lambda P, n: [p[:i] + [n] + p[i:] for p in P for i in range(len(p)+1)], nums, [[]])\n",
    "\n",
    "fact = lambda n: n * fact(n-1) if n>1 else 1\n",
    "\n",
    "print(fact(3))\n",
    "print(permute([0,1,2]))\n",
    "\n",
    "print(reduce(lambda accum_v, upd_v: accum_v+upd_v*10**upd_v, [0,1,2,3]))\n",
    "\n",
    "print(reduce(lambda a, b: [a] + [b], [0,1,2], []))\n",
    "\n",
    "myp = [[0,1,2]]\n",
    "print(myp[0][:1], myp[0][1:])\n",
    "print([px[:i] + [0] + px[i:] for px in myp for i in range(len(px)+1)])\n",
    "#print('red: ', reduce(lambda P, n: [p[i] for p in P for i in range(len(p)+1)], [0,1], [[]]))\n",
    "\n",
    "prmt = lambda nums: reduce(lambda P, n: [p[:i] + [n] + p[i:] for p in P for i in range(len(p)+1)], nums, [[]])\n",
    "print(prmt([0,1,2]))\n",
    "print(prmt([0,1,2,3]))\n",
    "\n",
    "prmt = lambda nums: reduce(lambda P, n: [p + [n] for p in P for i in range(len(p)+1)], nums, [[]])\n",
    "print(prmt([0,1]))"
   ]
  },
  {
   "cell_type": "code",
   "execution_count": 1,
   "metadata": {},
   "outputs": [
    {
     "name": "stdout",
     "output_type": "stream",
     "text": [
      "4\n",
      "[0, 0, 1, 0, 0, 1, 2]\n",
      "[[...], 0, [...], 1, [...], 2]\n",
      "[[0], [[0], 1], [[0], [[0], 1], 2]]\n"
     ]
    }
   ],
   "source": [
    "# reduce\n",
    "\n",
    "def rdc(f, seq, init=0):\n",
    "    '''reduce'''\n",
    "    cum = init\n",
    "    for el in seq:\n",
    "        cum += f(cum, el)\n",
    "    return cum\n",
    "\n",
    "print(rdc(lambda x, y: x+y, [0,1,2]))\n",
    "print(rdc(lambda x, y: x+[y], [0,1,2], []))\n",
    "print(rdc(lambda x, y: [x]+[y], [0,1,2], []))\n",
    "print(rdc(lambda x, y: [x+[y]], [0,1,2], []))"
   ]
  },
  {
   "cell_type": "code",
   "execution_count": 2,
   "metadata": {},
   "outputs": [
    {
     "name": "stdout",
     "output_type": "stream",
     "text": [
      "highest_left:   [0, 1, 5, 5, 7]\n",
      "highest_right:  [7, 7, 7, 2, 0]\n",
      "water_level:    [0, 0, 2, 0, 0]\n",
      "tower_level:    [1, 5, 3, 7, 2]\n",
      "total_water:    2\n",
      "\n",
      "highest_left:   [0, 5, 5, 7, 7, 7, 7, 7, 9, 9]\n",
      "highest_right:  [9, 9, 9, 9, 9, 9, 9, 2, 2, 0]\n",
      "water_level:    [0, 2, 0, 5, 1, 3, 2, 0, 1, 0]\n",
      "tower_level:    [5, 3, 7, 2, 6, 4, 5, 9, 1, 2]\n",
      "total_water:    14\n",
      "\n",
      "highest_left:   [0, 2, 6, 6, 6, 6, 8, 8, 8, 8, 8, 8, 8, 8, 8, 8]\n",
      "highest_right:  [8, 8, 8, 8, 8, 7, 7, 7, 7, 7, 7, 7, 7, 4, 1, 0]\n",
      "water_level:    [0, 0, 3, 1, 4, 0, 6, 3, 5, 5, 2, 4, 2, 0, 0, 0]\n",
      "tower_level:    [2, 6, 3, 5, 2, 8, 1, 4, 2, 2, 5, 3, 5, 7, 4, 1]\n",
      "total_water:    35\n",
      "\n",
      "highest_left:   [0, 5, 5, 5]\n",
      "highest_right:  [5, 5, 5, 0]\n",
      "water_level:    [0, 0, 0, 0]\n",
      "tower_level:    [5, 5, 5, 5]\n",
      "total_water:    0\n",
      "\n",
      "highest_left:   [0, 5, 6, 7]\n",
      "highest_right:  [8, 8, 8, 0]\n",
      "water_level:    [0, 0, 0, 0]\n",
      "tower_level:    [5, 6, 7, 8]\n",
      "total_water:    0\n",
      "\n",
      "highest_left:   [0, 8, 8, 8]\n",
      "highest_right:  [7, 7, 6, 0]\n",
      "water_level:    [0, 0, 0, 0]\n",
      "tower_level:    [8, 7, 7, 6]\n",
      "total_water:    0\n",
      "\n",
      "highest_left:   [0, 6, 7, 10, 10]\n",
      "highest_right:  [10, 10, 7, 6, 0]\n",
      "water_level:    [0, 0, 0, 0, 0]\n",
      "tower_level:    [6, 7, 10, 7, 6]\n",
      "total_water:    0\n",
      "\n"
     ]
    },
    {
     "data": {
      "text/plain": [
       "[2, 14, 35, 0, 0, 0, 0]"
      ]
     },
     "execution_count": 2,
     "metadata": {},
     "output_type": "execute_result"
    }
   ],
   "source": [
    "def water_collected(tower):\n",
    "    N = len(tower)\n",
    "    highest_left = [0] + [max(tower[:n]) for n in range(1,N)]\n",
    "    highest_right = [max(tower[n:N]) for n in range(1,N)] + [0]\n",
    "    water_level = [max(min(highest_left[n], highest_right[n]) - tower[n], 0)\n",
    "        for n in range(N)]\n",
    "    print(\"highest_left:  \", highest_left)\n",
    "    print(\"highest_right: \", highest_right)\n",
    "    print(\"water_level:   \", water_level)\n",
    "    print(\"tower_level:   \", tower)\n",
    "    print(\"total_water:   \", sum(water_level))\n",
    "    print(\"\")\n",
    "    return sum(water_level)\n",
    " \n",
    "towers = [[1, 5, 3, 7, 2],\n",
    "    [5, 3, 7, 2, 6, 4, 5, 9, 1, 2],\n",
    "    [2, 6, 3, 5, 2, 8, 1, 4, 2, 2, 5, 3, 5, 7, 4, 1],\n",
    "    [5, 5, 5, 5],\n",
    "    [5, 6, 7, 8],\n",
    "    [8, 7, 7, 6],\n",
    "    [6, 7, 10, 7, 6]]\n",
    " \n",
    "[water_collected(tower) for tower in towers]"
   ]
  },
  {
   "cell_type": "code",
   "execution_count": 1,
   "metadata": {},
   "outputs": [
    {
     "name": "stdout",
     "output_type": "stream",
     "text": [
      "#100 , fitness: 39.3%, 'lLDHSrKj hHbeYULpKV ASWEAjqL'\n",
      "#200 , fitness: 53.6%, 'lETjIBKS rU gd LQKI A WogLuL'\n",
      "#300 , fitness: 57.1%, 'kCTwIfKSAIM BQ LIKk A WbKgEL'\n",
      "#400 , fitness: 64.3%, 'yETHINKS ZG fa LIKEtabWkAIEL'\n",
      "#500 , fitness: 67.9%, 'XETHINeK Ip Iy XIKEmA WpASOL'\n",
      "#600 , fitness: 92.9%, 'METHINKS IT ISULIKEsA WEASEL'\n",
      "#647 , fitness: 100.0%, 'METHINKS IT IS LIKE A WEASEL'\n"
     ]
    }
   ],
   "source": [
    "# evolutionary algo\n",
    "from string import ascii_letters\n",
    "from random import choice, random\n",
    " \n",
    "target  = list(\"METHINKS IT IS LIKE A WEASEL\")\n",
    "charset = ascii_letters + ' '\n",
    "parent  = [choice(charset) for _ in range(len(target))]\n",
    "minmutaterate  = .09\n",
    "C = range(100)\n",
    " \n",
    "perfectfitness = float(len(target))\n",
    " \n",
    "def fitness(trial):\n",
    "    'Sum of matching chars by position'\n",
    "    return sum(t==h for t,h in zip(trial, target))\n",
    " \n",
    "def mutaterate():\n",
    "    'Less mutation the closer the fit of the parent'\n",
    "    return 1-((perfectfitness - fitness(parent)) / perfectfitness * (1 - minmutaterate))\n",
    " \n",
    "def mutate(parent, rate):\n",
    "    return [(ch if random() <= rate else choice(charset)) for ch in parent]\n",
    " \n",
    "def que():\n",
    "    '(from the favourite saying of Manuel in Fawlty Towers)'\n",
    "    print (\"#%-4i, fitness: %4.1f%%, '%s'\" %\n",
    "           (iterations, fitness(parent)*100./perfectfitness, ''.join(parent)))\n",
    "\n",
    "def mate(a, b):\n",
    "    place = 0\n",
    "    if choice(range(10)) < 7:\n",
    "        place = choice(range(len(target)))\n",
    "    else:\n",
    "        return a, b\n",
    " \n",
    "    return a, b, a[:place] + b[place:], b[:place] + a[place:]\n",
    " \n",
    "iterations = 0\n",
    "center = int(len(C)/2)\n",
    "while parent != target:\n",
    "    rate = mutaterate()\n",
    "    iterations += 1\n",
    "    if iterations % 100 == 0: que()\n",
    "    copies = [ mutate(parent, rate) for _ in C ]  + [parent]\n",
    "    parent1 = max(copies[:center], key=fitness)\n",
    "    parent2 = max(copies[center:], key=fitness)\n",
    "    parent = max(mate(parent1, parent2), key=fitness)\n",
    "que()"
   ]
  },
  {
   "cell_type": "code",
   "execution_count": 1,
   "metadata": {},
   "outputs": [],
   "source": [
    "import numpy as np\n",
    "from itertools import combinations_with_replacement, combinations, permutations \n",
    "\n",
    "perms0 = permutations([0,1,2,3,4,5,6,7,8,9], 8)\n",
    "combs1 = combinations_with_replacement([0,1,2], 5)\n",
    "\n",
    "a = np.array([[3,-1,0,0,0,0,0,0,-10,0,0,0,0], \n",
    "              [2,0,0,0,0,0,0,0,1,-10,0,0,0], \n",
    "              [0,0,3,-1,0,0,0,0,0,1,-10,0,0],\n",
    "              [0,0,3,0,-1,0,0,0,0,0,1,-10,0],\n",
    "              [-1,0,0,0,3,0,0,0,0,0,0,1,-10],\n",
    "              [0,0,0,0,0,3,-1,-10,0,0,0,0,1]])\n",
    "\n",
    "for p0 in perms0:\n",
    "    if p0[0] > 0:\n",
    "        for c1 in combs1:       \n",
    "            for c11 in permutations(c1, 5):\n",
    "                c = np.concatenate((p0, c11))\n",
    "                if np.all(np.dot(a, c.T) == 0):\n",
    "                    print(c)\n",
    "        '''c = np.dot(a, np.array(p0).T)\n",
    "        if np.all(c < 10) and np.all(c > 0):\n",
    "            print(c)'''\n",
    "        '''c = 3 * (p0[0]*100000 + p0[1]*10000 + p0[2]*1000 + p0[2]*100 + p0[3]*10 + p0[3])\n",
    "        #print(p0, c)\n",
    "        #break\n",
    "        cl = [int(i) for i in str(c)]\n",
    "        if c > 1234567 and c < 9999999 and cl[2] == p0[3] and cl[5] == p0[3] and cl[0] != cl[1] and \\\n",
    "        cl[0] != cl[2] and cl[0] != cl[3] and cl[0] != cl[4] and cl[0] != cl[6] and cl[1] != cl[6] \\\n",
    "        and cl[2] != cl[6] and cl[1] != cl[3] and cl[1] != cl[4] and cl[1] != cl[5] and cl[3] == p0[1]:\n",
    "            print(p0, c)'''\n",
    "#print(x)"
   ]
  },
  {
   "cell_type": "code",
   "execution_count": 3,
   "metadata": {},
   "outputs": [
    {
     "name": "stdout",
     "output_type": "stream",
     "text": [
      "[(0, 1, 2), (0, 2, 1), (1, 0, 2), (1, 2, 0), (2, 0, 1), (2, 1, 0)]\n",
      "[(0, 1, 2)]\n",
      "[(0, 0, 0, 0, 0), (0, 0, 0, 0, 1), (0, 0, 0, 0, 2), (0, 0, 0, 1, 1), (0, 0, 0, 1, 2), (0, 0, 0, 2, 2), (0, 0, 1, 1, 1), (0, 0, 1, 1, 2), (0, 0, 1, 2, 2), (0, 0, 2, 2, 2), (0, 1, 1, 1, 1), (0, 1, 1, 1, 2), (0, 1, 1, 2, 2), (0, 1, 2, 2, 2), (0, 2, 2, 2, 2), (1, 1, 1, 1, 1), (1, 1, 1, 1, 2), (1, 1, 1, 2, 2), (1, 1, 2, 2, 2), (1, 2, 2, 2, 2), (2, 2, 2, 2, 2)]\n"
     ]
    }
   ],
   "source": [
    "print(list(permutations([0,1,2], 3)))\n",
    "print(list(combinations([0,1,2], 3)))\n",
    "print(list(combinations_with_replacement([0,1,2], 5)))"
   ]
  },
  {
   "cell_type": "code",
   "execution_count": 63,
   "metadata": {},
   "outputs": [
    {
     "name": "stdout",
     "output_type": "stream",
     "text": [
      "#100 , fitness: 64.3%, 'MEaHDNKb hi Iu qIKEPA WEAjpL'\n",
      "#200 , fitness: 71.4%, 'CDTHMQKv IT Ie LIKE ARWEAREL'\n",
      "#300 , fitness: 96.4%, 'METHbNKS IT IS LIKE A WEASEL'\n",
      "#344 , fitness: 100.0%, 'METHINKS IT IS LIKE A WEASEL'\n"
     ]
    }
   ],
   "source": [
    "# evolutionary algo\n",
    "from string import ascii_letters\n",
    "from random import choice, random\n",
    " \n",
    "target  = list(\"METHINKS IT IS LIKE A WEASEL\")\n",
    "charset = ascii_letters + ' '\n",
    "parent  = [choice(charset) for _ in range(len(target))] # random init choice\n",
    "minmutaterate  = .09\n",
    "C = range(200)\n",
    " \n",
    "perfectfitness = float(len(target))\n",
    " \n",
    "def fitness(trial):\n",
    "    'Sum of matching chars by position'\n",
    "    return sum(t==h for t,h in zip(trial, target))\n",
    "\n",
    "def mutaterate():\n",
    "    'Less mutation the closer the fit of the parent'\n",
    "    return 1 - ((perfectfitness - fitness(parent)) / perfectfitness * (1 - minmutaterate))\n",
    "\n",
    "def mutate(parent, rate):\n",
    "    '''take character from parent or choose a random character from the vocabulary'''\n",
    "    return [(ch if random() <= rate else choice(charset)) for ch in parent] # below rate char survives, otherwise choose\n",
    "\n",
    "def que():\n",
    "    '(from the favourite saying of Manuel in Fawlty Towers)'\n",
    "    print (\"#%-4i, fitness: %4.1f%%, '%s'\" %\n",
    "           (iterations, fitness(parent)*100./perfectfitness, ''.join(parent)))\n",
    "\n",
    "def mate(a, b):\n",
    "    '''combine genes by splicing a and b at a random position'''\n",
    "    place = 0\n",
    "    if choice(range(10)) < 8: # 80%\n",
    "        place = choice(range(len(target)))\n",
    "    else:\n",
    "        return a, b\n",
    "    return a, b, a[:place] + b[place:], b[:place] + a[place:] # splice a and b\n",
    "\n",
    "iterations = 0\n",
    "center = int(len(C)/2)\n",
    "while parent != target and iterations < 1000:\n",
    "    rate = mutaterate()\n",
    "    iterations += 1\n",
    "    if iterations % 100 == 0: que()\n",
    "    copies = [ mutate(parent, rate) for _ in C ]  + [parent] # create a set of copies, but mutated\n",
    "    parent1 = max(copies[:center], key=fitness) # best parent from lower half\n",
    "    parent2 = max(copies[center:], key=fitness) # best parent from upper half\n",
    "    parent = max(mate(parent1, parent2), key=fitness) # choose best mutation from both bet parents\n",
    "que()"
   ]
  },
  {
   "cell_type": "code",
   "execution_count": 22,
   "metadata": {},
   "outputs": [
    {
     "name": "stdout",
     "output_type": "stream",
     "text": [
      "[0.588, 0.341, 0.071]\n",
      "[0.627, 0.331, 0.042]\n"
     ]
    }
   ],
   "source": [
    "# dice game\n",
    "import random\n",
    "\n",
    "def rolld(nf):\n",
    "    '''roll a dice with nf faces'''\n",
    "    return random.choice(range(1,nf+1))\n",
    "\n",
    "def smndc(nd, nf):\n",
    "    '''roll and sum nd dice each with nf faces'''\n",
    "    return sum([rolld(nf) for _ in range(nd)])\n",
    "\n",
    "def dcgm(nd0, nf0, nd1, nf1, niter=1000):\n",
    "    '''simple dice game'''\n",
    "    tlly = [0,0,0]\n",
    "    for _ in range(niter):\n",
    "        s0 = smndc(nd0,nf0)\n",
    "        s1 = smndc(nd1,nf1)\n",
    "        if s0>s1: tlly[0]+=1\n",
    "        elif s0<s1: tlly[1]+=1\n",
    "        else: tlly[2]+=1\n",
    "    return [p/niter for p in tlly]\n",
    "\n",
    "def main():\n",
    "    print(dcgm(9, 4, 6, 6))\n",
    "    print(dcgm(5, 10, 6, 7))\n",
    "\n",
    "if __name__ == '__main__':\n",
    "    main()"
   ]
  },
  {
   "cell_type": "code",
   "execution_count": 35,
   "metadata": {},
   "outputs": [
    {
     "name": "stdout",
     "output_type": "stream",
     "text": [
      "length of target:  28\n"
     ]
    },
    {
     "data": {
      "image/png": "[encoded data removed]",
      "text/plain": [
       "<Figure size 432x288 with 1 Axes>"
      ]
     },
     "metadata": {
      "needs_background": "light"
     },
     "output_type": "display_data"
    }
   ],
   "source": [
    "# evolutionary algo: eval aspect impact (mut, mate, fit, length, repro rate)\n",
    "from string import ascii_letters\n",
    "from random import choice, random\n",
    "import matplotlib.pyplot as plt\n",
    "import math\n",
    "\n",
    "def fitness(trial, target):\n",
    "    'Sum of matching chars by position - essentially the dot product'\n",
    "    return sum(t==h for t,h in zip(trial, target))\n",
    "    #return sum([sum([trl[i]==tgt[i+w] for w in range(-1,2)]) for i in range(1,len(trl)-1)]) # window\n",
    "    #return sum((ord(t)*math.log(ord(h)+0.001) for t,h in zip(trial, target))) # cross entropy\n",
    "\n",
    "def mutaterate(parent, target, perfectfitness, minmutaterate):\n",
    "    'Less mutation the closer the fit of the parent'\n",
    "    return 1 - ((perfectfitness - fitness(parent, target)) / perfectfitness * (1 - minmutaterate))\n",
    "\n",
    "def mutate(parent, rate, charset):\n",
    "    '''take character from parent or choose a random character from the vocabulary'''\n",
    "    return [(ch if random() <= rate else choice(charset)) for ch in parent] # below rate char survives, otherwise choose\n",
    "\n",
    "def que(iterations, parent, target, perfectfitness):\n",
    "    '(from the favourite saying of Manuel in Fawlty Towers)'\n",
    "    print (\"#%-4i, fitness: %4.1f%%, '%s'\" %\n",
    "           (iterations, fitness(parent, target)*100./perfectfitness, ''.join(parent)))\n",
    "\n",
    "def mate(a, b, target, splice_rt=7):\n",
    "    '''combine genes by splicing a and b at a random position'''\n",
    "    place = 0\n",
    "    if choice(range(10)) < splice_rt: # splice rate\n",
    "        place = choice(range(len(target)))\n",
    "        #fa = fitness(a, target)\n",
    "        #fb = fitness(b, target)\n",
    "        #place = int((fa + (1 - fb)) * len(target) / (fa+fb))\n",
    "    else:\n",
    "        return a, b\n",
    "    return a, b, a[:place] + b[place:], b[:place] + a[place:] # splice a and b\n",
    "\n",
    "def evorun(C, parent, charset, target, splice_rt, perfectfitness, minmutaterate):\n",
    "    '''a set of runs with given parameters'''\n",
    "    iterations = 0\n",
    "    center = int(len(C)/2)\n",
    "    while parent != target and iterations < 1000:\n",
    "        rate = mutaterate(parent, target, perfectfitness, minmutaterate)\n",
    "        iterations += 1\n",
    "        #if iterations % 100 == 0: que(iterations, parent, target, perfectfitness)\n",
    "        copies = [ mutate(parent, rate, charset) for _ in C ]  + [parent] # create a set of copies, but mutated\n",
    "        parent1 = max(copies[:center], key=lambda x: fitness(x, target)) # best parent from lower half\n",
    "        parent2 = max(copies[center:], key=lambda x: fitness(x, target)) # best parent from upper half\n",
    "        parent = max(mate(parent1, parent2, target, splice_rt), key=lambda x: fitness(x, target)) # choose best mutation from both bet parents\n",
    "    #que(iterations, parent, target, perfectfitness)\n",
    "    return (iterations)\n",
    "    \n",
    "def main():\n",
    "    target  = list(\"METHINKS IT IS LIKE A WEASEL\")\n",
    "    print('length of target: ', len(target))\n",
    "    charset = ascii_letters + ' '\n",
    "    parent  = [choice(charset) for _ in range(len(target))] # random init choice\n",
    "    minmutaterate  = .09\n",
    "    #C = range(200)\n",
    "    perfectfitness = float(len(target))\n",
    "    splice_rt = 8\n",
    "    #C_base = [25,50,100,200,300]\n",
    "    C_base = [240,250,260,270,280]\n",
    "    C_rg = [range(x) for x in C_base]\n",
    "    niter = []\n",
    "    ntrls = 20\n",
    "    #for sr in [1,2,3,4,5,6,7,8,9]:\n",
    "    for cc in C_rg:\n",
    "        navrg = 0.\n",
    "        for _ in range(ntrls):\n",
    "            navrg += evorun(cc, parent, charset, target, splice_rt, perfectfitness, minmutaterate)\n",
    "        niter.append(navrg / ntrls)\n",
    "    #niter = [niter[i] / C_base[i] for i in range(len(niter))] # scale by computational complexity of gene length\n",
    "    plt.plot(C_base, niter)\n",
    "    #plt.plot([1,2,3,4,5,6,7,8,9], niter)\n",
    "    plt.show()\n",
    "\n",
    "if __name__ == '__main__':\n",
    "    main()"
   ]
  },
  {
   "cell_type": "code",
   "execution_count": 23,
   "metadata": {},
   "outputs": [
    {
     "name": "stdout",
     "output_type": "stream",
     "text": [
      "2\n",
      "[2, 2]\n",
      "[0.0009995003330834232, -6.907755278982137, 0.0, -0.0]\n"
     ]
    }
   ],
   "source": [
    "import math\n",
    "\n",
    "def fitness(trial, target):\n",
    "    'Sum of matching chars by position'\n",
    "    return sum(t==h for t,h in zip(trial, target))\n",
    "\n",
    "trl = [1,1,0,0]\n",
    "tgt = [1,0,1,0]\n",
    "print(fitness(trl, tgt))\n",
    "\n",
    "print([sum([trl[i]==tgt[i+w] for w in range(-1,2)]) for i in range(1,len(trl)-1)])\n",
    "#print([trl[i]==tgt[i+w] for i in range(1,len(trl)-1) for w in range(-1,1)])\n",
    "\n",
    "print([t*math.log(h+0.001) for t,h in zip(trl, tgt)])"
   ]
  },
  {
   "cell_type": "markdown",
   "metadata": {},
   "source": [
    "# considering chromosomes"
   ]
  },
  {
   "cell_type": "code",
   "execution_count": 6,
   "metadata": {},
   "outputs": [
    {
     "name": "stdout",
     "output_type": "stream",
     "text": [
      "[15, 24, 14, 18, 7, 15, -1]\n",
      "7\n",
      "[5, 8, 15, 9, 14, 9, 1]\n",
      "[1, 13, 14, 11, 11, 18, 1]\n"
     ]
    }
   ],
   "source": [
    "# D&D chromosomes (from Munroes What if...)\n",
    "import random\n",
    "\n",
    "def ddstat(): # strict ;)\n",
    "    '''roll stat dice'''\n",
    "    return random.randint(1,6) + random.randint(1,6) + random.randint(1,6)\n",
    "\n",
    "def createcset(l):\n",
    "    '''create a a character set: either a stat value or a multiplier'''\n",
    "    res = []\n",
    "    for i in range(l-1):\n",
    "        if random.random() > 0.8:\n",
    "            res.append(-random.uniform(0.5, 2.5)) # multiplier\n",
    "        else:\n",
    "            res.append(ddstat())\n",
    "    res.append(random.choice([-1, 1])) # last stat is sex (-1 female, 1 male)\n",
    "    return res\n",
    "\n",
    "def combine(cset0, cset1):\n",
    "    '''combine two character sets'''\n",
    "    if len(cset0) != len(cset1):\n",
    "        return -1\n",
    "    \n",
    "    res = []\n",
    "    for ic in range(len(cset0)-1):\n",
    "        if cset0[ic] < 0: # multipliers are negative\n",
    "            if cset1[ic] < 0:\n",
    "                res.append(1) # multiplier on both sides: you get a 1\n",
    "            else:\n",
    "                res.append(int(-cset0[ic] * cset1[ic])) # multiplier and chromosome: multiply (and make +)\n",
    "        else:\n",
    "            if cset1[ic] < 0:\n",
    "                res.append(int(-cset0[ic] * cset1[ic]))\n",
    "            else:\n",
    "                res.append(max(cset0[ic], cset1[ic])) # you get the bigger number if both are chromosomes\n",
    "    \n",
    "    if cset0[len(cset0)-1] < 0: # last chromosome is the sex\n",
    "        if cset1[len(cset1)-1] < 0:\n",
    "            res.append(-1) # female\n",
    "        else:\n",
    "            if random.random() > 0.5:\n",
    "                res.append(1)\n",
    "            else:\n",
    "                res.append(-1)\n",
    "    else:\n",
    "        if cset1[len(cset1)-1] < 0:\n",
    "            if random.random() > 0.5:\n",
    "                res.append(1)\n",
    "            else:\n",
    "                res.append(-1)\n",
    "        else:\n",
    "            res.append(1) # male\n",
    "    return res\n",
    "\n",
    "if __name__==\"__main__\":\n",
    "    print(combine([15, -2, -1, 12, -0.5, 14, -1], [5, 12, 14, -1.5, 14, 15, -1]))\n",
    "    print(ddstat())\n",
    "    print(createcset(7))\n",
    "    print(combine(createcset(7), createcset(7)))"
   ]
  },
  {
   "cell_type": "code",
   "execution_count": null,
   "metadata": {},
   "outputs": [],
   "source": []
  }
 ],
 "metadata": {
  "kernelspec": {
   "display_name": "tfgpu",
   "language": "python",
   "name": "tfgpu"
  },
  "language_info": {
   "codemirror_mode": {
    "name": "ipython",
    "version": 3
   },
   "file_extension": ".py",
   "mimetype": "text/x-python",
   "name": "python",
   "nbconvert_exporter": "python",
   "pygments_lexer": "ipython3",
   "version": "3.7.7"
  }
 },
 "nbformat": 4,
 "nbformat_minor": 4
}
