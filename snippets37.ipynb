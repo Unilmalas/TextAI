{
 "cells": [
  {
   "cell_type": "code",
   "execution_count": 1,
   "metadata": {},
   "outputs": [
    {
     "name": "stdout",
     "output_type": "stream",
     "text": [
      "3\n"
     ]
    }
   ],
   "source": [
    "# Hofstadter Female and Male sequences\n",
    "def fem(n):\n",
    "    '''Hofstadter Female sequence'''\n",
    "    #print('fem: ', n)\n",
    "    if n <= 0: return 1\n",
    "    return n - mle(fem(n-1))\n",
    "\n",
    "def mle(n):\n",
    "    '''Hofstadter Male sequence'''\n",
    "    #print('mle: ', n)\n",
    "    if n <= 0: return 0\n",
    "    return n - fem(mle(n-1))\n",
    "\n",
    "def main():\n",
    "    print(fem(4))\n",
    "\n",
    "if __name__ == '__main__':\n",
    "    main()"
   ]
  },
  {
   "cell_type": "code",
   "execution_count": 2,
   "metadata": {},
   "outputs": [
    {
     "name": "stdout",
     "output_type": "stream",
     "text": [
      "[158. 159.]\n"
     ]
    }
   ],
   "source": [
    "# linear regression one-liner\n",
    "from sklearn.linear_model import LinearRegression\n",
    "import numpy as np\n",
    "\n",
    "apple = np.array([155, 156, 157])\n",
    "n = len(apple)\n",
    "model = LinearRegression().fit(np.arange(n).reshape((n,1)), apple)\n",
    "print(model.predict([[3],[4]]))"
   ]
  },
  {
   "cell_type": "code",
   "execution_count": 6,
   "metadata": {},
   "outputs": [
    {
     "name": "stdout",
     "output_type": "stream",
     "text": [
      "['No' 'No' 'No' 'Yes' 'Yes']\n"
     ]
    }
   ],
   "source": [
    "# linear regression one-liner\n",
    "from sklearn.linear_model import LogisticRegression\n",
    "import numpy as np\n",
    "\n",
    "X = np.array([[0, 'No'],\n",
    "             [10, 'No'],\n",
    "             [60, 'Yes'],\n",
    "             [90, 'Yes']])\n",
    "\n",
    "n = len(X)\n",
    "model = LogisticRegression().fit(X[:,0].reshape(n,1), X[:,1])\n",
    "\n",
    "print(model.predict([[2], [12], [13], [40], [90]]))"
   ]
  },
  {
   "cell_type": "code",
   "execution_count": null,
   "metadata": {},
   "outputs": [],
   "source": []
  }
 ],
 "metadata": {
  "kernelspec": {
   "display_name": "Python [conda env:venv]",
   "language": "python",
   "name": "conda-env-venv-py"
  },
  "language_info": {
   "codemirror_mode": {
    "name": "ipython",
    "version": 3
   },
   "file_extension": ".py",
   "mimetype": "text/x-python",
   "name": "python",
   "nbconvert_exporter": "python",
   "pygments_lexer": "ipython3",
   "version": "3.7.7"
  }
 },
 "nbformat": 4,
 "nbformat_minor": 4
}
