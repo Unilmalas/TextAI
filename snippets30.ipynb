{
 "cells": [
  {
   "cell_type": "code",
   "execution_count": null,
   "metadata": {},
   "outputs": [],
   "source": []
  },
  {
   "cell_type": "code",
   "execution_count": 26,
   "metadata": {},
   "outputs": [
    {
     "name": "stdout",
     "output_type": "stream",
     "text": [
      "10.034908170336502\n"
     ]
    }
   ],
   "source": [
    "# PMI test\n",
    "import math\n",
    "\n",
    "print(math.log((1159/(50000952)) / (1938/50000952) / (1311/50000952)))"
   ]
  },
  {
   "cell_type": "code",
   "execution_count": 25,
   "metadata": {},
   "outputs": [
    {
     "name": "stderr",
     "output_type": "stream",
     "text": [
      "No handles with labels found to put in legend.\n"
     ]
    },
    {
     "data": {
      "image/png": "[encoded data removed]",
      "text/plain": [
       "<Figure size 432x288 with 1 Axes>"
      ]
     },
     "metadata": {
      "needs_background": "light"
     },
     "output_type": "display_data"
    }
   ],
   "source": [
    "# various norms and distances graph\n",
    "import math\n",
    "import numpy as np\n",
    "import matplotlib.pyplot as plt\n",
    "\n",
    "def l1_norm(v):\n",
    "    '''L1 distance'''\n",
    "    norm = np.sum(v)\n",
    "    return v / norm\n",
    "\n",
    "def l2_norm(v):\n",
    "    '''L2 distance'''\n",
    "    norm = np.sqrt(np.sum(np.square(v)))\n",
    "    return v / norm\n",
    "\n",
    "def froto(p, q):\n",
    "    '''vector from p to q'''\n",
    "    return np.array(p) - np.array(q)\n",
    "\n",
    "def hellingm(p, q):\n",
    "    '''returns Hellinger metric for distributions p and q'''\n",
    "    if len(p) != len(q):\n",
    "        return -1\n",
    "    hm = 0.\n",
    "    for idx, elp in enumerate(p):\n",
    "        hm += (math.sqrt(elp) - math.sqrt(max(q[idx], 0.)))**2\n",
    "    return math.sqrt(hm) / math.sqrt(2.)\n",
    "\n",
    "def euclid(p, q):\n",
    "    '''Euclidean metric for distributions p and q'''\n",
    "    if len(p) != len(q):\n",
    "        return -1\n",
    "    ec = 0.\n",
    "    for idx, elp in enumerate(p):\n",
    "        ec += (elp - q[idx]) ** 2\n",
    "    return math.sqrt(ec) \n",
    "\n",
    "def minkovfr(p, q, pp):\n",
    "    '''Minkowski and fractional metric for distributions p and q'''\n",
    "    if len(p) != len(q):\n",
    "        return -1\n",
    "    ec = 0.\n",
    "    for idx, elp in enumerate(p):\n",
    "        ec += (elp - q[idx]) ** pp\n",
    "    return ec ** (1. / pp)\n",
    "\n",
    "def cosine(p, q):\n",
    "    '''cosine similarity for distributions p and q'''\n",
    "    if len(p) != len(q):\n",
    "        return -1\n",
    "    cs = 0.\n",
    "    pn = 0.\n",
    "    qn = 0.\n",
    "    for idx, elp in enumerate(p):\n",
    "        cs += elp * q[idx]\n",
    "        pn += elp * elp\n",
    "        qn += q[idx] * q[idx]\n",
    "    if cs > 0. and pn > 0. and qn > 0.:\n",
    "        return math.sqrt(cs) / math.sqrt(pn) / math.sqrt(qn)\n",
    "    return 0\n",
    "\n",
    "def jaccind(a, b):\n",
    "    '''returns the Jaccard index for two sets a, b'''\n",
    "    return len(a.intersection(b)) / len(a.union(b))\n",
    "\n",
    "def kullei(p, q):\n",
    "    '''Kullback-Leibler divergence (modified)'''\n",
    "    return np.sum(np.dot(p, np.array([np.log(p / (q0 + 1) + 1) for q0 in q])))\n",
    "\n",
    "def pmi(cwi, cwj, cco, ctot, eps=0.01):\n",
    "    '''pointwise mutual information e.g. math.log((1159/(50000952)) / (1938/50000952) / (1311/50000952))'''\n",
    "    return math.log((cco/ctot + eps ) / (cwi/ctot) / (cwj/ctot))\n",
    "\n",
    "def npmi(cwi, cwj, cco, ctot, gamma=1.0, eps=0.01):\n",
    "    '''normalized pointwise mutual information'''\n",
    "    return (- pmi(cwi, cwj, cco, ctot, eps) / math.log((cco/ctot + eps ))) ** gamma\n",
    "\n",
    "def pmi_vec(vi, vj, n, eps=0.01):\n",
    "    '''pointwise mutual information vector version'''\n",
    "    return math.log((np.abs(np.dot(vi,vj)) + eps ) / n / n)\n",
    "\n",
    "def npmi_vec(vi, vj, n, gamma=1.0, eps=0.01):\n",
    "    '''normalized pointwise mutual information vector version'''\n",
    "    return (- pmi_vec(vi, vj, n, eps) / math.log(np.abs(np.dot(vi,vj)) + eps)) ** gamma\n",
    "\n",
    "def main():\n",
    "    vx = np.array([1., 0.])\n",
    "    xc = range(12)\n",
    "    yc = []\n",
    "    yh = []\n",
    "    ye = []\n",
    "    yd = []\n",
    "    ykl = []\n",
    "    ypmi = []\n",
    "    for phi in range(0,12): # go around in a circle\n",
    "        vy = np.array([math.cos(phi), math.sin(phi)])\n",
    "        yc.append(cosine(vx, vy))\n",
    "        yh.append(hellingm(vx, vy))\n",
    "        ye.append(euclid(vx, vy))\n",
    "        yd.append(np.dot(vx, vy))\n",
    "        ykl.append(kullei(vx, vy))\n",
    "        ypmi.append(pmi_vec(vx, vy, 12))\n",
    "    fig = plt.figure()\n",
    "    ax = fig.add_subplot(111)\n",
    "    ax.set(xlabel='angle pi/12', ylabel='measure')\n",
    "    plt.plot(xc, yc, marker='o') # Cosine\n",
    "    #plt.plot(xc, yh, marker='x') # Helling\n",
    "    plt.plot(xc, ye, marker='+') # Euclid\n",
    "    plt.plot(xc, yd, marker='*') # dot\n",
    "    plt.plot(xc, ykl, marker='.') # KL\n",
    "    plt.plot(xc, ypmi, marker='o') # PMI\n",
    "    ax.legend(loc='best')\n",
    "    plt.show()\n",
    "    \n",
    "if __name__=='__main__':\n",
    "    main()"
   ]
  },
  {
   "cell_type": "code",
   "execution_count": 2,
   "metadata": {},
   "outputs": [
    {
     "name": "stdout",
     "output_type": "stream",
     "text": [
      "(1.17, 'cm', 1.17, 'cm')\n",
      "(8.11, 'm', 81.1, 'dm')\n",
      "(14.14, '10m', 14.14, '10m')\n",
      "(1.45, '10m', 14500.0, 'mm')\n",
      "(48.0, 'm', 0.48, '100m')\n",
      "(1.94, 'cm', 0.194, 'dm')\n",
      "(6.11, '10m', 611.0, 'dm')\n",
      "(1.83, 'mm', 0.0183, 'dm')\n",
      "(5.82, 'dm', 0.0058, '100m')\n",
      "(4.9, 'm', 4.9, 'm')\n",
      "\n",
      "(3.0, 'ha', 300.0, 'a')\n",
      "(2.76, 'ha', 2760000.0, 'dm2')\n",
      "(2.41, 'ha', 0.0241, 'km2')\n",
      "(7.0, 'm2', 0.0007, 'ha')\n",
      "(17.0, 'cm2', 1700.0, 'mm2')\n",
      "(26.5, 'mm2', 0.00265, 'dm2')\n",
      "(1.11, 'mm2', 0.0111, 'cm2')\n",
      "(8.71, 'km2', 87100.0, 'a')\n",
      "(18.33, 'cm2', 0.0, 'km2')\n",
      "(5.79, 'cm2', 0.0, 'km2')\n",
      "\n",
      "(5.41, 'cm3', 0.00541, 'dm3')\n",
      "(4.29, 'km3', 4.29, 'km3')\n",
      "(8.14, '1000m3', 8140000000000.0, 'mm3')\n",
      "(6.14, 'cm3', 6140.0, 'mm3')\n",
      "(10.0, '1000000m3', 0.01, 'km3')\n",
      "(6.0, 'km3', 6000000000.0, 'm3')\n",
      "(0.32, 'dm3', 0.32, 'dm3')\n",
      "(4.25, 'cm3', 4250.0, 'mm3')\n",
      "(13.0, 'm3', 0.013, '1000m3')\n",
      "(4.0, '1000m3', 4000000000.0, 'cm3')\n"
     ]
    }
   ],
   "source": [
    "# Auri examples\n",
    "import random\n",
    "\n",
    "def dist():\n",
    "    dfact = [1000, 100, 10, 1, 0.1, 0.01, 0.001]\n",
    "    dnms = ['km', '100m', '10m', 'm', 'dm', 'cm', 'mm']\n",
    "    i0 = random.randint(0, len(dfact)-1)\n",
    "    i1 = random.randint(0, len(dfact)-1)\n",
    "    n0 = round(random.randint(5, 100) / random.randint(1, 20), 2)\n",
    "    return (n0, dnms[i0], round(n0 * dfact[i0] / dfact[i1], 4), dnms[i1])\n",
    "\n",
    "def area():\n",
    "    dfact = [1000000, 10000, 100, 1, 0.01, 0.0001, 0.000001]\n",
    "    dnms = ['km2', 'ha', 'a', 'm2', 'dm2', 'cm2', 'mm2']\n",
    "    i0 = random.randint(0, len(dfact)-1)\n",
    "    i1 = random.randint(0, len(dfact)-1)\n",
    "    n0 = round(random.randint(5, 100) / random.randint(1, 20), 2)\n",
    "    return (n0, dnms[i0], round(n0 * dfact[i0] / dfact[i1], 6), dnms[i1])\n",
    "\n",
    "def vol():\n",
    "    dfact = [1000000000, 1000000, 1000, 1, 0.001, 0.000001, 0.000000001]\n",
    "    dnms = ['km3', '1000000m3', '1000m3', 'm3', 'dm3', 'cm3', 'mm3']\n",
    "    i0 = random.randint(0, len(dfact)-1)\n",
    "    i1 = random.randint(0, len(dfact)-1)\n",
    "    n0 = round(random.randint(5, 100) / random.randint(1, 20), 2)\n",
    "    return (n0, dnms[i0], round(n0 * dfact[i0] / dfact[i1], 8), dnms[i1])\n",
    "\n",
    "def main():\n",
    "    for i in range(10):\n",
    "        print(dist())\n",
    "    print()\n",
    "    for i in range(10):\n",
    "        print(area())\n",
    "    print()\n",
    "    for i in range(10):\n",
    "        print(vol())\n",
    "\n",
    "if __name__=='__main__':\n",
    "    main()"
   ]
  },
  {
   "cell_type": "code",
   "execution_count": 3,
   "metadata": {},
   "outputs": [
    {
     "name": "stdout",
     "output_type": "stream",
     "text": [
      "[[0.1 0.  0.3]\n",
      " [0.1 0.2 0. ]\n",
      " [0.  0.2 0.3]]\n",
      "[[0.07 0.05 0.1 ]]\n",
      "[[1. 0. 1.]]\n"
     ]
    }
   ],
   "source": [
    "# test q,k,v-attention\n",
    "import numpy as np\n",
    "\n",
    "def softmax(x):\n",
    "    \"\"\"compute softmax values for each sets of scores in x\"\"\"\n",
    "    e_x = np.exp(x - np.max(x))\n",
    "    return e_x / e_x.sum(axis=0)\n",
    "\n",
    "def main():\n",
    "    q = np.array([[0.1, 0.2, 0.2]])\n",
    "    k = np.array([[0.1, 0, 0.3], [0.1, 0.2, 0], [0, 0.2, 0.3]])\n",
    "    v = np.array([[1., 0., 1.]])\n",
    "    print(k)\n",
    "    print(np.dot(q, k.T))\n",
    "    print(softmax(np.dot(q, k.T)) * v)\n",
    "\n",
    "if __name__=='__main__':\n",
    "    main()"
   ]
  },
  {
   "cell_type": "code",
   "execution_count": 4,
   "metadata": {},
   "outputs": [
    {
     "name": "stdout",
     "output_type": "stream",
     "text": [
      "Enter text: the brown fox jumpes over the lazy dog\n",
      "++++++++++++++++++++++++++++++++++++++\n",
      "4.15183581727508\n"
     ]
    }
   ],
   "source": [
    "# text entropy 2\n",
    "import math\n",
    "import re\n",
    "from collections import Counter\n",
    "\n",
    "def entropy(s):\n",
    "    '''calclate information entropy of given text'''\n",
    "    p, lns = Counter(s), float(len(s)) # Counter({'4': 4, '3': 3, '2': 2, '1': 1})\n",
    "    return -sum( count/lns * math.log(count/lns, 2) for count in p.values())\n",
    "        \n",
    "def main():\n",
    "    piece = input(\"Enter text: \").replace('\\n', ' ').replace('\\r', ' ')\n",
    "    print('++++++++++++++++++++++++++++++++++++++')\n",
    "    #print(uniqc(piece))\n",
    "    print(entropy(piece))\n",
    "\n",
    "if __name__=='__main__':\n",
    "    main()"
   ]
  },
  {
   "cell_type": "code",
   "execution_count": 5,
   "metadata": {},
   "outputs": [
    {
     "name": "stdout",
     "output_type": "stream",
     "text": [
      "a small yard with a high arched room, the walls of which glistened with countless\n",
      "emeralds. Before them stood a little man about the same height as herself; and when she had made out\n",
      "the proper way of nursing it, (which was to twist it up into a sort of lullaby to it as she did not\n",
      "notice when the Scarecrow stumbled into \n"
     ]
    }
   ],
   "source": [
    "# Markov chain text generator\n",
    "import sys\n",
    "import random\n",
    " \n",
    "def readdata(file):\n",
    "    '''Read file and return contents.'''\n",
    "    with open(file) as f:\n",
    "        contents = f.read()\n",
    "    return contents\n",
    " \n",
    "def makerule(data, context):\n",
    "    '''Make a rule dict for given data.'''\n",
    "    rule = {}\n",
    "    words = data.split(' ')\n",
    "    index = context\n",
    " \n",
    "    for word in words[index:]:\n",
    "        key = ' '.join(words[index-context:index])\n",
    "        if key in rule:\n",
    "            rule[key].append(word)\n",
    "        else:\n",
    "            rule[key] = [word]\n",
    "        index += 1\n",
    " \n",
    "    return rule\n",
    " \n",
    "def makestring(rule, length):    \n",
    "    '''Use a given rule to make a string.'''\n",
    "    oldwords = random.choice(list(rule.keys())).split(' ') #random starting words\n",
    "    string = ' '.join(oldwords) + ' '\n",
    " \n",
    "    for i in range(length):\n",
    "        try:\n",
    "            key = ' '.join(oldwords)\n",
    "            newword = random.choice(rule[key])\n",
    "            string += newword + ' '\n",
    " \n",
    "            for word in range(len(oldwords)):\n",
    "                oldwords[word] = oldwords[(word + 1) % len(oldwords)]\n",
    "            oldwords[-1] = newword\n",
    " \n",
    "        except KeyError:\n",
    "            return string\n",
    "    return string\n",
    " \n",
    "if __name__ == '__main__':\n",
    "    # Usage: markov.py source.txt context length\n",
    "    #data = readdata(sys.argv[1])\n",
    "    data = '''As soon as they heard her orders they ran away in every direction as fast as they could, Dorothy\n",
    "only stopping once to pick a beautiful flower; and after a time the ladder was ready. The Scarecrow\n",
    "climbed up the ladder first, but he was so anxious to get the new house and my wife as soon as\n",
    "possible. The Lion hesitated no longer, but drank till the dish was empty. How do you do? I'm pretty\n",
    "well, thank you, replied Dorothy politely. How do you do? I'm not feeling well, said the wolf, and\n",
    "he dashed away at full speed, followed by the others. It was lucky the Scarecrow and the Tin\n",
    "Woodman, for we certainly must climb over the wall. When they were on, Dorothy could not take them\n",
    "off had she wished, but of course she did not wish to leave her little dog behind. Toto had run into\n",
    "the crowd to bark at the birds sitting there. Dorothy went to the Witch's castle, where he was\n",
    "placed in a small yard with a high arched room, the walls of which glistened with countless\n",
    "emeralds. Before them stood a little man about the same height as herself; and when she had made out\n",
    "the proper way of nursing it, (which was to twist it up into a sort of lullaby to it as she did not\n",
    "notice when the Scarecrow stumbled into a hole and rolled over to the other side of the Tin Woodman,\n",
    "sadly; for he is much too heavy to carry I shall have to think about that, replied the little old\n",
    "woman as her only friend. No, I cannot do that, she replied, but I will give you some supper and a\n",
    "place to pass the night with you, if you will only hold fast to the tip of my tail.'''\n",
    "    #rule = makerule(data, int(sys.argv[2]))\n",
    "    #string = makestring(rule, int(sys.argv[3]))\n",
    "    rule = makerule(data, 10)\n",
    "    string = makestring(rule, 50)\n",
    "    print(string)"
   ]
  },
  {
   "cell_type": "code",
   "execution_count": 6,
   "metadata": {},
   "outputs": [
    {
     "name": "stdout",
     "output_type": "stream",
     "text": [
      "https://www.sozialministerium.at/\n",
      "https://www.ages.at/themen/krankheitserreger/coronavirus/\n",
      "https://www.who.int/emergencies/diseases/novel-coronavirus-2019/advice-for-public\n",
      "https://en.wikipedia.org/wiki/2019%E2%80%9320_coronavirus_pandemic\n",
      "https://www.integrationsfonds.at/newsbeitrag/covid-19-mehrsprachige-informationen-zu-wichtigen-hygiene-und-verhaltensregeln-5339\n"
     ]
    }
   ],
   "source": [
    "# search test time constraints on google\n",
    "# googlesearch.search(query, tld='com', lang='en', tbs='0',\n",
    "# safe='off', num=10, start=0, stop=None, domains=None, pause=2.0,\n",
    "# tpe='', country='', extra_params=None, user_agent=None)[source]\n",
    "# tbs (str) – Time limits (i.e “qdr:h” => last hour, “qdr:d” => last 24 hours, “qdr:m” => last month)\n",
    "# A specific time range, for example from March 2 1984 to June 5 1987: tbs=cdr:1,cd_min:3/2/1984,cd_max:6/5/1987\n",
    "# extra_params (dict) – A dictionary of extra HTTP GET parameters,\n",
    "# which must be URL encoded. For example if you don’t want Google to filter similar\n",
    "# results you can set the extra_params to {‘filter’: ‘0’} which will append ‘&filter=0’ to every query.\n",
    "try: \n",
    "    from googlesearch import search \n",
    "except ImportError:  \n",
    "    print(\"No module named 'google' found\") \n",
    "  \n",
    "# to search \n",
    "query = \"covid-19\"\n",
    "  \n",
    "#for j in search(query, tld=\"co.in\", num=5, stop=5, pause=1):\n",
    "#for j in search(query, tld=\"co.in\", tbs='cdr:2Ccd_min:2F30%2F2020:Ccd_max:2F11%2F2020', num=5, stop=5, pause=2):\n",
    "for j in search(query, tld=\"co.in\", tbs='cdr:1,cd_min:3/1/2020,cd_max:3/20/2020', num=5, stop=5, pause=2): \n",
    "    print(j)"
   ]
  },
  {
   "cell_type": "code",
   "execution_count": 9,
   "metadata": {},
   "outputs": [
    {
     "name": "stdout",
     "output_type": "stream",
     "text": [
      "8.0\n",
      "8.0\n",
      "783.1098528099996\n",
      "783.1098528099996\n",
      "783.1098528099994\n",
      "783.1098528099996\n",
      "1.099621199999092\n",
      "0.6022185000001627\n",
      "0.8770029000006616\n",
      "0.009316300001955824\n"
     ]
    }
   ],
   "source": [
    "from functools import reduce\n",
    "import timeit\n",
    "\n",
    "MULTIPLY = lambda x, y: x*y\n",
    " \n",
    "class num(float):\n",
    "    # the following method has complexity O(b)\n",
    "    # rather than O(log b) via the rapid exponentiation\n",
    "    def __pow__(self, b):\n",
    "        return reduce(MULTIPLY, [self]*b, 1) # apply function passed in its argument to all of the list elements\n",
    "    def __pow2__(self, b):\n",
    "        return exp_by_squaring_iterative(self, b)\n",
    "    \n",
    "def exp_by_squaring_iterative(x, n):\n",
    "    '''rapid exponentiation'''\n",
    "    if n < 0:\n",
    "        x = 1 / x\n",
    "        n = -n\n",
    "    if n == 0:\n",
    "        return 1\n",
    "    y = 1\n",
    "    while n > 1:\n",
    "        if n % 2 == 0: \n",
    "            x = x * x\n",
    "            n = n / 2\n",
    "        else:\n",
    "            y = x * y\n",
    "            x = x * x\n",
    "            n = (n-1) / 2\n",
    "    return x * y\n",
    "\n",
    "def test():\n",
    "    \"\"\"Stupid test function\"\"\"\n",
    "    L = []\n",
    "    for i in range(100):\n",
    "        L.append(i)\n",
    "\n",
    "if __name__ == '__main__':\n",
    "    # works with ints as function or operator\n",
    "    print(num(2).__pow__(3))\n",
    "    print(num(2) ** 3)\n",
    " \n",
    "    # works with floats as function or operator\n",
    "    print(num(2.3).__pow__(8))\n",
    "    print(num(2.3) ** 8)\n",
    "\n",
    "    print(exp_by_squaring_iterative(2.3, 8))\n",
    "    print(2.3**8)\n",
    "    \n",
    "    #print(timeit.timeit(\"test()\", setup=\"from __main__ import test\"))\n",
    "    print(timeit.timeit(\"num(2.3) ** 8\", setup=\"from __main__ import num\"))\n",
    "    print(timeit.timeit(\"exp_by_squaring_iterative(2.3, 8)\", setup=\"from __main__ import exp_by_squaring_iterative\"))\n",
    "    print(timeit.timeit(\"num(2.3).__pow2__(8)\", setup=\"from __main__ import num\"))\n",
    "    print(timeit.timeit(\"2.3**8\"))"
   ]
  },
  {
   "cell_type": "code",
   "execution_count": 1,
   "metadata": {},
   "outputs": [
    {
     "name": "stdout",
     "output_type": "stream",
     "text": [
      "24\n"
     ]
    }
   ],
   "source": [
    "from functools import reduce\n",
    "\n",
    "lst = [1, 2, 3, 4]\n",
    "print(reduce(lambda x,y : x*y, lst))"
   ]
  },
  {
   "cell_type": "code",
   "execution_count": 15,
   "metadata": {},
   "outputs": [
    {
     "name": "stdout",
     "output_type": "stream",
     "text": [
      "816.2236706367081\n",
      "4999.999999999999\n",
      "(90, 97)\n"
     ]
    }
   ],
   "source": [
    "# financial snippets\n",
    "\n",
    "def pvn(c,r,g,n):\n",
    "    '''present value with growth g'''\n",
    "    return sum([c / (1+(r-g))**i for i in range(1,n)])\n",
    "\n",
    "def pv(c,r,g):\n",
    "    '''present value perpetuity with growth g'''\n",
    "    return c / (r-g)\n",
    "\n",
    "def fcf(ebit, txebit, depr, netcapex, dwcr):\n",
    "    '''free cash flow'''\n",
    "    noplat = ebit - txebit\n",
    "    return (noplat, noplat + depr - netcapex - dwcr)\n",
    "\n",
    "def capm(rf, betai, erm):\n",
    "    '''E(ri) of CAPM'''\n",
    "    return rf + betai * (erm - rf)\n",
    "\n",
    "def main():\n",
    "    print(pvn(100, 0.035, 0.015, 10))\n",
    "    print(pv(100, 0.035, 0.015))\n",
    "    print(fcf(100, 10, 15, 5, 3))\n",
    "\n",
    "if __name__ == '__main__':\n",
    "    main()"
   ]
  },
  {
   "cell_type": "code",
   "execution_count": 20,
   "metadata": {},
   "outputs": [
    {
     "ename": "FileNotFoundError",
     "evalue": "[Errno 2] File FB.csv does not exist: 'FB.csv'",
     "output_type": "error",
     "traceback": [
      "\u001b[1;31m---------------------------------------------------------------------------\u001b[0m",
      "\u001b[1;31mFileNotFoundError\u001b[0m                         Traceback (most recent call last)",
      "\u001b[1;32m<ipython-input-20-6d0e461befef>\u001b[0m in \u001b[0;36m<module>\u001b[1;34m\u001b[0m\n\u001b[0;32m      9\u001b[0m \u001b[0mperiod\u001b[0m \u001b[0mformat\u001b[0m\u001b[1;33m:\u001b[0m \u001b[0mDD\u001b[0m\u001b[1;33m/\u001b[0m\u001b[0mMM\u001b[0m\u001b[1;33m/\u001b[0m\u001b[0mYEAR\u001b[0m\u001b[1;33m\u001b[0m\u001b[1;33m\u001b[0m\u001b[0m\n\u001b[0;32m     10\u001b[0m '''\n\u001b[1;32m---> 11\u001b[1;33m \u001b[0mfb\u001b[0m \u001b[1;33m=\u001b[0m \u001b[0mpd\u001b[0m\u001b[1;33m.\u001b[0m\u001b[0mread_csv\u001b[0m\u001b[1;33m(\u001b[0m\u001b[1;34m'FB.csv'\u001b[0m\u001b[1;33m,\u001b[0m \u001b[0mparse_dates\u001b[0m\u001b[1;33m=\u001b[0m\u001b[1;32mTrue\u001b[0m\u001b[1;33m,\u001b[0m \u001b[0mindex_col\u001b[0m\u001b[1;33m=\u001b[0m\u001b[1;34m'Date'\u001b[0m\u001b[1;33m,\u001b[0m\u001b[1;33m)\u001b[0m\u001b[1;33m\u001b[0m\u001b[1;33m\u001b[0m\u001b[0m\n\u001b[0m\u001b[0;32m     12\u001b[0m \u001b[0msp_500\u001b[0m \u001b[1;33m=\u001b[0m \u001b[0mpd\u001b[0m\u001b[1;33m.\u001b[0m\u001b[0mread_csv\u001b[0m\u001b[1;33m(\u001b[0m\u001b[1;34m'^GSPC.csv'\u001b[0m\u001b[1;33m,\u001b[0m \u001b[0mparse_dates\u001b[0m\u001b[1;33m=\u001b[0m\u001b[1;32mTrue\u001b[0m\u001b[1;33m,\u001b[0m \u001b[0mindex_col\u001b[0m\u001b[1;33m=\u001b[0m\u001b[1;34m'Date'\u001b[0m\u001b[1;33m)\u001b[0m\u001b[1;33m\u001b[0m\u001b[1;33m\u001b[0m\u001b[0m\n\u001b[0;32m     13\u001b[0m \u001b[1;33m\u001b[0m\u001b[0m\n",
      "\u001b[1;32mD:\\Anaconda\\lib\\site-packages\\pandas\\io\\parsers.py\u001b[0m in \u001b[0;36mparser_f\u001b[1;34m(filepath_or_buffer, sep, delimiter, header, names, index_col, usecols, squeeze, prefix, mangle_dupe_cols, dtype, engine, converters, true_values, false_values, skipinitialspace, skiprows, skipfooter, nrows, na_values, keep_default_na, na_filter, verbose, skip_blank_lines, parse_dates, infer_datetime_format, keep_date_col, date_parser, dayfirst, cache_dates, iterator, chunksize, compression, thousands, decimal, lineterminator, quotechar, quoting, doublequote, escapechar, comment, encoding, dialect, error_bad_lines, warn_bad_lines, delim_whitespace, low_memory, memory_map, float_precision)\u001b[0m\n\u001b[0;32m    674\u001b[0m         )\n\u001b[0;32m    675\u001b[0m \u001b[1;33m\u001b[0m\u001b[0m\n\u001b[1;32m--> 676\u001b[1;33m         \u001b[1;32mreturn\u001b[0m \u001b[0m_read\u001b[0m\u001b[1;33m(\u001b[0m\u001b[0mfilepath_or_buffer\u001b[0m\u001b[1;33m,\u001b[0m \u001b[0mkwds\u001b[0m\u001b[1;33m)\u001b[0m\u001b[1;33m\u001b[0m\u001b[1;33m\u001b[0m\u001b[0m\n\u001b[0m\u001b[0;32m    677\u001b[0m \u001b[1;33m\u001b[0m\u001b[0m\n\u001b[0;32m    678\u001b[0m     \u001b[0mparser_f\u001b[0m\u001b[1;33m.\u001b[0m\u001b[0m__name__\u001b[0m \u001b[1;33m=\u001b[0m \u001b[0mname\u001b[0m\u001b[1;33m\u001b[0m\u001b[1;33m\u001b[0m\u001b[0m\n",
      "\u001b[1;32mD:\\Anaconda\\lib\\site-packages\\pandas\\io\\parsers.py\u001b[0m in \u001b[0;36m_read\u001b[1;34m(filepath_or_buffer, kwds)\u001b[0m\n\u001b[0;32m    446\u001b[0m \u001b[1;33m\u001b[0m\u001b[0m\n\u001b[0;32m    447\u001b[0m     \u001b[1;31m# Create the parser.\u001b[0m\u001b[1;33m\u001b[0m\u001b[1;33m\u001b[0m\u001b[1;33m\u001b[0m\u001b[0m\n\u001b[1;32m--> 448\u001b[1;33m     \u001b[0mparser\u001b[0m \u001b[1;33m=\u001b[0m \u001b[0mTextFileReader\u001b[0m\u001b[1;33m(\u001b[0m\u001b[0mfp_or_buf\u001b[0m\u001b[1;33m,\u001b[0m \u001b[1;33m**\u001b[0m\u001b[0mkwds\u001b[0m\u001b[1;33m)\u001b[0m\u001b[1;33m\u001b[0m\u001b[1;33m\u001b[0m\u001b[0m\n\u001b[0m\u001b[0;32m    449\u001b[0m \u001b[1;33m\u001b[0m\u001b[0m\n\u001b[0;32m    450\u001b[0m     \u001b[1;32mif\u001b[0m \u001b[0mchunksize\u001b[0m \u001b[1;32mor\u001b[0m \u001b[0miterator\u001b[0m\u001b[1;33m:\u001b[0m\u001b[1;33m\u001b[0m\u001b[1;33m\u001b[0m\u001b[0m\n",
      "\u001b[1;32mD:\\Anaconda\\lib\\site-packages\\pandas\\io\\parsers.py\u001b[0m in \u001b[0;36m__init__\u001b[1;34m(self, f, engine, **kwds)\u001b[0m\n\u001b[0;32m    878\u001b[0m             \u001b[0mself\u001b[0m\u001b[1;33m.\u001b[0m\u001b[0moptions\u001b[0m\u001b[1;33m[\u001b[0m\u001b[1;34m\"has_index_names\"\u001b[0m\u001b[1;33m]\u001b[0m \u001b[1;33m=\u001b[0m \u001b[0mkwds\u001b[0m\u001b[1;33m[\u001b[0m\u001b[1;34m\"has_index_names\"\u001b[0m\u001b[1;33m]\u001b[0m\u001b[1;33m\u001b[0m\u001b[1;33m\u001b[0m\u001b[0m\n\u001b[0;32m    879\u001b[0m \u001b[1;33m\u001b[0m\u001b[0m\n\u001b[1;32m--> 880\u001b[1;33m         \u001b[0mself\u001b[0m\u001b[1;33m.\u001b[0m\u001b[0m_make_engine\u001b[0m\u001b[1;33m(\u001b[0m\u001b[0mself\u001b[0m\u001b[1;33m.\u001b[0m\u001b[0mengine\u001b[0m\u001b[1;33m)\u001b[0m\u001b[1;33m\u001b[0m\u001b[1;33m\u001b[0m\u001b[0m\n\u001b[0m\u001b[0;32m    881\u001b[0m \u001b[1;33m\u001b[0m\u001b[0m\n\u001b[0;32m    882\u001b[0m     \u001b[1;32mdef\u001b[0m \u001b[0mclose\u001b[0m\u001b[1;33m(\u001b[0m\u001b[0mself\u001b[0m\u001b[1;33m)\u001b[0m\u001b[1;33m:\u001b[0m\u001b[1;33m\u001b[0m\u001b[1;33m\u001b[0m\u001b[0m\n",
      "\u001b[1;32mD:\\Anaconda\\lib\\site-packages\\pandas\\io\\parsers.py\u001b[0m in \u001b[0;36m_make_engine\u001b[1;34m(self, engine)\u001b[0m\n\u001b[0;32m   1112\u001b[0m     \u001b[1;32mdef\u001b[0m \u001b[0m_make_engine\u001b[0m\u001b[1;33m(\u001b[0m\u001b[0mself\u001b[0m\u001b[1;33m,\u001b[0m \u001b[0mengine\u001b[0m\u001b[1;33m=\u001b[0m\u001b[1;34m\"c\"\u001b[0m\u001b[1;33m)\u001b[0m\u001b[1;33m:\u001b[0m\u001b[1;33m\u001b[0m\u001b[1;33m\u001b[0m\u001b[0m\n\u001b[0;32m   1113\u001b[0m         \u001b[1;32mif\u001b[0m \u001b[0mengine\u001b[0m \u001b[1;33m==\u001b[0m \u001b[1;34m\"c\"\u001b[0m\u001b[1;33m:\u001b[0m\u001b[1;33m\u001b[0m\u001b[1;33m\u001b[0m\u001b[0m\n\u001b[1;32m-> 1114\u001b[1;33m             \u001b[0mself\u001b[0m\u001b[1;33m.\u001b[0m\u001b[0m_engine\u001b[0m \u001b[1;33m=\u001b[0m \u001b[0mCParserWrapper\u001b[0m\u001b[1;33m(\u001b[0m\u001b[0mself\u001b[0m\u001b[1;33m.\u001b[0m\u001b[0mf\u001b[0m\u001b[1;33m,\u001b[0m \u001b[1;33m**\u001b[0m\u001b[0mself\u001b[0m\u001b[1;33m.\u001b[0m\u001b[0moptions\u001b[0m\u001b[1;33m)\u001b[0m\u001b[1;33m\u001b[0m\u001b[1;33m\u001b[0m\u001b[0m\n\u001b[0m\u001b[0;32m   1115\u001b[0m         \u001b[1;32melse\u001b[0m\u001b[1;33m:\u001b[0m\u001b[1;33m\u001b[0m\u001b[1;33m\u001b[0m\u001b[0m\n\u001b[0;32m   1116\u001b[0m             \u001b[1;32mif\u001b[0m \u001b[0mengine\u001b[0m \u001b[1;33m==\u001b[0m \u001b[1;34m\"python\"\u001b[0m\u001b[1;33m:\u001b[0m\u001b[1;33m\u001b[0m\u001b[1;33m\u001b[0m\u001b[0m\n",
      "\u001b[1;32mD:\\Anaconda\\lib\\site-packages\\pandas\\io\\parsers.py\u001b[0m in \u001b[0;36m__init__\u001b[1;34m(self, src, **kwds)\u001b[0m\n\u001b[0;32m   1889\u001b[0m         \u001b[0mkwds\u001b[0m\u001b[1;33m[\u001b[0m\u001b[1;34m\"usecols\"\u001b[0m\u001b[1;33m]\u001b[0m \u001b[1;33m=\u001b[0m \u001b[0mself\u001b[0m\u001b[1;33m.\u001b[0m\u001b[0musecols\u001b[0m\u001b[1;33m\u001b[0m\u001b[1;33m\u001b[0m\u001b[0m\n\u001b[0;32m   1890\u001b[0m \u001b[1;33m\u001b[0m\u001b[0m\n\u001b[1;32m-> 1891\u001b[1;33m         \u001b[0mself\u001b[0m\u001b[1;33m.\u001b[0m\u001b[0m_reader\u001b[0m \u001b[1;33m=\u001b[0m \u001b[0mparsers\u001b[0m\u001b[1;33m.\u001b[0m\u001b[0mTextReader\u001b[0m\u001b[1;33m(\u001b[0m\u001b[0msrc\u001b[0m\u001b[1;33m,\u001b[0m \u001b[1;33m**\u001b[0m\u001b[0mkwds\u001b[0m\u001b[1;33m)\u001b[0m\u001b[1;33m\u001b[0m\u001b[1;33m\u001b[0m\u001b[0m\n\u001b[0m\u001b[0;32m   1892\u001b[0m         \u001b[0mself\u001b[0m\u001b[1;33m.\u001b[0m\u001b[0munnamed_cols\u001b[0m \u001b[1;33m=\u001b[0m \u001b[0mself\u001b[0m\u001b[1;33m.\u001b[0m\u001b[0m_reader\u001b[0m\u001b[1;33m.\u001b[0m\u001b[0munnamed_cols\u001b[0m\u001b[1;33m\u001b[0m\u001b[1;33m\u001b[0m\u001b[0m\n\u001b[0;32m   1893\u001b[0m \u001b[1;33m\u001b[0m\u001b[0m\n",
      "\u001b[1;32mpandas\\_libs\\parsers.pyx\u001b[0m in \u001b[0;36mpandas._libs.parsers.TextReader.__cinit__\u001b[1;34m()\u001b[0m\n",
      "\u001b[1;32mpandas\\_libs\\parsers.pyx\u001b[0m in \u001b[0;36mpandas._libs.parsers.TextReader._setup_parser_source\u001b[1;34m()\u001b[0m\n",
      "\u001b[1;31mFileNotFoundError\u001b[0m: [Errno 2] File FB.csv does not exist: 'FB.csv'"
     ]
    }
   ],
   "source": [
    "import pandas as pd\n",
    "import statsmodels.api as sm\n",
    "\n",
    "'''\n",
    "Download monthly prices of Facebook and S&P 500 index from 2014 to 2017\n",
    "CSV file downloaded from Yahoo File\n",
    "start period: 02/11/2014 \n",
    "end period: 30/11/2014\n",
    "period format: DD/MM/YEAR\n",
    "'''\n",
    "fb = pd.read_csv('FB.csv', parse_dates=True, index_col='Date',)\n",
    "sp_500 = pd.read_csv('^GSPC.csv', parse_dates=True, index_col='Date')\n",
    "\n",
    "# joining the closing prices of the two datasets \n",
    "monthly_prices = pd.concat([fb['Close'], sp_500['Close']], axis=1)\n",
    "monthly_prices.columns = ['FB', '^GSPC']\n",
    "\n",
    "# check the head of the dataframe\n",
    "print(monthly_prices.head())\n",
    "\n",
    "# calculate monthly returns\n",
    "monthly_returns = monthly_prices.pct_change(1)\n",
    "clean_monthly_returns = monthly_returns.dropna(axis=0)  # drop first missing row\n",
    "print(clean_monthly_returns.head())"
   ]
  },
  {
   "cell_type": "code",
   "execution_count": 1,
   "metadata": {},
   "outputs": [
    {
     "ename": "NameError",
     "evalue": "name 'clean_monthly_returns' is not defined",
     "output_type": "error",
     "traceback": [
      "\u001b[1;31m---------------------------------------------------------------------------\u001b[0m",
      "\u001b[1;31mNameError\u001b[0m                                 Traceback (most recent call last)",
      "\u001b[1;32m<ipython-input-1-fccd60cbbcc6>\u001b[0m in \u001b[0;36m<module>\u001b[1;34m\u001b[0m\n\u001b[0;32m      1\u001b[0m \u001b[1;31m# split dependent and independent variable\u001b[0m\u001b[1;33m\u001b[0m\u001b[1;33m\u001b[0m\u001b[1;33m\u001b[0m\u001b[0m\n\u001b[1;32m----> 2\u001b[1;33m \u001b[0mX\u001b[0m \u001b[1;33m=\u001b[0m \u001b[0mclean_monthly_returns\u001b[0m\u001b[1;33m[\u001b[0m\u001b[1;34m'^GSPC'\u001b[0m\u001b[1;33m]\u001b[0m\u001b[1;33m\u001b[0m\u001b[1;33m\u001b[0m\u001b[0m\n\u001b[0m\u001b[0;32m      3\u001b[0m \u001b[0my\u001b[0m \u001b[1;33m=\u001b[0m \u001b[0mclean_monthly_returns\u001b[0m\u001b[1;33m[\u001b[0m\u001b[1;34m'FB'\u001b[0m\u001b[1;33m]\u001b[0m\u001b[1;33m\u001b[0m\u001b[1;33m\u001b[0m\u001b[0m\n\u001b[0;32m      4\u001b[0m \u001b[1;33m\u001b[0m\u001b[0m\n\u001b[0;32m      5\u001b[0m \u001b[1;31m# Add a constant to the independent value\u001b[0m\u001b[1;33m\u001b[0m\u001b[1;33m\u001b[0m\u001b[1;33m\u001b[0m\u001b[0m\n",
      "\u001b[1;31mNameError\u001b[0m: name 'clean_monthly_returns' is not defined"
     ]
    }
   ],
   "source": [
    "# split dependent and independent variable\n",
    "X = clean_monthly_returns['^GSPC']\n",
    "y = clean_monthly_returns['FB']\n",
    "\n",
    "# Add a constant to the independent value\n",
    "X1 = sm.add_constant(X)\n",
    "\n",
    "# make regression model \n",
    "model = sm.OLS(y, X1)\n",
    "\n",
    "# fit model and print results\n",
    "results = model.fit()\n",
    "print(results.summary())"
   ]
  },
  {
   "cell_type": "code",
   "execution_count": 2,
   "metadata": {},
   "outputs": [
    {
     "ename": "NameError",
     "evalue": "name 'X' is not defined",
     "output_type": "error",
     "traceback": [
      "\u001b[1;31m---------------------------------------------------------------------------\u001b[0m",
      "\u001b[1;31mNameError\u001b[0m                                 Traceback (most recent call last)",
      "\u001b[1;32m<ipython-input-2-584e7688a305>\u001b[0m in \u001b[0;36m<module>\u001b[1;34m\u001b[0m\n\u001b[0;32m      1\u001b[0m \u001b[1;31m# alternatively scipy linear regression\u001b[0m\u001b[1;33m\u001b[0m\u001b[1;33m\u001b[0m\u001b[1;33m\u001b[0m\u001b[0m\n\u001b[0;32m      2\u001b[0m \u001b[1;32mfrom\u001b[0m \u001b[0mscipy\u001b[0m \u001b[1;32mimport\u001b[0m \u001b[0mstats\u001b[0m\u001b[1;33m\u001b[0m\u001b[1;33m\u001b[0m\u001b[0m\n\u001b[1;32m----> 3\u001b[1;33m \u001b[0mslope\u001b[0m\u001b[1;33m,\u001b[0m \u001b[0mintercept\u001b[0m\u001b[1;33m,\u001b[0m \u001b[0mr_value\u001b[0m\u001b[1;33m,\u001b[0m \u001b[0mp_value\u001b[0m\u001b[1;33m,\u001b[0m \u001b[0mstd_err\u001b[0m \u001b[1;33m=\u001b[0m \u001b[0mstats\u001b[0m\u001b[1;33m.\u001b[0m\u001b[0mlinregress\u001b[0m\u001b[1;33m(\u001b[0m\u001b[0mX\u001b[0m\u001b[1;33m,\u001b[0m \u001b[0my\u001b[0m\u001b[1;33m)\u001b[0m\u001b[1;33m\u001b[0m\u001b[1;33m\u001b[0m\u001b[0m\n\u001b[0m\u001b[0;32m      4\u001b[0m \u001b[1;33m\u001b[0m\u001b[0m\n\u001b[0;32m      5\u001b[0m \u001b[0mprint\u001b[0m\u001b[1;33m(\u001b[0m\u001b[0mslope\u001b[0m\u001b[1;33m)\u001b[0m\u001b[1;33m\u001b[0m\u001b[1;33m\u001b[0m\u001b[0m\n",
      "\u001b[1;31mNameError\u001b[0m: name 'X' is not defined"
     ]
    }
   ],
   "source": [
    "# alternatively scipy linear regression\n",
    "from scipy import stats\n",
    "slope, intercept, r_value, p_value, std_err = stats.linregress(X, y)\n",
    "\n",
    "print(slope)"
   ]
  },
  {
   "cell_type": "code",
   "execution_count": 58,
   "metadata": {},
   "outputs": [
    {
     "name": "stdout",
     "output_type": "stream",
     "text": [
      "Dictionary(37 unique tokens: ['abc', 'applications', 'computer', 'human', 'interface']...)\n",
      "{'abc': 0, 'applications': 1, 'computer': 2, 'human': 3, 'interface': 4, 'lab': 5, 'machine': 6, 'opinion': 7, 'response': 8, 'survey': 9, 'system': 10, 'time': 11, 'user': 12, 'eps': 13, 'management': 14, 'engineering': 15, 'testing': 16, 'codist': 17, 'error': 18, 'measurement': 19, 'perceived': 20, 'relation': 21, 'test': 22, 'binary': 23, 'generation': 24, 'random': 25, 'trees': 26, 'unordered': 27, 'graph': 28, 'intersection': 29, 'paths': 30, 'iv': 31, 'minors': 32, 'ordering': 33, 'quasi': 34, 'well': 35, 'widths': 36}\n",
      "[[(0, 1), (1, 1), (2, 1), (3, 1), (4, 1), (5, 1), (6, 1)], [(2, 1), (7, 1), (8, 1), (9, 1), (10, 1), (11, 1), (12, 1)], [(4, 1), (10, 1), (12, 1), (13, 1), (14, 1)], [(3, 1), (10, 2), (13, 1), (15, 1), (16, 1)], [(8, 1), (11, 1), (12, 1), (17, 1), (18, 1), (19, 1), (20, 1), (21, 1), (22, 1)], [(23, 1), (24, 1), (25, 1), (26, 1), (27, 1)], [(26, 1), (28, 1), (29, 1), (30, 1)], [(17, 1), (22, 1), (26, 1), (28, 1), (31, 1), (32, 1), (33, 1), (34, 1), (35, 1), (36, 1)], [(9, 1), (17, 1), (22, 1), (28, 1), (32, 1)]]\n",
      "{'the': 2, 'quick': 1, 'brown': 1, 'fox': 1, 'jumps': 1, 'over': 1, 'lazy': 1, 'dog.': 1}\n",
      "2\n",
      "57\n",
      "34\n",
      "67\n",
      "73\n",
      "2\n"
     ]
    }
   ],
   "source": [
    "# PMI tests\n",
    "from gensim import corpora\n",
    "\n",
    "def word_count(str):\n",
    "    counts = dict()\n",
    "    words = str.split()\n",
    "    for word in words:\n",
    "        if word in counts:\n",
    "            counts[word] += 1\n",
    "        else:\n",
    "            counts[word] = 1\n",
    "    return counts\n",
    "\n",
    "def pmi(cwi, cwj, cco, ctot, eps=0.01):\n",
    "    '''pointwise mutual information e.g. math.log((1159/(50000952)) / (1938/50000952) / (1311/50000952))'''\n",
    "    return math.log((cco/ctot + eps ) / (cwi/ctot) / (cwj/ctot))\n",
    "\n",
    "def npmi(cwi, cwj, cco, ctot, gamma=1.0, eps=0.01):\n",
    "    '''normalized pointwise mutual information'''\n",
    "    return (- pmi(cwi, cwj, cco, ctot, eps) / math.log((cco/ctot + eps ))) ** gamma\n",
    "\n",
    "def ctw(wi, wdict):\n",
    "    '''count word wi in corpus'''\n",
    "    return wdict.cfs[wdict.token2id[wi]]\n",
    "\n",
    "def totw(wdict):\n",
    "    '''total number of words'''\n",
    "    return wdict.num_nnz # sum of the number of unique words per document over the entire corpus (non-0 BOW elements)\n",
    "\n",
    "def ctcoww(wi, wj, text, nwdst=1): # assumes one contiguous text (need to condense docs first)\n",
    "    '''co-occurance of words wi and wj up to distance nwdst (w/o w2v)'''\n",
    "    txtl = text.split()\n",
    "    widx = 0\n",
    "    coct = 0\n",
    "    while widx < len(txtl):\n",
    "        try:\n",
    "            widx = txtl.index(wi, widx)\n",
    "        except ValueError:\n",
    "            break\n",
    "        try:\n",
    "            wjdx = txtl.index(wj, max(widx - nwdst - 1, 0), min(widx + nwdst + 1, len(txtl)))\n",
    "            widx += 1\n",
    "        except ValueError:\n",
    "            widx += 1\n",
    "            continue\n",
    "        coct += 1\n",
    "    return coct # TODO: return all co-occurances up to given distance\n",
    "\n",
    "documents = [\n",
    "    \"Human machine interface for lab abc computer applications\",\n",
    "    \"A survey of user opinion of computer system response time\",\n",
    "    \"The EPS user interface management system\",\n",
    "    \"System and human system engineering testing of EPS\",\n",
    "    \"Relation of codist user perceived test response time to error measurement\",\n",
    "    \"The generation of random binary unordered trees\",\n",
    "    \"The intersection graph of paths in trees\",\n",
    "    \"Graph minors IV Widths of trees and well quasi ordering codist test\",\n",
    "    \"Graph minors A survey codist test\",\n",
    "]\n",
    "\n",
    "stoplist = set('for a of the and to in'.split())\n",
    "\n",
    "texts = [\n",
    "    [word for word in document.lower().split() if word not in stoplist]\n",
    "    for document in documents\n",
    "]\n",
    "\n",
    "dictionary = corpora.Dictionary(texts)\n",
    "#dictionary.save('/tmp/deerwester.dict')  # store the dictionary, for future reference\n",
    "print(dictionary)\n",
    "print(dictionary.token2id)\n",
    "\n",
    "corpus = [dictionary.doc2bow(text) for text in texts]\n",
    "#corpora.MmCorpus.serialize('/tmp/deerwester.mm', corpus)  # store to disk, for later use\n",
    "print(corpus) # (0, 1) = (id 0, appears once)\n",
    "\n",
    "print( word_count('the quick brown fox jumps over the lazy dog.'))\n",
    "\n",
    "print(ctw('minors', dictionary))\n",
    "print(totw(dictionary))\n",
    "print(ctcoww('codist', 'test', ' '.join(documents)))"
   ]
  },
  {
   "cell_type": "code",
   "execution_count": 60,
   "metadata": {},
   "outputs": [
    {
     "data": {
      "text/plain": [
       "151.20000000000002"
      ]
     },
     "execution_count": 60,
     "metadata": {},
     "output_type": "execute_result"
    }
   ],
   "source": [
    "12*7*1.8"
   ]
  },
  {
   "cell_type": "code",
   "execution_count": null,
   "metadata": {},
   "outputs": [],
   "source": []
  }
 ],
 "metadata": {
  "kernelspec": {
   "display_name": "Python 3",
   "language": "python",
   "name": "python3"
  },
  "language_info": {
   "codemirror_mode": {
    "name": "ipython",
    "version": 3
   },
   "file_extension": ".py",
   "mimetype": "text/x-python",
   "name": "python",
   "nbconvert_exporter": "python",
   "pygments_lexer": "ipython3",
   "version": "3.6.10"
  }
 },
 "nbformat": 4,
 "nbformat_minor": 4
}
