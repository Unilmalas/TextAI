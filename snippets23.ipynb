{
 "cells": [
  {
   "cell_type": "code",
   "execution_count": 1,
   "metadata": {},
   "outputs": [
    {
     "name": "stdout",
     "output_type": "stream",
     "text": [
      "[[-4.  7.  6.]]\n",
      "[[-0.9993293   0.99999834  0.99998771]]\n",
      "[[0.06341918 0.4682929  0.46828792]]\n",
      "5.834101113919731\n"
     ]
    }
   ],
   "source": [
    "# attention test 0\n",
    "import numpy as np\n",
    "\n",
    "def softmax(e):\n",
    "    '''softmax'''\n",
    "    return np.exp(e) / np.sum(np.exp(e))\n",
    "\n",
    "def algnmt(h, w):\n",
    "    '''alignment function'''\n",
    "    return np.tanh(np.dot(w, h))\n",
    "\n",
    "W = np.random.rand(1, 4) # dense layer weights - the only trainable portion of the attention layer\n",
    "W = np.ones_like(W)\n",
    "#hj = np.random.rand(4, 3)\n",
    "hj = np.array([[-1, -2, 3],\n",
    "               [-1, -2, -3],\n",
    "               [-1, 2, 3],\n",
    "               [-1, 9, 3]])\n",
    "\n",
    "print(np.dot(W, hj))\n",
    "\n",
    "ej = algnmt(hj, W) # scalar alignment score for each h via dense layer (tanh), between -1 and 1, weights trained\n",
    "alpha = softmax(ej) # alpha vector from the softmax ej (between 0 and 1)\n",
    "\n",
    "print(ej)\n",
    "print(alpha)\n",
    "\n",
    "c = np.sum(np.dot(alpha, hj.T)) # weigh h with alphas\n",
    "print(c)"
   ]
  },
  {
   "cell_type": "code",
   "execution_count": 2,
   "metadata": {},
   "outputs": [
    {
     "name": "stdout",
     "output_type": "stream",
     "text": [
      "dense:  [[-4.  0.  2.]]\n",
      "alignment ej:  [[-0.9993293   0.          0.96402758]]\n",
      "attention alpha:  [[0.09225383 0.25060378 0.65714238]]\n",
      "context vector (attention weight) c:  0.9452694364855279\n"
     ]
    }
   ],
   "source": [
    "# attention test 1\n",
    "import numpy as np\n",
    "\n",
    "# how does compatibility score change with global-local feature alignment?\n",
    "\n",
    "def softmax(e):\n",
    "    '''softmax'''\n",
    "    return np.exp(e) / np.sum(np.exp(e))\n",
    "\n",
    "def algnmt(h, w):\n",
    "    '''alignment function'''\n",
    "    return np.tanh(np.dot(w, h))\n",
    "\n",
    "W = np.random.rand(1, 4) # dense layer weights - the only trainable portion of the attention layer\n",
    "W = np.ones_like(W)\n",
    "#hj = np.random.rand(4, 3)\n",
    "hj = np.array([[-1, -1, 1],\n",
    "               [-1, -1, -1],\n",
    "               [-1, 1, 1],\n",
    "               [-1, 1, 1]])\n",
    "\n",
    "print('dense: ', np.dot(W, hj))\n",
    "\n",
    "ej = algnmt(hj, W) # scalar alignment score for each h via dense layer (tanh), between -1 and 1, weights trained\n",
    "alpha = softmax(ej) # alpha vector from the softmax ej (between 0 and 1)\n",
    "\n",
    "print('alignment ej: ', ej)\n",
    "print('attention alpha: ', alpha)\n",
    "\n",
    "c = np.sum(np.dot(alpha, hj.T)) # weigh h with alphas\n",
    "print('context vector (attention weight) c: ', c)\n",
    "\n",
    "# todo: dim analysis: whats the lookback-dimension? check!\n"
   ]
  },
  {
   "cell_type": "code",
   "execution_count": 3,
   "metadata": {},
   "outputs": [
    {
     "name": "stdout",
     "output_type": "stream",
     "text": [
      "36\n"
     ]
    }
   ],
   "source": [
    "# lowest common multiple\n",
    "\n",
    "def lcm(n, m):\n",
    "    '''least common multiple w/o gcd'''\n",
    "    if n == 0 or m == 0:\n",
    "        return 0\n",
    "    for nm in range(n, n*m, n):\n",
    "        if nm % m == 0:\n",
    "            return nm\n",
    "    return n*m\n",
    "\n",
    "def gcd(a,b):\n",
    "    '''gcd iteratively'''\n",
    "    while b:\n",
    "        a, b = b, a % b\n",
    "    return abs(a)\n",
    "\n",
    "def main():\n",
    "    print(lcm(12, 18))\n",
    "\n",
    "if __name__ == '__main__':\n",
    "    main()"
   ]
  },
  {
   "cell_type": "code",
   "execution_count": 63,
   "metadata": {},
   "outputs": [
    {
     "data": {
      "image/png": "[encoded data removed]",
      "text/plain": [
       "<Figure size 432x288 with 1 Axes>"
      ]
     },
     "metadata": {
      "needs_background": "light"
     },
     "output_type": "display_data"
    }
   ],
   "source": [
    "import matplotlib.pyplot as plt\n",
    "import numpy as np\n",
    "\n",
    "def drawsmpl(prbs):\n",
    "    return np.random.choice(len(prbs), 1, p=prbs)[0]\n",
    "\n",
    "def main():\n",
    "    #print(drawsmpl([0.64, 0.32, 0.04]))\n",
    "    #x = np.random.normal(size = 1000)\n",
    "    #x = np.random.binomial(1, p = 0.64, size = 100)\n",
    "    x = np.array([0, 0, 0])\n",
    "    for i in range(1000):\n",
    "        x[drawsmpl([0.64, 0.32, 0.04])] += 1\n",
    "    plt.hist(x, cumulative = True)\n",
    "    plt.ylabel('Probability')\n",
    "\n",
    "if __name__ == '__main__':\n",
    "    main()"
   ]
  },
  {
   "cell_type": "code",
   "execution_count": 9,
   "metadata": {},
   "outputs": [
    {
     "name": "stdout",
     "output_type": "stream",
     "text": [
      "a and b: 0\n",
      "a or b: 13\n",
      "a xor b: 13\n",
      "not a: -6\n",
      "a << b: 1280\n",
      "a >> b: 0\n",
      "None\n"
     ]
    }
   ],
   "source": [
    "# bitwise\n",
    "import math\n",
    "\n",
    "def bitwise(a, b):\n",
    "        print('a and b:', a & b)\n",
    "        print('a or b:', a | b)\n",
    "        print('a xor b:', a ^ b)\n",
    "        print('not a:', ~a)\n",
    "        print('a << b:', a << b) # left shift\n",
    "        print('a >> b:', a >> b) # arithmetic right shift\n",
    "\n",
    "def main():\n",
    "    print(bitwise(5, 8))\n",
    "\n",
    "if __name__ == '__main__':\n",
    "    main()"
   ]
  },
  {
   "cell_type": "code",
   "execution_count": 11,
   "metadata": {},
   "outputs": [
    {
     "name": "stdout",
     "output_type": "stream",
     "text": [
      "125\n"
     ]
    }
   ],
   "source": [
    "# Ackermann function\n",
    "\n",
    "def ackerm(m, n):\n",
    "    if m == 0:\n",
    "        return n + 1\n",
    "    elif m > 0 and n == 0:\n",
    "        return ackerm(m-1, 1)\n",
    "    elif m > 0 and n > 0:\n",
    "        return ackerm(m-1, ackerm(m, n-1))\n",
    "    return 0\n",
    "\n",
    "def main():\n",
    "    print(ackerm(3, 4))\n",
    "\n",
    "if __name__ == '__main__':\n",
    "    main()"
   ]
  },
  {
   "cell_type": "code",
   "execution_count": 39,
   "metadata": {},
   "outputs": [
    {
     "data": {
      "image/png": "[encoded data removed]",
      "text/plain": [
       "<Figure size 432x288 with 2 Axes>"
      ]
     },
     "metadata": {
      "needs_background": "light"
     },
     "output_type": "display_data"
    }
   ],
   "source": [
    "import numpy as np\n",
    "import matplotlib.pyplot as plt\n",
    "import matplotlib.cm as cm\n",
    "\n",
    "# Make an array with ones in the shape of an 'X'\n",
    "#a = np.eye(10,1)\n",
    "a = np.random.random((5,1))\n",
    "a += a[::-1,:]\n",
    "\n",
    "fig = plt.figure()\n",
    "ax1 = fig.add_subplot(121)\n",
    "# Bilinear interpolation - this will look blurry\n",
    "ax1.imshow(a, interpolation='bilinear', cmap=cm.Greys_r)\n",
    "\n",
    "plt.axis('off')\n",
    "\n",
    "ax2 = fig.add_subplot(122)\n",
    "# 'nearest' interpolation - faithful but blocky\n",
    "ax2.imshow(a, interpolation='nearest', cmap=cm.Greys_r)\n",
    "\n",
    "plt.axis('off')\n",
    "\n",
    "plt.show()"
   ]
  },
  {
   "cell_type": "code",
   "execution_count": 26,
   "metadata": {},
   "outputs": [
    {
     "data": {
      "text/plain": [
       "(-0.5, 0.5, 4.5, -0.5)"
      ]
     },
     "execution_count": 26,
     "metadata": {},
     "output_type": "execute_result"
    },
    {
     "data": {
      "image/png": "[encoded data removed]",
      "text/plain": [
       "<Figure size 432x288 with 1 Axes>"
      ]
     },
     "metadata": {
      "needs_background": "light"
     },
     "output_type": "display_data"
    }
   ],
   "source": [
    "from numpy import random\n",
    "import matplotlib.pyplot as plt\n",
    "\n",
    "data = random.random((5,1))\n",
    "img = plt.imshow(data, interpolation='nearest')\n",
    "img.set_cmap('hot')\n",
    "plt.axis('off')\n",
    "#plt.savefig(\"test.png\", bbox_inches='tight')"
   ]
  },
  {
   "cell_type": "code",
   "execution_count": 42,
   "metadata": {},
   "outputs": [
    {
     "data": {
      "text/plain": [
       "[]"
      ]
     },
     "execution_count": 42,
     "metadata": {},
     "output_type": "execute_result"
    },
    {
     "data": {
      "image/png": "[encoded data removed]",
      "text/plain": [
       "<Figure size 432x288 with 1 Axes>"
      ]
     },
     "metadata": {},
     "output_type": "display_data"
    }
   ],
   "source": [
    "import numpy as np\n",
    "import matplotlib.pylab as pl\n",
    "\n",
    "nx = 4\n",
    "ny = 5\n",
    "data = np.random.randint(0,10,size=(ny,nx))\n",
    "\n",
    "pl.figure()\n",
    "tb = pl.table(cellText=data, loc=(0,0), cellLoc='center')\n",
    "\n",
    "tc = tb.properties()['child_artists']\n",
    "for cell in tc: \n",
    "    cell.set_height(1/ny)\n",
    "    cell.set_width(1/nx)\n",
    "\n",
    "ax = pl.gca()\n",
    "ax.set_xticks([])\n",
    "ax.set_yticks([])"
   ]
  },
  {
   "cell_type": "code",
   "execution_count": 43,
   "metadata": {},
   "outputs": [
    {
     "data": {
      "image/png": "[encoded data removed]",
      "text/plain": [
       "<Figure size 432x288 with 1 Axes>"
      ]
     },
     "metadata": {
      "needs_background": "light"
     },
     "output_type": "display_data"
    }
   ],
   "source": [
    "from matplotlib import pyplot as plt\n",
    "A = np.matrix(np.random.rand(4,2))\n",
    "\n",
    "#scatter plot x - column 0, y - column 1, shown with marker o\n",
    "plt.plot(A[:, 0], A[:, 1], 'o', label = 'data')\n",
    "#create legend in case you have more than one series\n",
    "plt.legend()\n",
    "plt.show()"
   ]
  },
  {
   "cell_type": "code",
   "execution_count": 46,
   "metadata": {},
   "outputs": [
    {
     "data": {
      "image/png": "[encoded data removed]",
      "text/plain": [
       "<Figure size 432x288 with 1 Axes>"
      ]
     },
     "metadata": {
      "needs_background": "light"
     },
     "output_type": "display_data"
    }
   ],
   "source": [
    "import numpy as np\n",
    "import matplotlib.pyplot as plt\n",
    "\n",
    "fig, ax = plt.subplots()\n",
    "\n",
    "min_val, max_val = 0, 15\n",
    "\n",
    "intersection_matrix = np.random.randint(0, 10, size=(max_val, max_val))\n",
    "\n",
    "plt.axis('off')\n",
    "\n",
    "ax.matshow(intersection_matrix, cmap=plt.cm.Blues)\n",
    "\n",
    "for i in range(15):\n",
    "    for j in range(15):\n",
    "        c = intersection_matrix[j,i]\n",
    "        ax.text(i, j, str(c), va='center', ha='center')"
   ]
  },
  {
   "cell_type": "code",
   "execution_count": 52,
   "metadata": {},
   "outputs": [
    {
     "name": "stdout",
     "output_type": "stream",
     "text": [
      "3\n",
      "3.0\n",
      "2\n",
      "2.0\n",
      "2\n"
     ]
    }
   ],
   "source": [
    "# Hamming & Levensthein distances (number of edits to convert s1 into s2)\n",
    "import numpy as np\n",
    "\n",
    "def hamming_distance(s1, s2) -> int:\n",
    "    \"\"\"Return the Hamming distance between equal-length sequences.\"\"\"\n",
    "    if len(s1) != len(s2):\n",
    "        raise ValueError(\"Undefined for sequences of unequal length.\")\n",
    "    return sum(el1 != el2 for el1, el2 in zip(s1, s2))\n",
    "\n",
    "def levenshtein(seq1, seq2):\n",
    "    size_x = len(seq1) + 1\n",
    "    size_y = len(seq2) + 1\n",
    "    matrix = np.zeros ((size_x, size_y))\n",
    "    for x in range(size_x):\n",
    "        matrix [x, 0] = x\n",
    "    for y in range(size_y):\n",
    "        matrix [0, y] = y\n",
    "\n",
    "    for x in range(1, size_x):\n",
    "        for y in range(1, size_y):\n",
    "            if seq1[x-1] == seq2[y-1]:\n",
    "                matrix [x,y] = min(\n",
    "                    matrix[x-1, y] + 1,\n",
    "                    matrix[x-1, y-1],\n",
    "                    matrix[x, y-1] + 1\n",
    "                )\n",
    "            else:\n",
    "                matrix [x,y] = min(\n",
    "                    matrix[x-1,y] + 1,\n",
    "                    matrix[x-1,y-1] + 1,\n",
    "                    matrix[x,y-1] + 1\n",
    "                )\n",
    "    #print (matrix)\n",
    "    return (matrix[size_x - 1, size_y - 1])\n",
    "\n",
    "print(hamming_distance('karolin', 'kathrin'))\n",
    "print(levenshtein('karolin', 'kathrin'))\n",
    "print(hamming_distance('10111', '10010'))\n",
    "print(levenshtein('10111', '10010'))\n",
    "print(np.dot([1,0,1,1,1], [1,0,0,1,0]))"
   ]
  },
  {
   "cell_type": "code",
   "execution_count": null,
   "metadata": {},
   "outputs": [],
   "source": []
  }
 ],
 "metadata": {
  "kernelspec": {
   "display_name": "Python 3",
   "language": "python",
   "name": "python3"
  },
  "language_info": {
   "codemirror_mode": {
    "name": "ipython",
    "version": 3
   },
   "file_extension": ".py",
   "mimetype": "text/x-python",
   "name": "python",
   "nbconvert_exporter": "python",
   "pygments_lexer": "ipython3",
   "version": "3.6.8"
  }
 },
 "nbformat": 4,
 "nbformat_minor": 2
}
