{
 "cells": [
  {
   "cell_type": "code",
   "execution_count": 1,
   "metadata": {},
   "outputs": [
    {
     "name": "stdout",
     "output_type": "stream",
     "text": [
      "[[-4.  7.  6.]]\n",
      "[[-0.9993293   0.99999834  0.99998771]]\n",
      "[[0.06341918 0.4682929  0.46828792]]\n",
      "5.834101113919731\n"
     ]
    }
   ],
   "source": [
    "# attention test 0\n",
    "import numpy as np\n",
    "\n",
    "def softmax(e):\n",
    "    '''softmax'''\n",
    "    return np.exp(e) / np.sum(np.exp(e))\n",
    "\n",
    "def algnmt(h, w):\n",
    "    '''alignment function'''\n",
    "    return np.tanh(np.dot(w, h))\n",
    "\n",
    "W = np.random.rand(1, 4) # dense layer weights - the only trainable portion of the attention layer\n",
    "W = np.ones_like(W)\n",
    "#hj = np.random.rand(4, 3)\n",
    "hj = np.array([[-1, -2, 3],\n",
    "               [-1, -2, -3],\n",
    "               [-1, 2, 3],\n",
    "               [-1, 9, 3]])\n",
    "\n",
    "print(np.dot(W, hj))\n",
    "\n",
    "ej = algnmt(hj, W) # scalar alignment score for each h via dense layer (tanh), between -1 and 1, weights trained\n",
    "alpha = softmax(ej) # alpha vector from the softmax ej (between 0 and 1)\n",
    "\n",
    "print(ej)\n",
    "print(alpha)\n",
    "\n",
    "c = np.sum(np.dot(alpha, hj.T)) # weigh h with alphas\n",
    "print(c)"
   ]
  },
  {
   "cell_type": "code",
   "execution_count": 2,
   "metadata": {},
   "outputs": [
    {
     "name": "stdout",
     "output_type": "stream",
     "text": [
      "dense:  [[-4.  0.  2.]]\n",
      "alignment ej:  [[-0.9993293   0.          0.96402758]]\n",
      "attention alpha:  [[0.09225383 0.25060378 0.65714238]]\n",
      "context vector (attention weight) c:  0.9452694364855279\n"
     ]
    }
   ],
   "source": [
    "# attention test 1\n",
    "import numpy as np\n",
    "\n",
    "# how does compatibility score change with global-local feature alignment?\n",
    "\n",
    "def softmax(e):\n",
    "    '''softmax'''\n",
    "    return np.exp(e) / np.sum(np.exp(e))\n",
    "\n",
    "def algnmt(h, w):\n",
    "    '''alignment function'''\n",
    "    return np.tanh(np.dot(w, h))\n",
    "\n",
    "W = np.random.rand(1, 4) # dense layer weights - the only trainable portion of the attention layer\n",
    "W = np.ones_like(W)\n",
    "#hj = np.random.rand(4, 3)\n",
    "hj = np.array([[-1, -1, 1],\n",
    "               [-1, -1, -1],\n",
    "               [-1, 1, 1],\n",
    "               [-1, 1, 1]])\n",
    "\n",
    "print('dense: ', np.dot(W, hj))\n",
    "\n",
    "ej = algnmt(hj, W) # scalar alignment score for each h via dense layer (tanh), between -1 and 1, weights trained\n",
    "alpha = softmax(ej) # alpha vector from the softmax ej (between 0 and 1)\n",
    "\n",
    "print('alignment ej: ', ej)\n",
    "print('attention alpha: ', alpha)\n",
    "\n",
    "c = np.sum(np.dot(alpha, hj.T)) # weigh h with alphas\n",
    "print('context vector (attention weight) c: ', c)\n",
    "\n",
    "# todo: dim analysis: whats the lookback-dimension? check!\n"
   ]
  },
  {
   "cell_type": "code",
   "execution_count": 3,
   "metadata": {},
   "outputs": [
    {
     "name": "stdout",
     "output_type": "stream",
     "text": [
      "36\n"
     ]
    }
   ],
   "source": [
    "# lowest common multiple\n",
    "\n",
    "def lcm(n, m):\n",
    "    '''least common multiple w/o gcd'''\n",
    "    if n == 0 or m == 0:\n",
    "        return 0\n",
    "    for nm in range(n, n*m, n):\n",
    "        if nm % m == 0:\n",
    "            return nm\n",
    "    return n*m\n",
    "\n",
    "def gcd(a,b):\n",
    "    '''gcd iteratively'''\n",
    "    while b:\n",
    "        a, b = b, a % b\n",
    "    return abs(a)\n",
    "\n",
    "def main():\n",
    "    print(lcm(12, 18))\n",
    "\n",
    "if __name__ == '__main__':\n",
    "    main()"
   ]
  },
  {
   "cell_type": "code",
   "execution_count": 63,
   "metadata": {},
   "outputs": [
    {
     "data": {
      "image/png": "[encoded data removed]",
      "text/plain": [
       "<Figure size 432x288 with 1 Axes>"
      ]
     },
     "metadata": {
      "needs_background": "light"
     },
     "output_type": "display_data"
    }
   ],
   "source": [
    "import matplotlib.pyplot as plt\n",
    "import numpy as np\n",
    "\n",
    "def drawsmpl(prbs):\n",
    "    return np.random.choice(len(prbs), 1, p=prbs)[0]\n",
    "\n",
    "def main():\n",
    "    #print(drawsmpl([0.64, 0.32, 0.04]))\n",
    "    #x = np.random.normal(size = 1000)\n",
    "    #x = np.random.binomial(1, p = 0.64, size = 100)\n",
    "    x = np.array([0, 0, 0])\n",
    "    for i in range(1000):\n",
    "        x[drawsmpl([0.64, 0.32, 0.04])] += 1\n",
    "    plt.hist(x, cumulative = True)\n",
    "    plt.ylabel('Probability')\n",
    "\n",
    "if __name__ == '__main__':\n",
    "    main()"
   ]
  },
  {
   "cell_type": "code",
   "execution_count": 9,
   "metadata": {},
   "outputs": [
    {
     "name": "stdout",
     "output_type": "stream",
     "text": [
      "a and b: 0\n",
      "a or b: 13\n",
      "a xor b: 13\n",
      "not a: -6\n",
      "a << b: 1280\n",
      "a >> b: 0\n",
      "None\n"
     ]
    }
   ],
   "source": [
    "# bitwise\n",
    "import math\n",
    "\n",
    "def bitwise(a, b):\n",
    "        print('a and b:', a & b)\n",
    "        print('a or b:', a | b)\n",
    "        print('a xor b:', a ^ b)\n",
    "        print('not a:', ~a)\n",
    "        print('a << b:', a << b) # left shift\n",
    "        print('a >> b:', a >> b) # arithmetic right shift\n",
    "\n",
    "def main():\n",
    "    print(bitwise(5, 8))\n",
    "\n",
    "if __name__ == '__main__':\n",
    "    main()"
   ]
  },
  {
   "cell_type": "code",
   "execution_count": 11,
   "metadata": {},
   "outputs": [
    {
     "name": "stdout",
     "output_type": "stream",
     "text": [
      "125\n"
     ]
    }
   ],
   "source": [
    "# Ackermann function\n",
    "\n",
    "def ackerm(m, n):\n",
    "    if m == 0:\n",
    "        return n + 1\n",
    "    elif m > 0 and n == 0:\n",
    "        return ackerm(m-1, 1)\n",
    "    elif m > 0 and n > 0:\n",
    "        return ackerm(m-1, ackerm(m, n-1))\n",
    "    return 0\n",
    "\n",
    "def main():\n",
    "    print(ackerm(3, 4))\n",
    "\n",
    "if __name__ == '__main__':\n",
    "    main()"
   ]
  },
  {
   "cell_type": "code",
   "execution_count": 39,
   "metadata": {},
   "outputs": [
    {
     "data": {
      "image/png": "[encoded data removed]",
      "text/plain": [
       "<Figure size 432x288 with 2 Axes>"
      ]
     },
     "metadata": {
      "needs_background": "light"
     },
     "output_type": "display_data"
    }
   ],
   "source": [
    "import numpy as np\n",
    "import matplotlib.pyplot as plt\n",
    "import matplotlib.cm as cm\n",
    "\n",
    "# Make an array with ones in the shape of an 'X'\n",
    "#a = np.eye(10,1)\n",
    "a = np.random.random((5,1))\n",
    "a += a[::-1,:]\n",
    "\n",
    "fig = plt.figure()\n",
    "ax1 = fig.add_subplot(121)\n",
    "# Bilinear interpolation - this will look blurry\n",
    "ax1.imshow(a, interpolation='bilinear', cmap=cm.Greys_r)\n",
    "\n",
    "plt.axis('off')\n",
    "\n",
    "ax2 = fig.add_subplot(122)\n",
    "# 'nearest' interpolation - faithful but blocky\n",
    "ax2.imshow(a, interpolation='nearest', cmap=cm.Greys_r)\n",
    "\n",
    "plt.axis('off')\n",
    "\n",
    "plt.show()"
   ]
  },
  {
   "cell_type": "code",
   "execution_count": 26,
   "metadata": {},
   "outputs": [
    {
     "data": {
      "text/plain": [
       "(-0.5, 0.5, 4.5, -0.5)"
      ]
     },
     "execution_count": 26,
     "metadata": {},
     "output_type": "execute_result"
    },
    {
     "data": {
      "image/png": "[encoded data removed]",
      "text/plain": [
       "<Figure size 432x288 with 1 Axes>"
      ]
     },
     "metadata": {
      "needs_background": "light"
     },
     "output_type": "display_data"
    }
   ],
   "source": [
    "from numpy import random\n",
    "import matplotlib.pyplot as plt\n",
    "\n",
    "data = random.random((5,1))\n",
    "img = plt.imshow(data, interpolation='nearest')\n",
    "img.set_cmap('hot')\n",
    "plt.axis('off')\n",
    "#plt.savefig(\"test.png\", bbox_inches='tight')"
   ]
  },
  {
   "cell_type": "code",
   "execution_count": 42,
   "metadata": {},
   "outputs": [
    {
     "data": {
      "text/plain": [
       "[]"
      ]
     },
     "execution_count": 42,
     "metadata": {},
     "output_type": "execute_result"
    },
    {
     "data": {
      "image/png": "[encoded data removed]",
      "text/plain": [
       "<Figure size 432x288 with 1 Axes>"
      ]
     },
     "metadata": {},
     "output_type": "display_data"
    }
   ],
   "source": [
    "import numpy as np\n",
    "import matplotlib.pylab as pl\n",
    "\n",
    "nx = 4\n",
    "ny = 5\n",
    "data = np.random.randint(0,10,size=(ny,nx))\n",
    "\n",
    "pl.figure()\n",
    "tb = pl.table(cellText=data, loc=(0,0), cellLoc='center')\n",
    "\n",
    "tc = tb.properties()['child_artists']\n",
    "for cell in tc: \n",
    "    cell.set_height(1/ny)\n",
    "    cell.set_width(1/nx)\n",
    "\n",
    "ax = pl.gca()\n",
    "ax.set_xticks([])\n",
    "ax.set_yticks([])"
   ]
  },
  {
   "cell_type": "code",
   "execution_count": 43,
   "metadata": {},
   "outputs": [
    {
     "data": {
      "image/png": "[encoded data removed]",
      "text/plain": [
       "<Figure size 432x288 with 1 Axes>"
      ]
     },
     "metadata": {
      "needs_background": "light"
     },
     "output_type": "display_data"
    }
   ],
   "source": [
    "from matplotlib import pyplot as plt\n",
    "A = np.matrix(np.random.rand(4,2))\n",
    "\n",
    "#scatter plot x - column 0, y - column 1, shown with marker o\n",
    "plt.plot(A[:, 0], A[:, 1], 'o', label = 'data')\n",
    "#create legend in case you have more than one series\n",
    "plt.legend()\n",
    "plt.show()"
   ]
  },
  {
   "cell_type": "code",
   "execution_count": 2,
   "metadata": {},
   "outputs": [
    {
     "data": {
      "image/png": "[encoded data removed]",
      "text/plain": [
       "<Figure size 432x288 with 1 Axes>"
      ]
     },
     "metadata": {
      "needs_background": "light"
     },
     "output_type": "display_data"
    }
   ],
   "source": [
    "import numpy as np\n",
    "import matplotlib.pyplot as plt\n",
    "\n",
    "fig, ax = plt.subplots()\n",
    "\n",
    "min_val, max_val = 0, 15\n",
    "\n",
    "intersection_matrix = np.random.randint(0, 10, size=(max_val, max_val))\n",
    "\n",
    "plt.axis('off')\n",
    "\n",
    "ax.matshow(intersection_matrix, cmap=plt.cm.Blues)\n",
    "\n",
    "for i in range(15):\n",
    "    for j in range(15):\n",
    "        c = intersection_matrix[j,i]\n",
    "        ax.text(i, j, str(c), va='center', ha='center')"
   ]
  },
  {
   "cell_type": "code",
   "execution_count": 53,
   "metadata": {},
   "outputs": [
    {
     "data": {
      "image/png": "[encoded data removed]",
      "text/plain": [
       "<Figure size 432x288 with 1 Axes>"
      ]
     },
     "metadata": {
      "needs_background": "light"
     },
     "output_type": "display_data"
    },
    {
     "name": "stdout",
     "output_type": "stream",
     "text": [
      "Hamming: 0.0013225000002421439\n",
      "Levenshtein: 0.07117440000001807\n",
      "Dot: 0.0034746999999697437\n"
     ]
    }
   ],
   "source": [
    "# Hamming & Levensthein distances (number of edits to convert s1 into s2)\n",
    "import numpy as np\n",
    "import itertools\n",
    "from matplotlib import pyplot as plt\n",
    "import timeit\n",
    "\n",
    "def hamming(s1, s2):\n",
    "    '''Hamming distance (position-wise comparison) between two strings of equal length'''\n",
    "    if len(s1) != len(s2):\n",
    "        raise ValueError(\"Undefined for sequences of unequal length.\")\n",
    "    return sum(el1 != el2 for el1, el2 in zip(s1, s2))\n",
    "\n",
    "def levenshtein(seq1, seq2):\n",
    "    '''Levenshtein distance between two strings of equal length'''\n",
    "    size_x = len(seq1) + 1\n",
    "    size_y = len(seq2) + 1\n",
    "    matrix = np.zeros ((size_x, size_y))\n",
    "    for x in range(size_x):\n",
    "        matrix [x, 0] = x\n",
    "    for y in range(size_y):\n",
    "        matrix [0, y] = y\n",
    "\n",
    "    for x in range(1, size_x):\n",
    "        for y in range(1, size_y):\n",
    "            if seq1[x-1] == seq2[y-1]:\n",
    "                matrix [x,y] = min(\n",
    "                    matrix[x-1, y] + 1,\n",
    "                    matrix[x-1, y-1],\n",
    "                    matrix[x, y-1] + 1\n",
    "                )\n",
    "            else:\n",
    "                matrix [x,y] = min(\n",
    "                    matrix[x-1,y] + 1,\n",
    "                    matrix[x-1,y-1] + 1,\n",
    "                    matrix[x,y-1] + 1\n",
    "                )\n",
    "    #print (matrix)\n",
    "    return (matrix[size_x - 1, size_y - 1])\n",
    "\n",
    "def hwrapper():\n",
    "    hamming('1011100', '1001011')\n",
    "    return 0\n",
    "\n",
    "def lwrapper():\n",
    "    levenshtein('1011100', '1001011')\n",
    "    return 0\n",
    "\n",
    "def dwrapper():\n",
    "    np.dot([1,0,1,1,1,0,0], [1,0,0,1,0,1,1])\n",
    "    return 0\n",
    "\n",
    "def main():\n",
    "    #print(hamming('karolin', 'kathrin'))\n",
    "    #print(levenshtein('karolin', 'kathrin'))\n",
    "    #print('Hamming:', hamming('1011100', '1001011'))\n",
    "    #print('Levenshtein:', levenshtein('1011100', '1001011'))\n",
    "    #print('Dot:', np.dot([1,0,1,1,1,0,0], [1,0,0,1,0,1,1]))\n",
    "    #print(list(itertools.permutations(range(1,4))))\n",
    "    base = 'abcd'\n",
    "    plst = list(itertools.permutations(base))\n",
    "    basei = range(1,len(base)+1)\n",
    "    iplst = list(itertools.permutations(basei))\n",
    "    res = []\n",
    "    for idx, pe in enumerate(plst):\n",
    "        hd = hamming(''.join(base), ''.join(pe))\n",
    "        ld = levenshtein(''.join(base), ''.join(pe))\n",
    "        dd = np.linalg.norm(basei)**2 / np.dot(basei, iplst[idx])\n",
    "        res.append((hd,ld,dd))\n",
    "        #print(pe, 'Hamming:', hd, 'Levenshtein:', ld, 'Dot:', dd)\n",
    "        \n",
    "    plt.plot(range(len(res)), res, '.', label = 'data')\n",
    "    #plt.legend()\n",
    "    plt.show()\n",
    "    \n",
    "    print('Hamming:', timeit.timeit('hwrapper()', setup = 'from __main__ import hwrapper', number=1000))\n",
    "    print('Levenshtein:', timeit.timeit('lwrapper()', setup = 'from __main__ import lwrapper', number=1000))\n",
    "    print('Dot:', timeit.timeit('dwrapper()', setup = 'from __main__ import dwrapper', number=1000))\n",
    "\n",
    "if __name__ == '__main__':\n",
    "    main()"
   ]
  },
  {
   "cell_type": "code",
   "execution_count": 80,
   "metadata": {},
   "outputs": [
    {
     "name": "stdout",
     "output_type": "stream",
     "text": [
      "2\n",
      "1\n"
     ]
    }
   ],
   "source": [
    "# tests Hamming around window\n",
    "\n",
    "def dhammingW(s1, s2, wsz2):\n",
    "    '''Hamming distance (position-wise comparison along window +-wsz2) between two strings of equal length'''\n",
    "    if len(s1) != len(s2) or wsz2 > int(len(s1)/2):\n",
    "        raise ValueError(\"sequence bad shape or window size too large\")\n",
    "    score = 0\n",
    "    for idx1, el1 in enumerate(s1[wsz2:-wsz2]):\n",
    "        #if s1[idx1-wsz2:idx1+wsz2] != s2[idx1-wsz2:idx1+wsz2]: # this would be a stricter criterion\n",
    "            #score += 1\n",
    "        score += hamming(s1[idx1-wsz2:idx1+wsz2], s2[idx1-wsz2:idx1+wsz2])\n",
    "    return score\n",
    "\n",
    "def main():\n",
    "    print(dhammingW('1111111111111', '1112111111111', 1))\n",
    "    print(hamming('1111111111111', '1112111111111'))\n",
    "    \n",
    "if __name__ == '__main__':\n",
    "    main()"
   ]
  },
  {
   "cell_type": "code",
   "execution_count": 84,
   "metadata": {},
   "outputs": [
    {
     "name": "stdout",
     "output_type": "stream",
     "text": [
      "[[ 0.927  0.797  0.06   0.031  0.176 -0.005  0.103 -0.002  0.059  0.006]]\n",
      "w1 0.870 w2 1.529\n"
     ]
    }
   ],
   "source": [
    "# another iterative NN test - simple NN first\n",
    "import numpy as np\n",
    "\n",
    "if __name__=='__main__':\n",
    "    # parameters\n",
    "    inp_size = 10 # input size\n",
    "    etha = 1. # learning rate\n",
    "    niter = 100\n",
    "\n",
    "    # input\n",
    "    x = np.zeros((1, inp_size)) # input\n",
    "    x = [[0., 1., 0., 0., 0., 0., 0., 0., 0., 0.]]\n",
    "    y = [[1., 1., 0., 0., 0., 0., 0., 0., 0., 0.]]\n",
    "\n",
    "    # model parameters\n",
    "    W1 = np.random.randn(inp_size, inp_size)*0.1 # input to hidden\n",
    "    W2 = np.random.randn(inp_size, inp_size)*0.1 # hidden to output\n",
    "    b1 = np.zeros((1, inp_size)) # inp-hidden bias\n",
    "    b2 = np.zeros((1, inp_size)) # hidden-out bias\n",
    "    \n",
    "    # backprop statistics\n",
    "    sdw1 = 0\n",
    "    sdw2 = 0\n",
    "    \n",
    "    for ictr in range(niter):\n",
    "\n",
    "        # forward pass\n",
    "        h1 = np.dot(x, W1) + b1\n",
    "        h1 = np.maximum(h1, 0, h1) # ReLU\n",
    "        o2 = np.dot(h1, W2) + b2\n",
    "        #print(o2)\n",
    "\n",
    "        # backward pass: dW2=delta*h1 db2=delta*1 dW1=delta*W2*ReLu'*x db1=delta*W2*ReLu'*1\n",
    "        #h1 = np.dot(x, W1) + b1\n",
    "        db2 = - etha * (o2 - y)\n",
    "        #dW2 = - etha * (o2 - y) * np.maximum(h1, 0, h1)\n",
    "        dW2 = db2 * np.maximum(h1, 0, h1)\n",
    "        db1 = dW2 * ((h1 > 0) * 1.)\n",
    "        #dW1 = dW2 * ((h1 > 0) * 1.) * x\n",
    "        dW1 = db1 * x\n",
    "        \n",
    "        # backprop statistics\n",
    "        sdw1 += dW1.sum()\n",
    "        sdw2 += dW2.sum()\n",
    "        \n",
    "        W1 += dW1\n",
    "        W2 += dW2\n",
    "        \n",
    "    #print(dW1)\n",
    "    #print(dW2)\n",
    "    # forward pass\n",
    "    h1 = np.dot(x, W1) + b1\n",
    "    h1 = np.maximum(h1, 0, h1) # ReLU\n",
    "    o2 = np.dot(h1, W2) + b2\n",
    "    print(o2)\n",
    "    print('w1', \"{0:0.3f}\".format(sdw1), 'w2', \"{0:0.3f}\".format(sdw2))"
   ]
  },
  {
   "cell_type": "code",
   "execution_count": 1,
   "metadata": {},
   "outputs": [
    {
     "name": "stdout",
     "output_type": "stream",
     "text": [
      "[[1. 1. 2. 2.]\n",
      " [1. 1. 2. 2.]\n",
      " [3. 3. 4. 4.]\n",
      " [3. 3. 4. 4.]]\n",
      "[[1. 1. 1. 1. 2. 2. 2. 2.]\n",
      " [1. 1. 1. 1. 2. 2. 2. 2.]\n",
      " [1. 1. 1. 1. 2. 2. 2. 2.]\n",
      " [1. 1. 1. 1. 2. 2. 2. 2.]\n",
      " [3. 3. 3. 3. 4. 4. 4. 4.]\n",
      " [3. 3. 3. 3. 4. 4. 4. 4.]\n",
      " [3. 3. 3. 3. 4. 4. 4. 4.]\n",
      " [3. 3. 3. 3. 4. 4. 4. 4.]]\n",
      "[[1. 1. 2. 2. 3. 3.]\n",
      " [1. 1. 2. 2. 3. 3.]\n",
      " [3. 3. 4. 4. 5. 5.]\n",
      " [3. 3. 4. 4. 5. 5.]]\n",
      "[[1. 2. 3.]\n",
      " [1. 2. 3.]\n",
      " [3. 4. 5.]\n",
      " [3. 4. 5.]]\n"
     ]
    }
   ],
   "source": [
    "import numpy as np\n",
    "#from scipy import signal\n",
    "\n",
    "def doublem(m0):\n",
    "    '''double input matrix m0 by doubling entries along both axis'''\n",
    "    #print(m0.shape)\n",
    "    res = np.ones((m0.shape[0]*2, m0.shape[1]*2))\n",
    "    for i in range(m0.shape[0]):\n",
    "        for j in range(m0.shape[1]):\n",
    "            res[2*i][2*j] = m0[i][j]\n",
    "            res[2*i+1][2*j] = m0[i][j]\n",
    "            res[2*i][2*j+1] = m0[i][j]\n",
    "            res[2*i+1][2*j+1] = m0[i][j]\n",
    "    #return np.tensordot(m0, np.ones((2,2)), axes = 0)\n",
    "    return res\n",
    "\n",
    "def doublemax(m0, axis = 0):\n",
    "    '''double input matrix m0 by doubling entries along given axis'''\n",
    "    if axis == 0:\n",
    "        res = np.ones((m0.shape[0]*2, m0.shape[1]))\n",
    "    else:\n",
    "        res = np.ones((m0.shape[0], m0.shape[1]*2))\n",
    "    for i in range(m0.shape[0]):\n",
    "        for j in range(m0.shape[1]):\n",
    "            if axis == 0:\n",
    "                res[2*i][j] = m0[i][j]\n",
    "                res[2*i+1][j] = m0[i][j]\n",
    "            else:\n",
    "                res[i][2*j] = m0[i][j]\n",
    "                res[i][2*j+1] = m0[i][j]\n",
    "    return res\n",
    "\n",
    "if __name__=='__main__':\n",
    "    a = np.array([[1,2],[3,4]])\n",
    "    b = doublem(a)\n",
    "    print(b)\n",
    "    print(doublem(b))\n",
    "    a = np.array([[1,2,3],[3,4,5]])\n",
    "    print(doublem(a))\n",
    "    print(doublemax(a))\n",
    "    #print(np.tensordot(a,b, axes = 0))\n",
    "    #print(np.tensordot(a,b, axes = 0).flatten())\n",
    "    #print(np.tensordot(a,b, axes = 0).flatten().reshape(a.shape[0]*2, a.shape[1]*2))\n",
    "    #print(signal.convolve2d(a,b))"
   ]
  },
  {
   "cell_type": "code",
   "execution_count": 2,
   "metadata": {},
   "outputs": [
    {
     "name": "stdout",
     "output_type": "stream",
     "text": [
      "0.2575424759098898\n",
      "1.5171063970610277\n",
      "[0.25754248 0.41054484 0.2160964 ]\n",
      "[0.2575424759098898, 0.4105448391249309, 0.21609640474436814]\n"
     ]
    }
   ],
   "source": [
    "# test entropy\n",
    "import math\n",
    "import numpy as np\n",
    "\n",
    "def entrp_s(p):\n",
    "    '''single-value entropy'''\n",
    "    if p <= 0:\n",
    "        raise ValueError(\"entropy: p has to be > 0\")\n",
    "    return - p * math.log2(p)\n",
    "\n",
    "def entrpl_np(labels, base=None):\n",
    "    '''entropy for a list of labels'''\n",
    "    value, counts = np.unique(labels, return_counts=True)\n",
    "    norm_counts = counts / counts.sum()\n",
    "    base = math.e if base is None else base\n",
    "    return -(norm_counts * np.log(norm_counts) / np.log(base)).sum()\n",
    "\n",
    "def entrp_np(vals, base=None):\n",
    "    '''entropy for a list of values'''\n",
    "    base = math.e if base is None else base\n",
    "    return -(vals * np.log(vals) / np.log(base))\n",
    "\n",
    "if __name__=='__main__':\n",
    "    print(entrp_s(0.8))\n",
    "    print(entrpl_np([1,3,5,2,3,5,3,2,1,3,4,5]))\n",
    "    print(entrp_np([0.8, 0.15, 0.05], 2))\n",
    "    print([entrp_s(x) for x in [.8, .15, .05]])"
   ]
  },
  {
   "cell_type": "code",
   "execution_count": 21,
   "metadata": {},
   "outputs": [
    {
     "name": "stdout",
     "output_type": "stream",
     "text": [
      "[[4.998e-01 4.998e-01 4.798e-06]]\n",
      "w1 0.000 w2 0.081 w3 0.650\n"
     ]
    }
   ],
   "source": [
    "# now iterative NN 0\n",
    "import numpy as np\n",
    "\n",
    "def sigmoid(x, deriv=False):\n",
    "    '''Numerically-stable sigmoid function'''\n",
    "    if deriv:\n",
    "        sf = sigmoid(x)\n",
    "        return sf * (1 - sf) # derivative\n",
    "    if x.all() >= 0:\n",
    "        z = np.exp(-x)\n",
    "        return 1 / (1 + z)\n",
    "    else:\n",
    "        z = np.exp(x)\n",
    "        return z / (1 + z)\n",
    "\n",
    "if __name__=='__main__':\n",
    "    # parameters\n",
    "    inp_size = 3 # input size\n",
    "    etha = 0.01 # learning rate\n",
    "    niter = 1000\n",
    "    \n",
    "    np.set_printoptions(precision=3) # prettier output\n",
    "\n",
    "    # input\n",
    "    x = np.zeros((1, inp_size)) # input\n",
    "    x = [[0., 1., 0.]]\n",
    "    y = [[.5, .5, 0.]]\n",
    "\n",
    "    # model parameters\n",
    "    W1 = np.random.randn(inp_size, inp_size)*0.01 # input to hidden\n",
    "    W2 = np.random.randn(inp_size, inp_size)*0.01 # hidden to hidden\n",
    "    W3 = np.random.randn(inp_size, inp_size)*0.01 # hidden to output\n",
    "    b1 = np.zeros((1, inp_size)) # inp-hidden bias\n",
    "    b2 = np.zeros((1, inp_size)) # hidden-hidden\n",
    "    b3 = np.zeros((1, inp_size)) # hidden-out bias\n",
    "    \n",
    "    # backprop statistics\n",
    "    sdw1 = 0\n",
    "    sdw2 = 0\n",
    "    sdw3 = 0\n",
    "    \n",
    "    for ictr in range(niter):\n",
    "\n",
    "        # forward pass\n",
    "        h1 = np.dot(x, W1) + b1\n",
    "        sh1 = sigmoid(h1)\n",
    "        h2 = np.dot(sh1, W2) + b2\n",
    "        sh2 = sigmoid(h2)\n",
    "        oo = np.dot(sh2, W3) + b3\n",
    "        #print(oo)\n",
    "\n",
    "        # backward pass\n",
    "        db3 = - etha * (oo - y)\n",
    "        dW3 = db3 * sh2 # doo/dW3=sg(h2)\n",
    "        db2 = db3 * W3 * sigmoid(h2, True) # doo/db2=W3*sg'(h2)\n",
    "        dW2 = db2 * sh1 # doo/dW2=W3*sg'(h2)*sg(h1)\n",
    "        db1 = db2 * W2 * sigmoid(h1, True) # doo/db1=W3*sg'(h2)*W2*sg'(h1)\n",
    "        dW1 = db1 * x\n",
    "        \n",
    "        #if ictr % 1000 == 0:\n",
    "            #print('loss:', db3/etha)\n",
    "            #print('w1', dW1.sum(), '\\nw2', dW2.sum(), '\\nw3', dW3.sum())\n",
    "            \n",
    "        # backprop statistics\n",
    "        sdw1 += dW1.sum()\n",
    "        sdw2 += dW2.sum()\n",
    "        sdw3 += dW3.sum()\n",
    "        \n",
    "        # weight updates\n",
    "        W1 += dW1\n",
    "        W2 += dW2\n",
    "        W3 += dW3\n",
    "        \n",
    "    #print(dW1)\n",
    "    #print(dW2)\n",
    "    #print(dW3)\n",
    "    # forward pass\n",
    "    h1 = np.dot(x, W1) + b1\n",
    "    h1 = sigmoid(h1) # sg\n",
    "    h2 = np.dot(h1, W2) + b2\n",
    "    h2 = sigmoid(h2) # sg\n",
    "    oo = np.dot(h2, W3) + b3\n",
    "    print(oo)\n",
    "    \n",
    "    print('w1', \"{0:0.3f}\".format(sdw1), 'w2', \"{0:0.3f}\".format(sdw2), 'w3', \"{0:0.3f}\".format(sdw3))"
   ]
  },
  {
   "cell_type": "code",
   "execution_count": 59,
   "metadata": {},
   "outputs": [
    {
     "name": "stdout",
     "output_type": "stream",
     "text": [
      "[[5.000e-01 5.000e-01 2.755e-07]]\n",
      "w1 0.001 w2 0.122 w3 0.992\n"
     ]
    }
   ],
   "source": [
    "# now iterative NN 1\n",
    "import numpy as np\n",
    "\n",
    "def sigmoid(x, deriv=False):\n",
    "    '''Numerically-stable sigmoid function'''\n",
    "    if deriv:\n",
    "        sf = sigmoid(x)\n",
    "        return sf * (1 - sf) # derivative\n",
    "    if x.all() >= 0:\n",
    "        z = np.exp(-x)\n",
    "        return 1 / (1 + z)\n",
    "    else:\n",
    "        z = np.exp(x)\n",
    "        return z / (1 + z)\n",
    "\n",
    "if __name__=='__main__':\n",
    "    # parameters\n",
    "    inp_size = 3 # input size\n",
    "    etha = 0.01 # learning rate\n",
    "    niter = 1000\n",
    "    \n",
    "    np.set_printoptions(precision=3) # prettier output\n",
    "\n",
    "    # input\n",
    "    x = np.zeros((1, inp_size)) # input\n",
    "    x = np.array([[0., 1., 0.]])\n",
    "    y = np.array([[.5, .5, 0.]])\n",
    "\n",
    "    # model parameters\n",
    "    nin1 = inp_size\n",
    "    n12 = 2\n",
    "    n23 = 2\n",
    "    n3o = inp_size\n",
    "    W1 = np.random.randn(nin1, n12)*0.01 # input to hidden\n",
    "    W2 = np.random.randn(n12, n23)*0.01 # hidden to hidden\n",
    "    W3 = np.random.randn(n23, n3o)*0.01 # hidden to output\n",
    "    b1 = np.zeros((1, n12)) # inp-hidden bias\n",
    "    b2 = np.zeros((1, n23)) # hidden-hidden\n",
    "    b3 = np.zeros((1, n3o)) # hidden-out bias\n",
    "    \n",
    "    oneW1 = np.ones_like(W1)\n",
    "    oneW2 = np.ones_like(W2)\n",
    "    oneW3 = np.ones_like(W3)\n",
    "    \n",
    "    # backprop statistics\n",
    "    sdw1 = 0\n",
    "    sdw2 = 0\n",
    "    sdw3 = 0\n",
    "    \n",
    "    for ictr in range(niter):\n",
    "\n",
    "        # forward pass\n",
    "        h1 = np.dot(x, W1) + b1\n",
    "        sh1 = sigmoid(h1)\n",
    "        h2 = np.dot(sh1, W2) + b2\n",
    "        sh2 = sigmoid(h2)\n",
    "        oo = np.dot(sh2, W3) + b3\n",
    "        #print(oo)\n",
    "\n",
    "        # backward pass\n",
    "        db3 = - etha * (oo - y) # doo/db3=delta*1(dim db3)\n",
    "        dW3 = db3 * np.dot(sh2, oneW3) # doo/dW3=sg(h2)\n",
    "        db2 = np.dot(db3, W3.T) * sigmoid(h2, True) # doo/db2=W3*sg'(h2)\n",
    "        dW2 = db2 * oneW2 * sh1 # doo/dW2=W3*sg'(h2)*sg(h1)*1(dim W2)\n",
    "        db1 = np.dot(db2, W2) * sigmoid(h1, True) # doo/db1=W3*sg'(h2)*W2*sg'(h1)\n",
    "        dW1 = db1 * np.dot(x, oneW1)\n",
    "        \n",
    "        #if ictr % 1000 == 0:\n",
    "            #print('loss:', db3/etha)\n",
    "            #print('w1', dW1.sum(), '\\nw2', dW2.sum(), '\\nw3', dW3.sum())\n",
    "            \n",
    "        # backprop statistics\n",
    "        sdw1 += dW1.sum()\n",
    "        sdw2 += dW2.sum()\n",
    "        sdw3 += dW3.sum()\n",
    "        \n",
    "        # weight updates\n",
    "        W1 += dW1\n",
    "        W2 += dW2\n",
    "        W3 += dW3\n",
    "        \n",
    "    # forward pass\n",
    "    h1 = np.dot(x, W1) + b1\n",
    "    h1 = sigmoid(h1) # sg\n",
    "    h2 = np.dot(h1, W2) + b2\n",
    "    h2 = sigmoid(h2) # sg\n",
    "    oo = np.dot(h2, W3) + b3\n",
    "    print(oo)\n",
    "    \n",
    "    print('w1', \"{0:0.3f}\".format(sdw1), 'w2', \"{0:0.3f}\".format(sdw2), 'w3', \"{0:0.3f}\".format(sdw3))"
   ]
  },
  {
   "cell_type": "code",
   "execution_count": 69,
   "metadata": {},
   "outputs": [
    {
     "name": "stdout",
     "output_type": "stream",
     "text": [
      "(4, 1, 5, 3, 2)\n"
     ]
    }
   ],
   "source": [
    "# a race\n",
    "import itertools\n",
    "\n",
    "def allcond(a,b,c,d,e):\n",
    "    if e<c and e<a and b<d and (c-e)>(d-b) and (a-e)==(d-b) and abs(d-e)<abs(a-e):\n",
    "        return True\n",
    "    return False\n",
    "\n",
    "if __name__=='__main__':\n",
    "    plst = itertools.permutations([1,2,3,4,5])\n",
    "    #print(list(plst))\n",
    "    for el in list(plst):\n",
    "        if allcond(el[0], el[1], el[2], el[3], el[4]):\n",
    "            print(el)"
   ]
  },
  {
   "cell_type": "code",
   "execution_count": 3,
   "metadata": {},
   "outputs": [
    {
     "name": "stdout",
     "output_type": "stream",
     "text": [
      "[[ 4.974e-01  4.974e-01 -4.136e-05]]\n",
      "w1 0.001 w2 0.118 w3 0.976\n"
     ]
    },
    {
     "data": {
      "image/png": "[encoded data removed]",
      "text/plain": [
       "<Figure size 432x288 with 1 Axes>"
      ]
     },
     "metadata": {
      "needs_background": "light"
     },
     "output_type": "display_data"
    }
   ],
   "source": [
    "# now iterative NN 2\n",
    "import numpy as np\n",
    "from matplotlib import pyplot as plt\n",
    "\n",
    "def sigmoid(x, deriv=False):\n",
    "    '''Numerically-stable sigmoid function'''\n",
    "    if deriv:\n",
    "        sf = sigmoid(x)\n",
    "        return sf * (1 - sf) # derivative\n",
    "    if x.all() >= 0:\n",
    "        z = np.exp(-x)\n",
    "        return 1 / (1 + z)\n",
    "    else:\n",
    "        z = np.exp(x)\n",
    "        return z / (1 + z)\n",
    "\n",
    "def main():\n",
    "    # parameters\n",
    "    inp_size = 3 # input size\n",
    "    etha = 0.01 # learning rate\n",
    "    niter = 500\n",
    "    \n",
    "    np.set_printoptions(precision=3) # prettier output\n",
    "\n",
    "    # input\n",
    "    x = np.zeros((1, inp_size)) # input\n",
    "    x = np.array([[0., 1., 0.]])\n",
    "    y = np.array([[.5, .5, 0.]])\n",
    "\n",
    "    # model parameters\n",
    "    nin1 = inp_size\n",
    "    n12 = 2\n",
    "    n23 = 2\n",
    "    n3o = inp_size\n",
    "    W1 = np.random.randn(nin1, n12)*0.01 # input to hidden\n",
    "    W2 = np.random.randn(n12, n23)*0.01 # hidden to hidden\n",
    "    W3 = np.random.randn(n23, n3o)*0.01 # hidden to output\n",
    "    b1 = np.zeros((1, n12)) # inp-hidden bias\n",
    "    b2 = np.zeros((1, n23)) # hidden-hidden\n",
    "    b3 = np.zeros((1, n3o)) # hidden-out bias\n",
    "    \n",
    "    oneW1 = np.ones_like(W1)\n",
    "    oneW2 = np.ones_like(W2)\n",
    "    oneW3 = np.ones_like(W3)\n",
    "    \n",
    "    # backprop statistics\n",
    "    sdw1 = 0\n",
    "    sdw2 = 0\n",
    "    sdw3 = 0\n",
    "    #losshist = np.array([])\n",
    "    w1hist = np.array([])\n",
    "    w2hist = np.array([])\n",
    "    w3hist = np.array([])\n",
    "    \n",
    "    for ictr in range(niter):\n",
    "\n",
    "        # forward pass\n",
    "        h1 = np.dot(x, W1) + b1\n",
    "        sh1 = sigmoid(h1)\n",
    "        h2 = np.dot(sh1, W2) + b2\n",
    "        sh2 = sigmoid(h2)\n",
    "        oo = np.dot(sh2, W3) + b3\n",
    "        #print(oo)\n",
    "\n",
    "        # backward pass\n",
    "        db3 = - etha * (oo - y) # doo/db3=delta*1(dim db3)\n",
    "        dW3 = db3 * np.dot(sh2, oneW3) # doo/dW3=sg(h2)\n",
    "        db2 = np.dot(db3, W3.T) * sigmoid(h2, True) # doo/db2=W3*sg'(h2)\n",
    "        dW2 = db2 * oneW2 * sh1 # doo/dW2=W3*sg'(h2)*sg(h1)*1(dim W2)\n",
    "        db1 = np.dot(db2, W2) * sigmoid(h1, True) # doo/db1=W3*sg'(h2)*W2*sg'(h1)\n",
    "        dW1 = db1 * np.dot(x, oneW1)\n",
    "        \n",
    "        #if ictr % 1000 == 0:\n",
    "            #print('loss:', db3/etha)\n",
    "            #print('w1', dW1.sum(), '\\nw2', dW2.sum(), '\\nw3', dW3.sum())\n",
    "            \n",
    "        # backprop statistics\n",
    "        sdw1 += dW1.sum()\n",
    "        sdw2 += dW2.sum()\n",
    "        sdw3 += dW3.sum()\n",
    "        #losshist = np.append(losshist, sdw1+sdw2+sdw3)\n",
    "        #losshist = np.append(losshist, sdw1)\n",
    "        w1hist = np.append(w1hist, dW1.sum())\n",
    "        w2hist = np.append(w2hist, dW2.sum())\n",
    "        w3hist = np.append(w3hist, dW3.sum())\n",
    "        \n",
    "        # weight updates\n",
    "        W1 += dW1\n",
    "        W2 += dW2\n",
    "        W3 += dW3\n",
    "        \n",
    "    # forward pass\n",
    "    h1 = np.dot(x, W1) + b1\n",
    "    h1 = sigmoid(h1) # sg\n",
    "    h2 = np.dot(h1, W2) + b2\n",
    "    h2 = sigmoid(h2) # sg\n",
    "    oo = np.dot(h2, W3) + b3\n",
    "    print(oo)\n",
    "    \n",
    "    print('w1', \"{0:0.3f}\".format(sdw1), 'w2', \"{0:0.3f}\".format(sdw2), 'w3', \"{0:0.3f}\".format(sdw3))\n",
    "    \n",
    "    #print(losshist)\n",
    "    plt.plot(w1hist, label = 'w1')\n",
    "    plt.plot(w2hist, label = 'w2')\n",
    "    plt.plot(w3hist, label = 'w3')\n",
    "    plt.legend()\n",
    "    plt.show()\n",
    "    \n",
    "if __name__=='__main__':\n",
    "    main()"
   ]
  },
  {
   "cell_type": "code",
   "execution_count": 3,
   "metadata": {},
   "outputs": [
    {
     "name": "stdout",
     "output_type": "stream",
     "text": [
      "[0.363 0.637]\n",
      "[0.87  1.529 1.    2.   ]\n"
     ]
    }
   ],
   "source": [
    "lst = np.array([.87, 1.529])\n",
    "print(lst/np.sum(lst))\n",
    "lst = np.append(lst, [1, 2])\n",
    "print(lst)"
   ]
  },
  {
   "cell_type": "code",
   "execution_count": 4,
   "metadata": {},
   "outputs": [
    {
     "name": "stdout",
     "output_type": "stream",
     "text": [
      "http%3A//foo/bar/\n"
     ]
    }
   ],
   "source": [
    "import urllib\n",
    "s = 'http://foo/bar/'\n",
    "s = urllib.parse.quote(s)\n",
    "print(s)"
   ]
  },
  {
   "cell_type": "code",
   "execution_count": 1,
   "metadata": {},
   "outputs": [
    {
     "name": "stdout",
     "output_type": "stream",
     "text": [
      "The beter the 4-whel drive, the further you l be from help when ya get stuck!\n",
      "The beter the 4-whel drive, the further you l be from help when ya get stuck!\n"
     ]
    }
   ],
   "source": [
    "# string collapsible\n",
    "from itertools import groupby\n",
    " \n",
    "def collapser(txt):\n",
    "    return ''.join(item for item, grp in groupby(txt))\n",
    "\n",
    "def collpstr(s):\n",
    "    '''remove multiple characters to collapse string'''\n",
    "    lastc = s[0]\n",
    "    res = lastc\n",
    "    for idx, c in enumerate(s):\n",
    "        if idx > 0:\n",
    "            if c == lastc:\n",
    "                pass\n",
    "            else:\n",
    "                res += c\n",
    "                lastc = c\n",
    "    return res\n",
    "\n",
    "def main():\n",
    "    print(collpstr('The better the 4-wheel drive, the further you ll be from help when ya get stuck!'))\n",
    "    print(collapser('The better the 4-wheel drive, the further you ll be from help when ya get stuck!'))\n",
    "\n",
    "if __name__=='__main__':\n",
    "    main()"
   ]
  },
  {
   "cell_type": "code",
   "execution_count": 8,
   "metadata": {},
   "outputs": [
    {
     "name": "stdout",
     "output_type": "stream",
     "text": [
      "[1]\n",
      "[1, 1]\n",
      "[1, 2, 1]\n",
      "[1, 3, 3, 1]\n",
      "[1, 4, 6, 4, 1]\n",
      "[1, 5, 10, 10, 5, 1]\n",
      "[1, 6, 15, 20, 15, 6, 1]\n",
      "[1, 7, 21, 35, 35, 21, 7, 1]\n",
      "True\n"
     ]
    }
   ],
   "source": [
    "# Pascals triangle\n",
    "\n",
    "def pascal(n):\n",
    "    '''pascals triangle'''\n",
    "    row = [1]\n",
    "    k = [0]\n",
    "    for x in range(max(n,0)):\n",
    "        print(row)\n",
    "        row=[l+r for l,r in zip(row+k,k+row)]\n",
    "    return n>=1\n",
    "\n",
    "def main():\n",
    "    print(pascal(8))\n",
    "\n",
    "if __name__=='__main__':\n",
    "    main()"
   ]
  },
  {
   "cell_type": "code",
   "execution_count": 26,
   "metadata": {},
   "outputs": [
    {
     "data": {
      "image/png": "[encoded data removed]",
      "text/plain": [
       "<Figure size 432x288 with 1 Axes>"
      ]
     },
     "metadata": {
      "needs_background": "light"
     },
     "output_type": "display_data"
    },
    {
     "name": "stdout",
     "output_type": "stream",
     "text": [
      "2.4158572117521437 0.9179820484210797\n"
     ]
    }
   ],
   "source": [
    "# NN symbolic\n",
    "import numpy as np\n",
    "from matplotlib import pyplot as plt\n",
    "\n",
    "def sigmoid(x, deriv=False):\n",
    "    '''Numerically-stable sigmoid function'''\n",
    "    if deriv:\n",
    "        sf = sigmoid(x)\n",
    "        return sf * (1 - sf) # derivative\n",
    "    if x >= 0:\n",
    "        z = np.exp(-x)\n",
    "        return 1 / (1 + z)\n",
    "    else:\n",
    "        z = np.exp(x)\n",
    "        return z / (1 + z)\n",
    "    \n",
    "def main():\n",
    "    etha = -0.1 # learing rate\n",
    "    y = 1 # truth\n",
    "    x = 1 # input\n",
    "    w = 0.1 # weight\n",
    "    niter = 1000\n",
    "    whst = []\n",
    "    ohst = []\n",
    "    for i in range(niter):\n",
    "        o = sigmoid(w*x) # output\n",
    "        delta = (o - y)\n",
    "        w += etha * delta * sigmoid(w*x, True) # weight update\n",
    "        whst.append(w)\n",
    "        ohst.append(o)\n",
    "    plt.plot(whst, label = 'w')\n",
    "    plt.plot(ohst, label = 'o')\n",
    "    plt.legend()\n",
    "    plt.show()\n",
    "    print(w, o)\n",
    "    \n",
    "if __name__=='__main__':\n",
    "    main()"
   ]
  },
  {
   "cell_type": "code",
   "execution_count": 30,
   "metadata": {},
   "outputs": [
    {
     "name": "stdout",
     "output_type": "stream",
     "text": [
      "1\n",
      "2\n",
      "3\n",
      "4\n",
      "5\n",
      "6\n",
      "7\n",
      "8\n",
      "9\n",
      "10\n",
      "12\n",
      "18\n",
      "20\n",
      "21\n",
      "24\n",
      "27\n",
      "30\n",
      "36\n",
      "40\n",
      "42\n",
      "45\n",
      "48\n",
      "50\n",
      "54\n",
      "60\n",
      "63\n",
      "70\n",
      "72\n",
      "80\n",
      "81\n",
      "84\n",
      "90\n"
     ]
    }
   ],
   "source": [
    "# Harshad/Niven numbers\n",
    "\n",
    "def harshn(n):\n",
    "    '''check if number is divisible by the sum of its digits'''\n",
    "    sumdig = sum([int(x) for x in str(n)])\n",
    "    if n % sumdig == 0:\n",
    "        return True\n",
    "    return False\n",
    "\n",
    "def main():\n",
    "    #print(harshn(42))\n",
    "    for i in range(1, 100):\n",
    "        if harshn(i):\n",
    "            print(i)\n",
    "    \n",
    "if __name__=='__main__':\n",
    "    main()"
   ]
  },
  {
   "cell_type": "code",
   "execution_count": null,
   "metadata": {},
   "outputs": [],
   "source": []
  }
 ],
 "metadata": {
  "kernelspec": {
   "display_name": "Python 3",
   "language": "python",
   "name": "python3"
  },
  "language_info": {
   "codemirror_mode": {
    "name": "ipython",
    "version": 3
   },
   "file_extension": ".py",
   "mimetype": "text/x-python",
   "name": "python",
   "nbconvert_exporter": "python",
   "pygments_lexer": "ipython3",
   "version": "3.6.8"
  }
 },
 "nbformat": 4,
 "nbformat_minor": 2
}
