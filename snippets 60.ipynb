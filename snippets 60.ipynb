{
 "cells": [
  {
   "cell_type": "code",
   "execution_count": 1,
   "id": "5d713789-a53d-46c9-8155-9c3fc24a0f0f",
   "metadata": {},
   "outputs": [
    {
     "name": "stdout",
     "output_type": "stream",
     "text": [
      "0.205988 M parameters\n",
      "step 0: train loss 3.7394, val loss 3.7334\n",
      "step 100: train loss 1.4619, val loss 1.4596\n",
      "step 200: train loss 0.4608, val loss 0.4622\n",
      "step 299: train loss 0.1918, val loss 0.1942\n",
      " ctyFltayVen RunCowl SwiftBreeze SpriftBreashStream Ventreckent Runt SprintFlatiow SprboHod Rurbod AezerodSperintze shocowl AeroRun Speeel AirSwirinRushCowl BlazeHoodSpeHodStBl Swideeeee AtrroFlow Rung BloiftBlazee Spree AeriroFloFlow Runt SpepridVentt Blowift Blarezen Ae Rushorerocint AeroRunt eroRun Blat keze SpridVent BrintFlow Rung Sprintiftila Turbeze DaspocilashCoch AeroRunt SpriRunJed Spridduntowlaze Sprift Aerirbomt RuntBrboFloHood Blaze SpedeedStriVentStrintFlowlow TurboHod AeroRunt Speridede scunedVent yVelonCowl Aerowl SwiftBrereze Run AeroRun SpirSprint Sprintwideeze oFlow TurowarboHoDapush RunlauninCowl Ka Tuzlapochnen Kat Kaen Kauben sport RufhCoot reerect cowl drung SwniftBlazeHood Speee AerodVent DashCtrowl RunCowl KasBlapeeedry tauft schnedronilay stydry sckedrydry laun stay stedrufhaufhaube schnelllaube tron scken AeroRun SpeeridVent SprintFlow TurboHod RurbooRun SpeeeedVent Aent drunnghoowl venCowla TurboHod venod spenelaunt spry sprunineedVent st st strundreabecinJet cken Aerowlash Aeroct Vent dryVent loRunCowl SpeeedSt SpriftFlow SpreFloFlow TurboHoHood AeroDaJet Aent RuscinCowl SwiftAeerStBJereridVeroFlow Runt hood y layVelaubbon spubenCoHoned AeroRun AeeroRushCowl SpeeeedoFloDazet hCowl l AeroftaspociftyVecila ssckent RundryVent St rinCowlantBlareze Run SpowaJe SwifhCuriftvezen Blatrin Rube KaschCowl AeroRun AeronVent SpritFlow wl HoodBl AeroDash Aerodroch VelocityVent RunCowl RunCowl SwiftBreeeeCowl DashStream AirSprint Runint VintilaprmtFlow BlarboHVenJent RunDash Spreedrint Sprint washCowleeHodSt AeridVent AiroRunJe RunCowl SwiftBreeze Striree StrintFlow Rushowl RunCowl SwiftBlazee StreeashSwiream AirSprint RushCowl BlazeeHood SpeedStFlow Briftickeng AezVenVent Runt SprerintintFlow TushCowarifty sprelarmty sprundry staundry runcod sthaydrunining speay staubedry stry shnedrymdry st rundrundry ry runnninghood stedry speedrydry laundry schnelll t trochowl lazen stroctydVent st sckendry SpridVent TuntinCowiftiftTurbzeze Sprbe RushSpridrint Sprin\n"
     ]
    }
   ],
   "source": [
    "import torch\n",
    "import torch.nn as nn\n",
    "from torch.nn import functional as F\n",
    "\n",
    "# hyperparameters\n",
    "batch_size = 16  # how many independent sequences will we process in parallel?\n",
    "block_size = 32  # what is the maximum context length for predictions?\n",
    "max_iters = 300\n",
    "eval_interval = 100\n",
    "learning_rate = 1e-3\n",
    "device = 'cuda' if torch.cuda.is_available() else 'cpu'\n",
    "eval_iters = 200\n",
    "n_embd = 64\n",
    "n_head = 4\n",
    "n_layer = 4\n",
    "dropout = 0.1\n",
    "\n",
    "'''batch_size = 64  # how many independent sequences will we process in parallel?\n",
    "block_size = 256  # what is the maximum context length for predictions?\n",
    "max_iters = 5000\n",
    "eval_interval = 500\n",
    "learning_rate = 3e-4\n",
    "device = 'cuda' if torch.cuda.is_available() else 'cpu'\n",
    "eval_iters = 200\n",
    "n_embd = 384\n",
    "n_head = 6\n",
    "n_layer = 6\n",
    "dropout = 0.2'''\n",
    "# ------------\n",
    "\n",
    "torch.manual_seed(1337)\n",
    "\n",
    "# wget https://raw.githubusercontent.com/karpathy/char-rnn/master/data/tinyshakespeare/input.txt\n",
    "#with open('input_sp0.txt', 'r', encoding='utf-8') as f:\n",
    "with open('input0.txt', 'r', encoding='utf-8') as f:\n",
    "    text = f.read()\n",
    "\n",
    "# here are all the unique characters that occur in this text\n",
    "chars = sorted(list(set(text)))\n",
    "vocab_size = len(chars)\n",
    "# create a mapping from characters to integers\n",
    "stoi = { ch:i for i,ch in enumerate(chars) }\n",
    "itos = { i:ch for i,ch in enumerate(chars) }\n",
    "encode = lambda s: [stoi[c] for c in s] # encoder: take a string, output a list of integers\n",
    "decode = lambda l: ''.join([itos[i] for i in l]) # decoder: take a list of integers, output a string\n",
    "\n",
    "# Train and test splits\n",
    "data = torch.tensor(encode(text), dtype=torch.long)\n",
    "n = int(0.9*len(data)) # first 90% will be train, rest val\n",
    "train_data = data[:n]\n",
    "val_data = data[n:]\n",
    "\n",
    "# data loading\n",
    "def get_batch(split):\n",
    "    # generate a small batch of data of inputs x and targets y\n",
    "    data = train_data if split == 'train' else val_data\n",
    "    ix = torch.randint(len(data) - block_size, (batch_size,))\n",
    "    x = torch.stack([data[i:i+block_size] for i in ix])\n",
    "    y = torch.stack([data[i+1:i+block_size+1] for i in ix])\n",
    "    x, y = x.to(device), y.to(device)\n",
    "    return x, y\n",
    "\n",
    "@torch.no_grad()\n",
    "def estimate_loss():\n",
    "    out = {}\n",
    "    model.eval()\n",
    "    for split in ['train', 'val']:\n",
    "        losses = torch.zeros(eval_iters)\n",
    "        for k in range(eval_iters):\n",
    "            X, Y = get_batch(split)\n",
    "            logits, loss = model(X, Y)\n",
    "            losses[k] = loss.item()\n",
    "        out[split] = losses.mean()\n",
    "    model.train()\n",
    "    return out\n",
    "\n",
    "class Head(nn.Module):  # the heads handle the attention - the communication between the nodes (tokens)\n",
    "    \"\"\" one head of self-attention \"\"\"\n",
    "\n",
    "    def __init__(self, head_size):  # takes headsize\n",
    "        super().__init__()\n",
    "        self.key = nn.Linear(n_embd, head_size, bias=False)  # k,q,v like above\n",
    "        self.query = nn.Linear(n_embd, head_size, bias=False)\n",
    "        self.value = nn.Linear(n_embd, head_size, bias=False)  # values are affine projections of the original data, the \"private data\" (key k is \"public\")\n",
    "        self.register_buffer('tril', torch.tril(torch.ones(block_size, block_size)))  # tril is not a parameter of the model, a buffer in pytorch lingo\n",
    "        # (so it does not get picked up by autograd)\n",
    "\n",
    "        self.dropout = nn.Dropout(dropout)\n",
    "\n",
    "    def forward(self, x):\n",
    "        B,T,C = x.shape\n",
    "        k = self.key(x)   # (B,T,C)\n",
    "        q = self.query(x)  # (B,T,C)\n",
    "        # compute attention scores (\"affinities\")\n",
    "        wei = q @ k.transpose(-2,-1) * C**-0.5  # (B, T, C) @ (B, C, T) -> (B, T, T)\n",
    "        wei = wei.masked_fill(self.tril[:T, :T] == 0, float('-inf'))  # (B, T, T)\n",
    "        wei = F.softmax(wei, dim=-1) # (B, T, T)\n",
    "        wei = self.dropout(wei)\n",
    "        # perform the weighted aggregation of the values\n",
    "        v = self.value(x)  # (B,T,C)\n",
    "        out = wei @ v  # (B, T, T) @ (B, T, C) -> (B, T, C)\n",
    "        return out\n",
    "\n",
    "class MultiHeadAttention(nn.Module):\n",
    "    \"\"\" multiple heads of self-attention in parallel \"\"\"\n",
    "\n",
    "    def __init__(self, num_heads, head_size):\n",
    "        super().__init__()\n",
    "        self.heads = nn.ModuleList([Head(head_size) for _ in range(num_heads)])  # pytorch makes this easy for us, passing just a list of heads\n",
    "        self.proj = nn.Linear(n_embd, n_embd)  # project back into the original pathway\n",
    "        self.dropout = nn.Dropout(dropout)\n",
    "\n",
    "    def forward(self, x):\n",
    "        out = torch.cat([h(x) for h in self.heads], dim=-1)  # just concatinate the results, concat over channel dimension (dim=-1)\n",
    "        out = self.dropout(self.proj(out))\n",
    "        return out\n",
    "\n",
    "class FeedFoward(nn.Module):  # this handles the per-token (node) computation\n",
    "    \"\"\" a simple linear layer followed by a non-linearity \"\"\"\n",
    "\n",
    "    def __init__(self, n_embd):\n",
    "        super().__init__()\n",
    "        self.net = nn.Sequential(\n",
    "            nn.Linear(n_embd, 4 * n_embd),  # the inner ff layer has 4 times the embedding dimension (to grow the computation on the residual pathway)\n",
    "            nn.ReLU(),\n",
    "            nn.Linear(4 * n_embd, n_embd),  # this is the projection layer going back into the original pathway (for the skip-connection) and going down from 4x\n",
    "            nn.Dropout(dropout),  # added right before the residual pathway comes back (dropout trains subnetworks by randomly shutting off neurons)\n",
    "        )\n",
    "\n",
    "    def forward(self, x):\n",
    "        return self.net(x)  # this is at a per token level: they think on all the attention data they got individually\n",
    "\n",
    "class Block(nn.Module):\n",
    "    \"\"\" Transformer block: communication followed by computation \"\"\"\n",
    "\n",
    "    def __init__(self, n_embd, n_head):\n",
    "        # n_embd: embedding dimension, n_head: the number of heads we'd like\n",
    "        super().__init__()\n",
    "        head_size = n_embd // n_head  # watch out that it works out channelwise (e.g. 32 embedding, 4 heads, 8 headsize)\n",
    "        self.sa = MultiHeadAttention(n_head, head_size)  # the heads running in parallel - the communication\n",
    "        self.ffwd = FeedFoward(n_embd)  # simple feedforward: at token level, all tokens do this independently: gathered all info from attention, think on it\n",
    "        # the ff does the computations\n",
    "        self.ln1 = nn.LayerNorm(n_embd)\n",
    "        self.ln2 = nn.LayerNorm(n_embd)\n",
    "\n",
    "    def forward(self, x):  # with skip connection, forking off direct gradient pass-through and block adjustments\n",
    "        x = x + self.sa(self.ln1(x))  # the x + is the skip connection: it lets the gradient pass through (particularly initially), then the blocks adjust\n",
    "        x = x + self.ffwd(self.ln2(x))  # note that the layer norms are applied before it goes into self-attention or ff, per token\n",
    "        return x\n",
    "\n",
    "# super simple bigram model\n",
    "class BigramLanguageModel(nn.Module):\n",
    "\n",
    "    def __init__(self):\n",
    "        super().__init__()\n",
    "        # each token directly reads off the logits for the next token from a lookup table\n",
    "        self.token_embedding_table = nn.Embedding(vocab_size, n_embd)\n",
    "        self.position_embedding_table = nn.Embedding(block_size, n_embd)\n",
    "        self.blocks = nn.Sequential(*[Block(n_embd, n_head=n_head) for _ in range(n_layer)])\n",
    "        # now the network starts to get really deep: suffers from computation problems, two ways to address this: (see Add & Norm in the figure)\n",
    "        # 1. skip (residual) connections, see https://github.com/KaimingHe/deep-residual-networks (lets gradients pass through and lets blocks adjust them gradually)\n",
    "        # 2. layer norms = Norm: similar to batch normalization: ensure each neuron has unit Gaussian distribution accross batch dimension\n",
    "        self.ln_f = nn.LayerNorm(n_embd)  # final layer norm (now it is more common to norm before the computations unlike in the trafo paper - called prenorm)\n",
    "        self.lm_head = nn.Linear(n_embd, vocab_size)\n",
    "\n",
    "    def forward(self, idx, targets=None):\n",
    "        B, T = idx.shape\n",
    "\n",
    "        # idx and targets are both (B,T) tensor of integers\n",
    "        tok_emb = self.token_embedding_table(idx)  # (B,T,C)\n",
    "        pos_emb = self.position_embedding_table(torch.arange(T, device=device))  # (T,C)\n",
    "        x = tok_emb + pos_emb  # (B,T,C)\n",
    "        x = self.blocks(x)  # (B,T,C)\n",
    "        x = self.ln_f(x)  # (B,T,C)\n",
    "        logits = self.lm_head(x)  # (B,T,vocab_size)\n",
    "\n",
    "        if targets is None:\n",
    "            loss = None\n",
    "        else:\n",
    "            B, T, C = logits.shape\n",
    "            logits = logits.view(B*T, C)\n",
    "            targets = targets.view(B*T)\n",
    "            loss = F.cross_entropy(logits, targets)\n",
    "\n",
    "        return logits, loss\n",
    "\n",
    "    def generate(self, idx, max_new_tokens):\n",
    "        # idx is (B, T) array of indices in the current context\n",
    "        for _ in range(max_new_tokens):\n",
    "            # crop idx to the last block_size tokens (idx also has the PE so we need to crop) (not doing this causes a CUDA error due to index out of bounds)\n",
    "            idx_cond = idx[:, -block_size:]\n",
    "            # get the predictions\n",
    "            logits, loss = self(idx_cond)\n",
    "            # focus only on the last time step\n",
    "            logits = logits[:, -1, :] # becomes (B, C)\n",
    "            # apply softmax to get probabilities\n",
    "            probs = F.softmax(logits, dim=-1) # (B, C)\n",
    "            # sample from the distribution\n",
    "            idx_next = torch.multinomial(probs, num_samples=1) # (B, 1)\n",
    "            # append sampled index to the running sequence\n",
    "            idx = torch.cat((idx, idx_next), dim=1) # (B, T+1)\n",
    "        return idx\n",
    "\n",
    "model = BigramLanguageModel()\n",
    "m = model.to(device)\n",
    "# print the number of parameters in the model\n",
    "print(sum(p.numel() for p in m.parameters())/1e6, 'M parameters')\n",
    "\n",
    "# create a PyTorch optimizer\n",
    "optimizer = torch.optim.AdamW(model.parameters(), lr=learning_rate)\n",
    "\n",
    "for iter in range(max_iters):\n",
    "\n",
    "    # every once in a while evaluate the loss on train and val sets\n",
    "    if iter % eval_interval == 0 or iter == max_iters - 1:\n",
    "        losses = estimate_loss()\n",
    "        print(f\"step {iter}: train loss {losses['train']:.4f}, val loss {losses['val']:.4f}\")\n",
    "\n",
    "    # sample a batch of data\n",
    "    xb, yb = get_batch('train')\n",
    "\n",
    "    # evaluate the loss\n",
    "    logits, loss = model(xb, yb)\n",
    "    optimizer.zero_grad(set_to_none=True)\n",
    "    loss.backward()\n",
    "    optimizer.step()\n",
    "\n",
    "# generate from the model\n",
    "context = torch.zeros((1, 1), dtype=torch.long, device=device)\n",
    "print(decode(m.generate(context, max_new_tokens=2000)[0].tolist()))"
   ]
  },
  {
   "cell_type": "code",
   "execution_count": 4,
   "id": "ca2f489d-268c-4597-8b69-648b01f6e2c3",
   "metadata": {},
   "outputs": [],
   "source": [
    "# increase input text file length\n",
    "\n",
    "with open('input_sp0.txt', 'r', encoding='utf-8') as f:\n",
    "    text = f.read()\n",
    "\n",
    "text += ' ' + text\n",
    "\n",
    "# Writing to file\n",
    "with open(\"input_sp1.txt\", \"w\") as f:\n",
    "    # Writing data to a file\n",
    "    f.write(text)\n"
   ]
  },
  {
   "cell_type": "code",
   "execution_count": null,
   "id": "cb8468a3-2570-42c0-ba6e-6563b663bedb",
   "metadata": {},
   "outputs": [],
   "source": [
    "# with double the file length there is barely any overfitting"
   ]
  },
  {
   "cell_type": "code",
   "execution_count": 5,
   "id": "2958ffdc-b81b-4b96-a181-3c84bfc28abe",
   "metadata": {},
   "outputs": [
    {
     "name": "stdout",
     "output_type": "stream",
     "text": [
      "0.209729 M parameters\n",
      "step 0: train loss 4.4086, val loss 4.4042\n",
      "step 100: train loss 2.6523, val loss 2.6555\n",
      "step 200: train loss 2.4994, val loss 2.5055\n",
      "step 300: train loss 2.4131, val loss 2.4304\n",
      "step 400: train loss 2.3452, val loss 2.3614\n",
      "step 500: train loss 2.3022, val loss 2.3056\n",
      "step 600: train loss 2.2582, val loss 2.2726\n",
      "step 700: train loss 2.1969, val loss 2.2117\n",
      "step 800: train loss 2.1801, val loss 2.1993\n",
      "step 900: train loss 2.1333, val loss 2.1499\n",
      "step 1000: train loss 2.1000, val loss 2.1186\n",
      "step 1100: train loss 2.0730, val loss 2.0943\n",
      "step 1200: train loss 2.0477, val loss 2.0648\n",
      "step 1300: train loss 2.0169, val loss 2.0488\n",
      "step 1400: train loss 1.9951, val loss 2.0256\n",
      "step 1500: train loss 1.9823, val loss 2.0090\n",
      "step 1600: train loss 1.9570, val loss 1.9924\n",
      "step 1700: train loss 1.9489, val loss 1.9794\n",
      "step 1800: train loss 1.9309, val loss 1.9527\n",
      "step 1900: train loss 1.9167, val loss 1.9405\n",
      "step 2000: train loss 1.9054, val loss 1.9344\n",
      "step 2100: train loss 1.8814, val loss 1.9159\n",
      "step 2200: train loss 1.8730, val loss 1.9115\n",
      "step 2300: train loss 1.8536, val loss 1.8940\n",
      "step 2400: train loss 1.8494, val loss 1.8806\n",
      "step 2500: train loss 1.8401, val loss 1.8838\n",
      "step 2600: train loss 1.8241, val loss 1.8825\n",
      "step 2700: train loss 1.8399, val loss 1.8631\n",
      "step 2800: train loss 1.8001, val loss 1.8441\n",
      "step 2900: train loss 1.8016, val loss 1.8412\n",
      "step 3000: train loss 1.7843, val loss 1.8352\n",
      "step 3100: train loss 1.7932, val loss 1.8227\n",
      "step 3200: train loss 1.7713, val loss 1.8175\n",
      "step 3300: train loss 1.7803, val loss 1.8218\n",
      "step 3400: train loss 1.7521, val loss 1.8043\n",
      "step 3500: train loss 1.7470, val loss 1.8029\n",
      "step 3600: train loss 1.7350, val loss 1.7928\n",
      "step 3700: train loss 1.7410, val loss 1.7941\n",
      "step 3800: train loss 1.7427, val loss 1.7826\n",
      "step 3900: train loss 1.7279, val loss 1.7711\n",
      "step 4000: train loss 1.7267, val loss 1.7777\n",
      "step 4100: train loss 1.7266, val loss 1.7800\n",
      "step 4200: train loss 1.7196, val loss 1.7741\n",
      "step 4300: train loss 1.7167, val loss 1.7589\n",
      "step 4400: train loss 1.7072, val loss 1.7543\n",
      "step 4500: train loss 1.6957, val loss 1.7477\n",
      "step 4600: train loss 1.6910, val loss 1.7342\n",
      "step 4700: train loss 1.6940, val loss 1.7280\n",
      "step 4800: train loss 1.6937, val loss 1.7253\n",
      "step 4900: train loss 1.6836, val loss 1.7233\n",
      "step 4999: train loss 1.6705, val loss 1.7250\n",
      "\n",
      "And they brides? and is the thratiest bubson envy\n",
      "graves me?\n",
      "I'll such hapge us hath but he than ane away, my fachoun of yeou:\n",
      "Yours, toffice come milind!\n",
      "\n",
      "AUCHIO:\n",
      "Yet? not will is therevers, and Will.\n",
      "\n",
      "DUKE WARWARD:\n",
      "No dam; whell he courivy: thy baids\n",
      "Whery hold naught for this lost\n",
      "For sworlices!\n",
      "\n",
      "Kord-SIAR have is all, and forth,\n",
      "The shience poor of he trume kindnunture,\n",
      "I'll somistan: there if Morath,\n",
      "Madarious whom.\n",
      "\n",
      "HENRY:\n",
      "Hark, but and dapbrucisome, thining muste.\n",
      "\n",
      "ANTHIO:\n",
      "Some for Edvall:\n",
      "The nature, grives you had than\n",
      "brotherss to peomes.\n",
      "\n",
      "MARINA:\n",
      "And whom such swond thee bods.\n",
      "\n",
      "Thundrafs:\n",
      "It sout might. Andiars, that work.\n",
      "\n",
      "LADY:\n",
      "To heaven to deding!\n",
      "\n",
      "KAPURENIUS:\n",
      "It some so upon soxecresitates:\n",
      "Whith loves, sheik housed\n",
      "My verear mone.\n",
      "\n",
      "CAPULIO:\n",
      "I againce uncested To wiftly long'd to so lack.\n",
      "\n",
      "Prive, more how:\n",
      "Prowe. My have brother, drue?\n",
      "Forse this of Mise thee now.\n",
      "\n",
      "Securace:\n",
      "And and wwhat thou truch all Edwlies kings that Of thy it.\n",
      "Thou chotive wout it forc;\n",
      "you consome her conjure\n",
      "As afged to two no where Mource in the prive\n",
      "Sanced, we backe of word\n",
      "As be resentings so tears\n",
      "Singing the beather Were wown,\n",
      "Doscal freavened him evInd\n",
      "My all the call acting--and inkeed,\n",
      "Alament theirse, thing brother to-suriese wown,\n",
      "And the joy adword, we\n",
      "than Turle; I pritume\n",
      "of thee tremes defry worsum hand,\n",
      "Shall be scive it is caper's losty donancle,\n",
      "My lord thy blord?\n",
      "Good vone, the town, must than thy but a thindernumty may\n",
      "Sir teny, delelige, inso, I have farrow'dly,\n",
      "Thee be most of you; and plock, say, as;\n",
      "Rever two kive, scace:\n",
      "One.\n",
      "\n",
      "Preton;\n",
      "Let see we hows is thou Lord drieving agaiLery.\n",
      "\n",
      "The happher\n",
      "'Tward, come roude. That was should,\n",
      "Beath, could him, by ass--'tight of Take twake\n",
      "And then: the wifly this father\n",
      "heaven, thou with art, lives?\n",
      "There, we twrither bonouroward's of rewburses how in to lift?\n",
      "\n",
      "CLESCES:\n",
      "Nay, to thee, of Sack you.\n",
      "\n",
      "GLOUCESTER:\n",
      "My have you Lose trowna. Came you stan,\n",
      "Jorfor parforit briefuse whom foold his suppecour husbavingbrailie\n"
     ]
    }
   ],
   "source": [
    "import torch\n",
    "import torch.nn as nn\n",
    "from torch.nn import functional as F\n",
    "\n",
    "# hyperparameters\n",
    "batch_size = 16  # how many independent sequences will we process in parallel?\n",
    "block_size = 32  # what is the maximum context length for predictions?\n",
    "max_iters = 5000\n",
    "eval_interval = 100\n",
    "learning_rate = 1e-3\n",
    "device = 'cuda' if torch.cuda.is_available() else 'cpu'\n",
    "eval_iters = 200\n",
    "n_embd = 64\n",
    "n_head = 4\n",
    "n_layer = 4\n",
    "dropout = 0.0\n",
    "# ------------\n",
    "\n",
    "torch.manual_seed(1337)\n",
    "\n",
    "# wget https://raw.githubusercontent.com/karpathy/char-rnn/master/data/tinyshakespeare/input.txt\n",
    "with open('input_sp1.txt', 'r', encoding='utf-8') as f:\n",
    "    text = f.read()\n",
    "\n",
    "# here are all the unique characters that occur in this text\n",
    "chars = sorted(list(set(text)))\n",
    "vocab_size = len(chars)\n",
    "# create a mapping from characters to integers\n",
    "stoi = { ch:i for i,ch in enumerate(chars) }\n",
    "itos = { i:ch for i,ch in enumerate(chars) }\n",
    "encode = lambda s: [stoi[c] for c in s] # encoder: take a string, output a list of integers\n",
    "decode = lambda l: ''.join([itos[i] for i in l]) # decoder: take a list of integers, output a string\n",
    "\n",
    "# Train and test splits\n",
    "data = torch.tensor(encode(text), dtype=torch.long)\n",
    "n = int(0.9*len(data)) # first 90% will be train, rest val\n",
    "train_data = data[:n]\n",
    "val_data = data[n:]\n",
    "\n",
    "# data loading\n",
    "def get_batch(split):\n",
    "    # generate a small batch of data of inputs x and targets y\n",
    "    data = train_data if split == 'train' else val_data\n",
    "    ix = torch.randint(len(data) - block_size, (batch_size,))\n",
    "    x = torch.stack([data[i:i+block_size] for i in ix])\n",
    "    y = torch.stack([data[i+1:i+block_size+1] for i in ix])\n",
    "    x, y = x.to(device), y.to(device)\n",
    "    return x, y\n",
    "\n",
    "@torch.no_grad()\n",
    "def estimate_loss():\n",
    "    out = {}\n",
    "    model.eval()\n",
    "    for split in ['train', 'val']:\n",
    "        losses = torch.zeros(eval_iters)\n",
    "        for k in range(eval_iters):\n",
    "            X, Y = get_batch(split)\n",
    "            logits, loss = model(X, Y)\n",
    "            losses[k] = loss.item()\n",
    "        out[split] = losses.mean()\n",
    "    model.train()\n",
    "    return out\n",
    "\n",
    "class Head(nn.Module):  # the heads handle the attention - the communication between the nodes (tokens)\n",
    "    \"\"\" one head of self-attention \"\"\"\n",
    "\n",
    "    def __init__(self, head_size):  # takes headsize\n",
    "        super().__init__()\n",
    "        self.key = nn.Linear(n_embd, head_size, bias=False)  # k,q,v like above\n",
    "        self.query = nn.Linear(n_embd, head_size, bias=False)\n",
    "        self.value = nn.Linear(n_embd, head_size, bias=False)\n",
    "        self.register_buffer('tril', torch.tril(torch.ones(block_size, block_size)))  # tril is not a parameter of the model, a buffer in pytorch lingo\n",
    "        # (so it does not get picked up by autograd)\n",
    "\n",
    "        self.dropout = nn.Dropout(dropout)\n",
    "\n",
    "    def forward(self, x):\n",
    "        B,T,C = x.shape\n",
    "        k = self.key(x)   # (B,T,C)\n",
    "        q = self.query(x)  # (B,T,C)\n",
    "        # compute attention scores (\"affinities\")\n",
    "        wei = q @ k.transpose(-2,-1) * C**-0.5  # (B, T, C) @ (B, C, T) -> (B, T, T)\n",
    "        wei = wei.masked_fill(self.tril[:T, :T] == 0, float('-inf'))  # (B, T, T)\n",
    "        wei = F.softmax(wei, dim=-1) # (B, T, T)\n",
    "        wei = self.dropout(wei)\n",
    "        # perform the weighted aggregation of the values\n",
    "        v = self.value(x)  # (B,T,C)\n",
    "        out = wei @ v  # (B, T, T) @ (B, T, C) -> (B, T, C)\n",
    "        return out\n",
    "\n",
    "class MultiHeadAttention(nn.Module):\n",
    "    \"\"\" multiple heads of self-attention in parallel \"\"\"\n",
    "\n",
    "    def __init__(self, num_heads, head_size):\n",
    "        super().__init__()\n",
    "        self.heads = nn.ModuleList([Head(head_size) for _ in range(num_heads)])  # pytorch makes this easy for us, passing just a list of heads\n",
    "        self.proj = nn.Linear(n_embd, n_embd)  # project back into the original pathway\n",
    "        self.dropout = nn.Dropout(dropout)\n",
    "\n",
    "    def forward(self, x):\n",
    "        out = torch.cat([h(x) for h in self.heads], dim=-1)  # just concatinate the results, concat over channel dimension (dim=-1)\n",
    "        out = self.dropout(self.proj(out))\n",
    "        return out\n",
    "\n",
    "class FeedFoward(nn.Module):  # this handles the per-token (node) computation\n",
    "    \"\"\" a simple linear layer followed by a non-linearity \"\"\"\n",
    "\n",
    "    def __init__(self, n_embd):\n",
    "        super().__init__()\n",
    "        self.net = nn.Sequential(\n",
    "            nn.Linear(n_embd, 4 * n_embd),  # the inner ff layer has 4 times the embedding dimension (to grow the computation on the residual pathway)\n",
    "            nn.ReLU(),\n",
    "            nn.Linear(4 * n_embd, n_embd),  # this is the projection layer going back into the original pathway (for the skip-connection) and going down from 4x\n",
    "            nn.Dropout(dropout),  # added right before the residual pathway comes back (dropout trains subnetworks by randomly shutting off neurons)\n",
    "        )\n",
    "\n",
    "    def forward(self, x):\n",
    "        return self.net(x)  # this is at a per token level: they think on all the attention data they got individually\n",
    "\n",
    "class Block(nn.Module):\n",
    "    \"\"\" Transformer block: communication followed by computation \"\"\"\n",
    "\n",
    "    def __init__(self, n_embd, n_head):\n",
    "        # n_embd: embedding dimension, n_head: the number of heads we'd like\n",
    "        super().__init__()\n",
    "        head_size = n_embd // n_head  # watch out that it works out channelwise (e.g. 32 embedding, 4 heads, 8 headsize)\n",
    "        self.sa = MultiHeadAttention(n_head, head_size)  # the heads running in parallel - the communication\n",
    "        self.ffwd = FeedFoward(n_embd)  # simple feedforward: at token level, all tokens do this independently: gathered all info from attention, think on it\n",
    "        # the ff does the computations\n",
    "        self.ln1 = nn.LayerNorm(n_embd)\n",
    "        self.ln2 = nn.LayerNorm(n_embd)\n",
    "\n",
    "    def forward(self, x):  # with skip connection, forking off direct gradient pass-through and block adjustments\n",
    "        x = x + self.sa(self.ln1(x))  # the x + is the skip connection: it lets the gradient pass through (particularly initially), then the blocks adjust\n",
    "        x = x + self.ffwd(self.ln2(x))  # note that the layer norms are applied before it goes into self-attention or ff, per token\n",
    "        return x\n",
    "\n",
    "# super simple bigram model\n",
    "class BigramLanguageModel(nn.Module):\n",
    "\n",
    "    def __init__(self):\n",
    "        super().__init__()\n",
    "        # each token directly reads off the logits for the next token from a lookup table\n",
    "        self.token_embedding_table = nn.Embedding(vocab_size, n_embd)\n",
    "        self.position_embedding_table = nn.Embedding(block_size, n_embd)\n",
    "        self.blocks = nn.Sequential(*[Block(n_embd, n_head=n_head) for _ in range(n_layer)])\n",
    "        # now the network starts to get really deep: suffers from computation problems, two ways to address this: (see Add & Norm in the figure)\n",
    "        # 1. skip (residual) connections, see https://github.com/KaimingHe/deep-residual-networks (lets gradients pass through and lets blocks adjust them gradually)\n",
    "        # 2. layer norms = Norm: similar to batch normalization: ensure each neuron has unit Gaussian distribution accross batch dimension\n",
    "        self.ln_f = nn.LayerNorm(n_embd)  # final layer norm (now it is more common to norm before the computations unlike in the trafo paper - called prenorm)\n",
    "        self.lm_head = nn.Linear(n_embd, vocab_size)\n",
    "\n",
    "    def forward(self, idx, targets=None):\n",
    "        B, T = idx.shape\n",
    "\n",
    "        # idx and targets are both (B,T) tensor of integers\n",
    "        tok_emb = self.token_embedding_table(idx)  # (B,T,C)\n",
    "        pos_emb = self.position_embedding_table(torch.arange(T, device=device))  # (T,C)\n",
    "        x = tok_emb + pos_emb  # (B,T,C)\n",
    "        x = self.blocks(x)  # (B,T,C)\n",
    "        x = self.ln_f(x)  # (B,T,C)\n",
    "        logits = self.lm_head(x)  # (B,T,vocab_size)\n",
    "\n",
    "        if targets is None:\n",
    "            loss = None\n",
    "        else:\n",
    "            B, T, C = logits.shape\n",
    "            logits = logits.view(B*T, C)\n",
    "            targets = targets.view(B*T)\n",
    "            loss = F.cross_entropy(logits, targets)\n",
    "\n",
    "        return logits, loss\n",
    "\n",
    "    def generate(self, idx, max_new_tokens):\n",
    "        # idx is (B, T) array of indices in the current context\n",
    "        for _ in range(max_new_tokens):\n",
    "            # crop idx to the last block_size tokens (idx also has the PE so we need to crop) (not doing this causes a CUDA error due to index out of bounds)\n",
    "            idx_cond = idx[:, -block_size:]\n",
    "            # get the predictions\n",
    "            logits, loss = self(idx_cond)\n",
    "            # focus only on the last time step\n",
    "            logits = logits[:, -1, :] # becomes (B, C)\n",
    "            # apply softmax to get probabilities\n",
    "            probs = F.softmax(logits, dim=-1) # (B, C)\n",
    "            # sample from the distribution\n",
    "            idx_next = torch.multinomial(probs, num_samples=1) # (B, 1)\n",
    "            # append sampled index to the running sequence\n",
    "            idx = torch.cat((idx, idx_next), dim=1) # (B, T+1)\n",
    "        return idx\n",
    "\n",
    "model = BigramLanguageModel()\n",
    "m = model.to(device)\n",
    "# print the number of parameters in the model\n",
    "print(sum(p.numel() for p in m.parameters())/1e6, 'M parameters')\n",
    "\n",
    "# create a PyTorch optimizer\n",
    "optimizer = torch.optim.AdamW(model.parameters(), lr=learning_rate)\n",
    "\n",
    "for iter in range(max_iters):\n",
    "\n",
    "    # every once in a while evaluate the loss on train and val sets\n",
    "    if iter % eval_interval == 0 or iter == max_iters - 1:\n",
    "        losses = estimate_loss()\n",
    "        print(f\"step {iter}: train loss {losses['train']:.4f}, val loss {losses['val']:.4f}\")\n",
    "\n",
    "    # sample a batch of data\n",
    "    xb, yb = get_batch('train')\n",
    "\n",
    "    # evaluate the loss\n",
    "    logits, loss = model(xb, yb)\n",
    "    optimizer.zero_grad(set_to_none=True)\n",
    "    loss.backward()\n",
    "    optimizer.step()\n",
    "\n",
    "# generate from the model\n",
    "context = torch.zeros((1, 1), dtype=torch.long, device=device)\n",
    "print(decode(m.generate(context, max_new_tokens=2000)[0].tolist()))"
   ]
  },
  {
   "cell_type": "code",
   "execution_count": 7,
   "id": "f719853f-0d76-4298-833c-a4a5c8e344fd",
   "metadata": {},
   "outputs": [],
   "source": [
    "# byte-pair encoding\n",
    "# https://ufal.mff.cuni.cz/~helcl/courses/npfl116/ipython/byte_pair_encoding.html\n",
    "\n",
    "import re, collections\n",
    "\n",
    "def get_stats(vocab):\n",
    "    \"\"\"Compute frequencies of adjacent pairs of symbols.\"\"\"\n",
    "    pairs = collections.defaultdict(int)\n",
    "    for word, freq in vocab.items():\n",
    "        symbols = word.split()\n",
    "        for i in range(len(symbols)-1):\n",
    "            pairs[symbols[i],symbols[i+1]] += freq\n",
    "    return pairs\n",
    "\n",
    "def merge_vocab(pair, v_in):\n",
    "    v_out = {}\n",
    "    bigram = re.escape(' '.join(pair))\n",
    "    p = re.compile(r'(?<!\\S)' + bigram + r'(?!\\S)')\n",
    "    for word in v_in:\n",
    "        w_out = p.sub(''.join(pair), word)\n",
    "        v_out[w_out] = v_in[word]\n",
    "    return v_out\n",
    "\n"
   ]
  },
  {
   "cell_type": "code",
   "execution_count": 29,
   "id": "33617212-d1fb-463f-87f1-071a137f8627",
   "metadata": {},
   "outputs": [
    {
     "data": {
      "text/markdown": [
       "### Iteration 1"
      ],
      "text/plain": [
       "<IPython.core.display.Markdown object>"
      ]
     },
     "metadata": {},
     "output_type": "display_data"
    },
    {
     "name": "stdout",
     "output_type": "stream",
     "text": [
      "new merge: ('e', 's')\n",
      "train data: {'l o w </w>': 5, 'l o w e r </w>': 2, 'n e w es t </w>': 6, 'w i d es t </w>': 3}\n"
     ]
    },
    {
     "data": {
      "text/markdown": [
       "### Iteration 2"
      ],
      "text/plain": [
       "<IPython.core.display.Markdown object>"
      ]
     },
     "metadata": {},
     "output_type": "display_data"
    },
    {
     "name": "stdout",
     "output_type": "stream",
     "text": [
      "new merge: ('es', 't')\n",
      "train data: {'l o w </w>': 5, 'l o w e r </w>': 2, 'n e w est </w>': 6, 'w i d est </w>': 3}\n"
     ]
    },
    {
     "data": {
      "text/markdown": [
       "### Iteration 3"
      ],
      "text/plain": [
       "<IPython.core.display.Markdown object>"
      ]
     },
     "metadata": {},
     "output_type": "display_data"
    },
    {
     "name": "stdout",
     "output_type": "stream",
     "text": [
      "new merge: ('est', '</w>')\n",
      "train data: {'l o w </w>': 5, 'l o w e r </w>': 2, 'n e w est</w>': 6, 'w i d est</w>': 3}\n"
     ]
    },
    {
     "data": {
      "text/markdown": [
       "### Iteration 4"
      ],
      "text/plain": [
       "<IPython.core.display.Markdown object>"
      ]
     },
     "metadata": {},
     "output_type": "display_data"
    },
    {
     "name": "stdout",
     "output_type": "stream",
     "text": [
      "new merge: ('l', 'o')\n",
      "train data: {'lo w </w>': 5, 'lo w e r </w>': 2, 'n e w est</w>': 6, 'w i d est</w>': 3}\n"
     ]
    },
    {
     "data": {
      "text/markdown": [
       "### Iteration 5"
      ],
      "text/plain": [
       "<IPython.core.display.Markdown object>"
      ]
     },
     "metadata": {},
     "output_type": "display_data"
    },
    {
     "name": "stdout",
     "output_type": "stream",
     "text": [
      "new merge: ('lo', 'w')\n",
      "train data: {'low </w>': 5, 'low e r </w>': 2, 'n e w est</w>': 6, 'w i d est</w>': 3}\n"
     ]
    },
    {
     "data": {
      "text/markdown": [
       "### Iteration 6"
      ],
      "text/plain": [
       "<IPython.core.display.Markdown object>"
      ]
     },
     "metadata": {},
     "output_type": "display_data"
    },
    {
     "name": "stdout",
     "output_type": "stream",
     "text": [
      "new merge: ('n', 'e')\n",
      "train data: {'low </w>': 5, 'low e r </w>': 2, 'ne w est</w>': 6, 'w i d est</w>': 3}\n"
     ]
    },
    {
     "data": {
      "text/markdown": [
       "### Iteration 7"
      ],
      "text/plain": [
       "<IPython.core.display.Markdown object>"
      ]
     },
     "metadata": {},
     "output_type": "display_data"
    },
    {
     "name": "stdout",
     "output_type": "stream",
     "text": [
      "new merge: ('ne', 'w')\n",
      "train data: {'low </w>': 5, 'low e r </w>': 2, 'new est</w>': 6, 'w i d est</w>': 3}\n"
     ]
    },
    {
     "data": {
      "text/markdown": [
       "### Iteration 8"
      ],
      "text/plain": [
       "<IPython.core.display.Markdown object>"
      ]
     },
     "metadata": {},
     "output_type": "display_data"
    },
    {
     "name": "stdout",
     "output_type": "stream",
     "text": [
      "new merge: ('new', 'est</w>')\n",
      "train data: {'low </w>': 5, 'low e r </w>': 2, 'newest</w>': 6, 'w i d est</w>': 3}\n"
     ]
    },
    {
     "data": {
      "text/markdown": [
       "### Iteration 9"
      ],
      "text/plain": [
       "<IPython.core.display.Markdown object>"
      ]
     },
     "metadata": {},
     "output_type": "display_data"
    },
    {
     "name": "stdout",
     "output_type": "stream",
     "text": [
      "new merge: ('low', '</w>')\n",
      "train data: {'low</w>': 5, 'low e r </w>': 2, 'newest</w>': 6, 'w i d est</w>': 3}\n"
     ]
    },
    {
     "data": {
      "text/markdown": [
       "### Iteration 10"
      ],
      "text/plain": [
       "<IPython.core.display.Markdown object>"
      ]
     },
     "metadata": {},
     "output_type": "display_data"
    },
    {
     "name": "stdout",
     "output_type": "stream",
     "text": [
      "new merge: ('w', 'i')\n",
      "train data: {'low</w>': 5, 'low e r </w>': 2, 'newest</w>': 6, 'wi d est</w>': 3}\n"
     ]
    },
    {
     "data": {
      "text/markdown": [
       "### Iteration 11"
      ],
      "text/plain": [
       "<IPython.core.display.Markdown object>"
      ]
     },
     "metadata": {},
     "output_type": "display_data"
    },
    {
     "name": "stdout",
     "output_type": "stream",
     "text": [
      "new merge: ('wi', 'd')\n",
      "train data: {'low</w>': 5, 'low e r </w>': 2, 'newest</w>': 6, 'wid est</w>': 3}\n"
     ]
    },
    {
     "data": {
      "text/markdown": [
       "### Iteration 12"
      ],
      "text/plain": [
       "<IPython.core.display.Markdown object>"
      ]
     },
     "metadata": {},
     "output_type": "display_data"
    },
    {
     "name": "stdout",
     "output_type": "stream",
     "text": [
      "new merge: ('wid', 'est</w>')\n",
      "train data: {'low</w>': 5, 'low e r </w>': 2, 'newest</w>': 6, 'widest</w>': 3}\n"
     ]
    },
    {
     "data": {
      "text/markdown": [
       "### Iteration 13"
      ],
      "text/plain": [
       "<IPython.core.display.Markdown object>"
      ]
     },
     "metadata": {},
     "output_type": "display_data"
    },
    {
     "name": "stdout",
     "output_type": "stream",
     "text": [
      "new merge: ('low', 'e')\n",
      "train data: {'low</w>': 5, 'lowe r </w>': 2, 'newest</w>': 6, 'widest</w>': 3}\n"
     ]
    },
    {
     "data": {
      "text/markdown": [
       "### Iteration 14"
      ],
      "text/plain": [
       "<IPython.core.display.Markdown object>"
      ]
     },
     "metadata": {},
     "output_type": "display_data"
    },
    {
     "name": "stdout",
     "output_type": "stream",
     "text": [
      "new merge: ('lowe', 'r')\n",
      "train data: {'low</w>': 5, 'lower </w>': 2, 'newest</w>': 6, 'widest</w>': 3}\n"
     ]
    },
    {
     "data": {
      "text/markdown": [
       "### Iteration 15"
      ],
      "text/plain": [
       "<IPython.core.display.Markdown object>"
      ]
     },
     "metadata": {},
     "output_type": "display_data"
    },
    {
     "name": "stdout",
     "output_type": "stream",
     "text": [
      "new merge: ('lower', '</w>')\n",
      "train data: {'low</w>': 5, 'lower</w>': 2, 'newest</w>': 6, 'widest</w>': 3}\n",
      "{('e', 's'): 0, ('es', 't'): 1, ('est', '</w>'): 2, ('l', 'o'): 3, ('lo', 'w'): 4, ('n', 'e'): 5, ('ne', 'w'): 6, ('new', 'est</w>'): 7, ('low', '</w>'): 8, ('w', 'i'): 9, ('wi', 'd'): 10, ('wid', 'est</w>'): 11, ('low', 'e'): 12, ('lowe', 'r'): 13, ('lower', '</w>'): 14}\n"
     ]
    }
   ],
   "source": [
    "from IPython.display import display, Markdown, Latex\n",
    "\n",
    "train_data = {'l o w </w>': 5, 'l o w e r </w>': 2, 'n e w e s t </w>': 6, 'w i d e s t </w>': 3}  # word: frequency\n",
    "\n",
    "bpe_codes = {}\n",
    "bpe_codes_reverse = {}\n",
    "\n",
    "num_merges = 15\n",
    "\n",
    "for i in range(num_merges):\n",
    "    display(Markdown(\"### Iteration {}\".format(i + 1)))\n",
    "    pairs = get_stats(train_data)\n",
    "    best = max(pairs, key=pairs.get)\n",
    "    train_data = merge_vocab(best, train_data)\n",
    "    \n",
    "    bpe_codes[best] = i\n",
    "    bpe_codes_reverse[best[0] + best[1]] = best\n",
    "    \n",
    "    print(\"new merge: {}\".format(best))\n",
    "    print(\"train data: {}\".format(train_data))\n",
    "\n",
    "print(bpe_codes)"
   ]
  },
  {
   "cell_type": "code",
   "execution_count": 9,
   "id": "e83dc3dd-c668-4edf-8928-a63a2262c5ff",
   "metadata": {},
   "outputs": [],
   "source": [
    "def get_pairs(word):\n",
    "    \"\"\"Return set of symbol pairs in a word.\n",
    "    Word is represented as a tuple of symbols (symbols being variable-length strings).\n",
    "    \"\"\"\n",
    "    pairs = set()\n",
    "    prev_char = word[0]\n",
    "    for char in word[1:]:\n",
    "        pairs.add((prev_char, char))\n",
    "        prev_char = char\n",
    "    return pairs\n",
    "\n",
    "\n",
    "def encode(orig):\n",
    "    \"\"\"Encode word based on list of BPE merge operations, which are applied consecutively\"\"\"\n",
    "\n",
    "    word = tuple(orig) + ('</w>',)\n",
    "    display(Markdown(\"__word split into characters:__ <tt>{}</tt>\".format(word)))\n",
    "\n",
    "    pairs = get_pairs(word)    \n",
    "\n",
    "    if not pairs:\n",
    "        return orig\n",
    "\n",
    "    iteration = 0\n",
    "    while True:\n",
    "        iteration += 1\n",
    "        display(Markdown(\"__Iteration {}:__\".format(iteration)))\n",
    "        \n",
    "        print(\"bigrams in the word: {}\".format(pairs))\n",
    "        bigram = min(pairs, key = lambda pair: bpe_codes.get(pair, float('inf')))\n",
    "        print(\"candidate for merging: {}\".format(bigram))\n",
    "        if bigram not in bpe_codes:\n",
    "            display(Markdown(\"__Candidate not in BPE merges, algorithm stops.__\"))\n",
    "            break\n",
    "        first, second = bigram\n",
    "        new_word = []\n",
    "        i = 0\n",
    "        while i < len(word):\n",
    "            try:\n",
    "                j = word.index(first, i)\n",
    "                new_word.extend(word[i:j])\n",
    "                i = j\n",
    "            except:\n",
    "                new_word.extend(word[i:])\n",
    "                break\n",
    "\n",
    "            if word[i] == first and i < len(word)-1 and word[i+1] == second:\n",
    "                new_word.append(first+second)\n",
    "                i += 2\n",
    "            else:\n",
    "                new_word.append(word[i])\n",
    "                i += 1\n",
    "        new_word = tuple(new_word)\n",
    "        word = new_word\n",
    "        print(\"word after merging: {}\".format(word))\n",
    "        if len(word) == 1:\n",
    "            break\n",
    "        else:\n",
    "            pairs = get_pairs(word)\n",
    "\n",
    "    # don't print end-of-word symbols\n",
    "    if word[-1] == '</w>':\n",
    "        word = word[:-1]\n",
    "    elif word[-1].endswith('</w>'):\n",
    "        word = word[:-1] + (word[-1].replace('</w>',''),)\n",
    "   \n",
    "    return word"
   ]
  },
  {
   "cell_type": "code",
   "execution_count": 10,
   "id": "13566815-edf9-4700-8969-349d87efee91",
   "metadata": {},
   "outputs": [
    {
     "data": {
      "text/markdown": [
       "__word split into characters:__ <tt>('l', 'o', 'w', 'e', 's', 't', '</w>')</tt>"
      ],
      "text/plain": [
       "<IPython.core.display.Markdown object>"
      ]
     },
     "metadata": {},
     "output_type": "display_data"
    },
    {
     "data": {
      "text/markdown": [
       "__Iteration 1:__"
      ],
      "text/plain": [
       "<IPython.core.display.Markdown object>"
      ]
     },
     "metadata": {},
     "output_type": "display_data"
    },
    {
     "name": "stdout",
     "output_type": "stream",
     "text": [
      "bigrams in the word: {('s', 't'), ('o', 'w'), ('e', 's'), ('w', 'e'), ('t', '</w>'), ('l', 'o')}\n",
      "candidate for merging: ('e', 's')\n",
      "word after merging: ('l', 'o', 'w', 'es', 't', '</w>')\n"
     ]
    },
    {
     "data": {
      "text/markdown": [
       "__Iteration 2:__"
      ],
      "text/plain": [
       "<IPython.core.display.Markdown object>"
      ]
     },
     "metadata": {},
     "output_type": "display_data"
    },
    {
     "name": "stdout",
     "output_type": "stream",
     "text": [
      "bigrams in the word: {('o', 'w'), ('w', 'es'), ('es', 't'), ('t', '</w>'), ('l', 'o')}\n",
      "candidate for merging: ('es', 't')\n",
      "word after merging: ('l', 'o', 'w', 'est', '</w>')\n"
     ]
    },
    {
     "data": {
      "text/markdown": [
       "__Iteration 3:__"
      ],
      "text/plain": [
       "<IPython.core.display.Markdown object>"
      ]
     },
     "metadata": {},
     "output_type": "display_data"
    },
    {
     "name": "stdout",
     "output_type": "stream",
     "text": [
      "bigrams in the word: {('est', '</w>'), ('o', 'w'), ('l', 'o'), ('w', 'est')}\n",
      "candidate for merging: ('est', '</w>')\n",
      "word after merging: ('l', 'o', 'w', 'est</w>')\n"
     ]
    },
    {
     "data": {
      "text/markdown": [
       "__Iteration 4:__"
      ],
      "text/plain": [
       "<IPython.core.display.Markdown object>"
      ]
     },
     "metadata": {},
     "output_type": "display_data"
    },
    {
     "name": "stdout",
     "output_type": "stream",
     "text": [
      "bigrams in the word: {('o', 'w'), ('l', 'o'), ('w', 'est</w>')}\n",
      "candidate for merging: ('l', 'o')\n",
      "word after merging: ('lo', 'w', 'est</w>')\n"
     ]
    },
    {
     "data": {
      "text/markdown": [
       "__Iteration 5:__"
      ],
      "text/plain": [
       "<IPython.core.display.Markdown object>"
      ]
     },
     "metadata": {},
     "output_type": "display_data"
    },
    {
     "name": "stdout",
     "output_type": "stream",
     "text": [
      "bigrams in the word: {('w', 'est</w>'), ('lo', 'w')}\n",
      "candidate for merging: ('lo', 'w')\n",
      "word after merging: ('low', 'est</w>')\n"
     ]
    },
    {
     "data": {
      "text/markdown": [
       "__Iteration 6:__"
      ],
      "text/plain": [
       "<IPython.core.display.Markdown object>"
      ]
     },
     "metadata": {},
     "output_type": "display_data"
    },
    {
     "name": "stdout",
     "output_type": "stream",
     "text": [
      "bigrams in the word: {('low', 'est</w>')}\n",
      "candidate for merging: ('low', 'est</w>')\n"
     ]
    },
    {
     "data": {
      "text/markdown": [
       "__Candidate not in BPE merges, algorithm stops.__"
      ],
      "text/plain": [
       "<IPython.core.display.Markdown object>"
      ]
     },
     "metadata": {},
     "output_type": "display_data"
    },
    {
     "data": {
      "text/plain": [
       "('low', 'est')"
      ]
     },
     "execution_count": 10,
     "metadata": {},
     "output_type": "execute_result"
    }
   ],
   "source": [
    "encode(\"lowest\")"
   ]
  },
  {
   "cell_type": "code",
   "execution_count": 11,
   "id": "172983c9-4724-4658-9fc6-5f185d494654",
   "metadata": {},
   "outputs": [
    {
     "data": {
      "text/plain": [
       "{('e', 's'): 0,\n",
       " ('es', 't'): 1,\n",
       " ('est', '</w>'): 2,\n",
       " ('l', 'o'): 3,\n",
       " ('lo', 'w'): 4,\n",
       " ('n', 'e'): 5,\n",
       " ('ne', 'w'): 6,\n",
       " ('new', 'est</w>'): 7,\n",
       " ('low', '</w>'): 8,\n",
       " ('w', 'i'): 9,\n",
       " ('wi', 'd'): 10,\n",
       " ('wid', 'est</w>'): 11,\n",
       " ('low', 'e'): 12,\n",
       " ('lowe', 'r'): 13,\n",
       " ('lower', '</w>'): 14}"
      ]
     },
     "execution_count": 11,
     "metadata": {},
     "output_type": "execute_result"
    }
   ],
   "source": [
    "bpe_codes"
   ]
  },
  {
   "cell_type": "code",
   "execution_count": 2,
   "id": "8853ce9b-d54c-4919-bf4a-9ab19f041c33",
   "metadata": {},
   "outputs": [],
   "source": [
    "# BPE w/o output\n",
    "def get_pairs(word):\n",
    "    \"\"\"Return set of symbol pairs in a word.\n",
    "    Word is represented as a tuple of symbols (symbols being variable-length strings).\n",
    "    \"\"\"\n",
    "    pairs = set()\n",
    "    prev_char = word[0]\n",
    "    for char in word[1:]:\n",
    "        pairs.add((prev_char, char))\n",
    "        prev_char = char\n",
    "    return pairs\n",
    "    \n",
    "\n",
    "def encode_bp(orig):\n",
    "    \"\"\"Encode word based on list of BPE merge operations, which are applied consecutively\"\"\"\n",
    "\n",
    "    word = tuple(orig) + ('</w>',)\n",
    "    pairs = get_pairs(word)    \n",
    "\n",
    "    if not pairs:\n",
    "        return orig\n",
    "\n",
    "    iteration = 0\n",
    "    while True:\n",
    "        iteration += 1\n",
    "        bigram = min(pairs, key = lambda pair: bpe_codes.get(pair, float('inf')))\n",
    "        if bigram not in bpe_codes:\n",
    "            break\n",
    "        first, second = bigram\n",
    "        new_word = []\n",
    "        i = 0\n",
    "        while i < len(word):\n",
    "            try:\n",
    "                j = word.index(first, i)\n",
    "                new_word.extend(word[i:j])\n",
    "                i = j\n",
    "            except:\n",
    "                new_word.extend(word[i:])\n",
    "                break\n",
    "\n",
    "            if word[i] == first and i < len(word)-1 and word[i+1] == second:\n",
    "                new_word.append(first+second)\n",
    "                i += 2\n",
    "            else:\n",
    "                new_word.append(word[i])\n",
    "                i += 1\n",
    "        new_word = tuple(new_word)\n",
    "        word = new_word\n",
    "        if len(word) == 1:\n",
    "            break\n",
    "        else:\n",
    "            pairs = get_pairs(word)\n",
    "\n",
    "    # don't print end-of-word symbols\n",
    "    if word[-1] == '</w>':\n",
    "        word = word[:-1]\n",
    "    elif word[-1].endswith('</w>'):\n",
    "        word = word[:-1] + (word[-1].replace('</w>',''),)\n",
    "   \n",
    "    return word\n",
    "    "
   ]
  },
  {
   "cell_type": "code",
   "execution_count": 36,
   "id": "69342831-9a47-4b34-9adc-c76ad01d24b6",
   "metadata": {},
   "outputs": [
    {
     "data": {
      "text/plain": [
       "('l', 'o', 'w', 'es', 't')"
      ]
     },
     "execution_count": 36,
     "metadata": {},
     "output_type": "execute_result"
    }
   ],
   "source": [
    "encode_bp(\"lowest\")"
   ]
  },
  {
   "cell_type": "code",
   "execution_count": 55,
   "id": "0b3ee217-a1ca-48eb-b72d-44907c4b704e",
   "metadata": {},
   "outputs": [
    {
     "name": "stdout",
     "output_type": "stream",
     "text": [
      "{'': 1137, 'a': 53, 'abundance': 1, 'account': 2, 'accounted': 1, 'accusations': 1, 'afflicts': 1, 'altitude': 1, 'an': 9, 'and': 1, 'are': 3, 'as': 3, 'authority': 1, 'barren': 1, 'be': 4, 'become': 1, 'bread': 1, 'but': 2, 'can': 2, 'cannot': 1, 'capitol': 0, 'citizen': 1, 'citizens': 1, 'city': 1, 'conscienced': 1, 'content': 1, 'country': 1, 'covetous': 1, 'dear': 1, 'did': 2, 'done': 1, 'end': 1, 'ere': 3, 'even': 3, 'famously': 1, 'faults': 1, 'first': 0, 'for': 4, 'gain': 1, 'gods': 1, 'good': 1, 'guess': 1, 'hath': 2, 'he': 26, 'help': 1, 'here': 1, 'him': 1, 'his': 6, 'humanely': 1, 'hunger': 1, 'i': 75, 'if': 1, 'in': 10, 'inventory': 1, 'is': 14, 'it': 18, 'know': 1, 'leanness': 1, 'let': 0, 'men': 1, 'might': 1, 'misery': 1, 'mother': 1, 'must': 2, 'nature': 1, 'need': 1, 'no': 6, 'not': 4, 'o': 64, 'object': 1, 'of': 4, 'on': 7, 'other': 2, 'our': 3, 'particularise': 1, 'partly': 1, 'patricians': 1, 'pikes': 1, 'please': 1, 'poor': 1, 'prating': 1, 'proud': 1, 'rakes': 1, 'relieve': 2, 'relieved': 1, 'repetition': 1, 'revenge': 2, 'risen': 1, 'say': 3, 'second': 0, 'shouts': 1, 'side': 1, 'soft': 1, 'speak': 1, 'stay': 1, 'sufferance': 1, 'superfluity': 1, 'surfeits': 1, 'surplus': 1, 'that': 2, 'the': 16, 'their': 1, 'them': 1, 'these': 1, 'they': 3, 'think': 1, 'thirst': 1, 'this': 2, 'though': 1, 'till': 1, 'tire': 1, 'to': 13, 'too': 1, 'unto': 1, 'us': 11, 'vice': 1, 'virtue': 1, 'was': 1, 'way': 1, 'we': 5, 'were': 1, 'what': 1, 'which': 1, 'while': 1, 'wholesome': 1, 'why': 1, 'with': 2, 'would': 2, 'yield': 1, 'you': 2}\n",
      "{' </w>': 1137, 'a </w>': 53, 'a b u n d a n c e </w>': 1, 'a c c o u n t </w>': 2, 'a c c o u n t e d </w>': 1, 'a c c u s a t i o n s </w>': 1, 'a f f l i c t s </w>': 1, 'a l t i t u d e </w>': 1, 'a n </w>': 9, 'a n d </w>': 1, 'a r e </w>': 3, 'a s </w>': 3, 'a u t h o r i t y </w>': 1, 'b a r r e n </w>': 1, 'b e </w>': 4, 'b e c o m e </w>': 1, 'b r e a d </w>': 1, 'b u t </w>': 2, 'c a n </w>': 2, 'c a n n o t </w>': 1, 'c a p i t o l </w>': 0, 'c i t i z e n </w>': 1, 'c i t i z e n s </w>': 1, 'c i t y </w>': 1, 'c o n s c i e n c e d </w>': 1, 'c o n t e n t </w>': 1, 'c o u n t r y </w>': 1, 'c o v e t o u s </w>': 1, 'd e a r </w>': 1, 'd i d </w>': 2, 'd o n e </w>': 1, 'e n d </w>': 1, 'e r e </w>': 3, 'e v e n </w>': 3, 'f a m o u s l y </w>': 1, 'f a u l t s </w>': 1, 'f i r s t </w>': 0, 'f o r </w>': 4, 'g a i n </w>': 1, 'g o d s </w>': 1, 'g o o d </w>': 1, 'g u e s s </w>': 1, 'h a t h </w>': 2, 'h e </w>': 26, 'h e l p </w>': 1, 'h e r e </w>': 1, 'h i m </w>': 1, 'h i s </w>': 6, 'h u m a n e l y </w>': 1, 'h u n g e r </w>': 1, 'i </w>': 75, 'i f </w>': 1, 'i n </w>': 10, 'i n v e n t o r y </w>': 1, 'i s </w>': 14, 'i t </w>': 18, 'k n o w </w>': 1, 'l e a n n e s s </w>': 1, 'l e t </w>': 0, 'm e n </w>': 1, 'm i g h t </w>': 1, 'm i s e r y </w>': 1, 'm o t h e r </w>': 1, 'm u s t </w>': 2, 'n a t u r e </w>': 1, 'n e e d </w>': 1, 'n o </w>': 6, 'n o t </w>': 4, 'o </w>': 64, 'o b j e c t </w>': 1, 'o f </w>': 4, 'o n </w>': 7, 'o t h e r </w>': 2, 'o u r </w>': 3, 'p a r t i c u l a r i s e </w>': 1, 'p a r t l y </w>': 1, 'p a t r i c i a n s </w>': 1, 'p i k e s </w>': 1, 'p l e a s e </w>': 1, 'p o o r </w>': 1, 'p r a t i n g </w>': 1, 'p r o u d </w>': 1, 'r a k e s </w>': 1, 'r e l i e v e </w>': 2, 'r e l i e v e d </w>': 1, 'r e p e t i t i o n </w>': 1, 'r e v e n g e </w>': 2, 'r i s e n </w>': 1, 's a y </w>': 3, 's e c o n d </w>': 0, 's h o u t s </w>': 1, 's i d e </w>': 1, 's o f t </w>': 1, 's p e a k </w>': 1, 's t a y </w>': 1, 's u f f e r a n c e </w>': 1, 's u p e r f l u i t y </w>': 1, 's u r f e i t s </w>': 1, 's u r p l u s </w>': 1, 't h a t </w>': 2, 't h e </w>': 16, 't h e i r </w>': 1, 't h e m </w>': 1, 't h e s e </w>': 1, 't h e y </w>': 3, 't h i n k </w>': 1, 't h i r s t </w>': 1, 't h i s </w>': 2, 't h o u g h </w>': 1, 't i l l </w>': 1, 't i r e </w>': 1, 't o </w>': 13, 't o o </w>': 1, 'u n t o </w>': 1, 'u s </w>': 11, 'v i c e </w>': 1, 'v i r t u e </w>': 1, 'w a s </w>': 1, 'w a y </w>': 1, 'w e </w>': 5, 'w e r e </w>': 1, 'w h a t </w>': 1, 'w h i c h </w>': 1, 'w h i l e </w>': 1, 'w h o l e s o m e </w>': 1, 'w h y </w>': 1, 'w i t h </w>': 2, 'w o u l d </w>': 2, 'y i e l d </w>': 1, 'y o u </w>': 2}\n",
      "numer of words: 130 avrg word length: 4.946153846153846 --> number of merges: 161\n",
      "{('o', '</w>'): 0, ('e', '</w>'): 1, ('i', '</w>'): 2, ('a', '</w>'): 3, ('s', '</w>'): 4, ('h', 'e</w>'): 5, ('t', '</w>'): 6, ('n', '</w>'): 7, ('i', 's</w>'): 8, ('t', 'h'): 9, ('y', '</w>'): 10, ('i', 't</w>'): 11, ('o', 'u'): 12, ('t', 'he</w>'): 13, ('d', '</w>'): 14, ('r', '</w>'): 15, ('t', 'o</w>'): 16, ('u', 's</w>'): 17, ('a', 'n</w>'): 18, ('i', 'n</w>'): 19, ('t', 'i'): 20, ('r', 'e</w>'): 21, ('th', 'e'): 22, ('r', 'e'): 23, ('v', 'e'): 24, ('o', 'n</w>'): 25, ('a', 'n'): 26, ('n', 'o'): 27, ('h', 'is</w>'): 28, ('n', 'o</w>'): 29, ('no', 't</w>'): 30, ('c', 'i'): 31, ('e', 're</w>'): 32, ('o', 'r</w>'): 33, ('f', '</w>'): 34, ('a', 'y</w>'): 35, ('w', 'e</w>'): 36, ('w', 'h'): 37, ('a', 'c'): 38, ('ac', 'c'): 39, ('ou', 'n'): 40, ('o', 'n'): 41, ('l', 'i'): 42, ('t', 's</w>'): 43, ('a', 's</w>'): 44, ('r', 'i'): 45, ('b', 'e</w>'): 46, ('e', 'n'): 47, ('e', 've'): 48, ('f', 'or</w>'): 49, ('th', '</w>'): 50, ('n', 'g'): 51, ('o', 'f</w>'): 52, ('s', 'u'): 53, ('b', 'u'): 54, ('c', 'e</w>'): 55, ('acc', 'oun'): 56, ('e', 'd</w>'): 57, ('u', 's'): 58, ('t', 'u'): 59, ('a', 're</w>'): 60, ('t', 'y</w>'): 61, ('a', 'r'): 62, ('e', 'n</w>'): 63, ('r', 'y</w>'): 64, ('e', 'a'): 65, ('eve', 'n</w>'): 66, ('l', 'y</w>'): 67, ('e', 's'): 68, ('o', 'the'): 69, ('othe', 'r</w>'): 70, ('ou', 'r</w>'): 71, ('s', 'e</w>'): 72, ('re', 'li'): 73, ('s', 'ay</w>'): 74, ('a', 't</w>'): 75, ('the', 'y</w>'): 76, ('l', 'd</w>'): 77, ('an', 'ce</w>'): 78, ('accoun', 't</w>'): 79, ('a', 'ti'): 80, ('f', 'f'): 81, ('d', 'e</w>'): 82, ('a', 'u'): 83, ('e', 'c'): 84, ('o', 'm'): 85, ('om', 'e</w>'): 86, ('bu', 't</w>'): 87, ('c', 'an</w>'): 88, ('t', 'o'): 89, ('ci', 'ti'): 90, ('citi', 'z'): 91, ('c', 'on'): 92, ('d', 'i'): 93, ('di', 'd</w>'): 94, ('i', 'r'): 95, ('g', 'o'): 96, ('es', 's</w>'): 97, ('h', 'a'): 98, ('ha', 'th</w>'): 99, ('m', '</w>'): 100, ('h', 'u'): 101, ('i', 'n'): 102, ('m', 'i'): 103, ('g', 'h'): 104, ('m', 'us'): 105, ('mus', 't</w>'): 106, ('p', 'ar'): 107, ('k', 'e'): 108, ('ke', 's</w>'): 109, ('p', 'l'): 110, ('p', 'r'): 111, ('reli', 'e'): 112, ('relie', 'v'): 113, ('reliev', 'e</w>'): 114, ('p', 'e'): 115, ('re', 've'): 116, ('reve', 'ng'): 117, ('reveng', 'e</w>'): 118, ('k', '</w>'): 119, ('r', 'f'): 120, ('th', 'at</w>'): 121, ('th', 'is</w>'): 122, ('wh', 'i'): 123, ('w', 'i'): 124, ('wi', 'th</w>'): 125, ('w', 'ou'): 126, ('wou', 'ld</w>'): 127, ('y', 'ou'): 128, ('you', '</w>'): 129, ('a', 'bu'): 130, ('abu', 'n'): 131, ('abun', 'd'): 132, ('abund', 'ance</w>'): 133, ('accoun', 't'): 134, ('account', 'ed</w>'): 135, ('acc', 'us'): 136, ('accus', 'ati'): 137, ('accusati', 'on'): 138, ('accusation', 's</w>'): 139, ('a', 'ff'): 140, ('aff', 'li'): 141, ('affli', 'c'): 142, ('afflic', 'ts</w>'): 143, ('a', 'l'): 144, ('al', 'ti'): 145, ('alti', 'tu'): 146, ('altitu', 'de</w>'): 147, ('an', 'd</w>'): 148, ('au', 'th'): 149, ('auth', 'o'): 150, ('autho', 'ri'): 151, ('authori', 'ty</w>'): 152, ('b', 'ar'): 153, ('bar', 're'): 154, ('barre', 'n</w>'): 155, ('b', 'ec'): 156, ('bec', 'ome</w>'): 157, ('b', 're'): 158, ('bre', 'a'): 159, ('brea', 'd</w>'): 160}\n",
      "\n",
      "word: First --> ('f', 'ir', 's', 't')\n",
      "word: Citizen --> ('citiz', 'en')\n",
      "word:  --> \n",
      "word: We --> ('we',)\n",
      "word: are --> ('are',)\n",
      "word: accounted --> ('accounted',)\n",
      "word: poor --> ('p', 'o', 'or')\n",
      "word: citizens --> ('citiz', 'en', 's')\n",
      "word:  --> \n",
      "word: the --> ('the',)\n",
      "word: patricians --> ('p', 'a', 't', 'ri', 'ci', 'an', 's')\n",
      "word: good --> ('go', 'o', 'd')\n",
      "word:  --> \n",
      "word: What --> ('wh', 'at')\n",
      "word: authority --> ('authority',)\n",
      "word: surfeits --> ('su', 'rf', 'e', 'i', 'ts')\n",
      "word: on --> ('on',)\n",
      "word: would --> ('would',)\n",
      "word: relieve --> ('relieve',)\n",
      "word: us --> ('us',)\n",
      "word:  --> \n",
      "word: if --> ('i', 'f')\n",
      "word: they --> ('they',)\n",
      "word: would --> ('would',)\n",
      "word: yield --> ('y', 'i', 'e', 'ld')\n",
      "word: us --> ('us',)\n",
      "word: but --> ('but',)\n",
      "word: the --> ('the',)\n",
      "word: superfluity --> ('su', 'pe', 'rf', 'l', 'u', 'i', 'ty')\n",
      "word:  --> \n",
      "word: while --> ('whi', 'l', 'e')\n",
      "word: it --> ('it',)\n",
      "word: were --> ('w', 'ere')\n",
      "word: wholesome --> ('wh', 'o', 'l', 'es', 'ome')\n",
      "word:  --> \n",
      "word: we --> ('we',)\n",
      "word: might --> ('mi', 'gh', 't')\n",
      "word: guess --> ('g', 'u', 'ess')\n",
      "word: they --> ('they',)\n",
      "word: relieved --> ('reli', 'eve', 'd')\n",
      "word: us --> ('us',)\n",
      "word: humanely --> ('hu', 'm', 'an', 'e', 'ly')\n",
      "word:  --> \n",
      "word: but --> ('but',)\n",
      "word: they --> ('they',)\n",
      "word: think --> ('th', 'in', 'k')\n",
      "word: we --> ('we',)\n",
      "word: are --> ('are',)\n",
      "word: too --> ('to', 'o')\n",
      "word: dear --> ('d', 'ea', 'r')\n",
      "word:  --> \n",
      "word: the --> ('the',)\n",
      "word: leanness --> ('l', 'e', 'an', 'n', 'ess')\n",
      "word: that --> ('that',)\n",
      "word: afflicts --> ('afflicts',)\n",
      "word: us --> ('us',)\n",
      "word:  --> \n",
      "word: the --> ('the',)\n",
      "word: object --> ('o', 'b', 'j', 'ec', 't')\n",
      "word: of --> ('of',)\n",
      "word: our --> ('our',)\n",
      "word: misery --> ('mi', 's', 'e', 'ry')\n",
      "word:  --> \n",
      "word: is --> ('is',)\n",
      "word: as --> ('as',)\n",
      "word: an --> ('an',)\n",
      "word: inventory --> ('in', 've', 'n', 'to', 'ry')\n",
      "word: to --> ('to',)\n",
      "word: particularise --> ('par', 'ti', 'c', 'u', 'l', 'a', 'ri', 'se')\n",
      "word: their --> ('the', 'i', 'r')\n",
      "word: abundance --> ('abundance',)\n",
      "word:  --> \n",
      "word: our --> ('our',)\n",
      "word: sufferance --> ('su', 'ff', 'e', 'r', 'ance')\n",
      "word: is --> ('is',)\n",
      "word: a --> ('a',)\n",
      "word: gain --> ('g', 'a', 'in')\n",
      "word: to --> ('to',)\n",
      "word: them --> ('the', 'm')\n",
      "word: Let --> ('l', 'e', 't')\n",
      "word: us --> ('us',)\n",
      "word: revenge --> ('revenge',)\n",
      "word: this --> ('this',)\n",
      "word: with --> ('with',)\n",
      "word: our --> ('our',)\n",
      "word: pikes --> ('p', 'i', 'kes')\n",
      "word:  --> \n",
      "word: ere --> ('ere',)\n",
      "word: we --> ('we',)\n",
      "word: become --> ('become',)\n",
      "word: rakes --> ('r', 'a', 'kes')\n",
      "word:  --> \n",
      "word: for --> ('for',)\n",
      "word: the --> ('the',)\n",
      "word: gods --> ('go', 'd', 's')\n",
      "word: know --> ('k', 'no', 'w')\n",
      "word: I --> ('i',)\n",
      "word: speak --> ('s', 'p', 'ea', 'k')\n",
      "word: this --> ('this',)\n",
      "word: in --> ('in',)\n",
      "word: hunger --> ('hu', 'ng', 'e', 'r')\n",
      "word: for --> ('for',)\n",
      "word: bread --> ('bread',)\n",
      "word:  --> \n",
      "word: not --> ('not',)\n",
      "word: in --> ('in',)\n",
      "word: thirst --> ('th', 'ir', 's', 't')\n",
      "word: for --> ('for',)\n",
      "word: revenge --> ('revenge',)\n",
      "word:  --> \n",
      "word: First --> ('f', 'ir', 's', 't')\n",
      "word: Citizen --> ('citiz', 'en')\n",
      "word:  --> \n",
      "word: I --> ('i',)\n",
      "word: say --> ('say',)\n",
      "word: unto --> ('u', 'n', 'to')\n",
      "word: you --> ('you',)\n",
      "word:  --> \n",
      "word: what --> ('wh', 'at')\n",
      "word: he --> ('he',)\n",
      "word: hath --> ('hath',)\n",
      "word: done --> ('d', 'on', 'e')\n",
      "word: famously --> ('f', 'a', 'm', 'ou', 's', 'ly')\n",
      "word:  --> \n",
      "word: he --> ('he',)\n",
      "word: did --> ('did',)\n",
      "word: it --> ('it',)\n",
      "word: to --> ('to',)\n",
      "word: that --> ('that',)\n",
      "word: end --> ('en', 'd')\n",
      "word:  --> \n",
      "word: though --> ('th', 'ou', 'gh')\n",
      "word: soft --> ('s', 'o', 'f', 't')\n",
      "word: conscienced --> ('con', 's', 'ci', 'en', 'c', 'ed')\n",
      "word: men --> ('m', 'en')\n",
      "word: can --> ('can',)\n",
      "word: be --> ('be',)\n",
      "word: content --> ('con', 't', 'en', 't')\n",
      "word: to --> ('to',)\n",
      "word: say --> ('say',)\n",
      "word: it --> ('it',)\n",
      "word: was --> ('w', 'as')\n",
      "word: for --> ('for',)\n",
      "word: his --> ('his',)\n",
      "word: country --> ('c', 'oun', 't', 'ry')\n",
      "word: he --> ('he',)\n",
      "word: did --> ('did',)\n",
      "word: it --> ('it',)\n",
      "word: to --> ('to',)\n",
      "word: please --> ('pl', 'ea', 'se')\n",
      "word: his --> ('his',)\n",
      "word: mother --> ('m', 'other')\n",
      "word: and --> ('and',)\n",
      "word: to --> ('to',)\n",
      "word: be --> ('be',)\n",
      "word: partly --> ('par', 't', 'ly')\n",
      "word: proud --> ('pr', 'ou', 'd')\n",
      "word:  --> \n",
      "word: which --> ('whi', 'c', 'h')\n",
      "word: he --> ('he',)\n",
      "word: is --> ('is',)\n",
      "word:  --> \n",
      "word: even --> ('even',)\n",
      "word: till --> ('ti', 'l', 'l')\n",
      "word: the --> ('the',)\n",
      "word: altitude --> ('altitude',)\n",
      "word: of --> ('of',)\n",
      "word: his --> ('his',)\n",
      "word: virtue --> ('v', 'ir', 'tu', 'e')\n",
      "word:  --> \n",
      "word:  --> \n",
      "word: Second --> ('s', 'ec', 'on', 'd')\n",
      "word: Citizen --> ('citiz', 'en')\n",
      "word:  --> \n",
      "word: What --> ('wh', 'at')\n",
      "word: he --> ('he',)\n",
      "word: cannot --> ('c', 'an', 'not')\n",
      "word: help --> ('h', 'e', 'l', 'p')\n",
      "word: in --> ('in',)\n",
      "word: his --> ('his',)\n",
      "word: nature --> ('n', 'a', 'tu', 're')\n",
      "word:  --> \n",
      "word: you --> ('you',)\n",
      "word: account --> ('account',)\n",
      "word: a --> ('a',)\n",
      "word: vice --> ('v', 'i', 'ce')\n",
      "word: in --> ('in',)\n",
      "word: him --> ('h', 'i', 'm')\n",
      "word:  --> \n",
      "word: You --> ('you',)\n",
      "word: must --> ('must',)\n",
      "word: in --> ('in',)\n",
      "word: no --> ('no',)\n",
      "word: way --> ('w', 'ay')\n",
      "word: say --> ('say',)\n",
      "word: he --> ('he',)\n",
      "word: is --> ('is',)\n",
      "word: covetous --> ('c', 'o', 've', 't', 'ou', 's')\n",
      "word:  --> \n",
      "word:  --> \n",
      "word: First --> ('f', 'ir', 's', 't')\n",
      "word: Citizen --> ('citiz', 'en')\n",
      "word:  --> \n",
      "word: If --> ('i', 'f')\n",
      "word: I --> ('i',)\n",
      "word: must --> ('must',)\n",
      "word: not --> ('not',)\n",
      "word:  --> \n",
      "word: I --> ('i',)\n",
      "word: need --> ('n', 'e', 'ed')\n",
      "word: not --> ('not',)\n",
      "word: be --> ('be',)\n",
      "word: barren --> ('barren',)\n",
      "word: of --> ('of',)\n",
      "word: accusations --> ('accusations',)\n",
      "word:  --> \n",
      "word: he --> ('he',)\n",
      "word: hath --> ('hath',)\n",
      "word: faults --> ('f', 'au', 'l', 'ts')\n",
      "word:  --> \n",
      "word: with --> ('with',)\n",
      "word: surplus --> ('su', 'r', 'pl', 'us')\n",
      "word:  --> \n",
      "word: to --> ('to',)\n",
      "word: tire --> ('ti', 're')\n",
      "word: in --> ('in',)\n",
      "word: repetition --> ('re', 'pe', 'ti', 'ti', 'on')\n",
      "word:  --> \n",
      "word: What --> ('wh', 'at')\n",
      "word: shouts --> ('s', 'h', 'ou', 'ts')\n",
      "word: are --> ('are',)\n",
      "word: these --> ('the', 'se')\n",
      "word:  --> \n",
      "word: The --> ('the',)\n",
      "word: other --> ('other',)\n",
      "word: side --> ('s', 'i', 'de')\n",
      "word: o --> ('o',)\n",
      "word:  --> \n",
      "word: the --> ('the',)\n",
      "word: city --> ('ci', 'ty')\n",
      "word: is --> ('is',)\n",
      "word: risen --> ('ri', 's', 'en')\n",
      "word:  --> \n",
      "word: why --> ('wh', 'y')\n",
      "word: stay --> ('s', 't', 'ay')\n",
      "word: we --> ('we',)\n",
      "word: prating --> ('pr', 'ati', 'ng')\n",
      "word: here --> ('h', 'ere')\n",
      "word:  --> \n",
      "word: to --> ('to',)\n",
      "word: the --> ('the',)\n",
      "word: Capitol --> ('c', 'a', 'p', 'i', 'to', 'l')\n",
      "word:  --> \n",
      "1.683794466403162\n"
     ]
    }
   ],
   "source": [
    "# train BPE with our input text\n",
    "import re, collections\n",
    "\n",
    "def get_stats(vocab):\n",
    "    \"\"\"Compute frequencies of adjacent pairs of symbols.\"\"\"\n",
    "    pairs = collections.defaultdict(int)\n",
    "    for word, freq in vocab.items():\n",
    "        symbols = word.split()\n",
    "        for i in range(len(symbols)-1):\n",
    "            pairs[symbols[i],symbols[i+1]] += freq\n",
    "    return pairs\n",
    "\n",
    "def merge_vocab(pair, v_in):\n",
    "    v_out = {}\n",
    "    bigram = re.escape(' '.join(pair))\n",
    "    p = re.compile(r'(?<!\\S)' + bigram + r'(?!\\S)')\n",
    "    for word in v_in:\n",
    "        w_out = p.sub(''.join(pair), word)\n",
    "        v_out[w_out] = v_in[word]\n",
    "    return v_out\n",
    "\n",
    "with open('inp_testbpe0.txt', 'r', encoding='utf-8') as f:\n",
    "    text = f.read()\n",
    "\n",
    "text = re.sub(r'[^\\w]', ' ', text)  # remove all symbols\n",
    "\n",
    "text = text.replace('\\n', ' ')\n",
    "words = sorted(list(set(text.lower().split(' '))))\n",
    "wordfreq = {w: text.count(w) for w in words}\n",
    "#print(words)\n",
    "print(wordfreq)\n",
    "\n",
    "#print({(' '.join([el for el in v.lower()]) + ' </w>'):idx for idx,v in enumerate(text.split(' '))})\n",
    "\n",
    "#train_data = {(' '.join([el for el in v.lower()]) + ' </w>'):idx for idx,v in enumerate(text.split(' '))}\n",
    "#train_data = {(' '.join([el for el in v.lower()]) + ' </w>'):idx for idx,v in enumerate(words)}\n",
    "#train_data = {(v + '</w>'):idx for idx,v in enumerate(words)}\n",
    "#train_data = {'l o w </w>': 5, 'l o w e r </w>': 2, 'n e w e s t </w>': 6, 'w i d e s t </w>': 3}\n",
    "#train_data = wordfreq\n",
    "train_data = {(' '.join([el for el in key]) + ' </w>'):val for key,val in wordfreq.items()}\n",
    "print(train_data)\n",
    "#print(get_stats(train_data))\n",
    "\n",
    "bpe_codes = {}\n",
    "bpe_codes_reverse = {}\n",
    "\n",
    "#num_merges = length of word l, length of subword n: l! / (n!(l-n)!) --> sum for n=1 to l = 2**l - 1 + number of words\n",
    "# average word length\n",
    "avrgwordlen = sum([len(w) for w in words]) / len(words)\n",
    "num_merges = 2**int(avrgwordlen+1) - 1 + len(words)\n",
    "# simpler: number of words * 2 seems to work just as well\n",
    "#num_merges = 2*len(words)\n",
    "print(f\"numer of words: {len(words)} avrg word length: {avrgwordlen} --> number of merges: {num_merges}\")\n",
    "\n",
    "for i in range(num_merges):\n",
    "    #print(\"### Iteration {}\".format(i + 1))\n",
    "    pairs = get_stats(train_data)\n",
    "    best = max(pairs, key = pairs.get)\n",
    "    train_data = merge_vocab(best, train_data)\n",
    "    \n",
    "    bpe_codes[best] = i\n",
    "    bpe_codes_reverse[best[0] + best[1]] = best\n",
    "    \n",
    "    #print(\"new merge: {}\".format(best))\n",
    "    #print(\"train data: {}\".format(train_data))\n",
    "\n",
    "print(bpe_codes)\n",
    "print()\n",
    "\n",
    "#for word in words:\n",
    "encodedlen = 0\n",
    "for word in text.split(' '):\n",
    "    wordencoded = encode_bp(word.lower())\n",
    "    print(f\"word: {word} --> {wordencoded}\")\n",
    "    encodedlen += len(wordencoded)\n",
    "\n",
    "print(encodedlen / len(text.split(' ')))"
   ]
  },
  {
   "cell_type": "code",
   "execution_count": 40,
   "id": "9db44815-3caa-4cd3-85a5-34329494087b",
   "metadata": {},
   "outputs": [
    {
     "data": {
      "text/markdown": [
       "__word split into characters:__ <tt>('m', 'i', 'g', 'r', 'a', 't', 'e', '</w>')</tt>"
      ],
      "text/plain": [
       "<IPython.core.display.Markdown object>"
      ]
     },
     "metadata": {},
     "output_type": "display_data"
    },
    {
     "data": {
      "text/markdown": [
       "__Iteration 1:__"
      ],
      "text/plain": [
       "<IPython.core.display.Markdown object>"
      ]
     },
     "metadata": {},
     "output_type": "display_data"
    },
    {
     "name": "stdout",
     "output_type": "stream",
     "text": [
      "bigrams in the word: {('i', 'g'), ('t', 'e'), ('m', 'i'), ('e', '</w>'), ('a', 't'), ('g', 'r'), ('r', 'a')}\n",
      "candidate for merging: ('e', '</w>')\n",
      "word after merging: ('m', 'i', 'g', 'r', 'a', 't', 'e</w>')\n"
     ]
    },
    {
     "data": {
      "text/markdown": [
       "__Iteration 2:__"
      ],
      "text/plain": [
       "<IPython.core.display.Markdown object>"
      ]
     },
     "metadata": {},
     "output_type": "display_data"
    },
    {
     "name": "stdout",
     "output_type": "stream",
     "text": [
      "bigrams in the word: {('i', 'g'), ('m', 'i'), ('a', 't'), ('g', 'r'), ('r', 'a'), ('t', 'e</w>')}\n",
      "candidate for merging: ('m', 'i')\n",
      "word after merging: ('mi', 'g', 'r', 'a', 't', 'e</w>')\n"
     ]
    },
    {
     "data": {
      "text/markdown": [
       "__Iteration 3:__"
      ],
      "text/plain": [
       "<IPython.core.display.Markdown object>"
      ]
     },
     "metadata": {},
     "output_type": "display_data"
    },
    {
     "name": "stdout",
     "output_type": "stream",
     "text": [
      "bigrams in the word: {('mi', 'g'), ('a', 't'), ('g', 'r'), ('r', 'a'), ('t', 'e</w>')}\n",
      "candidate for merging: ('mi', 'g')\n"
     ]
    },
    {
     "data": {
      "text/markdown": [
       "__Candidate not in BPE merges, algorithm stops.__"
      ],
      "text/plain": [
       "<IPython.core.display.Markdown object>"
      ]
     },
     "metadata": {},
     "output_type": "display_data"
    },
    {
     "data": {
      "text/plain": [
       "('mi', 'g', 'r', 'a', 't', 'e')"
      ]
     },
     "execution_count": 40,
     "metadata": {},
     "output_type": "execute_result"
    }
   ],
   "source": [
    "encode('migrate')"
   ]
  },
  {
   "cell_type": "code",
   "execution_count": 41,
   "id": "14625333-b9ba-4629-a2a0-a57653395fa8",
   "metadata": {},
   "outputs": [],
   "source": [
    "# how to integrate BPE into the LM?\n",
    "\n",
    "\n",
    "\n",
    "# next steps:\n",
    "# - implement positional encoding via sin/cos\n",
    "# - test iterative transformer (i.e. iterative self-attention)"
   ]
  },
  {
   "cell_type": "code",
   "execution_count": 5,
   "id": "ef07cc5a-cf66-4387-a2f1-516d42c82b3c",
   "metadata": {},
   "outputs": [
    {
     "data": {
      "image/png": "[encoded data removed]",
      "text/plain": [
       "<Figure size 640x480 with 1 Axes>"
      ]
     },
     "metadata": {},
     "output_type": "display_data"
    }
   ],
   "source": [
    "# test number of merges \n",
    "import re, collections\n",
    "import matplotlib.pyplot as plt\n",
    "import numpy as np\n",
    "\n",
    "def get_stats(vocab):\n",
    "    \"\"\"Compute frequencies of adjacent pairs of symbols.\"\"\"\n",
    "    pairs = collections.defaultdict(int)\n",
    "    for word, freq in vocab.items():\n",
    "        symbols = word.split()\n",
    "        for i in range(len(symbols)-1):\n",
    "            pairs[symbols[i],symbols[i+1]] += freq\n",
    "    return pairs\n",
    "\n",
    "def merge_vocab(pair, v_in):\n",
    "    v_out = {}\n",
    "    bigram = re.escape(' '.join(pair))\n",
    "    p = re.compile(r'(?<!\\S)' + bigram + r'(?!\\S)')\n",
    "    for word in v_in:\n",
    "        w_out = p.sub(''.join(pair), word)\n",
    "        v_out[w_out] = v_in[word]\n",
    "    return v_out\n",
    "\n",
    "with open('inp_testbpe0.txt', 'r', encoding='utf-8') as f:\n",
    "    text = f.read()\n",
    "\n",
    "text = re.sub(r'[^\\w]', ' ', text)  # remove all symbols\n",
    "\n",
    "text = text.replace('\\n', ' ')\n",
    "words = sorted(list(set(text.lower().split(' '))))\n",
    "wordfreq = {w: text.count(w) for w in words}\n",
    "\n",
    "\n",
    "y = []\n",
    "\n",
    "for num_merges in range(len(words)//2, 2*len(words), 2):\n",
    "    \n",
    "    train_data = {(' '.join([el for el in key]) + ' </w>'):val for key,val in wordfreq.items()}\n",
    "    \n",
    "    bpe_codes = {}\n",
    "    bpe_codes_reverse = {}\n",
    "    \n",
    "    for i in range(num_merges):\n",
    "        #print(\"### Iteration {}\".format(i + 1))\n",
    "        pairs = get_stats(train_data)\n",
    "        best = max(pairs, key = pairs.get)\n",
    "        train_data = merge_vocab(best, train_data)\n",
    "        \n",
    "        bpe_codes[best] = i\n",
    "        bpe_codes_reverse[best[0] + best[1]] = best\n",
    "        \n",
    "        #print(\"new merge: {}\".format(best))\n",
    "        #print(\"train data: {}\".format(train_data))\n",
    "    \n",
    "    #print(bpe_codes)\n",
    "    #print()\n",
    "    \n",
    "    #for word in words:\n",
    "    encodedlen = 0\n",
    "    for word in text.split(' '):\n",
    "        wordencoded = encode_bp(word.lower())\n",
    "        #print(f\"word: {word} --> {wordencoded}\")\n",
    "        encodedlen += len(wordencoded)\n",
    "    \n",
    "    #print(encodedlen / len(text.split(' ')))\n",
    "    y.append(encodedlen / len(text.split(' ')))\n",
    "\n",
    "\n",
    "x = np.arange(len(y))\n",
    "plt.bar(x, height=y)\n",
    "plt.show()"
   ]
  },
  {
   "cell_type": "code",
   "execution_count": 25,
   "id": "b1cab4a2-9e3e-40b6-9f8c-bf0ac5af2f51",
   "metadata": {},
   "outputs": [
    {
     "name": "stdout",
     "output_type": "stream",
     "text": [
      "numer of words: 130 avrg word length: 4.946153846153846 --> number of merges: 161\n",
      "\n",
      "{'de': 0, 'ly': 1, 'for': 2, 'at': 3, 'th': 4, 'that': 5, 'authority': 6, 'abundance': 7, 'mi': 8, 'the': 9, 'say': 10, 'be': 11, 'you': 12, 'kes': 13, 'us': 14, 'a': 15, 'ty': 16, 'revenge': 17, 'ng': 18, 'account': 19, 'c': 20, 'become': 21, 'u': 22, 'ere': 23, 'ti': 24, 'b': 25, 'afflicts': 26, 'are': 27, 'whi': 28, 'k': 29, 'no': 30, 'oun': 31, 'au': 32, 'm': 33, 'our': 34, 'accusations': 35, 'go': 36, 'e': 37, 'o': 38, 'ea': 39, 'in': 40, 'ts': 41, 'as': 42, 'gh': 43, 'must': 44, 'p': 45, 'an': 46, 'n': 47, 'it': 48, 'did': 49, 'w': 50, 'hath': 51, 'h': 52, 'v': 53, 'pe': 54, 'ay': 55, 'citiz': 56, 't': 57, 'ce': 58, 'pl': 59, 'ati': 60, 'relieve': 61, 'other': 62, 'even': 63, 'barren': 64, 'l': 65, 's': 66, 'g': 67, 'su': 68, 'ance': 69, 'par': 70, 'this': 71, 'we': 72, 'rf': 73, 'eve': 74, 'of': 75, 'with': 76, 'ir': 77, 'ff': 78, 'wh': 79, 'se': 80, 'on': 81, 'or': 82, 'and': 83, 'ome': 84, 'he': 85, 'they': 86, 'en': 87, 'ld': 88, 'hu': 89, 'con': 90, 'y': 91, 'reli': 92, 'ed': 93, 've': 94, 'to': 95, 'accounted': 96, 'ou': 97, 'r': 98, 'i': 99, 'would': 100, 'not': 101, 'ci': 102, 're': 103, 'pr': 104, 'ry': 105, 'is': 106, 'his': 107, 'es': 108, 'but': 109, 'j': 110, 'bread': 111, 'can': 112, 'f': 113, 'altitude': 114, 'd': 115, 'ec': 116, 'tu': 117, 'ri': 118, 'ess': 119, '</w>': inf}\n",
      "[113, 77, 66, 57, inf, 56, 87, inf, inf, 72, inf, 27, inf, 96, inf, 45, 38, 82, inf, 56, 87, 66, inf, inf, 9, inf, 45, 15, 57, 118, 102, 46, 66, inf, 36, 38, 115, inf, inf, 79, 3, inf, 6, inf, 68, 73, 37, 99, 41, inf, 81, inf, 100, inf, 61, inf, 14, inf, inf, 99, 113, inf, 86, inf, 100, inf, 91, 99, 37, 88, inf, 14, inf, 109, inf, 9, inf, 68, 54, 73, 65, 22, 99, 16, inf, inf, 28, 65, 37, inf, 48, inf, 50, 23, inf, 79, 38, 65, 108, 84, inf, inf, 72, inf, 8, 43, 57, inf, 67, 22, 119, inf, 86, inf, 92, 74, 115, inf, 14, inf, 89, 33, 46, 37, 1, inf, inf, 109, inf, 86, inf, 4, 40, 29, inf, 72, inf, 27, inf, 95, 38, inf, 115, 39, 98, inf, inf, 9, inf, 65, 37, 46, 47, 119, inf, 5, inf, 26, inf, 14, inf, inf, 9, inf, 38, 25, 110, 116, 57, inf, 75, inf, 34, inf, 8, 66, 37, 105, inf, inf, 106, inf, 42, inf, 46, inf, 40, 94, 47, 95, 105, inf, 95, inf, 70, 24, 20, 22, 65, 15, 118, 80, inf, 9, 99, 98, inf, 7, inf, inf, 34, inf, 68, 78, 37, 98, 69, inf, 106, inf, 15, inf, 67, 15, 40, inf, 95, inf, 9, 33, inf, 65, 37, 57, inf, 14, inf, 17, inf, 71, inf, 76, inf, 34, inf, 45, 99, 13, inf, inf, 23, inf, 72, inf, 21, inf, 98, 15, 13, inf, inf, 2, inf, 9, inf, 36, 115, 66, inf, 29, 30, 50, inf, 99, inf, 66, 45, 39, 29, inf, 71, inf, 40, inf, 89, 18, 37, 98, inf, 2, inf, 111, inf, inf, 101, inf, 40, inf, 4, 77, 66, 57, inf, 2, inf, 17, inf, inf, 113, 77, 66, 57, inf, 56, 87, inf, inf, 99, inf, 10, inf, 22, 47, 95, inf, 12, inf, inf, 79, 3, inf, 85, inf, 51, inf, 115, 81, 37, inf, 113, 15, 33, 97, 66, 1, inf, inf, 85, inf, 49, inf, 48, inf, 95, inf, 5, inf, 87, 115, inf, inf, 4, 97, 43, inf, 66, 38, 113, 57, inf, 90, 66, 102, 87, 20, 93, inf, 33, 87, inf, 112, inf, 11, inf, 90, 57, 87, 57, inf, 95, inf, 10, inf, 48, inf, 50, 42, inf, 2, inf, 107, inf, 20, 31, 57, 105, inf, 85, inf, 49, inf, 48, inf, 95, inf, 59, 39, 80, inf, 107, inf, 33, 62, inf, 83, inf, 95, inf, 11, inf, 70, 57, 1, inf, 104, 97, 115, inf, inf, 28, 20, 52, inf, 85, inf, 106, inf, inf, 63, inf, 24, 65, 65, inf, 9, inf, 114, inf, 75, inf, 107, inf, 53, 77, 117, 37, inf, inf, inf, 66, 116, 81, 115, inf, 56, 87, inf, inf, 79, 3, inf, 85, inf, 20, 46, 101, inf, 52, 37, 65, 45, inf, 40, inf, 107, inf, 47, 15, 117, 103, inf, inf, 12, inf, 19, inf, 15, inf, 53, 99, 58, inf, 40, inf, 52, 99, 33, inf, inf, 12, inf, 44, inf, 40, inf, 30, inf, 50, 55, inf, 10, inf, 85, inf, 106, inf, 20, 38, 94, 57, 97, 66, inf, inf, inf, 113, 77, 66, 57, inf, 56, 87, inf, inf, 99, 113, inf, 99, inf, 44, inf, 101, inf, inf, 99, inf, 47, 37, 93, inf, 101, inf, 11, inf, 64, inf, 75, inf, 35, inf, inf, 85, inf, 51, inf, 113, 32, 65, 41, inf, inf, 76, inf, 68, 98, 59, 14, inf, inf, 95, inf, 24, 103, inf, 40, inf, 103, 54, 24, 24, 81, inf, inf, 79, 3, inf, 66, 52, 97, 41, inf, 27, inf, 9, 80, inf, inf, 9, inf, 62, inf, 66, 99, 0, inf, 38, inf, inf, 9, inf, 102, 16, inf, 106, inf, 118, 66, 87, inf, inf, 79, 91, inf, 66, 57, 55, inf, 72, inf, 104, 60, 18, inf, 52, 23, inf, inf, 95, inf, 9, inf, 20, 15, 45, 99, 95, 65, inf, inf]\n"
     ]
    }
   ],
   "source": [
    "# train BPE and build symbolic embedding - test\n",
    "import re, collections\n",
    "import math\n",
    "\n",
    "\n",
    "def get_stats(vocab):\n",
    "    \"\"\"Compute frequencies of adjacent pairs of symbols.\"\"\"\n",
    "    pairs = collections.defaultdict(int)\n",
    "    for word, freq in vocab.items():\n",
    "        symbols = word.split()\n",
    "        for i in range(len(symbols)-1):\n",
    "            pairs[symbols[i],symbols[i+1]] += freq\n",
    "    return pairs\n",
    "\n",
    "def merge_vocab(pair, v_in):\n",
    "    v_out = {}\n",
    "    bigram = re.escape(' '.join(pair))\n",
    "    p = re.compile(r'(?<!\\S)' + bigram + r'(?!\\S)')\n",
    "    for word in v_in:\n",
    "        w_out = p.sub(''.join(pair), word)\n",
    "        v_out[w_out] = v_in[word]\n",
    "    return v_out\n",
    "\n",
    "with open('inp_testbpe0.txt', 'r', encoding='utf-8') as f:\n",
    "    text = f.read()\n",
    "\n",
    "text = re.sub(r'[^\\w]', ' ', text)  # remove all symbols\n",
    "\n",
    "text = text.replace('\\n', ' ')\n",
    "words = sorted(list(set(text.lower().split(' '))))\n",
    "wordfreq = {w: text.count(w) for w in words}\n",
    "#print(words)\n",
    "#print(wordfreq)\n",
    "\n",
    "#print({(' '.join([el for el in v.lower()]) + ' </w>'):idx for idx,v in enumerate(text.split(' '))})\n",
    "\n",
    "#train_data = {(' '.join([el for el in v.lower()]) + ' </w>'):idx for idx,v in enumerate(text.split(' '))}\n",
    "#train_data = {(' '.join([el for el in v.lower()]) + ' </w>'):idx for idx,v in enumerate(words)}\n",
    "#train_data = {(v + '</w>'):idx for idx,v in enumerate(words)}\n",
    "#train_data = {'l o w </w>': 5, 'l o w e r </w>': 2, 'n e w e s t </w>': 6, 'w i d e s t </w>': 3}\n",
    "#train_data = wordfreq\n",
    "train_data = {(' '.join([el for el in key]) + ' </w>'):val for key,val in wordfreq.items()}\n",
    "#print(train_data)\n",
    "#print(get_stats(train_data))\n",
    "\n",
    "bpe_codes = {}\n",
    "bpe_codes_reverse = {}\n",
    "\n",
    "#num_merges = length of word l, length of subword n: l! / (n!(l-n)!) --> sum for n=1 to l = 2**l - 1 + number of words\n",
    "# average word length\n",
    "avrgwordlen = sum([len(w) for w in words]) / len(words)\n",
    "num_merges = 2**int(avrgwordlen+1) - 1 + len(words)\n",
    "# simpler: number of words * 2 seems to work just as well\n",
    "#num_merges = 2*len(words)\n",
    "print(f\"numer of words: {len(words)} avrg word length: {avrgwordlen} --> number of merges: {num_merges}\")\n",
    "print()\n",
    "\n",
    "for i in range(num_merges):\n",
    "    #print(\"### Iteration {}\".format(i + 1))\n",
    "    pairs = get_stats(train_data)\n",
    "    best = max(pairs, key = pairs.get)\n",
    "    train_data = merge_vocab(best, train_data)\n",
    "    \n",
    "    bpe_codes[best] = i\n",
    "    bpe_codes_reverse[best[0] + best[1]] = best\n",
    "    \n",
    "    #print(\"new merge: {}\".format(best))\n",
    "    #print(\"train data: {}\".format(train_data))\n",
    "\n",
    "#print(bpe_codes)\n",
    "#print()\n",
    "\n",
    "bpesymbols = set()\n",
    "textencoded = []\n",
    "\n",
    "for word in text.split(' '):\n",
    "    wordencoded = encode_bp(word.lower())\n",
    "    for s in wordencoded:\n",
    "        textencoded.append(s)\n",
    "    textencoded.append('</w>')\n",
    "    #print(f\"word: {word} --> {wordencoded}\")\n",
    "    for w in wordencoded:\n",
    "        bpesymbols.add(w)\n",
    "\n",
    "#bpesymbols.add('</w>')\n",
    "\n",
    "bpetoi = { symb:i for i, symb in enumerate(bpesymbols) }\n",
    "bpetoi['</w>'] = math.inf\n",
    "print(bpetoi)\n",
    "\n",
    "textbpesymb = [bpetoi[s] for s in textencoded]\n",
    "print(textbpesymb)"
   ]
  },
  {
   "cell_type": "code",
   "execution_count": 145,
   "id": "3b411ed0-896e-4ffa-b35b-5cc6b1632dfa",
   "metadata": {},
   "outputs": [
    {
     "name": "stdout",
     "output_type": "stream",
     "text": [
      "[0.   0.25 0.5  0.75]\n",
      "[0.   0.25 0.5  0.75 1.   1.25 1.5  1.75]\n",
      "[0.   0.25 0.5  0.75 0.   0.25 0.5  0.75]\n",
      "[[0.         0.         0.        ]\n",
      " [0.25       0.2        0.14285714]\n",
      " [0.5        0.4        0.28571429]\n",
      " [0.75       0.6        0.42857143]\n",
      " [0.         0.8        0.57142857]\n",
      " [0.25       0.         0.71428571]\n",
      " [0.5        0.2        0.85714286]\n",
      " [0.75       0.4        0.        ]]\n",
      "\n",
      "0.3505826054802293\n",
      "0.7892453124759793\n",
      "\n",
      "sin: [[ 0.00000000e+00  0.00000000e+00  0.00000000e+00]\n",
      " [ 1.00000000e+00  9.51056516e-01  7.81831482e-01]\n",
      " [ 1.22464680e-16  5.87785252e-01  9.74927912e-01]\n",
      " [-1.00000000e+00 -5.87785252e-01  4.33883739e-01]\n",
      " [ 0.00000000e+00 -9.51056516e-01 -4.33883739e-01]\n",
      " [ 1.00000000e+00  0.00000000e+00 -9.74927912e-01]\n",
      " [ 1.22464680e-16  9.51056516e-01 -7.81831482e-01]\n",
      " [-1.00000000e+00  5.87785252e-01  0.00000000e+00]]\n",
      "cos: [[ 1.00000000e+00  1.00000000e+00  1.00000000e+00]\n",
      " [ 6.12323400e-17  3.09016994e-01  6.23489802e-01]\n",
      " [-1.00000000e+00 -8.09016994e-01 -2.22520934e-01]\n",
      " [-1.83697020e-16 -8.09016994e-01 -9.00968868e-01]\n",
      " [ 1.00000000e+00  3.09016994e-01 -9.00968868e-01]\n",
      " [ 6.12323400e-17  1.00000000e+00 -2.22520934e-01]\n",
      " [-1.00000000e+00  3.09016994e-01  6.23489802e-01]\n",
      " [-1.83697020e-16 -8.09016994e-01  1.00000000e+00]]\n",
      "\n",
      "[[ 0.00000000e+00  1.00000000e+00  1.22464680e-16 -1.00000000e+00\n",
      "   0.00000000e+00  1.00000000e+00  1.22464680e-16 -1.00000000e+00]\n",
      " [ 1.00000000e+00  6.12323400e-17 -1.00000000e+00 -1.83697020e-16\n",
      "   1.00000000e+00  6.12323400e-17 -1.00000000e+00 -1.83697020e-16]\n",
      " [ 0.00000000e+00  9.51056516e-01  5.87785252e-01 -5.87785252e-01\n",
      "  -9.51056516e-01  0.00000000e+00  9.51056516e-01  5.87785252e-01]\n",
      " [ 1.00000000e+00  3.09016994e-01 -8.09016994e-01 -8.09016994e-01\n",
      "   3.09016994e-01  1.00000000e+00  3.09016994e-01 -8.09016994e-01]\n",
      " [ 0.00000000e+00  7.81831482e-01  9.74927912e-01  4.33883739e-01\n",
      "  -4.33883739e-01 -9.74927912e-01 -7.81831482e-01  0.00000000e+00]\n",
      " [ 1.00000000e+00  6.23489802e-01 -2.22520934e-01 -9.00968868e-01\n",
      "  -9.00968868e-01 -2.22520934e-01  6.23489802e-01  1.00000000e+00]]\n",
      "\n",
      "2.0334665985780633\n",
      "2.0334665985780633\n"
     ]
    }
   ],
   "source": [
    "# positional encoding\n",
    "import numpy as np\n",
    "import math\n",
    "\n",
    "positions = np.arange(4)\n",
    "print(positions/4)  # unique values\n",
    "positions = np.arange(8)\n",
    "print(positions/4)  # unique but > 1\n",
    "\n",
    "positions = np.arange(8)\n",
    "print(np.remainder(positions, 4)/4)  # <1 but not unique\n",
    "\n",
    "positions = np.arange(8)\n",
    "positionvectors = np.ones(8) * np.array([np.remainder(positions, 4)/4, np.remainder(positions, 5)/5, np.remainder(positions, 7)/7])\n",
    "print(positionvectors.T)\n",
    "print()\n",
    "\n",
    "print(np.linalg.norm(positionvectors.T[3] - positionvectors.T[2]))  # distances not equal\n",
    "print(np.linalg.norm(positionvectors.T[4] - positionvectors.T[3]))\n",
    "\n",
    "#print(positionvectors.T * np.deg2rad(360))  # angles\n",
    "print()\n",
    "\n",
    "print(f\"sin: {np.sin(positionvectors.T * np.deg2rad(360))}\")  # xy coordinates\n",
    "print(f\"cos: {np.cos(positionvectors.T * np.deg2rad(360))}\")\n",
    "print()\n",
    "\n",
    "positionvectorssin = np.array([[np.sin(v[i]) for v in positionvectors.T * np.deg2rad(360)] for i in range(3)])\n",
    "positionvectorscos = np.array([[np.cos(v[i]) for v in positionvectors.T * np.deg2rad(360)] for i in range(3)])\n",
    "\n",
    "row_a, col_a = np.shape(positionvectorssin)\n",
    "positionvectorsxy = np.ravel([positionvectorssin, positionvectorscos], order=\"F\")\n",
    "#positionvectorsxy = np.reshape(positionvectorsxy, (2*row_a, col_a))\n",
    "positionvectorsxy = np.array([positionvectorsxy.tolist()[i:i+2*row_a] for i in range(0, 2*row_a*col_a, 2*row_a)])\n",
    "print(positionvectorsxy.T)\n",
    "print()\n",
    "\n",
    "print(np.linalg.norm(positionvectorsxy.T[0:, 3] - positionvectorsxy.T[0:, 2]))  # distances are now equal\n",
    "print(np.linalg.norm(positionvectorsxy.T[0:, 4] - positionvectorsxy.T[0:, 3]))\n"
   ]
  },
  {
   "cell_type": "code",
   "execution_count": 184,
   "id": "b2bf717a-b486-4145-96f4-f4a481d5641b",
   "metadata": {},
   "outputs": [
    {
     "data": {
      "text/plain": [
       "1.2862016679302504"
      ]
     },
     "execution_count": 184,
     "metadata": {},
     "output_type": "execute_result"
    }
   ],
   "source": [
    "# https://helsinki-nlp.github.io/shroom/\n",
    "10.179/7.914"
   ]
  },
  {
   "cell_type": "code",
   "execution_count": 165,
   "id": "c36536b0-35e9-4adf-a4de-094c145b2fda",
   "metadata": {},
   "outputs": [
    {
     "name": "stdout",
     "output_type": "stream",
     "text": [
      "tensor([[ 0.0000,  1.0000,  0.0000,  1.0000,  0.0000,  1.0000,  0.0000,  1.0000],\n",
      "        [ 0.8415,  0.5403,  0.0998,  0.9950,  0.0100,  1.0000,  0.0010,  1.0000],\n",
      "        [ 0.9093, -0.4161,  0.1987,  0.9801,  0.0200,  0.9998,  0.0020,  1.0000],\n",
      "        [ 0.1411, -0.9900,  0.2955,  0.9553,  0.0300,  0.9996,  0.0030,  1.0000]])\n"
     ]
    }
   ],
   "source": [
    "import torch\n",
    "import numpy as np\n",
    "\n",
    "max_len = 10\n",
    "d_model = 8\n",
    "position = torch.arange(0, max_len).float().unsqueeze(1)  # https://stackoverflow.com/questions/57237352/what-does-unsqueeze-do-in-pytorch\n",
    "\n",
    "angular_speed = torch.exp(\n",
    "    torch.arange(0, d_model, 2).float() * (-np.log(10000.0) / d_model)\n",
    ")\n",
    "encoding = torch.zeros(max_len, d_model)\n",
    "encoding[:, 0::2] = torch.sin(angular_speed * position)\n",
    "encoding[:, 1::2] = torch.cos(angular_speed * position)\n",
    "\n",
    "print(np.round(encoding[0:4], 4))\n"
   ]
  },
  {
   "cell_type": "code",
   "execution_count": 4,
   "id": "c7a70ac3-6531-4ccf-b881-d8cb39d5dd05",
   "metadata": {},
   "outputs": [
    {
     "name": "stdout",
     "output_type": "stream",
     "text": [
      "tensor([[[-1.9024,  0.4950, -0.8662,  0.5679],\n",
      "         [ 0.4720,  0.1376,  0.0508, -1.3710]],\n",
      "\n",
      "        [[-1.2136,  0.1780,  1.4307,  0.5042],\n",
      "         [-0.9384, -0.9085, -1.1091, -0.8476]],\n",
      "\n",
      "        [[-0.4022,  0.4854,  1.6852,  0.5294],\n",
      "         [ 1.6921,  3.2086,  0.7335,  0.5381]]])\n",
      "tensor([[[-0.4264],\n",
      "         [-0.1776]],\n",
      "\n",
      "        [[ 0.2248],\n",
      "         [-0.9509]],\n",
      "\n",
      "        [[ 0.5744],\n",
      "         [ 1.5431]]])\n",
      "tensor([[[1.0524],\n",
      "         [0.4994]],\n",
      "\n",
      "        [[0.9009],\n",
      "         [0.0094]],\n",
      "\n",
      "        [[0.5494],\n",
      "         [1.1154]]])\n",
      "tensor([[[-1.4387,  0.8982, -0.4287,  0.9693],\n",
      "         [ 0.9193,  0.4461,  0.3233, -1.6886]],\n",
      "\n",
      "        [[-1.5155, -0.0494,  1.2705,  0.2943],\n",
      "         [ 0.1286,  0.4370, -1.6297,  1.0641]],\n",
      "\n",
      "        [[-1.3176, -0.1202,  1.4986, -0.0608],\n",
      "         [ 0.1411,  1.5770, -0.7666, -0.9515]]])\n",
      "tensor([[[-1.4387,  0.8982, -0.4287,  0.9693],\n",
      "         [ 0.9193,  0.4461,  0.3233, -1.6886]],\n",
      "\n",
      "        [[-1.5155, -0.0494,  1.2705,  0.2943],\n",
      "         [ 0.1286,  0.4370, -1.6297,  1.0641]],\n",
      "\n",
      "        [[-1.3176, -0.1202,  1.4986, -0.0608],\n",
      "         [ 0.1411,  1.5770, -0.7666, -0.9515]]],\n",
      "       grad_fn=<NativeLayerNormBackward0>)\n"
     ]
    }
   ],
   "source": [
    "# layer normalization\n",
    "import torch\n",
    "import torch.nn as nn\n",
    "\n",
    "dmodel = 4\n",
    "seqlen = 2\n",
    "npoints = 3\n",
    "\n",
    "torch.manual_seed(34)\n",
    "data = torch.randn(npoints, seqlen, dmodel)  # note (N, L, D)\n",
    "print(data)\n",
    "\n",
    "datamean = data.mean(axis=2).unsqueeze(2)\n",
    "print(datamean)\n",
    "\n",
    "datavar = data.var(axis=2, unbiased=False).unsqueeze(2)\n",
    "print(datavar)\n",
    "\n",
    "print((data - datamean) / torch.sqrt(datavar + 1e-5))\n",
    "\n",
    "layernorm = nn.LayerNorm(dmodel)  # this is the same\n",
    "normalized = layernorm(data)\n",
    "\n",
    "print(normalized)"
   ]
  },
  {
   "cell_type": "code",
   "execution_count": 12,
   "id": "0f856889-e9b3-49d9-926b-97ba49953986",
   "metadata": {},
   "outputs": [
    {
     "data": {
      "image/png": "[encoded data removed]",
      "text/plain": [
       "<Figure size 640x480 with 1 Axes>"
      ]
     },
     "metadata": {},
     "output_type": "display_data"
    }
   ],
   "source": [
    "# batch normalization\n",
    "# batch 0 |-------------------- -> layer norm (horizontal)\n",
    "#         |--------------------\n",
    "#         |-> batch norm batch 0 (vertical by batch)\n",
    "# batch 1 |--------------------\n",
    "#         |--------------------\n",
    "#         |-> batch norm batch 1  \n",
    "import torch\n",
    "import torch.nn as nn\n",
    "import matplotlib.pyplot as plt\n",
    "import numpy as np\n",
    "\n",
    "#np.random.seed(42)\n",
    "#x = np.random.normal(size=1000)\n",
    "\n",
    "#plt.hist(x, density=True, bins=30)  # density=False would make counts\n",
    "\n",
    "dmodel = 4\n",
    "seqlen = 1\n",
    "npoints = 256\n",
    "\n",
    "torch.manual_seed(23)\n",
    "data = torch.randn(npoints, seqlen, dmodel)  # note (N, L, D)\n",
    "#print(data)\n",
    "\n",
    "plt.hist([data[i][0][0] for i in range(npoints)], density=True, bins=30)\n",
    "\n",
    "plt.ylabel('Probability')\n",
    "plt.xlabel('Data')\n",
    "\n",
    "layernorm = nn.LayerNorm(npoints)\n",
    "normalized = layernorm(data[:, 0, 0])\n",
    "#normalized\n",
    "plt.hist([normalized.detach().numpy()[i] for i in range(npoints)], density=True, bins=30)\n",
    "\n",
    "plt.show()"
   ]
  },
  {
   "cell_type": "code",
   "execution_count": 2,
   "id": "b4785ccb-d58d-454b-9bae-a3d182bc3844",
   "metadata": {},
   "outputs": [
    {
     "data": {
      "text/plain": [
       "tensor([[[-1.0000,  1.0000],\n",
       "         [ 1.0000, -1.0000]]], grad_fn=<NativeLayerNormBackward0>)"
      ]
     },
     "execution_count": 2,
     "metadata": {},
     "output_type": "execute_result"
    }
   ],
   "source": [
    "sourceseqenc = torch.tensor([[[1.46, 2.37], [1.98, -0.76]]])\n",
    "layernorm = nn.LayerNorm(2)\n",
    "layernorm(sourceseqenc)  # +-1 fortwoe features only"
   ]
  },
  {
   "cell_type": "code",
   "execution_count": 24,
   "id": "8121e8c3-6ecb-4591-8d4b-0d26b923af0b",
   "metadata": {},
   "outputs": [
    {
     "name": "stdout",
     "output_type": "stream",
     "text": [
      "9.327379053088816 9.333333333333334\n",
      "(9, 6, 18) 9.333333333333334 9.327379053088816\n",
      "(8, 9, 16) 8.5625 8.54400374531753\n",
      "(12, 9, 24) 12.375 12.36931687685298\n",
      "(3914, 5160, 7828) 3914.6591722023504 3914.6591167047995\n"
     ]
    }
   ],
   "source": [
    "import math\n",
    "#import matplotlib.pyplot as plt\n",
    "#import numpy as np\n",
    "\n",
    "print(math.sqrt(87), 9+1/3)\n",
    "\n",
    "def approxsqrt(a):\n",
    "    aa = int(math.sqrt(a))\n",
    "    return (aa, a - aa*aa, 2*aa)\n",
    "\n",
    "#xy = np.array([(a, math.sqrt(a)) for a in range(2,50)])\n",
    "#plt.scatter(xy[:, 0], xy[:, 1])\n",
    "#plt.show()\n",
    "\n",
    "a = 87\n",
    "r = approxsqrt(a)\n",
    "print(r, r[0] + r[1]/r[2], math.sqrt(a))\n",
    "a = 73\n",
    "r = approxsqrt(a)\n",
    "print(r, r[0] + r[1]/r[2], math.sqrt(a))\n",
    "a = 153\n",
    "r = approxsqrt(a)\n",
    "print(r, r[0] + r[1]/r[2], math.sqrt(a))\n",
    "a = 15324556\n",
    "r = approxsqrt(a)\n",
    "print(r, r[0] + r[1]/r[2], math.sqrt(a))"
   ]
  },
  {
   "cell_type": "code",
   "execution_count": 34,
   "id": "54372c80-fc85-4438-a09d-d239c997f0ed",
   "metadata": {},
   "outputs": [
    {
     "name": "stdout",
     "output_type": "stream",
     "text": [
      "[[ 1.03487506  0.96613817]\n",
      " [ 0.80546093 -0.91690943]\n",
      " [-0.82507582 -0.94988627]\n",
      " [-0.86696831  0.93424827]]\n"
     ]
    },
    {
     "data": {
      "image/png": "[encoded data removed]",
      "text/plain": [
       "<Figure size 1500x600 with 10 Axes>"
      ]
     },
     "metadata": {},
     "output_type": "display_data"
    }
   ],
   "source": [
    "import numpy as np\n",
    "from matplotlib import pyplot as plt, patches\n",
    "from matplotlib.colors import ListedColormap, LinearSegmentedColormap\n",
    "\n",
    "def generate_sequences(n=128, variable_len=False, seed=13):\n",
    "    basic_corners = np.array([[-1, -1], [-1, 1], [1, 1], [1, -1]])\n",
    "    np.random.seed(seed)\n",
    "    bases = np.random.randint(4, size=n)\n",
    "    if variable_len:\n",
    "        lengths = np.random.randint(3, size=n) + 2\n",
    "    else:\n",
    "        lengths = [4] * n\n",
    "    directions = np.random.randint(2, size=n)\n",
    "    points = [basic_corners[[(b + i) % 4 for i in range(4)]][slice(None, None, d*2-1)][:l] + np.random.randn(l, 2) * 0.1 for b, d, l in zip(bases, directions, lengths)]\n",
    "    return points, directions\n",
    "\n",
    "\n",
    "def plot_data(points, directions, n_rows=2, n_cols=5):\n",
    "    fig, axs = plt.subplots(n_rows, n_cols, figsize=(3*n_cols, 3*n_rows))\n",
    "    axs = axs.flatten()\n",
    "    \n",
    "    for e, ax in enumerate(axs):\n",
    "        pred_corners = points[e]\n",
    "        clockwise = directions[e]\n",
    "        for i in range(4):\n",
    "            color = 'k'\n",
    "            ax.scatter(*pred_corners.T, c=color, s=400)\n",
    "            if i == 3:\n",
    "                start = -1\n",
    "            else:\n",
    "                start = i\n",
    "            ax.plot(*pred_corners[[start, start+1]].T, c='k', lw=2, alpha=.5, linestyle='-')\n",
    "            ax.text(*(pred_corners[i] - np.array([.04, 0.04])), str(i+1), c='w', fontsize=10)\n",
    "            if directions is not None:\n",
    "                ax.set_title(f'{\"Counter-\" if not clockwise else \"\"}Clockwise (y={clockwise})', fontsize=14)\n",
    "\n",
    "        ax.set_xlabel(r\"$x_0$\")\n",
    "        ax.set_ylabel(r\"$x_1$\", rotation=0)\n",
    "        ax.set_xlim([-1.5, 1.5])\n",
    "        ax.set_ylim([-1.5, 1.5])\n",
    "\n",
    "    fig.tight_layout()\n",
    "    return fig\n",
    "\n",
    "pts, dirs = generate_sequences(n=128, seed=13)\n",
    "print(pts[0])\n",
    "fig = plot_data(pts, dirs)"
   ]
  },
  {
   "cell_type": "code",
   "execution_count": 17,
   "id": "d06b62d5-2e36-4a45-902c-a77433d90b22",
   "metadata": {},
   "outputs": [
    {
     "name": "stdout",
     "output_type": "stream",
     "text": [
      "42.492298272933745 37.78097917513034\n"
     ]
    }
   ],
   "source": [
    "import math\n",
    "\n",
    "print(math.degrees(math.atan(262/286)), math.degrees(math.atan(262/338)))"
   ]
  },
  {
   "cell_type": "markdown",
   "id": "d3764fbb-515e-4750-9011-30375b519e63",
   "metadata": {},
   "source": [
    "## Hugging Face\n",
    "\n",
    "https://github.com/nlp-with-transformers/notebooks"
   ]
  },
  {
   "cell_type": "code",
   "execution_count": 10,
   "id": "d606897e-1232-40dd-a8fb-ef5a6fc2c791",
   "metadata": {},
   "outputs": [
    {
     "name": "stdout",
     "output_type": "stream",
     "text": [
      "Dataset Name: ade_corpus_v2, Tags: ['task_categories:text-classification', 'task_categories:token-classification', 'task_ids:coreference-resolution', 'task_ids:fact-checking', 'annotations_creators:expert-generated', 'language_creators:found', 'multilinguality:monolingual', 'size_categories:10K<n<100K', 'size_categories:1K<n<10K', 'size_categories:n<1K', 'source_datasets:original', 'language:en', 'license:unknown', 'region:us']\n"
     ]
    }
   ],
   "source": [
    "# search hub: https://huggingface.co/docs/huggingface_hub/v0.5.1/en/searching-the-hub\n",
    "#from huggingface_hub import list_datasets\n",
    "from huggingface_hub import DatasetFilter\n",
    "from huggingface_hub import DatasetSearchArguments\n",
    "from huggingface_hub import HfApi\n",
    "\n",
    "api = HfApi()\n",
    "\n",
    "#all_datasets = list_datasets()\n",
    "\n",
    "dataset_args = DatasetSearchArguments()\n",
    "filt = DatasetFilter(\n",
    "   #languages=dataset_args.languages.en,\n",
    "   task_categories=dataset_args.task_categories.text_classification\n",
    ")\n",
    "ds = list(api.list_datasets(filter=filt))\n",
    "first_ds = ds[0]\n",
    "print(first_ds)\n",
    "#print(f\"currently {len(all_datasets)} available on the Hub\")\n",
    "#print(f\"the firsst ten are {all_datasets}\")"
   ]
  },
  {
   "cell_type": "code",
   "execution_count": 18,
   "id": "a224a5a7-1617-4b1a-910d-66b9a6961d1b",
   "metadata": {},
   "outputs": [
    {
     "name": "stderr",
     "output_type": "stream",
     "text": [
      "D:\\Anaconda\\envs\\tf-gpu\\lib\\site-packages\\datasets\\load.py:1429: FutureWarning: The repository for emotion contains custom code which must be executed to correctly load the dataset. You can inspect the repository content at https://hf.co/datasets/emotion\n",
      "You can avoid this message in future by passing the argument `trust_remote_code=True`.\n",
      "Passing `trust_remote_code=True` will be mandatory to load this dataset from the next major release of `datasets`.\n",
      "  warnings.warn(\n"
     ]
    },
    {
     "data": {
      "text/plain": [
       "DatasetDict({\n",
       "    train: Dataset({\n",
       "        features: ['text', 'label'],\n",
       "        num_rows: 16000\n",
       "    })\n",
       "    validation: Dataset({\n",
       "        features: ['text', 'label'],\n",
       "        num_rows: 2000\n",
       "    })\n",
       "    test: Dataset({\n",
       "        features: ['text', 'label'],\n",
       "        num_rows: 2000\n",
       "    })\n",
       "})"
      ]
     },
     "execution_count": 18,
     "metadata": {},
     "output_type": "execute_result"
    }
   ],
   "source": [
    "from datasets import load_dataset\n",
    "\n",
    "emotions = load_dataset(\"emotion\")\n",
    "\n",
    "emotions"
   ]
  },
  {
   "cell_type": "code",
   "execution_count": 17,
   "id": "9a741464-e69f-492d-aa4a-891777dda25e",
   "metadata": {},
   "outputs": [
    {
     "ename": "NameError",
     "evalue": "name 'emotions' is not defined",
     "output_type": "error",
     "traceback": [
      "\u001b[1;31m---------------------------------------------------------------------------\u001b[0m",
      "\u001b[1;31mNameError\u001b[0m                                 Traceback (most recent call last)",
      "Cell \u001b[1;32mIn[17], line 1\u001b[0m\n\u001b[1;32m----> 1\u001b[0m train_ds \u001b[38;5;241m=\u001b[39m \u001b[43memotions\u001b[49m[\u001b[38;5;124m\"\u001b[39m\u001b[38;5;124mtrain\u001b[39m\u001b[38;5;124m\"\u001b[39m]\n\u001b[0;32m      2\u001b[0m train_ds\n",
      "\u001b[1;31mNameError\u001b[0m: name 'emotions' is not defined"
     ]
    }
   ],
   "source": [
    "train_ds = emotions[\"train\"]\n",
    "train_ds"
   ]
  },
  {
   "cell_type": "code",
   "execution_count": 20,
   "id": "371c2bbd-62eb-4756-ae2a-450dccc7ee95",
   "metadata": {},
   "outputs": [
    {
     "data": {
      "text/plain": [
       "{'text': 'i didnt feel humiliated', 'label': 0}"
      ]
     },
     "execution_count": 20,
     "metadata": {},
     "output_type": "execute_result"
    }
   ],
   "source": [
    "train_ds[0]"
   ]
  },
  {
   "cell_type": "code",
   "execution_count": 21,
   "id": "b858b903-dbd2-455f-a9dc-425198787d76",
   "metadata": {},
   "outputs": [
    {
     "data": {
      "text/plain": [
       "['text', 'label']"
      ]
     },
     "execution_count": 21,
     "metadata": {},
     "output_type": "execute_result"
    }
   ],
   "source": [
    "train_ds.column_names"
   ]
  },
  {
   "cell_type": "code",
   "execution_count": 22,
   "id": "eda5eb61-15dd-4a41-a09d-8b35aacdc98a",
   "metadata": {},
   "outputs": [
    {
     "name": "stdout",
     "output_type": "stream",
     "text": [
      "{'text': Value(dtype='string', id=None), 'label': ClassLabel(names=['sadness', 'joy', 'love', 'anger', 'fear', 'surprise'], id=None)}\n"
     ]
    }
   ],
   "source": [
    "print(train_ds.features)"
   ]
  },
  {
   "cell_type": "code",
   "execution_count": 23,
   "id": "9b1f360a-84d0-41df-b1c8-a6ebc916af6a",
   "metadata": {},
   "outputs": [
    {
     "name": "stdout",
     "output_type": "stream",
     "text": [
      "{'text': ['i didnt feel humiliated', 'i can go from feeling so hopeless to so damned hopeful just from being around someone who cares and is awake', 'im grabbing a minute to post i feel greedy wrong', 'i am ever feeling nostalgic about the fireplace i will know that it is still on the property', 'i am feeling grouchy'], 'label': [0, 0, 3, 2, 3]}\n"
     ]
    }
   ],
   "source": [
    "print(train_ds[:5])"
   ]
  },
  {
   "cell_type": "code",
   "execution_count": 33,
   "id": "c4967e8e-bdec-466b-bcbf-9d3cea61bd9b",
   "metadata": {},
   "outputs": [
    {
     "name": "stdout",
     "output_type": "stream",
     "text": [
      "[('i didnt feel humiliated', 'sadness'), ('i can go from feeling so hopeless to so damned hopeful just from being around someone who cares and is awake', 'sadness'), ('im grabbing a minute to post i feel greedy wrong', 'anger'), ('i am ever feeling nostalgic about the fireplace i will know that it is still on the property', 'love'), ('i am feeling grouchy', 'anger')]\n"
     ]
    }
   ],
   "source": [
    "print(list(zip(train_ds[:5][\"text\"], [train_ds.features[\"label\"].names[l] for l in train_ds[:5][\"label\"]])))"
   ]
  },
  {
   "cell_type": "code",
   "execution_count": 19,
   "id": "1f1fa6ce-5c8d-4ac0-a539-25429c1ea2cb",
   "metadata": {},
   "outputs": [
    {
     "data": {
      "text/html": [
       "<div>\n",
       "<style scoped>\n",
       "    .dataframe tbody tr th:only-of-type {\n",
       "        vertical-align: middle;\n",
       "    }\n",
       "\n",
       "    .dataframe tbody tr th {\n",
       "        vertical-align: top;\n",
       "    }\n",
       "\n",
       "    .dataframe thead th {\n",
       "        text-align: right;\n",
       "    }\n",
       "</style>\n",
       "<table border=\"1\" class=\"dataframe\">\n",
       "  <thead>\n",
       "    <tr style=\"text-align: right;\">\n",
       "      <th></th>\n",
       "      <th>text</th>\n",
       "      <th>label</th>\n",
       "    </tr>\n",
       "  </thead>\n",
       "  <tbody>\n",
       "    <tr>\n",
       "      <th>0</th>\n",
       "      <td>i didnt feel humiliated</td>\n",
       "      <td>0</td>\n",
       "    </tr>\n",
       "    <tr>\n",
       "      <th>1</th>\n",
       "      <td>i can go from feeling so hopeless to so damned...</td>\n",
       "      <td>0</td>\n",
       "    </tr>\n",
       "    <tr>\n",
       "      <th>2</th>\n",
       "      <td>im grabbing a minute to post i feel greedy wrong</td>\n",
       "      <td>3</td>\n",
       "    </tr>\n",
       "    <tr>\n",
       "      <th>3</th>\n",
       "      <td>i am ever feeling nostalgic about the fireplac...</td>\n",
       "      <td>2</td>\n",
       "    </tr>\n",
       "    <tr>\n",
       "      <th>4</th>\n",
       "      <td>i am feeling grouchy</td>\n",
       "      <td>3</td>\n",
       "    </tr>\n",
       "  </tbody>\n",
       "</table>\n",
       "</div>"
      ],
      "text/plain": [
       "                                                text  label\n",
       "0                            i didnt feel humiliated      0\n",
       "1  i can go from feeling so hopeless to so damned...      0\n",
       "2   im grabbing a minute to post i feel greedy wrong      3\n",
       "3  i am ever feeling nostalgic about the fireplac...      2\n",
       "4                               i am feeling grouchy      3"
      ]
     },
     "execution_count": 19,
     "metadata": {},
     "output_type": "execute_result"
    }
   ],
   "source": [
    "# datasets -> dataframes\n",
    "import pandas as pd\n",
    "\n",
    "emotions.set_format(type=\"pandas\")\n",
    "df = emotions[\"train\"][:]\n",
    "df.head()"
   ]
  },
  {
   "cell_type": "code",
   "execution_count": 36,
   "id": "90d7e8d2-2ba3-42f2-8229-cd7fc0fdfc9f",
   "metadata": {},
   "outputs": [
    {
     "data": {
      "text/html": [
       "<div>\n",
       "<style scoped>\n",
       "    .dataframe tbody tr th:only-of-type {\n",
       "        vertical-align: middle;\n",
       "    }\n",
       "\n",
       "    .dataframe tbody tr th {\n",
       "        vertical-align: top;\n",
       "    }\n",
       "\n",
       "    .dataframe thead th {\n",
       "        text-align: right;\n",
       "    }\n",
       "</style>\n",
       "<table border=\"1\" class=\"dataframe\">\n",
       "  <thead>\n",
       "    <tr style=\"text-align: right;\">\n",
       "      <th></th>\n",
       "      <th>text</th>\n",
       "      <th>label</th>\n",
       "      <th>label_name</th>\n",
       "    </tr>\n",
       "  </thead>\n",
       "  <tbody>\n",
       "    <tr>\n",
       "      <th>0</th>\n",
       "      <td>i didnt feel humiliated</td>\n",
       "      <td>0</td>\n",
       "      <td>sadness</td>\n",
       "    </tr>\n",
       "    <tr>\n",
       "      <th>1</th>\n",
       "      <td>i can go from feeling so hopeless to so damned...</td>\n",
       "      <td>0</td>\n",
       "      <td>sadness</td>\n",
       "    </tr>\n",
       "    <tr>\n",
       "      <th>2</th>\n",
       "      <td>im grabbing a minute to post i feel greedy wrong</td>\n",
       "      <td>3</td>\n",
       "      <td>anger</td>\n",
       "    </tr>\n",
       "    <tr>\n",
       "      <th>3</th>\n",
       "      <td>i am ever feeling nostalgic about the fireplac...</td>\n",
       "      <td>2</td>\n",
       "      <td>love</td>\n",
       "    </tr>\n",
       "    <tr>\n",
       "      <th>4</th>\n",
       "      <td>i am feeling grouchy</td>\n",
       "      <td>3</td>\n",
       "      <td>anger</td>\n",
       "    </tr>\n",
       "  </tbody>\n",
       "</table>\n",
       "</div>"
      ],
      "text/plain": [
       "                                                text  label label_name\n",
       "0                            i didnt feel humiliated      0    sadness\n",
       "1  i can go from feeling so hopeless to so damned...      0    sadness\n",
       "2   im grabbing a minute to post i feel greedy wrong      3      anger\n",
       "3  i am ever feeling nostalgic about the fireplac...      2       love\n",
       "4                               i am feeling grouchy      3      anger"
      ]
     },
     "execution_count": 36,
     "metadata": {},
     "output_type": "execute_result"
    }
   ],
   "source": [
    "def label_int2str(row):\n",
    "    return emotions[\"train\"].features[\"label\"].int2str(row)\n",
    "\n",
    "df[\"label_name\"] = df[\"label\"].apply(label_int2str)\n",
    "df.head()"
   ]
  },
  {
   "cell_type": "code",
   "execution_count": 38,
   "id": "2a034456-393f-4ea4-9634-ee727a61480c",
   "metadata": {},
   "outputs": [
    {
     "data": {
      "image/png": "[encoded data removed]",
      "text/plain": [
       "<Figure size 640x480 with 1 Axes>"
      ]
     },
     "metadata": {},
     "output_type": "display_data"
    }
   ],
   "source": [
    "import matplotlib.pyplot as plt\n",
    "\n",
    "df[\"label_name\"].value_counts(ascending=True).plot.barh()\n",
    "plt.title(\"frequency of classes\")\n",
    "plt.show()"
   ]
  },
  {
   "cell_type": "code",
   "execution_count": 41,
   "id": "8156f872-e413-4b5b-be64-363f5a511c89",
   "metadata": {},
   "outputs": [
    {
     "data": {
      "image/png": "[encoded data removed]",
      "text/plain": [
       "<Figure size 640x480 with 1 Axes>"
      ]
     },
     "metadata": {},
     "output_type": "display_data"
    }
   ],
   "source": [
    "df[\"Words per Tweet\"] = df[\"text\"].str.split().apply(len)\n",
    "df.boxplot(\"Words per Tweet\", by=\"label_name\", grid=False,\n",
    "          showfliers=False, color=\"grey\")\n",
    "plt.suptitle('')\n",
    "plt.xlabel('')\n",
    "plt.show()"
   ]
  },
  {
   "cell_type": "code",
   "execution_count": 24,
   "id": "f89ec564-91d0-4119-a597-d578a6b38846",
   "metadata": {},
   "outputs": [],
   "source": [
    "\n",
    "emotions.reset_format()"
   ]
  },
  {
   "cell_type": "markdown",
   "id": "90cc518c-d074-4b67-a548-5f9447cbe481",
   "metadata": {},
   "source": [
    "## Subword tokenization"
   ]
  },
  {
   "cell_type": "code",
   "execution_count": 2,
   "id": "c6f1ab1b-96b5-4a96-b8a4-4a733c56773c",
   "metadata": {},
   "outputs": [
    {
     "data": {
      "application/vnd.jupyter.widget-view+json": {
       "model_id": "76615c9bde98457ab580fab2cf399ab3",
       "version_major": 2,
       "version_minor": 0
      },
      "text/plain": [
       "Downloading tokenizer_config.json:   0%|          | 0.00/28.0 [00:00<?, ?B/s]"
      ]
     },
     "metadata": {},
     "output_type": "display_data"
    },
    {
     "name": "stderr",
     "output_type": "stream",
     "text": [
      "D:\\Anaconda\\envs\\tf-gpu\\lib\\site-packages\\huggingface_hub\\file_download.py:137: UserWarning: `huggingface_hub` cache-system uses symlinks by default to efficiently store duplicated files but your machine does not support them in C:\\Users\\bscho\\.cache\\huggingface\\hub. Caching files will still work but in a degraded version that might require more space on your disk. This warning can be disabled by setting the `HF_HUB_DISABLE_SYMLINKS_WARNING` environment variable. For more details, see https://huggingface.co/docs/huggingface_hub/how-to-cache#limitations.\n",
      "To support symlinks on Windows, you either need to activate Developer Mode or to run Python as an administrator. In order to see activate developer mode, see this article: https://docs.microsoft.com/en-us/windows/apps/get-started/enable-your-device-for-development\n",
      "  warnings.warn(message)\n"
     ]
    },
    {
     "data": {
      "application/vnd.jupyter.widget-view+json": {
       "model_id": "e0d3c5927b324373b308b5d6ba3b4c21",
       "version_major": 2,
       "version_minor": 0
      },
      "text/plain": [
       "Downloading config.json:   0%|          | 0.00/483 [00:00<?, ?B/s]"
      ]
     },
     "metadata": {},
     "output_type": "display_data"
    },
    {
     "data": {
      "application/vnd.jupyter.widget-view+json": {
       "model_id": "4b5ec5581ef140feb9abd59826f49754",
       "version_major": 2,
       "version_minor": 0
      },
      "text/plain": [
       "Downloading vocab.txt:   0%|          | 0.00/232k [00:00<?, ?B/s]"
      ]
     },
     "metadata": {},
     "output_type": "display_data"
    },
    {
     "data": {
      "application/vnd.jupyter.widget-view+json": {
       "model_id": "dc95632b1152476abfbd433d5b66dba4",
       "version_major": 2,
       "version_minor": 0
      },
      "text/plain": [
       "Downloading tokenizer.json:   0%|          | 0.00/466k [00:00<?, ?B/s]"
      ]
     },
     "metadata": {},
     "output_type": "display_data"
    }
   ],
   "source": [
    "from transformers import AutoTokenizer\n",
    "\n",
    "model_ckpt = \"distilbert-base-uncased\"\n",
    "tokenizer = AutoTokenizer.from_pretrained(model_ckpt)"
   ]
  },
  {
   "cell_type": "code",
   "execution_count": 3,
   "id": "5b4d6760-33b6-4c47-8c0b-0fc56a801825",
   "metadata": {},
   "outputs": [
    {
     "name": "stdout",
     "output_type": "stream",
     "text": [
      "{'input_ids': [101, 3582, 1996, 8272, 5530, 1997, 13109, 8528, 1010, 1052, 22123, 2953, 2818, 2030, 23435, 12314, 2000, 2156, 2129, 2000, 16500, 2068, 2007, 9530, 2850, 1012, 3602, 1024, 2006, 3645, 1010, 2017, 2089, 2022, 9469, 2000, 20544, 9722, 5549, 1999, 2344, 2000, 5770, 2013, 6187, 8450, 1012, 2065, 2023, 2003, 2025, 2019, 5724, 2005, 2017, 1010, 3531, 2292, 2149, 2113, 1999, 2023, 3277, 1012, 2035, 1996, 2944, 26520, 2015, 3024, 2011, 100, 19081, 2024, 25180, 10895, 6377, 2013, 1996, 17662, 12172, 1012, 2522, 2944, 9594, 1010, 2073, 2027, 2024, 21345, 3495, 2011, 5198, 1998, 4411, 1012, 102], 'attention_mask': [1, 1, 1, 1, 1, 1, 1, 1, 1, 1, 1, 1, 1, 1, 1, 1, 1, 1, 1, 1, 1, 1, 1, 1, 1, 1, 1, 1, 1, 1, 1, 1, 1, 1, 1, 1, 1, 1, 1, 1, 1, 1, 1, 1, 1, 1, 1, 1, 1, 1, 1, 1, 1, 1, 1, 1, 1, 1, 1, 1, 1, 1, 1, 1, 1, 1, 1, 1, 1, 1, 1, 1, 1, 1, 1, 1, 1, 1, 1, 1, 1, 1, 1, 1, 1, 1, 1, 1, 1, 1, 1, 1, 1, 1, 1, 1, 1]}\n"
     ]
    }
   ],
   "source": [
    "text = \"Follow the installation pages of Flax, PyTorch or TensorFlow to see how to install them with conda. NOTE: On Windows, you may be prompted to activate Developer Mode in order to benefit from caching. If this is not an option for you, please let us know in this issue. All the model checkpoints provided by 🤗 Transformers are seamlessly integrated from the huggingface.co model hub, where they are uploaded directly by users and organizations.\"\n",
    "encoded_text = tokenizer(text)\n",
    "print(encoded_text)"
   ]
  },
  {
   "cell_type": "code",
   "execution_count": 21,
   "id": "38d81cbb-6b57-4926-af84-51f518e93cb0",
   "metadata": {},
   "outputs": [
    {
     "name": "stdout",
     "output_type": "stream",
     "text": [
      "['[CLS]', 'follow', 'the', 'installation', 'pages', 'of', 'fl', '##ax', ',', 'p', '##yt', '##or', '##ch', 'or', 'tensor', '##flow', 'to', 'see', 'how', 'to', 'install', 'them', 'with', 'con', '##da', '.', 'note', ':', 'on', 'windows', ',', 'you', 'may', 'be', 'prompted', 'to', 'activate', 'developer', 'mode', 'in', 'order', 'to', 'benefit', 'from', 'ca', '##ching', '.', 'if', 'this', 'is', 'not', 'an', 'option', 'for', 'you', ',', 'please', 'let', 'us', 'know', 'in', 'this', 'issue', '.', 'all', 'the', 'model', 'checkpoint', '##s', 'provided', 'by', '[UNK]', 'transformers', 'are', 'seam', '##lessly', 'integrated', 'from', 'the', 'hugging', '##face', '.', 'co', 'model', 'hub', ',', 'where', 'they', 'are', 'uploaded', 'directly', 'by', 'users', 'and', 'organizations', '.', '[SEP]']\n"
     ]
    }
   ],
   "source": [
    "tokens = tokenizer.convert_ids_to_tokens(encoded_text.input_ids)\n",
    "print(tokens)"
   ]
  },
  {
   "cell_type": "code",
   "execution_count": 22,
   "id": "f474de97-c0db-4d4b-9e98-d48def230e55",
   "metadata": {},
   "outputs": [],
   "source": [
    "def tokenize(batch):\n",
    "    return tokenizer(batch[\"text\"], padding=True, truncation=True)"
   ]
  },
  {
   "cell_type": "code",
   "execution_count": 25,
   "id": "bcdfb7f7-91cc-4846-91a8-4d838d2dec42",
   "metadata": {},
   "outputs": [
    {
     "data": {
      "application/vnd.jupyter.widget-view+json": {
       "model_id": "1468460477c14871a3f4c625490a5448",
       "version_major": 2,
       "version_minor": 0
      },
      "text/plain": [
       "Map:   0%|          | 0/16000 [00:00<?, ? examples/s]"
      ]
     },
     "metadata": {},
     "output_type": "display_data"
    },
    {
     "data": {
      "application/vnd.jupyter.widget-view+json": {
       "model_id": "7a4c7d120d9b4d0f81cc72777afa30cb",
       "version_major": 2,
       "version_minor": 0
      },
      "text/plain": [
       "Map:   0%|          | 0/2000 [00:00<?, ? examples/s]"
      ]
     },
     "metadata": {},
     "output_type": "display_data"
    },
    {
     "data": {
      "application/vnd.jupyter.widget-view+json": {
       "model_id": "563d271a5476440f8a1096cd919a14b2",
       "version_major": 2,
       "version_minor": 0
      },
      "text/plain": [
       "Map:   0%|          | 0/2000 [00:00<?, ? examples/s]"
      ]
     },
     "metadata": {},
     "output_type": "display_data"
    }
   ],
   "source": [
    "emotions_encoded = emotions.map(tokenize, batched=True, batch_size=None)"
   ]
  },
  {
   "cell_type": "markdown",
   "id": "96c8466f-be74-48d2-86d7-51a04d5ad75e",
   "metadata": {},
   "source": [
    "## Feature extraction"
   ]
  },
  {
   "cell_type": "code",
   "execution_count": 6,
   "id": "edeaa47d-90ea-4101-8975-baaa46f708aa",
   "metadata": {},
   "outputs": [
    {
     "data": {
      "application/vnd.jupyter.widget-view+json": {
       "model_id": "7bfaf11c45164e2facada62abb27b3ec",
       "version_major": 2,
       "version_minor": 0
      },
      "text/plain": [
       "Downloading pytorch_model.bin:   0%|          | 0.00/268M [00:00<?, ?B/s]"
      ]
     },
     "metadata": {},
     "output_type": "display_data"
    },
    {
     "name": "stderr",
     "output_type": "stream",
     "text": [
      "Some weights of the model checkpoint at distilbert-base-uncased were not used when initializing DistilBertModel: ['vocab_projector.weight', 'vocab_layer_norm.bias', 'vocab_transform.weight', 'vocab_projector.bias', 'vocab_transform.bias', 'vocab_layer_norm.weight']\n",
      "- This IS expected if you are initializing DistilBertModel from the checkpoint of a model trained on another task or with another architecture (e.g. initializing a BertForSequenceClassification model from a BertForPreTraining model).\n",
      "- This IS NOT expected if you are initializing DistilBertModel from the checkpoint of a model that you expect to be exactly identical (initializing a BertForSequenceClassification model from a BertForSequenceClassification model).\n"
     ]
    }
   ],
   "source": [
    "from transformers import AutoModel\n",
    "import torch\n",
    "\n",
    "model_ckpt = \"distilbert-base-uncased\"\n",
    "device = torch.device('cuda' if torch.cuda.is_available() else 'cpu')\n",
    "model = AutoModel.from_pretrained(model_ckpt).to(device)"
   ]
  },
  {
   "cell_type": "code",
   "execution_count": 7,
   "id": "e3da2ed0-00d0-4ca6-b62c-2f1278f95807",
   "metadata": {},
   "outputs": [
    {
     "name": "stdout",
     "output_type": "stream",
     "text": [
      "input tensor shape: torch.Size([1, 6])\n"
     ]
    }
   ],
   "source": [
    "text = \"this is a test\"\n",
    "inputs = tokenizer(text, return_tensors=\"pt\")\n",
    "print(f\"input tensor shape: {inputs['input_ids'].size()}\")"
   ]
  },
  {
   "cell_type": "code",
   "execution_count": 9,
   "id": "2d7dcae7-97cd-464f-af55-9fca8ade880d",
   "metadata": {},
   "outputs": [
    {
     "name": "stdout",
     "output_type": "stream",
     "text": [
      "BaseModelOutput(last_hidden_state=tensor([[[-0.1565, -0.1862,  0.0528,  ..., -0.1188,  0.0662,  0.5470],\n",
      "         [-0.3575, -0.6484, -0.0618,  ..., -0.3040,  0.3508,  0.5221],\n",
      "         [-0.2772, -0.4459,  0.1818,  ..., -0.0948, -0.0076,  0.9958],\n",
      "         [-0.2841, -0.3917,  0.3753,  ..., -0.2151, -0.1173,  1.0526],\n",
      "         [ 0.2661, -0.5094, -0.3180,  ..., -0.4203,  0.0144, -0.2149],\n",
      "         [ 0.9441,  0.0112, -0.4714,  ...,  0.1439, -0.7288, -0.1619]]],\n",
      "       device='cuda:0'), hidden_states=None, attentions=None)\n"
     ]
    }
   ],
   "source": [
    "inputs = {k:v.to(device) for k,v in inputs.items()}\n",
    "with torch.no_grad():  # prevent backprop\n",
    "    outputs = model(**inputs)\n",
    "print(outputs)"
   ]
  },
  {
   "cell_type": "code",
   "execution_count": 11,
   "id": "485bbceb-c549-4e25-8762-8688ae1035d5",
   "metadata": {},
   "outputs": [
    {
     "data": {
      "text/plain": [
       "torch.Size([1, 6, 768])"
      ]
     },
     "execution_count": 11,
     "metadata": {},
     "output_type": "execute_result"
    }
   ],
   "source": [
    "outputs.last_hidden_state.size()"
   ]
  },
  {
   "cell_type": "code",
   "execution_count": 12,
   "id": "5c9c0dfc-078e-4726-8a7d-f7973aeecf5d",
   "metadata": {},
   "outputs": [
    {
     "data": {
      "text/plain": [
       "torch.Size([1, 768])"
      ]
     },
     "execution_count": 12,
     "metadata": {},
     "output_type": "execute_result"
    }
   ],
   "source": [
    "outputs.last_hidden_state[:,0].size()"
   ]
  },
  {
   "cell_type": "code",
   "execution_count": 13,
   "id": "45d56119-1243-45ff-83f2-8e37ecc76fb7",
   "metadata": {},
   "outputs": [],
   "source": [
    "def extract_hidden_states(batch):\n",
    "    inputs = {k:v.to(device) for k,v in inputs.items()\n",
    "             if k in tokenizer.model_input_names}\n",
    "    with torch.no_grad():  # prevent backprop\n",
    "        last_hidden_state = model(**inputs).last_hidden_state\n",
    "    return {\"hidden_state\": last_hidden_state[:,0].cpu().numpy()}"
   ]
  },
  {
   "cell_type": "code",
   "execution_count": 26,
   "id": "30cf0314-1538-4edf-9c0c-17f1e4a0d92e",
   "metadata": {},
   "outputs": [
    {
     "data": {
      "application/vnd.jupyter.widget-view+json": {
       "model_id": "410c3042534c49818cfc5bd37d659d35",
       "version_major": 2,
       "version_minor": 0
      },
      "text/plain": [
       "Map:   0%|          | 0/16000 [00:00<?, ? examples/s]"
      ]
     },
     "metadata": {},
     "output_type": "display_data"
    },
    {
     "ename": "UnboundLocalError",
     "evalue": "local variable 'inputs' referenced before assignment",
     "output_type": "error",
     "traceback": [
      "\u001b[1;31m---------------------------------------------------------------------------\u001b[0m",
      "\u001b[1;31mUnboundLocalError\u001b[0m                         Traceback (most recent call last)",
      "Cell \u001b[1;32mIn[26], line 4\u001b[0m\n\u001b[0;32m      1\u001b[0m \u001b[38;5;66;03m# convert to torch format (model takes tensors)\u001b[39;00m\n\u001b[0;32m      2\u001b[0m emotions_encoded\u001b[38;5;241m.\u001b[39mset_format(\u001b[38;5;124m\"\u001b[39m\u001b[38;5;124mtorch\u001b[39m\u001b[38;5;124m\"\u001b[39m,\n\u001b[0;32m      3\u001b[0m                            columns\u001b[38;5;241m=\u001b[39m[\u001b[38;5;124m\"\u001b[39m\u001b[38;5;124minput_ids\u001b[39m\u001b[38;5;124m\"\u001b[39m, \u001b[38;5;124m\"\u001b[39m\u001b[38;5;124mattention_mask\u001b[39m\u001b[38;5;124m\"\u001b[39m, \u001b[38;5;124m\"\u001b[39m\u001b[38;5;124mlabel\u001b[39m\u001b[38;5;124m\"\u001b[39m])\n\u001b[1;32m----> 4\u001b[0m emotions_hidden \u001b[38;5;241m=\u001b[39m \u001b[43memotions_encoded\u001b[49m\u001b[38;5;241;43m.\u001b[39;49m\u001b[43mmap\u001b[49m\u001b[43m(\u001b[49m\u001b[43mextract_hidden_states\u001b[49m\u001b[43m,\u001b[49m\u001b[43m \u001b[49m\u001b[43mbatched\u001b[49m\u001b[38;5;241;43m=\u001b[39;49m\u001b[38;5;28;43;01mTrue\u001b[39;49;00m\u001b[43m)\u001b[49m\n",
      "File \u001b[1;32mD:\\Anaconda\\envs\\tf-gpu\\lib\\site-packages\\datasets\\dataset_dict.py:868\u001b[0m, in \u001b[0;36mDatasetDict.map\u001b[1;34m(self, function, with_indices, with_rank, input_columns, batched, batch_size, drop_last_batch, remove_columns, keep_in_memory, load_from_cache_file, cache_file_names, writer_batch_size, features, disable_nullable, fn_kwargs, num_proc, desc)\u001b[0m\n\u001b[0;32m    865\u001b[0m \u001b[38;5;28;01mif\u001b[39;00m cache_file_names \u001b[38;5;129;01mis\u001b[39;00m \u001b[38;5;28;01mNone\u001b[39;00m:\n\u001b[0;32m    866\u001b[0m     cache_file_names \u001b[38;5;241m=\u001b[39m {k: \u001b[38;5;28;01mNone\u001b[39;00m \u001b[38;5;28;01mfor\u001b[39;00m k \u001b[38;5;129;01min\u001b[39;00m \u001b[38;5;28mself\u001b[39m}\n\u001b[0;32m    867\u001b[0m \u001b[38;5;28;01mreturn\u001b[39;00m DatasetDict(\n\u001b[1;32m--> 868\u001b[0m     {\n\u001b[0;32m    869\u001b[0m         k: dataset\u001b[38;5;241m.\u001b[39mmap(\n\u001b[0;32m    870\u001b[0m             function\u001b[38;5;241m=\u001b[39mfunction,\n\u001b[0;32m    871\u001b[0m             with_indices\u001b[38;5;241m=\u001b[39mwith_indices,\n\u001b[0;32m    872\u001b[0m             with_rank\u001b[38;5;241m=\u001b[39mwith_rank,\n\u001b[0;32m    873\u001b[0m             input_columns\u001b[38;5;241m=\u001b[39minput_columns,\n\u001b[0;32m    874\u001b[0m             batched\u001b[38;5;241m=\u001b[39mbatched,\n\u001b[0;32m    875\u001b[0m             batch_size\u001b[38;5;241m=\u001b[39mbatch_size,\n\u001b[0;32m    876\u001b[0m             drop_last_batch\u001b[38;5;241m=\u001b[39mdrop_last_batch,\n\u001b[0;32m    877\u001b[0m             remove_columns\u001b[38;5;241m=\u001b[39mremove_columns,\n\u001b[0;32m    878\u001b[0m             keep_in_memory\u001b[38;5;241m=\u001b[39mkeep_in_memory,\n\u001b[0;32m    879\u001b[0m             load_from_cache_file\u001b[38;5;241m=\u001b[39mload_from_cache_file,\n\u001b[0;32m    880\u001b[0m             cache_file_name\u001b[38;5;241m=\u001b[39mcache_file_names[k],\n\u001b[0;32m    881\u001b[0m             writer_batch_size\u001b[38;5;241m=\u001b[39mwriter_batch_size,\n\u001b[0;32m    882\u001b[0m             features\u001b[38;5;241m=\u001b[39mfeatures,\n\u001b[0;32m    883\u001b[0m             disable_nullable\u001b[38;5;241m=\u001b[39mdisable_nullable,\n\u001b[0;32m    884\u001b[0m             fn_kwargs\u001b[38;5;241m=\u001b[39mfn_kwargs,\n\u001b[0;32m    885\u001b[0m             num_proc\u001b[38;5;241m=\u001b[39mnum_proc,\n\u001b[0;32m    886\u001b[0m             desc\u001b[38;5;241m=\u001b[39mdesc,\n\u001b[0;32m    887\u001b[0m         )\n\u001b[0;32m    888\u001b[0m         \u001b[38;5;28;01mfor\u001b[39;00m k, dataset \u001b[38;5;129;01min\u001b[39;00m \u001b[38;5;28mself\u001b[39m\u001b[38;5;241m.\u001b[39mitems()\n\u001b[0;32m    889\u001b[0m     }\n\u001b[0;32m    890\u001b[0m )\n",
      "File \u001b[1;32mD:\\Anaconda\\envs\\tf-gpu\\lib\\site-packages\\datasets\\dataset_dict.py:869\u001b[0m, in \u001b[0;36m<dictcomp>\u001b[1;34m(.0)\u001b[0m\n\u001b[0;32m    865\u001b[0m \u001b[38;5;28;01mif\u001b[39;00m cache_file_names \u001b[38;5;129;01mis\u001b[39;00m \u001b[38;5;28;01mNone\u001b[39;00m:\n\u001b[0;32m    866\u001b[0m     cache_file_names \u001b[38;5;241m=\u001b[39m {k: \u001b[38;5;28;01mNone\u001b[39;00m \u001b[38;5;28;01mfor\u001b[39;00m k \u001b[38;5;129;01min\u001b[39;00m \u001b[38;5;28mself\u001b[39m}\n\u001b[0;32m    867\u001b[0m \u001b[38;5;28;01mreturn\u001b[39;00m DatasetDict(\n\u001b[0;32m    868\u001b[0m     {\n\u001b[1;32m--> 869\u001b[0m         k: \u001b[43mdataset\u001b[49m\u001b[38;5;241;43m.\u001b[39;49m\u001b[43mmap\u001b[49m\u001b[43m(\u001b[49m\n\u001b[0;32m    870\u001b[0m \u001b[43m            \u001b[49m\u001b[43mfunction\u001b[49m\u001b[38;5;241;43m=\u001b[39;49m\u001b[43mfunction\u001b[49m\u001b[43m,\u001b[49m\n\u001b[0;32m    871\u001b[0m \u001b[43m            \u001b[49m\u001b[43mwith_indices\u001b[49m\u001b[38;5;241;43m=\u001b[39;49m\u001b[43mwith_indices\u001b[49m\u001b[43m,\u001b[49m\n\u001b[0;32m    872\u001b[0m \u001b[43m            \u001b[49m\u001b[43mwith_rank\u001b[49m\u001b[38;5;241;43m=\u001b[39;49m\u001b[43mwith_rank\u001b[49m\u001b[43m,\u001b[49m\n\u001b[0;32m    873\u001b[0m \u001b[43m            \u001b[49m\u001b[43minput_columns\u001b[49m\u001b[38;5;241;43m=\u001b[39;49m\u001b[43minput_columns\u001b[49m\u001b[43m,\u001b[49m\n\u001b[0;32m    874\u001b[0m \u001b[43m            \u001b[49m\u001b[43mbatched\u001b[49m\u001b[38;5;241;43m=\u001b[39;49m\u001b[43mbatched\u001b[49m\u001b[43m,\u001b[49m\n\u001b[0;32m    875\u001b[0m \u001b[43m            \u001b[49m\u001b[43mbatch_size\u001b[49m\u001b[38;5;241;43m=\u001b[39;49m\u001b[43mbatch_size\u001b[49m\u001b[43m,\u001b[49m\n\u001b[0;32m    876\u001b[0m \u001b[43m            \u001b[49m\u001b[43mdrop_last_batch\u001b[49m\u001b[38;5;241;43m=\u001b[39;49m\u001b[43mdrop_last_batch\u001b[49m\u001b[43m,\u001b[49m\n\u001b[0;32m    877\u001b[0m \u001b[43m            \u001b[49m\u001b[43mremove_columns\u001b[49m\u001b[38;5;241;43m=\u001b[39;49m\u001b[43mremove_columns\u001b[49m\u001b[43m,\u001b[49m\n\u001b[0;32m    878\u001b[0m \u001b[43m            \u001b[49m\u001b[43mkeep_in_memory\u001b[49m\u001b[38;5;241;43m=\u001b[39;49m\u001b[43mkeep_in_memory\u001b[49m\u001b[43m,\u001b[49m\n\u001b[0;32m    879\u001b[0m \u001b[43m            \u001b[49m\u001b[43mload_from_cache_file\u001b[49m\u001b[38;5;241;43m=\u001b[39;49m\u001b[43mload_from_cache_file\u001b[49m\u001b[43m,\u001b[49m\n\u001b[0;32m    880\u001b[0m \u001b[43m            \u001b[49m\u001b[43mcache_file_name\u001b[49m\u001b[38;5;241;43m=\u001b[39;49m\u001b[43mcache_file_names\u001b[49m\u001b[43m[\u001b[49m\u001b[43mk\u001b[49m\u001b[43m]\u001b[49m\u001b[43m,\u001b[49m\n\u001b[0;32m    881\u001b[0m \u001b[43m            \u001b[49m\u001b[43mwriter_batch_size\u001b[49m\u001b[38;5;241;43m=\u001b[39;49m\u001b[43mwriter_batch_size\u001b[49m\u001b[43m,\u001b[49m\n\u001b[0;32m    882\u001b[0m \u001b[43m            \u001b[49m\u001b[43mfeatures\u001b[49m\u001b[38;5;241;43m=\u001b[39;49m\u001b[43mfeatures\u001b[49m\u001b[43m,\u001b[49m\n\u001b[0;32m    883\u001b[0m \u001b[43m            \u001b[49m\u001b[43mdisable_nullable\u001b[49m\u001b[38;5;241;43m=\u001b[39;49m\u001b[43mdisable_nullable\u001b[49m\u001b[43m,\u001b[49m\n\u001b[0;32m    884\u001b[0m \u001b[43m            \u001b[49m\u001b[43mfn_kwargs\u001b[49m\u001b[38;5;241;43m=\u001b[39;49m\u001b[43mfn_kwargs\u001b[49m\u001b[43m,\u001b[49m\n\u001b[0;32m    885\u001b[0m \u001b[43m            \u001b[49m\u001b[43mnum_proc\u001b[49m\u001b[38;5;241;43m=\u001b[39;49m\u001b[43mnum_proc\u001b[49m\u001b[43m,\u001b[49m\n\u001b[0;32m    886\u001b[0m \u001b[43m            \u001b[49m\u001b[43mdesc\u001b[49m\u001b[38;5;241;43m=\u001b[39;49m\u001b[43mdesc\u001b[49m\u001b[43m,\u001b[49m\n\u001b[0;32m    887\u001b[0m \u001b[43m        \u001b[49m\u001b[43m)\u001b[49m\n\u001b[0;32m    888\u001b[0m         \u001b[38;5;28;01mfor\u001b[39;00m k, dataset \u001b[38;5;129;01min\u001b[39;00m \u001b[38;5;28mself\u001b[39m\u001b[38;5;241m.\u001b[39mitems()\n\u001b[0;32m    889\u001b[0m     }\n\u001b[0;32m    890\u001b[0m )\n",
      "File \u001b[1;32mD:\\Anaconda\\envs\\tf-gpu\\lib\\site-packages\\datasets\\arrow_dataset.py:592\u001b[0m, in \u001b[0;36mtransmit_tasks.<locals>.wrapper\u001b[1;34m(*args, **kwargs)\u001b[0m\n\u001b[0;32m    590\u001b[0m     \u001b[38;5;28mself\u001b[39m: \u001b[38;5;124m\"\u001b[39m\u001b[38;5;124mDataset\u001b[39m\u001b[38;5;124m\"\u001b[39m \u001b[38;5;241m=\u001b[39m kwargs\u001b[38;5;241m.\u001b[39mpop(\u001b[38;5;124m\"\u001b[39m\u001b[38;5;124mself\u001b[39m\u001b[38;5;124m\"\u001b[39m)\n\u001b[0;32m    591\u001b[0m \u001b[38;5;66;03m# apply actual function\u001b[39;00m\n\u001b[1;32m--> 592\u001b[0m out: Union[\u001b[38;5;124m\"\u001b[39m\u001b[38;5;124mDataset\u001b[39m\u001b[38;5;124m\"\u001b[39m, \u001b[38;5;124m\"\u001b[39m\u001b[38;5;124mDatasetDict\u001b[39m\u001b[38;5;124m\"\u001b[39m] \u001b[38;5;241m=\u001b[39m func(\u001b[38;5;28mself\u001b[39m, \u001b[38;5;241m*\u001b[39margs, \u001b[38;5;241m*\u001b[39m\u001b[38;5;241m*\u001b[39mkwargs)\n\u001b[0;32m    593\u001b[0m datasets: List[\u001b[38;5;124m\"\u001b[39m\u001b[38;5;124mDataset\u001b[39m\u001b[38;5;124m\"\u001b[39m] \u001b[38;5;241m=\u001b[39m \u001b[38;5;28mlist\u001b[39m(out\u001b[38;5;241m.\u001b[39mvalues()) \u001b[38;5;28;01mif\u001b[39;00m \u001b[38;5;28misinstance\u001b[39m(out, \u001b[38;5;28mdict\u001b[39m) \u001b[38;5;28;01melse\u001b[39;00m [out]\n\u001b[0;32m    594\u001b[0m \u001b[38;5;28;01mfor\u001b[39;00m dataset \u001b[38;5;129;01min\u001b[39;00m datasets:\n\u001b[0;32m    595\u001b[0m     \u001b[38;5;66;03m# Remove task templates if a column mapping of the template is no longer valid\u001b[39;00m\n",
      "File \u001b[1;32mD:\\Anaconda\\envs\\tf-gpu\\lib\\site-packages\\datasets\\arrow_dataset.py:557\u001b[0m, in \u001b[0;36mtransmit_format.<locals>.wrapper\u001b[1;34m(*args, **kwargs)\u001b[0m\n\u001b[0;32m    550\u001b[0m self_format \u001b[38;5;241m=\u001b[39m {\n\u001b[0;32m    551\u001b[0m     \u001b[38;5;124m\"\u001b[39m\u001b[38;5;124mtype\u001b[39m\u001b[38;5;124m\"\u001b[39m: \u001b[38;5;28mself\u001b[39m\u001b[38;5;241m.\u001b[39m_format_type,\n\u001b[0;32m    552\u001b[0m     \u001b[38;5;124m\"\u001b[39m\u001b[38;5;124mformat_kwargs\u001b[39m\u001b[38;5;124m\"\u001b[39m: \u001b[38;5;28mself\u001b[39m\u001b[38;5;241m.\u001b[39m_format_kwargs,\n\u001b[0;32m    553\u001b[0m     \u001b[38;5;124m\"\u001b[39m\u001b[38;5;124mcolumns\u001b[39m\u001b[38;5;124m\"\u001b[39m: \u001b[38;5;28mself\u001b[39m\u001b[38;5;241m.\u001b[39m_format_columns,\n\u001b[0;32m    554\u001b[0m     \u001b[38;5;124m\"\u001b[39m\u001b[38;5;124moutput_all_columns\u001b[39m\u001b[38;5;124m\"\u001b[39m: \u001b[38;5;28mself\u001b[39m\u001b[38;5;241m.\u001b[39m_output_all_columns,\n\u001b[0;32m    555\u001b[0m }\n\u001b[0;32m    556\u001b[0m \u001b[38;5;66;03m# apply actual function\u001b[39;00m\n\u001b[1;32m--> 557\u001b[0m out: Union[\u001b[38;5;124m\"\u001b[39m\u001b[38;5;124mDataset\u001b[39m\u001b[38;5;124m\"\u001b[39m, \u001b[38;5;124m\"\u001b[39m\u001b[38;5;124mDatasetDict\u001b[39m\u001b[38;5;124m\"\u001b[39m] \u001b[38;5;241m=\u001b[39m func(\u001b[38;5;28mself\u001b[39m, \u001b[38;5;241m*\u001b[39margs, \u001b[38;5;241m*\u001b[39m\u001b[38;5;241m*\u001b[39mkwargs)\n\u001b[0;32m    558\u001b[0m datasets: List[\u001b[38;5;124m\"\u001b[39m\u001b[38;5;124mDataset\u001b[39m\u001b[38;5;124m\"\u001b[39m] \u001b[38;5;241m=\u001b[39m \u001b[38;5;28mlist\u001b[39m(out\u001b[38;5;241m.\u001b[39mvalues()) \u001b[38;5;28;01mif\u001b[39;00m \u001b[38;5;28misinstance\u001b[39m(out, \u001b[38;5;28mdict\u001b[39m) \u001b[38;5;28;01melse\u001b[39;00m [out]\n\u001b[0;32m    559\u001b[0m \u001b[38;5;66;03m# re-apply format to the output\u001b[39;00m\n",
      "File \u001b[1;32mD:\\Anaconda\\envs\\tf-gpu\\lib\\site-packages\\datasets\\arrow_dataset.py:3093\u001b[0m, in \u001b[0;36mDataset.map\u001b[1;34m(self, function, with_indices, with_rank, input_columns, batched, batch_size, drop_last_batch, remove_columns, keep_in_memory, load_from_cache_file, cache_file_name, writer_batch_size, features, disable_nullable, fn_kwargs, num_proc, suffix_template, new_fingerprint, desc)\u001b[0m\n\u001b[0;32m   3087\u001b[0m \u001b[38;5;28;01mif\u001b[39;00m transformed_dataset \u001b[38;5;129;01mis\u001b[39;00m \u001b[38;5;28;01mNone\u001b[39;00m:\n\u001b[0;32m   3088\u001b[0m     \u001b[38;5;28;01mwith\u001b[39;00m hf_tqdm(\n\u001b[0;32m   3089\u001b[0m         unit\u001b[38;5;241m=\u001b[39m\u001b[38;5;124m\"\u001b[39m\u001b[38;5;124m examples\u001b[39m\u001b[38;5;124m\"\u001b[39m,\n\u001b[0;32m   3090\u001b[0m         total\u001b[38;5;241m=\u001b[39mpbar_total,\n\u001b[0;32m   3091\u001b[0m         desc\u001b[38;5;241m=\u001b[39mdesc \u001b[38;5;129;01mor\u001b[39;00m \u001b[38;5;124m\"\u001b[39m\u001b[38;5;124mMap\u001b[39m\u001b[38;5;124m\"\u001b[39m,\n\u001b[0;32m   3092\u001b[0m     ) \u001b[38;5;28;01mas\u001b[39;00m pbar:\n\u001b[1;32m-> 3093\u001b[0m         \u001b[38;5;28;01mfor\u001b[39;00m rank, done, content \u001b[38;5;129;01min\u001b[39;00m Dataset\u001b[38;5;241m.\u001b[39m_map_single(\u001b[38;5;241m*\u001b[39m\u001b[38;5;241m*\u001b[39mdataset_kwargs):\n\u001b[0;32m   3094\u001b[0m             \u001b[38;5;28;01mif\u001b[39;00m done:\n\u001b[0;32m   3095\u001b[0m                 shards_done \u001b[38;5;241m+\u001b[39m\u001b[38;5;241m=\u001b[39m \u001b[38;5;241m1\u001b[39m\n",
      "File \u001b[1;32mD:\\Anaconda\\envs\\tf-gpu\\lib\\site-packages\\datasets\\arrow_dataset.py:3470\u001b[0m, in \u001b[0;36mDataset._map_single\u001b[1;34m(shard, function, with_indices, with_rank, input_columns, batched, batch_size, drop_last_batch, remove_columns, keep_in_memory, cache_file_name, writer_batch_size, features, disable_nullable, fn_kwargs, new_fingerprint, rank, offset)\u001b[0m\n\u001b[0;32m   3466\u001b[0m indices \u001b[38;5;241m=\u001b[39m \u001b[38;5;28mlist\u001b[39m(\n\u001b[0;32m   3467\u001b[0m     \u001b[38;5;28mrange\u001b[39m(\u001b[38;5;241m*\u001b[39m(\u001b[38;5;28mslice\u001b[39m(i, i \u001b[38;5;241m+\u001b[39m batch_size)\u001b[38;5;241m.\u001b[39mindices(shard\u001b[38;5;241m.\u001b[39mnum_rows)))\n\u001b[0;32m   3468\u001b[0m )  \u001b[38;5;66;03m# Something simpler?\u001b[39;00m\n\u001b[0;32m   3469\u001b[0m \u001b[38;5;28;01mtry\u001b[39;00m:\n\u001b[1;32m-> 3470\u001b[0m     batch \u001b[38;5;241m=\u001b[39m \u001b[43mapply_function_on_filtered_inputs\u001b[49m\u001b[43m(\u001b[49m\n\u001b[0;32m   3471\u001b[0m \u001b[43m        \u001b[49m\u001b[43mbatch\u001b[49m\u001b[43m,\u001b[49m\n\u001b[0;32m   3472\u001b[0m \u001b[43m        \u001b[49m\u001b[43mindices\u001b[49m\u001b[43m,\u001b[49m\n\u001b[0;32m   3473\u001b[0m \u001b[43m        \u001b[49m\u001b[43mcheck_same_num_examples\u001b[49m\u001b[38;5;241;43m=\u001b[39;49m\u001b[38;5;28;43mlen\u001b[39;49m\u001b[43m(\u001b[49m\u001b[43mshard\u001b[49m\u001b[38;5;241;43m.\u001b[39;49m\u001b[43mlist_indexes\u001b[49m\u001b[43m(\u001b[49m\u001b[43m)\u001b[49m\u001b[43m)\u001b[49m\u001b[43m \u001b[49m\u001b[38;5;241;43m>\u001b[39;49m\u001b[43m \u001b[49m\u001b[38;5;241;43m0\u001b[39;49m\u001b[43m,\u001b[49m\n\u001b[0;32m   3474\u001b[0m \u001b[43m        \u001b[49m\u001b[43moffset\u001b[49m\u001b[38;5;241;43m=\u001b[39;49m\u001b[43moffset\u001b[49m\u001b[43m,\u001b[49m\n\u001b[0;32m   3475\u001b[0m \u001b[43m    \u001b[49m\u001b[43m)\u001b[49m\n\u001b[0;32m   3476\u001b[0m \u001b[38;5;28;01mexcept\u001b[39;00m NumExamplesMismatchError:\n\u001b[0;32m   3477\u001b[0m     \u001b[38;5;28;01mraise\u001b[39;00m DatasetTransformationNotAllowedError(\n\u001b[0;32m   3478\u001b[0m         \u001b[38;5;124m\"\u001b[39m\u001b[38;5;124mUsing `.map` in batched mode on a dataset with attached indexes is allowed only if it doesn\u001b[39m\u001b[38;5;124m'\u001b[39m\u001b[38;5;124mt create or remove existing examples. You can first run `.drop_index() to remove your index and then re-add it.\u001b[39m\u001b[38;5;124m\"\u001b[39m\n\u001b[0;32m   3479\u001b[0m     ) \u001b[38;5;28;01mfrom\u001b[39;00m \u001b[38;5;28;01mNone\u001b[39;00m\n",
      "File \u001b[1;32mD:\\Anaconda\\envs\\tf-gpu\\lib\\site-packages\\datasets\\arrow_dataset.py:3349\u001b[0m, in \u001b[0;36mDataset._map_single.<locals>.apply_function_on_filtered_inputs\u001b[1;34m(pa_inputs, indices, check_same_num_examples, offset)\u001b[0m\n\u001b[0;32m   3347\u001b[0m \u001b[38;5;28;01mif\u001b[39;00m with_rank:\n\u001b[0;32m   3348\u001b[0m     additional_args \u001b[38;5;241m+\u001b[39m\u001b[38;5;241m=\u001b[39m (rank,)\n\u001b[1;32m-> 3349\u001b[0m processed_inputs \u001b[38;5;241m=\u001b[39m function(\u001b[38;5;241m*\u001b[39mfn_args, \u001b[38;5;241m*\u001b[39madditional_args, \u001b[38;5;241m*\u001b[39m\u001b[38;5;241m*\u001b[39mfn_kwargs)\n\u001b[0;32m   3350\u001b[0m \u001b[38;5;28;01mif\u001b[39;00m \u001b[38;5;28misinstance\u001b[39m(processed_inputs, LazyDict):\n\u001b[0;32m   3351\u001b[0m     processed_inputs \u001b[38;5;241m=\u001b[39m {\n\u001b[0;32m   3352\u001b[0m         k: v \u001b[38;5;28;01mfor\u001b[39;00m k, v \u001b[38;5;129;01min\u001b[39;00m processed_inputs\u001b[38;5;241m.\u001b[39mdata\u001b[38;5;241m.\u001b[39mitems() \u001b[38;5;28;01mif\u001b[39;00m k \u001b[38;5;129;01mnot\u001b[39;00m \u001b[38;5;129;01min\u001b[39;00m processed_inputs\u001b[38;5;241m.\u001b[39mkeys_to_format\n\u001b[0;32m   3353\u001b[0m     }\n",
      "Cell \u001b[1;32mIn[13], line 2\u001b[0m, in \u001b[0;36mextract_hidden_states\u001b[1;34m(batch)\u001b[0m\n\u001b[0;32m      1\u001b[0m \u001b[38;5;28;01mdef\u001b[39;00m \u001b[38;5;21mextract_hidden_states\u001b[39m(batch):\n\u001b[1;32m----> 2\u001b[0m     inputs \u001b[38;5;241m=\u001b[39m {k:v\u001b[38;5;241m.\u001b[39mto(device) \u001b[38;5;28;01mfor\u001b[39;00m k,v \u001b[38;5;129;01min\u001b[39;00m \u001b[43minputs\u001b[49m\u001b[38;5;241m.\u001b[39mitems()\n\u001b[0;32m      3\u001b[0m              \u001b[38;5;28;01mif\u001b[39;00m k \u001b[38;5;129;01min\u001b[39;00m tokenizer\u001b[38;5;241m.\u001b[39mmodel_input_names}\n\u001b[0;32m      4\u001b[0m     \u001b[38;5;28;01mwith\u001b[39;00m torch\u001b[38;5;241m.\u001b[39mno_grad():  \u001b[38;5;66;03m# prevent backprop\u001b[39;00m\n\u001b[0;32m      5\u001b[0m         last_hidden_state \u001b[38;5;241m=\u001b[39m model(\u001b[38;5;241m*\u001b[39m\u001b[38;5;241m*\u001b[39minputs)\u001b[38;5;241m.\u001b[39mlast_hidden_state\n",
      "\u001b[1;31mUnboundLocalError\u001b[0m: local variable 'inputs' referenced before assignment"
     ]
    }
   ],
   "source": [
    "# convert to torch format (model takes tensors)\n",
    "emotions_encoded.set_format(\"torch\",\n",
    "                           columns=[\"input_ids\", \"attention_mask\", \"label\"])\n",
    "emotions_hidden = emotions_encoded.map(extract_hidden_states, batched=True)"
   ]
  },
  {
   "cell_type": "code",
   "execution_count": null,
   "id": "6fa4122b-5213-4b56-a79c-ea275951340c",
   "metadata": {},
   "outputs": [],
   "source": []
  }
 ],
 "metadata": {
  "kernelspec": {
   "display_name": "tf-gpu",
   "language": "python",
   "name": "tf-gpu"
  },
  "language_info": {
   "codemirror_mode": {
    "name": "ipython",
    "version": 3
   },
   "file_extension": ".py",
   "mimetype": "text/x-python",
   "name": "python",
   "nbconvert_exporter": "python",
   "pygments_lexer": "ipython3",
   "version": "3.9.18"
  }
 },
 "nbformat": 4,
 "nbformat_minor": 5
}
