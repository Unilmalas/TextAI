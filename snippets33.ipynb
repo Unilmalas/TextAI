{
 "cells": [
  {
   "cell_type": "code",
   "execution_count": 23,
   "metadata": {},
   "outputs": [
    {
     "name": "stdout",
     "output_type": "stream",
     "text": [
      "3.1132\n"
     ]
    }
   ],
   "source": [
    "from numba import jit # https://numba.pydata.org/\n",
    "import random\n",
    "\n",
    "@jit(nopython=True)\n",
    "def monte_carlo_pi(nsamples):\n",
    "    acc = 0\n",
    "    for i in range(nsamples):\n",
    "        x = random.random()\n",
    "        y = random.random()\n",
    "        if (x ** 2 + y ** 2) < 1.0:\n",
    "            acc += 1\n",
    "    return 4.0 * acc / nsamples\n",
    "\n",
    "def main():\n",
    "    print(monte_carlo_pi(10000))\n",
    "    \n",
    "if __name__=='__main__':\n",
    "    main()"
   ]
  },
  {
   "cell_type": "markdown",
   "metadata": {},
   "source": [
    "### Numba\n",
    "\n",
    "careful: does not work well with Pandas -> test preprocessing, clean data, then deploy numba for performance-intensive parts"
   ]
  },
  {
   "cell_type": "code",
   "execution_count": 24,
   "metadata": {},
   "outputs": [
    {
     "name": "stdout",
     "output_type": "stream",
     "text": [
      "Elapsed (with compilation) = 0.3666656017303467\n",
      "Elapsed (after compilation) = 0.0\n"
     ]
    }
   ],
   "source": [
    "from numba import jit\n",
    "import numpy as np\n",
    "import time\n",
    "\n",
    "x = np.arange(100).reshape(10, 10)\n",
    "\n",
    "@jit(nopython=True)\n",
    "def go_fast(a): # Function is compiled and runs in machine code\n",
    "    trace = 0.0\n",
    "    for i in range(a.shape[0]):\n",
    "        trace += np.tanh(a[i, i])\n",
    "    return a + trace\n",
    "\n",
    "# DO NOT REPORT THIS... COMPILATION TIME IS INCLUDED IN THE EXECUTION TIME!\n",
    "start = time.time()\n",
    "go_fast(x)\n",
    "end = time.time()\n",
    "print(\"Elapsed (with compilation) = %s\" % (end - start))\n",
    "\n",
    "# NOW THE FUNCTION IS COMPILED, RE-TIME IT EXECUTING FROM CACHE\n",
    "start = time.time()\n",
    "go_fast(x)\n",
    "end = time.time()\n",
    "print(\"Elapsed (after compilation) = %s\" % (end - start))"
   ]
  },
  {
   "cell_type": "code",
   "execution_count": 100,
   "metadata": {},
   "outputs": [
    {
     "name": "stdout",
     "output_type": "stream",
     "text": [
      "0 0.9999720684626245\n",
      "100 0.006459538782427279\n",
      "[9.97382582e-01 3.74493177e-05 5.36757962e-05 4.00798863e-05]\n",
      "w1\n"
     ]
    },
    {
     "data": {
      "image/png": "[encoded data removed]",
      "text/plain": [
       "<Figure size 432x288 with 1 Axes>"
      ]
     },
     "metadata": {
      "needs_background": "light"
     },
     "output_type": "display_data"
    },
    {
     "name": "stdout",
     "output_type": "stream",
     "text": [
      "w2\n"
     ]
    },
    {
     "data": {
      "image/png": "[encoded data removed]",
      "text/plain": [
       "<Figure size 432x288 with 1 Axes>"
      ]
     },
     "metadata": {
      "needs_background": "light"
     },
     "output_type": "display_data"
    }
   ],
   "source": [
    "# simple NN iteration test: weight development\n",
    "import numpy as np\n",
    "import matplotlib.pyplot as plt\n",
    "import random\n",
    "\n",
    "modeldim = 4\n",
    "nshown = 4\n",
    "# N is batch size; D_in is input dimension;\n",
    "# H is hidden dimension; D_out is output dimension.\n",
    "N, D_in, H, D_out = nshown+1, modeldim, 4, modeldim\n",
    "\n",
    "inpt = np.ones(modeldim) # input\n",
    "y = np.zeros(D_out) # truth\n",
    "y[0] = 1\n",
    "\n",
    "# Randomly initialize weights\n",
    "w1 = np.random.randn(D_in, H)*0.01\n",
    "w2 = np.random.randn(H, D_out)*0.01\n",
    "\n",
    "b1 = np.zeros(H) # bias\n",
    "b2 = np.zeros(D_out)\n",
    "\n",
    "mw1 = np.zeros_like(w1)\n",
    "mw2 = np.zeros_like(w2)\n",
    "mb1 = np.zeros_like(b1)\n",
    "mb2 = np.zeros_like(b2)\n",
    "\n",
    "# graph weights\n",
    "yw1 = []\n",
    "yw2 = []\n",
    "\n",
    "learning_rate = 1e-2\n",
    "\n",
    "for t in range(200):\n",
    "    # Forward pass: compute predicted y\n",
    "    h = np.dot(inpt, w1) + b1\n",
    "    h_relu = np.maximum(h, 0)\n",
    "    #h_relu = softmax(h)\n",
    "    #y_pred = np.dot(h_relu, w2) + b2 # output\n",
    "    y_pred = np.dot(w2.T, h_relu) + b2 # output\n",
    "\n",
    "    # Compute and print loss\n",
    "    loss = np.square(y_pred - y).sum()\n",
    "    if t % 100 == 0:\n",
    "        print(t, loss)\n",
    "\n",
    "    # Backprop to compute gradients of w1 and w2 with respect to loss\n",
    "    grad_y_pred = (y_pred - y)\n",
    "    #print(h_relu, ' : ', grad_y_pred.T, ' : ', h_relu)\n",
    "    grad_w2 = np.dot(h_relu, np.ones_like(w2)) * grad_y_pred # dw2 = (.) ReLu(h)\n",
    "    grad_b2 = grad_y_pred\n",
    "    grad_h_relu = np.dot(grad_y_pred, w2.T) # dw1 = (.) w2 ReLu'(h) x\n",
    "    grad_h = grad_h_relu.copy()\n",
    "    grad_h[h < 0] = 0 # ReLU'\n",
    "    grad_w1 = np.dot(inpt.T, np.ones_like(w1)) * grad_h\n",
    "    grad_b1 = np.dot(w2, grad_y_pred.T)\n",
    "\n",
    "    # Update weights\n",
    "    #w1 -= learning_rate * grad_w1\n",
    "    #w2 -= learning_rate * grad_w2\n",
    "    #b1 -= learning_rate * grad_b1.T[0]\n",
    "    #b2 -= learning_rate * grad_b2[0]\n",
    "    for param, dparam, mem in zip([w1, w2, b1, b2], [grad_w1, grad_w2, grad_b1.T[0], grad_b2[0]], [mw1, mw2, mb1, mb2]):\n",
    "        mem += dparam * dparam\n",
    "        param += -learning_rate * dparam / np.sqrt(mem + 1e-8) # adagrad update\n",
    "        \n",
    "    yw1.append(np.sum(grad_w1))\n",
    "    yw2.append(np.sum(grad_w2))\n",
    "        \n",
    "print(y_pred)\n",
    "x = range(len(yw1))\n",
    "print('w1')\n",
    "plt.plot(x, yw1)\n",
    "plt.show()\n",
    "print('w2')\n",
    "plt.plot(x, yw2)\n",
    "plt.show()"
   ]
  },
  {
   "cell_type": "code",
   "execution_count": 5,
   "metadata": {},
   "outputs": [
    {
     "data": {
      "text/html": [
       "<div>\n",
       "<style scoped>\n",
       "    .dataframe tbody tr th:only-of-type {\n",
       "        vertical-align: middle;\n",
       "    }\n",
       "\n",
       "    .dataframe tbody tr th {\n",
       "        vertical-align: top;\n",
       "    }\n",
       "\n",
       "    .dataframe thead th {\n",
       "        text-align: right;\n",
       "    }\n",
       "</style>\n",
       "<table border=\"1\" class=\"dataframe\">\n",
       "  <thead>\n",
       "    <tr style=\"text-align: right;\">\n",
       "      <th></th>\n",
       "      <th>Date</th>\n",
       "      <th>Open</th>\n",
       "      <th>High</th>\n",
       "      <th>Low</th>\n",
       "      <th>Close</th>\n",
       "      <th>Adj Close</th>\n",
       "      <th>Volume</th>\n",
       "    </tr>\n",
       "  </thead>\n",
       "  <tbody>\n",
       "    <tr>\n",
       "      <th>0</th>\n",
       "      <td>2019-06-14</td>\n",
       "      <td>2886.820068</td>\n",
       "      <td>2894.449951</td>\n",
       "      <td>2879.620117</td>\n",
       "      <td>2886.979980</td>\n",
       "      <td>2886.979980</td>\n",
       "      <td>2922330000</td>\n",
       "    </tr>\n",
       "    <tr>\n",
       "      <th>1</th>\n",
       "      <td>2019-06-17</td>\n",
       "      <td>2889.750000</td>\n",
       "      <td>2897.270020</td>\n",
       "      <td>2887.300049</td>\n",
       "      <td>2889.669922</td>\n",
       "      <td>2889.669922</td>\n",
       "      <td>2810140000</td>\n",
       "    </tr>\n",
       "    <tr>\n",
       "      <th>2</th>\n",
       "      <td>2019-06-18</td>\n",
       "      <td>2906.709961</td>\n",
       "      <td>2930.790039</td>\n",
       "      <td>2905.439941</td>\n",
       "      <td>2917.750000</td>\n",
       "      <td>2917.750000</td>\n",
       "      <td>3437620000</td>\n",
       "    </tr>\n",
       "    <tr>\n",
       "      <th>3</th>\n",
       "      <td>2019-06-19</td>\n",
       "      <td>2920.550049</td>\n",
       "      <td>2931.739990</td>\n",
       "      <td>2911.429932</td>\n",
       "      <td>2926.459961</td>\n",
       "      <td>2926.459961</td>\n",
       "      <td>3287890000</td>\n",
       "    </tr>\n",
       "    <tr>\n",
       "      <th>4</th>\n",
       "      <td>2019-06-20</td>\n",
       "      <td>2949.600098</td>\n",
       "      <td>2958.060059</td>\n",
       "      <td>2931.500000</td>\n",
       "      <td>2954.179932</td>\n",
       "      <td>2954.179932</td>\n",
       "      <td>3905940000</td>\n",
       "    </tr>\n",
       "  </tbody>\n",
       "</table>\n",
       "</div>"
      ],
      "text/plain": [
       "         Date         Open         High          Low        Close  \\\n",
       "0  2019-06-14  2886.820068  2894.449951  2879.620117  2886.979980   \n",
       "1  2019-06-17  2889.750000  2897.270020  2887.300049  2889.669922   \n",
       "2  2019-06-18  2906.709961  2930.790039  2905.439941  2917.750000   \n",
       "3  2019-06-19  2920.550049  2931.739990  2911.429932  2926.459961   \n",
       "4  2019-06-20  2949.600098  2958.060059  2931.500000  2954.179932   \n",
       "\n",
       "     Adj Close      Volume  \n",
       "0  2886.979980  2922330000  \n",
       "1  2889.669922  2810140000  \n",
       "2  2917.750000  3437620000  \n",
       "3  2926.459961  3287890000  \n",
       "4  2954.179932  3905940000  "
      ]
     },
     "execution_count": 5,
     "metadata": {},
     "output_type": "execute_result"
    }
   ],
   "source": [
    "# pandas load test \n",
    "import pandas as pd\n",
    "import os\n",
    "\n",
    "os.chdir('D:\\BernieData\\DeepL\\lrgtxt0')\n",
    "# Read data from file 'filename.csv' \n",
    "# Control delimiters, rows, column names with read_csv (see later) \n",
    "data = pd.read_csv(\"SP500.csv\") \n",
    "# Preview the first 5 lines of the loaded data \n",
    "data.head()"
   ]
  },
  {
   "cell_type": "code",
   "execution_count": 7,
   "metadata": {},
   "outputs": [
    {
     "data": {
      "text/plain": [
       "0.9620643684499119"
      ]
     },
     "execution_count": 7,
     "metadata": {},
     "output_type": "execute_result"
    }
   ],
   "source": [
    "s = pd.Series(data['Close'])\n",
    "\n",
    "#for l in range(-15,15):\n",
    "    #print(l, s.autocorr(lag=l))\n",
    "s.autocorr()"
   ]
  },
  {
   "cell_type": "code",
   "execution_count": 10,
   "metadata": {},
   "outputs": [
    {
     "data": {
      "image/png": "[encoded data removed]",
      "text/plain": [
       "<Figure size 432x288 with 1 Axes>"
      ]
     },
     "metadata": {
      "needs_background": "light"
     },
     "output_type": "display_data"
    }
   ],
   "source": [
    "import numpy as np\n",
    "import pandas as pd\n",
    "from pandas.plotting import autocorrelation_plot\n",
    "import matplotlib.pyplot as plt\n",
    "\n",
    "os.chdir('D:\\BernieData\\DeepL\\lrgtxt0')\n",
    "#dr = pd.date_range(start='1984-01-01', end='1984-12-31')\n",
    "dr = pd.read_csv(\"SP500.csv\") \n",
    "\n",
    "df = pd.DataFrame(np.arange(len(dr)), index=dr, columns=[\"Close\"])\n",
    "autocorrelation_plot(df)\n",
    "plt.show()"
   ]
  },
  {
   "cell_type": "code",
   "execution_count": 11,
   "metadata": {},
   "outputs": [
    {
     "data": {
      "text/html": [
       "<div>\n",
       "<style scoped>\n",
       "    .dataframe tbody tr th:only-of-type {\n",
       "        vertical-align: middle;\n",
       "    }\n",
       "\n",
       "    .dataframe tbody tr th {\n",
       "        vertical-align: top;\n",
       "    }\n",
       "\n",
       "    .dataframe thead th {\n",
       "        text-align: right;\n",
       "    }\n",
       "</style>\n",
       "<table border=\"1\" class=\"dataframe\">\n",
       "  <thead>\n",
       "    <tr style=\"text-align: right;\">\n",
       "      <th></th>\n",
       "      <th>dogs</th>\n",
       "      <th>cats</th>\n",
       "    </tr>\n",
       "  </thead>\n",
       "  <tbody>\n",
       "    <tr>\n",
       "      <th>dogs</th>\n",
       "      <td>1.0</td>\n",
       "      <td>0.3</td>\n",
       "    </tr>\n",
       "    <tr>\n",
       "      <th>cats</th>\n",
       "      <td>0.3</td>\n",
       "      <td>1.0</td>\n",
       "    </tr>\n",
       "  </tbody>\n",
       "</table>\n",
       "</div>"
      ],
      "text/plain": [
       "      dogs  cats\n",
       "dogs   1.0   0.3\n",
       "cats   0.3   1.0"
      ]
     },
     "execution_count": 11,
     "metadata": {},
     "output_type": "execute_result"
    }
   ],
   "source": [
    "def histogram_intersection(a, b):\n",
    "    v = np.minimum(a, b).sum().round(decimals=1)\n",
    "    return v\n",
    "\n",
    "df = pd.DataFrame([(.2, .3), (.0, .6), (.6, .0), (.2, .1)],\n",
    "                  columns=['dogs', 'cats'])\n",
    "\n",
    "df.corr(method=histogram_intersection)"
   ]
  },
  {
   "cell_type": "code",
   "execution_count": 37,
   "metadata": {},
   "outputs": [
    {
     "name": "stdout",
     "output_type": "stream",
     "text": [
      "1942 1512 252\n",
      "lag  -5 0.17166829863944602\n",
      "lag  -4 0.1730406246542056\n",
      "lag  -3 0.1745084712767722\n",
      "lag  -2 0.17595926368860224\n",
      "lag  -1 0.17749337945673865\n",
      "lag  0 0.17939494958136332\n",
      "lag  1 0.1820333719068394\n",
      "lag  2 0.18485214570971198\n",
      "lag  3 0.18744457402683853\n",
      "lag  4 0.19000971218903856\n",
      "lag  5 0.19249761578953242\n"
     ]
    },
    {
     "data": {
      "image/png": "[encoded data removed]",
      "text/plain": [
       "<Figure size 432x288 with 1 Axes>"
      ]
     },
     "metadata": {
      "needs_background": "light"
     },
     "output_type": "display_data"
    },
    {
     "data": {
      "image/png": "[encoded data removed]",
      "text/plain": [
       "<Figure size 432x288 with 1 Axes>"
      ]
     },
     "metadata": {
      "needs_background": "light"
     },
     "output_type": "display_data"
    }
   ],
   "source": [
    "# correlation stock market - cryptocurr test \n",
    "import pandas as pd\n",
    "import os\n",
    "import matplotlib.pyplot as plt\n",
    "\n",
    "def histogram_intersection(a, b):\n",
    "    v = np.minimum(a, b).sum().round(decimals=1)\n",
    "    return v\n",
    "\n",
    "def crosscorr(datax, datay, lag=0):\n",
    "    '''lag crosscorrelation'''\n",
    "    return datax.corr(datay.shift(lag))\n",
    "\n",
    "def df_shifted(df, target=None, lag=0):\n",
    "    if not lag and not target:\n",
    "        return df       \n",
    "    new = {}\n",
    "    for c in df.columns:\n",
    "        if c == target:\n",
    "            new[c] = df[target]\n",
    "        else:\n",
    "            new[c] = df[c].shift(periods=lag)\n",
    "    return  pd.DataFrame(data=new)\n",
    "\n",
    "os.chdir('D:\\BernieData\\DeepL\\lrgtxt0')\n",
    "# Read data from file 'filename.csv' \n",
    "# Control delimiters, rows, column names with read_csv (see later) \n",
    "spdata = pd.read_csv(\"SP500.csv\")\n",
    "ndqdata = pd.read_csv(\"nasdaq.csv\")\n",
    "btcdata = pd.read_csv(\"Cexio_BTCUSD_d.csv\")\n",
    "ethdata = pd.read_csv(\"Cexio_ETHBTC_d.csv\")\n",
    "\n",
    "# Preview the first 5 lines of the loaded data \n",
    "#spdata.head()\n",
    "#btcdata.head()\n",
    "\n",
    "#print(btcdata['Close'])\n",
    "#s0 = spdata['Close']\n",
    "#s1 = btcdata['Close']\n",
    "#dcomb = {'sp500': spdata['Close'], 'btcusd': btcdata['Close']}\n",
    "#df = pd.DataFrame(data=dcomb)\n",
    "\n",
    "#s0.corr(s1, method=histogram_intersection)\n",
    "#df_new = df_shifted(df, 'sp500', lag=-1)\n",
    "#print(df_new)\n",
    "print(len(btcdata['Close']), len(ethdata['Close']), len(spdata['Close']))\n",
    "for lg in range(-5,6):\n",
    "    #print('lag ', lg, crosscorr(ndqdata['Close'][0:100], ethdata['Close'][0:100], lg))\n",
    "    #print('lag ', lg, crosscorr(ndqdata['Close'], ethdata['Close'], lg))\n",
    "    print('lag ', lg, crosscorr(btcdata['Close'], ethdata['Close'], lg))\n",
    "    \n",
    "plt.scatter(btcdata['Close'][0:1512], ethdata['Close'][0:1512])\n",
    "plt.show()\n",
    "plt.scatter(spdata['Close'][0:252], btcdata['Close'][0:252])\n",
    "plt.show()"
   ]
  },
  {
   "cell_type": "code",
   "execution_count": 10,
   "metadata": {},
   "outputs": [
    {
     "name": "stdout",
     "output_type": "stream",
     "text": [
      "[15, 24, 14, 18, 7, 15, -1]\n",
      "15\n",
      "[-1.4079717394445106, 15, 7, 11, 7, -1.4191107472943223, 1]\n",
      "[9, 9, 8, 13, 11, 21, 1]\n"
     ]
    }
   ],
   "source": [
    "# D&D chromosomes (from Munroes What if...)\n",
    "import random\n",
    "\n",
    "def ddstat(): # strict ;)\n",
    "    '''roll stat dice'''\n",
    "    return random.randint(1,6) + random.randint(1,6) + random.randint(1,6)\n",
    "\n",
    "def createcset(l):\n",
    "    '''create a a character set: either a stat value or a multiplier'''\n",
    "    res = []\n",
    "    for i in range(l-1):\n",
    "        if random.random() > 0.8:\n",
    "            res.append(-random.uniform(0.5, 2.5)) # multiplier\n",
    "        else:\n",
    "            res.append(ddstat())\n",
    "    res.append(random.choice([-1, 1])) # last stat is sex (-1 female, 1 male)\n",
    "    return res\n",
    "\n",
    "def combine(cset0, cset1):\n",
    "    '''combine two character sets'''\n",
    "    if len(cset0) != len(cset1):\n",
    "        return -1\n",
    "    res = []\n",
    "    for ic in range(len(cset0)-1):\n",
    "        if cset0[ic] < 0: # multipliers are negative\n",
    "            if cset1[ic] < 0:\n",
    "                res.append(1) # multiplier on both sides: you get a 1\n",
    "            else:\n",
    "                res.append(int(-cset0[ic] * cset1[ic]))\n",
    "        else:\n",
    "            if cset1[ic] < 0:\n",
    "                res.append(int(-cset0[ic] * cset1[ic]))\n",
    "            else:\n",
    "                res.append(max(cset0[ic], cset1[ic]))\n",
    "    if cset0[len(cset0)-1] < 0:\n",
    "        if cset1[len(cset1)-1] < 0:\n",
    "            res.append(-1) # female\n",
    "        else:\n",
    "            if random.random() > 0.5:\n",
    "                res.append(1)\n",
    "            else:\n",
    "                res.append(-1)\n",
    "    else:\n",
    "        if cset1[len(cset1)-1] < 0:\n",
    "            if random.random() > 0.5:\n",
    "                res.append(1)\n",
    "            else:\n",
    "                res.append(-1)\n",
    "        else:\n",
    "            res.append(1) # male\n",
    "    return res\n",
    "\n",
    "if __name__==\"__main__\":\n",
    "    print(combine([15, -2, -1, 12, -0.5, 14, -1], [5, 12, 14, -1.5, 14, 15, -1]))\n",
    "    print(ddstat())\n",
    "    print(createcset(7))\n",
    "    print(combine(createcset(7), createcset(7)))"
   ]
  },
  {
   "cell_type": "code",
   "execution_count": 6,
   "metadata": {},
   "outputs": [
    {
     "name": "stdout",
     "output_type": "stream",
     "text": [
      "context vector:  [[0.3479092  0.29236534 0.95093822]]\n",
      "context vector:  [[1.24245789 1.54097797 4.7256796 ]]\n"
     ]
    }
   ],
   "source": [
    "# yet another attention test\n",
    "import numpy as np\n",
    "\n",
    "def softmax(x):\n",
    "    \"\"\"softmax applied to set of values x\"\"\"\n",
    "    exp_x = np.exp(x - np.max(x))\n",
    "    return exp_x / exp_x.sum(axis=0)\n",
    "\n",
    "def gelu(x, deriv=False):\n",
    "    '''GELU activation'''\n",
    "    x3 = x*x*x\n",
    "    if deriv:\n",
    "        v0 = 0.0356774*x3+0.797885*x\n",
    "        #return 0.5*(np.tanh(0.0356774*x*x*x+0.797885*x) + (0.107032*x*x*x+0.797885*x) /\n",
    "                    #np.cosh(0.0356774*x*x*x+0.797885*x) + 1.)\n",
    "        return 0.5*(np.tanh(v0) + (0.107032*x3+0.797885*x) / np.cosh(v0) + 1.)        \n",
    "    else:\n",
    "        return x/2 * (1 + np.tanh(0.797885*x+0.035677427775*x3)) # math.sqrt(2/math.pi) = 0.797885\n",
    "\n",
    "enc_hidd_st = np.array([[0,1,1], [.5,0,1], [1,1,0], [0,.5,1]])\n",
    "dec_hid_st = np.array([[1, -1, 2]])\n",
    "\n",
    "scores = np.dot(enc_hidd_st, dec_hid_st.T)\n",
    "sm_scores = softmax(scores)\n",
    "ctx_vec = enc_hidd_st * sm_scores\n",
    "\n",
    "print('context vector: ', np.dot(np.array([[1,1,1,1]]), ctx_vec))\n",
    "\n",
    "sm_scores = gelu(scores)\n",
    "ctx_vec = enc_hidd_st * sm_scores\n",
    "\n",
    "print('context vector: ', np.dot(np.array([[1,1,1,1]]), ctx_vec))"
   ]
  },
  {
   "cell_type": "code",
   "execution_count": 5,
   "metadata": {},
   "outputs": [
    {
     "name": "stdout",
     "output_type": "stream",
     "text": [
      "[[0, 1, 2], [0, 1, 3], [0, 1, 4], [0, 2, 3], [0, 2, 4], [0, 3, 4], [1, 2, 3], [1, 2, 4], [1, 3, 4], [2, 3, 4]]\n"
     ]
    }
   ],
   "source": [
    "# combinations\n",
    "def comb(m,n):\n",
    "    '''combinations m places n symbols'''\n",
    "    if m == 1: return [[x] for x in n]\n",
    "    if m == len(n): return [n]\n",
    "    return [n[:1] + a for a in comb(m-1, n[1:])] + comb(m, n[1:])\n",
    "    \n",
    "def main():\n",
    "    print(comb(3,list(range(5))))\n",
    "    \n",
    "if __name__=='__main__':\n",
    "    main()"
   ]
  },
  {
   "cell_type": "code",
   "execution_count": 3,
   "metadata": {},
   "outputs": [
    {
     "name": "stdout",
     "output_type": "stream",
     "text": [
      "0.73\n"
     ]
    }
   ],
   "source": [
    "# RL test\n",
    "def valf(c, s):\n",
    "    '''sample value function'''\n",
    "    return c*s\n",
    "\n",
    "def valfsum(r, gamma, c, sts):\n",
    "    '''val func state sum'''\n",
    "    return sum([r+gamma*valf(c,vs) for vs in sts])\n",
    "\n",
    "def main():\n",
    "    print(valfsum(0.1, 0.5, 0.2, [1., 2., 0.1, 0.2]))\n",
    "    \n",
    "if __name__=='__main__':\n",
    "    main()"
   ]
  },
  {
   "cell_type": "code",
   "execution_count": 1,
   "metadata": {},
   "outputs": [
    {
     "name": "stdout",
     "output_type": "stream",
     "text": [
      "\n",
      "    Tic-tac-toe game player.\n",
      "    Input the index of where you wish to place your mark at your turn.\n",
      "\n",
      "1|2|3\n",
      "-+-+-\n",
      "4|5|6\n",
      "-+-+-\n",
      "7|8|9\n",
      "\n",
      "I go at 9\n",
      "1|2|3\n",
      "-+-+-\n",
      "4|5|6\n",
      "-+-+-\n",
      "7|8|X\n",
      "\n",
      "Put your O in any of these positions: 12345678 1\n",
      "\n",
      "You went at 1\n",
      "O|2|3\n",
      "-+-+-\n",
      "4|5|6\n",
      "-+-+-\n",
      "7|8|X\n",
      "\n",
      "I go at 7\n",
      "O|2|3\n",
      "-+-+-\n",
      "4|5|6\n",
      "-+-+-\n",
      "X|8|X\n",
      "\n",
      "Put your O in any of these positions: 234568 2\n",
      "\n",
      "You went at 2\n",
      "O|O|3\n",
      "-+-+-\n",
      "4|5|6\n",
      "-+-+-\n",
      "X|8|X\n",
      "\n",
      "I go at 8\n",
      "O|O|3\n",
      "-+-+-\n",
      "4|5|6\n",
      "-+-+-\n",
      "X|X|X\n",
      "\n",
      "X wins along [7, 8, 9]\n"
     ]
    }
   ],
   "source": [
    "'''\n",
    "    Tic-tac-toe game player.\n",
    "    Input the index of where you wish to place your mark at your turn.\n",
    "'''\n",
    " \n",
    "import random\n",
    " \n",
    "board = list('123456789')\n",
    "wins = ((0,1,2), (3,4,5), (6,7,8),\n",
    "        (0,3,6), (1,4,7), (2,5,8),\n",
    "        (0,4,8), (2,4,6))\n",
    " \n",
    "def printboard():\n",
    "    print('\\n-+-+-\\n'.join('|'.join(board[x:x+3]) for x in(0,3,6)))\n",
    " \n",
    "def score(board=board):\n",
    "    for w in wins:\n",
    "        b = board[w[0]]\n",
    "        if b in 'XO' and all (board[i] == b for i in w):\n",
    "            return b, [i+1 for i in w]\n",
    "    return None\n",
    " \n",
    "def finished():\n",
    "    return all (b in 'XO' for b in board)\n",
    " \n",
    "def space(board=board):\n",
    "    return [ b for b in board if b not in 'XO']\n",
    " \n",
    "def my_turn(xo, board):\n",
    "    options = space()\n",
    "    choice = random.choice(options)\n",
    "    board[int(choice)-1] = xo\n",
    "    return choice\n",
    " \n",
    "def my_better_turn(xo, board):\n",
    "    'Will return a next winning move or block your winning move if possible'\n",
    "    ox = 'O' if xo =='X' else 'X'\n",
    "    oneblock = None\n",
    "    options  = [int(s)-1 for s in space(board)]\n",
    "    for choice in options:\n",
    "        brd = board[:]\n",
    "        brd[choice] = xo\n",
    "        if score(brd):\n",
    "            break\n",
    "        if oneblock is None:\n",
    "            brd[choice] = ox\n",
    "            if score(brd):\n",
    "                oneblock = choice\n",
    "    else:\n",
    "        choice = oneblock if oneblock is not None else random.choice(options)\n",
    "    board[choice] = xo\n",
    "    return choice+1\n",
    " \n",
    "def your_turn(xo, board):\n",
    "    options = space()\n",
    "    while True:\n",
    "        choice = input(\"\\nPut your %s in any of these positions: %s \"\n",
    "                       % (xo, ''.join(options))).strip()\n",
    "        if choice in options:\n",
    "            break\n",
    "        print( \"Whoops I don't understand the input\" )\n",
    "    board[int(choice)-1] = xo\n",
    "    return choice\n",
    " \n",
    "def me(xo='X'):\n",
    "    printboard()\n",
    "    print('\\nI go at', my_better_turn(xo, board))\n",
    "    return score()\n",
    " \n",
    "def you(xo='O'):\n",
    "    printboard()\n",
    "    # Call my_turn(xo, board) below for it to play itself\n",
    "    print('\\nYou went at', your_turn(xo, board))\n",
    "    return score()\n",
    " \n",
    " \n",
    "print(__doc__)\n",
    "while not finished():\n",
    "    s = me('X')\n",
    "    if s:\n",
    "        printboard()\n",
    "        print(\"\\n%s wins along %s\" % s)\n",
    "        break\n",
    "    if not finished():\n",
    "        s = you('O')\n",
    "        if s:\n",
    "            printboard()\n",
    "            print(\"\\n%s wins along %s\" % s)\n",
    "            break\n",
    "else:\n",
    "    print('\\nA draw')"
   ]
  },
  {
   "cell_type": "code",
   "execution_count": 2,
   "metadata": {},
   "outputs": [],
   "source": [
    "import hashlib\n",
    "# RFC 1321    test suite:\n",
    "tests = (\n",
    "  (b\"\", 'd41d8cd98f00b204e9800998ecf8427e'),\n",
    "  (b\"a\", '0cc175b9c0f1b6a831c399e269772661'),\n",
    "  (b\"abc\", '900150983cd24fb0d6963f7d28e17f72'),\n",
    "  (b\"message digest\", 'f96b697d7cb7938d525a2f31aaf161d0'),\n",
    "  (b\"abcdefghijklmnopqrstuvwxyz\", 'c3fcd3d76192e4007dfb496cca67e13b'),\n",
    "  (b\"ABCDEFGHIJKLMNOPQRSTUVWXYZabcdefghijklmnopqrstuvwxyz0123456789\", 'd174ab98d277d9f5a5611c2c9f419d9f'),\n",
    "  (b\"12345678901234567890123456789012345678901234567890123456789012345678901234567890\", '57edf4a22be3c955ac49da2e2107b67a') )\n",
    "for text, golden in tests: assert hashlib.md5(text).hexdigest() == golden\n"
   ]
  },
  {
   "cell_type": "code",
   "execution_count": 1,
   "metadata": {},
   "outputs": [
    {
     "name": "stdout",
     "output_type": "stream",
     "text": [
      "8 7 4 2 1 0\n",
      "8 7 5 3 1 0\n",
      "8 7 6 4 1 0\n"
     ]
    }
   ],
   "source": [
    "# digits\n",
    "def aa(t,h,e,s,l):\n",
    "    return (101*t+10*h+11*e-11*s-900*l)/100\n",
    "\n",
    "def main():\n",
    "    #print(aa(1,2,3,4,5))\n",
    "    for t in range(1,10):\n",
    "        for h in range(0,10):\n",
    "            for e in range(0,10):\n",
    "                for s in range(0,10):\n",
    "                    for l in range(1,10):\n",
    "                        a = aa(t,h,e,s,l)\n",
    "                        if float(a).is_integer() and t != h and h != e and e != s and s != l and l != a \\\n",
    "                        and t != e and t != s and t != l and t != a and h != s and h != l and h != a \\\n",
    "                        and e !=l and e != a and s != a and a >= 0 and a < 10:\n",
    "                            print(t,h,e,s,l,int(a))\n",
    "    \n",
    "if __name__=='__main__':\n",
    "    main()"
   ]
  },
  {
   "cell_type": "code",
   "execution_count": 12,
   "metadata": {},
   "outputs": [
    {
     "name": "stdout",
     "output_type": "stream",
     "text": [
      "0 1 [] [1, 2] []\n"
     ]
    },
    {
     "ename": "IndexError",
     "evalue": "list index out of range",
     "output_type": "error",
     "traceback": [
      "\u001b[1;31m---------------------------------------------------------------------------\u001b[0m",
      "\u001b[1;31mIndexError\u001b[0m                                Traceback (most recent call last)",
      "\u001b[1;32m<ipython-input-12-4a8fc219e5fc>\u001b[0m in \u001b[0;36m<module>\u001b[1;34m\u001b[0m\n\u001b[0;32m     99\u001b[0m \u001b[1;33m\u001b[0m\u001b[0m\n\u001b[0;32m    100\u001b[0m     \u001b[1;31m# Value iteration\u001b[0m\u001b[1;33m\u001b[0m\u001b[1;33m\u001b[0m\u001b[1;33m\u001b[0m\u001b[0m\n\u001b[1;32m--> 101\u001b[1;33m     \u001b[0mV\u001b[0m \u001b[1;33m=\u001b[0m \u001b[0mvalue_iteration\u001b[0m\u001b[1;33m(\u001b[0m\u001b[0mmyenv\u001b[0m\u001b[1;33m,\u001b[0m \u001b[0meps\u001b[0m\u001b[1;33m=\u001b[0m\u001b[1;36m0.0001\u001b[0m\u001b[1;33m)\u001b[0m\u001b[1;33m\u001b[0m\u001b[1;33m\u001b[0m\u001b[0m\n\u001b[0m\u001b[0;32m    102\u001b[0m     \u001b[1;31m# test the value function on 100 games\u001b[0m\u001b[1;33m\u001b[0m\u001b[1;33m\u001b[0m\u001b[1;33m\u001b[0m\u001b[0m\n\u001b[0;32m    103\u001b[0m     \u001b[1;31m#run_episodes(env, V, 100)\u001b[0m\u001b[1;33m\u001b[0m\u001b[1;33m\u001b[0m\u001b[1;33m\u001b[0m\u001b[0m\n",
      "\u001b[1;32m<ipython-input-12-4a8fc219e5fc>\u001b[0m in \u001b[0;36mvalue_iteration\u001b[1;34m(env, eps)\u001b[0m\n\u001b[0;32m     57\u001b[0m         \u001b[1;32mfor\u001b[0m \u001b[0ms\u001b[0m \u001b[1;32min\u001b[0m \u001b[0mrange\u001b[0m\u001b[1;33m(\u001b[0m\u001b[0menv\u001b[0m\u001b[1;33m.\u001b[0m\u001b[0mnS\u001b[0m\u001b[1;33m)\u001b[0m\u001b[1;33m:\u001b[0m \u001b[1;31m# over all states\u001b[0m\u001b[1;33m\u001b[0m\u001b[1;33m\u001b[0m\u001b[0m\n\u001b[0;32m     58\u001b[0m             \u001b[0mold_v\u001b[0m \u001b[1;33m=\u001b[0m \u001b[0mV\u001b[0m\u001b[1;33m[\u001b[0m\u001b[0ms\u001b[0m\u001b[1;33m]\u001b[0m\u001b[1;33m\u001b[0m\u001b[1;33m\u001b[0m\u001b[0m\n\u001b[1;32m---> 59\u001b[1;33m             \u001b[0mV\u001b[0m\u001b[1;33m[\u001b[0m\u001b[0ms\u001b[0m\u001b[1;33m]\u001b[0m \u001b[1;33m=\u001b[0m \u001b[0mnp\u001b[0m\u001b[1;33m.\u001b[0m\u001b[0mmax\u001b[0m\u001b[1;33m(\u001b[0m\u001b[1;33m[\u001b[0m\u001b[0meval_state_action\u001b[0m\u001b[1;33m(\u001b[0m\u001b[0menv\u001b[0m\u001b[1;33m,\u001b[0m \u001b[0mV\u001b[0m\u001b[1;33m,\u001b[0m \u001b[0ms\u001b[0m\u001b[1;33m,\u001b[0m \u001b[0ma\u001b[0m\u001b[1;33m)\u001b[0m \u001b[1;32mfor\u001b[0m \u001b[0ma\u001b[0m \u001b[1;32min\u001b[0m \u001b[0menv\u001b[0m\u001b[1;33m.\u001b[0m\u001b[0mP\u001b[0m\u001b[1;33m[\u001b[0m\u001b[0ms\u001b[0m\u001b[1;33m]\u001b[0m\u001b[1;33m]\u001b[0m\u001b[1;33m)\u001b[0m \u001b[1;31m# optimal action\u001b[0m\u001b[1;33m\u001b[0m\u001b[1;33m\u001b[0m\u001b[0m\n\u001b[0m\u001b[0;32m     60\u001b[0m             \u001b[0mdelta\u001b[0m \u001b[1;33m=\u001b[0m \u001b[0mmax\u001b[0m\u001b[1;33m(\u001b[0m\u001b[0mdelta\u001b[0m\u001b[1;33m,\u001b[0m \u001b[0mnp\u001b[0m\u001b[1;33m.\u001b[0m\u001b[0mabs\u001b[0m\u001b[1;33m(\u001b[0m\u001b[0mold_v\u001b[0m \u001b[1;33m-\u001b[0m \u001b[0mV\u001b[0m\u001b[1;33m[\u001b[0m\u001b[0ms\u001b[0m\u001b[1;33m]\u001b[0m\u001b[1;33m)\u001b[0m\u001b[1;33m)\u001b[0m\u001b[1;33m\u001b[0m\u001b[1;33m\u001b[0m\u001b[0m\n\u001b[0;32m     61\u001b[0m \u001b[1;33m\u001b[0m\u001b[0m\n",
      "\u001b[1;32m<ipython-input-12-4a8fc219e5fc>\u001b[0m in \u001b[0;36m<listcomp>\u001b[1;34m(.0)\u001b[0m\n\u001b[0;32m     57\u001b[0m         \u001b[1;32mfor\u001b[0m \u001b[0ms\u001b[0m \u001b[1;32min\u001b[0m \u001b[0mrange\u001b[0m\u001b[1;33m(\u001b[0m\u001b[0menv\u001b[0m\u001b[1;33m.\u001b[0m\u001b[0mnS\u001b[0m\u001b[1;33m)\u001b[0m\u001b[1;33m:\u001b[0m \u001b[1;31m# over all states\u001b[0m\u001b[1;33m\u001b[0m\u001b[1;33m\u001b[0m\u001b[0m\n\u001b[0;32m     58\u001b[0m             \u001b[0mold_v\u001b[0m \u001b[1;33m=\u001b[0m \u001b[0mV\u001b[0m\u001b[1;33m[\u001b[0m\u001b[0ms\u001b[0m\u001b[1;33m]\u001b[0m\u001b[1;33m\u001b[0m\u001b[1;33m\u001b[0m\u001b[0m\n\u001b[1;32m---> 59\u001b[1;33m             \u001b[0mV\u001b[0m\u001b[1;33m[\u001b[0m\u001b[0ms\u001b[0m\u001b[1;33m]\u001b[0m \u001b[1;33m=\u001b[0m \u001b[0mnp\u001b[0m\u001b[1;33m.\u001b[0m\u001b[0mmax\u001b[0m\u001b[1;33m(\u001b[0m\u001b[1;33m[\u001b[0m\u001b[0meval_state_action\u001b[0m\u001b[1;33m(\u001b[0m\u001b[0menv\u001b[0m\u001b[1;33m,\u001b[0m \u001b[0mV\u001b[0m\u001b[1;33m,\u001b[0m \u001b[0ms\u001b[0m\u001b[1;33m,\u001b[0m \u001b[0ma\u001b[0m\u001b[1;33m)\u001b[0m \u001b[1;32mfor\u001b[0m \u001b[0ma\u001b[0m \u001b[1;32min\u001b[0m \u001b[0menv\u001b[0m\u001b[1;33m.\u001b[0m\u001b[0mP\u001b[0m\u001b[1;33m[\u001b[0m\u001b[0ms\u001b[0m\u001b[1;33m]\u001b[0m\u001b[1;33m]\u001b[0m\u001b[1;33m)\u001b[0m \u001b[1;31m# optimal action\u001b[0m\u001b[1;33m\u001b[0m\u001b[1;33m\u001b[0m\u001b[0m\n\u001b[0m\u001b[0;32m     60\u001b[0m             \u001b[0mdelta\u001b[0m \u001b[1;33m=\u001b[0m \u001b[0mmax\u001b[0m\u001b[1;33m(\u001b[0m\u001b[0mdelta\u001b[0m\u001b[1;33m,\u001b[0m \u001b[0mnp\u001b[0m\u001b[1;33m.\u001b[0m\u001b[0mabs\u001b[0m\u001b[1;33m(\u001b[0m\u001b[0mold_v\u001b[0m \u001b[1;33m-\u001b[0m \u001b[0mV\u001b[0m\u001b[1;33m[\u001b[0m\u001b[0ms\u001b[0m\u001b[1;33m]\u001b[0m\u001b[1;33m)\u001b[0m\u001b[1;33m)\u001b[0m\u001b[1;33m\u001b[0m\u001b[1;33m\u001b[0m\u001b[0m\n\u001b[0;32m     61\u001b[0m \u001b[1;33m\u001b[0m\u001b[0m\n",
      "\u001b[1;32m<ipython-input-12-4a8fc219e5fc>\u001b[0m in \u001b[0;36meval_state_action\u001b[1;34m(env, V, s, a, gamma)\u001b[0m\n\u001b[0;32m     40\u001b[0m \u001b[1;32mdef\u001b[0m \u001b[0meval_state_action\u001b[0m\u001b[1;33m(\u001b[0m\u001b[0menv\u001b[0m\u001b[1;33m,\u001b[0m \u001b[0mV\u001b[0m\u001b[1;33m,\u001b[0m \u001b[0ms\u001b[0m\u001b[1;33m,\u001b[0m \u001b[0ma\u001b[0m\u001b[1;33m,\u001b[0m \u001b[0mgamma\u001b[0m\u001b[1;33m=\u001b[0m\u001b[1;36m0.99\u001b[0m\u001b[1;33m)\u001b[0m\u001b[1;33m:\u001b[0m\u001b[1;33m\u001b[0m\u001b[1;33m\u001b[0m\u001b[0m\n\u001b[0;32m     41\u001b[0m     \u001b[1;31m#print(env.P[s][a])\u001b[0m\u001b[1;33m\u001b[0m\u001b[1;33m\u001b[0m\u001b[1;33m\u001b[0m\u001b[0m\n\u001b[1;32m---> 42\u001b[1;33m     \u001b[0mprint\u001b[0m\u001b[1;33m(\u001b[0m\u001b[0ms\u001b[0m\u001b[1;33m,\u001b[0m \u001b[0ma\u001b[0m\u001b[1;33m,\u001b[0m \u001b[0menv\u001b[0m\u001b[1;33m.\u001b[0m\u001b[0mp_act\u001b[0m\u001b[1;33m(\u001b[0m\u001b[1;36m1\u001b[0m\u001b[1;33m,\u001b[0m \u001b[0menv\u001b[0m\u001b[1;33m.\u001b[0m\u001b[0mP\u001b[0m\u001b[1;33m[\u001b[0m\u001b[0ms\u001b[0m\u001b[1;33m]\u001b[0m\u001b[1;33m[\u001b[0m\u001b[0ma\u001b[0m\u001b[1;33m]\u001b[0m\u001b[1;33m)\u001b[0m\u001b[1;33m,\u001b[0m \u001b[0menv\u001b[0m\u001b[1;33m.\u001b[0m\u001b[0ms_nxt\u001b[0m\u001b[1;33m(\u001b[0m\u001b[1;36m1\u001b[0m\u001b[1;33m,\u001b[0m \u001b[0ms\u001b[0m\u001b[1;33m)\u001b[0m\u001b[1;33m,\u001b[0m \u001b[0menv\u001b[0m\u001b[1;33m.\u001b[0m\u001b[0mr_act\u001b[0m\u001b[1;33m(\u001b[0m\u001b[1;36m1\u001b[0m\u001b[1;33m,\u001b[0m \u001b[0ma\u001b[0m\u001b[1;33m)\u001b[0m\u001b[1;33m)\u001b[0m\u001b[1;33m\u001b[0m\u001b[1;33m\u001b[0m\u001b[0m\n\u001b[0m\u001b[0;32m     43\u001b[0m     \u001b[1;31m#print(env.r_act(1, 2))\u001b[0m\u001b[1;33m\u001b[0m\u001b[1;33m\u001b[0m\u001b[1;33m\u001b[0m\u001b[0m\n\u001b[0;32m     44\u001b[0m     \u001b[1;31m#print(env.p_act(1, 1))\u001b[0m\u001b[1;33m\u001b[0m\u001b[1;33m\u001b[0m\u001b[1;33m\u001b[0m\u001b[0m\n",
      "\u001b[1;31mIndexError\u001b[0m: list index out of range"
     ]
    }
   ],
   "source": [
    "# value iteration: tic-tac-toe\n",
    "import numpy as np\n",
    "\n",
    "win_pat = [[0,1,2], [3,4,5], [6,7,8], [0,3,6], [1,4,7], [2,5,8], [0,4,8], [2,4,6]] # winning patterns\n",
    "\n",
    "def oplr(plr):\n",
    "    if plr == 1:\n",
    "        return 2\n",
    "    return 1\n",
    "\n",
    "class Env: # environment class\n",
    "    def __init__(self, nS, nA, p_ini_dct): # p_ini_dct: p, next_s, rew, _\n",
    "        self.board = [[0 for a in range(nA)] for a in range(nS)]\n",
    "        self.P = [[1,2], [0,1,2], [0,1], [1,2,3], [0,1,2,3], [0,1,3], [2,3], [0,2,3], [0,3]] # not all moves possible\n",
    "        self.nS = nS\n",
    "        self.nA = nA\n",
    "        self.curr_s = 0\n",
    "        self.curr_a = 0\n",
    "    \n",
    "    def p_act(self, plr, s): # probabilities of available actions from state s\n",
    "        pa = self.r_act(plr, s)\n",
    "        return [pac / (sum(pa) + 0.00001) for pac in pa] # todo: dirty, fix\n",
    "    \n",
    "    def r_act(self, plr, s): # rewards of all possible actions from given state\n",
    "        ra = []\n",
    "        for act in self.P[s]:\n",
    "            for wpat in win_pat:\n",
    "                if wpat.count(act) > 0:\n",
    "                    for wpos in wpat:\n",
    "                        if self.board[wpos] == plr or self.board[wpos] == oplr(plr): # either move toward pattern or block\n",
    "                            ra[act] += 1\n",
    "        return ra\n",
    "    \n",
    "    def s_nxt(self, plr, s): # return all the possible next states after actions\n",
    "        return self.P[s]\n",
    "    \n",
    "    def step(self, plr, action): # take one step: next_s, rew, done, _\n",
    "        return 0\n",
    "\n",
    "def eval_state_action(env, V, s, a, gamma=0.99):\n",
    "    #print(env.P[s][a])\n",
    "    print(s, a, env.p_act(1, env.P[s][a]), env.s_nxt(1, s), env.r_act(1, a))\n",
    "    #print(env.r_act(1, 2))\n",
    "    #print(env.p_act(1, 1))\n",
    "    #return np.sum([p * (rew + gamma*V[next_s]) for p, next_s, rew, _ in env.P[s][a]]) # Bellman iteration over all states\n",
    "    return np.sum([p * (rew + gamma*V[next_s]) for p, next_s, rew in zip(env.p_act(1, \\\n",
    "                    env.P[s][a]), env.s_nxt(1, s), env.r_act(1, a))])\n",
    "\n",
    "def value_iteration(env, eps=0.0001):\n",
    "    '''value iteration'''\n",
    "    V = np.zeros(env.nS)\n",
    "    it = 0\n",
    "\n",
    "    while True:\n",
    "        delta = 0\n",
    "        # update the value of each state using as \"policy\" the max operator\n",
    "        for s in range(env.nS): # over all states\n",
    "            old_v = V[s]\n",
    "            V[s] = np.max([eval_state_action(env, V, s, a) for a in env.P[s]]) # optimal action\n",
    "            delta = max(delta, np.abs(old_v - V[s]))\n",
    "\n",
    "        if delta < eps:\n",
    "            break\n",
    "        else:\n",
    "            print('Iter:', it, ' delta:', np.round(delta, 5))\n",
    "        it += 1\n",
    "\n",
    "    return V\n",
    "\n",
    "def run_episodes(env, V, num_games=100):\n",
    "    '''run some test games'''\n",
    "    tot_rew = 0\n",
    "    state = env.reset()\n",
    "\n",
    "    for _ in range(num_games):\n",
    "        done = False\n",
    "        while not done:\n",
    "            action = np.argmax([eval_state_action(V, state, a) for a in range(nA)])\n",
    "            next_state, reward, done, _ = env.step(action)\n",
    "\n",
    "            state = next_state\n",
    "            tot_rew += reward \n",
    "            if done:\n",
    "                state = env.reset()\n",
    "\n",
    "    print('Won %i of %i games!'%(tot_rew, num_games))\n",
    "\n",
    "            \n",
    "if __name__ == '__main__':\n",
    "    # create the environment\n",
    "    #env = gym.make('FrozenLake-v0')\n",
    "    myenv = Env(9, 4, {})\n",
    "    # enwrap it to have additional information from it\n",
    "    #env = env.unwrapped\n",
    "\n",
    "    # spaces dimension\n",
    "    #nA = env.action_space.n\n",
    "    #nS = env.observation_space.n\n",
    "\n",
    "    # Value iteration\n",
    "    V = value_iteration(myenv, eps=0.0001)\n",
    "    # test the value function on 100 games\n",
    "    #run_episodes(env, V, 100)\n",
    "    # print the state values\n",
    "    print('state values:')\n",
    "    print(V.reshape((4,4)))"
   ]
  },
  {
   "cell_type": "code",
   "execution_count": 2,
   "metadata": {},
   "outputs": [
    {
     "name": "stdout",
     "output_type": "stream",
     "text": [
      "[[<__main__.Site object at 0x00000148D252FCF8>\n",
      "  <__main__.Site object at 0x00000148D252FE10>\n",
      "  <__main__.Site object at 0x00000148D252FD30>]\n",
      " [<__main__.Site object at 0x00000148D252FDD8>\n",
      "  <__main__.Site object at 0x00000148D39390F0>\n",
      "  <__main__.Site object at 0x00000148D39391D0>]\n",
      " [<__main__.Site object at 0x00000148D3939198>\n",
      "  <__main__.Site object at 0x00000148D3939278>\n",
      "  <__main__.Site object at 0x00000148D3939390>]]\n",
      "<numpy.vectorize object at 0x00000148CFEBA320>\n"
     ]
    }
   ],
   "source": [
    "import numpy as np\n",
    "\n",
    "class Site:\n",
    "    def __init__(self, a):\n",
    "        self.a = a\n",
    "    def set_a(self, new_a):\n",
    "        self.a = new_a\n",
    "\n",
    "# Define a vectorized function which takes a nested sequence of objects or numpy arrays as inputs and\n",
    "# returns a single numpy array or a tuple of numpy arrays\n",
    "vSite = np.vectorize(Site)\n",
    "\n",
    "init_arry = np.arange(9).reshape((3,3))\n",
    "\n",
    "lattice = np.empty((3,3), dtype=object)\n",
    "lattice[:,:] = vSite(init_arry)\n",
    "\n",
    "print(lattice)\n",
    "print(vSite)"
   ]
  },
  {
   "cell_type": "code",
   "execution_count": 4,
   "metadata": {},
   "outputs": [
    {
     "data": {
      "text/plain": [
       "[[0, 0, 0], [0, 0, 0]]"
      ]
     },
     "execution_count": 4,
     "metadata": {},
     "output_type": "execute_result"
    }
   ],
   "source": [
    "[[0 for a in range(3)] for a in range(2)]"
   ]
  },
  {
   "cell_type": "code",
   "execution_count": 1,
   "metadata": {},
   "outputs": [
    {
     "name": "stdout",
     "output_type": "stream",
     "text": [
      "11\n"
     ]
    }
   ],
   "source": [
    "# two dice\n",
    "import random\n",
    "\n",
    "def twod():\n",
    "    return random.randint(1,6) + random.randint(1,6)\n",
    "\n",
    "def main():\n",
    "    print(twod())\n",
    "\n",
    "if __name__=='__main__':\n",
    "    main()"
   ]
  },
  {
   "cell_type": "code",
   "execution_count": 9,
   "metadata": {
    "scrolled": true
   },
   "outputs": [
    {
     "name": "stdout",
     "output_type": "stream",
     "text": [
      "[7, 80]\n",
      "[90, 379, 575, 864, 1060, 1545, 1741, 2030, 2226, 2515, 2711, 3000, 3196, 3681, 3877, 4166, 4362, 4651, 4847, 5136, 5332, 5817, 6013, 6302, 6498, 6787, 6983, 7272, 7468, 7953, 8438, 8634, 8923, 9119, 9408, 9604, 10089, 10574, 10770, 11059, 11255, 11544, 11740, 12225, 12710]\n"
     ]
    }
   ],
   "source": [
    "# p(L,n) the nth-smallest value of j such that the base ten representation of 2^j begins with the digits of L \n",
    "def pLn(L, n):\n",
    "    '''p(L,n)'''\n",
    "    res = []\n",
    "    jc = 0\n",
    "    twoc = 1\n",
    "    while jc < 15000:\n",
    "        twoc *= 2\n",
    "        jc += 1\n",
    "        if str(L) == str(twoc)[0:len(str(L))]:\n",
    "            res.append(jc)\n",
    "            if len(res) == n:\n",
    "                return res\n",
    "    return res\n",
    "\n",
    "def main():\n",
    "    print(pLn(12, 2))\n",
    "    print(pLn(123, 45))\n",
    "\n",
    "if __name__=='__main__':\n",
    "    main()"
   ]
  },
  {
   "cell_type": "code",
   "execution_count": 1,
   "metadata": {},
   "outputs": [],
   "source": [
    "# tree recursive NN\n",
    "def fwdProp(self, node):\n",
    "    # recursion\n",
    "    \n",
    "    # node's hidden activation\n",
    "    node.h = np.dot(self.W, np.hstack([node.left.h, node.right.h])) + self.b\n",
    "    # ReLU\n",
    "    node.h[node.h<0] = 0\n",
    "    \n",
    "    # sftmx\n",
    "    node.probs = np.dot(self.Ws, node.h) + self.bs\n",
    "    node.probs -= np.max(node.probs)\n",
    "    node.probs = np.exp(node.probs)\n",
    "    node.probs /= np.sum(node.probs)\n",
    "    \n",
    "def bkcProp(self, node, error=None):\n",
    "    deltas = node.probs\n",
    "    # Softmax grad\n",
    "    deltas[node.label] -= 1.0\n",
    "    self.dWs += np.outer(deltas, node.h)\n",
    "    self.dbs += deltas\n",
    "    deltas = np.dot(self.Ws.T, deltas)\n",
    "\n",
    "    # Add deltas from above\n",
    "    if error is not None:\n",
    "        deltas += error\n",
    "\n",
    "    # f'(z) now:\n",
    "    deltas *= (node.h != 0)\n",
    "\n",
    "    # Update word vectors if leaf node:\n",
    "    if node.isLeaf:\n",
    "        self.dL[node.word] += deltas\n",
    "        return\n",
    "\n",
    "    # Recursively backprop\n",
    "    if not node.isLeaf:\n",
    "        self.dW += np.outer(deltas,np.hstack([node.left.h, node.right.h]))\n",
    "        self.db += deltas\n",
    "        # Error signal to children\n",
    "        deltas = np.dot(self.W.T, deltas)\n",
    "        self.backProp(node.left, deltas[:self.hiddenDim])\n",
    "        self.backProp(node.right, deltas[self.hiddenDim:])"
   ]
  },
  {
   "cell_type": "code",
   "execution_count": 2,
   "metadata": {},
   "outputs": [
    {
     "name": "stdout",
     "output_type": "stream",
     "text": [
      "1\n",
      "15\n",
      "15\n",
      "29\n",
      "29\n"
     ]
    }
   ],
   "source": [
    "# sum digits\n",
    "def toBaseX(num, base):\n",
    "    output = []\n",
    "    while num:\n",
    "        num, rem = divmod(num, base)\n",
    "        output.append(rem)\n",
    "    return output\n",
    " \n",
    "def sumDigits(num, base=10):\n",
    "    if base < 2:\n",
    "        print (\"Error: Base must be at least 2\")\n",
    "        return\n",
    "    return sum(toBaseX(num, base))\n",
    " \n",
    "print (sumDigits(1))\n",
    "print (sumDigits(12345))\n",
    "print (sumDigits(123045))\n",
    "print (sumDigits(0xfe, 16))\n",
    "print (sumDigits(0xf0e, 16))"
   ]
  },
  {
   "cell_type": "code",
   "execution_count": 8,
   "metadata": {},
   "outputs": [
    {
     "name": "stdout",
     "output_type": "stream",
     "text": [
      "player 0 enter r=rock, p=paper, s=scissors, q=quit: r\n",
      "player 0: r\n",
      " player 1 enter r=rock, p=paper, s=scissors, q=quit: p\n",
      "player 1: p\n",
      "1\n"
     ]
    }
   ],
   "source": [
    "# rock, paper, scissors\n",
    "def rps():\n",
    "    '''rock, paper, scissors'''\n",
    "    rpsdct = {'r': 0, 'p': 1, 's': 2}\n",
    "    plr0 = input(\"player 0 enter r=rock, p=paper, s=scissors, q=quit: \")\n",
    "    if plr0 == \"q\":\n",
    "        return -1\n",
    "    else: \n",
    "        print(\"player 0: \" + plr0)\n",
    "    plr1 = input(\" player 1 enter r=rock, p=paper, s=scissors, q=quit: \")\n",
    "    if plr1 == \"q\":\n",
    "        return -1\n",
    "    else: \n",
    "        print(\"player 1: \" + plr1)\n",
    "    if plr0 == 'r' and plr1 == 's':\n",
    "        return 0\n",
    "    if plr1 == 'r' and plr0 == 's':\n",
    "        return 1\n",
    "    if rpsdct[plr0] < rpsdct[plr1]:\n",
    "        return 1\n",
    "    return 0   \n",
    "    \n",
    "def main():\n",
    "    print(rps())\n",
    "\n",
    "if __name__=='__main__':\n",
    "    main()"
   ]
  },
  {
   "cell_type": "code",
   "execution_count": 1,
   "metadata": {},
   "outputs": [
    {
     "data": {
      "image/png": "[encoded data removed]",
      "text/plain": [
       "<Figure size 432x288 with 1 Axes>"
      ]
     },
     "metadata": {
      "needs_background": "light"
     },
     "output_type": "display_data"
    },
    {
     "name": "stdout",
     "output_type": "stream",
     "text": [
      "loss:  0 337.0\n"
     ]
    },
    {
     "data": {
      "image/png": "[encoded data removed]",
      "text/plain": [
       "<Figure size 432x288 with 1 Axes>"
      ]
     },
     "metadata": {
      "needs_background": "light"
     },
     "output_type": "display_data"
    }
   ],
   "source": [
    "# NN feedback: self similarity?\n",
    "import numpy as np\n",
    "import matplotlib.pyplot as plt\n",
    "import random\n",
    "import math\n",
    "\n",
    "def softmax(x):\n",
    "    \"\"\"softmax applied to set of values x\"\"\"\n",
    "    exp_x = np.exp(x - np.max(x))\n",
    "    return exp_x / exp_x.sum(axis=0)\n",
    "\n",
    "modeldim = 64*64\n",
    "nshown = modeldim\n",
    "# N is batch size; D_in is input dimension;\n",
    "# H is hidden dimension; D_out is output dimension.\n",
    "N, D_in, H, D_out = nshown+1, modeldim, 4, modeldim\n",
    "\n",
    "inpt = np.zeros(modeldim) # input\n",
    "y = np.zeros(D_out) # truth\n",
    "#y[0] = 1\n",
    "ndim2 = int(math.sqrt(modeldim))\n",
    "for i in range(ndim2):\n",
    "    for j in range(0,ndim2,i+1):\n",
    "        y[i*ndim2+j] = 1 # some structured image\n",
    "    \n",
    "#print(y)\n",
    "img_yp = y.reshape(ndim2, ndim2)\n",
    "plt.imshow(img_yp)\n",
    "plt.show()\n",
    "\n",
    "# Randomly initialize weights\n",
    "w1 = np.random.randn(D_in, H)*0.001\n",
    "w2 = np.random.randn(H, D_out)*0.001\n",
    "\n",
    "b1 = np.zeros(H) # bias\n",
    "b2 = np.zeros(D_out)\n",
    "\n",
    "mw1 = np.zeros_like(w1)\n",
    "mw2 = np.zeros_like(w2)\n",
    "mb1 = np.zeros_like(b1)\n",
    "mb2 = np.zeros_like(b2)\n",
    "\n",
    "# graph weights\n",
    "#yw1 = []\n",
    "#yw2 = []\n",
    "\n",
    "learning_rate = 1e-3\n",
    "\n",
    "for t in range(30):\n",
    "    # Forward pass: compute predicted y\n",
    "    #h = np.dot(inpt, w1) + b1\n",
    "    h = np.dot(np.power(inpt, 2), w1) + b1 # try quadratic\n",
    "    h_relu = h\n",
    "    h_relu = np.maximum(h, 0)\n",
    "    #h_relu = softmax(h)\n",
    "    #y_pred = np.dot(h_relu, w2) + b2 # output\n",
    "    y_pred = np.dot(w2.T, h_relu) + b2 # output\n",
    "\n",
    "    # Compute and print loss\n",
    "    loss = np.square(y_pred - y).sum()\n",
    "    if t % 100 == 0:\n",
    "        print('loss: ', t, loss)\n",
    "\n",
    "    # Backprop to compute gradients of w1 and w2 with respect to loss\n",
    "    grad_y_pred = (y_pred - y)\n",
    "    #print(h_relu, ' : ', grad_y_pred.T, ' : ', h_relu)\n",
    "    grad_w2 = np.dot(h_relu, np.ones_like(w2)) * grad_y_pred # dw2 = (.) ReLu(h)\n",
    "    grad_b2 = grad_y_pred\n",
    "    grad_h_relu = np.dot(grad_y_pred, w2.T) # dw1 = (.) w2 ReLu'(h) x\n",
    "    grad_h = grad_h_relu.copy()\n",
    "    grad_h[h < 0] = 0 # ReLU'\n",
    "    #grad_w1 = np.dot(inpt.T, np.ones_like(w1)) * grad_h\n",
    "    grad_w1 = np.dot(np.power(inpt, 2).T, np.ones_like(w1)) * grad_h\n",
    "    grad_b1 = np.dot(w2, grad_y_pred.T)\n",
    "\n",
    "    # Update weights\n",
    "    #w1 -= learning_rate * grad_w1\n",
    "    #w2 -= learning_rate * grad_w2\n",
    "    #b1 -= learning_rate * grad_b1.T[0]\n",
    "    #b2 -= learning_rate * grad_b2[0]\n",
    "    for param, dparam, mem in zip([w1, w2, b1, b2], [grad_w1, grad_w2, grad_b1.T[0], grad_b2[0]], [mw1, mw2, mb1, mb2]):\n",
    "        mem += dparam * dparam\n",
    "        param += -learning_rate * dparam / np.sqrt(mem + 1e-8) # adagrad update\n",
    "        \n",
    "    #yw1.append(np.sum(grad_w1))\n",
    "    #yw2.append(np.sum(grad_w2))\n",
    "    \n",
    "    inpt += y_pred # feedback loop\n",
    "        \n",
    "#print('prediction: ', y_pred)\n",
    "#x = range(len(yw1))\n",
    "#print('w1')\n",
    "#plt.plot(x, yw1)\n",
    "#plt.show()\n",
    "#print('w2')\n",
    "#plt.plot(x, yw2)\n",
    "#plt.show()\n",
    "\n",
    "img_yp = y_pred.reshape(ndim2, ndim2)\n",
    "plt.imshow(img_yp)\n",
    "plt.show()"
   ]
  },
  {
   "cell_type": "code",
   "execution_count": 74,
   "metadata": {},
   "outputs": [
    {
     "name": "stdout",
     "output_type": "stream",
     "text": [
      "2\n",
      "3\n",
      "5\n",
      "8\n",
      "13\n",
      "21\n"
     ]
    }
   ],
   "source": [
    "# climbing N steps\n",
    "def stps_n(n, k):\n",
    "    '''ways to climb n steps taking up to k at a time'''\n",
    "    if n <= k:\n",
    "        return k\n",
    "    return sum([stps_n(n-k-i, k) for i in range(n-k+1)]) - 1\n",
    "\n",
    "def main():\n",
    "    print(stps_n(2,2))\n",
    "    print(stps_n(3,2))\n",
    "    print(stps_n(4,2))\n",
    "    print(stps_n(5,2))\n",
    "    print(stps_n(6,2))\n",
    "    print(stps_n(7,2))\n",
    "\n",
    "if __name__=='__main__':\n",
    "    main()"
   ]
  },
  {
   "cell_type": "code",
   "execution_count": null,
   "metadata": {},
   "outputs": [],
   "source": []
  }
 ],
 "metadata": {
  "kernelspec": {
   "display_name": "Python 3",
   "language": "python",
   "name": "python3"
  },
  "language_info": {
   "codemirror_mode": {
    "name": "ipython",
    "version": 3
   },
   "file_extension": ".py",
   "mimetype": "text/x-python",
   "name": "python",
   "nbconvert_exporter": "python",
   "pygments_lexer": "ipython3",
   "version": "3.6.10"
  }
 },
 "nbformat": 4,
 "nbformat_minor": 4
}
