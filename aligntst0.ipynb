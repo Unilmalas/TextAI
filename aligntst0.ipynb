{
 "cells": [
  {
   "cell_type": "markdown",
   "metadata": {},
   "source": [
    "# Test of alignment scores and functions for the attention mechanism\n",
    "\n",
    "How do the different scores differ? What are advantages, disadvantages?\n",
    "\n",
    "A first test only."
   ]
  },
  {
   "cell_type": "code",
   "execution_count": 48,
   "metadata": {},
   "outputs": [
    {
     "name": "stdout",
     "output_type": "stream",
     "text": [
      "score dot:  0.11000000000000001\n",
      "align dot:  1.0\n",
      "score weighted:  0.27\n",
      "align weighted:  1.0\n",
      "score tanh:  0.26362483547220333\n",
      "align tanh:  1.0\n",
      "score euclidean:  0.4343145750507619\n",
      "align euclidean:  1.0\n",
      "score entr:  0.0977326186934114\n",
      "align entr:  1.0\n"
     ]
    }
   ],
   "source": [
    "# test alignment functions\n",
    "import numpy as np\n",
    "\n",
    "def softmax(x):\n",
    "    \"\"\"Compute softmax values for each sets of scores in x.\"\"\"\n",
    "    e_x = np.exp(x - np.max(x))\n",
    "    return e_x / e_x.sum(axis=0)\n",
    "\n",
    "def fscore(x, y, mthd='dot', w=np.ones((1,1))):\n",
    "    '''compute alignment score for attention'''\n",
    "    if mthd == 'dot':\n",
    "        return x.dot(y.T)\n",
    "    elif mthd == 'wght':\n",
    "        return x.dot(w.dot(y.T))\n",
    "    elif mthd == 'tanh':\n",
    "        return np.tanh(x.dot(w.dot(y.T)))\n",
    "    elif mthd == 'euc':\n",
    "        return 1 - np.linalg.norm(x-y)\n",
    "    elif mthd == 'ent':\n",
    "        return x.dot(np.log(1+y))\n",
    "    else:\n",
    "        return np.zeros_like(x)\n",
    "\n",
    "if __name__ == \"__main__\":\n",
    "    a0 = np.array([.1, .1, .5])\n",
    "    a1 = np.array([.1, .5, .1])\n",
    "    print('score dot: ', fscore(a0, a1, 'dot'))\n",
    "    print('align dot: ', softmax(fscore(a0, a1, 'dot')))\n",
    "    #w0 = np.random.random((3,3))\n",
    "    w0 = np.array([[1, 1, -1], [1, -1, 1], [-1, 1, 1]])\n",
    "    print('score weighted: ', fscore(a0, a1,'wght', w0))\n",
    "    print('align weighted: ', softmax(fscore(a0, a1,'wght', w0)))\n",
    "    print('score tanh: ', fscore(a0, a1,'tanh', w0))\n",
    "    print('align tanh: ', softmax(fscore(a0, a1,'tanh', w0)))\n",
    "    print('score euclidean: ', fscore(a0, a1, 'euc'))\n",
    "    print('align euclidean: ', softmax(fscore(a0, a1, 'euc')))\n",
    "    print('score entr: ', fscore(a0, a1, 'ent'))\n",
    "    print('align entr: ', softmax(fscore(a0, a1, 'ent')))"
   ]
  },
  {
   "cell_type": "code",
   "execution_count": 49,
   "metadata": {},
   "outputs": [
    {
     "data": {
      "image/png": "[encoded data removed]",
      "text/plain": [
       "<Figure size 432x288 with 1 Axes>"
      ]
     },
     "metadata": {},
     "output_type": "display_data"
    }
   ],
   "source": [
    "# test alignment functions\n",
    "import numpy as np\n",
    "import matplotlib.pyplot as plt\n",
    "\n",
    "def softmax(x):\n",
    "    \"\"\"Compute softmax values for each sets of scores in x.\"\"\"\n",
    "    e_x = np.exp(x - np.max(x))\n",
    "    return e_x / e_x.sum(axis=0)\n",
    "\n",
    "def fscore(x, y, mthd='dot', w=np.ones((1,1))):\n",
    "    '''compute alignment score for attention'''\n",
    "    if mthd == 'dot':\n",
    "        return x.dot(y.T)\n",
    "    elif mthd == 'wght':\n",
    "        return x.dot(w.dot(y.T))\n",
    "    elif mthd == 'tanh':\n",
    "        return np.tanh(x.dot(w.dot(y.T)))\n",
    "    elif mthd == 'euc':\n",
    "        return 1 - np.linalg.norm(x-y)\n",
    "    elif mthd == 'ent':\n",
    "        return x.dot(np.log(1+y))\n",
    "    else:\n",
    "        return np.zeros_like(x)\n",
    "\n",
    "if __name__ == \"__main__\":\n",
    "    plt.style.use('seaborn-whitegrid')\n",
    "    a0 = np.array([1, 0])\n",
    "    x = np.linspace(0, 1, 10)\n",
    "    y0 = []\n",
    "    y1 = []\n",
    "    y2 = []\n",
    "    y3 = []\n",
    "    y4 = []\n",
    "    #w0 = np.random.random((2,2))\n",
    "    w0 = np.array([[1, -1], [-1, 1]])\n",
    "    for xv in x:\n",
    "        a1 = np.array([xv, 1. - xv])\n",
    "        y0.append(fscore(a0, a1, 'dot'))\n",
    "        y1.append(fscore(a0, a1,'wght', w0))\n",
    "        y2.append(fscore(a0, a1,'tanh', w0))\n",
    "        y3.append(fscore(a0, a1,'euc', w0))\n",
    "        y4.append(fscore(a0, a1,'ent', w0))\n",
    "    plt.scatter(x, y0, marker='o')\n",
    "    plt.scatter(x, y1, marker='x')\n",
    "    plt.scatter(x, y2, marker='+')\n",
    "    plt.scatter(x, y3, marker='s')\n",
    "    plt.scatter(x, y4, marker='*')\n",
    "    plt.show()\n",
    "    #print(y0)"
   ]
  },
  {
   "cell_type": "code",
   "execution_count": null,
   "metadata": {},
   "outputs": [],
   "source": []
  }
 ],
 "metadata": {
  "kernelspec": {
   "display_name": "Python 3",
   "language": "python",
   "name": "python3"
  },
  "language_info": {
   "codemirror_mode": {
    "name": "ipython",
    "version": 3
   },
   "file_extension": ".py",
   "mimetype": "text/x-python",
   "name": "python",
   "nbconvert_exporter": "python",
   "pygments_lexer": "ipython3",
   "version": "3.6.8"
  }
 },
 "nbformat": 4,
 "nbformat_minor": 2
}
