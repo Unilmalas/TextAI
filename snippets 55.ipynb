{
 "cells": [
  {
   "cell_type": "code",
   "execution_count": 9,
   "id": "1c484cea",
   "metadata": {},
   "outputs": [
    {
     "data": {
      "text/plain": [
       "[20, 29, 5, 11, 36, 216, 14, 3, 1, 1]"
      ]
     },
     "execution_count": 9,
     "metadata": {},
     "output_type": "execute_result"
    }
   ],
   "source": [
    "# Juggler sequence\n",
    "# a[k + 1]  =  floor(a[k] ^ 0.5)    if a[k] is even    or       \n",
    "# a[k + 1]  =  floor(a[k] ^ 1.5)    if a[k] is odd\n",
    "import math\n",
    "        \n",
    "def juggler(n):\n",
    "    '''Juggler sequence'''\n",
    "    a = [20, 29]\n",
    "    for k in range(2, n):\n",
    "        if a[k-2] % 2 == 0:\n",
    "            a.append(math.floor(a[k-1]**0.5))\n",
    "        else:\n",
    "            a.append(math.floor(a[k-1]**1.5))\n",
    "    return a\n",
    "\n",
    "juggler(10)"
   ]
  },
  {
   "cell_type": "code",
   "execution_count": 1,
   "id": "269f9bf1",
   "metadata": {},
   "outputs": [
    {
     "name": "stdout",
     "output_type": "stream",
     "text": [
      "  0.00: 100.00\n",
      " 10.00:  44.00\n",
      " 20.00:  27.20\n",
      " 30.00:  22.16\n",
      " 40.00:  20.65\n",
      " 50.00:  20.19\n",
      " 60.00:  20.06\n",
      " 70.00:  20.02\n",
      " 80.00:  20.01\n",
      " 90.00:  20.00\n",
      "100.00:  20.00\n"
     ]
    },
    {
     "data": {
      "text/plain": [
       "20.0001417176"
      ]
     },
     "execution_count": 1,
     "metadata": {},
     "output_type": "execute_result"
    }
   ],
   "source": [
    "# Euler\n",
    "\n",
    "def euler(f, y0, a, b, h=0.01):\n",
    "    tn = a\n",
    "    yn = y0\n",
    "    while tn <= b:\n",
    "        print(f\"{tn:6.2f}: {yn:6.2f}\")\n",
    "        tn += h\n",
    "        yn += h * f(tn, yn)\n",
    "    return yn\n",
    "\n",
    "def newtoncooling(time, temp):\n",
    "    return -0.07 * (temp - 20)\n",
    "\n",
    "euler(newtoncooling, 100, 0, 100, 10)"
   ]
  },
  {
   "cell_type": "code",
   "execution_count": 7,
   "id": "05df8273",
   "metadata": {},
   "outputs": [
    {
     "name": "stdout",
     "output_type": "stream",
     "text": [
      "[2, 6, 24, 720, 5040, 479001600, 87178291200]\n"
     ]
    }
   ],
   "source": [
    "# factorial primes\n",
    "\n",
    "def isprime(m):\n",
    "    for i in range(2,int(m**0.5)+1):\n",
    "        if m%i==0:\n",
    "            return False\n",
    "    return True\n",
    "\n",
    "def fact_primes(n):\n",
    "    k = 1\n",
    "    f = 1\n",
    "    i = 1\n",
    "    res = []\n",
    "    while k<n:\n",
    "        i += 1\n",
    "        f *= i\n",
    "        if isprime(f-1) or isprime(f-1):\n",
    "            res.append(f)\n",
    "            k += 1\n",
    "    return res\n",
    "\n",
    "print(fact_primes(8))"
   ]
  },
  {
   "cell_type": "code",
   "execution_count": 2,
   "id": "d8687d81",
   "metadata": {},
   "outputs": [
    {
     "name": "stdout",
     "output_type": "stream",
     "text": [
      " n          M[n]             Prime?\n",
      "-----------------------------------\n",
      "  0                       1 True\n",
      "  1                       1 True\n",
      "  2                       2 True\n",
      "  3                       4 False\n",
      "  4                       9 False\n",
      "  5                      21 False\n",
      "  6                      51 False\n",
      "  7                     127 True\n",
      "  8                     323 False\n",
      "  9                     835 False\n",
      " 10                   2,188 False\n",
      " 11                   5,798 False\n",
      " 12                  15,511 True\n",
      " 13                  41,835 False\n",
      " 14                 113,634 False\n",
      " 15                 310,572 False\n",
      " 16                 853,467 False\n",
      " 17               2,356,779 False\n",
      " 18               6,536,382 False\n",
      " 19              18,199,284 False\n",
      " 20              50,852,019 False\n",
      " 21             142,547,559 False\n",
      " 22             400,763,223 False\n",
      " 23           1,129,760,415 False\n",
      " 24           3,192,727,797 False\n",
      " 25           9,043,402,501 False\n",
      " 26          25,669,818,476 False\n",
      " 27          73,007,772,802 False\n",
      " 28         208,023,278,209 False\n",
      " 29         593,742,784,829 False\n",
      " 30       1,697,385,471,211 False\n",
      " 31       4,859,761,676,391 False\n",
      " 32      13,933,569,346,707 False\n",
      " 33      40,002,464,776,083 False\n",
      " 34     114,988,706,524,270 False\n",
      " 35     330,931,069,469,828 False\n",
      " 36     953,467,954,114,363 True\n",
      " 37   2,750,016,719,520,991 False\n",
      " 38   7,939,655,757,745,265 False\n",
      " 39  22,944,749,046,030,949 False\n",
      " 40  66,368,199,913,921,497 False\n",
      " 41 192,137,918,101,841,817 False\n"
     ]
    }
   ],
   "source": [
    "def isprime(m):\n",
    "    for i in range(2,int(m**0.5)+1):\n",
    "        if m%i==0:\n",
    "            return False\n",
    "    return True\n",
    "\n",
    "\n",
    "def motzkin(num_wanted):\n",
    "    \"\"\" Return list of the first N Motzkin numbers \"\"\"\n",
    "    mot = [1] * (num_wanted + 1)\n",
    "    for i in range(2, num_wanted + 1):\n",
    "        mot[i] = (mot[i-1]*(2*i+1) + mot[i-2]*(3*i-3)) // (i + 2)\n",
    "    return mot\n",
    "\n",
    "\n",
    "def print_motzkin_table(N=41):\n",
    "    \"\"\" Print table of first N Motzkin numbers, and note if prime \"\"\"\n",
    "    print(\n",
    "        \" n          M[n]             Prime?\\n-----------------------------------\")\n",
    "    for i, e in enumerate(motzkin(N)):\n",
    "        print(f'{i : 3}{e : 24,}', isprime(e))\n",
    "\n",
    "\n",
    "print_motzkin_table()"
   ]
  },
  {
   "cell_type": "code",
   "execution_count": 4,
   "id": "18e31d97",
   "metadata": {},
   "outputs": [
    {
     "data": {
      "text/plain": [
       "[0, 1, 1, 2, 1, 3, 2, 3, 1, 4, 3, 5, 2, 5, 3, 4, 1, 5, 4, 7, 3, 8, 5, 7, 2]"
      ]
     },
     "execution_count": 4,
     "metadata": {},
     "output_type": "execute_result"
    }
   ],
   "source": [
    "# fusc sequence\n",
    "\n",
    "def fusc(n):\n",
    "    if n == 0:\n",
    "        return 0\n",
    "    if n == 1:\n",
    "        return 1\n",
    "    if n%2 == 0:\n",
    "        return fusc(int(n/2))\n",
    "    return fusc(int((n-1)/2)) + fusc(int((n+1)/2))\n",
    "\n",
    "[fusc(n) for n in range(25)]"
   ]
  },
  {
   "cell_type": "code",
   "execution_count": 1,
   "id": "17cf4b8f",
   "metadata": {},
   "outputs": [
    {
     "name": "stdout",
     "output_type": "stream",
     "text": [
      "\n",
      " 0 | 7 7\n",
      " 1 | 2 3 8 8\n",
      " 2 | 3 5 7 7 7 7 7 7 8 8 9 9\n",
      " 3 | 0 1 1 1 1 2 3 4 5 6 7 7 7 8 9\n",
      " 4 | 0 0 1 2 2 2 2 3 3 3 4 4 4 5 6 7 8 8\n",
      " 5 | 2 3 7 8 8\n",
      " 6 | 1 3 8\n",
      " 7 | 1\n",
      " 8 |\n",
      " 9 | 6 9\n",
      "10 | 4 5 5 5 5 6 7 9 9 9\n",
      "11 | 1 3 3 3 3 4 4 4 5 5 5 6 6 6 6 7 7 7 7 8 8 9 9\n",
      "12 | 0 0 1 1 2 2 3 4 4 4 5 5 5 6 7 7 7 7 8 8\n",
      "13 | 1 2 3 9\n",
      "14 | 1 6\n",
      "\n",
      "Key:\n",
      " Stem multiplier: 10\n",
      " X | Y  =>  10*X+Y\n",
      "\n"
     ]
    }
   ],
   "source": [
    "from collections import namedtuple\n",
    "from pprint import pprint as pp\n",
    "from math import floor\n",
    "\n",
    "Stem = namedtuple('Stem', 'data, leafdigits')\n",
    "\n",
    "data0 = Stem((12, 127, 28, 42, 39, 113, 42, 18, 44, 118, 44, 37, 113, 124, 37,\n",
    "              48, 127, 36, 29, 31, 125, 139, 131, 115, 105, 132, 104, 123, 35,\n",
    "              113, 122, 42, 117, 119, 58, 109, 23, 105, 63, 27, 44, 105, 99,\n",
    "              41, 128, 121, 116, 125, 32, 61, 37, 127, 29, 113, 121, 58, 114,\n",
    "              126, 53, 114, 96, 25, 109, 7, 31, 141, 46, 13, 27, 43, 117, 116,\n",
    "              27, 7, 68, 40, 31, 115, 124, 42, 128, 52, 71, 118, 117, 38, 27,\n",
    "              106, 33, 117, 116, 111, 40, 119, 47, 105, 57, 122, 109, 124, 115,\n",
    "              43, 120, 43, 27, 27, 18, 28, 48, 125, 107, 114, 34, 133, 45, 120,\n",
    "              30, 127, 31, 116, 146),\n",
    "             1.0)\n",
    "\n",
    "def stemplot(stem):\n",
    "    d = []\n",
    "    interval = int(10**int(stem.leafdigits))\n",
    "    for data in sorted(stem.data):\n",
    "        data = int(floor(data))\n",
    "        stm, lf = divmod(data,interval)\n",
    "        d.append( (int(stm), int(lf)) )\n",
    "    stems, leafs = list(zip(*d))\n",
    "    stemwidth = max(len(str(x)) for x in stems)\n",
    "    leafwidth = max(len(str(x)) for x in leafs)\n",
    "    laststem, out = min(stems) - 1, []\n",
    "    for s,l in d:\n",
    "        while laststem < s:\n",
    "            laststem += 1\n",
    "            out.append('\\n%*i |' % ( stemwidth, laststem))\n",
    "        out.append(' %0*i' % (leafwidth, l))\n",
    "    out.append('\\n\\nKey:\\n Stem multiplier: %i\\n X | Y  =>  %i*X+Y\\n'\n",
    "               % (interval, interval))\n",
    "    return ''.join(out)\n",
    "\n",
    "if __name__ == '__main__':\n",
    "    print( stemplot(data0) )"
   ]
  },
  {
   "cell_type": "code",
   "execution_count": 23,
   "id": "3015c16c",
   "metadata": {},
   "outputs": [
    {
     "name": "stdout",
     "output_type": "stream",
     "text": [
      "positions: [0.4997355113696723, 0.9982172075250019, 1.5023699187587392, 1.9978240139282306]\n",
      "scores: [0.9997942018346196, 0.5830684712495051, 0.208096910353518, 0.056203246725431574]\n",
      "score 0: [0, 49865, 83334, 95707]\n"
     ]
    }
   ],
   "source": [
    "'''These contests consist of rounds in which each robot has a single attempt to score.\n",
    "In an attempt, a robot speeds down the running track (modeled as the numberline) from 0,\n",
    "the starting line, to 1, the takeoff point. A robot moves along this track by drawing a real\n",
    "number uniformly from [0,1] and adding it to the robot’s current position. After each of these\n",
    "advances, the robot must decide whether to jump or wait. If a robot crosses the takeoff point (at 1)\n",
    "before jumping its attempt receives a score of 0. If the robot jumps before crossing 1, it draws one\n",
    "final real number from [0,1] and adds it to its current position, and this final sum is the score of the attempt.\n",
    "\n",
    "In a head-to-head contest, the two robots each have a single attempt without knowing the other’s result.\n",
    "In the case that they tie (typically because they both scored 0), that round is discarded and a new round begins.\n",
    "As soon as one robot scores higher than the other on the same round, that robot is declared the winner!\n",
    "\n",
    "Assume both robots are programmed to optimize their probability of winning and are aware of each other’s strategies.\n",
    "You are just sitting down to watch a match’s very first attempt (of the first round, which may or may not end up\n",
    "being discarded). What is the probability that this attempt scores 0? Give this probability as a decimal\n",
    "rounded to 9 digits past the decimal point.'''\n",
    "import random\n",
    "\n",
    "def new_robot_pos():\n",
    "    return random.uniform(0, 1)\n",
    "\n",
    "def robot_jumps(n):\n",
    "    position = 0\n",
    "    for i in range(n):\n",
    "        position += new_robot_pos()\n",
    "    return position\n",
    "\n",
    "def robot_statistics(n, ntrials=100000):\n",
    "    result = [0 for i in range(n)]\n",
    "    scores = [0 for i in range(n)]\n",
    "    score0 = [0 for i in range(n)]\n",
    "    for t in range(ntrials):\n",
    "        for idx, pos_val in enumerate([robot_jumps(i+1) for i in range(n)]):\n",
    "            result[idx] += pos_val\n",
    "            if pos_val > 1:\n",
    "                scores[idx] += 0\n",
    "                score0[idx] += 1\n",
    "            else:\n",
    "                scores[idx] += pos_val + new_robot_pos()  # one more jump value added to score\n",
    "    return [result[i]/ntrials for i in range(n)], [scores[i]/ntrials for i in range(n)], score0\n",
    "\n",
    "rs = robot_statistics(4)\n",
    "print(f\"positions: {rs[0]}\")\n",
    "print(f\"scores: {rs[1]}\")\n",
    "print(f\"score 0: {rs[2]}\")"
   ]
  },
  {
   "cell_type": "code",
   "execution_count": null,
   "id": "916da418",
   "metadata": {},
   "outputs": [],
   "source": []
  }
 ],
 "metadata": {
  "kernelspec": {
   "display_name": "tfgpu",
   "language": "python",
   "name": "tfgpu"
  },
  "language_info": {
   "codemirror_mode": {
    "name": "ipython",
    "version": 3
   },
   "file_extension": ".py",
   "mimetype": "text/x-python",
   "name": "python",
   "nbconvert_exporter": "python",
   "pygments_lexer": "ipython3",
   "version": "3.10.8"
  }
 },
 "nbformat": 4,
 "nbformat_minor": 5
}
