{
 "cells": [
  {
   "cell_type": "code",
   "execution_count": 9,
   "id": "1c484cea",
   "metadata": {},
   "outputs": [
    {
     "data": {
      "text/plain": [
       "[20, 29, 5, 11, 36, 216, 14, 3, 1, 1]"
      ]
     },
     "execution_count": 9,
     "metadata": {},
     "output_type": "execute_result"
    }
   ],
   "source": [
    "# Juggler sequence\n",
    "# a[k + 1]  =  floor(a[k] ^ 0.5)    if a[k] is even    or       \n",
    "# a[k + 1]  =  floor(a[k] ^ 1.5)    if a[k] is odd\n",
    "import math\n",
    "        \n",
    "def juggler(n):\n",
    "    '''Juggler sequence'''\n",
    "    a = [20, 29]\n",
    "    for k in range(2, n):\n",
    "        if a[k-2] % 2 == 0:\n",
    "            a.append(math.floor(a[k-1]**0.5))\n",
    "        else:\n",
    "            a.append(math.floor(a[k-1]**1.5))\n",
    "    return a\n",
    "\n",
    "juggler(10)"
   ]
  },
  {
   "cell_type": "code",
   "execution_count": 1,
   "id": "269f9bf1",
   "metadata": {},
   "outputs": [
    {
     "name": "stdout",
     "output_type": "stream",
     "text": [
      "  0.00: 100.00\n",
      " 10.00:  44.00\n",
      " 20.00:  27.20\n",
      " 30.00:  22.16\n",
      " 40.00:  20.65\n",
      " 50.00:  20.19\n",
      " 60.00:  20.06\n",
      " 70.00:  20.02\n",
      " 80.00:  20.01\n",
      " 90.00:  20.00\n",
      "100.00:  20.00\n"
     ]
    },
    {
     "data": {
      "text/plain": [
       "20.0001417176"
      ]
     },
     "execution_count": 1,
     "metadata": {},
     "output_type": "execute_result"
    }
   ],
   "source": [
    "# Euler\n",
    "\n",
    "def euler(f, y0, a, b, h=0.01):\n",
    "    tn = a\n",
    "    yn = y0\n",
    "    while tn <= b:\n",
    "        print(f\"{tn:6.2f}: {yn:6.2f}\")\n",
    "        tn += h\n",
    "        yn += h * f(tn, yn)\n",
    "    return yn\n",
    "\n",
    "def newtoncooling(time, temp):\n",
    "    return -0.07 * (temp - 20)\n",
    "\n",
    "euler(newtoncooling, 100, 0, 100, 10)"
   ]
  },
  {
   "cell_type": "code",
   "execution_count": 7,
   "id": "05df8273",
   "metadata": {},
   "outputs": [
    {
     "name": "stdout",
     "output_type": "stream",
     "text": [
      "[2, 6, 24, 720, 5040, 479001600, 87178291200]\n"
     ]
    }
   ],
   "source": [
    "# factorial primes\n",
    "\n",
    "def isprime(m):\n",
    "    for i in range(2,int(m**0.5)+1):\n",
    "        if m%i==0:\n",
    "            return False\n",
    "    return True\n",
    "\n",
    "def fact_primes(n):\n",
    "    k = 1\n",
    "    f = 1\n",
    "    i = 1\n",
    "    res = []\n",
    "    while k<n:\n",
    "        i += 1\n",
    "        f *= i\n",
    "        if isprime(f-1) or isprime(f-1):\n",
    "            res.append(f)\n",
    "            k += 1\n",
    "    return res\n",
    "\n",
    "print(fact_primes(8))"
   ]
  },
  {
   "cell_type": "code",
   "execution_count": 2,
   "id": "d8687d81",
   "metadata": {},
   "outputs": [
    {
     "name": "stdout",
     "output_type": "stream",
     "text": [
      " n          M[n]             Prime?\n",
      "-----------------------------------\n",
      "  0                       1 True\n",
      "  1                       1 True\n",
      "  2                       2 True\n",
      "  3                       4 False\n",
      "  4                       9 False\n",
      "  5                      21 False\n",
      "  6                      51 False\n",
      "  7                     127 True\n",
      "  8                     323 False\n",
      "  9                     835 False\n",
      " 10                   2,188 False\n",
      " 11                   5,798 False\n",
      " 12                  15,511 True\n",
      " 13                  41,835 False\n",
      " 14                 113,634 False\n",
      " 15                 310,572 False\n",
      " 16                 853,467 False\n",
      " 17               2,356,779 False\n",
      " 18               6,536,382 False\n",
      " 19              18,199,284 False\n",
      " 20              50,852,019 False\n",
      " 21             142,547,559 False\n",
      " 22             400,763,223 False\n",
      " 23           1,129,760,415 False\n",
      " 24           3,192,727,797 False\n",
      " 25           9,043,402,501 False\n",
      " 26          25,669,818,476 False\n",
      " 27          73,007,772,802 False\n",
      " 28         208,023,278,209 False\n",
      " 29         593,742,784,829 False\n",
      " 30       1,697,385,471,211 False\n",
      " 31       4,859,761,676,391 False\n",
      " 32      13,933,569,346,707 False\n",
      " 33      40,002,464,776,083 False\n",
      " 34     114,988,706,524,270 False\n",
      " 35     330,931,069,469,828 False\n",
      " 36     953,467,954,114,363 True\n",
      " 37   2,750,016,719,520,991 False\n",
      " 38   7,939,655,757,745,265 False\n",
      " 39  22,944,749,046,030,949 False\n",
      " 40  66,368,199,913,921,497 False\n",
      " 41 192,137,918,101,841,817 False\n"
     ]
    }
   ],
   "source": [
    "def isprime(m):\n",
    "    for i in range(2,int(m**0.5)+1):\n",
    "        if m%i==0:\n",
    "            return False\n",
    "    return True\n",
    "\n",
    "\n",
    "def motzkin(num_wanted):\n",
    "    \"\"\" Return list of the first N Motzkin numbers \"\"\"\n",
    "    mot = [1] * (num_wanted + 1)\n",
    "    for i in range(2, num_wanted + 1):\n",
    "        mot[i] = (mot[i-1]*(2*i+1) + mot[i-2]*(3*i-3)) // (i + 2)\n",
    "    return mot\n",
    "\n",
    "\n",
    "def print_motzkin_table(N=41):\n",
    "    \"\"\" Print table of first N Motzkin numbers, and note if prime \"\"\"\n",
    "    print(\n",
    "        \" n          M[n]             Prime?\\n-----------------------------------\")\n",
    "    for i, e in enumerate(motzkin(N)):\n",
    "        print(f'{i : 3}{e : 24,}', isprime(e))\n",
    "\n",
    "\n",
    "print_motzkin_table()"
   ]
  },
  {
   "cell_type": "code",
   "execution_count": 4,
   "id": "18e31d97",
   "metadata": {},
   "outputs": [
    {
     "data": {
      "text/plain": [
       "[0, 1, 1, 2, 1, 3, 2, 3, 1, 4, 3, 5, 2, 5, 3, 4, 1, 5, 4, 7, 3, 8, 5, 7, 2]"
      ]
     },
     "execution_count": 4,
     "metadata": {},
     "output_type": "execute_result"
    }
   ],
   "source": [
    "# fusc sequence\n",
    "\n",
    "def fusc(n):\n",
    "    if n == 0:\n",
    "        return 0\n",
    "    if n == 1:\n",
    "        return 1\n",
    "    if n%2 == 0:\n",
    "        return fusc(int(n/2))\n",
    "    return fusc(int((n-1)/2)) + fusc(int((n+1)/2))\n",
    "\n",
    "[fusc(n) for n in range(25)]"
   ]
  },
  {
   "cell_type": "code",
   "execution_count": 1,
   "id": "17cf4b8f",
   "metadata": {},
   "outputs": [
    {
     "name": "stdout",
     "output_type": "stream",
     "text": [
      "\n",
      " 0 | 7 7\n",
      " 1 | 2 3 8 8\n",
      " 2 | 3 5 7 7 7 7 7 7 8 8 9 9\n",
      " 3 | 0 1 1 1 1 2 3 4 5 6 7 7 7 8 9\n",
      " 4 | 0 0 1 2 2 2 2 3 3 3 4 4 4 5 6 7 8 8\n",
      " 5 | 2 3 7 8 8\n",
      " 6 | 1 3 8\n",
      " 7 | 1\n",
      " 8 |\n",
      " 9 | 6 9\n",
      "10 | 4 5 5 5 5 6 7 9 9 9\n",
      "11 | 1 3 3 3 3 4 4 4 5 5 5 6 6 6 6 7 7 7 7 8 8 9 9\n",
      "12 | 0 0 1 1 2 2 3 4 4 4 5 5 5 6 7 7 7 7 8 8\n",
      "13 | 1 2 3 9\n",
      "14 | 1 6\n",
      "\n",
      "Key:\n",
      " Stem multiplier: 10\n",
      " X | Y  =>  10*X+Y\n",
      "\n"
     ]
    }
   ],
   "source": [
    "from collections import namedtuple\n",
    "from pprint import pprint as pp\n",
    "from math import floor\n",
    "\n",
    "Stem = namedtuple('Stem', 'data, leafdigits')\n",
    "\n",
    "data0 = Stem((12, 127, 28, 42, 39, 113, 42, 18, 44, 118, 44, 37, 113, 124, 37,\n",
    "              48, 127, 36, 29, 31, 125, 139, 131, 115, 105, 132, 104, 123, 35,\n",
    "              113, 122, 42, 117, 119, 58, 109, 23, 105, 63, 27, 44, 105, 99,\n",
    "              41, 128, 121, 116, 125, 32, 61, 37, 127, 29, 113, 121, 58, 114,\n",
    "              126, 53, 114, 96, 25, 109, 7, 31, 141, 46, 13, 27, 43, 117, 116,\n",
    "              27, 7, 68, 40, 31, 115, 124, 42, 128, 52, 71, 118, 117, 38, 27,\n",
    "              106, 33, 117, 116, 111, 40, 119, 47, 105, 57, 122, 109, 124, 115,\n",
    "              43, 120, 43, 27, 27, 18, 28, 48, 125, 107, 114, 34, 133, 45, 120,\n",
    "              30, 127, 31, 116, 146),\n",
    "             1.0)\n",
    "\n",
    "def stemplot(stem):\n",
    "    d = []\n",
    "    interval = int(10**int(stem.leafdigits))\n",
    "    for data in sorted(stem.data):\n",
    "        data = int(floor(data))\n",
    "        stm, lf = divmod(data,interval)\n",
    "        d.append( (int(stm), int(lf)) )\n",
    "    stems, leafs = list(zip(*d))\n",
    "    stemwidth = max(len(str(x)) for x in stems)\n",
    "    leafwidth = max(len(str(x)) for x in leafs)\n",
    "    laststem, out = min(stems) - 1, []\n",
    "    for s,l in d:\n",
    "        while laststem < s:\n",
    "            laststem += 1\n",
    "            out.append('\\n%*i |' % ( stemwidth, laststem))\n",
    "        out.append(' %0*i' % (leafwidth, l))\n",
    "    out.append('\\n\\nKey:\\n Stem multiplier: %i\\n X | Y  =>  %i*X+Y\\n'\n",
    "               % (interval, interval))\n",
    "    return ''.join(out)\n",
    "\n",
    "if __name__ == '__main__':\n",
    "    print( stemplot(data0) )"
   ]
  },
  {
   "cell_type": "code",
   "execution_count": null,
   "id": "3ae848af",
   "metadata": {},
   "outputs": [],
   "source": []
  },
  {
   "cell_type": "code",
   "execution_count": 23,
   "id": "3015c16c",
   "metadata": {},
   "outputs": [
    {
     "name": "stdout",
     "output_type": "stream",
     "text": [
      "positions: [0.4997355113696723, 0.9982172075250019, 1.5023699187587392, 1.9978240139282306]\n",
      "scores: [0.9997942018346196, 0.5830684712495051, 0.208096910353518, 0.056203246725431574]\n",
      "score 0: [0, 49865, 83334, 95707]\n"
     ]
    }
   ],
   "source": [
    "'''These contests consist of rounds in which each robot has a single attempt to score.\n",
    "In an attempt, a robot speeds down the running track (modeled as the numberline) from 0,\n",
    "the starting line, to 1, the takeoff point. A robot moves along this track by drawing a real\n",
    "number uniformly from [0,1] and adding it to the robot’s current position. After each of these\n",
    "advances, the robot must decide whether to jump or wait. If a robot crosses the takeoff point (at 1)\n",
    "before jumping its attempt receives a score of 0. If the robot jumps before crossing 1, it draws one\n",
    "final real number from [0,1] and adds it to its current position, and this final sum is the score of the attempt.\n",
    "\n",
    "In a head-to-head contest, the two robots each have a single attempt without knowing the other’s result.\n",
    "In the case that they tie (typically because they both scored 0), that round is discarded and a new round begins.\n",
    "As soon as one robot scores higher than the other on the same round, that robot is declared the winner!\n",
    "\n",
    "Assume both robots are programmed to optimize their probability of winning and are aware of each other’s strategies.\n",
    "You are just sitting down to watch a match’s very first attempt (of the first round, which may or may not end up\n",
    "being discarded). What is the probability that this attempt scores 0? Give this probability as a decimal\n",
    "rounded to 9 digits past the decimal point.'''\n",
    "import random\n",
    "\n",
    "def new_robot_pos():\n",
    "    return random.uniform(0, 1)\n",
    "\n",
    "def robot_jumps(n):\n",
    "    position = 0\n",
    "    for i in range(n):\n",
    "        position += new_robot_pos()\n",
    "    return position\n",
    "\n",
    "def robot_statistics(n, ntrials=100000):\n",
    "    result = [0 for i in range(n)]\n",
    "    scores = [0 for i in range(n)]\n",
    "    score0 = [0 for i in range(n)]\n",
    "    for t in range(ntrials):\n",
    "        for idx, pos_val in enumerate([robot_jumps(i+1) for i in range(n)]):\n",
    "            result[idx] += pos_val\n",
    "            if pos_val > 1:\n",
    "                scores[idx] += 0\n",
    "                score0[idx] += 1\n",
    "            else:\n",
    "                scores[idx] += pos_val + new_robot_pos()  # one more jump value added to score\n",
    "    return [result[i]/ntrials for i in range(n)], [scores[i]/ntrials for i in range(n)], score0\n",
    "\n",
    "rs = robot_statistics(4)\n",
    "print(f\"positions: {rs[0]}\")\n",
    "print(f\"scores: {rs[1]}\")\n",
    "print(f\"score 0: {rs[2]}\")"
   ]
  },
  {
   "cell_type": "code",
   "execution_count": 2,
   "id": "65c06a6f",
   "metadata": {},
   "outputs": [],
   "source": [
    "\"\"\"\n",
    "brownian() implements one dimensional Brownian motion (i.e. the Wiener process).\n",
    "\"\"\"\n",
    "\n",
    "# File: brownian.py\n",
    "\n",
    "from math import sqrt\n",
    "from scipy.stats import norm\n",
    "import numpy as np\n",
    "\n",
    "\n",
    "def brownian(x0, n, dt, delta, drift=np.array([[0], [0]]), out=None):\n",
    "    \"\"\"\n",
    "    Generate an instance of Brownian motion (i.e. the Wiener process) with drift D:\n",
    "\n",
    "        X(t) = X(0) + N(0, delta**2 * t; 0, t) + D\n",
    "\n",
    "    where N(a,b; t0, t1) is a normally distributed random variable with mean a and\n",
    "    variance b.  The parameters t0 and t1 make explicit the statistical\n",
    "    independence of N on different time intervals; that is, if [t0, t1) and\n",
    "    [t2, t3) are disjoint intervals, then N(a, b; t0, t1) and N(a, b; t2, t3)\n",
    "    are independent. D is the constant drift.\n",
    "    \n",
    "    Written as an iteration scheme,\n",
    "\n",
    "        X(t + dt) = X(t) + N(0, delta**2 * dt; t, t+dt) + D\n",
    "\n",
    "    If `x0` is an array (or array-like), each value in `x0` is treated as\n",
    "    an initial condition, and the value returned is a numpy array with one\n",
    "    more dimension than `x0`.\n",
    "\n",
    "    Arguments\n",
    "    ---------\n",
    "    x0 : float or numpy array (or something that can be converted to a numpy array\n",
    "         using numpy.asarray(x0)).\n",
    "        The initial condition(s) (i.e. position(s)) of the Brownian motion.\n",
    "    n : int\n",
    "        The number of steps to take.\n",
    "    dt : float\n",
    "        The time step.\n",
    "    delta : float\n",
    "        delta determines the \"speed\" of the Brownian motion.  The random variable\n",
    "        of the position at time t, X(t), has a normal distribution whose mean is\n",
    "        the position at time t=0 and whose variance is delta**2*t.\n",
    "    drift : float or numpy array\n",
    "        the directional drift (this will not be normalized so ensure approriate values)\n",
    "    out : numpy array or None\n",
    "        If `out` is not None, it specifies the array in which to put the\n",
    "        result.  If `out` is None, a new numpy array is created and returned.\n",
    "\n",
    "    Returns\n",
    "    -------\n",
    "    A numpy array of floats with shape `x0.shape + (n,)`.\n",
    "    \n",
    "    Note that the initial value `x0` is not included in the returned array.\n",
    "    \"\"\"\n",
    "\n",
    "    x0 = np.asarray(x0)\n",
    "\n",
    "    # For each element of x0, generate a sample of n numbers from a\n",
    "    # normal distribution.\n",
    "    r = norm.rvs(size=x0.shape + (n,), scale=delta*sqrt(dt))\n",
    "    \n",
    "    # consider drift\n",
    "    r += drift\n",
    "\n",
    "    # If `out` was not given, create an output array.\n",
    "    if out is None:\n",
    "        out = np.empty(r.shape)\n",
    "\n",
    "    # This computes the Brownian motion by forming the cumulative sum of\n",
    "    # the random samples. \n",
    "    np.cumsum(r, axis=-1, out=out)\n",
    "\n",
    "    # Add the initial condition.\n",
    "    out += np.expand_dims(x0, axis=-1)\n",
    "\n",
    "    return out"
   ]
  },
  {
   "cell_type": "code",
   "execution_count": 33,
   "id": "916da418",
   "metadata": {},
   "outputs": [
    {
     "data": {
      "image/png": "[encoded data removed]",
      "text/plain": [
       "<Figure size 640x480 with 1 Axes>"
      ]
     },
     "metadata": {},
     "output_type": "display_data"
    }
   ],
   "source": [
    "import numpy\n",
    "from pylab import plot, show, grid, axis, xlabel, ylabel, title\n",
    "\n",
    "# The Wiener process parameter\n",
    "delta = 0.25\n",
    "# Total time\n",
    "T = 10.0\n",
    "# Number of steps\n",
    "N = 100\n",
    "# Time step size\n",
    "dt = T/N\n",
    "# Initial values of x\n",
    "x = numpy.empty((2,N+1))\n",
    "x[:, 0] = 0.0  # set starting point to 0, 0\n",
    "\n",
    "brownian(x[:,0], N, dt, delta, np.array([[-0.02], [0]]), out=x[:,1:])\n",
    "\n",
    "# Plot the 2D trajectory\n",
    "plot(x[0],x[1])\n",
    "\n",
    "# Mark the start and end points\n",
    "plot(x[0,0],x[1,0], 'go')\n",
    "plot(x[0,-1], x[1,-1], 'ro')\n",
    "\n",
    "# More plot decorations\n",
    "title('2D Brownian Motion')\n",
    "xlabel('x', fontsize=16)\n",
    "ylabel('y', fontsize=16)\n",
    "axis('equal')\n",
    "grid(True)\n",
    "show()"
   ]
  },
  {
   "cell_type": "code",
   "execution_count": 63,
   "id": "fbef899d",
   "metadata": {},
   "outputs": [
    {
     "data": {
      "image/png": "[encoded data removed]",
      "text/plain": [
       "<Figure size 640x480 with 1 Axes>"
      ]
     },
     "metadata": {},
     "output_type": "display_data"
    },
    {
     "name": "stdout",
     "output_type": "stream",
     "text": [
      "0.0\n"
     ]
    }
   ],
   "source": [
    "# simulate Galadriel and Sauron meeting at sea\n",
    "# precalc paths, Galadriel west with east-drift, Sauron east with minimal drift\n",
    "import numpy\n",
    "from pylab import plot, show, grid, axis, xlabel, ylabel, title\n",
    "\n",
    "def dist(x0, y0, x1, y1):\n",
    "    return np.sqrt((x0-x1)**2 + (y0-y1)**2)\n",
    "\n",
    "delta = 0.1 # 1 unit = 10 km, 2600 km E to W (Valinor-Numenor 800km, Numenor r=200km, Numenor-ME 1200km)\n",
    "T = 800.0  # 800 hours\n",
    "N = 800\n",
    "dt = T/N  # one hour\n",
    "score = 0  # score couter: G+S meet\n",
    "n_experiments = 120\n",
    "\n",
    "for k in range(n_experiments):\n",
    "    gal = numpy.empty((2, N+1))\n",
    "    gal[:, 0] = 0.0  # set starting point to 0, 0\n",
    "    sau = numpy.empty((2, N+1))\n",
    "    sau[:, 0] = (15.0, 0)  # set starting point to 20, 0 (assume wreck somewhere between ME and Numenor)\n",
    "\n",
    "    brownian(gal[:,0], N, dt, delta, np.array([[0.026], [0]]), out=gal[:,1:])  # Gal has a significant east-drift\n",
    "    brownian(sau[:,0], N, dt, delta, np.array([[-0.01], [0]]), out=sau[:,1:])  # Sau has a mild west-drift\n",
    "\n",
    "    for ig in range(N):\n",
    "        #print(gal[0, ig], gal[1, ig])\n",
    "        if gal[0, ig] < -0.5 or gal[0, ig] > 20:  # Gal at Valinor or ME\n",
    "            break\n",
    "        if sau[0, ig] < -0.5 or sau[0, ig] > 20:  # Sau at Valinor or ME\n",
    "            break\n",
    "        if dist(gal[0, ig], gal[1, ig], 6., 0.) < 2.:  # Gal at Numenor\n",
    "            break\n",
    "        if dist(sau[0, ig], sau[1, ig], 6., 0.) < 2.:  # Sau at Numenor\n",
    "            break\n",
    "        if dist(gal[0, ig], gal[1, ig], sau[0, ig], sau[1, ig]) < 0.1:  # meet?\n",
    "            score += 1\n",
    "            break    \n",
    "        plot(gal[0, :ig],gal[1, :ig])\n",
    "        plot(sau[0, :ig],sau[1, :ig])\n",
    "\n",
    "# More plot decorations\n",
    "title('Galadriel meets Sauron')\n",
    "xlabel('x', fontsize=16)\n",
    "ylabel('y', fontsize=16)\n",
    "axis('equal')\n",
    "grid(True)\n",
    "show()\n",
    "\n",
    "print(score/n_experiments)"
   ]
  },
  {
   "cell_type": "code",
   "execution_count": 64,
   "id": "865cb77b",
   "metadata": {},
   "outputs": [
    {
     "name": "stdout",
     "output_type": "stream",
     "text": [
      "0.002238\n"
     ]
    }
   ],
   "source": [
    "# simulate Galadriel and Sauron meeting at sea\n",
    "# precalc paths, Galadriel west with east-drift, Sauron east with minimal drift\n",
    "import numpy\n",
    "\n",
    "def dist(x0, y0, x1, y1):\n",
    "    return np.sqrt((x0-x1)**2 + (y0-y1)**2)\n",
    "\n",
    "delta = 0.1 # 1 unit = 10 km, 2600 km E to W (Valinor-Numenor 800km, Numenor r=200km, Numenor-ME 1200km)\n",
    "T = 800.0  # 800 hours = 40 days, 20 hours each\n",
    "N = 800\n",
    "dt = T/N  # one hour\n",
    "score = 0  # score couter: G+S meet\n",
    "n_experiments = 1000000\n",
    "\n",
    "for k in range(n_experiments):\n",
    "    gal = numpy.empty((2, N+1))\n",
    "    gal[:, 0] = 0.0  # set starting point to 0, 0\n",
    "    sau = numpy.empty((2, N+1))\n",
    "    sau[:, 0] = (15.0, 0)  # set starting point to 20, 0 (assume wreck somewhere between ME and Numenor)\n",
    "\n",
    "    brownian(gal[:,0], N, dt, delta, np.array([[0.026], [0]]), out=gal[:,1:])  # Gal has a significant east-drift\n",
    "    brownian(sau[:,0], N, dt, delta, np.array([[-0.01], [0]]), out=sau[:,1:])  # Sau has a mild west-drift\n",
    "\n",
    "    for ig in range(N):\n",
    "        #print(gal[0, ig], gal[1, ig])\n",
    "        if gal[0, ig] < -0.5 or gal[0, ig] > 20:  # Gal at Valinor or ME\n",
    "            break\n",
    "        if sau[0, ig] < -0.5 or sau[0, ig] > 20:  # Sau at Valinor or ME\n",
    "            break\n",
    "        if dist(gal[0, ig], gal[1, ig], 6., 0.) < 2.:  # Gal at Numenor\n",
    "            break\n",
    "        if dist(sau[0, ig], sau[1, ig], 6., 0.) < 2.:  # Sau at Numenor\n",
    "            break\n",
    "        if dist(gal[0, ig], gal[1, ig], sau[0, ig], sau[1, ig]) < 0.1:  # meet?\n",
    "            score += 1\n",
    "            break    \n",
    "\n",
    "print(score/n_experiments)"
   ]
  },
  {
   "cell_type": "code",
   "execution_count": 4,
   "id": "3f68ccb8",
   "metadata": {},
   "outputs": [
    {
     "name": "stdout",
     "output_type": "stream",
     "text": [
      "25264\n"
     ]
    }
   ],
   "source": [
    "# Babbage problem\n",
    "\n",
    "n = 10000\n",
    "while not n**2 % 1000000 == 269696:\n",
    "    n += 1\n",
    "    \n",
    "print(n)"
   ]
  },
  {
   "cell_type": "code",
   "execution_count": 1,
   "id": "da4d183a",
   "metadata": {},
   "outputs": [
    {
     "name": "stdout",
     "output_type": "stream",
     "text": [
      "1 30 8.0 7.5 31 31.0 60 60.0\n",
      "1 31 9.414213562373096 6.585786437626904 32 32.0 62 62.0\n",
      "1 32 10.265564437074637 6.234435562925363 33 33.0 64 64.0\n",
      "1 33 11.0 6.0 34 34.0 66 66.0\n",
      "1 34 11.676174977679906 5.823825022320094 35 35.0 68 68.0\n",
      "1 35 12.3166247903554 5.6833752096446 36 36.0 70 70.0\n",
      "1 36 12.932729965664059 5.567270034335941 37 37.0 72 72.0\n",
      "1 37 13.531128874149275 5.468871125850725 38 38.0 74 74.0\n",
      "1 38 14.116062299143245 5.383937700856755 39 39.0 76 76.0\n",
      "1 39 14.69041575982343 5.30958424017657 40 40.0 78 78.0\n",
      "1 40 15.256246098625198 5.243753901374803 41 41.0 80 80.0\n",
      "1 41 15.815072906367325 5.184927093632675 42 42.0 82 82.0\n",
      "1 42 16.368051263561057 5.131948736438942 43 43.0 84 84.0\n",
      "1 43 16.916079783099615 5.083920216900384 44 44.0 86 86.0\n",
      "1 44 17.45987117418711 5.040128825812889 45 45.0 88 88.0\n",
      "1 45 18.0 5.0 46 46.0 90 90.0\n",
      "1 46 18.536935980249112 4.963064019750886 47 47.0 92 92.0\n",
      "1 47 19.071067811865476 4.9289321881345245 48 48.0 94 94.0\n",
      "1 48 19.60272058492637 4.897279415073629 49 49.0 96 96.0\n",
      "1 49 20.132168761236873 4.867831238763126 50 50.0 98 98.0\n",
      "1 50 20.659646009778186 4.840353990221813 51 51.0 100 100.0\n",
      "1 51 21.185352771872452 4.81464722812755 52 52.0 102 102.0\n",
      "1 52 21.709462157844314 4.790537842155685 53 53.0 104 104.0\n",
      "1 53 22.23212459828649 4.76787540171351 54 54.0 106 106.0\n",
      "1 54 22.75347155268455 4.746528447315447 55 55.0 108 108.00000000000001\n",
      "1 55 23.273618495495704 4.726381504504296 56 56.0 110 110.0\n",
      "1 56 23.792667341996157 4.707332658003843 57 57.0 112 111.99999999999999\n",
      "1 57 24.31070843517429 4.689291564825709 58 58.0 114 114.00000000000001\n",
      "1 58 24.827822185373186 4.672177814626813 59 59.0 116 115.99999999999999\n",
      "1 59 25.3440804327886 4.6559195672113995 60 60.0 118 118.0\n"
     ]
    }
   ],
   "source": [
    "# two rectangles\n",
    "import math\n",
    "\n",
    "def cc(a, b):\n",
    "    sq = (a+b)**2-32*a*b\n",
    "    if sq > 0:\n",
    "        return (((a+b) + math.sqrt(sq)) / 4, ((a+b) + math.sqrt(sq)) / 4)\n",
    "    return (1, 1)\n",
    "\n",
    "for a in range(1, 50):\n",
    "    for b in range(a, 60):\n",
    "        c = cc(a, b)\n",
    "        if c[0] > 1:\n",
    "            d = 2*a*b/c[0]\n",
    "            print(a, b, c[0], d, a+b, 2*(c[0]+d), 2*a*b, c[0]*d)"
   ]
  },
  {
   "cell_type": "code",
   "execution_count": 2,
   "id": "79a51121",
   "metadata": {},
   "outputs": [
    {
     "name": "stdout",
     "output_type": "stream",
     "text": [
      "3\n"
     ]
    }
   ],
   "source": [
    "import numpy as np\n",
    "\n",
    "print(np.dot([1,  3, -5], [4, -2, -1]))"
   ]
  },
  {
   "cell_type": "code",
   "execution_count": 1,
   "id": "c082a846",
   "metadata": {},
   "outputs": [
    {
     "name": "stdout",
     "output_type": "stream",
     "text": [
      "1969\n",
      "-1\n"
     ]
    }
   ],
   "source": [
    "# modular inverse\n",
    "\n",
    "def modularinverse(a, m):\n",
    "    x = m // a\n",
    "    while (a*x) % m != 1:\n",
    "        if x > m:\n",
    "            return -1\n",
    "        x += 1\n",
    "    return x\n",
    "\n",
    "print(modularinverse(42, 2017))\n",
    "print(modularinverse(12, 144))"
   ]
  },
  {
   "cell_type": "code",
   "execution_count": 2,
   "id": "aa5974d1",
   "metadata": {},
   "outputs": [
    {
     "name": "stdout",
     "output_type": "stream",
     "text": [
      "1\n",
      "2\n",
      "3\n",
      "4\n",
      "5\n",
      "6\n",
      "7\n",
      "8\n",
      "9\n",
      "153\n",
      "370\n",
      "371\n",
      "407\n",
      "1634\n",
      "8208\n",
      "9474\n",
      "54748\n",
      "92727\n",
      "93084\n",
      "548834\n",
      "1741725\n",
      "4210818\n",
      "9800817\n",
      "9926315\n",
      "24678050\n"
     ]
    }
   ],
   "source": [
    "# narcissistic decimals\n",
    "def narcissistic(n):\n",
    "    m = len(str(n))\n",
    "    return n == sum([int(d)**m for d in str(n)])\n",
    "\n",
    "#print(narcissistic(153))\n",
    "nd = 0\n",
    "k = 0\n",
    "while nd < 25:\n",
    "    k += 1\n",
    "    if narcissistic(k):\n",
    "        print(k)\n",
    "        nd += 1"
   ]
  },
  {
   "cell_type": "code",
   "execution_count": 3,
   "id": "f14c0be0",
   "metadata": {},
   "outputs": [
    {
     "name": "stdout",
     "output_type": "stream",
     "text": [
      "[1, 1, 2, 6, 24, 120, 720, 5040, 40320, 362880]\n"
     ]
    }
   ],
   "source": [
    "#def Y(f):\n",
    "#    (lambda x: f(x(x)))(lambda x: f(x(x)))\n",
    "    \n",
    "Y = lambda f: (lambda x: x(x))(lambda y: f(lambda *args: y(y)(*args)))\n",
    "fac = lambda f: lambda n: (1 if n<2 else n*f(n-1))\n",
    "print([ Y(fac)(i) for i in range(10) ])"
   ]
  },
  {
   "cell_type": "code",
   "execution_count": 4,
   "id": "278c872d",
   "metadata": {},
   "outputs": [
    {
     "name": "stdout",
     "output_type": "stream",
     "text": [
      "[-1.95059594, -0.676741205, 0.23324706, 0.746070945, 1.73131507]\n"
     ]
    }
   ],
   "source": [
    "from __future__ import division\n",
    "import math\n",
    "import sys\n",
    "\n",
    "def fivenum(array):\n",
    "    n = len(array)\n",
    "    if n == 0:\n",
    "        print(\"you entered an empty array.\")\n",
    "        sys.exit()\n",
    "    x = sorted(array)\n",
    "    \n",
    "    n4 = math.floor((n+3.0)/2.0)/2.0\n",
    "    d = [1, n4, (n+1)/2, n+1-n4, n]\n",
    "    sum_array = []\n",
    "    \n",
    "    for e in range(5):\n",
    "        floor = int(math.floor(d[e] - 1))\n",
    "        ceil = int(math.ceil(d[e] - 1))\n",
    "        sum_array.append(0.5 * (x[floor] + x[ceil]))\n",
    "    \n",
    "    return sum_array\n",
    "\n",
    "x = [0.14082834, 0.09748790, 1.73131507, 0.87636009, -1.95059594, 0.73438555, -0.03035726, 1.46675970,\n",
    "-0.74621349, -0.72588772, 0.63905160, 0.61501527, -0.98983780, -1.00447874, -0.62759469, 0.66206163,\n",
    "1.04312009, -0.10305385, 0.75775634, 0.32566578]\n",
    "\n",
    "y = fivenum(x)\n",
    "print(y)"
   ]
  },
  {
   "cell_type": "code",
   "execution_count": 1,
   "id": "1db12046",
   "metadata": {},
   "outputs": [
    {
     "data": {
      "image/png": "[encoded data removed]",
      "text/plain": [
       "<Figure size 640x480 with 1 Axes>"
      ]
     },
     "metadata": {},
     "output_type": "display_data"
    }
   ],
   "source": [
    "import numpy as np\n",
    "from scipy.stats import powerlaw\n",
    "import matplotlib.pyplot as plt\n",
    "\n",
    "fig, ax = plt.subplots(1, 1)\n",
    "a = 0.659\n",
    "mean, var, skew, kurt = powerlaw.stats(a, moments='mvsk')\n",
    "x = np.linspace(powerlaw.ppf(0.01, a),\n",
    "                powerlaw.ppf(0.99, a), 100)\n",
    "ax.plot(x, powerlaw.pdf(x, a),\n",
    "       'r-', lw=5, alpha=0.6, label='powerlaw pdf')\n",
    "rv = powerlaw(a)\n",
    "ax.plot(x, rv.pdf(x), 'k-', lw=2, label='frozen pdf')\n",
    "plt.show()"
   ]
  },
  {
   "cell_type": "code",
   "execution_count": 1,
   "id": "4b2a0e23",
   "metadata": {},
   "outputs": [],
   "source": [
    "# p-value\n",
    "import numpy as np\n",
    "\n",
    "# size of difference\n",
    "# size of dataset\n",
    "# variance within group\n",
    "\n",
    "N = 500\n",
    "\n",
    "def generate_twosamples(diff, nsize, sigma):\n",
    "    sample0 = np.random.normal(0, sigma, nsize)\n",
    "    sample1 = np.random.normal(diff, sigma, nsize)\n",
    "    return (sample0, sample1)\n",
    "\n",
    "s = generate_twosamples(3, N, 1)"
   ]
  },
  {
   "cell_type": "code",
   "execution_count": 2,
   "id": "c2986aed",
   "metadata": {},
   "outputs": [
    {
     "data": {
      "image/png": "[encoded data removed]",
      "text/plain": [
       "<Figure size 640x480 with 1 Axes>"
      ]
     },
     "metadata": {},
     "output_type": "display_data"
    }
   ],
   "source": [
    "import matplotlib.pyplot as plt\n",
    "\n",
    "plt.hist(s[0], N, density=True)\n",
    "plt.hist(s[1], N, density=True)\n",
    "plt.show()"
   ]
  },
  {
   "cell_type": "code",
   "execution_count": 3,
   "id": "589f9329",
   "metadata": {},
   "outputs": [
    {
     "name": "stdout",
     "output_type": "stream",
     "text": [
      " 1: [1, 2, 6, 24, 120, 720, 5040, 40320, 362880, 3628800]\n",
      " 2: [1, 2, 3, 8, 15, 48, 105, 384, 945, 3840]\n",
      " 3: [1, 2, 3, 4, 10, 18, 28, 80, 162, 280]\n",
      " 4: [1, 2, 3, 4, 5, 12, 21, 32, 45, 120]\n",
      " 5: [1, 2, 3, 4, 5, 6, 14, 24, 36, 50]\n",
      " 6: [1, 2, 3, 4, 5, 6, 7, 16, 27, 40]\n",
      " 7: [1, 2, 3, 4, 5, 6, 7, 8, 18, 30]\n",
      " 8: [1, 2, 3, 4, 5, 6, 7, 8, 9, 20]\n",
      " 9: [1, 2, 3, 4, 5, 6, 7, 8, 9, 10]\n",
      "10: [1, 2, 3, 4, 5, 6, 7, 8, 9, 10]\n"
     ]
    }
   ],
   "source": [
    "from functools import reduce\n",
    "from operator import mul\n",
    "\n",
    "def mfac(n, m): return reduce(mul, range(n, 0, -m))\n",
    "\n",
    "for m in range(1, 11): print(\"%2i: %r\" % (m, [mfac(n, m) for n in range(1, 11)]))\n",
    "    "
   ]
  },
  {
   "cell_type": "code",
   "execution_count": 1,
   "id": "5f33d9dc",
   "metadata": {},
   "outputs": [
    {
     "name": "stdout",
     "output_type": "stream",
     "text": [
      "(2.9135820963085175, 2.91358202787911)\n"
     ]
    }
   ],
   "source": [
    "import math\n",
    "\n",
    "def arithgeommean(a0, g0, tolerance=0.000001):\n",
    "    an = (a0 + g0) / 2\n",
    "    gn = math.sqrt(a0 * g0)\n",
    "    while abs(an - gn) > tolerance:\n",
    "        an, gn = (an + gn) / 2, math.sqrt(an * gn)\n",
    "    return an, gn\n",
    "\n",
    "print(arithgeommean(2, 4))"
   ]
  },
  {
   "cell_type": "code",
   "execution_count": 1,
   "id": "8f58b7f0",
   "metadata": {},
   "outputs": [
    {
     "name": "stdout",
     "output_type": "stream",
     "text": [
      "{ABC, DEF, G and H}\n",
      "{ABC and DEF}\n",
      "{}\n"
     ]
    }
   ],
   "source": [
    "# comma quibbling\n",
    "\n",
    "def comquib(s):\n",
    "    if len(s) < 1:\n",
    "        return \"{}\"\n",
    "    res = \", \".join(s[:-1])\n",
    "    if len(s) > 1:\n",
    "        return \"{\" + res + \" and \" + s[-1] + \"}\"\n",
    "    return \"{\" + res + s[-1] + \"}\"\n",
    "\n",
    "print(comquib([\"ABC\", \"DEF\", \"G\", \"H\"]))\n",
    "print(comquib([\"ABC\", \"DEF\"]))\n",
    "print(comquib([]))"
   ]
  },
  {
   "cell_type": "code",
   "execution_count": 1,
   "id": "c7ca23ae",
   "metadata": {},
   "outputs": [
    {
     "data": {
      "text/plain": [
       "598615"
      ]
     },
     "execution_count": 1,
     "metadata": {},
     "output_type": "execute_result"
    }
   ],
   "source": [
    "# pseudo random middle-square\n",
    "\n",
    "def random(seed=675248):\n",
    "    s = str(seed * seed)\n",
    "    while not len(s) == 12:\n",
    "        s = \"0\" + s\n",
    "    return int(s[4:10])\n",
    "\n",
    "random()"
   ]
  },
  {
   "cell_type": "code",
   "execution_count": 1,
   "id": "ccdf8dbf",
   "metadata": {},
   "outputs": [
    {
     "name": "stdout",
     "output_type": "stream",
     "text": [
      "[0, 2, 3, 5, 6, 7, 8, 10, 11, 12, 13, 14, 15, 17, 18, 19, 20, 21, 22, 23, 24, 26, 27, 28, 29]\n",
      "[0, 0, 1, 1, 2, 3, 4, 4, 5, 6, 7, 8, 9, 9, 10, 11, 12, 13, 14, 15, 16, 16, 17, 18, 19]\n"
     ]
    }
   ],
   "source": [
    "import math\n",
    "print([n + math.floor(1/2 + math.sqrt(n)) for n in range(25)])\n",
    "print([n - math.floor(1/2 + math.sqrt(n)) for n in range(25)])"
   ]
  },
  {
   "cell_type": "code",
   "execution_count": 1,
   "id": "13616ab5",
   "metadata": {},
   "outputs": [
    {
     "name": "stdout",
     "output_type": "stream",
     "text": [
      "  1:     3 =>  3\n",
      "  2:     5 =>  11\n",
      "  3:     7 =>  43\n",
      "  4:    11 =>  683\n",
      "  5:    13 =>  2,731\n",
      "  6:    17 =>  43,691\n",
      "  7:    19 =>  174,763\n",
      "  8:    23 =>  2,796,203\n",
      "  9:    31 =>  715,827,883\n",
      " 10:    43 =>  2,932,031,007,403\n"
     ]
    }
   ],
   "source": [
    "def isprime(m):\n",
    "    for i in range(2,int(m**0.5)+1):\n",
    "        if m%i==0:\n",
    "            return False\n",
    "    return True\n",
    "\n",
    "def wagstaff(N):\n",
    "    \"\"\" find first N Wagstaff primes \"\"\"\n",
    "    pri, wcount = 1, 0\n",
    "    while wcount < N:\n",
    "        pri += 2\n",
    "        if isprime(pri):\n",
    "            wag = (2**pri + 1) // 3\n",
    "            if isprime(wag):\n",
    "                wcount += 1\n",
    "                print(f'{wcount: 3}: {pri: 5} => ', \n",
    "                      f'{wag:,}' if wcount < 11 else f'[{len(str(wag))} digit number]')\n",
    "\n",
    "wagstaff(10)"
   ]
  },
  {
   "cell_type": "code",
   "execution_count": 2,
   "id": "b2d3889a",
   "metadata": {},
   "outputs": [
    {
     "data": {
      "text/plain": [
       "'124'"
      ]
     },
     "execution_count": 2,
     "metadata": {},
     "output_type": "execute_result"
    }
   ],
   "source": [
    "str(int('123') + 1)"
   ]
  },
  {
   "cell_type": "code",
   "execution_count": 3,
   "id": "7bb9e02d",
   "metadata": {},
   "outputs": [
    {
     "name": "stdout",
     "output_type": "stream",
     "text": [
      "3 1\n"
     ]
    }
   ],
   "source": [
    "a = 1\n",
    "b = 3\n",
    "a, b = b, a\n",
    "print(a, b)"
   ]
  },
  {
   "cell_type": "code",
   "execution_count": 1,
   "id": "a7f5ede4",
   "metadata": {},
   "outputs": [
    {
     "data": {
      "text/plain": [
       "[1, 1, 3, 5, 9, 15, 25, 41, 67, 109]"
      ]
     },
     "execution_count": 1,
     "metadata": {},
     "output_type": "execute_result"
    }
   ],
   "source": [
    "\n",
    "def leonardo(n):\n",
    "    ln = [1, 1]\n",
    "    for l in range(2, n):\n",
    "        ln.append(ln[l-2] + ln[l-1] + 1)\n",
    "    return ln\n",
    "        \n",
    "list(leonardo(10))"
   ]
  },
  {
   "cell_type": "code",
   "execution_count": 2,
   "id": "0d559c3b",
   "metadata": {},
   "outputs": [
    {
     "name": "stdout",
     "output_type": "stream",
     "text": [
      "enter your name:ab\n",
      "\n",
      "position: 4632\n",
      "9798 9798\n"
     ]
    }
   ],
   "source": [
    "import sys\n",
    "\n",
    "def calcPi():\n",
    "    q, r, t, k, n, l = 1, 0, 1, 1, 3, 3\n",
    "    while True:\n",
    "        if 4*q+r-t < n*t:\n",
    "            yield n\n",
    "            nr = 10*(r-n*t)\n",
    "            n  = ((10*(3*q+r))//t)-10*n\n",
    "            q  *= 10\n",
    "            r  = nr\n",
    "        else:\n",
    "            nr = (2*q+r)*l\n",
    "            nn = (q*(7*k)+2+(r*l))//(t*l)\n",
    "            q  *= k\n",
    "            t  *= l\n",
    "            l  += 2\n",
    "            k += 1\n",
    "            n  = nn\n",
    "            r  = nr\n",
    "\n",
    "name = input('enter your name:')\n",
    "dname = ''.join([str(ord(c)) for c in name])\n",
    "\n",
    "pi_len = 80000\n",
    "pi_digits = calcPi()\n",
    "i = 0\n",
    "i_position = 0\n",
    "current_pi = ''\n",
    "for d in pi_digits:\n",
    "    #sys.stdout.write(str(d))\n",
    "    if len(current_pi) < len(dname):\n",
    "        current_pi += str(d)\n",
    "    else:\n",
    "        if current_pi == dname:\n",
    "            print()\n",
    "            print(f\"position: {i - len(dname)}\")\n",
    "            print(dname, current_pi)\n",
    "            break\n",
    "        else:\n",
    "            current_pi = current_pi[1:] + str(d)\n",
    "    i += 1\n",
    "    if i == pi_len: break"
   ]
  },
  {
   "cell_type": "code",
   "execution_count": 13,
   "id": "df008ebc",
   "metadata": {},
   "outputs": [
    {
     "name": "stdout",
     "output_type": "stream",
     "text": [
      "444 5\n"
     ]
    }
   ],
   "source": [
    "a=5333\n",
    "b=12\n",
    "print(a//b, a%b)"
   ]
  },
  {
   "cell_type": "code",
   "execution_count": 1,
   "id": "525de9fb",
   "metadata": {},
   "outputs": [
    {
     "name": "stdout",
     "output_type": "stream",
     "text": [
      "[2, 24, 30, 40, 42, 54, 56, 66, 70, 78, 88, 102, 104, 105, 110, 114, 128, 130, 135, 136, 138, 152, 154, 165, 170, 174, 182, 184, 186, 189, 190, 195, 222, 230, 231, 232, 238, 246, 248, 250, 255, 258, 266, 273, 282, 285, 286, 290, 296, 297, 310, 318, 322, 328, 344, 345, 351, 354, 357, 366, 370, 374, 375, 376, 385, 399, 402, 406, 410, 418, 424, 426, 429, 430, 434, 435, 438, 442, 455, 459, 465, 470, 472, 474, 483, 488, 494, 498]\n"
     ]
    }
   ],
   "source": [
    "import math\n",
    "\n",
    "def propdiv(n):\n",
    "    return [k for k in range(1, int(n/2)+1) if n%k == 0]\n",
    "\n",
    "def prodpropdiv(n):\n",
    "    pd = propdiv(n)\n",
    "    res = 1\n",
    "    for el in pd[1:]:\n",
    "        res *= el\n",
    "    return res\n",
    "\n",
    "#print(f\"prop div {propdiv(24)} {prodpropdiv(24)} {int(prodpropdiv(24)**(1/3) + 1)}\")\n",
    "\n",
    "def cubrootspd(n):\n",
    "    res = []\n",
    "    for i in range(1,n):\n",
    "        if int(prodpropdiv(i)**(1/3) + 1) == i:\n",
    "            res.append(i)\n",
    "    return res\n",
    "\n",
    "print(f\"{cubrootspd(500)}\")"
   ]
  },
  {
   "cell_type": "code",
   "execution_count": 3,
   "id": "b2a82250",
   "metadata": {},
   "outputs": [
    {
     "name": "stdout",
     "output_type": "stream",
     "text": [
      "[1, 2, 6, 24, 720, 5040]\n"
     ]
    }
   ],
   "source": [
    "\n",
    "def isprime(m):\n",
    "    for i in range(2,int(m**0.5)+1):\n",
    "        if m%i==0:\n",
    "            return False\n",
    "    return True\n",
    "\n",
    "def factprime(n):\n",
    "    cp = 1\n",
    "    res = []\n",
    "    for i in range(1,n):\n",
    "        cp *= i\n",
    "        if isprime(cp-1) or isprime(cp+1):\n",
    "            res.append(cp)\n",
    "    return res\n",
    "\n",
    "print(f\"{factprime(10)}\")"
   ]
  },
  {
   "cell_type": "code",
   "execution_count": 12,
   "id": "edfa3bfb",
   "metadata": {},
   "outputs": [
    {
     "data": {
      "text/plain": [
       "578"
      ]
     },
     "execution_count": 12,
     "metadata": {},
     "output_type": "execute_result"
    }
   ],
   "source": [
    "\n",
    "def sumifodd(l):\n",
    "    return sum([l[i][1] for i in range(len(l)) if l[i][0]%2==1])\n",
    "\n",
    "def ethiopmult(a,b):\n",
    "    res = 0\n",
    "    while a > 0:\n",
    "        if a%2==1: res += b\n",
    "        a, b = int(a/2), 2*b\n",
    "    return res\n",
    "\n",
    "ethiopmult(17, 34)"
   ]
  },
  {
   "cell_type": "code",
   "execution_count": 1,
   "id": "42200fdd",
   "metadata": {},
   "outputs": [
    {
     "name": "stdout",
     "output_type": "stream",
     "text": [
      " φ(1) == 1\n",
      " φ(2) == 1, is prime\n",
      " φ(3) == 2, is prime\n",
      " φ(4) == 2\n",
      " φ(5) == 4, is prime\n",
      " φ(6) == 2\n",
      " φ(7) == 6, is prime\n",
      " φ(8) == 4\n",
      " φ(9) == 6\n",
      " φ(10) == 4\n",
      " φ(11) == 10, is prime\n",
      " φ(12) == 4\n",
      " φ(13) == 12, is prime\n",
      " φ(14) == 6\n",
      " φ(15) == 8\n",
      " φ(16) == 8\n",
      " φ(17) == 16, is prime\n",
      " φ(18) == 6\n",
      " φ(19) == 18, is prime\n",
      " φ(20) == 8\n",
      " φ(21) == 12\n",
      " φ(22) == 10\n",
      " φ(23) == 22, is prime\n",
      " φ(24) == 8\n",
      " φ(25) == 20\n",
      "Primes up to 100: 25\n",
      "Primes up to 1000: 168\n",
      "Primes up to 10000: 1229\n"
     ]
    }
   ],
   "source": [
    "\n",
    "from math import gcd\n",
    "\n",
    "def  φ(n):\n",
    "    return sum(1 for k in range(1, n + 1) if gcd(n, k) == 1)\n",
    "\n",
    "if __name__ == '__main__':\n",
    "    def is_prime(n):\n",
    "        return φ(n) == n - 1\n",
    "    \n",
    "    for n in range(1, 26):\n",
    "        print(f\" φ({n}) == {φ(n)}{', is prime' if is_prime(n)  else ''}\")\n",
    "    count = 0\n",
    "    for n in range(1, 10_000 + 1):\n",
    "        count += is_prime(n)\n",
    "        if n in {100, 1000, 10_000}:\n",
    "            print(f\"Primes up to {n}: {count}\")\n",
    "            "
   ]
  },
  {
   "cell_type": "code",
   "execution_count": 2,
   "id": "bc86e47e",
   "metadata": {},
   "outputs": [
    {
     "data": {
      "text/plain": [
       "[1.0,\n",
       " 0.5,\n",
       " 0.3333333333333333,\n",
       " 0.25,\n",
       " 0.2,\n",
       " 0.16666666666666666,\n",
       " 0.14285714285714285]"
      ]
     },
     "execution_count": 2,
     "metadata": {},
     "output_type": "execute_result"
    }
   ],
   "source": [
    "[1/n for n in range(1,8)]"
   ]
  },
  {
   "cell_type": "code",
   "execution_count": 3,
   "id": "1c0fdbea",
   "metadata": {},
   "outputs": [
    {
     "name": "stdout",
     "output_type": "stream",
     "text": [
      "0.5772073316515289\n"
     ]
    }
   ],
   "source": [
    "import math\n",
    "\n",
    "def gamma(n):\n",
    "    g = 0\n",
    "    for i in range(1, n+1): \n",
    "        g += 1 / i\n",
    "    g -= math.log(n) + 1 / (2*n)\n",
    "    return g\n",
    "\n",
    "print(f\"{gamma(100)}\");\n"
   ]
  },
  {
   "cell_type": "code",
   "execution_count": 4,
   "id": "5467c543",
   "metadata": {},
   "outputs": [
    {
     "name": "stdout",
     "output_type": "stream",
     "text": [
      "Move disk 1 from peg 1 to peg 2\n",
      "Move disk 2 from peg 1 to peg 3\n",
      "Move disk 1 from peg 2 to peg 3\n",
      "Move disk 3 from peg 1 to peg 2\n",
      "Move disk 1 from peg 3 to peg 1\n",
      "Move disk 2 from peg 3 to peg 2\n",
      "Move disk 1 from peg 1 to peg 2\n",
      "Move disk 4 from peg 1 to peg 3\n",
      "Move disk 1 from peg 2 to peg 3\n",
      "Move disk 2 from peg 2 to peg 1\n",
      "Move disk 1 from peg 3 to peg 1\n",
      "Move disk 3 from peg 2 to peg 3\n",
      "Move disk 1 from peg 1 to peg 2\n",
      "Move disk 2 from peg 1 to peg 3\n",
      "Move disk 1 from peg 2 to peg 3\n"
     ]
    }
   ],
   "source": [
    "def hanoi(ndisks, startPeg=1, endPeg=3):\n",
    "    if ndisks:\n",
    "        hanoi(ndisks-1, startPeg, 6-startPeg-endPeg)\n",
    "        print(f\"Move disk {ndisks} from peg {startPeg} to peg {endPeg}\")\n",
    "        hanoi(ndisks-1, 6-startPeg-endPeg, endPeg)\n",
    "\n",
    "hanoi(4)"
   ]
  },
  {
   "cell_type": "code",
   "execution_count": 1,
   "id": "728b9cc6",
   "metadata": {},
   "outputs": [
    {
     "data": {
      "text/plain": [
       "[0.6666666666666667,\n",
       " 0.2152777777777778,\n",
       " 0.09053497942386829,\n",
       " 0.03385416666666666,\n",
       " 0.0017777777777778225,\n",
       " -0.018775720164609044,\n",
       " -0.03304178814382899,\n",
       " -0.04351128472222221,\n",
       " -0.05151653711324494,\n",
       " -0.05783333333333332,\n",
       " -0.06294348443108777,\n",
       " -0.06716177983539097,\n",
       " -0.070702473069337,\n",
       " -0.07371639131843213]"
      ]
     },
     "execution_count": 1,
     "metadata": {},
     "output_type": "execute_result"
    }
   ],
   "source": [
    "import math\n",
    "\n",
    "def harmapprox(n):\n",
    "    return (1 - (n-1)*(n-1)/2/(n*n) - (n-1)**3/6/(n*n*n)) / 3\n",
    "\n",
    "[1/i - harmapprox(i) for i in range(1,15)]"
   ]
  },
  {
   "cell_type": "code",
   "execution_count": 2,
   "id": "20470052",
   "metadata": {},
   "outputs": [
    {
     "name": "stdout",
     "output_type": "stream",
     "text": [
      "(1, 'Solve RC tasks')\n",
      "(2, 'Tax return')\n",
      "(3, 'Clear drains')\n",
      "(4, 'Feed cat')\n",
      "(5, 'Make tea')\n"
     ]
    }
   ],
   "source": [
    "import queue\n",
    "\n",
    "pq = queue.PriorityQueue()\n",
    "for item in ((3, \"Clear drains\"), (4, \"Feed cat\"), (5, \"Make tea\"), (1, \"Solve RC tasks\"), (2, \"Tax return\")):\n",
    "    pq.put(item)\n",
    "\n",
    "while not pq.empty():\n",
    "    print(pq.get_nowait())"
   ]
  },
  {
   "cell_type": "code",
   "execution_count": 6,
   "id": "f209e13f",
   "metadata": {},
   "outputs": [
    {
     "name": "stdout",
     "output_type": "stream",
     "text": [
      "1527229998585248450016808958343740453059\n",
      "0\n",
      "0\n",
      "0\n"
     ]
    }
   ],
   "source": [
    "\n",
    "def power_mod(b, e, m):\n",
    "    \" Without using builtin function \"\n",
    "    x = 1\n",
    "    while e > 0:\n",
    "        b, e, x = (\n",
    "            b * b % m,\n",
    "            e // 2,\n",
    "            b * x % m if e % 2 else x\n",
    "        )\n",
    "    return x\n",
    "\n",
    "\n",
    "a = 2988348162058574136915891421498819466320163312926952423791023078876139\n",
    "b = 2351399303373464486466122544523690094744975233415544072992656881240319\n",
    "m = 10 ** 40\n",
    "print(power_mod(a, b, m))\n",
    "\n",
    "def chckmod(a,b,m):\n",
    "    return (a*b)%m - ((a%m)*(b%m))%m\n",
    "\n",
    "print(chckmod(5,7,3))\n",
    "print(chckmod(122,431,7))\n",
    "print(chckmod(766,543,12))"
   ]
  },
  {
   "cell_type": "code",
   "execution_count": null,
   "id": "57afa42d",
   "metadata": {},
   "outputs": [],
   "source": []
  }
 ],
 "metadata": {
  "kernelspec": {
   "display_name": "tfgpu",
   "language": "python",
   "name": "tfgpu"
  },
  "language_info": {
   "codemirror_mode": {
    "name": "ipython",
    "version": 3
   },
   "file_extension": ".py",
   "mimetype": "text/x-python",
   "name": "python",
   "nbconvert_exporter": "python",
   "pygments_lexer": "ipython3",
   "version": "3.10.8"
  }
 },
 "nbformat": 4,
 "nbformat_minor": 5
}
