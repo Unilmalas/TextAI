{
 "cells": [
  {
   "cell_type": "code",
   "execution_count": 9,
   "id": "23e6b1a8-93f4-41d0-ae9c-d2af6932d607",
   "metadata": {},
   "outputs": [
    {
     "data": {
      "text/plain": [
       "array([[1., 0., 0., 0., 0., 0., 0., 0.],\n",
       "       [0., 1., 0., 0., 0., 0., 0., 0.],\n",
       "       [0., 0., 1., 0., 0., 0., 0., 0.],\n",
       "       [0., 0., 0., 1., 0., 0., 0., 0.],\n",
       "       [0., 0., 0., 0., 1., 0., 0., 0.],\n",
       "       [0., 0., 0., 0., 0., 1., 0., 0.],\n",
       "       [0., 0., 0., 0., 0., 0., 1., 0.],\n",
       "       [0., 0., 0., 0., 0., 0., 0., 1.]])"
      ]
     },
     "execution_count": 9,
     "metadata": {},
     "output_type": "execute_result"
    }
   ],
   "source": [
    "\n",
    "# NN maths simple example\n",
    "\n",
    "import numpy as np\n",
    "\n",
    "\n",
    "ninputs = 64\n",
    "noutputs = 2\n",
    "nhidden0 = 8\n",
    "\n",
    "ainputs = np.random.random((ninputs,))\n",
    "bhidden0 = np.array((nhidden0,))\n",
    "coutputs = np.array((noutputs,))\n",
    "\n",
    "winphidden0 = np.zeros((ninputs, nhidden0))\n",
    "whidden0out = np.zeros((nhidden0, noutputs))\n",
    "\n",
    "winphidden0idt = np.identity(nhidden0, like=winphidden0)\n",
    "whidden0outidt = np.identity(nhidden0, like=whidden0out)\n",
    "\n",
    "winphidden0idt"
   ]
  },
  {
   "cell_type": "code",
   "execution_count": 3,
   "id": "4d7ec51f-3065-43fb-9342-0609f19068df",
   "metadata": {},
   "outputs": [
    {
     "name": "stdout",
     "output_type": "stream",
     "text": [
      "+\n"
     ]
    }
   ],
   "source": [
    "\n",
    "import time\n",
    "\n",
    "print('.', end='\\r')\n",
    "\n",
    "time.sleep(1.5)\n",
    "\n",
    "print('+', end='\\r')\n",
    "print()\n",
    "   "
   ]
  },
  {
   "cell_type": "code",
   "execution_count": 39,
   "id": "412c440c-fe2e-4c57-b500-e57af6613e51",
   "metadata": {},
   "outputs": [
    {
     "name": "stdout",
     "output_type": "stream",
     "text": [
      " \n"
     ]
    },
    {
     "name": "stdin",
     "output_type": "stream",
     "text": [
      "Enter the number:  648024\n"
     ]
    },
    {
     "name": "stdout",
     "output_type": "stream",
     "text": [
      "correct\n"
     ]
    }
   ],
   "source": [
    "\n",
    "import random\n",
    "import time\n",
    "\n",
    "guessthis = [str(random.randint(0, 9)) for i in range(6)]\n",
    "\n",
    "time.sleep(0.8)\n",
    "for el in guessthis:\n",
    "    print(el, end='\\r')\n",
    "    time.sleep(1.2)\n",
    "    print(' ', end='\\r')\n",
    "    time.sleep(0.2)\n",
    "    \n",
    "print()\n",
    "\n",
    "guessednumber = input(\"Enter the number: \")\n",
    "\n",
    "if guessednumber == ''.join(guessthis):\n",
    "    print('correct')\n",
    "else:\n",
    "    print('incorrect', ''.join(guessthis))\n",
    "    "
   ]
  },
  {
   "cell_type": "code",
   "execution_count": 2,
   "id": "2f34552e-4ca2-4afa-8818-563ede04711e",
   "metadata": {},
   "outputs": [
    {
     "name": "stdout",
     "output_type": "stream",
     "text": [
      " \n",
      "Add 1 to the 3. number.\n"
     ]
    },
    {
     "name": "stdin",
     "output_type": "stream",
     "text": [
      "Enter the number:  038134\n"
     ]
    },
    {
     "name": "stdout",
     "output_type": "stream",
     "text": [
      "correct\n"
     ]
    }
   ],
   "source": [
    "import random\n",
    "import time\n",
    "\n",
    "lenguess = 6\n",
    "\n",
    "guessthis = [str(random.randint(0, 9)) for i in range(lenguess)]\n",
    "\n",
    "time.sleep(0.8)\n",
    "for el in guessthis:\n",
    "    print(el, end='\\r')\n",
    "    time.sleep(1.2)\n",
    "    print(' ', end='\\r')\n",
    "    time.sleep(0.2)\n",
    "    \n",
    "print()\n",
    "\n",
    "modifier = random.randint(1, 9)\n",
    "idxmodifier = random.randint(0, lenguess-1)\n",
    "\n",
    "print(f\"Add {modifier} to the {idxmodifier+1}. number.\")\n",
    "guessthis[idxmodifier] = str(int(guessthis[idxmodifier]) + modifier)\n",
    "\n",
    "guessednumber = input(\"Enter the number: \")\n",
    "\n",
    "if guessednumber == ''.join(guessthis):\n",
    "    print('correct')\n",
    "else:\n",
    "    print('incorrect', ''.join(guessthis))\n",
    "    "
   ]
  },
  {
   "cell_type": "code",
   "execution_count": 1,
   "id": "b8f130f2-a6b7-41f6-93b2-b81d7643fa28",
   "metadata": {},
   "outputs": [
    {
     "data": {
      "text/plain": [
       "2"
      ]
     },
     "execution_count": 1,
     "metadata": {},
     "output_type": "execute_result"
    }
   ],
   "source": [
    "x = 1\n",
    "eval('x + 1')\n",
    "\n",
    "#eval('x')\n"
   ]
  },
  {
   "cell_type": "code",
   "execution_count": 2,
   "id": "cd5022c6-7e75-4ad9-b327-63499a6432d6",
   "metadata": {},
   "outputs": [
    {
     "data": {
      "text/plain": [
       "2"
      ]
     },
     "execution_count": 2,
     "metadata": {},
     "output_type": "execute_result"
    }
   ],
   "source": [
    "import random\n",
    "\n",
    "random.choice([1, 2, 3])"
   ]
  },
  {
   "cell_type": "code",
   "execution_count": 21,
   "id": "a6e73f28-9440-400c-af40-c8c1ca5d04fd",
   "metadata": {},
   "outputs": [
    {
     "name": "stdout",
     "output_type": "stream",
     "text": [
      "[0.99929937]\n"
     ]
    }
   ],
   "source": [
    "from numpy import exp, array, random, dot\n",
    "\n",
    "training_set_inputs = array([[0, 0, 1], [1, 1, 1], [1, 0, 1], [0, 1, 1]])\n",
    "training_set_outputs = array([[0, 1, 1, 0]]).T\n",
    "\n",
    "random.seed(1)\n",
    "\n",
    "synaptic_weights = 2 * random.random((3, 1)) - 1\n",
    "\n",
    "for iteration in range(1000):\n",
    "    output = 1 / (1 + exp(-(dot(training_set_inputs, synaptic_weights))))\n",
    "    synaptic_weights += dot(training_set_inputs.T, (training_set_outputs - output) * output * (1 - output))  # quadratic loss\n",
    "    \n",
    "print(1 / (1 + exp(-(dot(array([1, 0, 0]), synaptic_weights)))))"
   ]
  },
  {
   "cell_type": "code",
   "execution_count": 314,
   "id": "cb2e1b67-7dfd-4019-9d3c-bf27ee3b1324",
   "metadata": {},
   "outputs": [
    {
     "name": "stdout",
     "output_type": "stream",
     "text": [
      "[0.98404014]\n"
     ]
    }
   ],
   "source": [
    "from numpy import exp, array, random, dot\n",
    "\n",
    "training_set_inputs = array([[0, 0, 1], [1, 1, 1], [1, 0, 1], [0, 1, 1]])\n",
    "training_set_outputs = array([[0, 1, 1, 0]]).T\n",
    "\n",
    "#random.seed(1)\n",
    "\n",
    "synaptic_weights = 2 * random.random((3, 1)) - 1\n",
    "\n",
    "for iteration in range(10):\n",
    "    output = 1 / (1 + exp(-(dot(training_set_inputs, synaptic_weights))))\n",
    "    synaptic_weights += dot(training_set_inputs.T, (training_set_outputs - output))  # cross entropy loss\n",
    "    \n",
    "print(1 / (1 + exp(-(dot(array([1, 0, 0]), synaptic_weights)))))"
   ]
  },
  {
   "cell_type": "code",
   "execution_count": 188,
   "id": "5cf63774-0c9d-4407-a088-136230c7fdd6",
   "metadata": {},
   "outputs": [
    {
     "name": "stdout",
     "output_type": "stream",
     "text": [
      "[0.16077543]\n"
     ]
    }
   ],
   "source": [
    "from numpy import exp, array, random, dot\n",
    "\n",
    "training_set_inputs = array([[0, 0, 1], [1, 1, 1], [1, 0, 1], [0, 1, 1]])\n",
    "training_set_outputs = array([[0, 1, 1, 0]]).T\n",
    "\n",
    "t_input = array([0, 0, 1])\n",
    "t_output = array([0])\n",
    "\n",
    "random.seed(1)\n",
    "\n",
    "synaptic_weights = 2 * random.random((3, 1)) - 1\n",
    "\n",
    "for iteration in range(100):\n",
    "    output = 1 / (1 + exp(-(dot(t_input, synaptic_weights))))\n",
    "    synaptic_weights += dot(t_input.T, array([1, 1, 1]) * (t_output - output) * output * (1 - output))\n",
    "    \n",
    "print(1 / (1 + exp(-(dot(array([1, 0, 0]), synaptic_weights)))))"
   ]
  },
  {
   "cell_type": "code",
   "execution_count": 385,
   "id": "db741fb3-4324-4c9b-bcdb-966d9b676122",
   "metadata": {},
   "outputs": [
    {
     "name": "stdout",
     "output_type": "stream",
     "text": [
      "[0.02232899]\n"
     ]
    }
   ],
   "source": [
    "from numpy import exp, array, random, dot\n",
    "\n",
    "training_set_inputs = array([[0, 0, 1], [1, 1, 1], [1, 0, 1], [0, 1, 1]])\n",
    "training_set_outputs = array([[0, 1, 1, 0]]).T\n",
    "\n",
    "t_input = array([0, 0, 1])\n",
    "t_output = array([0])\n",
    "\n",
    "random.seed(1)\n",
    "\n",
    "synaptic_weights = 2 * random.random((3, 1)) - 1\n",
    "\n",
    "for iteration in range(100):\n",
    "    output = 1 / (1 + exp(-(dot(t_input, synaptic_weights))))\n",
    "    synaptic_weights += dot(t_input.T, array([1, 1, 1]) * (t_output - output))  # cross entropy loss\n",
    "    \n",
    "print(1 / (1 + exp(-(dot(array([1, 0, 0]), synaptic_weights)))))"
   ]
  },
  {
   "cell_type": "markdown",
   "id": "83a01829-3f5a-49a2-aee1-dde073248a51",
   "metadata": {},
   "source": [
    "$$c = \\sqrt{a^2 + b^2}$$"
   ]
  },
  {
   "cell_type": "code",
   "execution_count": 395,
   "id": "5ce749cf-1e3b-4d2f-a0f5-3b37d7b1d6ff",
   "metadata": {},
   "outputs": [
    {
     "name": "stdout",
     "output_type": "stream",
     "text": [
      "0 [0 0 1] [0] [0.05248225]\n",
      "1 [1 1 1] [1] [0.94024712]\n",
      "2 [1 0 1] [1] [0.95228751]\n",
      "3 [0 1 1] [0] [0.04184173]\n",
      "[0.99723251]\n"
     ]
    }
   ],
   "source": [
    "from numpy import exp, array, random, dot, max\n",
    "\n",
    "training_set_inputs = array([[0, 0, 1], [1, 1, 1], [1, 0, 1], [0, 1, 1]])\n",
    "training_set_outputs = array([[0, 1, 1, 0]]).T\n",
    "\n",
    "etha = 1.\n",
    "synaptic_weights = 2 * random.random((3, 1)) - 1  # 3 weights + bias\n",
    "\n",
    "for iteration in range(100):\n",
    "    tmpdot = 0\n",
    "    i = random.randint(4)\n",
    "    t_input = array([training_set_inputs[i]])\n",
    "    t_output = training_set_outputs[i]\n",
    "    tmpdot += (dot(t_input, synaptic_weights))\n",
    "    output = 1 / (1 + exp(-tmpdot))\n",
    "    synaptic_weights += etha * t_input.T * (t_output - output)  # cross entropy loss\n",
    "    \n",
    "for i in range(4):\n",
    "    print(i, training_set_inputs[i], training_set_outputs[i], 1 / (1 + exp(-(dot(training_set_inputs[i], synaptic_weights)))))\n",
    "\n",
    "print(1 / (1 + exp(-(dot(array([1, 0, 0]), synaptic_weights)))))"
   ]
  },
  {
   "cell_type": "code",
   "execution_count": null,
   "id": "a7f905b9-4e61-46d9-b543-4cc6b4fb2558",
   "metadata": {},
   "outputs": [],
   "source": []
  }
 ],
 "metadata": {
  "kernelspec": {
   "display_name": "Python (torch)",
   "language": "python",
   "name": "torch"
  },
  "language_info": {
   "codemirror_mode": {
    "name": "ipython",
    "version": 3
   },
   "file_extension": ".py",
   "mimetype": "text/x-python",
   "name": "python",
   "nbconvert_exporter": "python",
   "pygments_lexer": "ipython3",
   "version": "3.8.1"
  }
 },
 "nbformat": 4,
 "nbformat_minor": 5
}
