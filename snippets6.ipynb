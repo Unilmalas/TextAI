{
 "cells": [
  {
   "cell_type": "code",
   "execution_count": 3,
   "metadata": {},
   "outputs": [
    {
     "name": "stdout",
     "output_type": "stream",
     "text": [
      "0.0144871855754\n"
     ]
    },
    {
     "data": {
      "image/png": "[encoded data removed]",
      "text/plain": [
       "<Figure size 432x288 with 1 Axes>"
      ]
     },
     "metadata": {
      "needs_background": "light"
     },
     "output_type": "display_data"
    }
   ],
   "source": [
    "# a sprinkler\n",
    "import math\n",
    "import matplotlib.pyplot as plt\n",
    "\n",
    "def fv(v, v0): # initial speed distribution\n",
    "    vv0 = v / v0\n",
    "    return vv0 / v0 * math.exp(-vv0)\n",
    "\n",
    "def x0(theta, v0, g): # distance of droplet\n",
    "    t0 = v0 / g * ( math.sqrt(math.sin(theta)**2.+1.) - math.sin(theta) )\n",
    "    return 2. * t0 * v0 * math.cos(theta)\n",
    "\n",
    "if __name__==\"__main__\":\n",
    "    print x0( math.radians(30.), fv(1., 1.), 10.)\n",
    "    #v = [float(n)/10. for n in range(0, 50)]\n",
    "    v = [fv(float(n)/10., 1.) for n in range(0, 50)]\n",
    "    #x = [x0( math.radians(30.), fv(float(n)/10., 1.), 10.) for n in range(0, 50)]\n",
    "    x = [x0( math.radians(30.), float(n)/10., 10.) for n in range(0, 50)]\n",
    "    _ = plt.plot(v, x, '-')\n",
    "    plt.show()\n",
    "    #print x"
   ]
  },
  {
   "cell_type": "code",
   "execution_count": 35,
   "metadata": {},
   "outputs": [
    {
     "name": "stdout",
     "output_type": "stream",
     "text": [
      "19\n",
      "49\n",
      "0.387755102041\n"
     ]
    }
   ],
   "source": [
    "# approximation 2\n",
    "import math\n",
    "\n",
    "if __name__==\"__main__\":\n",
    "    tgt = 0.3877792\n",
    "    amin = 0\n",
    "    bmin = 0\n",
    "    dmin = 1000.\n",
    "    for a in range(1,100):\n",
    "        for b in range(1,100):\n",
    "            diff = abs(tgt - float(a)/float(b))\n",
    "            if diff < dmin:\n",
    "                dmin = diff\n",
    "                amin = a\n",
    "                bmin = b\n",
    "    print amin\n",
    "    print bmin\n",
    "    print float(amin) / float(bmin)"
   ]
  },
  {
   "cell_type": "code",
   "execution_count": 3,
   "metadata": {},
   "outputs": [
    {
     "name": "stdout",
     "output_type": "stream",
     "text": [
      "[117, 383]\n"
     ]
    }
   ],
   "source": [
    "# gcd\n",
    "def divisors(a):\n",
    "    res = [x for x in range(1,a+1) if a % x == 0]\n",
    "    return res\n",
    "\n",
    "def gcd(a,b):\n",
    "    if b > a:\n",
    "        c = a\n",
    "        a = b\n",
    "        b = c\n",
    "    an = a\n",
    "    bn = b\n",
    "    rn = 1\n",
    "    while rn > 0:\n",
    "        rn = an % bn\n",
    "        an = bn\n",
    "        bn = rn\n",
    "    return an\n",
    "\n",
    "def gcd_iter(u, v):\n",
    "    while v:\n",
    "        u, v = v, u % v\n",
    "    return abs(u)\n",
    "\n",
    "def gcd_bin(u, v):\n",
    "    u, v = abs(u), abs(v) # u >= 0, v >= 0\n",
    "    if u < v:\n",
    "        u, v = v, u # u >= v >= 0\n",
    "    if v == 0:\n",
    "        return u\n",
    "    # u >= v > 0\n",
    "    k = 1\n",
    "    while u & 1 == 0 and v & 1 == 0: # u, v - even\n",
    "        u >>= 1; v >>= 1\n",
    "        k <<= 1\n",
    "    t = -v if u & 1 else u\n",
    "    while t:\n",
    "        while t & 1 == 0:\n",
    "            t >>= 1\n",
    "        if t > 0:\n",
    "            u = t\n",
    "        else:\n",
    "            v = -t\n",
    "        t = u - v\n",
    "    return u * k\n",
    "\n",
    "def redfrac(num, denom): # reduce fraction\n",
    "    ndgcd = gcd_bin(num, denom)\n",
    "    return [ num / ndgcd, denom / ndgcd ]\n",
    "\n",
    "if __name__=='__main__':\n",
    "    #print gcd(24,16)\n",
    "    print redfrac(234, 766)"
   ]
  },
  {
   "cell_type": "code",
   "execution_count": 54,
   "metadata": {},
   "outputs": [
    {
     "name": "stdout",
     "output_type": "stream",
     "text": [
      "a: 2 b: 1 cdsum: 0 ?== 18\n",
      "a: -3 b: 1 cdsum: 0 ?== -15\n",
      "a: 1 b: 2 cdsum: 0 ?== 18\n",
      "a: -4 b: 2 cdsum: 0 ?== -12\n",
      "a: 3 b: 1 cdsum: 0 ?== 24\n",
      "a: -4 b: 1 cdsum: 0 ?== -21\n",
      "a: 1 b: 3 cdsum: 0 ?== 24\n",
      "a: -5 b: 3 cdsum: 0 ?== -15\n",
      "a: 3 b: 2 cdsum: 0 ?== 30\n",
      "a: -6 b: 2 cdsum: 30 ?== -24\n",
      "a: 2 b: 3 cdsum: 30 ?== 30\n",
      "a: -6 b: 3 cdsum: 30 ?== -21\n",
      "a: 5 b: 1 cdsum: 0 ?== 36\n",
      "a: -6 b: 1 cdsum: 0 ?== -33\n",
      "a: 1 b: 5 cdsum: 0 ?== 36\n",
      "a: -8 b: 5 cdsum: 0 ?== -21\n",
      "a: 4 b: 3 cdsum: 0 ?== 42\n",
      "a: -8 b: 3 cdsum: 0 ?== -33\n",
      "a: 3 b: 4 cdsum: 0 ?== 42\n",
      "a: -9 b: 4 cdsum: 0 ?== -30\n",
      "a: 6 b: 1 cdsum: 0 ?== 42\n",
      "a: -7 b: 1 cdsum: 0 ?== -39\n",
      "a: 1 b: 6 cdsum: 0 ?== 42\n",
      "a: -10 b: 6 cdsum: 36 ?== -24\n",
      "a: 5 b: 4 cdsum: 60 ?== 54\n",
      "a: -11 b: 4 cdsum: 60 ?== -42\n",
      "a: 4 b: 5 cdsum: 120 ?== 54\n",
      "a: -11 b: 5 cdsum: 120 ?== -39\n",
      "a: 7 b: 2 cdsum: 0 ?== 54\n",
      "a: -10 b: 2 cdsum: 0 ?== -48\n",
      "a: 2 b: 7 cdsum: 0 ?== 54\n",
      "a: -12 b: 7 cdsum: 0 ?== -33\n",
      "a: 8 b: 1 cdsum: 60 ?== 54\n",
      "a: -9 b: 1 cdsum: 60 ?== -51\n",
      "a: 1 b: 8 cdsum: 120 ?== 54\n",
      "a: -13 b: 8 cdsum: 120 ?== -30\n",
      "a: 7 b: 3 cdsum: 0 ?== 60\n",
      "a: -11 b: 3 cdsum: 0 ?== -51\n",
      "a: 3 b: 7 cdsum: 0 ?== 60\n",
      "a: -13 b: 7 cdsum: 0 ?== -39\n",
      "a: 8 b: 3 cdsum: 0 ?== 66\n",
      "a: -12 b: 3 cdsum: 0 ?== -57\n",
      "a: 3 b: 8 cdsum: 0 ?== 66\n",
      "a: -15 b: 8 cdsum: 60 ?== -42\n",
      "a: 0 b: 10 cdsum: 30 ?== 60\n",
      "a: -15 b: 10 cdsum: 30 ?== -30\n"
     ]
    }
   ],
   "source": [
    "# integers and primes\n",
    "import math\n",
    "\n",
    "def primes(n): # primes up to n via sieve\n",
    "    res = range(2, n+1)\n",
    "    idx = range(2, n+1)\n",
    "    for k in res:\n",
    "        for i in range(k, n, k):\n",
    "            if i % k == 0 and i > k:\n",
    "                idx[i-2] = 0\n",
    "    return idx\n",
    "\n",
    "def afrombp(b,p):\n",
    "    tmp = math.sqrt(b*b-4.*(b*b-p))\n",
    "    return [(-b+tmp)/2., (-b-tmp/2.)]\n",
    "\n",
    "def cfromdab(d,a,b):\n",
    "    tmp = math.sqrt(-3.*d*d+4.*(a+b)**2-a*b)\n",
    "    return [(d+tmp)/2., (d-tmp)/2.]\n",
    "\n",
    "if __name__=='__main__':\n",
    "    lp = primes(100)\n",
    "    for p in lp[2:]:\n",
    "        cdsum = 0\n",
    "        for b in range(1,2*int(p)):\n",
    "            if p >= b*b:\n",
    "                a = afrombp(b,p)\n",
    "                if a[0].is_integer():\n",
    "                    for asol in a:\n",
    "                        for d in range(1,p):\n",
    "                            if 4.*(asol+b)**2 > asol*b+3.*d*d:\n",
    "                                c = cfromdab(d,asol,b)\n",
    "                                if c[0].is_integer():\n",
    "                                    cdsum += c[0] + d\n",
    "                                    cdsum += c[1] + d\n",
    "                        print 'a: %d b: %d cdsum: %d ?== %i' % (asol, b, cdsum, 6*(asol+b))"
   ]
  },
  {
   "cell_type": "code",
   "execution_count": 25,
   "metadata": {},
   "outputs": [
    {
     "name": "stdout",
     "output_type": "stream",
     "text": [
      "0.1111\n"
     ]
    }
   ],
   "source": [
    "# 3 cards 3 players\n",
    "import random\n",
    "from itertools import groupby\n",
    "\n",
    "def flipcrds(n): # flip cards for n players\n",
    "    cards = [1,2,3]\n",
    "    res = []\n",
    "    for i in range(n):\n",
    "        random.shuffle(cards)\n",
    "        res.append(cards[0])\n",
    "    return res\n",
    "\n",
    "def countfc(n): # count same cards\n",
    "    cards = flipcrds(n)\n",
    "    freqc = [len(list(group)) for key, group in groupby(cards)]\n",
    "    return max(freqc)\n",
    "\n",
    "if __name__ == '__main__':\n",
    "    #print flipcrds(3)\n",
    "    #print countfc(3)\n",
    "    nrg = 100000\n",
    "    ctr = 0\n",
    "    for i in range(nrg):\n",
    "        if countfc(3) == 3:\n",
    "            ctr += 1\n",
    "    print float(ctr) / float(nrg)"
   ]
  },
  {
   "cell_type": "code",
   "execution_count": 37,
   "metadata": {},
   "outputs": [
    {
     "name": "stdout",
     "output_type": "stream",
     "text": [
      "2.71827639183\n"
     ]
    }
   ],
   "source": [
    "# a limit\n",
    "import math\n",
    "\n",
    "def an(a,n): # a(n+1)=a^a(n)\n",
    "    if n==0:\n",
    "        return a\n",
    "    exa = a\n",
    "    for i in range(n):\n",
    "        exa = math.exp(exa * math.log(a))\n",
    "    return exa\n",
    "\n",
    "if __name__ == '__main__':\n",
    "    #print an(1.1, 3)\n",
    "    #print 1.1**(1.1**(1.1**1.1))\n",
    "    #print an(math.e/2., 100000)\n",
    "    print an(math.e**(1./math.e), 1000000)"
   ]
  },
  {
   "cell_type": "code",
   "execution_count": 1,
   "metadata": {},
   "outputs": [
    {
     "name": "stdout",
     "output_type": "stream",
     "text": [
      "3: 6 3.692\n",
      "4: 13 2.931\n",
      "5: 19 2.452\n",
      "6: 30 2.167\n",
      "7: 52 2.151\n",
      "8: 62 1.937\n",
      "9: 73 1.693\n",
      "10: 77 1.852\n",
      "11: 98 1.643\n",
      "12: 86 1.708\n",
      "13: 113 1.653\n",
      "14: 95 1.555\n",
      "15: 136 1.526\n",
      "16: 120 1.624\n",
      "17: 130 1.456\n",
      "18: 109 1.598\n",
      "19: 133 1.463\n",
      "20: 109 1.470\n",
      "21: 106 1.515\n",
      "22: 137 1.397\n",
      "23: 121 1.503\n",
      "24: 111 1.436\n",
      "25: 120 1.507\n",
      "26: 97 1.474\n",
      "27: 107 1.404\n",
      "28: 138 1.523\n",
      "29: 114 1.530\n",
      "30: 98 1.395\n",
      "31: 95 1.383\n",
      "32: 119 1.391\n",
      "33: 90 1.468\n",
      "34: 111 1.397\n",
      "35: 91 1.402\n",
      "36: 94 1.390\n"
     ]
    }
   ],
   "source": [
    "# Richard takes steps\n",
    "import random\n",
    "import math\n",
    "#import matplotlib.pyplot as plt\n",
    "\n",
    "def astep(): # a random step in 4 cardinal directions\n",
    "    drcts = [0,1,2,3]\n",
    "    random.shuffle(drcts)\n",
    "    return drcts[0]\n",
    "\n",
    "def enpt(n): # endpoint after n steps\n",
    "    spoint = [0,0]\n",
    "    for i in range(n):\n",
    "        s = astep()\n",
    "        if s == 0:\n",
    "            spoint[0] += 1\n",
    "        if s == 1:\n",
    "            spoint[1] -= 1\n",
    "        if s == 2:\n",
    "            spoint[0] -= 1\n",
    "        if s == 3:\n",
    "            spoint[1] += 1\n",
    "    return spoint\n",
    "\n",
    "def ldist(a,b):\n",
    "    return math.sqrt((a[0]-b[0])**2 + (a[1]-b[1])**2)\n",
    "\n",
    "if __name__ == '__main__':\n",
    "    #print astep()\n",
    "    #print enpt(10)\n",
    "    #print ldist(enpt(10),[4,4])\n",
    "    #mindh = []\n",
    "    mindh = {}\n",
    "    for i in range(3500):\n",
    "        mind = 1000.\n",
    "        nmin = 10000\n",
    "        nsmax = 40\n",
    "        for nstps in range(1,nsmax):\n",
    "            ep = enpt(nstps)\n",
    "            lep = ldist(ep,[4.,4.])\n",
    "            if lep < mind:\n",
    "                mind = lep\n",
    "                nmin = nstps  \n",
    "        #print nmin\n",
    "        #print mind\n",
    "        #mindh.append([nmin, mind])\n",
    "        if mindh.has_key(nmin):\n",
    "            mindh[nmin] += [mind]\n",
    "        else:\n",
    "            mindh[nmin] = [mind]\n",
    "    #mindh.sort()\n",
    "    #print '28: %d %2.2f' % (len(mindh[28]), reduce(lambda x, y: x + y, mindh[28]) / len(mindh[28]))\n",
    "    #print '29: %d %2.2f' % (len(mindh[29]), reduce(lambda x, y: x + y, mindh[29]) / len(mindh[29]))\n",
    "    #print '30: %d %2.2f' % (len(mindh[30]), reduce(lambda x, y: x + y, mindh[30]) / len(mindh[30]))\n",
    "    #print '31: %d %2.2f' % (len(mindh[31]), reduce(lambda x, y: x + y, mindh[31]) / len(mindh[31]))\n",
    "    #print '32: %d %2.2f' % (len(mindh[32]), reduce(lambda x, y: x + y, mindh[32]) / len(mindh[32]))\n",
    "    #print '33: %d %2.2f' % (len(mindh[33]), reduce(lambda x, y: x + y, mindh[33]) / len(mindh[33]))\n",
    "    #print '34: %d %2.2f' % (len(mindh[34]), reduce(lambda x, y: x + y, mindh[34]) / len(mindh[34]))\n",
    "    for i in range(1,len(mindh)):\n",
    "        if mindh.has_key(i):\n",
    "            print '%d: %d %2.3f' % (i,len(mindh[i]), reduce(lambda x, y: x + y, mindh[i]) / len(mindh[i]))\n",
    "    #x = [n for n in range(1, nsmax)]\n",
    "    #y = [mindh[n] for n in range(1, nsmax) if mindh.has_key(n)]\n",
    "    #n, bins, patches = plt.hist(mindh, 50, normed=1, facecolor='green', alpha=0.75)\n",
    "    #_ = plt.plot(x, y, '-')\n",
    "    #l = plt.plot(bins, y, 'r--', linewidth=1)\n",
    "    #plt.show()"
   ]
  },
  {
   "cell_type": "code",
   "execution_count": 67,
   "metadata": {},
   "outputs": [
    {
     "name": "stdout",
     "output_type": "stream",
     "text": [
      "[0.08382021562346303, 0.0006797843764586933]\n",
      "[151.06324018134035, 1.4598598186598166]\n",
      "[265.3529396030364, 3.539460396963727]\n"
     ]
    },
    {
     "data": {
      "image/png": "[encoded data removed]",
      "text/plain": [
       "<Figure size 432x288 with 1 Axes>"
      ]
     },
     "metadata": {
      "needs_background": "light"
     },
     "output_type": "display_data"
    }
   ],
   "source": [
    "# drums with saltwater\n",
    "import matplotlib.pyplot as plt\n",
    "\n",
    "def dmdt0(totw,wslt,loss): # return updated mass for this drum\n",
    "    return [loss*(totw-wslt)/totw, loss*wslt/totw]\n",
    "\n",
    "if __name__ == '__main__':\n",
    "    drum0 = [40.*8.33, 3.]\n",
    "    drum1 = [10.*8.33, 2.]\n",
    "    drum2 = [0., 0.]\n",
    "    x = []\n",
    "    y = []\n",
    "    for i in range(807):\n",
    "        d0 = dmdt0(drum0[0], drum0[1], 5.*8.33/100.)\n",
    "        drum0[0] -= d0[0]\n",
    "        drum0[1] -= d0[1]\n",
    "        d1 = dmdt0(drum1[0], drum1[1], 4.*8.33/100.)\n",
    "        #print d0\n",
    "        drum1[0] += d0[0] - d1[0]\n",
    "        drum1[1] += d0[1] - d1[1]\n",
    "        drum2[0] += d1[0]\n",
    "        drum2[1] += d1[1]\n",
    "        x.append(i)\n",
    "        y.append(drum1[1])\n",
    "    print drum0\n",
    "    print drum1\n",
    "    print drum2\n",
    "    #x = [n for n in range(1, nsmax)]\n",
    "    #y = [mindh[n] for n in range(1, nsmax) if mindh.has_key(n)]\n",
    "    _ = plt.plot(x, y, '-')\n",
    "    plt.show()"
   ]
  },
  {
   "cell_type": "code",
   "execution_count": 223,
   "metadata": {
    "scrolled": true
   },
   "outputs": [
    {
     "data": {
      "image/png": "[encoded data removed]",
      "text/plain": [
       "<Figure size 432x288 with 1 Axes>"
      ]
     },
     "metadata": {
      "needs_background": "light"
     },
     "output_type": "display_data"
    }
   ],
   "source": [
    "# ellipse and 3 circles\n",
    "import math\n",
    "import matplotlib.pyplot as plt\n",
    "\n",
    "def b(r,alph):\n",
    "    return r*(2.*math.cos(alph)+1.)\n",
    "\n",
    "def a2(r,alph,xx0):\n",
    "    bb = b(r,alph)**2\n",
    "    salph = math.sin(alph)\n",
    "    return (2.*bb*r*salph*xx0-bb*xx0*xx0) / (r*r - (xx0-2.*r*salph)**2)\n",
    "\n",
    "def x0(r,alph,aa):\n",
    "    bb = b(r,alph)**2\n",
    "    salph = math.sin(alph)\n",
    "    return ( -4.*aa*r*salph + math.sqrt(abs(16.*aa*aa*r*r*salph*salph - 4.*(bb-aa)*aa*(r*r-bb-4.*r*r*salph*salph)))) / (2.*(bb-aa))\n",
    "\n",
    "def area(aa,bb):\n",
    "    return math.pi * aa * bb\n",
    "\n",
    "if __name__ == '__main__':\n",
    "    r = 1.0\n",
    "    x = []\n",
    "    y = []\n",
    "    for tang in range(168,180):\n",
    "        alph = math.radians(float(tang)/10.)\n",
    "        x.append(tang)\n",
    "        b00 = b(r,alph)\n",
    "        a00 = a2(r,alph,1.1)\n",
    "        x00 = x0(r,alph,a00)\n",
    "        #print 'x0 %d  A %f' % (x00, area(a00,b00))\n",
    "        for i in range(20):\n",
    "            a00 = ( a2(r,alph,x00) + a00 ) / 2.\n",
    "            x00 = ( x0(r,alph,a00) + x00 ) / 2.\n",
    "            #print 'x0 %f  A %f' % (x00, area(a00,b00))\n",
    "        y.append(min(4., abs(area(a00,b00))))\n",
    "    _ = plt.plot(x, y, '-')\n",
    "    plt.show()"
   ]
  },
  {
   "cell_type": "code",
   "execution_count": 20,
   "metadata": {},
   "outputs": [
    {
     "name": "stdout",
     "output_type": "stream",
     "text": [
      "1e-28\n"
     ]
    }
   ],
   "source": [
    "# a limit 2\n",
    "import math\n",
    "\n",
    "def an(a,n): # a(n+1)=a^a(n)\n",
    "    if n==0:\n",
    "        return a\n",
    "    exa = a\n",
    "    for i in range(n):\n",
    "        exa = math.exp(exa * math.log(a))\n",
    "    return exa\n",
    "\n",
    "def lsqrtl(l): # l**(1./l) approx\n",
    "    return l**(1./l)\n",
    "    #return 1. + math.log(l) / l\n",
    "\n",
    "if __name__ == '__main__':\n",
    "    #print an(1.1, 3)\n",
    "    #print 1.1**(1.1**(1.1**1.1))\n",
    "    print an(1e-28, 1000000)\n",
    "    #print an(math.e**(1./math.e), 1000000)\n",
    "    #print lsqrtl(0.000000000001)"
   ]
  },
  {
   "cell_type": "code",
   "execution_count": 44,
   "metadata": {},
   "outputs": [
    {
     "name": "stdout",
     "output_type": "stream",
     "text": [
      "c=7.000000: 0.000000 0.577423 0.422577\n",
      "c=7.100000: 0.109472 0.456074 0.434454\n",
      "c=7.200000: 0.155329 0.398524 0.446148\n",
      "c=7.300000: 0.190863 0.351465 0.457673\n",
      "c=7.400000: 0.221108 0.309850 0.469042\n",
      "c=7.500000: 0.248008 0.271727 0.480265\n",
      "c=7.600000: 0.272554 0.236092 0.491354\n",
      "c=7.700000: 0.295334 0.202350 0.502316\n",
      "c=7.800000: 0.316729 0.170111 0.513160\n",
      "c=7.900000: 0.337004 0.139103 0.523893\n",
      "1: 0.181818 0.363636 0.454545\n",
      "2: 0.187500 0.375000 0.437500\n",
      "3: 0.200000 0.350000 0.450000\n",
      "4: 0.178571 0.392857 0.428571\n"
     ]
    }
   ],
   "source": [
    "# 3 triangles\n",
    "import math\n",
    "\n",
    "def a1(a,b,s):\n",
    "    return math.sqrt(s*(s-a)*(s-b)*(s-13.))\n",
    "\n",
    "def a2(b,c,s):\n",
    "    return math.sqrt(s*(s-b)*(s-c)*(s-15.))\n",
    "\n",
    "def a3(a,c,s):\n",
    "    return math.sqrt(s*(s-a)*(s-c)*(s-14.))\n",
    "\n",
    "if __name__ == '__main__':\n",
    "    c=6.9\n",
    "    for i in range(10):\n",
    "        c+=0.1\n",
    "        b=1.+float(c)\n",
    "        #p=16.+2.*float(c)\n",
    "        s=8.+float(c)\n",
    "        a=2.+float(c)\n",
    "        aa1=a1(a,b,s)\n",
    "        aa2=a2(b,float(c),s)\n",
    "        #aa3=a3(a,float(c),s)\n",
    "        aa3=84.-aa1-aa2\n",
    "        saa = aa1+aa2+aa3\n",
    "        print 'c=%f: %f %f %f' % (c, aa2/saa, aa3/saa, aa1/saa)\n",
    "    print '1: %f %f %f' % (2./11., 4./11., 5./11.)\n",
    "    print '2: %f %f %f' % (3./16., 6./16., 7./16.)\n",
    "    print '3: %f %f %f' % (4./20., 7./20., 9./20.)\n",
    "    print '4: %f %f %f' % (5./28., 11./28., 12./28.)"
   ]
  },
  {
   "cell_type": "code",
   "execution_count": 52,
   "metadata": {},
   "outputs": [
    {
     "name": "stdout",
     "output_type": "stream",
     "text": [
      "iex: 2016 n: 1984\n",
      "iex: 2017 n: 2016\n",
      "iex: 2018 n: 504\n"
     ]
    }
   ],
   "source": [
    "# power sums and divisibility\n",
    "\n",
    "def powsum(ex,n):\n",
    "    res = 0\n",
    "    for i in range(1,n+1):\n",
    "        res += i**ex\n",
    "    return res\n",
    "\n",
    "if __name__ == '__main__':\n",
    "    ilim = 2019\n",
    "    for iex in range(2016,ilim):\n",
    "        for nn in range(2,ilim):\n",
    "            ps = powsum(iex,nn)\n",
    "            if ps % iex == 0:\n",
    "                print 'iex: %d n: %d' % (iex,nn)\n",
    "                break"
   ]
  },
  {
   "cell_type": "code",
   "execution_count": 19,
   "metadata": {},
   "outputs": [
    {
     "name": "stdout",
     "output_type": "stream",
     "text": [
      "N: 2018 n: 63\n",
      "N: 2018 n: 62\n",
      "N: 2018 n: 61\n",
      "N: 2018 n: 60\n"
     ]
    }
   ],
   "source": [
    "# integer as sum of consecuteives\n",
    "import math\n",
    "\n",
    "def nn(k,n):\n",
    "    sq = math.sqrt((2.*k-1.)**2.+8.*n)\n",
    "    return ( (1.-2.*k)+sq ) / 2.\n",
    "\n",
    "if __name__ == '__main__':\n",
    "    nlim = 2019\n",
    "    for n in range(2018,nlim):\n",
    "        for k in range(1,5):\n",
    "            nn0 = nn(k,n)\n",
    "            print 'N: %d n: %d' % (n,nn0)"
   ]
  },
  {
   "cell_type": "code",
   "execution_count": 20,
   "metadata": {},
   "outputs": [
    {
     "name": "stdout",
     "output_type": "stream",
     "text": [
      "heads: 1 tails: 9 likelihood: 2444.233100\n",
      "heads: 2 tails: 8 likelihood: 244.423310\n",
      "heads: 3 tails: 7 likelihood: 36.210861\n",
      "heads: 4 tails: 6 likelihood: 7.543929\n",
      "heads: 5 tails: 5 likelihood: 2.155408\n",
      "heads: 6 tails: 4 likelihood: 0.838214\n",
      "heads: 7 tails: 3 likelihood: 0.447048\n",
      "heads: 8 tails: 2 likelihood: 0.335286\n",
      "heads: 9 tails: 1 likelihood: 0.372540\n"
     ]
    }
   ],
   "source": [
    "# Bayesian decision\n",
    "import math\n",
    "\n",
    "def likeh(i,j): # likelihood ratio coin tosses 2 theories\n",
    "    nomin = 6.*math.factorial(i+1)*math.factorial(j+1)/math.factorial(i+j+3)\n",
    "    return nomin / (3./4.)**i / (1./4.)**j\n",
    "\n",
    "if __name__ == '__main__':\n",
    "    for i in range(1,10):\n",
    "        print 'heads: %d tails: %d likelihood: %f' % (i,10-i,likeh(i,10-i))"
   ]
  },
  {
   "cell_type": "code",
   "execution_count": 4,
   "metadata": {},
   "outputs": [
    {
     "name": "stdout",
     "output_type": "stream",
     "text": [
      "0.0\n",
      "0.0\n"
     ]
    }
   ],
   "source": [
    "# determinants\n",
    "import numpy as np\n",
    "\n",
    "a = np.array([[1, 2, 3, 4, 5], [2, 4, 6, 8, 10], [3, 6, 9, 12, 15], [4, 8, 12, 16, 20], [5, 10, 15, 20, 25]])\n",
    "print np.linalg.det(a)\n",
    "b = np.array([[1, -2, 3, -4, 5], [-2, 4, -6, 8, -10], [3, -6, 9, -12, 15], [-4, 8, -12, 16, -20], [5, -10, 15, -20, 25]])\n",
    "print np.linalg.det(b)"
   ]
  },
  {
   "cell_type": "code",
   "execution_count": 3,
   "metadata": {},
   "outputs": [
    {
     "name": "stdout",
     "output_type": "stream",
     "text": [
      "           0            1            2\n",
      "Healthy: 0.30000 0.08400 0.00588\n",
      "Fever: 0.04000 0.02700 0.01512\n",
      "The steps of states are Healthy Healthy Fever with highest probability of 0.01512\n"
     ]
    }
   ],
   "source": [
    "# Viterbi algorithm: finding the most likely sequence of hidden states\n",
    "\n",
    "def viterbi(obs, states, start_p, trans_p, emit_p):\n",
    "    V = [{}]\n",
    "    for st in states:\n",
    "        V[0][st] = {\"prob\": start_p[st] * emit_p[st][obs[0]], \"prev\": None}\n",
    "    # Run Viterbi when t > 0\n",
    "    for t in range(1, len(obs)):\n",
    "        V.append({})\n",
    "        for st in states:\n",
    "            max_tr_prob = V[t-1][states[0]][\"prob\"]*trans_p[states[0]][st]\n",
    "            prev_st_selected = states[0]\n",
    "            for prev_st in states[1:]:\n",
    "                tr_prob = V[t-1][prev_st][\"prob\"]*trans_p[prev_st][st]\n",
    "                if tr_prob > max_tr_prob:\n",
    "                    max_tr_prob = tr_prob\n",
    "                    prev_st_selected = prev_st\n",
    "                    \n",
    "            max_prob = max_tr_prob * emit_p[st][obs[t]]\n",
    "            V[t][st] = {\"prob\": max_prob, \"prev\": prev_st_selected}\n",
    "                    \n",
    "    for line in dptable(V):\n",
    "        print line\n",
    "    opt = []\n",
    "    # The highest probability\n",
    "    max_prob = max(value[\"prob\"] for value in V[-1].values())\n",
    "    previous = None\n",
    "    # Get most probable state and its backtrack\n",
    "    for st, data in V[-1].items():\n",
    "        if data[\"prob\"] == max_prob:\n",
    "            opt.append(st)\n",
    "            previous = st\n",
    "            break\n",
    "    # Follow the backtrack till the first observation\n",
    "    for t in range(len(V) - 2, -1, -1):\n",
    "        opt.insert(0, V[t + 1][previous][\"prev\"])\n",
    "        previous = V[t + 1][previous][\"prev\"]\n",
    "    print 'The steps of states are ' + ' '.join(opt) + ' with highest probability of %s' % max_prob\n",
    "\n",
    "def dptable(V):\n",
    "    # Print a table of steps from dictionary\n",
    "    yield \" \".join((\"%12d\" % i) for i in range(len(V)))\n",
    "    for state in V[0]:\n",
    "        yield \"%.7s: \" % state + \" \".join(\"%.7s\" % (\"%f\" % v[state][\"prob\"]) for v in V)\n",
    "\n",
    "if __name__ == '__main__':\n",
    "    obs = ('normal', 'cold', 'dizzy')\n",
    "    states = ('Healthy', 'Fever')\n",
    "    start_p = {'Healthy': 0.6, 'Fever': 0.4}\n",
    "    trans_p = {\n",
    "       'Healthy' : {'Healthy': 0.7, 'Fever': 0.3},\n",
    "       'Fever' : {'Healthy': 0.4, 'Fever': 0.6}\n",
    "       }\n",
    "    emit_p = {\n",
    "       'Healthy' : {'normal': 0.5, 'cold': 0.4, 'dizzy': 0.1},\n",
    "       'Fever' : {'normal': 0.1, 'cold': 0.3, 'dizzy': 0.6}\n",
    "       }\n",
    "    viterbi(obs, states, start_p, trans_p, emit_p)"
   ]
  },
  {
   "cell_type": "code",
   "execution_count": 20,
   "metadata": {},
   "outputs": [
    {
     "name": "stdout",
     "output_type": "stream",
     "text": [
      "i: 2 : 12.000000\n",
      "i: 3 : 38.000000\n",
      "i: 29 : 380058475033046.000000\n"
     ]
    }
   ],
   "source": [
    "# 14444...\n",
    "import math\n",
    "\n",
    "def n14(n):\n",
    "    res = 10.**n + 4.*(10.**n-1.)/9.\n",
    "    return res\n",
    "\n",
    "if __name__ == '__main__':\n",
    "    #print math.sqrt(n14(3))\n",
    "    for i in range(1,30):\n",
    "        res = math.sqrt(n14(i))\n",
    "        if float(res).is_integer():\n",
    "            print 'i: %d : %f' % (i,res)"
   ]
  },
  {
   "cell_type": "code",
   "execution_count": 24,
   "metadata": {},
   "outputs": [
    {
     "name": "stdout",
     "output_type": "stream",
     "text": [
      "0.7135581752992395\n",
      "1.6398435441458303\n",
      "True\n"
     ]
    }
   ],
   "source": [
    "# cross entropy and perplexity\n",
    "import numpy as np\n",
    "\n",
    "def cross_entropy(predictions, targets, epsilon=1e-12):\n",
    "    \"\"\"\n",
    "    Computes cross entropy between targets (encoded as one-hot vectors)\n",
    "    and predictions. \n",
    "    Input: predictions (N, k) ndarray\n",
    "           targets (N, k) ndarray        \n",
    "    Returns: scalar\n",
    "    \"\"\"\n",
    "    predictions = np.clip(predictions, epsilon, 1. - epsilon) # clip - limit the values in an array\n",
    "    N = predictions.shape[0]\n",
    "    ce = -np.sum(targets*np.log(predictions+1e-9))/N\n",
    "    return ce\n",
    "\n",
    "def perplexity(predictions, targets, epsilon=1e-12): # perplexity = 2 ^ H(p,q)\n",
    "    return 2.**cross_entropy(predictions, targets)\n",
    "\n",
    "if __name__ == '__main__':\n",
    "    predictions = np.array([[0.25,0.25,0.25,0.25],\n",
    "                            [0.01,0.01,0.01,0.96]])\n",
    "    targets = np.array([[0,0,0,1],\n",
    "                       [0,0,0,1]])\n",
    "    ans = 0.71355817782  # Correct answer\n",
    "    x = cross_entropy(predictions, targets)\n",
    "    print x\n",
    "    print perplexity(predictions, targets)\n",
    "    print np.isclose(x,ans) # isclose: returns a boolean array where two arrays are element-wise equal within a tolerance"
   ]
  },
  {
   "cell_type": "code",
   "execution_count": 30,
   "metadata": {},
   "outputs": [
    {
     "name": "stdout",
     "output_type": "stream",
     "text": [
      "m: -2 n: 2\n",
      "m: 0 n: 0\n"
     ]
    }
   ],
   "source": [
    "# integer roots\n",
    "\n",
    "def apoly(m,n): # a polynomial - returns True if an integer root\n",
    "    dmn = m - n\n",
    "    mn = m * n\n",
    "    if (dmn**5+mn*(5*dmn*(dmn*dmn+mn)-16)) == 0:\n",
    "        return True\n",
    "    return False\n",
    "\n",
    "if __name__ == '__main__':\n",
    "    #print apoly(-2,2)\n",
    "    nrg = 1000\n",
    "    for m in range(-nrg,nrg):\n",
    "        for n in range(-nrg,nrg):\n",
    "            if apoly(m,n):\n",
    "                print 'm: %d n: %d' % (m,n)"
   ]
  },
  {
   "cell_type": "code",
   "execution_count": 12,
   "metadata": {},
   "outputs": [
    {
     "name": "stdout",
     "output_type": "stream",
     "text": [
      "[4, 9, 16, 25, 36, 49, 64, 81, 4, 9, 16, 25, 36, 49, 64, 81, 4, 9, 16, 25, 36, 49, 64, 81, 4, 9, 16, 25, 36, 49, 64, 81, 4, 9, 16, 25, 36, 49, 64, 81, 4, 9, 16, 25, 36, 49, 64, 81, 4, 9, 16, 25, 36, 49, 64, 81, 4, 9, 16, 25, 36, 49, 64, 81, 4, 9, 16, 25, 36, 49, 64, 81, 4, 9, 16, 25, 36, 49, 64, 81, 4, 9, 16, 25, 36, 49, 64, 81, 4, 9, 16, 25, 36, 49, 64, 4, 9, 16, 25, 36, 49, 4, 9, 16, 25, 36, 49, 4, 9, 16, 25, 36, 4, 9, 16, 25, 36, 4, 9, 16, 25, 4, 9, 16, 25, 4, 9, 16, 25, 4, 9, 16, 25, 4, 9, 16, 4, 9, 16, 4, 9, 16, 4, 9, 16, 4, 9, 16, 4, 9, 4, 9, 4, 9, 4, 9, 4, 9, 4, 9, 4, 9, 4, 9, 4, 4, 4, 4, 4, 4, 4, 4, 4, 4, 4, 4, 4, 4, 4, 4, 4]\n",
      "a: 1 : [2, 3, 5]\n",
      "3\n",
      "a: 2 : [1, 3, 4, 5]\n",
      "4\n",
      "a: 3 : [1, 2, 4, 5]\n",
      "4\n",
      "a: 4 : [2, 3, 5]\n",
      "3\n",
      "a: 5 : [1, 2, 3, 4]\n",
      "4\n",
      "[]\n",
      "0\n"
     ]
    }
   ],
   "source": [
    "# some perfect squares\n",
    "import math\n",
    "\n",
    "def perfsql(n):\n",
    "    return [i*i for i in range(1,n+1)]\n",
    "\n",
    "def psmult(psl):\n",
    "    res = []\n",
    "    for p in psl:\n",
    "        for k in range(2,len(psl)):\n",
    "            if p*k in psl:\n",
    "                res.append(k)\n",
    "    return res\n",
    "\n",
    "if __name__ == '__main__':\n",
    "    #print perfsql(15)\n",
    "    psl = perfsql(100)\n",
    "    print psmult(psl)\n",
    "    setsz = 6\n",
    "    allcand = []\n",
    "    for a in range(1,setsz):\n",
    "        candb = []\n",
    "        for b in range(1,setsz):\n",
    "            keepb = True\n",
    "            for k in range(1,50):\n",
    "                if (k*a) in psl and (k*b) in psl:\n",
    "                    keepb = False\n",
    "                    #print b\n",
    "                    break\n",
    "            if keepb:\n",
    "                candb.append(b)\n",
    "        print 'a: %d : [%s]' % (a,', '.join(map(str, candb)))\n",
    "        print len(candb)\n",
    "        allcand.append(candb)\n",
    "    finals = []\n",
    "    for a in range(1,setsz):\n",
    "        isinall = True\n",
    "        for b in allcand:\n",
    "            if not a in b:\n",
    "                isinall = False\n",
    "                break\n",
    "        if isinall:\n",
    "            finals.append(a)\n",
    "    print finals\n",
    "    print len(finals)"
   ]
  },
  {
   "cell_type": "code",
   "execution_count": 34,
   "metadata": {},
   "outputs": [
    {
     "name": "stdout",
     "output_type": "stream",
     "text": [
      "12.3475\n"
     ]
    }
   ],
   "source": [
    "# drawing a flush\n",
    "import random as rd\n",
    "\n",
    "def ctlgstrun(lst): # count longest run in list\n",
    "    lst.sort()\n",
    "    lastel = lst[0]\n",
    "    ctr = 0\n",
    "    maxc = 0\n",
    "    for el in lst:\n",
    "        if el == lastel:\n",
    "            ctr += 1\n",
    "        else:\n",
    "            ctr = 1\n",
    "            lastel = el\n",
    "        if ctr > maxc:\n",
    "            maxc = ctr\n",
    "    return maxc\n",
    "\n",
    "def isflush(deck):\n",
    "    if ctlgstrun(deck) > 4:\n",
    "        return True\n",
    "    return False\n",
    "\n",
    "def shtillfl(deck): # shuffle till flush complete\n",
    "    ctable = []\n",
    "    ncrds = 0\n",
    "    while len(deck) > 0:\n",
    "        rd.shuffle(deck)\n",
    "        ctable.append(deck.pop(0))\n",
    "        ncrds += 1\n",
    "        if isflush(ctable):\n",
    "            return ncrds\n",
    "    return ncrds\n",
    "\n",
    "if __name__ == '__main__':\n",
    "    #deck = [i%4 for i in range(52)]\n",
    "    #print deck\n",
    "    #print len(deck)\n",
    "    #print ctlgstrun([0,2,3,3,3,1,1,1,1])\n",
    "    #print shtillfl(deck)\n",
    "    nruns = 20000\n",
    "    ctot = 0\n",
    "    for i in range(nruns):\n",
    "        deck = [i%4 for i in range(52)]\n",
    "        ctot += shtillfl(deck)\n",
    "    print float(ctot) / float(nruns)"
   ]
  },
  {
   "cell_type": "code",
   "execution_count": null,
   "metadata": {},
   "outputs": [],
   "source": []
  }
 ],
 "metadata": {
  "kernelspec": {
   "display_name": "Python 2",
   "language": "python",
   "name": "python2"
  },
  "language_info": {
   "codemirror_mode": {
    "name": "ipython",
    "version": 2
   },
   "file_extension": ".py",
   "mimetype": "text/x-python",
   "name": "python",
   "nbconvert_exporter": "python",
   "pygments_lexer": "ipython2",
   "version": "2.7.15"
  }
 },
 "nbformat": 4,
 "nbformat_minor": 2
}
