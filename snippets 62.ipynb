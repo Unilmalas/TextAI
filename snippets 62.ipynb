{
 "cells": [
  {
   "cell_type": "code",
   "execution_count": 1,
   "id": "c96eef5e-5e80-404c-844a-7e71228a176d",
   "metadata": {},
   "outputs": [],
   "source": [
    "# https://huggingface.co/mistralai/Mixtral-8x7B-Instruct-v0.1"
   ]
  },
  {
   "cell_type": "code",
   "execution_count": 3,
   "id": "ba176aec-b335-4276-aaae-41fcb604d120",
   "metadata": {},
   "outputs": [
    {
     "data": {
      "text/plain": [
       "12"
      ]
     },
     "execution_count": 3,
     "metadata": {},
     "output_type": "execute_result"
    }
   ],
   "source": [
    "\n",
    "def gcd(u, v):\n",
    "    if v != 0:\n",
    "        (u, v) = (v, u % v)\n",
    "    return abs(u)\n",
    "\n",
    "gcd(144, 12)"
   ]
  },
  {
   "cell_type": "code",
   "execution_count": 8,
   "id": "969101c4-bd6b-4194-b149-8afb96e0ad32",
   "metadata": {},
   "outputs": [
    {
     "data": {
      "text/plain": [
       "array([[0, 1],\n",
       "       [0, 0]])"
      ]
     },
     "execution_count": 8,
     "metadata": {},
     "output_type": "execute_result"
    }
   ],
   "source": [
    "# demo NN\n",
    "import numpy as np\n",
    "\n",
    "x0 = np.array([[1], [0]])\n",
    "w0 = np.array([[0, 1]])\n",
    "\n",
    "y = x0 * w0\n",
    "\n",
    "y"
   ]
  },
  {
   "cell_type": "code",
   "execution_count": 19,
   "id": "9e0715f8-658a-49fb-92e4-7fa109fdc688",
   "metadata": {},
   "outputs": [
    {
     "data": {
      "image/png": "[encoded data removed]",
      "text/plain": [
       "<Figure size 640x480 with 1 Axes>"
      ]
     },
     "metadata": {},
     "output_type": "display_data"
    }
   ],
   "source": [
    "import matplotlib.pyplot as plt\n",
    "import matplotlib.patches as patches\n",
    "\n",
    "x=y=0.1\n",
    "fig1 = plt.figure()\n",
    "ax1 = fig1.add_subplot(111, aspect='equal')\n",
    "patch= ax1.add_patch(patches.Rectangle((x, y), 0.5, 0.5, alpha=0.1,facecolor='red',label='Label'))\n",
    "\n",
    "centerx = x + 0.5/2 - 0.05\n",
    "centery = y + 0.5/2\n",
    "\n",
    "plt.axis('off')\n",
    "plt.text(centerx, centery,'test')\n",
    "plt.show()"
   ]
  },
  {
   "cell_type": "markdown",
   "id": "eb8fa9c2-93c6-4d6f-9acc-abcc239798bc",
   "metadata": {},
   "source": [
    "## Simple NN Demo\n"
   ]
  },
  {
   "cell_type": "code",
   "execution_count": 21,
   "id": "60e07701-e539-4768-9175-7db3d10fa856",
   "metadata": {},
   "outputs": [],
   "source": [
    "# weight --- w1 ---- h1\n",
    "#        \\ /-----w2-/  \\ w5 - output:\n",
    "#        / \\-----w3-\\  / w6 - gender\n",
    "# height --- w4 ---- h2"
   ]
  },
  {
   "cell_type": "code",
   "execution_count": 138,
   "id": "181e862f-c065-4f80-93ad-5c497650b03d",
   "metadata": {
    "scrolled": true
   },
   "outputs": [
    {
     "name": "stdout",
     "output_type": "stream",
     "text": [
      "Epoch 0 loss: 0.147\n",
      "Epoch 20 loss: 0.047\n",
      "Epoch 40 loss: 0.028\n",
      "Epoch 60 loss: 0.020\n",
      "Epoch 80 loss: 0.015\n",
      "Epoch 100 loss: 0.012\n",
      "Epoch 120 loss: 0.010\n",
      "Epoch 140 loss: 0.008\n",
      "Epoch 160 loss: 0.007\n",
      "Epoch 180 loss: 0.006\n",
      "execution time: 13.095617294311523 ms\n"
     ]
    }
   ],
   "source": [
    "# https://victorzhou.com/blog/intro-to-neural-networks/\n",
    "import numpy as np\n",
    "import time\n",
    "\n",
    "def sigmoid(x):\n",
    "  # Sigmoid activation function: f(x) = 1 / (1 + e^(-x))\n",
    "  return 1 / (1 + np.exp(-x))\n",
    "\n",
    "def deriv_sigmoid(x):\n",
    "  # Derivative of sigmoid: f'(x) = f(x) * (1 - f(x))\n",
    "  fx = sigmoid(x)\n",
    "  return fx * (1 - fx)\n",
    "\n",
    "def mse_loss(y_true, y_pred):\n",
    "  # y_true and y_pred are numpy arrays of the same length.\n",
    "  return ((y_true - y_pred) ** 2).mean()\n",
    "\n",
    "class OurNeuralNetwork:\n",
    "  '''\n",
    "  A neural network with:\n",
    "    - 2 inputs\n",
    "    - a hidden layer with 2 neurons (h1, h2)\n",
    "    - an output layer with 1 neuron (o1)\n",
    "\n",
    "  *** DISCLAIMER ***:\n",
    "  The code below is intended to be simple and educational, NOT optimal.\n",
    "  Real neural net code looks nothing like this. DO NOT use this code.\n",
    "  Instead, read/run it to understand how this specific network works.\n",
    "  '''\n",
    "  def __init__(self):\n",
    "    # Weights\n",
    "    self.w1 = np.random.normal()\n",
    "    self.w2 = np.random.normal()\n",
    "    self.w3 = np.random.normal()\n",
    "    self.w4 = np.random.normal()\n",
    "    self.w5 = np.random.normal()\n",
    "    self.w6 = np.random.normal()\n",
    "\n",
    "    # Biases\n",
    "    self.b1 = np.random.normal()\n",
    "    self.b2 = np.random.normal()\n",
    "    self.b3 = np.random.normal()\n",
    "\n",
    "  def feedforward(self, x):\n",
    "    # x is a numpy array with 2 elements.\n",
    "    h1 = sigmoid(self.w1 * x[0] + self.w2 * x[1] + self.b1)\n",
    "    h2 = sigmoid(self.w3 * x[0] + self.w4 * x[1] + self.b2)\n",
    "    o1 = sigmoid(self.w5 * h1 + self.w6 * h2 + self.b3)\n",
    "    return o1\n",
    "\n",
    "  def train(self, data, all_y_trues):\n",
    "    '''\n",
    "    - data is a (n x 2) numpy array, n = # of samples in the dataset.\n",
    "    - all_y_trues is a numpy array with n elements.\n",
    "      Elements in all_y_trues correspond to those in data.\n",
    "    '''\n",
    "    learn_rate = 0.15\n",
    "    epochs = 200 # number of times to loop through the entire dataset\n",
    "\n",
    "    for epoch in range(epochs):\n",
    "      for x, y_true in zip(data, all_y_trues):\n",
    "        # --- Do a feedforward (we'll need these values later)\n",
    "        sum_h1 = self.w1 * x[0] + self.w2 * x[1] + self.b1\n",
    "        h1 = sigmoid(sum_h1)\n",
    "\n",
    "        sum_h2 = self.w3 * x[0] + self.w4 * x[1] + self.b2\n",
    "        h2 = sigmoid(sum_h2)\n",
    "\n",
    "        sum_o1 = self.w5 * h1 + self.w6 * h2 + self.b3\n",
    "        o1 = sigmoid(sum_o1)\n",
    "        y_pred = o1\n",
    "\n",
    "        # --- Calculate partial derivatives.\n",
    "        # --- Naming: d_L_d_w1 represents \"partial L / partial w1\"\n",
    "        d_L_d_ypred = -2 * (y_true - y_pred)\n",
    "\n",
    "        # Neuron o1\n",
    "        d_ypred_d_w5 = h1 * deriv_sigmoid(sum_o1)\n",
    "        d_ypred_d_w6 = h2 * deriv_sigmoid(sum_o1)\n",
    "        d_ypred_d_b3 = deriv_sigmoid(sum_o1)\n",
    "\n",
    "        d_ypred_d_h1 = self.w5 * deriv_sigmoid(sum_o1)\n",
    "        d_ypred_d_h2 = self.w6 * deriv_sigmoid(sum_o1)\n",
    "\n",
    "        # Neuron h1\n",
    "        d_h1_d_w1 = x[0] * deriv_sigmoid(sum_h1)\n",
    "        d_h1_d_w2 = x[1] * deriv_sigmoid(sum_h1)\n",
    "        d_h1_d_b1 = deriv_sigmoid(sum_h1)\n",
    "\n",
    "        # Neuron h2\n",
    "        d_h2_d_w3 = x[0] * deriv_sigmoid(sum_h2)\n",
    "        d_h2_d_w4 = x[1] * deriv_sigmoid(sum_h2)\n",
    "        d_h2_d_b2 = deriv_sigmoid(sum_h2)\n",
    "\n",
    "        # --- Update weights and biases\n",
    "        # Neuron h1\n",
    "        self.w1 -= learn_rate * d_L_d_ypred * d_ypred_d_h1 * d_h1_d_w1\n",
    "        self.w2 -= learn_rate * d_L_d_ypred * d_ypred_d_h1 * d_h1_d_w2\n",
    "        self.b1 -= learn_rate * d_L_d_ypred * d_ypred_d_h1 * d_h1_d_b1\n",
    "\n",
    "        # Neuron h2\n",
    "        self.w3 -= learn_rate * d_L_d_ypred * d_ypred_d_h2 * d_h2_d_w3\n",
    "        self.w4 -= learn_rate * d_L_d_ypred * d_ypred_d_h2 * d_h2_d_w4\n",
    "        self.b2 -= learn_rate * d_L_d_ypred * d_ypred_d_h2 * d_h2_d_b2\n",
    "\n",
    "        # Neuron o1\n",
    "        self.w5 -= learn_rate * d_L_d_ypred * d_ypred_d_w5\n",
    "        self.w6 -= learn_rate * d_L_d_ypred * d_ypred_d_w6\n",
    "        self.b3 -= learn_rate * d_L_d_ypred * d_ypred_d_b3\n",
    "\n",
    "      # --- Calculate total loss at the end of each epoch\n",
    "      if epoch % 20 == 0:\n",
    "        y_preds = np.apply_along_axis(self.feedforward, 1, data)\n",
    "        loss = mse_loss(all_y_trues, y_preds)\n",
    "        print(\"Epoch %d loss: %.3f\" % (epoch, loss))\n",
    "\n",
    "# training dataset\n",
    "data = np.array([\n",
    "  [-2, -1],  # Alice\n",
    "  [25, 6],   # Bob\n",
    "  [17, 4],   # Charlie\n",
    "  [-15, -6], # Diana\n",
    "])\n",
    "\n",
    "all_y_trues = np.array([\n",
    "  1, # Alice\n",
    "  0, # Bob\n",
    "  0, # Charlie\n",
    "  1, # Diana\n",
    "])\n",
    "\n",
    "start = time.time()\n",
    "# Train our neural network!\n",
    "network = OurNeuralNetwork()\n",
    "network.train(data, all_y_trues)\n",
    "end = time.time()\n",
    "print(f\"execution time: {(end-start) * 10**3} ms\")"
   ]
  },
  {
   "cell_type": "code",
   "execution_count": 139,
   "id": "d05a6ad8-05cd-4625-a5d6-28eecf3684e5",
   "metadata": {},
   "outputs": [
    {
     "name": "stdout",
     "output_type": "stream",
     "text": [
      "validation loss: 0.0056283013651685886\n"
     ]
    }
   ],
   "source": [
    "# validation\n",
    "# test data\n",
    "testdata = np.array([\n",
    "  [-3, -1],  # Rachel\n",
    "  [21, 5],   # John\n",
    "])\n",
    "\n",
    "test_truth = np.array([\n",
    "  1, # Rachel\n",
    "  0, # John\n",
    "])\n",
    "\n",
    "test_preds = np.apply_along_axis(network.feedforward, 1, testdata)\n",
    "loss = mse_loss(test_truth, test_preds)\n",
    "print(f\"validation loss: {loss}\")"
   ]
  },
  {
   "cell_type": "code",
   "execution_count": 140,
   "id": "96c31a97-ad99-4b93-968f-5d3cb258abb0",
   "metadata": {},
   "outputs": [
    {
     "name": "stdout",
     "output_type": "stream",
     "text": [
      "Emily: 0.936\n",
      "Frank: 0.075\n"
     ]
    }
   ],
   "source": [
    "# Make some predictions\n",
    "emily = np.array([-7, -3]) # 128 pounds, 63 inches\n",
    "frank = np.array([20, 2])  # 155 pounds, 68 inches\n",
    "print(\"Emily: %.3f\" % network.feedforward(emily)) # 0.951 - F\n",
    "print(\"Frank: %.3f\" % network.feedforward(frank)) # 0.039 - M"
   ]
  },
  {
   "cell_type": "code",
   "execution_count": 28,
   "id": "f003e843-e16d-4645-844e-6e8eb4ecf241",
   "metadata": {},
   "outputs": [],
   "source": [
    "# how to prevent overfitting: https://programming-review.com/machine-learning/overfitting"
   ]
  },
  {
   "cell_type": "code",
   "execution_count": 144,
   "id": "57a16311-5b94-4475-a2ed-0c56713d840f",
   "metadata": {
    "scrolled": true
   },
   "outputs": [
    {
     "name": "stdout",
     "output_type": "stream",
     "text": [
      "Epoch 0 loss: 0.213\n",
      "Epoch 20 loss: 0.045\n",
      "Epoch 40 loss: 0.032\n",
      "Epoch 60 loss: 0.024\n",
      "Epoch 80 loss: 0.019\n",
      "Epoch 100 loss: 0.016\n",
      "Epoch 120 loss: 0.014\n",
      "Epoch 140 loss: 0.012\n",
      "Epoch 160 loss: 0.010\n",
      "Epoch 180 loss: 0.009\n",
      "execution time: 36.1020565032959 ms\n"
     ]
    }
   ],
   "source": [
    "import numpy as np\n",
    "import time\n",
    "\n",
    "def sigmoid(x):\n",
    "  # Sigmoid activation function: f(x) = 1 / (1 + e^(-x))\n",
    "  return 1 / (1 + np.exp(-x))\n",
    "\n",
    "def deriv_sigmoid(x):\n",
    "  # Derivative of sigmoid: f'(x) = f(x) * (1 - f(x))\n",
    "  fx = sigmoid(x)\n",
    "  return fx * (1 - fx)\n",
    "\n",
    "def mse_loss(y_true, y_pred):\n",
    "  # y_true and y_pred are numpy arrays of the same length.\n",
    "  return ((y_true - y_pred[:,0,0]) ** 2).mean()\n",
    "\n",
    "class OurNeuralNetwork:\n",
    "  '''\n",
    "  A neural network with:\n",
    "    - 2 inputs\n",
    "    - a hidden layer with 2 neurons (h1, h2)\n",
    "    - an output layer with 1 neuron (o1)\n",
    "  '''\n",
    "  def __init__(self):\n",
    "    # Weights\n",
    "    self.w0 = np.random.randn(2, 2)\n",
    "    self.w1 = np.random.randn(2, 1)\n",
    "\n",
    "    # Biases\n",
    "    self.b0 = np.random.randn(1, 2)\n",
    "    self.b1 = np.random.randn(1, 1)\n",
    "\n",
    "  def feedforward(self, x):\n",
    "      # x is a numpy array with 2 elements#\n",
    "      h0 = sigmoid(np.dot(x, self.w0) + self.b0)\n",
    "      o0 = sigmoid(np.dot(h0, self.w1) + self.b1)\n",
    "      return o0\n",
    "\n",
    "  def train(self, data, all_y_trues):\n",
    "      '''\n",
    "      - data is a (n x 2) numpy array, n = # of samples in the dataset.\n",
    "      - all_y_trues is a numpy array with n elements.\n",
    "      Elements in all_y_trues correspond to those in data.\n",
    "      '''\n",
    "      learn_rate = 0.15\n",
    "      epochs = 200 # number of times to loop through the entire dataset\n",
    "      \n",
    "      for epoch in range(epochs):\n",
    "          for x, y_true in zip(data, all_y_trues):\n",
    "              # --- Do a feedforward (we'll need these values later)\n",
    "              y_pred = self.feedforward(x)\n",
    "\n",
    "              # backpropagation\n",
    "              d_L_d_ypred = -2 * (y_true - y_pred)  # (1,2)\n",
    "              h0pre = np.dot(x, self.w0) + self.b0\n",
    "              h0 = sigmoid(h0pre)\n",
    "              dL_b1 = d_L_d_ypred * deriv_sigmoid(np.dot(h0, self.w1) + self.b1)\n",
    "              dL_w1 = dL_b1 * h0.T\n",
    "              dL_b0 = dL_b1 * np.dot(deriv_sigmoid(h0pre), self.w1)  # (1,2)\n",
    "              dL_w0 = dL_b0 * x\n",
    "              \n",
    "              # --- Update weights and biases\n",
    "              self.w1 -= learn_rate * dL_w1\n",
    "              self.b1 -= learn_rate * dL_b1\n",
    "              self.w0 -= learn_rate * dL_w0\n",
    "              self.b0 -= learn_rate * dL_b0\n",
    "          # --- Calculate total loss at the end of each epoch\n",
    "          if epoch % 20 == 0:\n",
    "              y_preds = np.apply_along_axis(self.feedforward, 1, data)\n",
    "              loss = mse_loss(all_y_trues, y_preds)\n",
    "              print(\"Epoch %d loss: %.3f\" % (epoch, loss))\n",
    "\n",
    "# training dataset\n",
    "data = np.array([\n",
    "  [-2, -1],  # Alice\n",
    "  [25, 6],   # Bob\n",
    "  [17, 4],   # Charlie\n",
    "  [-15, -6], # Diana\n",
    "])\n",
    "\n",
    "all_y_trues = np.array([\n",
    "  1, # Alice\n",
    "  0, # Bob\n",
    "  0, # Charlie\n",
    "  1, # Diana\n",
    "])\n",
    "\n",
    "start = time.time()\n",
    "# Train our neural network!\n",
    "network = OurNeuralNetwork()\n",
    "network.train(data, all_y_trues)\n",
    "end = time.time()\n",
    "print(f\"execution time: {(end-start) * 10**3} ms\")"
   ]
  },
  {
   "cell_type": "code",
   "execution_count": 145,
   "id": "234419db-5ce5-497a-baa8-b5c69c73ecfe",
   "metadata": {},
   "outputs": [
    {
     "name": "stdout",
     "output_type": "stream",
     "text": [
      "Emily: [[0.94764341]]\n",
      "Frank: [[0.08808194]]\n"
     ]
    }
   ],
   "source": [
    "# Make some predictions\n",
    "emily = np.array([-7, -3])\n",
    "frank = np.array([20, 2]) \n",
    "print(f\"Emily: {network.feedforward(emily)}\")\n",
    "print(f\"Frank: {network.feedforward(frank)}\")"
   ]
  },
  {
   "cell_type": "code",
   "execution_count": 147,
   "id": "44f93e61-2869-4a6a-90c6-9f2b585cf64a",
   "metadata": {},
   "outputs": [
    {
     "name": "stderr",
     "output_type": "stream",
     "text": [
      "Using the model-agnostic default `max_length` (=1500) to control the generation length. We recommend setting `max_new_tokens` to control the maximum length of the generation.\n"
     ]
    }
   ],
   "source": [
    "# https://www.pragnakalp.com/generate-music-using-metas-musicgen-on-colab/\n",
    "# https://til.simonwillison.net/machinelearning/musicgen\n",
    "# https://huggingface.co/spaces/facebook/MusicGen\n",
    "\n",
    "from transformers import pipeline\n",
    "import scipy\n",
    "\n",
    "synthesiser = pipeline(\"text-to-audio\", \"facebook/musicgen-small\")\n",
    "\n",
    "music = synthesiser(\"dark lo-fi music with an increasing drumbeat\", forward_params={\"do_sample\": True})\n",
    "\n",
    "scipy.io.wavfile.write(\"musicgen_out.wav\", rate=music[\"sampling_rate\"], data=music[\"audio\"])\n"
   ]
  },
  {
   "cell_type": "code",
   "execution_count": 2,
   "id": "37a02065-a78b-4839-9d0f-598778203dec",
   "metadata": {},
   "outputs": [
    {
     "name": "stderr",
     "output_type": "stream",
     "text": [
      "D:\\Anaconda\\envs\\tf-gpu\\lib\\site-packages\\torch\\nn\\utils\\weight_norm.py:30: UserWarning: torch.nn.utils.weight_norm is deprecated in favor of torch.nn.utils.parametrizations.weight_norm.\n",
      "  warnings.warn(\"torch.nn.utils.weight_norm is deprecated in favor of torch.nn.utils.parametrizations.weight_norm.\")\n"
     ]
    }
   ],
   "source": [
    "from transformers import AutoProcessor, MusicgenForConditionalGeneration\n",
    "import scipy\n",
    "\n",
    "processor = AutoProcessor.from_pretrained(\"facebook/musicgen-small\")\n",
    "model = MusicgenForConditionalGeneration.from_pretrained(\"facebook/musicgen-small\")\n",
    "\n",
    "def save(prompt, filename, num_tokens=1503):\n",
    "    inputs = processor(\n",
    "        text=[prompt],\n",
    "        padding=True,\n",
    "        return_tensors=\"pt\",\n",
    "    )\n",
    "    audio_values = model.generate(**inputs, max_new_tokens=num_tokens)\n",
    "    sampling_rate = model.config.audio_encoder.sampling_rate\n",
    "    scipy.io.wavfile.write(filename, rate=sampling_rate, data=audio_values[0, 0].numpy())\n",
    "\n",
    "save(\"classical fantasy with strings and guitars, like birds in the woods\", \"lotro0.wav\")"
   ]
  },
  {
   "cell_type": "code",
   "execution_count": 163,
   "id": "e53f11a5-b8fd-405f-8342-99c70df20cda",
   "metadata": {},
   "outputs": [
    {
     "data": {
      "text/plain": [
       "975.0"
      ]
     },
     "execution_count": 163,
     "metadata": {},
     "output_type": "execute_result"
    }
   ],
   "source": [
    "#(5724.69*4 + 26880 - 9300)/74297.99\n",
    "#74297.99*0.5/14\n",
    "#37000/0.4\n",
    "39*40/40*25"
   ]
  },
  {
   "cell_type": "code",
   "execution_count": 6,
   "id": "e357e0f6-9f35-4207-b4e9-e8ef95a8f5f4",
   "metadata": {},
   "outputs": [
    {
     "name": "stdout",
     "output_type": "stream",
     "text": [
      "[1, 2, 3] [0]\n"
     ]
    }
   ],
   "source": [
    "# https://huggingface.co/BAAI/bge-m3\n",
    "# test sentence similarity\n",
    "lst = [0, 1, 2, 3]\n",
    "\n",
    "print(lst[1:], lst[:1])"
   ]
  },
  {
   "cell_type": "code",
   "execution_count": 17,
   "id": "262a9790-8f3d-4fe5-9807-076b24cb87da",
   "metadata": {},
   "outputs": [
    {
     "name": "stdout",
     "output_type": "stream",
     "text": [
      "(['1000100', '1000100'], ['1000'])\n",
      "100010010001001000\n"
     ]
    }
   ],
   "source": [
    "\n",
    "\n",
    "def euclidrhythm(elementsleft, elementsright, lsep=0):\n",
    "    lr = len(elementsright)\n",
    "    ll = len(elementsleft)\n",
    "    if lr < 2 and elementsleft[0] == elementsleft[-1]:\n",
    "        return elementsleft, elementsright\n",
    "    if lr > 1:\n",
    "        elementsleft = [el + elementsright.pop() if idx < lr else el for idx, el in enumerate(elementsleft)]\n",
    "        return euclidrhythm(elementsleft, elementsright, ll-lr+1)\n",
    "    elementsright = [el for el in elementsleft[lsep:]]\n",
    "    elementsleft = [el for el in elementsleft[:lsep]]\n",
    "    return euclidrhythm(elementsleft, elementsright, lr)\n",
    "\n",
    "def E(k, n):\n",
    "    s = [[1] if i < k else [0] for i in range(n)]\n",
    "    d = n - k\n",
    "    n = max(k, d)\n",
    "    k = min(k, d)\n",
    "    z = d\n",
    "    while z > 0 or k > 1:\n",
    "        for i in range(k):\n",
    "            s[i].extend(s[len(s) - 1 - i])\n",
    "        s = s[:-k]\n",
    "        z = z - k\n",
    "        d = n - k\n",
    "        n = max(k, d)\n",
    "        k = min(k, d)\n",
    "    return [item for sublist in s for item in sublist]\n",
    "\n",
    "el = ['1'] * 5\n",
    "er = ['0'] * 13\n",
    "print(euclidrhythm(el, er))\n",
    "print(''.join(map(str, E(5, 18))))"
   ]
  },
  {
   "cell_type": "code",
   "execution_count": 22,
   "id": "25e42e2a-cbc7-44c4-a1fb-ba375596eebe",
   "metadata": {},
   "outputs": [
    {
     "name": "stdin",
     "output_type": "stream",
     "text": [
      "Please enter text to be summarized: Lowering low-density lipoprotein cholesterol (LDL-C) levels decreases major cardiovascular events and is recommended for patients at elevated cardiovascular risk. However, appropriate doses of statin therapy are often insufficient to reduce LDL-C in accordance with current guidelines. In such cases, treatment could be supplemented with nonstatin lipid-lowering therapy. Methods and Results A systematic literature review and network meta-analysis were conducted on randomized controlled trials of nonstatin lipid-lowering therapy added to maximally tolerated statins, including statin-intolerant patients. The primary objective was to assess relative efficacy of nonstatin lipid-lowering therapy in reducing LDL-C levels at week 12. Secondary objectives included the following: LDL-C level reduction at week 24 and change in non-high-density lipoprotein cholesterol and apolipoprotein B at week 12. There were 48 randomized controlled trials included in the primary network meta-analysis. All nonstatin agents significantly reduced LDL-C from baseline versus placebo, regardless of background therapy. At week 12, evolocumab, 140 mg every 2 weeks (Q2W)/420 mg once a month, and alirocumab, 150 mg Q2W, were the most efficacious regimens, followed by alirocumab, 75 mg Q2W, alirocumab, 300 mg once a month, inclisiran, bempedoic acid/ezetimibe fixed-dose combination, and ezetimibe and bempedoic acid used as monotherapies. Primary end point results were generally consistent at week 24, and for other lipid end points at week 12. Conclusions Evolocumab, 140 mg Q2W/420 mg once a month, and alirocumab, 150 mg Q2W, were consistently the most efficacious nonstatin regimens when added to maximally tolerated statins to lower LDL-C, non-high-density lipoprotein cholesterol, and apolipoprotein B levels and facilitate attainment of guideline-recommended risk-stratified lipoprotein levels.\n"
     ]
    },
    {
     "name": "stdout",
     "output_type": "stream",
     "text": [
      "[{'summary_text': 'Lowering low-density lipoprotein cholesterol (LDL-C) levels decreases major cardiovascular events. appropriate doses of statin therapy are often insufficient to reduce LDL-C in accordance with current guidelines. Treatment could be supplemented with nonstatin lipid-lowering therapy. Evolocumab, 140 mg every 2 weeks (Q2W)/420 mg once a month,'}]\n"
     ]
    }
   ],
   "source": [
    "# https://huggingface.co/facebook/bart-large-cnn?text=Baseline+disease+severity+of+patients+with+Ulcerative+Colitis+influences+rapid+symptom+relief+under%0D%0Afilgotinib+treatment%3A+post+hoc+analysis+of+the+phase+2b%2F3+SELECTION+study%0D%0A%0D%0APlease+enter+text+to+be+summarized%3A+Background%3A+Filgotinib+%28FIL%29+is+an+oral%2C+once-daily%2C+Janus+kinase+1+preferential+inhibitor+approved+in+Europe+and+Japan+for+the+treatment+of+ulcerative+colitis+%28UC%29.+A+recent+analysis+of+SELECTION+trial+data+%28NCT02914522%29+showed+rapid+and+sustained+improvements+in+UC+symptoms+with+FIL+200+mg+%28FIL200%29+treatment+in+patients+with+moderate-to-severe+UC.1+Here+we+assess+symptomatic+remission+rates+over+time+with+FIL200+induction+treatment+according+to+baseline+UC+disease+severity+%28partial+Mayo+Clinic+Score+%5BpMCS%5D%29.+Methods%3A+SELECTION+was+a+phase+2b%2F3+randomized%2C+double-blind%2C+placebo-controlled+study.+Patients+aged+18%E2%80%9375+years+were+randomized+%282%3A2%3A1%29+to+receive+FIL200%2C+FIL+100+mg+or+placebo+once+daily+for+11+weeks+in+induction+study+A+%28biologic-naive+patients%29+or+induction+study+B+%28biologicexperienced+patients%29.+In+this+post+hoc+analysis%2C+proportions+of+patients+with+symptomatic+remission+%28Mayo+rectal+bleeding+sub-score+of+0+and+Mayo+stool+frequency+sub-score+of+%E2%89%A4+1%29%2C+from+days+2+to+15+and+weeks+2+to+10+of+the+induction+study%2C+were+analysed+at+each+timepoint+by+baseline+pMCS+%28pMCS+%E2%89%A57+and+pMCS+%3C7+%5Bcut-off+previously+used+for+severe+and+moderate+disease%2C+respectively%5D2%29.+Symptomatic+remission+rates+were+compared+between+the+pMCS+%E2%89%A57+and+pMCS+%3C7+groups+within+the+FIL200+and+placebo+arms+using+a+Cochran%E2%80%93Mantel%E2%80%93Haenszel+test+adjusted+by+study+randomization+stratification+factors.+Nominal+p+values+%3C0.05+were+considered+statistically+significant.+Results%3A+At+day+2%2C+symptomatic+remission+rates+with+FIL200+treatment+were+significantly+higher+in+patients+with+baseline+pMCS+%3C7+than+in+those+with+baseline+pMCS+%E2%89%A57+%288.4%25+vs+1.1%25%2C+p%3D0.009+%5Binduction+study+A%5D%3B+8.8%25+vs+0.7%25%2C+p%3D0.004+%5Binduction+study+B%5D%29+%28Figure+A+and+B%29.+From+days+2+to+15%2C+symptomatic+remission+rates+increased+in+both+groups+and%2C+except+for+day+7+for+induction+study+A+and+day+9+for+induction+study+B%2C+continued+to+be+significantly+higher+in+those+with+baseline+pMCS+%3C7.+From+week+2%2C+symptomatic+remission+rates+with+FIL200+treatment+generally+continued+to+increase+in+both+pMCS+%E2%89%A57+and+pMCS+%3C7+groups+%28Figure+C+and+D%29.+By+week+10%2C+symptomatic+remission+rates+with+FIL200+treatment+were+no+longer+significantly+different+between+those+with+baseline+pMCS+%3C7+and+those+with+baseline+pMCS+%E2%89%A57+%2854.8%25+vs+43.3%25%2C+p%3D0.124+%5Binduction+study+A%5D%3B+39.5%25+vs+26.4%25%2C+p%3D0.099+%5Binduction+study+B%5D%29.+Conclusion%3A+Symptomatic+response+to+FIL200+occurs+more+rapidly+in+patients+with+lower+UC+disease+severity+than+in+those+with+higher+UC+disease+severity.+However%2C+converging+response+rates+over+10+weeks+of+treatment+leads+to+symptomatic+remission+regardless+of+baseline+UC+disease+severity\n",
    "\n",
    "from transformers import pipeline\n",
    "\n",
    "summarizer = pipeline(\"summarization\", model=\"facebook/bart-large-cnn\")\n",
    "\n",
    "#ARTICLE = \"\"\" xxxx\n",
    "#\"\"\"\n",
    "ARTICLE = input(\"Please enter text to be summarized:\")\n",
    "print(summarizer(ARTICLE, max_length=80, min_length=60, do_sample=False))"
   ]
  },
  {
   "cell_type": "code",
   "execution_count": 14,
   "id": "da9116b1-db7f-40e5-b304-67e2f28f80c8",
   "metadata": {},
   "outputs": [
    {
     "name": "stdout",
     "output_type": "stream",
     "text": [
      "-522308348580425 -0.09090909090909091\n"
     ]
    }
   ],
   "source": [
    "\n",
    "\n",
    "def fibfun(x, n=20):\n",
    "    return sum([(x-x*x)**i for i in range(n)])\n",
    "\n",
    "x = 3\n",
    "print(fibfun(x), 1 / (1-x-x*x))"
   ]
  },
  {
   "cell_type": "code",
   "execution_count": 34,
   "id": "da4c2dad-701d-4416-95a0-e23bdf386176",
   "metadata": {},
   "outputs": [
    {
     "name": "stdout",
     "output_type": "stream",
     "text": [
      "     Entity Code  Year  Number of ongoing wars - Conflict_type: civil war  \\\n",
      "0  Americas  NaN  1800                                                  0   \n",
      "1  Americas  NaN  1801                                                  0   \n",
      "2  Americas  NaN  1802                                                  0   \n",
      "3  Americas  NaN  1803                                                  0   \n",
      "4  Americas  NaN  1804                                                  0   \n",
      "\n",
      "   Number of ongoing wars - Conflict_type: others (non-civil)  \n",
      "0                                                  0           \n",
      "1                                                  0           \n",
      "2                                                  0           \n",
      "3                                                  0           \n",
      "4                                                  0           \n",
      "Index(['Entity', 'Code', 'Year',\n",
      "       'Number of ongoing wars - Conflict_type: civil war',\n",
      "       'Number of ongoing wars - Conflict_type: others (non-civil)'],\n",
      "      dtype='object')\n"
     ]
    }
   ],
   "source": [
    "import pandas as pd\n",
    "import os\n",
    "\n",
    "\n",
    "MY_PATH = r'C:\\Users\\bscho\\Desktop'\n",
    "os.chdir(MY_PATH)\n",
    "\n",
    "df = pd.read_csv('number-of-wars-project-mars.csv')\n",
    "pd.set_option(\"display.precision\", 2)\n",
    "\n",
    "print(df.head())\n",
    "print(df.columns)"
   ]
  },
  {
   "cell_type": "code",
   "execution_count": 42,
   "id": "ef799e65-a784-4310-b507-53acb4ceac5f",
   "metadata": {},
   "outputs": [],
   "source": [
    "# https://www.kaggle.com/code/kashnitsky/topic-1-exploratory-data-analysis-with-pandas/notebook"
   ]
  },
  {
   "cell_type": "code",
   "execution_count": 35,
   "id": "94afa954-0c9b-4d5e-8076-f8608922900e",
   "metadata": {},
   "outputs": [
    {
     "data": {
      "text/html": [
       "<div>\n",
       "<style scoped>\n",
       "    .dataframe tbody tr th:only-of-type {\n",
       "        vertical-align: middle;\n",
       "    }\n",
       "\n",
       "    .dataframe tbody tr th {\n",
       "        vertical-align: top;\n",
       "    }\n",
       "\n",
       "    .dataframe thead th {\n",
       "        text-align: right;\n",
       "    }\n",
       "</style>\n",
       "<table border=\"1\" class=\"dataframe\">\n",
       "  <thead>\n",
       "    <tr style=\"text-align: right;\">\n",
       "      <th></th>\n",
       "      <th>Year</th>\n",
       "      <th>Number of ongoing wars - Conflict_type: civil war</th>\n",
       "      <th>Number of ongoing wars - Conflict_type: others (non-civil)</th>\n",
       "    </tr>\n",
       "  </thead>\n",
       "  <tbody>\n",
       "    <tr>\n",
       "      <th>count</th>\n",
       "      <td>1272.00</td>\n",
       "      <td>1272.00</td>\n",
       "      <td>1272.00</td>\n",
       "    </tr>\n",
       "    <tr>\n",
       "      <th>mean</th>\n",
       "      <td>1905.50</td>\n",
       "      <td>0.50</td>\n",
       "      <td>0.71</td>\n",
       "    </tr>\n",
       "    <tr>\n",
       "      <th>std</th>\n",
       "      <td>61.22</td>\n",
       "      <td>0.94</td>\n",
       "      <td>1.09</td>\n",
       "    </tr>\n",
       "    <tr>\n",
       "      <th>min</th>\n",
       "      <td>1800.00</td>\n",
       "      <td>0.00</td>\n",
       "      <td>0.00</td>\n",
       "    </tr>\n",
       "    <tr>\n",
       "      <th>25%</th>\n",
       "      <td>1852.75</td>\n",
       "      <td>0.00</td>\n",
       "      <td>0.00</td>\n",
       "    </tr>\n",
       "    <tr>\n",
       "      <th>50%</th>\n",
       "      <td>1905.50</td>\n",
       "      <td>0.00</td>\n",
       "      <td>0.00</td>\n",
       "    </tr>\n",
       "    <tr>\n",
       "      <th>75%</th>\n",
       "      <td>1958.25</td>\n",
       "      <td>1.00</td>\n",
       "      <td>1.00</td>\n",
       "    </tr>\n",
       "    <tr>\n",
       "      <th>max</th>\n",
       "      <td>2011.00</td>\n",
       "      <td>7.00</td>\n",
       "      <td>8.00</td>\n",
       "    </tr>\n",
       "  </tbody>\n",
       "</table>\n",
       "</div>"
      ],
      "text/plain": [
       "          Year  Number of ongoing wars - Conflict_type: civil war  \\\n",
       "count  1272.00                                            1272.00   \n",
       "mean   1905.50                                               0.50   \n",
       "std      61.22                                               0.94   \n",
       "min    1800.00                                               0.00   \n",
       "25%    1852.75                                               0.00   \n",
       "50%    1905.50                                               0.00   \n",
       "75%    1958.25                                               1.00   \n",
       "max    2011.00                                               7.00   \n",
       "\n",
       "       Number of ongoing wars - Conflict_type: others (non-civil)  \n",
       "count                                            1272.00           \n",
       "mean                                                0.71           \n",
       "std                                                 1.09           \n",
       "min                                                 0.00           \n",
       "25%                                                 0.00           \n",
       "50%                                                 0.00           \n",
       "75%                                                 1.00           \n",
       "max                                                 8.00           "
      ]
     },
     "execution_count": 35,
     "metadata": {},
     "output_type": "execute_result"
    }
   ],
   "source": [
    "df.describe()\n",
    "# df.describe(include=[\"object\", \"bool\"])"
   ]
  },
  {
   "cell_type": "code",
   "execution_count": 36,
   "id": "0ed6bb66-78fe-48fb-8226-a8d84b7d1573",
   "metadata": {},
   "outputs": [
    {
     "data": {
      "text/html": [
       "<div>\n",
       "<style scoped>\n",
       "    .dataframe tbody tr th:only-of-type {\n",
       "        vertical-align: middle;\n",
       "    }\n",
       "\n",
       "    .dataframe tbody tr th {\n",
       "        vertical-align: top;\n",
       "    }\n",
       "\n",
       "    .dataframe thead th {\n",
       "        text-align: right;\n",
       "    }\n",
       "</style>\n",
       "<table border=\"1\" class=\"dataframe\">\n",
       "  <thead>\n",
       "    <tr style=\"text-align: right;\">\n",
       "      <th></th>\n",
       "      <th>Entity</th>\n",
       "      <th>Code</th>\n",
       "      <th>Year</th>\n",
       "      <th>Number of ongoing wars - Conflict_type: civil war</th>\n",
       "      <th>Number of ongoing wars - Conflict_type: others (non-civil)</th>\n",
       "    </tr>\n",
       "  </thead>\n",
       "  <tbody>\n",
       "    <tr>\n",
       "      <th>1254</th>\n",
       "      <td>World</td>\n",
       "      <td>OWID_WRL</td>\n",
       "      <td>1994</td>\n",
       "      <td>7</td>\n",
       "      <td>1</td>\n",
       "    </tr>\n",
       "    <tr>\n",
       "      <th>1252</th>\n",
       "      <td>World</td>\n",
       "      <td>OWID_WRL</td>\n",
       "      <td>1992</td>\n",
       "      <td>6</td>\n",
       "      <td>1</td>\n",
       "    </tr>\n",
       "    <tr>\n",
       "      <th>1255</th>\n",
       "      <td>World</td>\n",
       "      <td>OWID_WRL</td>\n",
       "      <td>1995</td>\n",
       "      <td>5</td>\n",
       "      <td>0</td>\n",
       "    </tr>\n",
       "    <tr>\n",
       "      <th>542</th>\n",
       "      <td>Europe</td>\n",
       "      <td>NaN</td>\n",
       "      <td>1918</td>\n",
       "      <td>5</td>\n",
       "      <td>2</td>\n",
       "    </tr>\n",
       "    <tr>\n",
       "      <th>1178</th>\n",
       "      <td>World</td>\n",
       "      <td>OWID_WRL</td>\n",
       "      <td>1918</td>\n",
       "      <td>5</td>\n",
       "      <td>3</td>\n",
       "    </tr>\n",
       "  </tbody>\n",
       "</table>\n",
       "</div>"
      ],
      "text/plain": [
       "      Entity      Code  Year  \\\n",
       "1254   World  OWID_WRL  1994   \n",
       "1252   World  OWID_WRL  1992   \n",
       "1255   World  OWID_WRL  1995   \n",
       "542   Europe       NaN  1918   \n",
       "1178   World  OWID_WRL  1918   \n",
       "\n",
       "      Number of ongoing wars - Conflict_type: civil war  \\\n",
       "1254                                                  7   \n",
       "1252                                                  6   \n",
       "1255                                                  5   \n",
       "542                                                   5   \n",
       "1178                                                  5   \n",
       "\n",
       "      Number of ongoing wars - Conflict_type: others (non-civil)  \n",
       "1254                                                  1           \n",
       "1252                                                  1           \n",
       "1255                                                  0           \n",
       "542                                                   2           \n",
       "1178                                                  3           "
      ]
     },
     "execution_count": 36,
     "metadata": {},
     "output_type": "execute_result"
    }
   ],
   "source": [
    "df.sort_values(by=\"Number of ongoing wars - Conflict_type: civil war\", ascending=False).head()"
   ]
  },
  {
   "cell_type": "code",
   "execution_count": 37,
   "id": "6b9255d1-264b-4325-b194-cc4a4dda5f5c",
   "metadata": {},
   "outputs": [
    {
     "data": {
      "text/html": [
       "<div>\n",
       "<style scoped>\n",
       "    .dataframe tbody tr th:only-of-type {\n",
       "        vertical-align: middle;\n",
       "    }\n",
       "\n",
       "    .dataframe tbody tr th {\n",
       "        vertical-align: top;\n",
       "    }\n",
       "\n",
       "    .dataframe thead th {\n",
       "        text-align: right;\n",
       "    }\n",
       "</style>\n",
       "<table border=\"1\" class=\"dataframe\">\n",
       "  <thead>\n",
       "    <tr style=\"text-align: right;\">\n",
       "      <th></th>\n",
       "      <th>Entity</th>\n",
       "      <th>Code</th>\n",
       "      <th>Year</th>\n",
       "      <th>Number of ongoing wars - Conflict_type: civil war</th>\n",
       "      <th>Number of ongoing wars - Conflict_type: others (non-civil)</th>\n",
       "    </tr>\n",
       "  </thead>\n",
       "  <tbody>\n",
       "    <tr>\n",
       "      <th>0</th>\n",
       "      <td>Americas</td>\n",
       "      <td>NaN</td>\n",
       "      <td>1800</td>\n",
       "      <td>0</td>\n",
       "      <td>0</td>\n",
       "    </tr>\n",
       "    <tr>\n",
       "      <th>212</th>\n",
       "      <td>Asia and Oceania</td>\n",
       "      <td>NaN</td>\n",
       "      <td>1800</td>\n",
       "      <td>0</td>\n",
       "      <td>0</td>\n",
       "    </tr>\n",
       "    <tr>\n",
       "      <th>424</th>\n",
       "      <td>Europe</td>\n",
       "      <td>NaN</td>\n",
       "      <td>1800</td>\n",
       "      <td>0</td>\n",
       "      <td>1</td>\n",
       "    </tr>\n",
       "    <tr>\n",
       "      <th>636</th>\n",
       "      <td>North Africa and the Middle East</td>\n",
       "      <td>NaN</td>\n",
       "      <td>1800</td>\n",
       "      <td>0</td>\n",
       "      <td>0</td>\n",
       "    </tr>\n",
       "    <tr>\n",
       "      <th>848</th>\n",
       "      <td>Sub-Saharan Africa</td>\n",
       "      <td>NaN</td>\n",
       "      <td>1800</td>\n",
       "      <td>0</td>\n",
       "      <td>0</td>\n",
       "    </tr>\n",
       "  </tbody>\n",
       "</table>\n",
       "</div>"
      ],
      "text/plain": [
       "                               Entity Code  Year  \\\n",
       "0                            Americas  NaN  1800   \n",
       "212                  Asia and Oceania  NaN  1800   \n",
       "424                            Europe  NaN  1800   \n",
       "636  North Africa and the Middle East  NaN  1800   \n",
       "848                Sub-Saharan Africa  NaN  1800   \n",
       "\n",
       "     Number of ongoing wars - Conflict_type: civil war  \\\n",
       "0                                                    0   \n",
       "212                                                  0   \n",
       "424                                                  0   \n",
       "636                                                  0   \n",
       "848                                                  0   \n",
       "\n",
       "     Number of ongoing wars - Conflict_type: others (non-civil)  \n",
       "0                                                    0           \n",
       "212                                                  0           \n",
       "424                                                  1           \n",
       "636                                                  0           \n",
       "848                                                  0           "
      ]
     },
     "execution_count": 37,
     "metadata": {},
     "output_type": "execute_result"
    }
   ],
   "source": [
    "df.sort_values(by=[\"Year\", \"Number of ongoing wars - Conflict_type: civil war\"], ascending=[True, False]).head()"
   ]
  },
  {
   "cell_type": "code",
   "execution_count": 38,
   "id": "54d7897c-1e04-4b7c-9137-f638dac8bbc6",
   "metadata": {},
   "outputs": [
    {
     "data": {
      "text/plain": [
       "0.49842767295597484"
      ]
     },
     "execution_count": 38,
     "metadata": {},
     "output_type": "execute_result"
    }
   ],
   "source": [
    "df[\"Number of ongoing wars - Conflict_type: civil war\"].mean()"
   ]
  },
  {
   "cell_type": "code",
   "execution_count": 69,
   "id": "9278c1b2-aa11-43ad-908d-98038885256c",
   "metadata": {},
   "outputs": [
    {
     "data": {
      "text/html": [
       "<div>\n",
       "<style scoped>\n",
       "    .dataframe tbody tr th:only-of-type {\n",
       "        vertical-align: middle;\n",
       "    }\n",
       "\n",
       "    .dataframe tbody tr th {\n",
       "        vertical-align: top;\n",
       "    }\n",
       "\n",
       "    .dataframe thead th {\n",
       "        text-align: right;\n",
       "    }\n",
       "</style>\n",
       "<table border=\"1\" class=\"dataframe\">\n",
       "  <thead>\n",
       "    <tr style=\"text-align: right;\">\n",
       "      <th></th>\n",
       "      <th>Entity</th>\n",
       "      <th>Code</th>\n",
       "      <th>Year</th>\n",
       "      <th>Number of ongoing wars - Conflict_type: civil war</th>\n",
       "      <th>Number of ongoing wars - Conflict_type: others (non-civil)</th>\n",
       "    </tr>\n",
       "  </thead>\n",
       "  <tbody>\n",
       "    <tr>\n",
       "      <th>24</th>\n",
       "      <td>Americas</td>\n",
       "      <td>NaN</td>\n",
       "      <td>1824</td>\n",
       "      <td>1</td>\n",
       "      <td>0</td>\n",
       "    </tr>\n",
       "    <tr>\n",
       "      <th>28</th>\n",
       "      <td>Americas</td>\n",
       "      <td>NaN</td>\n",
       "      <td>1828</td>\n",
       "      <td>1</td>\n",
       "      <td>2</td>\n",
       "    </tr>\n",
       "    <tr>\n",
       "      <th>29</th>\n",
       "      <td>Americas</td>\n",
       "      <td>NaN</td>\n",
       "      <td>1829</td>\n",
       "      <td>1</td>\n",
       "      <td>1</td>\n",
       "    </tr>\n",
       "    <tr>\n",
       "      <th>30</th>\n",
       "      <td>Americas</td>\n",
       "      <td>NaN</td>\n",
       "      <td>1830</td>\n",
       "      <td>1</td>\n",
       "      <td>0</td>\n",
       "    </tr>\n",
       "    <tr>\n",
       "      <th>31</th>\n",
       "      <td>Americas</td>\n",
       "      <td>NaN</td>\n",
       "      <td>1831</td>\n",
       "      <td>1</td>\n",
       "      <td>0</td>\n",
       "    </tr>\n",
       "  </tbody>\n",
       "</table>\n",
       "</div>"
      ],
      "text/plain": [
       "      Entity Code  Year  Number of ongoing wars - Conflict_type: civil war  \\\n",
       "24  Americas  NaN  1824                                                  1   \n",
       "28  Americas  NaN  1828                                                  1   \n",
       "29  Americas  NaN  1829                                                  1   \n",
       "30  Americas  NaN  1830                                                  1   \n",
       "31  Americas  NaN  1831                                                  1   \n",
       "\n",
       "    Number of ongoing wars - Conflict_type: others (non-civil)  \n",
       "24                                                  0           \n",
       "28                                                  2           \n",
       "29                                                  1           \n",
       "30                                                  0           \n",
       "31                                                  0           "
      ]
     },
     "execution_count": 69,
     "metadata": {},
     "output_type": "execute_result"
    }
   ],
   "source": [
    "df[df[\"Number of ongoing wars - Conflict_type: civil war\"] == 1].head()"
   ]
  },
  {
   "cell_type": "code",
   "execution_count": 40,
   "id": "06694cce-5c34-4a8f-a4c3-ccb36a12e30e",
   "metadata": {},
   "outputs": [
    {
     "data": {
      "text/html": [
       "<div>\n",
       "<style scoped>\n",
       "    .dataframe tbody tr th:only-of-type {\n",
       "        vertical-align: middle;\n",
       "    }\n",
       "\n",
       "    .dataframe tbody tr th {\n",
       "        vertical-align: top;\n",
       "    }\n",
       "\n",
       "    .dataframe thead th {\n",
       "        text-align: right;\n",
       "    }\n",
       "</style>\n",
       "<table border=\"1\" class=\"dataframe\">\n",
       "  <thead>\n",
       "    <tr style=\"text-align: right;\">\n",
       "      <th></th>\n",
       "      <th>Entity</th>\n",
       "      <th>Code</th>\n",
       "      <th>Year</th>\n",
       "      <th>Number of ongoing wars - Conflict_type: civil war</th>\n",
       "      <th>Number of ongoing wars - Conflict_type: others (non-civil)</th>\n",
       "    </tr>\n",
       "  </thead>\n",
       "  <tbody>\n",
       "    <tr>\n",
       "      <th>1060</th>\n",
       "      <td>World</td>\n",
       "      <td>OWID_WRL</td>\n",
       "      <td>1800</td>\n",
       "      <td>0</td>\n",
       "      <td>1</td>\n",
       "    </tr>\n",
       "    <tr>\n",
       "      <th>1061</th>\n",
       "      <td>World</td>\n",
       "      <td>OWID_WRL</td>\n",
       "      <td>1801</td>\n",
       "      <td>0</td>\n",
       "      <td>3</td>\n",
       "    </tr>\n",
       "    <tr>\n",
       "      <th>1062</th>\n",
       "      <td>World</td>\n",
       "      <td>OWID_WRL</td>\n",
       "      <td>1802</td>\n",
       "      <td>0</td>\n",
       "      <td>1</td>\n",
       "    </tr>\n",
       "    <tr>\n",
       "      <th>1063</th>\n",
       "      <td>World</td>\n",
       "      <td>OWID_WRL</td>\n",
       "      <td>1803</td>\n",
       "      <td>0</td>\n",
       "      <td>2</td>\n",
       "    </tr>\n",
       "    <tr>\n",
       "      <th>1064</th>\n",
       "      <td>World</td>\n",
       "      <td>OWID_WRL</td>\n",
       "      <td>1804</td>\n",
       "      <td>1</td>\n",
       "      <td>3</td>\n",
       "    </tr>\n",
       "  </tbody>\n",
       "</table>\n",
       "</div>"
      ],
      "text/plain": [
       "     Entity      Code  Year  \\\n",
       "1060  World  OWID_WRL  1800   \n",
       "1061  World  OWID_WRL  1801   \n",
       "1062  World  OWID_WRL  1802   \n",
       "1063  World  OWID_WRL  1803   \n",
       "1064  World  OWID_WRL  1804   \n",
       "\n",
       "      Number of ongoing wars - Conflict_type: civil war  \\\n",
       "1060                                                  0   \n",
       "1061                                                  0   \n",
       "1062                                                  0   \n",
       "1063                                                  0   \n",
       "1064                                                  1   \n",
       "\n",
       "      Number of ongoing wars - Conflict_type: others (non-civil)  \n",
       "1060                                                  1           \n",
       "1061                                                  3           \n",
       "1062                                                  1           \n",
       "1063                                                  2           \n",
       "1064                                                  3           "
      ]
     },
     "execution_count": 40,
     "metadata": {},
     "output_type": "execute_result"
    }
   ],
   "source": [
    "df[df[\"Entity\"].apply(lambda state: state[0] == \"W\")].head()"
   ]
  },
  {
   "cell_type": "code",
   "execution_count": 41,
   "id": "0693350b-5415-47bf-9d76-8c9e14a97190",
   "metadata": {},
   "outputs": [
    {
     "data": {
      "text/html": [
       "<div>\n",
       "<style scoped>\n",
       "    .dataframe tbody tr th:only-of-type {\n",
       "        vertical-align: middle;\n",
       "    }\n",
       "\n",
       "    .dataframe tbody tr th {\n",
       "        vertical-align: top;\n",
       "    }\n",
       "\n",
       "    .dataframe thead th {\n",
       "        text-align: right;\n",
       "    }\n",
       "</style>\n",
       "<table border=\"1\" class=\"dataframe\">\n",
       "  <thead>\n",
       "    <tr style=\"text-align: right;\">\n",
       "      <th></th>\n",
       "      <th>Number of ongoing wars - Conflict_type: civil war</th>\n",
       "      <th>Number of ongoing wars - Conflict_type: others (non-civil)</th>\n",
       "    </tr>\n",
       "    <tr>\n",
       "      <th>Entity</th>\n",
       "      <th></th>\n",
       "      <th></th>\n",
       "    </tr>\n",
       "  </thead>\n",
       "  <tbody>\n",
       "    <tr>\n",
       "      <th>Americas</th>\n",
       "      <td>0.38</td>\n",
       "      <td>0.26</td>\n",
       "    </tr>\n",
       "    <tr>\n",
       "      <th>Asia and Oceania</th>\n",
       "      <td>0.44</td>\n",
       "      <td>0.74</td>\n",
       "    </tr>\n",
       "    <tr>\n",
       "      <th>Europe</th>\n",
       "      <td>0.30</td>\n",
       "      <td>0.32</td>\n",
       "    </tr>\n",
       "    <tr>\n",
       "      <th>North Africa and the Middle East</th>\n",
       "      <td>0.17</td>\n",
       "      <td>0.54</td>\n",
       "    </tr>\n",
       "    <tr>\n",
       "      <th>Sub-Saharan Africa</th>\n",
       "      <td>0.20</td>\n",
       "      <td>0.30</td>\n",
       "    </tr>\n",
       "    <tr>\n",
       "      <th>World</th>\n",
       "      <td>1.50</td>\n",
       "      <td>2.08</td>\n",
       "    </tr>\n",
       "  </tbody>\n",
       "</table>\n",
       "</div>"
      ],
      "text/plain": [
       "                                  Number of ongoing wars - Conflict_type: civil war  \\\n",
       "Entity                                                                                \n",
       "Americas                                                                       0.38   \n",
       "Asia and Oceania                                                               0.44   \n",
       "Europe                                                                         0.30   \n",
       "North Africa and the Middle East                                               0.17   \n",
       "Sub-Saharan Africa                                                             0.20   \n",
       "World                                                                          1.50   \n",
       "\n",
       "                                  Number of ongoing wars - Conflict_type: others (non-civil)  \n",
       "Entity                                                                                        \n",
       "Americas                                                                       0.26           \n",
       "Asia and Oceania                                                               0.74           \n",
       "Europe                                                                         0.32           \n",
       "North Africa and the Middle East                                               0.54           \n",
       "Sub-Saharan Africa                                                             0.30           \n",
       "World                                                                          2.08           "
      ]
     },
     "execution_count": 41,
     "metadata": {},
     "output_type": "execute_result"
    }
   ],
   "source": [
    "df.pivot_table(\n",
    "    [\"Number of ongoing wars - Conflict_type: civil war\", \"Number of ongoing wars - Conflict_type: others (non-civil)\"],\n",
    "    [\"Entity\"],\n",
    "    aggfunc=\"mean\",\n",
    ")"
   ]
  },
  {
   "cell_type": "code",
   "execution_count": 55,
   "id": "ab981d31-61da-4b99-91c4-5cd0b6d46aaa",
   "metadata": {},
   "outputs": [
    {
     "data": {
      "text/html": [
       "<div>\n",
       "<style scoped>\n",
       "    .dataframe tbody tr th:only-of-type {\n",
       "        vertical-align: middle;\n",
       "    }\n",
       "\n",
       "    .dataframe tbody tr th {\n",
       "        vertical-align: top;\n",
       "    }\n",
       "\n",
       "    .dataframe thead th {\n",
       "        text-align: right;\n",
       "    }\n",
       "</style>\n",
       "<table border=\"1\" class=\"dataframe\">\n",
       "  <thead>\n",
       "    <tr style=\"text-align: right;\">\n",
       "      <th></th>\n",
       "      <th>Year</th>\n",
       "      <th>Number of ongoing wars - Conflict_type: civil war</th>\n",
       "    </tr>\n",
       "  </thead>\n",
       "  <tbody>\n",
       "    <tr>\n",
       "      <th>1060</th>\n",
       "      <td>1800</td>\n",
       "      <td>0</td>\n",
       "    </tr>\n",
       "    <tr>\n",
       "      <th>1061</th>\n",
       "      <td>1801</td>\n",
       "      <td>0</td>\n",
       "    </tr>\n",
       "    <tr>\n",
       "      <th>1062</th>\n",
       "      <td>1802</td>\n",
       "      <td>0</td>\n",
       "    </tr>\n",
       "    <tr>\n",
       "      <th>1063</th>\n",
       "      <td>1803</td>\n",
       "      <td>0</td>\n",
       "    </tr>\n",
       "    <tr>\n",
       "      <th>1064</th>\n",
       "      <td>1804</td>\n",
       "      <td>1</td>\n",
       "    </tr>\n",
       "  </tbody>\n",
       "</table>\n",
       "</div>"
      ],
      "text/plain": [
       "      Year  Number of ongoing wars - Conflict_type: civil war\n",
       "1060  1800                                                  0\n",
       "1061  1801                                                  0\n",
       "1062  1802                                                  0\n",
       "1063  1803                                                  0\n",
       "1064  1804                                                  1"
      ]
     },
     "execution_count": 55,
     "metadata": {},
     "output_type": "execute_result"
    }
   ],
   "source": [
    "df.loc[df[\"Entity\"].apply(lambda state: state[0] == \"W\")][[\"Year\", \"Number of ongoing wars - Conflict_type: civil war\"]].head()"
   ]
  },
  {
   "cell_type": "code",
   "execution_count": 60,
   "id": "0ec46c65-2519-4122-ae0b-934a2a15b35d",
   "metadata": {},
   "outputs": [
    {
     "data": {
      "image/png": "[encoded data removed]",
      "text/plain": [
       "<Figure size 640x480 with 1 Axes>"
      ]
     },
     "metadata": {},
     "output_type": "display_data"
    }
   ],
   "source": [
    "import pandas as pd\n",
    "import matplotlib.pyplot as plt\n",
    "\n",
    "dfplot = df.loc[df[\"Entity\"].apply(lambda state: state[0] == \"W\")][[\"Year\", \"Number of ongoing wars - Conflict_type: civil war\"]]\n",
    "\n",
    "dfplot.plot.scatter(x = \"Year\", y = \"Number of ongoing wars - Conflict_type: civil war\")\n",
    "\n",
    "plt.show()\n"
   ]
  },
  {
   "cell_type": "code",
   "execution_count": 65,
   "id": "21a512e2-40e0-4864-83ad-196067415a5e",
   "metadata": {},
   "outputs": [
    {
     "data": {
      "image/png": "[encoded data removed]",
      "text/plain": [
       "<Figure size 640x480 with 1 Axes>"
      ]
     },
     "metadata": {},
     "output_type": "display_data"
    }
   ],
   "source": [
    "import pandas as pd\n",
    "import matplotlib.pyplot as plt\n",
    "\n",
    "dfplot = df.loc[df[\"Entity\"].apply(lambda state: state[0] == \"W\")][[\"Year\", \"Number of ongoing wars - Conflict_type: civil war\"]]\n",
    "\n",
    "dfplot[\"Number of ongoing wars - Conflict_type: civil war\"].plot(kind = 'hist')\n",
    "#dfplot[\"Year\"].plot(kind = 'hist')\n",
    "\n",
    "plt.show()\n"
   ]
  },
  {
   "cell_type": "code",
   "execution_count": 76,
   "id": "3634df69-691f-4d3d-b325-677434fe0d9c",
   "metadata": {},
   "outputs": [
    {
     "data": {
      "text/plain": [
       "[5.0,\n",
       " 3.5,\n",
       " 3.0,\n",
       " 2.75,\n",
       " 2.6,\n",
       " 2.5,\n",
       " 2.4285714285714284,\n",
       " 2.375,\n",
       " 2.3333333333333335,\n",
       " 2.3,\n",
       " 2.272727272727273,\n",
       " 2.25,\n",
       " 2.230769230769231,\n",
       " 2.2142857142857144,\n",
       " 2.2,\n",
       " 2.1875,\n",
       " 2.176470588235294,\n",
       " 2.1666666666666665,\n",
       " 2.1578947368421053,\n",
       " 2.15,\n",
       " 2.142857142857143,\n",
       " 2.1363636363636362]"
      ]
     },
     "execution_count": 76,
     "metadata": {},
     "output_type": "execute_result"
    }
   ],
   "source": [
    "[(2*a-1)/(a-2) for a in range(3,25)]"
   ]
  },
  {
   "cell_type": "code",
   "execution_count": 78,
   "id": "ee6ae698-70c4-4119-a997-6db7fc3e5850",
   "metadata": {},
   "outputs": [
    {
     "ename": "ModuleNotFoundError",
     "evalue": "No module named 'diffusers'",
     "output_type": "error",
     "traceback": [
      "\u001b[1;31m---------------------------------------------------------------------------\u001b[0m",
      "\u001b[1;31mModuleNotFoundError\u001b[0m                       Traceback (most recent call last)",
      "Cell \u001b[1;32mIn[78], line 2\u001b[0m\n\u001b[0;32m      1\u001b[0m \u001b[38;5;66;03m# https://huggingface.co/runwayml/stable-diffusion-v1-5\u001b[39;00m\n\u001b[1;32m----> 2\u001b[0m \u001b[38;5;28;01mfrom\u001b[39;00m \u001b[38;5;21;01mdiffusers\u001b[39;00m \u001b[38;5;28;01mimport\u001b[39;00m StableDiffusionPipeline\n\u001b[0;32m      3\u001b[0m \u001b[38;5;28;01mimport\u001b[39;00m \u001b[38;5;21;01mtorch\u001b[39;00m\n\u001b[0;32m      5\u001b[0m model_id \u001b[38;5;241m=\u001b[39m \u001b[38;5;124m\"\u001b[39m\u001b[38;5;124mrunwayml/stable-diffusion-v1-5\u001b[39m\u001b[38;5;124m\"\u001b[39m\n",
      "\u001b[1;31mModuleNotFoundError\u001b[0m: No module named 'diffusers'"
     ]
    }
   ],
   "source": [
    "# https://huggingface.co/runwayml/stable-diffusion-v1-5\n",
    "from diffusers import StableDiffusionPipeline\n",
    "import torch\n",
    "\n",
    "model_id = \"runwayml/stable-diffusion-v1-5\"\n",
    "pipe = StableDiffusionPipeline.from_pretrained(model_id, torch_dtype=torch.float16)\n",
    "pipe = pipe.to(\"cuda\")\n",
    "\n",
    "prompt = \"a photo of an astronaut riding a horse on mars\"\n",
    "image = pipe(prompt).images[0]  \n",
    "    \n",
    "image.save(\"astronaut_rides_horse.png\")"
   ]
  },
  {
   "cell_type": "code",
   "execution_count": 79,
   "id": "b759be5f-f3a5-461e-bb1c-8696703e0b27",
   "metadata": {},
   "outputs": [],
   "source": [
    "# https://github.com/huggingface/transformers"
   ]
  },
  {
   "cell_type": "code",
   "execution_count": 85,
   "id": "53129f7a-9748-4f35-a6dd-6dc861647ca6",
   "metadata": {},
   "outputs": [
    {
     "name": "stdout",
     "output_type": "stream",
     "text": [
      "[[{'label': 'positive', 'score': 0.9731044769287109}]]\n",
      "[[{'label': 'negative', 'score': 0.5804390907287598}]]\n",
      "[[{'label': 'positive', 'score': 0.971721887588501}]]\n"
     ]
    }
   ],
   "source": [
    "# https://huggingface.co/lxyuan/distilbert-base-multilingual-cased-sentiments-student\n",
    "from transformers import pipeline\n",
    "\n",
    "distilled_student_sentiment_classifier = pipeline(\n",
    "    model=\"lxyuan/distilbert-base-multilingual-cased-sentiments-student\", \n",
    "    top_k=1\n",
    ")\n",
    "\n",
    "print(distilled_student_sentiment_classifier(\"I love this movie and i would watch it again and again!\"))\n",
    "print(distilled_student_sentiment_classifier(\"Although no survival advantage was demonstrated, all the trials suffered of a high post-progression treatment cross-over, which predictably undermined the results.\"))\n",
    "\n",
    "print(distilled_student_sentiment_classifier(\"Das ist ein hervorragender Film, wirklich großartig.!\"))\n"
   ]
  },
  {
   "cell_type": "code",
   "execution_count": 132,
   "id": "f13982d9-e55a-4051-81df-fe78db056c01",
   "metadata": {},
   "outputs": [
    {
     "data": {
      "image/png": "[encoded data removed]",
      "text/plain": [
       "<Figure size 480x480 with 1 Axes>"
      ]
     },
     "metadata": {},
     "output_type": "display_data"
    },
    {
     "name": "stdout",
     "output_type": "stream",
     "text": [
      "[[0.395 0.    0.    0.    0.    0.    0.    0.    0.   ]\n",
      " [0.761 0.366 0.    0.    0.    0.    0.    0.    0.   ]\n",
      " [0.925 0.658 0.475 0.    0.    0.    0.    0.    0.   ]\n",
      " [0.978 0.791 0.55  0.437 0.    0.    0.    0.    0.   ]\n",
      " [0.988 0.872 0.764 0.558 0.448 0.    0.    0.    0.   ]\n",
      " [0.999 0.934 0.841 0.725 0.475 0.431 0.    0.    0.   ]\n",
      " [1.    0.97  0.923 0.787 0.708 0.478 0.402 0.    0.   ]\n",
      " [1.    0.981 0.93  0.876 0.751 0.701 0.441 0.366 0.   ]\n",
      " [0.998 0.987 0.962 0.923 0.858 0.72  0.681 0.397 0.381]]\n"
     ]
    }
   ],
   "source": [
    "# risk\n",
    "import random\n",
    "import matplotlib.pyplot as plt\n",
    "import numpy as np\n",
    "\n",
    "def attackwin(a, d):\n",
    "    '''attack and defence dice rolls'''\n",
    "    if d == 0:\n",
    "        if a > 0:\n",
    "            return (1, 0)\n",
    "        return (0, 0)\n",
    "    d = min(d,a)\n",
    "    athrows = [random.choice(list(range(1, 7))) for i in range(a)]\n",
    "    dthrows = [random.choice(list(range(1, 7))) for i in range(d)]\n",
    "    athrows.sort(reverse=True)\n",
    "    dthrows.sort(reverse= True)\n",
    "    return athrows, dthrows\n",
    "\n",
    "def attacklosses(a, d):\n",
    "    '''troop losses for attacker and defender'''\n",
    "    athrows, dthrows = attackwin(a, d)\n",
    "    losses = [0, 0]\n",
    "    for idx, dt in enumerate(dthrows):\n",
    "        if athrows[idx] > dt:\n",
    "            losses[1] += 1\n",
    "        else:\n",
    "            losses[0] += 1\n",
    "    return losses\n",
    "\n",
    "def awin(a, d):\n",
    "    '''attacker wins'''\n",
    "    while a >= d and d > 0:\n",
    "        losses = attacklosses(min(a,3), min(d,2))\n",
    "        a -= losses[0]\n",
    "        d -= losses[1]\n",
    "    if d == 0:\n",
    "        return 1\n",
    "    return 0\n",
    "\n",
    "def pawin(a, d, n=1000):\n",
    "    pawin = 0\n",
    "    for i in range(n):\n",
    "        pawin += awin(a, d)\n",
    "    return pawin/n\n",
    "\n",
    "a = np.array([[pawin(a,d) for d in range(1,10)] for a in range(1,10)])\n",
    "plt.matshow(a, cmap=plt.cm.Blues)\n",
    "plt.show()\n",
    "print(a)"
   ]
  },
  {
   "cell_type": "code",
   "execution_count": 137,
   "id": "5b0cdd9b-57cf-4e15-bd06-f2b3f8da623b",
   "metadata": {},
   "outputs": [
    {
     "data": {
      "text/plain": [
       "3597.383720930233"
      ]
     },
     "execution_count": 137,
     "metadata": {},
     "output_type": "execute_result"
    }
   ],
   "source": [
    "99*500/13.76"
   ]
  },
  {
   "cell_type": "code",
   "execution_count": 1,
   "id": "6fdadbfd-6bb7-405c-93a9-d646c62168a4",
   "metadata": {},
   "outputs": [
    {
     "data": {
      "text/plain": [
       "['It is quite windy in London']"
      ]
     },
     "execution_count": 1,
     "metadata": {},
     "output_type": "execute_result"
    }
   ],
   "source": [
    "# https://pypi.org/project/rank-bm25/\n",
    "\n",
    "from rank_bm25 import BM25Okapi\n",
    "\n",
    "corpus = [\n",
    "    \"Hello there good man!\",\n",
    "    \"It is quite windy in London\",\n",
    "    \"How is the weather today?\"\n",
    "]\n",
    "\n",
    "tokenized_corpus = [doc.split(\" \") for doc in corpus]\n",
    "\n",
    "bm25 = BM25Okapi(tokenized_corpus)\n",
    "\n",
    "query = \"windy London\"\n",
    "tokenized_query = query.split(\" \")\n",
    "\n",
    "bm25.get_top_n(tokenized_query, corpus, n=1)"
   ]
  },
  {
   "cell_type": "code",
   "execution_count": 3,
   "id": "a93898c9-9f81-4081-acc9-d29f2c64f5e6",
   "metadata": {},
   "outputs": [
    {
     "data": {
      "text/plain": [
       "['Despite decades of medical advances, ASCVD remains one of the major causes of morbidity and mortality worldwide. Statin use has multiplied since the validation of LDL hypothesis, however, it is undeniable a more effective and well-tolerated agent is needed in significant number or patients. With the arrival of the era of unprecedented CV protection with PCSK9 inhibition, this exciting new therapy holds a pivotal promise as the future of lipid management. The data available already indicate safety, tolerability and superb efficacy of these agents, which are already changing contemporary cholesterol management. The rapid translation of innovative basic science research into drug development may lead to CV outcomes reduction and confirm that this pathway will become prominently utilized.']"
      ]
     },
     "execution_count": 3,
     "metadata": {},
     "output_type": "execute_result"
    }
   ],
   "source": [
    "from rank_bm25 import BM25Okapi\n",
    "\n",
    "corpus = [\n",
    "    \"Achieving an LDL-C of 40-50 mg/dl seems to be safe, and importantly might offer CV beneficial effects. Data for attaining levels below 25 mg/dl is limited, however in favor of such reductions.\",\n",
    "    \"Despite decades of medical advances, ASCVD remains one of the major causes of morbidity and mortality worldwide. Statin use has multiplied since the validation of LDL hypothesis, however, it is undeniable a more effective and well-tolerated agent is needed in significant number or patients. With the arrival of the era of unprecedented CV protection with PCSK9 inhibition, this exciting new therapy holds a pivotal promise as the future of lipid management. The data available already indicate safety, tolerability and superb efficacy of these agents, which are already changing contemporary cholesterol management. The rapid translation of innovative basic science research into drug development may lead to CV outcomes reduction and confirm that this pathway will become prominently utilized.\",\n",
    "    \"Patients achieving an LDL-C level less than 30 mg/dL at 1 month had a similar safety profile (and numerically the lowest rate of cardiovascular events) over a 6-year period compared with patients achieving higher LDL-C concentrations. These data provide reassurance regarding the longer-term safety and efficacy of the continuation of intensive lipid-lowering therapy in very higher-risk patients resulting in very low LDL-C levels.\"\n",
    "]\n",
    "\n",
    "tokenized_corpus = [doc.split(\" \") for doc in corpus]\n",
    "\n",
    "bm25 = BM25Okapi(tokenized_corpus)\n",
    "\n",
    "query = \"LDL reduction\"\n",
    "tokenized_query = query.split(\" \")\n",
    "\n",
    "bm25.get_top_n(tokenized_query, corpus, n=1)"
   ]
  },
  {
   "cell_type": "code",
   "execution_count": 7,
   "id": "39b8a15a-07b4-4ca5-a875-99e0f4f91255",
   "metadata": {},
   "outputs": [
    {
     "data": {
      "text/plain": [
       "array([-0.09883743,  0.48894924, -0.09883743, -0.09883743,  0.48894924,\n",
       "       -0.09883743])"
      ]
     },
     "execution_count": 7,
     "metadata": {},
     "output_type": "execute_result"
    }
   ],
   "source": [
    "# market queries test\n",
    "from rank_bm25 import BM25Okapi\n",
    "\n",
    "corpus = [\n",
    "    \"growth of AFGH market 2014 to 2015 was 5.3%\",\n",
    "    \"growth of AFGH market 2016 to 2017 was -1.3%\",\n",
    "    \"growth of AFGH market 2018 to 2019 was 0.4%\",\n",
    "    \"growth of RLMY market 2014 to 2015 was 2.3%\",\n",
    "    \"growth of RLMY market 2016 to 2017 was -0.3%\",\n",
    "    \"growth of RLMY market 2018 to 2019 was 1.4%\",\n",
    "]\n",
    "\n",
    "tokenized_corpus = [doc.split(\" \") for doc in corpus]\n",
    "\n",
    "bm25 = BM25Okapi(tokenized_corpus)\n",
    "\n",
    "query = \"what was the growth of the RLMY market 2016 to 2017?\"\n",
    "tokenized_query = query.split(\" \")\n",
    "\n",
    "#bm25.get_top_n(tokenized_query, corpus, n=1)\n",
    "bm25.get_scores(tokenized_query)"
   ]
  },
  {
   "cell_type": "code",
   "execution_count": 4,
   "id": "601f8445-3579-4c11-b2fa-2510fa41a514",
   "metadata": {},
   "outputs": [
    {
     "data": {
      "text/plain": [
       "125"
      ]
     },
     "execution_count": 4,
     "metadata": {},
     "output_type": "execute_result"
    }
   ],
   "source": [
    "\n",
    "def ackerman(m, n):\n",
    "    if m == 0:\n",
    "        return n + 1\n",
    "    if n == 0:\n",
    "        return ackerman(m-1, 1)\n",
    "    return ackerman(m-1, ackerman(m, n-1))\n",
    "\n",
    "ackerman(3, 4)"
   ]
  },
  {
   "cell_type": "code",
   "execution_count": 4,
   "id": "69ca6911-730f-4572-b923-27d2d6f8247c",
   "metadata": {},
   "outputs": [],
   "source": [
    "# llama\n",
    "# https://github.com/facebookresearch/llama"
   ]
  },
  {
   "cell_type": "code",
   "execution_count": 12,
   "id": "07957c53-9c7e-44e0-8267-e61965cef096",
   "metadata": {},
   "outputs": [
    {
     "data": {
      "text/plain": [
       "0.3090583331272887"
      ]
     },
     "execution_count": 12,
     "metadata": {},
     "output_type": "execute_result"
    }
   ],
   "source": [
    "# info gain\n",
    "import math\n",
    "\n",
    "def entropy(pyes, pno):\n",
    "    return -pyes * math.log(pyes, 2) - pno * math.log(pno, 2)\n",
    "\n",
    "entropy(6/8, 2/8)*8/21"
   ]
  },
  {
   "cell_type": "code",
   "execution_count": null,
   "id": "00fc91de-a149-42aa-9575-c537d9561ae6",
   "metadata": {},
   "outputs": [],
   "source": []
  }
 ],
 "metadata": {
  "kernelspec": {
   "display_name": "tf-gpu",
   "language": "python",
   "name": "tf-gpu"
  },
  "language_info": {
   "codemirror_mode": {
    "name": "ipython",
    "version": 3
   },
   "file_extension": ".py",
   "mimetype": "text/x-python",
   "name": "python",
   "nbconvert_exporter": "python",
   "pygments_lexer": "ipython3",
   "version": "3.9.18"
  }
 },
 "nbformat": 4,
 "nbformat_minor": 5
}
