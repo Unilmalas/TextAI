{
 "cells": [
  {
   "cell_type": "code",
   "execution_count": 8,
   "metadata": {},
   "outputs": [
    {
     "name": "stdout",
     "output_type": "stream",
     "text": [
      "length of target:  28\n",
      "avrg. number of iterations:  244.6\n"
     ]
    },
    {
     "data": {
      "image/png": "[encoded data removed]",
      "text/plain": [
       "<Figure size 432x288 with 1 Axes>"
      ]
     },
     "metadata": {
      "needs_background": "light"
     },
     "output_type": "display_data"
    }
   ],
   "source": [
    "# evolutionary algo: eval aspect impact (mut, mate, fit, length, repro rate)\n",
    "from string import ascii_letters\n",
    "from random import choice, random\n",
    "import matplotlib.pyplot as plt\n",
    "import math\n",
    "\n",
    "def fitness(trial, target):\n",
    "    'Sum of matching chars by position - essentially the dot product'\n",
    "    return sum(t==h for t,h in zip(trial, target))\n",
    "    #return sum([sum([trl[i]==tgt[i+w] for w in range(-1,2)]) for i in range(1,len(trl)-1)]) # window\n",
    "    #return sum((ord(t)*math.log(ord(h)+0.001) for t,h in zip(trial, target))) # cross entropy\n",
    "\n",
    "def mutaterate(parent, target, perfectfitness, minmutaterate):\n",
    "    'Less mutation the closer the fit of the parent'\n",
    "    return 1 - ((perfectfitness - fitness(parent, target)) / perfectfitness * (1 - minmutaterate))\n",
    "\n",
    "def mutate(parent, rate, charset):\n",
    "    '''take character from parent or choose a random character from the vocabulary'''\n",
    "    return [(ch if random() <= rate else choice(charset)) for ch in parent] # below rate char survives, otherwise choose\n",
    "\n",
    "def que(iterations, parent, target, perfectfitness):\n",
    "    '(from the favourite saying of Manuel in Fawlty Towers)'\n",
    "    print (\"#%-4i, fitness: %4.1f%%, '%s'\" %\n",
    "           (iterations, fitness(parent, target)*100./perfectfitness, ''.join(parent)))\n",
    "\n",
    "def mate(a, b, target, splice_rt=7):\n",
    "    '''combine genes by splicing a and b at a random position'''\n",
    "    place = 0\n",
    "    if choice(range(10)) < splice_rt: # splice rate\n",
    "        place = choice(range(len(target)))\n",
    "        #fa = fitness(a, target) # this logic improves iterations by about 20%\n",
    "        #fb = fitness(b, target)\n",
    "        #place = int(fa / (fa+fb) * len(target) )\n",
    "    else:\n",
    "        return a, b\n",
    "    return a, b, a[:place] + b[place:], b[:place] + a[place:] # splice a and b\n",
    "\n",
    "def evorun(C, parent, charset, target, splice_rt, perfectfitness, minmutaterate):\n",
    "    '''a set of runs with given parameters'''\n",
    "    iterations = 0\n",
    "    center = int(len(C)/2)\n",
    "    while parent != target and iterations < 1000:\n",
    "        rate = mutaterate(parent, target, perfectfitness, minmutaterate)\n",
    "        iterations += 1\n",
    "        #if iterations % 100 == 0: que(iterations, parent, target, perfectfitness)\n",
    "        copies = [ mutate(parent, rate, charset) for _ in C ]  + [parent] # create a set of copies, but mutated\n",
    "        parent1 = max(copies[:center], key=lambda x: fitness(x, target)) # best parent from lower half\n",
    "        parent2 = max(copies[center:], key=lambda x: fitness(x, target)) # best parent from upper half\n",
    "        parent = max(mate(parent1, parent2, target, splice_rt), key=lambda x: fitness(x, target)) # choose best mutation from both bet parents\n",
    "    #que(iterations, parent, target, perfectfitness)\n",
    "    return (iterations)\n",
    "    \n",
    "def main():\n",
    "    target  = list(\"METHINKS IT IS LIKE A WEASEL\")\n",
    "    print('length of target: ', len(target))\n",
    "    charset = ascii_letters + ' '\n",
    "    parent  = [choice(charset) for _ in range(len(target))] # random init choice\n",
    "    minmutaterate  = .09\n",
    "    #C = range(200)\n",
    "    perfectfitness = float(len(target))\n",
    "    splice_rt = 8\n",
    "    #C_base = [25,50,100,200,300]\n",
    "    C_base = [240,250,260,270,280]\n",
    "    #C_base = [250, 270]\n",
    "    C_rg = [range(x) for x in C_base]\n",
    "    niter = []\n",
    "    ntrls = 3\n",
    "    #for sr in [1,2,3,4,5,6,7,8,9]:\n",
    "    for cc in C_rg:\n",
    "        navrg = 0.\n",
    "        for _ in range(ntrls):\n",
    "            navrg += evorun(cc, parent, charset, target, splice_rt, perfectfitness, minmutaterate)\n",
    "        niter.append(navrg / ntrls)\n",
    "    #niter = [niter[i] / C_base[i] for i in range(len(niter))] # scale by computational complexity of gene length\n",
    "    print('avrg. number of iterations: ', sum(niter) / len(C_base))\n",
    "    plt.plot(C_base, niter)\n",
    "    #plt.plot([1,2,3,4,5,6,7,8,9], niter)\n",
    "    plt.show()\n",
    "\n",
    "if __name__ == '__main__':\n",
    "    main()"
   ]
  },
  {
   "cell_type": "code",
   "execution_count": 7,
   "metadata": {},
   "outputs": [
    {
     "name": "stdout",
     "output_type": "stream",
     "text": [
      "[1, 7, 10, 13, 19, 23, 28, 31, 32, 44, 49, 68, 70, 79, 82, 86, 91, 94, 97, 100, 103, 109, 129, 130, 133, 139, 167, 176, 188, 190, 192, 193, 203, 208, 219, 226, 230, 236, 239, 262, 263, 280, 291, 293, 301, 302, 310, 313, 319, 320, 326, 329, 331, 338, 356, 362, 365, 367, 368, 376, 379, 383, 386, 391, 392, 397, 404, 409, 440, 446, 464, 469, 478, 487, 490, 496]\n"
     ]
    }
   ],
   "source": [
    "# happy numbers\n",
    "\n",
    "def happyn(n):\n",
    "    '''return true if n is happy'''\n",
    "    past = set()\n",
    "    while n != 1:\n",
    "        n = sum(int(i)**2 for i in str(n))\n",
    "        if n in past:\n",
    "            return False\n",
    "        past.add(n)\n",
    "    return True\n",
    "\n",
    "def main():\n",
    "    print([x for x in range(500) if happyn(x)])\n",
    "\n",
    "if __name__ == '__main__':\n",
    "    main()"
   ]
  },
  {
   "cell_type": "code",
   "execution_count": 16,
   "metadata": {},
   "outputs": [
    {
     "name": "stdout",
     "output_type": "stream",
     "text": [
      "length of target:  10\n",
      "avrg. number of iterations:  126.99999999999997\n"
     ]
    },
    {
     "data": {
      "image/png": "[encoded data removed]",
      "text/plain": [
       "<Figure size 432x288 with 1 Axes>"
      ]
     },
     "metadata": {
      "needs_background": "light"
     },
     "output_type": "display_data"
    },
    {
     "name": "stdout",
     "output_type": "stream",
     "text": [
      "length of target:  20\n",
      "avrg. number of iterations:  487.8\n"
     ]
    },
    {
     "data": {
      "image/png": "[encoded data removed]",
      "text/plain": [
       "<Figure size 432x288 with 1 Axes>"
      ]
     },
     "metadata": {
      "needs_background": "light"
     },
     "output_type": "display_data"
    },
    {
     "name": "stdout",
     "output_type": "stream",
     "text": [
      "length of target:  30\n",
      "avrg. number of iterations:  882.0\n"
     ]
    },
    {
     "data": {
      "image/png": "[encoded data removed]",
      "text/plain": [
       "<Figure size 432x288 with 1 Axes>"
      ]
     },
     "metadata": {
      "needs_background": "light"
     },
     "output_type": "display_data"
    },
    {
     "name": "stdout",
     "output_type": "stream",
     "text": [
      "length of target:  40\n",
      "avrg. number of iterations:  1200.0\n"
     ]
    },
    {
     "data": {
      "image/png": "[encoded data removed]",
      "text/plain": [
       "<Figure size 432x288 with 1 Axes>"
      ]
     },
     "metadata": {
      "needs_background": "light"
     },
     "output_type": "display_data"
    }
   ],
   "source": [
    "# evolutionary algo: relate target length and gene length\n",
    "from string import ascii_letters\n",
    "from random import choice, random\n",
    "import matplotlib.pyplot as plt\n",
    "import math\n",
    "\n",
    "def fitness(trial, target):\n",
    "    'Sum of matching chars by position - essentially the dot product'\n",
    "    return sum(t==h for t,h in zip(trial, target))\n",
    "    #return sum([sum([trl[i]==tgt[i+w] for w in range(-1,2)]) for i in range(1,len(trl)-1)]) # window\n",
    "    #return sum((ord(t)*math.log(ord(h)+0.001) for t,h in zip(trial, target))) # cross entropy\n",
    "\n",
    "def mutaterate(parent, target, perfectfitness, minmutaterate):\n",
    "    'Less mutation the closer the fit of the parent'\n",
    "    return 1 - ((perfectfitness - fitness(parent, target)) / perfectfitness * (1 - minmutaterate))\n",
    "\n",
    "def mutate(parent, rate, charset):\n",
    "    '''take character from parent or choose a random character from the vocabulary'''\n",
    "    return [(ch if random() <= rate else choice(charset)) for ch in parent] # below rate char survives, otherwise choose\n",
    "\n",
    "def que(iterations, parent, target, perfectfitness):\n",
    "    '(from the favourite saying of Manuel in Fawlty Towers)'\n",
    "    print (\"#%-4i, fitness: %4.1f%%, '%s'\" %\n",
    "           (iterations, fitness(parent, target)*100./perfectfitness, ''.join(parent)))\n",
    "\n",
    "def mate(a, b, target, splice_rt=7, mthd=0):\n",
    "    '''combine genes by splicing a and b at a random position'''\n",
    "    place = 0\n",
    "    if choice(range(10)) < splice_rt: # splice rate\n",
    "        if mthd == 0:\n",
    "            place = choice(range(len(target)))\n",
    "        else:\n",
    "            fa = fitness(a, target) # this logic improves iterations by about 20%\n",
    "            fb = fitness(b, target)\n",
    "            place = int(fa / (fa+fb) * len(target) )\n",
    "    else:\n",
    "        return a, b\n",
    "    return a, b, a[:place] + b[place:], b[:place] + a[place:] # splice a and b\n",
    "\n",
    "def evorun(C, parent, charset, target, splice_rt, perfectfitness, minmutaterate, maxiter=1200):\n",
    "    '''a set of runs with given parameters'''\n",
    "    iterations = 0\n",
    "    center = int(len(C)/2)\n",
    "    while parent != target and iterations < maxiter:\n",
    "        rate = mutaterate(parent, target, perfectfitness, minmutaterate)\n",
    "        iterations += 1\n",
    "        #if iterations % 100 == 0: que(iterations, parent, target, perfectfitness)\n",
    "        copies = [ mutate(parent, rate, charset) for _ in C ]  + [parent] # create a set of copies, but mutated\n",
    "        parent1 = max(copies[:center], key=lambda x: fitness(x, target)) # best parent from lower half\n",
    "        parent2 = max(copies[center:], key=lambda x: fitness(x, target)) # best parent from upper half\n",
    "        parent = max(mate(parent1, parent2, target, splice_rt), key=lambda x: fitness(x, target)) # choose best mutation from both bet parents\n",
    "    #que(iterations, parent, target, perfectfitness)\n",
    "    return (iterations)\n",
    "    \n",
    "def main():\n",
    "    charset = ascii_letters + ' '\n",
    "    for thislen in [10, 20, 30, 40]:\n",
    "        #target  = list(\"METHINKS IT IS LIKE A WEASEL\")\n",
    "        target = [choice(charset) for _ in range(thislen)]\n",
    "        print('length of target: ', len(target))\n",
    "        parent  = [choice(charset) for _ in range(len(target))] # random init choice\n",
    "        minmutaterate  = .09\n",
    "        perfectfitness = float(len(target))\n",
    "        splice_rt = 7\n",
    "        C_base = [10, 20, 50, 100, 150]\n",
    "        C_rg = [range(x) for x in C_base]\n",
    "        niter = []\n",
    "        ntrls = 3\n",
    "        #for sr in [1,2,3,4,5,6,7,8,9]:\n",
    "        for cc in C_rg:\n",
    "            navrg = 0.\n",
    "            for _ in range(ntrls):\n",
    "                navrg += evorun(cc, parent, charset, target, splice_rt, perfectfitness, minmutaterate)\n",
    "            niter.append(navrg / ntrls)\n",
    "        #niter = [niter[i] / C_base[i] for i in range(len(niter))] # scale by computational complexity of gene length\n",
    "        print('avrg. number of iterations: ', sum(niter) / len(C_base))\n",
    "        plt.plot(C_base, niter)\n",
    "        #plt.plot([1,2,3,4,5,6,7,8,9], niter)\n",
    "        plt.show()\n",
    "\n",
    "if __name__ == '__main__':\n",
    "    main()"
   ]
  },
  {
   "cell_type": "code",
   "execution_count": 1,
   "metadata": {},
   "outputs": [
    {
     "name": "stdout",
     "output_type": "stream",
     "text": [
      "target:  ['D', 'p', 'A', 'v', 'i', 'A', 'B', 'B', 'X', 'Z']\n",
      "length of target:  10\n",
      "#100 , fitness: 40.0%, 'DpA wfBwTW'\n",
      "#200 , fitness: 60.0%, 'DpAFiVBBZl'\n",
      "#300 , fitness: 70.0%, 'DpAfinOBXZ'\n",
      "#374 , fitness: 100.0%, 'DpAviABBXZ'\n",
      "330\n"
     ]
    }
   ],
   "source": [
    "# evolutionary algo: small demo\n",
    "from string import ascii_letters\n",
    "from random import choice, random\n",
    "import matplotlib.pyplot as plt\n",
    "import math\n",
    "\n",
    "def fitness(trial, target):\n",
    "    'Sum of matching chars by position - essentially the dot product'\n",
    "    return sum(t==h for t,h in zip(trial, target))\n",
    "\n",
    "def mutaterate(parent, target, perfectfitness, minmutaterate):\n",
    "    'Less mutation the closer the fit of the parent'\n",
    "    return 1 - ((perfectfitness - fitness(parent, target)) / perfectfitness * (1 - minmutaterate))\n",
    "\n",
    "def mutate(parent, rate, charset):\n",
    "    '''take character from parent or choose a random character from the vocabulary'''\n",
    "    return [(ch if random() <= rate else choice(charset)) for ch in parent] # below rate char survives, otherwise choose\n",
    "\n",
    "def que(iterations, parent, target, perfectfitness):\n",
    "    '(from the favourite saying of Manuel in Fawlty Towers)'\n",
    "    print (\"#%-4i, fitness: %4.1f%%, '%s'\" %\n",
    "           (iterations, fitness(parent, target)*100./perfectfitness, ''.join(parent)))\n",
    "\n",
    "def mate(a, b, target, OPSCTR, splice_rt=7, mthd=0):\n",
    "    '''combine genes by splicing a and b at a random position'''\n",
    "    place = 0\n",
    "    if choice(range(10)) < splice_rt: # splice rate\n",
    "        if mthd == 0:\n",
    "            place = choice(range(len(target)))\n",
    "        else:\n",
    "            fa = fitness(a, target) # this logic improves iterations by about 20%\n",
    "            fb = fitness(b, target)\n",
    "            place = int(fa / (fa+fb) * len(target) )\n",
    "    else:\n",
    "        return a, b\n",
    "    return a, b, a[:place] + b[place:], b[:place] + a[place:] # splice a and b\n",
    "\n",
    "def evorun(C, parent, charset, target, splice_rt, perfectfitness, minmutaterate, maxiter=700):\n",
    "    '''a set of runs with given parameters'''\n",
    "    iterations = 0\n",
    "    OPSCTR = []\n",
    "    center = int(len(C)/2)\n",
    "    while parent != target and iterations < maxiter:\n",
    "        nops = 0\n",
    "        rate = mutaterate(parent, target, perfectfitness, minmutaterate)\n",
    "        iterations += 1\n",
    "        if iterations % 100 == 0: que(iterations, parent, target, perfectfitness)\n",
    "        copies = [ mutate(parent, rate, charset) for _ in C ]  + [parent] # create a set of copies, but mutated\n",
    "        nops += len(parent)*len(C)\n",
    "        #print('copies: ', OPSCTR)\n",
    "        parent1 = max(copies[:center], key=lambda x: fitness(x, target)) # best parent from lower half\n",
    "        nops += len(target)*len(target)\n",
    "        #print('parent1: ', OPSCTR)\n",
    "        parent2 = max(copies[center:], key=lambda x: fitness(x, target)) # best parent from upper half\n",
    "        nops += len(target)*len(target)\n",
    "        #print('parent2: ', OPSCTR)\n",
    "        parent = max(mate(parent1, parent2, target, splice_rt), key=lambda x: fitness(x, target)) # choose best mutation from both bet parents\n",
    "        nops += len(parent1)*len(target)\n",
    "        #print('parent: ', OPSCTR)\n",
    "        OPSCTR.append(nops)\n",
    "    que(iterations, parent, target, perfectfitness)\n",
    "    return (iterations, OPSCTR)\n",
    "   \n",
    "def main():\n",
    "    nops = [] # count basic operations\n",
    "    charset = ascii_letters + ' '\n",
    "    target = [choice(charset) for _ in range(10)]\n",
    "    print('target: ', target)\n",
    "    print('length of target: ', len(target))\n",
    "    parent  = [choice(charset) for _ in range(len(target))] # random init choice\n",
    "    minmutaterate  = .09\n",
    "    perfectfitness = float(len(target))\n",
    "    splice_rt = 7\n",
    "    C_base = [3]\n",
    "    C_rg = [range(x) for x in C_base]\n",
    "    niter, nops = evorun(C_rg[0], parent, charset, target, splice_rt, perfectfitness, minmutaterate)\n",
    "    print(nops[0])\n",
    "\n",
    "if __name__ == '__main__':\n",
    "    main()"
   ]
  },
  {
   "cell_type": "code",
   "execution_count": 3,
   "metadata": {},
   "outputs": [
    {
     "name": "stdout",
     "output_type": "stream",
     "text": [
      "True\n"
     ]
    }
   ],
   "source": [
    "# wait for file creation\n",
    "import os\n",
    "import time\n",
    "\n",
    "file_path = r'bsc_resids0.txt'\n",
    "\n",
    "os.chdir(r'C:\\Users\\bscho\\Documents\\DL\\lrgtxt0')\n",
    "print(os.path.isfile(file_path))\n",
    "\n",
    "max_wt = 10\n",
    "wtng = 0\n",
    "while not os.path.isfile(file_path) and wtng < max_wt:\n",
    "    time.sleep(1)\n",
    "    wtng += 1\n",
    "\n",
    "if os.path.isfile(file_path):\n",
    "    # read file\n",
    "    pass\n",
    "else:\n",
    "    raise ValueError(\"%s isn't a file!\" % file_path)"
   ]
  },
  {
   "cell_type": "code",
   "execution_count": 1,
   "metadata": {},
   "outputs": [
    {
     "name": "stdout",
     "output_type": "stream",
     "text": [
      "1104\n"
     ]
    }
   ],
   "source": [
    "# lcm\n",
    "\n",
    "def lcm(a, b, niter=100):\n",
    "    '''least common multiple'''\n",
    "    ni = 0\n",
    "    ar = a\n",
    "    br = b\n",
    "    while ni < niter:\n",
    "        while ar<br:\n",
    "            ar += a\n",
    "        if ar == br: return ar\n",
    "        while br<ar:\n",
    "            br += b\n",
    "        if ar == br: return ar\n",
    "        ni += 1\n",
    "    return ar*br\n",
    "        \n",
    "def main():\n",
    "    print(lcm(23, 48))\n",
    "\n",
    "if __name__ == '__main__':\n",
    "    main()"
   ]
  },
  {
   "cell_type": "code",
   "execution_count": 6,
   "metadata": {},
   "outputs": [
    {
     "name": "stdout",
     "output_type": "stream",
     "text": [
      "[[ 0  0  0  0  0  0  0  0  0  0  0  0  0]\n",
      " [ 0  0  0  0  0  0  0  0  0  0  0  0  0]\n",
      " [ 0  0  0  0  0  0  0  0  0  0  0  0  0]\n",
      " [ 0  0  0  0  0  0  0  0  0  0  0  0  0]\n",
      " [ 0  0  0  0  0  0  0  0  0  0  0  0  0]\n",
      " [ 0  0  0  0  0  6  0  0  0  0  0  0  0]\n",
      " [ 0  0  0  0  0  8  5  0  0  0  0  0  0]\n",
      " [ 0  0  0  0  0 10  8  6  0  0  0  0  0]\n",
      " [ 0  0  0  0  0  0  0  0  0  0  0  0  0]\n",
      " [ 0  0  0  0  0  0  0  0  0  0  0  0  0]\n",
      " [ 0  0  0  0  0  0  0  0  0  0  0  0  0]\n",
      " [ 0  0  0  0  0  0  0  0  0  0  0  0  0]\n",
      " [ 0  0  0  0  0  0  0  0  0  0  0  0  0]]\n"
     ]
    }
   ],
   "source": [
    "import numpy as np\n",
    "\n",
    "def ply_x(nsize, kx, ky, key_fld):\n",
    "    '''cross playfield with key location''' \n",
    "    return np.pad(key_fld[:-ky, kx:], (nsize-np.shape(key_fld)[0]+ky,), 'constant', constant_values=(0,))\n",
    "\n",
    "def main():\n",
    "    key_fld = np.array([[0,0,6,0,0],\n",
    "                       [0,5,8,5,0],\n",
    "                       [6,8,10,8,6],\n",
    "                       [0,5,8,5,0],\n",
    "                       [0,0,6,0,0]])\n",
    "    print(ply_x(8, 2, 2, key_fld))\n",
    "\n",
    "if __name__ == '__main__':\n",
    "    main()"
   ]
  },
  {
   "cell_type": "code",
   "execution_count": 8,
   "metadata": {},
   "outputs": [
    {
     "name": "stdout",
     "output_type": "stream",
     "text": [
      "50\n",
      "[(1, 1), (0, 2), (1, 3), (0, 4), (1, 5), (0, 6), (1, 7), (0, 8), (1, 9), (0, 10)]\n"
     ]
    }
   ],
   "source": [
    "# true or false\n",
    "\n",
    "def main():\n",
    "    tf = [(x % 2, x) for x in range(1,101)]\n",
    "    print(sum([x[0] for x in tf]))\n",
    "    print(tf[:10])\n",
    "\n",
    "if __name__ == '__main__':\n",
    "    main()"
   ]
  },
  {
   "cell_type": "code",
   "execution_count": 1,
   "metadata": {},
   "outputs": [
    {
     "name": "stdout",
     "output_type": "stream",
     "text": [
      "[[0 1 1 1]\n",
      " [0 0 1 0]\n",
      " [0 0 1 0]\n",
      " [1 0 0 1]]\n",
      "[[1, 1, 0, 0], [0, 0, 1, 1], [1, 0, 0, 0], [1, 1, 1, 0]]\n",
      "[[1 0 1 0]\n",
      " [0 0 1 1]\n",
      " [0 0 0 0]\n",
      " [1 1 1 0]]\n",
      "[0, 1, 2, 3, 6, 7, 10, 11, 13, 15]\n",
      "2\n",
      "0\n"
     ]
    }
   ],
   "source": [
    "# Hamming codes\n",
    "import numpy as np\n",
    "from functools import reduce\n",
    "\n",
    "def msg_2grid(msg):\n",
    "    '''message to grid: parity bits at powers of 2'''\n",
    "    return [[0 if (i*4+j)==2**(i+j) else msg[i*4+j-3-i] if i<3 else msg[i*4+j-5] for j in range(4)] for i in range(4)]\n",
    "\n",
    "def set_prty(msg):\n",
    "    '''set parity bits'''\n",
    "    msg[0,1] = (sum(msg[1:,1]) + sum(msg[1:,3])) % 2\n",
    "    msg[0,2] = (sum(msg[1:,2]) + sum(msg[1:,3])) % 2\n",
    "    msg[1,0] = (sum(msg[1,1:]) + sum(msg[3,1:])) % 2\n",
    "    msg[2,0] = (sum(msg[2,1:]) + sum(msg[3,1:])) % 2\n",
    "    return msg\n",
    "\n",
    "def main():\n",
    "    msg = np.array([[0,0,0,1],\n",
    "                    [0,0,1,0],\n",
    "                    [0,0,1,0],\n",
    "                    [1,0,0,1]])\n",
    "    print(set_prty(msg))\n",
    "    print(msg_2grid([0,0,1,1,0,0,0,1,1,1,0]))\n",
    "    print(set_prty(np.array(msg_2grid([0,0,1,1,0,0,0,1,1,1,0]))))\n",
    "    bits = np.random.randint(0,2,16)\n",
    "    print([i for i, bit in enumerate(bits) if bit])\n",
    "    print(reduce(lambda x, y: x ^ y, [i for i, bit in enumerate(bits) if bit])) # single xor reduction\n",
    "    print(reduce(lambda x, y: (x + y) % 2, [i for i, bit in enumerate(bits) if bit])) # single xor reduction\n",
    "\n",
    "if __name__ == '__main__':\n",
    "    main()"
   ]
  },
  {
   "cell_type": "code",
   "execution_count": 1,
   "metadata": {},
   "outputs": [
    {
     "name": "stdout",
     "output_type": "stream",
     "text": [
      "(5.0, -20.0)\n",
      "(5.0, 5.0)\n"
     ]
    }
   ],
   "source": [
    "# intersection between two lines\n",
    "def ln_2pts(x0,y0,x1,y1):\n",
    "    '''line trough two points'''\n",
    "    if x0==y0: return (0,0)\n",
    "    k = (y0-y1)/(x0-x1)\n",
    "    return (k, y0-k*x0)\n",
    "\n",
    "def ln_inters(x0,y0,x1,y1,x2,y2,x3,y3):\n",
    "    '''intersection of 2 lines'''\n",
    "    l0 = ln_2pts(x0,y0,x1,y1)\n",
    "    l1 = ln_2pts(x2,y2,x3,y3)\n",
    "    xi = (l1[1]-l0[1])/(l0[0]-l1[0])\n",
    "    return (xi,l0[0]*xi+l0[1])\n",
    "\n",
    "def main():\n",
    "    print(ln_2pts(4,0,6,10))\n",
    "    print(ln_inters(4,0,6,10,0,3,10,7))\n",
    "\n",
    "if __name__ == '__main__':\n",
    "    main()\n",
    "    "
   ]
  },
  {
   "cell_type": "code",
   "execution_count": 1,
   "metadata": {},
   "outputs": [
    {
     "name": "stdout",
     "output_type": "stream",
     "text": [
      "[1, 1, 2, 3, 5, 8, 13, 21, 34, 55, 89, 144, 233, 377, 610, 987, 1597, 2584, 4181]\n",
      "[0.00023917723032767282, 0.00023917723032767282, 0.00047835446065534564, 0.0007175316909830184, 0.001195886151638364, 0.0019134178426213825, 0.0031093039942597465, 0.005022721836881129, 0.008132025831140876, 0.013154747668022004, 0.02128677349916288, 0.03444152116718489, 0.055728294666347766, 0.09016981583353265, 0.1458981104998804, 0.23606792633341306, 0.38196603683329344, 0.6180339631667066, 1.0]\n",
      "[1, 3, 5, 9, 17, 31, 57, 105, 193, 355, 653, 1201, 2209, 4063, 7473, 13745, 25281, 46499, 85525]\n",
      "[1.169248757673195e-05, 3.507746273019585e-05, 5.846243788365975e-05, 0.00010523238819058754, 0.00019877228880444314, 0.00036246711487869043, 0.0006664717918737212, 0.0012277111955568548, 0.0022566501023092663, 0.004150833089739842, 0.0076351943876059635, 0.014042677579655072, 0.025828705057000877, 0.04750657702426191, 0.08737795966091787, 0.16071324174218066, 0.2955977784273604, 0.5436889798304589, 1.0]\n"
     ]
    },
    {
     "data": {
      "image/png": "[encoded data removed]",
      "text/plain": [
       "<Figure size 432x288 with 1 Axes>"
      ]
     },
     "metadata": {
      "needs_background": "light"
     },
     "output_type": "display_data"
    }
   ],
   "source": [
    "# Fibonacci retracements\n",
    "import matplotlib.pyplot as plt\n",
    "\n",
    "def fibFastRec(n):\n",
    "    def fib(prvprv, prv, c):\n",
    "        if c < 1: \n",
    "            return prvprv\n",
    "        else: \n",
    "            return fib(prv, prvprv + prv, c - 1) \n",
    "    return fib(0, 1, n)\n",
    "\n",
    "def fib2FastRec(n):\n",
    "    def fib2(prvprvprv, prvprv, prv, c):\n",
    "        if c < 2: \n",
    "            return prvprvprv + prvprv\n",
    "        else: \n",
    "            return fib2(prvprv, prvprv + prv, prvprvprv + prvprv, c - 1) \n",
    "    return fib2(0, 1, 1, n)\n",
    "\n",
    "def main():\n",
    "    #print(fibFastRec(7))\n",
    "    fibs = [fibFastRec(n) for n in range(1,20)]\n",
    "    print(fibs)\n",
    "    fibrts = [f / fibs[len(fibs)-1] for f in fibs]\n",
    "    print(fibrts)\n",
    "    fibs2 = [fib2FastRec(n) for n in range(1,20)]\n",
    "    print(fibs2)\n",
    "    fibrts2 = [f / fibs2[len(fibs2)-1] for f in fibs2]\n",
    "    print(fibrts2)\n",
    "    \n",
    "    plt.plot(range(len(fibs2)), fibrts)\n",
    "    plt.plot(range(len(fibs2)), fibrts2)\n",
    "    plt.show()\n",
    "\n",
    "if __name__ == '__main__':\n",
    "    main()"
   ]
  },
  {
   "cell_type": "code",
   "execution_count": 1,
   "metadata": {},
   "outputs": [
    {
     "name": "stdout",
     "output_type": "stream",
     "text": [
      "1259 1259\n",
      "lag  -5 0.9537351772326813\n",
      "lag  -4 0.9533861119465196\n",
      "lag  -3 0.9538639745168263\n",
      "lag  -2 0.9544439592276798\n",
      "lag  -1 0.9550369654976565\n",
      "lag  0 0.9561130743762976\n",
      "lag  1 0.9551960928964502\n",
      "lag  2 0.9550994754868264\n",
      "lag  3 0.9545514746687204\n",
      "lag  4 0.9538060472695243\n",
      "lag  5 0.9529172249293333\n"
     ]
    },
    {
     "data": {
      "image/png": "[encoded data removed]",
      "text/plain": [
       "<Figure size 432x288 with 1 Axes>"
      ]
     },
     "metadata": {
      "needs_background": "light"
     },
     "output_type": "display_data"
    }
   ],
   "source": [
    "# correlation stock market - cryptocurr test \n",
    "import pandas as pd\n",
    "import os\n",
    "import matplotlib.pyplot as plt\n",
    "\n",
    "def histogram_intersection(a, b):\n",
    "    v = np.minimum(a, b).sum().round(decimals=1)\n",
    "    return v\n",
    "\n",
    "def crosscorr(datax, datay, lag=0):\n",
    "    '''lag crosscorrelation'''\n",
    "    return datax.corr(datay.shift(lag))\n",
    "\n",
    "def df_shifted(df, target=None, lag=0):\n",
    "    if not lag and not target:\n",
    "        return df       \n",
    "    new = {}\n",
    "    for c in df.columns:\n",
    "        if c == target:\n",
    "            new[c] = df[target]\n",
    "        else:\n",
    "            new[c] = df[c].shift(periods=lag)\n",
    "    return  pd.DataFrame(data=new)\n",
    "\n",
    "os.chdir(r'C:\\Users\\bscho\\Documents\\DL\\lrgtxt0')\n",
    "# Read data from file 'filename.csv' \n",
    "# Control delimiters, rows, column names with read_csv (see later) \n",
    "msftdata = pd.read_csv(\"MSFT.csv\")\n",
    "aapldata = pd.read_csv(\"AAPL.csv\")\n",
    "#btcdata = pd.read_csv(\"Cexio_BTCUSD_d.csv\")\n",
    "#ethdata = pd.read_csv(\"Cexio_ETHBTC_d.csv\")\n",
    "\n",
    "# Preview the first 5 lines of the loaded data \n",
    "#spdata.head()\n",
    "#btcdata.head()\n",
    "\n",
    "#print(btcdata['Close'])\n",
    "#s0 = spdata['Close']\n",
    "#s1 = btcdata['Close']\n",
    "#dcomb = {'sp500': spdata['Close'], 'btcusd': btcdata['Close']}\n",
    "#df = pd.DataFrame(data=dcomb)\n",
    "\n",
    "#s0.corr(s1, method=histogram_intersection)\n",
    "#df_new = df_shifted(df, 'sp500', lag=-1)\n",
    "#print(df_new)\n",
    "print(len(msftdata['Close']), len(aapldata['Close']))\n",
    "for lg in range(-5,6):\n",
    "    #print('lag ', lg, crosscorr(ndqdata['Close'][0:100], ethdata['Close'][0:100], lg))\n",
    "    #print('lag ', lg, crosscorr(ndqdata['Close'], ethdata['Close'], lg))\n",
    "    print('lag ', lg, crosscorr(msftdata['Close'], aapldata['Close'], lg))\n",
    "    \n",
    "plt.scatter(msftdata['Close'][0:1512], aapldata['Close'][0:1512])\n",
    "plt.show()"
   ]
  },
  {
   "cell_type": "code",
   "execution_count": 3,
   "metadata": {},
   "outputs": [
    {
     "name": "stdout",
     "output_type": "stream",
     "text": [
      "1259\n"
     ]
    },
    {
     "data": {
      "image/png": "[encoded data removed]",
      "text/plain": [
       "<Figure size 432x288 with 1 Axes>"
      ]
     },
     "metadata": {
      "needs_background": "light"
     },
     "output_type": "display_data"
    },
    {
     "name": "stdout",
     "output_type": "stream",
     "text": [
      "[(3, 0), (4, 0), (5, 0), (7, 0), (8, 0), (9, 0), (12, 0), (13, 0), (16, 0), (18, 0), (22, 0), (23, 0), (25, 0), (26, 0), (30, 0), (34, 0), (35, 0), (36, 0), (39, 0), (42, 0), (43, 0), (46, 0), (47, 0), (48, 0), (49, 0), (53, 0), (54, 0), (55, 0), (58, 0), (59, 0), (63, 0), (64, 0), (69, 0), (70, 0), (76, 0), (77, 0), (78, 0), (79, 0), (80, 0), (83, 0), (84, 0), (85, 0), (87, 0), (88, 0), (91, 0), (92, 0), (95, 0), (96, 0), (100, 0), (101, 0), (102, 0), (103, 0), (107, 0), (108, 0), (112, 0), (113, 0), (114, 0), (116, 0), (121, 0), (123, 0), (127, 0), (130, 0), (131, 0), (132, 0), (133, 0), (136, 0), (137, 0), (139, 0), (140, 0), (141, 0), (142, 0), (146, 0), (147, 0), (148, 0), (150, 0), (151, 0), (154, 0), (155, 0), (159, 0), (160, 0), (161, 0), (162, 0), (163, 0), (167, 0), (168, 0), (172, 0), (173, 0), (176, 0), (177, 0), (179, 0), (180, 0), (184, 0), (185, 0), (189, 0), (190, 0), (191, 0), (195, 0), (196, 0), (197, 0), (198, 0), (202, 0), (203, 0), (204, 0), (208, 0), (209, 0), (212, 0), (213, 0), (215, 0), (217, 0), (218, 0), (219, 0), (226, 0), (227, 0), (228, 0), (230, 0), (234, 0), (238, 0), (239, 0), (240, 0), (241, 0), (244, 0), (245, 0), (246, 0), (249, 0), (250, 0), (254, 0), (255, 0), (258, 0), (259, 0), (264, 0), (265, 0), (266, 0), (267, 0), (268, 0), (271, 0), (272, 0), (273, 0), (274, 0), (275, 0), (278, 0), (279, 0), (282, 0), (283, 0), (284, 0), (285, 0), (286, 0), (292, 0), (293, 0), (294, 0), (298, 0), (299, 0), (300, 0), (306, 0), (307, 0), (308, 0), (309, 0), (310, 0), (315, 0), (316, 0), (317, 0), (318, 0), (319, 0), (323, 0), (324, 0), (327, 0), (328, 0), (331, 0), (332, 0), (333, 0), (336, 0), (337, 0), (340, 0), (341, 0), (344, 0), (345, 0), (346, 0), (347, 0), (350, 0), (355, 0), (356, 0), (360, 0), (361, 0), (362, 0), (363, 0), (364, 0), (368, 0), (370, 0), (371, 0), (372, 0), (374, 0), (378, 0), (379, 0), (382, 0), (383, 0), (384, 0), (385, 0), (387, 0), (388, 0), (389, 0), (390, 0), (394, 0), (396, 0), (397, 0), (401, 0), (402, 0), (403, 0), (405, 0), (406, 0), (409, 0), (410, 0), (412, 0), (413, 0), (414, 0), (415, 0), (419, 0), (420, 0), (421, 0), (422, 0), (426, 0), (427, 0), (428, 0), (432, 0), (433, 0), (437, 0), (438, 0), (439, 0), (443, 0), (444, 0), (445, 0), (446, 0), (447, 0), (448, 0), (454, 0), (455, 0), (460, 0), (461, 0), (465, 0), (466, 0), (469, 0), (470, 0), (473, 0), (476, 0), (477, 0), (478, 0), (482, 0), (483, 0), (485, 0), (486, 0), (487, 0), (488, 0), (489, 0), (492, 0), (493, 0), (494, 0), (498, 0), (499, 0), (500, 0), (501, 0), (502, 0), (507, 0), (508, 0), (509, 0), (510, 0), (511, 0), (518, 0), (520, 0), (521, 0), (522, 0), (524, 0), (525, 0), (528, 0), (529, 0), (534, 0), (535, 0), (536, 0), (541, 0), (542, 0), (543, 0), (544, 0), (547, 0), (548, 0), (551, 0), (552, 0), (558, 0), (559, 0), (560, 0), (564, 0), (566, 0), (569, 0), (570, 0), (571, 0), (577, 0), (578, 0), (579, 0), (584, 0), (585, 0), (586, 0), (587, 0), (590, 0), (591, 0), (595, 0), (596, 0), (597, 0), (600, 0), (601, 0), (602, 0), (603, 0), (604, 0), (608, 0), (609, 0), (612, 0), (613, 0), (616, 0), (618, 0), (619, 0), (622, 0), (623, 0), (624, 0), (625, 0), (626, 0), (629, 0), (630, 0), (634, 0), (638, 0), (639, 0), (640, 0), (643, 0), (644, 0), (645, 0), (646, 0), (648, 0), (651, 0), (652, 0), (655, 0), (656, 0), (659, 0), (662, 0), (663, 0), (665, 0), (667, 0), (669, 0), (672, 0), (673, 0), (674, 0), (679, 0), (685, 0), (686, 0), (689, 0), (690, 0), (696, 0), (697, 0), (699, 0), (700, 0), (702, 0), (703, 0), (707, 0), (708, 0), (709, 0), (711, 0), (712, 0), (713, 0), (714, 0), (715, 0), (716, 0), (719, 0), (720, 0), (723, 0), (724, 0), (725, 0), (729, 0), (730, 0), (731, 0), (734, 0), (735, 0), (736, 0), (739, 0), (740, 0), (741, 0), (746, 0), (747, 0), (748, 0), (749, 0), (751, 0), (753, 0), (755, 0), (759, 0), (760, 0), (761, 0), (766, 0), (767, 0), (770, 0), (771, 0), (772, 0), (773, 0), (777, 0), (778, 0), (783, 0), (786, 0), (787, 0), (790, 0), (791, 0), (793, 0), (794, 0), (795, 0), (802, 0), (804, 0), (807, 0), (808, 0), (809, 0), (811, 0), (812, 0), (813, 0), (815, 0), (816, 0), (819, 0), (820, 0), (821, 0), (822, 0), (823, 0), (826, 0), (827, 0), (831, 0), (835, 0), (836, 0), (839, 0), (840, 0), (845, 0), (846, 0), (847, 0), (850, 0), (851, 0), (855, 0), (856, 0), (859, 0), (860, 0), (861, 0), (862, 0), (863, 0), (865, 0), (866, 0), (867, 0), (868, 0), (872, 0), (876, 0), (877, 0), (881, 0), (882, 0), (883, 0), (884, 0), (887, 0), (888, 0), (891, 0), (892, 0), (895, 0), (896, 0), (898, 0), (899, 0), (900, 0), (904, 0), (905, 0), (908, 0), (909, 0), (910, 0), (911, 0), (914, 0), (918, 0), (920, 0), (921, 0), (922, 0), (924, 0), (930, 0), (932, 0), (933, 0), (934, 0), (935, 0), (936, 0), (939, 0), (940, 0), (941, 0), (943, 0), (945, 0), (949, 0), (950, 0), (951, 0), (954, 0), (955, 0), (956, 0), (957, 0), (958, 0), (963, 0), (964, 0), (965, 0), (968, 0), (969, 0), (970, 0), (973, 0), (974, 0), (975, 0), (976, 0), (979, 0), (980, 0), (984, 0), (985, 0), (986, 0), (987, 0), (993, 0), (994, 0), (997, 0), (998, 0), (1001, 0), (1002, 0), (1008, 0), (1009, 0), (1010, 0), (1013, 0), (1014, 0), (1015, 0), (1016, 0), (1017, 0), (1021, 0), (1025, 0), (1027, 0), (1029, 0), (1030, 0), (1031, 0), (1034, 0), (1035, 0), (1038, 0), (1039, 0), (1040, 0), (1041, 0), (1045, 0), (1046, 0), (1047, 0), (1048, 0), (1049, 0), (1054, 0), (1055, 0), (1056, 0), (1060, 0), (1061, 0), (1065, 0), (1069, 0), (1070, 0), (1071, 0), (1072, 0), (1076, 0), (1077, 0), (1080, 0), (1081, 0), (1084, 0), (1086, 0), (1087, 0), (1088, 0), (1090, 0), (1094, 0), (1096, 0), (1097, 0), (1101, 0), (1104, 0), (1105, 0), (1106, 0), (1107, 0), (1110, 0), (1114, 0), (1117, 0), (1118, 0), (1119, 0), (1120, 0), (1124, 0), (1125, 0), (1128, 0), (1129, 0), (1131, 0), (1133, 0), (1134, 0), (1138, 0), (1139, 0), (1140, 0), (1143, 0), (1146, 0), (1147, 0), (1148, 0), (1149, 0), (1150, 0), (1157, 0), (1160, 0), (1161, 0), (1165, 0), (1166, 0), (1170, 0), (1171, 0), (1172, 0), (1174, 0), (1177, 0), (1178, 0), (1181, 0), (1182, 0), (1185, 0), (1186, 0), (1189, 0), (1190, 0), (1191, 0), (1195, 0), (1196, 0), (1197, 0), (1201, 0), (1202, 0), (1205, 0), (1206, 0), (1207, 0), (1208, 0), (1214, 0), (1216, 0), (1217, 0), (1218, 0), (1219, 0), (1220, 0), (1224, 0), (1225, 0), (1226, 0), (1227, 0), (1231, 0), (1232, 0), (1237, 0), (1238, 0), (1239, 0), (1240, 0), (1241, 0), (1242, 0), (1247, 0), (1248, 0), (1250, 0), (1253, 0), (1254, 0)]\n"
     ]
    },
    {
     "data": {
      "image/png": "[encoded data removed]",
      "text/plain": [
       "<Figure size 432x288 with 1 Axes>"
      ]
     },
     "metadata": {
      "needs_background": "light"
     },
     "output_type": "display_data"
    }
   ],
   "source": [
    "# feature detection \n",
    "import pandas as pd\n",
    "import numpy as np\n",
    "import os\n",
    "import matplotlib.pyplot as plt\n",
    "\n",
    "def histogram_intersection(a, b):\n",
    "    v = np.minimum(a, b).sum().round(decimals=1)\n",
    "    return v\n",
    "\n",
    "def crosscorr(datax, datay, lag=0):\n",
    "    '''lag crosscorrelation'''\n",
    "    return datax.corr(datay.shift(lag))\n",
    "\n",
    "def df_shifted(df, target=None, lag=0):\n",
    "    if not lag and not target:\n",
    "        return df       \n",
    "    new = {}\n",
    "    for c in df.columns:\n",
    "        if c == target:\n",
    "            new[c] = df[target]\n",
    "        else:\n",
    "            new[c] = df[c].shift(periods=lag)\n",
    "    return  pd.DataFrame(data=new)\n",
    "\n",
    "def dtctft(data):\n",
    "    '''detect features in data'''\n",
    "    res = []\n",
    "    #davrg = np.average(data) + np.std(data)\n",
    "    for i in range(2,len(data)-2):\n",
    "        #if data[i] > data[i-1] and data[i] > data[i+1] \\\n",
    "        #and data[i-1] > data[i-2] and data[i+1] > data[i+2]:\n",
    "        if np.average(np.dot(data[i-2:i+3], [-1,2,3,2,-1])) > 5*np.average(data[i-2:i+3]):  \n",
    "            res.append((i,0))\n",
    "    return res\n",
    "\n",
    "os.chdir(r'C:\\Users\\bscho\\Documents\\DL\\lrgtxt0')\n",
    "# Read data from file 'filename.csv' \n",
    "# Control delimiters, rows, column names with read_csv (see later) \n",
    "msftdata = pd.read_csv(\"MSFT.csv\")\n",
    "#aapldata = pd.read_csv(\"AAPL.csv\")\n",
    "\n",
    "print(len(msftdata['Close']))\n",
    "#for lg in range(-5,6):\n",
    "    #print('lag ', lg, crosscorr(msftdata['Close'], aapldata['Close'], lg))\n",
    "    \n",
    "#plt.scatter(msftdata['Close'][0:1512], aapldata['Close'][0:1512])\n",
    "plt.plot(msftdata['Close'][0:1512])\n",
    "plt.show()\n",
    "\n",
    "pks = dtctft(msftdata['Close'])\n",
    "print(pks)\n",
    "#print([pks[i][0]/pks[0][0] for i in range(len(pks)-1)])\n",
    "\n",
    "#plt.plot([pks[i][0]/pks[0][0] for i in range(len(pks)-1)])\n",
    "plt.plot([pks[i][0] for i in range(len(pks)-1)])\n",
    "plt.show()"
   ]
  },
  {
   "cell_type": "code",
   "execution_count": 1,
   "metadata": {},
   "outputs": [
    {
     "name": "stdout",
     "output_type": "stream",
     "text": [
      "1\n",
      "2\n",
      "Fizz\n",
      "4\n",
      "Buzz\n",
      "Fizz\n",
      "7\n",
      "8\n",
      "Fizz\n",
      "Buzz\n",
      "11\n",
      "Fizz\n",
      "13\n",
      "14\n",
      "FizzBuzz\n",
      "16\n",
      "17\n",
      "Fizz\n",
      "19\n",
      "Buzz\n"
     ]
    },
    {
     "data": {
      "text/plain": [
       "[None,\n",
       " None,\n",
       " None,\n",
       " None,\n",
       " None,\n",
       " None,\n",
       " None,\n",
       " None,\n",
       " None,\n",
       " None,\n",
       " None,\n",
       " None,\n",
       " None,\n",
       " None,\n",
       " None,\n",
       " None,\n",
       " None,\n",
       " None,\n",
       " None,\n",
       " None]"
      ]
     },
     "execution_count": 1,
     "metadata": {},
     "output_type": "execute_result"
    }
   ],
   "source": [
    "[print(\"FizzBuzz\") if i % 15 == 0 else print(\"Fizz\") if i % 3 == 0 else print(\"Buzz\") if i % 5 == 0 else print(i) for i in range(1,21)]"
   ]
  },
  {
   "cell_type": "code",
   "execution_count": 15,
   "metadata": {},
   "outputs": [
    {
     "name": "stdout",
     "output_type": "stream",
     "text": [
      "[3, 3, 5, 4, 3, 4, 3]\n"
     ]
    }
   ],
   "source": [
    "txt = 'the fox jumps over the lazy dog'\n",
    "print([len(x) for x in txt.split(' ')])"
   ]
  },
  {
   "cell_type": "code",
   "execution_count": 13,
   "metadata": {},
   "outputs": [
    {
     "name": "stdout",
     "output_type": "stream",
     "text": [
      "Enter your birthdate (yyyy-mm-dd):1973-04-05\n",
      "Enter today's date (yyyy-mm-dd):2020-09-17\n",
      "physical: -0.39840108984624156\n",
      "emotional: 0.43388373911755823\n",
      "mental: -0.7557495743542584\n"
     ]
    }
   ],
   "source": [
    "# biorhythm\n",
    "import math\n",
    "\n",
    "def days(y, m, d):\n",
    "    ''' input year and month are shifted to begin the year in march'''\n",
    "    m = (m + 9) % 12 \n",
    "    y = y - m/10\n",
    "    ''' with (m*306 + 5)/10 the number of days from march 1 to the current 'm' month '''\n",
    "    result = 365*y + y/4 - y/100 + y/400 + (m*306 + 5)/10 + ( d - 1 )\n",
    "    return result\n",
    " \n",
    "def diff(one, two):\n",
    "    [y1, m1, d1] = one.split('-')\n",
    "    [y2, m2, d2] = two.split('-')\n",
    "    # strings to integers\n",
    "    year2 = days(int(y2), int(m2), int(d2))\n",
    "    year1 = days(int(y1), int(m1), int(d1))\n",
    "    return year2 - year1\n",
    " \n",
    "if __name__ == \"__main__\":\n",
    "    bdt = input('Enter your birthdate (yyyy-mm-dd):')\n",
    "    tdt = input(\"Enter today's date (yyyy-mm-dd):\")\n",
    "    #bdt = '1972-12-05'\n",
    "    #bdt = '2020-09-09'\n",
    "    dd = int(diff(bdt, tdt))\n",
    "    print('physical: ' + str(math.sin(2*math.pi*(dd % 23) / 23 )))\n",
    "    print('emotional: ' + str(math.sin(2*math.pi*(dd % 28) / 28 )))\n",
    "    print('mental: ' + str(math.sin(2*math.pi*(dd % 33) / 33 )))"
   ]
  },
  {
   "cell_type": "code",
   "execution_count": 1,
   "metadata": {},
   "outputs": [
    {
     "name": "stdout",
     "output_type": "stream",
     "text": [
      "1\n",
      "1.618033988749895\n",
      "2.414213562373095\n",
      "3.302775637731995\n"
     ]
    }
   ],
   "source": [
    "# metallic ratios\n",
    "def lucconv(b, niter=100):\n",
    "    '''Lucas sequence convergence'''\n",
    "    if b <= 0:\n",
    "        return 1\n",
    "    xn1 = 1\n",
    "    xn2 = 0\n",
    "    for n in range(niter):\n",
    "        xn = b*xn1 + xn2\n",
    "        xn2 = xn1\n",
    "        xn1 = xn\n",
    "    return xn / xn2 # xn2 holds xn1 for last loop\n",
    "\n",
    "if __name__ == \"__main__\":\n",
    "    print(lucconv(0)) # plat\n",
    "    print(lucconv(1)) # gold\n",
    "    print(lucconv(2)) # silver\n",
    "    print(lucconv(3)) # bronze"
   ]
  },
  {
   "cell_type": "code",
   "execution_count": 26,
   "metadata": {},
   "outputs": [
    {
     "name": "stdout",
     "output_type": "stream",
     "text": [
      "2\n",
      "3\n",
      "5\n",
      "7\n",
      "11\n",
      "13\n",
      "17\n",
      "19\n",
      "23\n",
      "29\n",
      "31\n",
      "37\n",
      "41\n",
      "43\n",
      "47\n",
      "53\n",
      "59\n",
      "61\n",
      "67\n",
      "71\n",
      "73\n",
      "\n"
     ]
    }
   ],
   "source": [
    "# sieve of E via yield\n",
    "def intsfrom(n):\n",
    "    while True:\n",
    "        yield n\n",
    "        n += 1\n",
    "\n",
    "def sieve(ilist):\n",
    "    p = next(ilist)\n",
    "    yield p\n",
    "    for q in sieve(n for n in ilist if n%p != 0):\n",
    "        yield q\n",
    "\n",
    "if __name__ == \"__main__\":\n",
    "    ctr = 0\n",
    "    try:\n",
    "        for p in sieve(intsfrom(2)):\n",
    "            print (p)\n",
    "            ctr += 1\n",
    "            if ctr > 20:\n",
    "                break\n",
    "        print ('')\n",
    "    except RuntimeError as e:\n",
    "        print (e)\n"
   ]
  },
  {
   "cell_type": "code",
   "execution_count": 1,
   "metadata": {},
   "outputs": [
    {
     "name": "stdout",
     "output_type": "stream",
     "text": [
      "1\n",
      "2\n",
      "145\n",
      "40585\n"
     ]
    }
   ],
   "source": [
    "# factorions\n",
    "def fact(n):\n",
    "    if n == 0:\n",
    "        return 1\n",
    "    return n*fact(n-1)\n",
    "\n",
    "fl = [fact(n) for n in range(11)] # caching factorials\n",
    "\n",
    "def isfctrn(n):\n",
    "    dgl = [x for x in str(n)]\n",
    "    #n0 = sum([fact(int(x)) for x in dgl])\n",
    "    n0 = sum([fl[int(x)] for x in dgl])\n",
    "    if n==n0:\n",
    "        return True\n",
    "    return False\n",
    "    \n",
    "if __name__ == \"__main__\":\n",
    "    for n in range(50000):\n",
    "        if isfctrn(n):\n",
    "            print(n)"
   ]
  },
  {
   "cell_type": "code",
   "execution_count": 1,
   "metadata": {},
   "outputs": [
    {
     "name": "stdout",
     "output_type": "stream",
     "text": [
      "0: 12.5 12.489995996796797\n",
      "1: 12.0234375 12.489995996796797\n"
     ]
    }
   ],
   "source": [
    "# sqrt approx simple\n",
    "import math\n",
    "\n",
    "def sqrta0(x, niter=20):\n",
    "    '''very simple square root approximation'''\n",
    "    x0 = int(x/3)\n",
    "    for i in range(1, niter):\n",
    "        dx = 1 / i\n",
    "        while x0*x0 > x:\n",
    "            x0 -= dx\n",
    "        x0 += dx\n",
    "    return x0\n",
    "\n",
    "def sqrta1(x, niter=10):\n",
    "    '''very simple square root approximation'''\n",
    "    x0 = x/3\n",
    "    dx = 1\n",
    "    for i in range(1, niter):\n",
    "        while x0*x0 > x:\n",
    "            x0 -= dx\n",
    "        dx = (x - x0*x0) / 2**(i + 1)\n",
    "    return x0 + 2*dx\n",
    "\n",
    "if __name__ == \"__main__\":\n",
    "    a = 156\n",
    "    print('0:', sqrta0(a), math.sqrt(a))\n",
    "    print('1:', sqrta1(a), math.sqrt(a))"
   ]
  },
  {
   "cell_type": "code",
   "execution_count": 10,
   "metadata": {},
   "outputs": [
    {
     "name": "stdout",
     "output_type": "stream",
     "text": [
      "Help on method pryear in module calendar:\n",
      "\n",
      "pryear(theyear, w=0, l=0, c=6, m=3) method of calendar.TextCalendar instance\n",
      "    Print a year's calendar.\n",
      "\n",
      "                                  1969\n",
      "\n",
      "      January                   February                   March\n",
      "Mo Tu We Th Fr Sa Su      Mo Tu We Th Fr Sa Su      Mo Tu We Th Fr Sa Su\n",
      "       1  2  3  4  5                      1  2                      1  2\n",
      " 6  7  8  9 10 11 12       3  4  5  6  7  8  9       3  4  5  6  7  8  9\n",
      "13 14 15 16 17 18 19      10 11 12 13 14 15 16      10 11 12 13 14 15 16\n",
      "20 21 22 23 24 25 26      17 18 19 20 21 22 23      17 18 19 20 21 22 23\n",
      "27 28 29 30 31            24 25 26 27 28            24 25 26 27 28 29 30\n",
      "                                                    31\n",
      "\n",
      "       April                      May                       June\n",
      "Mo Tu We Th Fr Sa Su      Mo Tu We Th Fr Sa Su      Mo Tu We Th Fr Sa Su\n",
      "    1  2  3  4  5  6                1  2  3  4                         1\n",
      " 7  8  9 10 11 12 13       5  6  7  8  9 10 11       2  3  4  5  6  7  8\n",
      "14 15 16 17 18 19 20      12 13 14 15 16 17 18       9 10 11 12 13 14 15\n",
      "21 22 23 24 25 26 27      19 20 21 22 23 24 25      16 17 18 19 20 21 22\n",
      "28 29 30                  26 27 28 29 30 31         23 24 25 26 27 28 29\n",
      "                                                    30\n",
      "\n",
      "        July                     August                  September\n",
      "Mo Tu We Th Fr Sa Su      Mo Tu We Th Fr Sa Su      Mo Tu We Th Fr Sa Su\n",
      "    1  2  3  4  5  6                   1  2  3       1  2  3  4  5  6  7\n",
      " 7  8  9 10 11 12 13       4  5  6  7  8  9 10       8  9 10 11 12 13 14\n",
      "14 15 16 17 18 19 20      11 12 13 14 15 16 17      15 16 17 18 19 20 21\n",
      "21 22 23 24 25 26 27      18 19 20 21 22 23 24      22 23 24 25 26 27 28\n",
      "28 29 30 31               25 26 27 28 29 30 31      29 30\n",
      "\n",
      "      October                   November                  December\n",
      "Mo Tu We Th Fr Sa Su      Mo Tu We Th Fr Sa Su      Mo Tu We Th Fr Sa Su\n",
      "       1  2  3  4  5                      1  2       1  2  3  4  5  6  7\n",
      " 6  7  8  9 10 11 12       3  4  5  6  7  8  9       8  9 10 11 12 13 14\n",
      "13 14 15 16 17 18 19      10 11 12 13 14 15 16      15 16 17 18 19 20 21\n",
      "20 21 22 23 24 25 26      17 18 19 20 21 22 23      22 23 24 25 26 27 28\n",
      "27 28 29 30 31            24 25 26 27 28 29 30      29 30 31\n"
     ]
    }
   ],
   "source": [
    "import calendar\n",
    "help(calendar.prcal)\n",
    " \n",
    "#pryear(self, theyear, w=0, l=0, c=6, m=3)\n",
    "calendar.prcal(1969)"
   ]
  },
  {
   "cell_type": "code",
   "execution_count": 1,
   "metadata": {},
   "outputs": [
    {
     "data": {
      "text/html": [
       "<html><table border=\"0\" cellpadding=\"0\" cellspacing=\"0\" class=\"2020\">\n",
       "<tr><th colspan=\"3\" class=\"2020\">theyear</th></tr><tr><td>1</td><td>2</td><td>3</td></tr><tr><td>4</td><td>5</td><td>6</td></tr><tr><td>7</td><td>8</td><td>9</td></tr><tr><td>10</td><td>11</td><td>12</td></tr></table></html>"
      ],
      "text/plain": [
       "<IPython.core.display.HTML object>"
      ]
     },
     "metadata": {},
     "output_type": "display_data"
    }
   ],
   "source": [
    "# table display\n",
    "from IPython.core.display import display, HTML\n",
    "\n",
    "def tblo(width=3):\n",
    "    '''table output'''\n",
    "    v = []\n",
    "    a = v.append\n",
    "    width = max(width, 1)\n",
    "    a('<table border=\"0\" cellpadding=\"0\" cellspacing=\"0\" class=\"%s\">' % '2020')\n",
    "    a('\\n')\n",
    "    a('<tr><th colspan=\"%d\" class=\"%s\">%s</th></tr>' % (width, '2020', 'theyear'))\n",
    "    for i in range(1, 1+12, width):\n",
    "        # months in this row\n",
    "        months = range(i, min(i+width, 13))\n",
    "        a('<tr>')\n",
    "        for m in months:\n",
    "            a('<td>')\n",
    "            a(str(m))\n",
    "            a('</td>')\n",
    "        a('</tr>')\n",
    "    a('</table>')\n",
    "    return ''.join(v)\n",
    "\n",
    "if __name__ == \"__main__\":\n",
    "    display(HTML('<html>' + tblo() + '</html>'))"
   ]
  },
  {
   "cell_type": "code",
   "execution_count": 29,
   "metadata": {},
   "outputs": [
    {
     "name": "stdout",
     "output_type": "stream",
     "text": [
      "Thu, 24 Sep 2020 15:59:43 requesting data from site...\n",
      "Thu, 24 Sep 2020 15:59:43 processing page...\n",
      "Thu, 24 Sep 2020 15:59:46 processing page...\n",
      "Thu, 24 Sep 2020 15:59:49 processing page...\n",
      "Thu, 24 Sep 2020 15:59:50 processing page...\n",
      "Thu, 24 Sep 2020 15:59:51 saving files...\n",
      "Thu, 24 Sep 2020 15:59:51 completed!\n"
     ]
    }
   ],
   "source": [
    "# ID webscraping\n",
    "import requests\n",
    "import sys\n",
    "import os\n",
    "import webbrowser\n",
    "import bs4\n",
    "import time\n",
    "import random\n",
    "import json\n",
    "from collections import namedtuple\n",
    "import csv\n",
    "\n",
    "def getres(url): # get request http://docs.python-requests.org/en/master/user/quickstart/\n",
    "    try:\n",
    "        return requests.get(url, timeout=10.0)\n",
    "    except Exception as e:\n",
    "        msg = \"Exception is:\\n %s \\n\" % e\n",
    "        print(msg)\n",
    "        resf = namedtuple('res', 'content status_code')\n",
    "        pt1 = resf('', 204)\n",
    "        return resf # return a failed request\n",
    "\n",
    "def __unicode__(self):\n",
    "    return unicode(self.some_field) or u''\n",
    "    \n",
    "def main():\n",
    "    '''read insolvenzticker'''\n",
    "    \n",
    "    ddataline = namedtuple('ddataline', 'name date iid jurisd')\n",
    "    \n",
    "    class ddataline:\n",
    "        name = ''\n",
    "        date = ''\n",
    "        iid = ''\n",
    "        jurisd = ''\n",
    "        \n",
    "        def __init__(self):\n",
    "            self.name = ''\n",
    "            self.date = ''\n",
    "            self.iid = ''\n",
    "            self.jurisd = ''\n",
    "        def get_vals(self):\n",
    "            return [self.name, self.date, self.iid, self.jurisd]\n",
    "                    \n",
    "    #brupdct = {} # bankrupcy dictionary\n",
    "    outtext = ''\n",
    "\n",
    "    print(time.strftime(\"%a, %d %b %Y %H:%M:%S\", time.localtime(time.time())), 'requesting data from site...')    \n",
    "        \n",
    "    results = []\n",
    "\n",
    "    for pgctr in range(4):\n",
    "        if pgctr == 0:\n",
    "            res = getres('https://xxxx') # https://www.akv.at/insolvenzticker?fwp_paged=2\n",
    "        else:\n",
    "            res = getres('https://xxxx?fwp_paged=' + str(pgctr+1))\n",
    "        if res.status_code == 200:\n",
    "            print(time.strftime(\"%a, %d %b %Y %H:%M:%S\", time.localtime(time.time())), 'processing page...')\n",
    "\n",
    "            exsoup = bs4.BeautifulSoup(res.text, 'html.parser')\n",
    "\n",
    "            #elems = exsoup.find(class_='facetwp-template').descendants\n",
    "            elems = exsoup.find_all('article', class_='post-entry')\n",
    "            if elems is not None:\n",
    "                #print(elems)\n",
    "                for idx, elem in enumerate(elems):\n",
    "                    #print(idx, elem)\n",
    "                    dtln = []\n",
    "                    # dtln = ddataline()\n",
    "                    for lnel in elem.find_all(class_='insocol'):\n",
    "                        if lnel.string is not None:\n",
    "                            dtln.append(lnel.string.strip())\n",
    "                            # dtln.name = elem.string.strip()\n",
    "                    results.append(dtln)\n",
    "                    # brupdct[str(nentry)] = dtln.get_vals()\n",
    "\n",
    "        time.sleep(random.randint(1, 3)) # wait a few seconds\n",
    "\n",
    "    print(time.strftime(\"%a, %d %b %Y %H:%M:%S\", time.localtime(time.time())), 'saving files...')\n",
    "\n",
    "    os.chdir(r'C:\\Users\\xxxxxx')\n",
    "    with open('brpcydt.csv', 'w', newline='') as csvfile:\n",
    "        #csvwrtr = csv.writer(csvfile, delimiter=' ', quotechar='|', quoting=csv.QUOTE_MINIMAL)\n",
    "        csvwrtr = csv.writer(csvfile, delimiter=',')\n",
    "        for row in results:\n",
    "            csvwrtr.writerow(row)\n",
    "    \n",
    "    print(time.strftime(\"%a, %d %b %Y %H:%M:%S\", time.localtime(time.time())), 'completed!')\n",
    "    \n",
    "if __name__==\"__main__\":\n",
    "    main()"
   ]
  },
  {
   "cell_type": "code",
   "execution_count": 41,
   "metadata": {},
   "outputs": [
    {
     "data": {
      "image/png": "[encoded data removed]",
      "text/plain": [
       "<Figure size 432x288 with 1 Axes>"
      ]
     },
     "metadata": {
      "needs_background": "light"
     },
     "output_type": "display_data"
    },
    {
     "name": "stdout",
     "output_type": "stream",
     "text": [
      "[1.0, 0.20010096085783546, 0.07807394844274639, 0.040040394536229, 0.023853429382973447, 0.015622672101358662, 0.010923414897647137, 0.008012121419826247, 0.006095541425440623, 0.004773094139287512]\n"
     ]
    },
    {
     "data": {
      "image/png": "[encoded data removed]",
      "text/plain": [
       "<Figure size 432x288 with 1 Axes>"
      ]
     },
     "metadata": {
      "needs_background": "light"
     },
     "output_type": "display_data"
    },
    {
     "name": "stdout",
     "output_type": "stream",
     "text": [
      "[1.0, 1.7071067811865475, 2.284457050376173, 2.784457050376173, 3.231670645876131, 3.6399189363399937, 4.017883409349221, 4.371436799942495, 4.704770133275828, 5.020997899292666]\n"
     ]
    }
   ],
   "source": [
    "import math\n",
    "import matplotlib.pyplot as plt\n",
    "# Zipf's law\n",
    "\n",
    "def zipf(k, s, N):\n",
    "    '''Zipf s distribution'''\n",
    "    return 1/(k**s * sum([1/n**s for n in range(1,N+1)]))\n",
    "\n",
    "def main():\n",
    "    #print(zipf(1, 1.1, 10))\n",
    "    x, y = [], []\n",
    "    for k in range(1,11):\n",
    "        x.append(k)\n",
    "        y.append(zipf(k, 2.3212, 10)) # almost 80/20\n",
    "    plt.plot(x, y)\n",
    "    plt.show()\n",
    "    print([yi/y[0] for yi in y])\n",
    "    x, y = [], []\n",
    "    for k in range(1,11):\n",
    "        x.append(k)\n",
    "        if k>1:\n",
    "            y.append(y[k-2] + zipf(k, 0.5, 10)) # Price's law\n",
    "        else:\n",
    "            y.append(zipf(k, 0.5, 10))\n",
    "    plt.plot(x, y)\n",
    "    plt.show()\n",
    "    print([yi/y[0] for yi in y])\n",
    "\n",
    "if __name__==\"__main__\":\n",
    "    main()"
   ]
  },
  {
   "cell_type": "code",
   "execution_count": 1,
   "metadata": {},
   "outputs": [
    {
     "name": "stdout",
     "output_type": "stream",
     "text": [
      "1.6439335666815615\n",
      "152.54660009607557\n"
     ]
    }
   ],
   "source": [
    "def zeta(s, niter=1000):\n",
    "    return sum([1/k**s for k in range(1,niter)])\n",
    "\n",
    "def intsfrom(n):\n",
    "    while True:\n",
    "        yield n\n",
    "        n += 1\n",
    "\n",
    "def sieve(ilist):\n",
    "    p = next(ilist)\n",
    "    yield p\n",
    "    for q in sieve(n for n in ilist if n%p != 0):\n",
    "        yield q\n",
    "        \n",
    "def primes235(limit):\n",
    "    yield 2; yield 3; yield 5\n",
    "    if limit < 7: return\n",
    "    modPrms = [7,11,13,17,19,23,29,31]\n",
    "    gaps = [4,2,4,2,4,6,2,6,4,2,4,2,4,6,2,6] # 2 loops for overflow\n",
    "    ndxs = [0,0,0,0,1,1,2,2,2,2,3,3,4,4,4,4,5,5,5,5,5,5,6,6,7,7,7,7,7,7]\n",
    "    lmtbf = (limit + 23) // 30 * 8 - 1 # integral number of wheels rounded up\n",
    "    lmtsqrt = (int(limit ** 0.5) - 7)\n",
    "    lmtsqrt = lmtsqrt // 30 * 8 + ndxs[lmtsqrt % 30] # round down on the wheel\n",
    "    buf = [True] * (lmtbf + 1)\n",
    "    for i in range(lmtsqrt + 1):\n",
    "        if buf[i]:\n",
    "            ci = i & 7; p = 30 * (i >> 3) + modPrms[ci]\n",
    "            s = p * p - 7; p8 = p << 3\n",
    "            for j in range(8):\n",
    "                c = s // 30 * 8 + ndxs[s % 30]\n",
    "                buf[c::p8] = [False] * ((lmtbf - c) // p8 + 1)\n",
    "                s += p * gaps[ci]; ci += 1\n",
    "    for i in range(lmtbf - 6 + (ndxs[(limit - 7) % 30])): # adjust for extras\n",
    "        if buf[i]: yield (30 * (i >> 3) + modPrms[i & 7])\n",
    "        \n",
    "def euler(s, niter=1000):\n",
    "    den = 1.\n",
    "    for p in list(primes235(niter)):\n",
    "        den *= (1-1/p)**s\n",
    "    return 1 / den\n",
    "        \n",
    "def main():\n",
    "    print(zeta(2))\n",
    "    print(euler(2))\n",
    "\n",
    "if __name__==\"__main__\":\n",
    "    main()"
   ]
  },
  {
   "cell_type": "code",
   "execution_count": 1,
   "metadata": {},
   "outputs": [
    {
     "name": "stdout",
     "output_type": "stream",
     "text": [
      "        w      x      y      z      f\n",
      "0   False  False  False  False  False\n",
      "1   False  False  False   True  False\n",
      "2   False  False   True  False  False\n",
      "3   False  False   True   True  False\n",
      "4   False   True  False  False  False\n",
      "5   False   True  False   True  False\n",
      "6   False   True   True  False  False\n",
      "7   False   True   True   True   True\n",
      "8    True  False  False  False  False\n",
      "9    True  False  False   True  False\n",
      "10   True  False   True  False  False\n",
      "11   True  False   True   True  False\n",
      "12   True   True  False  False  False\n",
      "13   True   True  False   True  False\n",
      "14   True   True   True  False   True\n",
      "15   True   True   True   True   True\n"
     ]
    }
   ],
   "source": [
    "# truth tables\n",
    "import pandas as pd\n",
    "from itertools import product\n",
    "\n",
    "def f(w,x,y,z):\n",
    "    return (x and y) and (w or z)\n",
    "\n",
    "def truth_table(f):\n",
    "    values = [list(x) + [f(*x)] for x in product([False,True], repeat=f.__code__.co_argcount)] # __x__ to access function properties\n",
    "    return pd.DataFrame(values,columns=(list(f.__code__.co_varnames) + [f.__name__]))\n",
    "\n",
    "def main():\n",
    "    print(truth_table(f))\n",
    "\n",
    "if __name__==\"__main__\":\n",
    "    main()"
   ]
  },
  {
   "cell_type": "code",
   "execution_count": 2,
   "metadata": {},
   "outputs": [
    {
     "name": "stdout",
     "output_type": "stream",
     "text": [
      "8\n",
      "13\n"
     ]
    }
   ],
   "source": [
    "# stairs\n",
    "def nstrs(n, strds):\n",
    "    '''number of ways to climb n stairs given strides (generalized Fibonacci)'''\n",
    "    if len(strds) == 0:\n",
    "        return 1\n",
    "    if len(strds) == 1:\n",
    "        if n % strds[0] == 0:\n",
    "            return 1\n",
    "        return 0\n",
    "    return sum([nstrs(n-strd, [x for x in strds if x <= n-strd]) for strd in strds])\n",
    "\n",
    "def main():\n",
    "    print(nstrs(5, [1,2]))\n",
    "    print(nstrs(5, [1,2,3]))\n",
    "\n",
    "if __name__==\"__main__\":\n",
    "    main()"
   ]
  },
  {
   "cell_type": "code",
   "execution_count": 7,
   "metadata": {},
   "outputs": [
    {
     "name": "stdout",
     "output_type": "stream",
     "text": [
      "(27.0, 3, 0, 6)\n"
     ]
    }
   ],
   "source": [
    "import math\n",
    "import random\n",
    "\n",
    "def sqrtex(n):\n",
    "    base = random.randint(2,n)\n",
    "    expn = random.randint(2,n)\n",
    "    expsq = expn % 2\n",
    "    fctr = base ** ((expn - expsq) / 2)\n",
    "    return (fctr, base, expsq, expn)\n",
    "\n",
    "def main():\n",
    "    print(sqrtex(8))\n",
    "\n",
    "if __name__==\"__main__\":\n",
    "    main()"
   ]
  },
  {
   "cell_type": "code",
   "execution_count": 1,
   "metadata": {},
   "outputs": [
    {
     "data": {
      "image/png": "[encoded data removed]",
      "text/plain": [
       "<Figure size 432x288 with 1 Axes>"
      ]
     },
     "metadata": {
      "needs_background": "light"
     },
     "output_type": "display_data"
    },
    {
     "data": {
      "image/png": "[encoded data removed]",
      "text/plain": [
       "<Figure size 432x288 with 1 Axes>"
      ]
     },
     "metadata": {
      "needs_background": "light"
     },
     "output_type": "display_data"
    }
   ],
   "source": [
    "# Abelian sandpile\n",
    "import random\n",
    "from IPython.core.display import display, HTML\n",
    "import matplotlib.pyplot as plt\n",
    "\n",
    "def tblo(table):\n",
    "    '''table output'''\n",
    "    width = len(table)\n",
    "    v = []\n",
    "    a = v.append\n",
    "    width = max(width, 1)\n",
    "    a('<table border=\"0\" cellpadding=\"0\" cellspacing=\"0\" class=\"%s\">' % '2020')\n",
    "    a('\\n')\n",
    "    for i in range(width):\n",
    "        a('<tr>')\n",
    "        for m in table[i]:\n",
    "            a('<td>')\n",
    "            a(str(m))\n",
    "            a('</td>')\n",
    "        a('</tr>')\n",
    "    a('</table>')\n",
    "    return ''.join(v)\n",
    "\n",
    "def distr(grid, nlim=4):\n",
    "    '''distribute all >= nlim sandpiles in grid'''\n",
    "    for i in range(len(grid)):\n",
    "        for j in range(len(grid[0])):\n",
    "            while grid[i][j] >= nlim:\n",
    "                grid[i][j] -= nlim\n",
    "                grid[max(i-1,0)][j] += int(nlim/4)\n",
    "                grid[min(i+1,len(grid)-1)][j] += int(nlim/4)\n",
    "                grid[i][max(j-1,0)] += int(nlim/4)\n",
    "                grid[i][min(j+1,len(grid[0])-1)] += int(nlim/4)\n",
    "    return grid\n",
    "\n",
    "def main():\n",
    "    nsize = 50\n",
    "    mygrid = [[random.choice([0,0,0,0,0,7]) for j in range(nsize)] for _ in range(nsize)]\n",
    "    #display(HTML('<html>' + tblo(mygrid) + '</html>'))\n",
    "    #print(sum([sum(x) for x in mygrid]))\n",
    "    plt.imshow(mygrid)\n",
    "    plt.show()\n",
    "    \n",
    "    niter = 0\n",
    "    while max([max(x) for x in mygrid]) > 3 and niter<1000:\n",
    "        mygrid = distr(mygrid, 5)\n",
    "        niter += 1\n",
    "    #display(HTML('<html>' + tblo(mygrid) + '</html>'))\n",
    "    #print(sum([sum(x) for x in mygrid]))\n",
    "    \n",
    "    plt.imshow(mygrid)\n",
    "    plt.show()\n",
    "\n",
    "if __name__==\"__main__\":\n",
    "    main()"
   ]
  },
  {
   "cell_type": "code",
   "execution_count": null,
   "metadata": {},
   "outputs": [],
   "source": []
  }
 ],
 "metadata": {
  "kernelspec": {
   "display_name": "tfgpu",
   "language": "python",
   "name": "tfgpu"
  },
  "language_info": {
   "codemirror_mode": {
    "name": "ipython",
    "version": 3
   },
   "file_extension": ".py",
   "mimetype": "text/x-python",
   "name": "python",
   "nbconvert_exporter": "python",
   "pygments_lexer": "ipython3",
   "version": "3.7.7"
  }
 },
 "nbformat": 4,
 "nbformat_minor": 4
}
