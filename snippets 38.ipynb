{
 "cells": [
  {
   "cell_type": "code",
   "execution_count": 8,
   "metadata": {},
   "outputs": [
    {
     "name": "stdout",
     "output_type": "stream",
     "text": [
      "length of target:  28\n",
      "avrg. number of iterations:  244.6\n"
     ]
    },
    {
     "data": {
      "image/png": "[encoded data removed]",
      "text/plain": [
       "<Figure size 432x288 with 1 Axes>"
      ]
     },
     "metadata": {
      "needs_background": "light"
     },
     "output_type": "display_data"
    }
   ],
   "source": [
    "# evolutionary algo: eval aspect impact (mut, mate, fit, length, repro rate)\n",
    "from string import ascii_letters\n",
    "from random import choice, random\n",
    "import matplotlib.pyplot as plt\n",
    "import math\n",
    "\n",
    "def fitness(trial, target):\n",
    "    'Sum of matching chars by position - essentially the dot product'\n",
    "    return sum(t==h for t,h in zip(trial, target))\n",
    "    #return sum([sum([trl[i]==tgt[i+w] for w in range(-1,2)]) for i in range(1,len(trl)-1)]) # window\n",
    "    #return sum((ord(t)*math.log(ord(h)+0.001) for t,h in zip(trial, target))) # cross entropy\n",
    "\n",
    "def mutaterate(parent, target, perfectfitness, minmutaterate):\n",
    "    'Less mutation the closer the fit of the parent'\n",
    "    return 1 - ((perfectfitness - fitness(parent, target)) / perfectfitness * (1 - minmutaterate))\n",
    "\n",
    "def mutate(parent, rate, charset):\n",
    "    '''take character from parent or choose a random character from the vocabulary'''\n",
    "    return [(ch if random() <= rate else choice(charset)) for ch in parent] # below rate char survives, otherwise choose\n",
    "\n",
    "def que(iterations, parent, target, perfectfitness):\n",
    "    '(from the favourite saying of Manuel in Fawlty Towers)'\n",
    "    print (\"#%-4i, fitness: %4.1f%%, '%s'\" %\n",
    "           (iterations, fitness(parent, target)*100./perfectfitness, ''.join(parent)))\n",
    "\n",
    "def mate(a, b, target, splice_rt=7):\n",
    "    '''combine genes by splicing a and b at a random position'''\n",
    "    place = 0\n",
    "    if choice(range(10)) < splice_rt: # splice rate\n",
    "        place = choice(range(len(target)))\n",
    "        #fa = fitness(a, target) # this logic improves iterations by about 20%\n",
    "        #fb = fitness(b, target)\n",
    "        #place = int(fa / (fa+fb) * len(target) )\n",
    "    else:\n",
    "        return a, b\n",
    "    return a, b, a[:place] + b[place:], b[:place] + a[place:] # splice a and b\n",
    "\n",
    "def evorun(C, parent, charset, target, splice_rt, perfectfitness, minmutaterate):\n",
    "    '''a set of runs with given parameters'''\n",
    "    iterations = 0\n",
    "    center = int(len(C)/2)\n",
    "    while parent != target and iterations < 1000:\n",
    "        rate = mutaterate(parent, target, perfectfitness, minmutaterate)\n",
    "        iterations += 1\n",
    "        #if iterations % 100 == 0: que(iterations, parent, target, perfectfitness)\n",
    "        copies = [ mutate(parent, rate, charset) for _ in C ]  + [parent] # create a set of copies, but mutated\n",
    "        parent1 = max(copies[:center], key=lambda x: fitness(x, target)) # best parent from lower half\n",
    "        parent2 = max(copies[center:], key=lambda x: fitness(x, target)) # best parent from upper half\n",
    "        parent = max(mate(parent1, parent2, target, splice_rt), key=lambda x: fitness(x, target)) # choose best mutation from both bet parents\n",
    "    #que(iterations, parent, target, perfectfitness)\n",
    "    return (iterations)\n",
    "    \n",
    "def main():\n",
    "    target  = list(\"METHINKS IT IS LIKE A WEASEL\")\n",
    "    print('length of target: ', len(target))\n",
    "    charset = ascii_letters + ' '\n",
    "    parent  = [choice(charset) for _ in range(len(target))] # random init choice\n",
    "    minmutaterate  = .09\n",
    "    #C = range(200)\n",
    "    perfectfitness = float(len(target))\n",
    "    splice_rt = 8\n",
    "    #C_base = [25,50,100,200,300]\n",
    "    C_base = [240,250,260,270,280]\n",
    "    #C_base = [250, 270]\n",
    "    C_rg = [range(x) for x in C_base]\n",
    "    niter = []\n",
    "    ntrls = 3\n",
    "    #for sr in [1,2,3,4,5,6,7,8,9]:\n",
    "    for cc in C_rg:\n",
    "        navrg = 0.\n",
    "        for _ in range(ntrls):\n",
    "            navrg += evorun(cc, parent, charset, target, splice_rt, perfectfitness, minmutaterate)\n",
    "        niter.append(navrg / ntrls)\n",
    "    #niter = [niter[i] / C_base[i] for i in range(len(niter))] # scale by computational complexity of gene length\n",
    "    print('avrg. number of iterations: ', sum(niter) / len(C_base))\n",
    "    plt.plot(C_base, niter)\n",
    "    #plt.plot([1,2,3,4,5,6,7,8,9], niter)\n",
    "    plt.show()\n",
    "\n",
    "if __name__ == '__main__':\n",
    "    main()"
   ]
  },
  {
   "cell_type": "code",
   "execution_count": 7,
   "metadata": {},
   "outputs": [
    {
     "name": "stdout",
     "output_type": "stream",
     "text": [
      "[1, 7, 10, 13, 19, 23, 28, 31, 32, 44, 49, 68, 70, 79, 82, 86, 91, 94, 97, 100, 103, 109, 129, 130, 133, 139, 167, 176, 188, 190, 192, 193, 203, 208, 219, 226, 230, 236, 239, 262, 263, 280, 291, 293, 301, 302, 310, 313, 319, 320, 326, 329, 331, 338, 356, 362, 365, 367, 368, 376, 379, 383, 386, 391, 392, 397, 404, 409, 440, 446, 464, 469, 478, 487, 490, 496]\n"
     ]
    }
   ],
   "source": [
    "# happy numbers\n",
    "\n",
    "def happyn(n):\n",
    "    '''return true if n is happy'''\n",
    "    past = set()\n",
    "    while n != 1:\n",
    "        n = sum(int(i)**2 for i in str(n))\n",
    "        if n in past:\n",
    "            return False\n",
    "        past.add(n)\n",
    "    return True\n",
    "\n",
    "def main():\n",
    "    print([x for x in range(500) if happyn(x)])\n",
    "\n",
    "if __name__ == '__main__':\n",
    "    main()"
   ]
  },
  {
   "cell_type": "code",
   "execution_count": 16,
   "metadata": {},
   "outputs": [
    {
     "name": "stdout",
     "output_type": "stream",
     "text": [
      "length of target:  10\n",
      "avrg. number of iterations:  126.99999999999997\n"
     ]
    },
    {
     "data": {
      "image/png": "[encoded data removed]",
      "text/plain": [
       "<Figure size 432x288 with 1 Axes>"
      ]
     },
     "metadata": {
      "needs_background": "light"
     },
     "output_type": "display_data"
    },
    {
     "name": "stdout",
     "output_type": "stream",
     "text": [
      "length of target:  20\n",
      "avrg. number of iterations:  487.8\n"
     ]
    },
    {
     "data": {
      "image/png": "[encoded data removed]",
      "text/plain": [
       "<Figure size 432x288 with 1 Axes>"
      ]
     },
     "metadata": {
      "needs_background": "light"
     },
     "output_type": "display_data"
    },
    {
     "name": "stdout",
     "output_type": "stream",
     "text": [
      "length of target:  30\n",
      "avrg. number of iterations:  882.0\n"
     ]
    },
    {
     "data": {
      "image/png": "[encoded data removed]",
      "text/plain": [
       "<Figure size 432x288 with 1 Axes>"
      ]
     },
     "metadata": {
      "needs_background": "light"
     },
     "output_type": "display_data"
    },
    {
     "name": "stdout",
     "output_type": "stream",
     "text": [
      "length of target:  40\n",
      "avrg. number of iterations:  1200.0\n"
     ]
    },
    {
     "data": {
      "image/png": "[encoded data removed]",
      "text/plain": [
       "<Figure size 432x288 with 1 Axes>"
      ]
     },
     "metadata": {
      "needs_background": "light"
     },
     "output_type": "display_data"
    }
   ],
   "source": [
    "# evolutionary algo: relate target length and gene length\n",
    "from string import ascii_letters\n",
    "from random import choice, random\n",
    "import matplotlib.pyplot as plt\n",
    "import math\n",
    "\n",
    "def fitness(trial, target):\n",
    "    'Sum of matching chars by position - essentially the dot product'\n",
    "    return sum(t==h for t,h in zip(trial, target))\n",
    "    #return sum([sum([trl[i]==tgt[i+w] for w in range(-1,2)]) for i in range(1,len(trl)-1)]) # window\n",
    "    #return sum((ord(t)*math.log(ord(h)+0.001) for t,h in zip(trial, target))) # cross entropy\n",
    "\n",
    "def mutaterate(parent, target, perfectfitness, minmutaterate):\n",
    "    'Less mutation the closer the fit of the parent'\n",
    "    return 1 - ((perfectfitness - fitness(parent, target)) / perfectfitness * (1 - minmutaterate))\n",
    "\n",
    "def mutate(parent, rate, charset):\n",
    "    '''take character from parent or choose a random character from the vocabulary'''\n",
    "    return [(ch if random() <= rate else choice(charset)) for ch in parent] # below rate char survives, otherwise choose\n",
    "\n",
    "def que(iterations, parent, target, perfectfitness):\n",
    "    '(from the favourite saying of Manuel in Fawlty Towers)'\n",
    "    print (\"#%-4i, fitness: %4.1f%%, '%s'\" %\n",
    "           (iterations, fitness(parent, target)*100./perfectfitness, ''.join(parent)))\n",
    "\n",
    "def mate(a, b, target, splice_rt=7, mthd=0):\n",
    "    '''combine genes by splicing a and b at a random position'''\n",
    "    place = 0\n",
    "    if choice(range(10)) < splice_rt: # splice rate\n",
    "        if mthd == 0:\n",
    "            place = choice(range(len(target)))\n",
    "        else:\n",
    "            fa = fitness(a, target) # this logic improves iterations by about 20%\n",
    "            fb = fitness(b, target)\n",
    "            place = int(fa / (fa+fb) * len(target) )\n",
    "    else:\n",
    "        return a, b\n",
    "    return a, b, a[:place] + b[place:], b[:place] + a[place:] # splice a and b\n",
    "\n",
    "def evorun(C, parent, charset, target, splice_rt, perfectfitness, minmutaterate, maxiter=1200):\n",
    "    '''a set of runs with given parameters'''\n",
    "    iterations = 0\n",
    "    center = int(len(C)/2)\n",
    "    while parent != target and iterations < maxiter:\n",
    "        rate = mutaterate(parent, target, perfectfitness, minmutaterate)\n",
    "        iterations += 1\n",
    "        #if iterations % 100 == 0: que(iterations, parent, target, perfectfitness)\n",
    "        copies = [ mutate(parent, rate, charset) for _ in C ]  + [parent] # create a set of copies, but mutated\n",
    "        parent1 = max(copies[:center], key=lambda x: fitness(x, target)) # best parent from lower half\n",
    "        parent2 = max(copies[center:], key=lambda x: fitness(x, target)) # best parent from upper half\n",
    "        parent = max(mate(parent1, parent2, target, splice_rt), key=lambda x: fitness(x, target)) # choose best mutation from both bet parents\n",
    "    #que(iterations, parent, target, perfectfitness)\n",
    "    return (iterations)\n",
    "    \n",
    "def main():\n",
    "    charset = ascii_letters + ' '\n",
    "    for thislen in [10, 20, 30, 40]:\n",
    "        #target  = list(\"METHINKS IT IS LIKE A WEASEL\")\n",
    "        target = [choice(charset) for _ in range(thislen)]\n",
    "        print('length of target: ', len(target))\n",
    "        parent  = [choice(charset) for _ in range(len(target))] # random init choice\n",
    "        minmutaterate  = .09\n",
    "        perfectfitness = float(len(target))\n",
    "        splice_rt = 7\n",
    "        C_base = [10, 20, 50, 100, 150]\n",
    "        C_rg = [range(x) for x in C_base]\n",
    "        niter = []\n",
    "        ntrls = 3\n",
    "        #for sr in [1,2,3,4,5,6,7,8,9]:\n",
    "        for cc in C_rg:\n",
    "            navrg = 0.\n",
    "            for _ in range(ntrls):\n",
    "                navrg += evorun(cc, parent, charset, target, splice_rt, perfectfitness, minmutaterate)\n",
    "            niter.append(navrg / ntrls)\n",
    "        #niter = [niter[i] / C_base[i] for i in range(len(niter))] # scale by computational complexity of gene length\n",
    "        print('avrg. number of iterations: ', sum(niter) / len(C_base))\n",
    "        plt.plot(C_base, niter)\n",
    "        #plt.plot([1,2,3,4,5,6,7,8,9], niter)\n",
    "        plt.show()\n",
    "\n",
    "if __name__ == '__main__':\n",
    "    main()"
   ]
  },
  {
   "cell_type": "code",
   "execution_count": 1,
   "metadata": {},
   "outputs": [
    {
     "name": "stdout",
     "output_type": "stream",
     "text": [
      "target:  ['D', 'p', 'A', 'v', 'i', 'A', 'B', 'B', 'X', 'Z']\n",
      "length of target:  10\n",
      "#100 , fitness: 40.0%, 'DpA wfBwTW'\n",
      "#200 , fitness: 60.0%, 'DpAFiVBBZl'\n",
      "#300 , fitness: 70.0%, 'DpAfinOBXZ'\n",
      "#374 , fitness: 100.0%, 'DpAviABBXZ'\n",
      "330\n"
     ]
    }
   ],
   "source": [
    "# evolutionary algo: small demo\n",
    "from string import ascii_letters\n",
    "from random import choice, random\n",
    "import matplotlib.pyplot as plt\n",
    "import math\n",
    "\n",
    "def fitness(trial, target):\n",
    "    'Sum of matching chars by position - essentially the dot product'\n",
    "    return sum(t==h for t,h in zip(trial, target))\n",
    "\n",
    "def mutaterate(parent, target, perfectfitness, minmutaterate):\n",
    "    'Less mutation the closer the fit of the parent'\n",
    "    return 1 - ((perfectfitness - fitness(parent, target)) / perfectfitness * (1 - minmutaterate))\n",
    "\n",
    "def mutate(parent, rate, charset):\n",
    "    '''take character from parent or choose a random character from the vocabulary'''\n",
    "    return [(ch if random() <= rate else choice(charset)) for ch in parent] # below rate char survives, otherwise choose\n",
    "\n",
    "def que(iterations, parent, target, perfectfitness):\n",
    "    '(from the favourite saying of Manuel in Fawlty Towers)'\n",
    "    print (\"#%-4i, fitness: %4.1f%%, '%s'\" %\n",
    "           (iterations, fitness(parent, target)*100./perfectfitness, ''.join(parent)))\n",
    "\n",
    "def mate(a, b, target, OPSCTR, splice_rt=7, mthd=0):\n",
    "    '''combine genes by splicing a and b at a random position'''\n",
    "    place = 0\n",
    "    if choice(range(10)) < splice_rt: # splice rate\n",
    "        if mthd == 0:\n",
    "            place = choice(range(len(target)))\n",
    "        else:\n",
    "            fa = fitness(a, target) # this logic improves iterations by about 20%\n",
    "            fb = fitness(b, target)\n",
    "            place = int(fa / (fa+fb) * len(target) )\n",
    "    else:\n",
    "        return a, b\n",
    "    return a, b, a[:place] + b[place:], b[:place] + a[place:] # splice a and b\n",
    "\n",
    "def evorun(C, parent, charset, target, splice_rt, perfectfitness, minmutaterate, maxiter=700):\n",
    "    '''a set of runs with given parameters'''\n",
    "    iterations = 0\n",
    "    OPSCTR = []\n",
    "    center = int(len(C)/2)\n",
    "    while parent != target and iterations < maxiter:\n",
    "        nops = 0\n",
    "        rate = mutaterate(parent, target, perfectfitness, minmutaterate)\n",
    "        iterations += 1\n",
    "        if iterations % 100 == 0: que(iterations, parent, target, perfectfitness)\n",
    "        copies = [ mutate(parent, rate, charset) for _ in C ]  + [parent] # create a set of copies, but mutated\n",
    "        nops += len(parent)*len(C)\n",
    "        #print('copies: ', OPSCTR)\n",
    "        parent1 = max(copies[:center], key=lambda x: fitness(x, target)) # best parent from lower half\n",
    "        nops += len(target)*len(target)\n",
    "        #print('parent1: ', OPSCTR)\n",
    "        parent2 = max(copies[center:], key=lambda x: fitness(x, target)) # best parent from upper half\n",
    "        nops += len(target)*len(target)\n",
    "        #print('parent2: ', OPSCTR)\n",
    "        parent = max(mate(parent1, parent2, target, splice_rt), key=lambda x: fitness(x, target)) # choose best mutation from both bet parents\n",
    "        nops += len(parent1)*len(target)\n",
    "        #print('parent: ', OPSCTR)\n",
    "        OPSCTR.append(nops)\n",
    "    que(iterations, parent, target, perfectfitness)\n",
    "    return (iterations, OPSCTR)\n",
    "   \n",
    "def main():\n",
    "    nops = [] # count basic operations\n",
    "    charset = ascii_letters + ' '\n",
    "    target = [choice(charset) for _ in range(10)]\n",
    "    print('target: ', target)\n",
    "    print('length of target: ', len(target))\n",
    "    parent  = [choice(charset) for _ in range(len(target))] # random init choice\n",
    "    minmutaterate  = .09\n",
    "    perfectfitness = float(len(target))\n",
    "    splice_rt = 7\n",
    "    C_base = [3]\n",
    "    C_rg = [range(x) for x in C_base]\n",
    "    niter, nops = evorun(C_rg[0], parent, charset, target, splice_rt, perfectfitness, minmutaterate)\n",
    "    print(nops[0])\n",
    "\n",
    "if __name__ == '__main__':\n",
    "    main()"
   ]
  },
  {
   "cell_type": "code",
   "execution_count": 3,
   "metadata": {},
   "outputs": [
    {
     "name": "stdout",
     "output_type": "stream",
     "text": [
      "True\n"
     ]
    }
   ],
   "source": [
    "# wait for file creation\n",
    "import os\n",
    "import time\n",
    "\n",
    "file_path = r'bsc_resids0.txt'\n",
    "\n",
    "os.chdir(r'C:\\Users\\bscho\\Documents\\DL\\lrgtxt0')\n",
    "print(os.path.isfile(file_path))\n",
    "\n",
    "max_wt = 10\n",
    "wtng = 0\n",
    "while not os.path.isfile(file_path) and wtng < max_wt:\n",
    "    time.sleep(1)\n",
    "    wtng += 1\n",
    "\n",
    "if os.path.isfile(file_path):\n",
    "    # read file\n",
    "    pass\n",
    "else:\n",
    "    raise ValueError(\"%s isn't a file!\" % file_path)"
   ]
  },
  {
   "cell_type": "code",
   "execution_count": 10,
   "metadata": {},
   "outputs": [
    {
     "name": "stdout",
     "output_type": "stream",
     "text": [
      "1104\n"
     ]
    }
   ],
   "source": [
    "# lcm\n",
    "\n",
    "def lcm(a, b, niter=100):\n",
    "    '''least common multiple'''\n",
    "    ni = 0\n",
    "    ar = a\n",
    "    br = b\n",
    "    while ni < niter:\n",
    "        while ar<br:\n",
    "            ar += a\n",
    "        if ar == br: return ar\n",
    "        while br<ar:\n",
    "            br += b\n",
    "        if ar == br: return ar\n",
    "        ni += 1\n",
    "    return ar*br\n",
    "        \n",
    "def main():\n",
    "    print(lcm(23, 48))\n",
    "\n",
    "if __name__ == '__main__':\n",
    "    main()"
   ]
  },
  {
   "cell_type": "code",
   "execution_count": null,
   "metadata": {},
   "outputs": [],
   "source": []
  }
 ],
 "metadata": {
  "kernelspec": {
   "display_name": "tfgpu",
   "language": "python",
   "name": "tfgpu"
  },
  "language_info": {
   "codemirror_mode": {
    "name": "ipython",
    "version": 3
   },
   "file_extension": ".py",
   "mimetype": "text/x-python",
   "name": "python",
   "nbconvert_exporter": "python",
   "pygments_lexer": "ipython3",
   "version": "3.7.7"
  }
 },
 "nbformat": 4,
 "nbformat_minor": 4
}
