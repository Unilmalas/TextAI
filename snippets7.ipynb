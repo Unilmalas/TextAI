{
 "cells": [
  {
   "cell_type": "code",
   "execution_count": 3,
   "metadata": {},
   "outputs": [
    {
     "name": "stdout",
     "output_type": "stream",
     "text": [
      "[117, 383]\n"
     ]
    }
   ],
   "source": [
    "# gcd\n",
    "def divisors(a):\n",
    "    res = [x for x in range(1,a+1) if a % x == 0]\n",
    "    return res\n",
    "\n",
    "def gcd(a,b):\n",
    "    if b > a:\n",
    "        c = a\n",
    "        a = b\n",
    "        b = c\n",
    "    an = a\n",
    "    bn = b\n",
    "    rn = 1\n",
    "    while rn > 0:\n",
    "        rn = an % bn\n",
    "        an = bn\n",
    "        bn = rn\n",
    "    return an\n",
    "\n",
    "def gcd_iter(u, v):\n",
    "    while v:\n",
    "        u, v = v, u % v\n",
    "    return abs(u)\n",
    "\n",
    "def gcd_bin(u, v):\n",
    "    u, v = abs(u), abs(v) # u >= 0, v >= 0\n",
    "    if u < v:\n",
    "        u, v = v, u # u >= v >= 0\n",
    "    if v == 0:\n",
    "        return u\n",
    "    # u >= v > 0\n",
    "    k = 1\n",
    "    while u & 1 == 0 and v & 1 == 0: # u, v - even\n",
    "        u >>= 1; v >>= 1\n",
    "        k <<= 1\n",
    "    t = -v if u & 1 else u\n",
    "    while t:\n",
    "        while t & 1 == 0:\n",
    "            t >>= 1\n",
    "        if t > 0:\n",
    "            u = t\n",
    "        else:\n",
    "            v = -t\n",
    "        t = u - v\n",
    "    return u * k\n",
    "\n",
    "def redfrac(num, denom): # reduce fraction\n",
    "    ndgcd = gcd_bin(num, denom)\n",
    "    return [ num / ndgcd, denom / ndgcd ]\n",
    "\n",
    "if __name__=='__main__':\n",
    "    #print gcd(24,16)\n",
    "    print redfrac(234, 766)"
   ]
  },
  {
   "cell_type": "code",
   "execution_count": 67,
   "metadata": {},
   "outputs": [
    {
     "name": "stdout",
     "output_type": "stream",
     "text": [
      "[0.08382021562346303, 0.0006797843764586933]\n",
      "[151.06324018134035, 1.4598598186598166]\n",
      "[265.3529396030364, 3.539460396963727]\n"
     ]
    },
    {
     "data": {
      "image/png": "[encoded data removed]",
      "text/plain": [
       "<Figure size 432x288 with 1 Axes>"
      ]
     },
     "metadata": {
      "needs_background": "light"
     },
     "output_type": "display_data"
    }
   ],
   "source": [
    "# drums with saltwater\n",
    "import matplotlib.pyplot as plt\n",
    "\n",
    "def dmdt0(totw,wslt,loss): # return updated mass for this drum\n",
    "    return [loss*(totw-wslt)/totw, loss*wslt/totw]\n",
    "\n",
    "if __name__ == '__main__':\n",
    "    drum0 = [40.*8.33, 3.]\n",
    "    drum1 = [10.*8.33, 2.]\n",
    "    drum2 = [0., 0.]\n",
    "    x = []\n",
    "    y = []\n",
    "    for i in range(807):\n",
    "        d0 = dmdt0(drum0[0], drum0[1], 5.*8.33/100.)\n",
    "        drum0[0] -= d0[0]\n",
    "        drum0[1] -= d0[1]\n",
    "        d1 = dmdt0(drum1[0], drum1[1], 4.*8.33/100.)\n",
    "        #print d0\n",
    "        drum1[0] += d0[0] - d1[0]\n",
    "        drum1[1] += d0[1] - d1[1]\n",
    "        drum2[0] += d1[0]\n",
    "        drum2[1] += d1[1]\n",
    "        x.append(i)\n",
    "        y.append(drum1[1])\n",
    "    print drum0\n",
    "    print drum1\n",
    "    print drum2\n",
    "    #x = [n for n in range(1, nsmax)]\n",
    "    #y = [mindh[n] for n in range(1, nsmax) if mindh.has_key(n)]\n",
    "    _ = plt.plot(x, y, '-')\n",
    "    plt.show()"
   ]
  },
  {
   "cell_type": "code",
   "execution_count": 20,
   "metadata": {},
   "outputs": [
    {
     "name": "stdout",
     "output_type": "stream",
     "text": [
      "heads: 1 tails: 9 likelihood: 2444.233100\n",
      "heads: 2 tails: 8 likelihood: 244.423310\n",
      "heads: 3 tails: 7 likelihood: 36.210861\n",
      "heads: 4 tails: 6 likelihood: 7.543929\n",
      "heads: 5 tails: 5 likelihood: 2.155408\n",
      "heads: 6 tails: 4 likelihood: 0.838214\n",
      "heads: 7 tails: 3 likelihood: 0.447048\n",
      "heads: 8 tails: 2 likelihood: 0.335286\n",
      "heads: 9 tails: 1 likelihood: 0.372540\n"
     ]
    }
   ],
   "source": [
    "# Bayesian decision\n",
    "import math\n",
    "\n",
    "def likeh(i,j): # likelihood ratio coin tosses 2 theories\n",
    "    nomin = 6.*math.factorial(i+1)*math.factorial(j+1)/math.factorial(i+j+3)\n",
    "    return nomin / (3./4.)**i / (1./4.)**j\n",
    "\n",
    "if __name__ == '__main__':\n",
    "    for i in range(1,10):\n",
    "        print 'heads: %d tails: %d likelihood: %f' % (i,10-i,likeh(i,10-i))"
   ]
  },
  {
   "cell_type": "code",
   "execution_count": 4,
   "metadata": {},
   "outputs": [
    {
     "name": "stdout",
     "output_type": "stream",
     "text": [
      "0.0\n",
      "0.0\n"
     ]
    }
   ],
   "source": [
    "# determinants\n",
    "import numpy as np\n",
    "\n",
    "a = np.array([[1, 2, 3, 4, 5], [2, 4, 6, 8, 10], [3, 6, 9, 12, 15], [4, 8, 12, 16, 20], [5, 10, 15, 20, 25]])\n",
    "print np.linalg.det(a)\n",
    "b = np.array([[1, -2, 3, -4, 5], [-2, 4, -6, 8, -10], [3, -6, 9, -12, 15], [-4, 8, -12, 16, -20], [5, -10, 15, -20, 25]])\n",
    "print np.linalg.det(b)"
   ]
  },
  {
   "cell_type": "code",
   "execution_count": 3,
   "metadata": {},
   "outputs": [
    {
     "name": "stdout",
     "output_type": "stream",
     "text": [
      "           0            1            2\n",
      "Healthy: 0.30000 0.08400 0.00588\n",
      "Fever: 0.04000 0.02700 0.01512\n",
      "The steps of states are Healthy Healthy Fever with highest probability of 0.01512\n"
     ]
    }
   ],
   "source": [
    "# Viterbi algorithm: finding the most likely sequence of hidden states\n",
    "\n",
    "def viterbi(obs, states, start_p, trans_p, emit_p):\n",
    "    V = [{}]\n",
    "    for st in states:\n",
    "        V[0][st] = {\"prob\": start_p[st] * emit_p[st][obs[0]], \"prev\": None}\n",
    "    # Run Viterbi when t > 0\n",
    "    for t in range(1, len(obs)): # for each observation\n",
    "        V.append({})\n",
    "        for st in states: # for each state\n",
    "            max_tr_prob = V[t-1][states[0]][\"prob\"]*trans_p[states[0]][st]\n",
    "            prev_st_selected = states[0]\n",
    "            for prev_st in states[1:]:\n",
    "                tr_prob = V[t-1][prev_st][\"prob\"]*trans_p[prev_st][st]\n",
    "                if tr_prob > max_tr_prob:\n",
    "                    max_tr_prob = tr_prob\n",
    "                    prev_st_selected = prev_st\n",
    "                    \n",
    "            max_prob = max_tr_prob * emit_p[st][obs[t]]\n",
    "            V[t][st] = {\"prob\": max_prob, \"prev\": prev_st_selected}\n",
    "                    \n",
    "    for line in dptable(V):\n",
    "        print line\n",
    "    opt = []\n",
    "    # The highest probability\n",
    "    max_prob = max(value[\"prob\"] for value in V[-1].values())\n",
    "    previous = None\n",
    "    # Get most probable state and its backtrack\n",
    "    for st, data in V[-1].items():\n",
    "        if data[\"prob\"] == max_prob:\n",
    "            opt.append(st)\n",
    "            previous = st\n",
    "            break\n",
    "    # Follow the backtrack till the first observation\n",
    "    for t in range(len(V) - 2, -1, -1):\n",
    "        opt.insert(0, V[t + 1][previous][\"prev\"])\n",
    "        previous = V[t + 1][previous][\"prev\"]\n",
    "    print 'The steps of states are ' + ' '.join(opt) + ' with highest probability of %s' % max_prob\n",
    "\n",
    "def dptable(V):\n",
    "    # Print a table of steps from dictionary\n",
    "    yield \" \".join((\"%12d\" % i) for i in range(len(V)))\n",
    "    for state in V[0]:\n",
    "        yield \"%.7s: \" % state + \" \".join(\"%.7s\" % (\"%f\" % v[state][\"prob\"]) for v in V)\n",
    "\n",
    "if __name__ == '__main__':\n",
    "    obs = ('normal', 'cold', 'dizzy')\n",
    "    states = ('Healthy', 'Fever')\n",
    "    start_p = {'Healthy': 0.6, 'Fever': 0.4}\n",
    "    trans_p = {\n",
    "       'Healthy' : {'Healthy': 0.7, 'Fever': 0.3},\n",
    "       'Fever' : {'Healthy': 0.4, 'Fever': 0.6}\n",
    "       }\n",
    "    emit_p = {\n",
    "       'Healthy' : {'normal': 0.5, 'cold': 0.4, 'dizzy': 0.1},\n",
    "       'Fever' : {'normal': 0.1, 'cold': 0.3, 'dizzy': 0.6}\n",
    "       }\n",
    "    viterbi(obs, states, start_p, trans_p, emit_p)"
   ]
  },
  {
   "cell_type": "code",
   "execution_count": 24,
   "metadata": {},
   "outputs": [
    {
     "name": "stdout",
     "output_type": "stream",
     "text": [
      "0.7135581752992395\n",
      "1.6398435441458303\n",
      "True\n"
     ]
    }
   ],
   "source": [
    "# cross entropy and perplexity\n",
    "import numpy as np\n",
    "\n",
    "def cross_entropy(predictions, targets, epsilon=1e-12):\n",
    "    \"\"\"\n",
    "    Computes cross entropy between targets (encoded as one-hot vectors)\n",
    "    and predictions. \n",
    "    Input: predictions (N, k) ndarray\n",
    "           targets (N, k) ndarray        \n",
    "    Returns: scalar\n",
    "    \"\"\"\n",
    "    predictions = np.clip(predictions, epsilon, 1. - epsilon) # clip - limit the values in an array\n",
    "    N = predictions.shape[0]\n",
    "    ce = -np.sum(targets*np.log(predictions+1e-9))/N\n",
    "    return ce\n",
    "\n",
    "def perplexity(predictions, targets, epsilon=1e-12): # perplexity = 2 ^ H(p,q)\n",
    "    return 2.**cross_entropy(predictions, targets)\n",
    "\n",
    "if __name__ == '__main__':\n",
    "    predictions = np.array([[0.25,0.25,0.25,0.25],\n",
    "                            [0.01,0.01,0.01,0.96]])\n",
    "    targets = np.array([[0,0,0,1],\n",
    "                       [0,0,0,1]])\n",
    "    ans = 0.71355817782  # Correct answer\n",
    "    x = cross_entropy(predictions, targets)\n",
    "    print x\n",
    "    print perplexity(predictions, targets)\n",
    "    print np.isclose(x,ans) # isclose: returns a boolean array where two arrays are element-wise equal within a tolerance"
   ]
  },
  {
   "cell_type": "code",
   "execution_count": 9,
   "metadata": {},
   "outputs": [
    {
     "name": "stdout",
     "output_type": "stream",
     "text": [
      "parent entropy: 0.996792\n",
      "child1 entropy: 0.591673\n",
      "child2 entropy: 0.811278\n",
      "info gain: 0.287996\n"
     ]
    }
   ],
   "source": [
    "# info gain and purity\n",
    "import math\n",
    "\n",
    "def entropy(na,nb): # entropy of two sets with na, nb instances\n",
    "    nsum = na + nb\n",
    "    fa = float(na)/float(nsum)\n",
    "    fb = float(nb)/float(nsum)\n",
    "    return -fa*math.log(fa, 2.)-fb*math.log(fb, 2.)\n",
    "\n",
    "if __name__ == '__main__':\n",
    "    print 'parent entropy: %f' % (entropy(8,7))\n",
    "    print 'child1 entropy: %f' % (entropy(6,1))\n",
    "    print 'child2 entropy: %f' % (entropy(2,6))\n",
    "    print 'info gain: %f' % (entropy(8,7)-(entropy(6,1)*7./15.+entropy(2,6)*8./15.))"
   ]
  },
  {
   "cell_type": "code",
   "execution_count": 3,
   "metadata": {},
   "outputs": [
    {
     "name": "stdout",
     "output_type": "stream",
     "text": [
      "1111\n",
      "2\n"
     ]
    }
   ],
   "source": [
    "# a prime 11111...\n",
    "\n",
    "def n11(n):\n",
    "    res = 0\n",
    "    for i in range(n):\n",
    "        res += 10**i\n",
    "    return res\n",
    "\n",
    "def primes(n): # primes up to n via sieve\n",
    "    res = range(2, n+1)\n",
    "    idx = range(2, n+1)\n",
    "    for k in res:\n",
    "        for i in range(k, n, k):\n",
    "            if i % k == 0 and i > k:\n",
    "                idx[i-2] = 0\n",
    "    return idx\n",
    "\n",
    "if __name__ == '__main__':\n",
    "    #print n11(4)\n",
    "    lp = primes(120000)\n",
    "    for n in range(1,6):\n",
    "        if n11(n) in lp:\n",
    "            print n"
   ]
  },
  {
   "cell_type": "code",
   "execution_count": 2,
   "metadata": {},
   "outputs": [
    {
     "name": "stdout",
     "output_type": "stream",
     "text": [
      "2017\n"
     ]
    }
   ],
   "source": [
    "# sum of divisors = 2018\n",
    "def divisors(a):\n",
    "    res = [x for x in range(1,a+1) if a % x == 0]\n",
    "    return res\n",
    "\n",
    "if __name__ == '__main__':\n",
    "    #print sum(divisors(2017))\n",
    "    for k in range(100,2018):\n",
    "        sdiv = sum(divisors(k))\n",
    "        if sdiv == 2018:\n",
    "            print k"
   ]
  },
  {
   "cell_type": "code",
   "execution_count": 19,
   "metadata": {},
   "outputs": [
    {
     "name": "stdout",
     "output_type": "stream",
     "text": [
      "n\n"
     ]
    }
   ],
   "source": [
    "# decision tree\n",
    "import json\n",
    "import pandas as pd\n",
    "\n",
    "with open('golf0.json') as f:\n",
    "    #data = json.load(f)\n",
    "    df = pd.read_json('golf0.json', orient='records')\n",
    "\n",
    "#print data\n",
    "#print data[\"day\"][0][\"play\"]\n",
    "print df[\"day\"][0][\"play\"]"
   ]
  },
  {
   "cell_type": "code",
   "execution_count": 26,
   "metadata": {},
   "outputs": [
    {
     "name": "stdout",
     "output_type": "stream",
     "text": [
      "[['t', 'f', 't', 'f', 't', 'f', 't', 'f', 't', 'f', 't', 'f', 't', 'f', 't', 'f'], ['t', 't', 'f', 'f', 't', 't', 'f', 'f', 't', 't', 'f', 'f', 't', 't', 'f', 'f'], ['t', 't', 't', 't', 'f', 'f', 'f', 'f', 't', 't', 't', 't', 'f', 'f', 'f', 'f'], ['t', 't', 't', 't', 't', 't', 't', 't', 'f', 'f', 'f', 'f', 'f', 'f', 'f', 'f']]\n"
     ]
    }
   ],
   "source": [
    "# truth tables\n",
    "\n",
    "def ttable(n):\n",
    "    res = []\n",
    "    for k in range(1,n+1):\n",
    "        res.append(['t' if i%(2**k)<2**(k-1) else 'f' for i in range(2**n)])\n",
    "    return res\n",
    "\n",
    "if __name__ == '__main__':\n",
    "    print ttable(4)"
   ]
  },
  {
   "cell_type": "code",
   "execution_count": 34,
   "metadata": {},
   "outputs": [
    {
     "name": "stdout",
     "output_type": "stream",
     "text": [
      "0.342000007629\n",
      "0.0789999961853\n"
     ]
    }
   ],
   "source": [
    "# find all such numbers which are divisible by 7 but are not a multiple of 5\n",
    "import time\n",
    "\n",
    "def div7not5(a,b):\n",
    "    res = []\n",
    "    for p in range(a,b+1):\n",
    "        if (p%7==0) and (p%5!=0):\n",
    "            res.append(p)\n",
    "    return res\n",
    "\n",
    "def div7not5f(a,b):\n",
    "    res = []\n",
    "    while a%7!=0:\n",
    "        a += 1\n",
    "    for p in range(a,b+1,7):\n",
    "        if p%5!=0:\n",
    "            res.append(p)\n",
    "    return res\n",
    "\n",
    "if __name__ == '__main__':\n",
    "    start = time.time()\n",
    "    for i in range(5000):\n",
    "        l = div7not5(2000, 3200)\n",
    "    end = time.time()\n",
    "    print(end - start)\n",
    "    start = time.time()\n",
    "    for i in range(5000):\n",
    "        l = div7not5f(2000, 3200)\n",
    "    end = time.time()\n",
    "    print(end - start)"
   ]
  },
  {
   "cell_type": "code",
   "execution_count": 14,
   "metadata": {},
   "outputs": [
    {
     "name": "stdout",
     "output_type": "stream",
     "text": [
      "2.44505876736\n"
     ]
    }
   ],
   "source": [
    "# sum over rationals\n",
    "\n",
    "def divisors(a):\n",
    "    res = [x for x in range(1,a+1) if a % x == 0]\n",
    "    return res\n",
    "\n",
    "def gcd(a,b):\n",
    "    if b > a:\n",
    "        c = a\n",
    "        a = b\n",
    "        b = c\n",
    "    an = a\n",
    "    bn = b\n",
    "    rn = 1\n",
    "    while rn > 0:\n",
    "        rn = an % bn\n",
    "        an = bn\n",
    "        bn = rn\n",
    "    return an\n",
    "\n",
    "def prime_factors(n):\n",
    "    i = 2\n",
    "    factors = []\n",
    "    while i * i <= n:\n",
    "        if n % i:\n",
    "            i += 1\n",
    "        else:\n",
    "            n //= i\n",
    "            factors.append(i)\n",
    "    if n > 1:\n",
    "        factors.append(n)\n",
    "    return factors\n",
    "\n",
    "def f(a,b):\n",
    "    g = gcd(a,b)\n",
    "    if g > 1:\n",
    "        a /= g\n",
    "        b /= g\n",
    "    return a**2 * b**2\n",
    "\n",
    "def fsum(al,au):\n",
    "    res = 0.\n",
    "    for a in range(al,au):\n",
    "        for b in range(al,a-1):\n",
    "            res += 1. / float(f(a,b))\n",
    "    return res\n",
    "\n",
    "if __name__ == '__main__':\n",
    "    arr, s = [0.0], 0\n",
    "    for a in range(1,50):\n",
    "        for b in [d for d in range(1,50) if (a/float(d)) not in arr]:\n",
    "            arr.append(a/float(b)) # useful to don't compute several times the same number (ex: 1/1, 2/2, ...)\n",
    "            s+=1/float(((a*b)**2))\n",
    "    print s"
   ]
  },
  {
   "cell_type": "code",
   "execution_count": 15,
   "metadata": {},
   "outputs": [
    {
     "name": "stdout",
     "output_type": "stream",
     "text": [
      "[4]\n",
      "[0, 1, 2, 3]\n"
     ]
    }
   ],
   "source": [
    "l = [0,1,2,3,4]\n",
    "print l[-1:]\n",
    "print l[:-1]"
   ]
  },
  {
   "cell_type": "code",
   "execution_count": 2,
   "metadata": {},
   "outputs": [
    {
     "name": "stdout",
     "output_type": "stream",
     "text": [
      "k: 648 : 211250 -> 15\n",
      "k: 649 : 211250 -> 15\n",
      "k: 848 : 361250 -> 15\n",
      "k: 849 : 361250 -> 15\n",
      "k: 1298 : 845000 -> 15\n",
      "k: 1299 : 845000 -> 15\n",
      "k: 1448 : 1051250 -> 15\n",
      "k: 1449 : 1051250 -> 15\n",
      "k: 1688 : 1428050 -> 15\n",
      "k: 1689 : 1428050 -> 15\n",
      "k: 1698 : 1445000 -> 15\n",
      "k: 1699 : 1445000 -> 15\n",
      "k: 1848 : 1711250 -> 15\n",
      "k: 1849 : 1711250 -> 15\n",
      "k: 1948 : 1901250 -> 15\n",
      "k: 1949 : 1901250 -> 15\n",
      "k: 2048 : 2101250 -> 15\n",
      "k: 2049 : 2101250 -> 15\n",
      "k: 2208 : 2442050 -> 27\n",
      "k: 2209 : 2442050 -> 27\n"
     ]
    }
   ],
   "source": [
    "# integer sum of squares - power representations\n",
    "\n",
    "def listsqrs(n):\n",
    "    return [i**2 for i in range(1,n+1)]\n",
    "\n",
    "def ctcomb(lsn, show): # count how often n = x^2+y^2 for highest in lsn = power representation k=2\n",
    "    tgt = 2*lsn[len(lsn)/2]\n",
    "    ctr = 0\n",
    "    for a in lsn[1:]:\n",
    "        b = tgt - a\n",
    "        if b in lsn:\n",
    "            ctr += 1\n",
    "            if show:\n",
    "                print 'a: %d b: %d' % (a,b)\n",
    "    return ctr\n",
    "\n",
    "if __name__ == '__main__':\n",
    "    #print listsqrs(9)\n",
    "    #print ctcomb(listsqrs(231))\n",
    "    nmax = 2500\n",
    "    ls = listsqrs(nmax)\n",
    "    kmax = 0\n",
    "    for k in range(1,nmax):\n",
    "        tc = ctcomb(ls[0:k], False)\n",
    "        if tc > 9:\n",
    "            kmax = tc\n",
    "            print 'k: %d : %d -> %d' % (k, 2*ls[k/2], tc)\n",
    "    #print ctcomb(ls[0:2208], True)"
   ]
  },
  {
   "cell_type": "code",
   "execution_count": 7,
   "metadata": {},
   "outputs": [
    {
     "name": "stdout",
     "output_type": "stream",
     "text": [
      "2.66514414269\n",
      "2.66514414269\n"
     ]
    }
   ],
   "source": [
    "# irrational exponent\n",
    "import math\n",
    "\n",
    "def an1(an): # sequence to compute sqrt(2): an+1=an/2+1/an\n",
    "    return [an/2.,1./an]\n",
    "\n",
    "def pwr2irr(n):\n",
    "    an = 1.\n",
    "    ant = []\n",
    "    for k in range(n):\n",
    "        ant = an1(an)\n",
    "        an = ant[0] + ant[1]\n",
    "    return 2.**ant[0]*2**ant[1]\n",
    "\n",
    "if __name__ == '__main__':\n",
    "    print pwr2irr(4)\n",
    "    print 2.**math.sqrt(2.)"
   ]
  },
  {
   "cell_type": "code",
   "execution_count": 39,
   "metadata": {},
   "outputs": [
    {
     "name": "stdout",
     "output_type": "stream",
     "text": [
      "[[ 0.904]\n",
      " [ 0.48 ]\n",
      " [-0.017]\n",
      " [-0.119]]\n"
     ]
    }
   ],
   "source": [
    "# Gated Recurrent Unit (GRU) test (Cho 2014):\n",
    "import numpy as np\n",
    "\n",
    "def sigmoid(x,deriv=False):\n",
    "    if(deriv==True):\n",
    "        return x*(1-x)\n",
    "    np.putmask(x, x > 100, 100) # limit array values of x (np.putmask(a, a >= m, m - 1))\n",
    "    np.putmask(x, x < -100, -100)\n",
    "    return 1/(1+np.exp(-x))\n",
    "\n",
    "def dtanh(x): # actually sech**2\n",
    "    return 1.0 - np.tanh(x)**2\n",
    "\n",
    "def forget_layer(combine):\n",
    "    return sigmoid(np.dot(wr, np.transpose(combine)))\n",
    "    \n",
    "def update_layer(combine):\n",
    "    return sigmoid(np.dot(wz, np.transpose(combine)))\n",
    "    \n",
    "def output_layer(htempt):\n",
    "    return np.tanh(np.dot(w, htempt))\n",
    "    \n",
    "def GRU(prev_ht, xt): # a GRU forward propagation\n",
    "    combine = np.add(prev_ht,xt)\n",
    "    rt = forget_layer(combine)\n",
    "    zt = update_layer(combine)\n",
    "    htempt = np.add(np.multiply(rt, np.transpose(prev_ht)), np.transpose(xt))\n",
    "    htempt = output_layer(htempt)\n",
    "    ht = np.add((np.multiply(np.subtract(np.array([[1],[1],[1],[1]]), zt), np.transpose(prev_ht))), np.multiply(zt, htempt))\n",
    "    return ht\n",
    "\n",
    "if __name__ == '__main__':\n",
    "    prev_ht = np.array([[1,1,0,0]])\n",
    "    xt = np.array([[0,0,1,1]])\n",
    "    \n",
    "    wr = np.random.rand(4,4) - np.random.rand(4,4)\n",
    "    wz = np.random.rand(4,4) - np.random.rand(4,4) # bias trick: last line - todo: add bias back!\n",
    "    w = np.random.rand(4,4) - np.random.rand(4,4)\n",
    "\n",
    "    np.set_printoptions(precision=3)\n",
    "    \n",
    "    print GRU(prev_ht, xt)"
   ]
  },
  {
   "cell_type": "code",
   "execution_count": 2,
   "metadata": {},
   "outputs": [
    {
     "name": "stdout",
     "output_type": "stream",
     "text": [
      "a: 3 b: 3 c: 1\n"
     ]
    }
   ],
   "source": [
    "# a sum\n",
    "\n",
    "def abcsum(a,b,c):\n",
    "    res = 100*a+10*c+b\n",
    "    res += 100*b+10*a+c\n",
    "    res += 100*b+10*c+a\n",
    "    res += 100*c+10*a+b\n",
    "    res += 100*c+10*b+a\n",
    "    return res\n",
    "\n",
    "if __name__ == '__main__':\n",
    "    #print abcsum(1,2,3)\n",
    "    for a in range(1,6):\n",
    "        for b in range(1,6):\n",
    "            for c in range(1,6):\n",
    "                if abcsum(a,b,c) == 1223:\n",
    "                    print 'a: %d b: %d c: %d' % (a,b,c)"
   ]
  },
  {
   "cell_type": "code",
   "execution_count": 12,
   "metadata": {},
   "outputs": [
    {
     "name": "stdout",
     "output_type": "stream",
     "text": [
      "n: 0 : 0.000000\n",
      "n: 1 : 0.000000\n",
      "n: 2 : 0.000000\n",
      "n: 3 : 0.000000\n",
      "n: 4 : 1.000000\n",
      "n: 5 : 8.000000\n",
      "n: 6 : 36.000000\n",
      "n: 7 : 120.000000\n",
      "n: 8 : 330.000000\n",
      "n: 9 : 792.000000\n",
      "n: 10 : 1716.000000\n",
      "n: 11 : 3432.000000\n"
     ]
    }
   ],
   "source": [
    "# a polynomial\n",
    "\n",
    "def poly(x):\n",
    "    return x**7 - 14.*x**5 + 49.*x**3 - 36.*x\n",
    "\n",
    "if __name__ == '__main__':\n",
    "    for n in range(12):\n",
    "        print 'n: %d : %f' % (n,poly(n)/60./84.)"
   ]
  },
  {
   "cell_type": "code",
   "execution_count": 21,
   "metadata": {},
   "outputs": [
    {
     "name": "stdout",
     "output_type": "stream",
     "text": [
      "a: 666.000000 b: 85.000000\n",
      "7.83529411765\n",
      "5.834298999\n"
     ]
    }
   ],
   "source": [
    "# an approx  7.835297988995451\n",
    "\n",
    "if __name__ == '__main__':\n",
    "    tgt = 7.8353\n",
    "    dmin = 1000.\n",
    "    amin = 0.\n",
    "    bmin = 0.\n",
    "    for a in range(1,2000):\n",
    "        for b in range(1,1000):\n",
    "            dist = abs(tgt - float(a)/float(b))\n",
    "            if dist < dmin:\n",
    "                amin = float(a)\n",
    "                bmin = float(b)\n",
    "                dmin = dist\n",
    "    print 'a: %f b: %f' % (amin, bmin)\n",
    "    print amin / bmin\n",
    "    print dist"
   ]
  },
  {
   "cell_type": "code",
   "execution_count": 1,
   "metadata": {},
   "outputs": [
    {
     "name": "stdout",
     "output_type": "stream",
     "text": [
      "[[ 0.857]\n",
      " [-0.086]\n",
      " [ 0.375]\n",
      " [ 0.046]]\n"
     ]
    }
   ],
   "source": [
    "# Gated Recurrent Unit (GRU) test (Cho 2014):\n",
    "import numpy as np\n",
    "\n",
    "def sigmoid(x,deriv=False):\n",
    "    if(deriv==True):\n",
    "        return x*(1-x)\n",
    "    np.putmask(x, x > 100, 100) # limit array values of x (np.putmask(a, a >= m, m - 1))\n",
    "    np.putmask(x, x < -100, -100)\n",
    "    return 1/(1+np.exp(-x))\n",
    "\n",
    "def dtanh(x): # actually sech**2\n",
    "    return 1.0 - np.tanh(x)**2\n",
    "\n",
    "def forget_layer(combine):\n",
    "    return sigmoid(np.dot(wr, np.transpose(combine)))\n",
    "    \n",
    "def update_layer(combine):\n",
    "    return sigmoid(np.dot(wz, np.transpose(combine)))\n",
    "    \n",
    "def output_layer(htempt):\n",
    "    return np.tanh(np.dot(w, htempt))\n",
    "    \n",
    "def GRU(prev_ht, xt): # a GRU forward propagation\n",
    "    combine = np.add(prev_ht,xt)\n",
    "    rt = forget_layer(combine)\n",
    "    zt = update_layer(combine)\n",
    "    htempt = np.add(np.multiply(rt, np.transpose(prev_ht)), np.transpose(xt))\n",
    "    htempt = output_layer(htempt)\n",
    "    ht = np.add((np.multiply(np.subtract(np.array([[1],[1],[1],[1]]), zt), np.transpose(prev_ht))), np.multiply(zt, htempt))\n",
    "    return ht\n",
    "\n",
    "if __name__ == '__main__':\n",
    "    prev_ht = np.array([[1,1,0,0]])\n",
    "    xt = np.array([[0,0,1,1]])\n",
    "    \n",
    "    wr = np.random.rand(4,4) - np.random.rand(4,4)\n",
    "    wz = np.random.rand(4,4) - np.random.rand(4,4) # bias trick: last line - todo: add bias back!\n",
    "    w = np.random.rand(4,4) - np.random.rand(4,4)\n",
    "\n",
    "    np.set_printoptions(precision=3)\n",
    "    \n",
    "    print GRU(prev_ht, xt)"
   ]
  },
  {
   "cell_type": "code",
   "execution_count": 26,
   "metadata": {},
   "outputs": [
    {
     "name": "stdout",
     "output_type": "stream",
     "text": [
      " TTL NCT00000464 Cardiac Arrest in Seattle: Conventional Versus Amiodarone Drug Evaluation (CASCADE) TTX \n",
      "      BACKGROUND:\n",
      "\n",
      "      Sudden cardiac death can usually be attributed to the occurrence of the cardiac arrhythmia,\n",
      "      ventricular fibrillation. Although a significant proportion of patients experiencing sudden\n",
      "      cardiac death may be successfully resuscitated without disabling sequelae, this event tends\n",
      "      to recur. Recurrent sudden cardiac death is more common among patients demonstrating certain\n",
      "      clinical characteristics such as: ventricular fibrillation occurring in a setting of a remote\n",
      "      prior transmural infarction; the presence of abnormal left ventricular function; male gender;\n",
      "      concurrent complex ventricular arrhythmias identified by electrocardiographic monitoring;\n",
      "      extensive coronary artery disease; and the ability to induce ventricular arrhythmias\n",
      "      following electrical stimulation.\n",
      "\n",
      "      Multiple therapeutic approaches are offered to patients surviving primary ventricular\n",
      "      fibrillation. In those with evidence of myocardial ischemia, coronary revascularization\n",
      "      procedures may be employed. Pharmacological therapy with anti-arrhythmic agents either alone\n",
      "      or in combination with selection guided by the results of continuous electrocardiographic\n",
      "      monitoring or electrophysiologic studies is often the initial step. For those patients\n",
      "      refractory to medical therapy, ventricular resection or implantation of pacemakers has been\n",
      "      employed.\n",
      "\n",
      "      Amiodarone, a unique antiarrhythmic agent with complex pharmacokinetics and substantial\n",
      "      potential toxicity, has been utilized when other antiarrhythmic agents failed. The agent was\n",
      "      released as an oral agent for the treatment of ventricular fibrillation in the United States\n",
      "      by the FDA. Several investigations suggested that amiodarone was efficacious in the treatment\n",
      "      of ventricular fibrillation when other available agents had failed.\n",
      "\n",
      "      DESIGN NARRATIVE:\n",
      "\n",
      "      Patients were stratified by presence or absence of coronary artery disease, left ventricular\n",
      "      function, and presence or absence of drug failure prior to randomization. All patients\n",
      "      underwent an evaluation of left ventricular ejection fraction, usually by radionuclide\n",
      "      ventriculography, and baseline drug-free Holter recording or electrophysiologic study, or\n",
      "      both. A total of 113 patients were randomized to amiodarone and 115 patients to conventional\n",
      "      therapy with other antiarrhythmic agents which included procainamide, quinidine,\n",
      "      disopyramide, tocainide, mexiletine, encainide, flecainide, propafenone, moricizine, or\n",
      "      combination therapy in that order. Holter exams were given at one, three, six, twelve,\n",
      "      twenty-four, and thirty-six months. Patients were followed for one to five years, with an\n",
      "      average of three years overall. Primary endpoints for the study included in the term 'cardiac\n",
      "      survival' were cardiac mortality, resuscitated cardiac arrest due to documented ventricular\n",
      "      fibrillation, and complete syncope followed by a shock from an automated implanted\n",
      "      defibrillator. These endpoints included sudden arrhythmic cardiac death, resuscitated\n",
      "      out-of-hospital ventricular fibrillation, and nonarrhythmic cardiac death. A patient death\n",
      "      due to amiodarone pulmonary toxicity was also considered a primary endpoint.\n",
      "    \n"
     ]
    }
   ],
   "source": [
    "# test ClinicalTrials.gov XML parsing\n",
    "import os\n",
    "import xml.etree.ElementTree as ET\n",
    "import time\n",
    "import re\n",
    "\n",
    "def compile_corpus_xml(txt): # xml-structure of text for nih result set\n",
    "    p = re.compile(r\"\\.\") # regex for period and the abstract sections\n",
    "    rtxt = '' # result text to be returned\n",
    "    root = ET.fromstring(txt.encode('utf-8'))\n",
    "    aindx = 0 # abstract index\n",
    "    trlid = '0'\n",
    "    idinfo = root.find('id_info')\n",
    "    for trialid in idinfo.findall('nct_id'):\n",
    "        trlid = trialid.text\n",
    "    for abstitle in root.findall('brief_title'):\n",
    "        if abstitle.text is not None:\n",
    "            rtxt += ' TTL ' + trlid + ' ' + abstitle.text.encode('utf-8') # abstract index before title\n",
    "    detdescr = root.find('detailed_description')\n",
    "    for abstracttxt in detdescr.findall('textblock'): # detailed_description\n",
    "        if abstracttxt.text is not None:\n",
    "            thistxt = abstracttxt.text.encode('utf-8')\n",
    "            rtxt += ' TTX ' + thistxt\n",
    "    aindx += 1\n",
    "    return rtxt # return results\n",
    "\n",
    "def __unicode__(self):\n",
    "    return unicode(self.some_field) or u''\n",
    "\n",
    "def save_corpus(txt, tp): # save corpus\n",
    "    # save corpus as separate file\n",
    "    os.chdir('C:\\Users\\Bernie\\Documents\\ML4D\\lrgtxt0')\n",
    "    fout = open('bsc_corpus0.txt', 'w')\n",
    "    fout.write(txt) # requires a string\n",
    "    fout.close()\n",
    "\n",
    "def read1k():\n",
    "    return f.read(1024)\n",
    "\n",
    "def process_data(chunk, text):\n",
    "    text.append(unicode(chunk, errors='ignore')) # 'utf8' codec can't decode byte 0xc3\n",
    "\n",
    "if __name__==\"__main__\":\n",
    "    # read corpus\n",
    "    os.chdir('C:\\Users\\Bernie\\Documents\\ML4D\\lrgtxt0')\n",
    "    f = open('NCT00000464.xml') # xml-file\n",
    "    textl = []\n",
    "    for piece in iter(read1k, ''):\n",
    "        process_data(piece, textl)\n",
    "    text = ''.join(textl)\n",
    "    print compile_corpus_xml(text)"
   ]
  },
  {
   "cell_type": "code",
   "execution_count": 14,
   "metadata": {},
   "outputs": [
    {
     "name": "stdout",
     "output_type": "stream",
     "text": [
      "1\n",
      "<span class=\"highwire-cite-title\">Ruxolitinib Therapy Improves Renal Function in Patients with Primary Myelofibrosis</span>\n"
     ]
    }
   ],
   "source": [
    "# test ASH webscraping\n",
    "import requests\n",
    "import sys\n",
    "import webbrowser\n",
    "import bs4\n",
    "\n",
    "if __name__==\"__main__\":\n",
    "    res = requests.get('http://www.bloodjournal.org/search/ruxolitinib?sso-checked=true')\n",
    "    #res = requests.get('http://www.bloodjournal.org/search/ruxolitinib%252Befficacy%20jcode%3Abloodjournal%7C%7Cbloodoa%7C%7Cbloodoanews%7C%7Cbloodbook%7C%7Csapbook%20numresults%3A100%20sort%3Arelevance-rank%20format_result%3Acondensed')\n",
    "    #print res.text\n",
    "    res.raise_for_status()\n",
    "    #exfile = open('http://www.bloodjournal.org/search/ruxolitinib')\n",
    "    exsoup = bs4.BeautifulSoup(res.text)\n",
    "    elems = exsoup.find(class_='highwire-cite-title')\n",
    "    #elems = exsoup.select('highwire-cite-title')\n",
    "    print len(elems)\n",
    "    print elems"
   ]
  },
  {
   "cell_type": "code",
   "execution_count": 23,
   "metadata": {},
   "outputs": [],
   "source": [
    "# test ClinicalTrials.gov XML parsing many XML files\n",
    "import os\n",
    "import xml.etree.ElementTree as ET\n",
    "import time\n",
    "import re\n",
    "\n",
    "def compile_corpus_xml(txt): # xml-structure of text for nih result set\n",
    "    p = re.compile(r\"\\.\") # regex for period and the abstract sections\n",
    "    rtxt = '' # result text to be returned\n",
    "    root = ET.fromstring(txt.encode('utf-8'))\n",
    "    aindx = 0 # abstract index\n",
    "    trlid = '0'\n",
    "    idinfo = root.find('id_info')\n",
    "    for trialid in idinfo.findall('nct_id'):\n",
    "        trlid = trialid.text\n",
    "    for abstitle in root.findall('brief_title'):\n",
    "        if abstitle.text is not None:\n",
    "            rtxt += ' TTL ' + trlid + ' ' + abstitle.text.encode('utf-8') # abstract index before title\n",
    "    # <brief_summary> <textblock>\n",
    "    # <overall_status>Completed</overall_status>\n",
    "    for sstatus in root.findall('overall_status'):\n",
    "        if sstatus.text is not None:\n",
    "            rtxt += ' STS ' + sstatus.text.encode('utf-8') # study status\n",
    "    # <start_date>September 29, 1997</start_date>\n",
    "    # <completion_date type=\"Actual\">August 3, 2009</completion_date>\n",
    "    detdescr = root.find('detailed_description')\n",
    "    if detdescr != None:\n",
    "        for abstracttxt in detdescr.findall('textblock'): # detailed_description\n",
    "            if abstracttxt.text is not None:\n",
    "                thistxt = abstracttxt.text.encode('utf-8')\n",
    "                rtxt += ' TTX ' + thistxt\n",
    "        aindx += 1\n",
    "    # <keyword>Echocardiography</keyword>\n",
    "    return rtxt # return results\n",
    "\n",
    "def __unicode__(self):\n",
    "    return unicode(self.some_field) or u''\n",
    "\n",
    "def save_corpus(txt, tp): # save corpus\n",
    "    # save corpus as separate file\n",
    "    os.chdir('C:\\Users\\Bernie\\Documents\\ML4D\\lrgtxt0')\n",
    "    fout = open('bsc_corpus0.txt', 'w')\n",
    "    fout.write(txt) # requires a string\n",
    "    fout.close()\n",
    "\n",
    "def read1k():\n",
    "    return f.read(1024)\n",
    "\n",
    "def process_data(chunk, text):\n",
    "    text.append(unicode(chunk, errors='ignore')) # 'utf8' codec can't decode byte 0xc3\n",
    "\n",
    "if __name__==\"__main__\":\n",
    "    outtext = ''\n",
    "    # read corpus\n",
    "    os.chdir('C:\\Users\\Bernie\\Documents\\ML4D\\lrgtxt0\\search_result')\n",
    "    #print os.listdir('C:\\Users\\Bernie\\Documents\\ML4D\\lrgtxt0\\search_result')\n",
    "    for filename in os.listdir('C:\\Users\\Bernie\\Documents\\ML4D\\lrgtxt0\\search_result'):\n",
    "        #f = open('NCT00000464.xml') # xml-file\n",
    "        f = open(filename) # xml-file\n",
    "        textl = []\n",
    "        for piece in iter(read1k, ''):\n",
    "            process_data(piece, textl)\n",
    "        text = ''.join(textl)\n",
    "        outtext += ' ' + compile_corpus_xml(text)\n",
    "    save_corpus(outtext, 0)"
   ]
  },
  {
   "cell_type": "code",
   "execution_count": null,
   "metadata": {},
   "outputs": [],
   "source": []
  }
 ],
 "metadata": {
  "kernelspec": {
   "display_name": "Python 2",
   "language": "python",
   "name": "python2"
  },
  "language_info": {
   "codemirror_mode": {
    "name": "ipython",
    "version": 2
   },
   "file_extension": ".py",
   "mimetype": "text/x-python",
   "name": "python",
   "nbconvert_exporter": "python",
   "pygments_lexer": "ipython2",
   "version": "2.7.15"
  }
 },
 "nbformat": 4,
 "nbformat_minor": 2
}
