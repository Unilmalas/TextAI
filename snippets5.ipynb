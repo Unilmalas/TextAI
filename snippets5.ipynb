{
 "cells": [
  {
   "cell_type": "code",
   "execution_count": 48,
   "metadata": {},
   "outputs": [
    {
     "name": "stdout",
     "output_type": "stream",
     "text": [
      "14.406398\n"
     ]
    }
   ],
   "source": [
    "# rolling dice and rerolling the sames but now over all dice\n",
    "import math\n",
    "import random\n",
    "from itertools import groupby\n",
    "\n",
    "def roll(tot, n, trlls):\n",
    "    thsrlls = []\n",
    "    for i in range(n):\n",
    "        thsrlls.append(random.randint(1, 6))\n",
    "    thsrlls.sort()\n",
    "    ctlst = [len(list(group)) for key, group in groupby(thsrlls)]\n",
    "    ctlst.sort(reverse=True)\n",
    "    tot += sum(thsrlls)\n",
    "    trlls += n\n",
    "    if ctlst[0] == 1: # no more multiples\n",
    "        return (tot, trlls)\n",
    "    if ctlst[0] == 2:\n",
    "        return roll(tot, 2, trlls)\n",
    "    if ctlst[0] > 2:\n",
    "        return roll(tot, 3, trlls)\n",
    "\n",
    "if __name__==\"__main__\":\n",
    "    res = 0.\n",
    "    resr = 0\n",
    "    nlen = 1000000\n",
    "    totr = 0\n",
    "    for i in range(nlen):\n",
    "        thisroll = roll(0, 3, 0)\n",
    "        res += thisroll[0]\n",
    "        totr += thisroll[1]\n",
    "    print res / nlen"
   ]
  },
  {
   "cell_type": "code",
   "execution_count": 77,
   "metadata": {},
   "outputs": [
    {
     "name": "stdout",
     "output_type": "stream",
     "text": [
      "1584\n"
     ]
    }
   ],
   "source": [
    "# lcm\n",
    "import math\n",
    "\n",
    "def divisors(a): # divisors of a\n",
    "    div = [1]\n",
    "    for t in range(2,int(a/2)+1):\n",
    "        if a % t == 0:\n",
    "            div.append(t)\n",
    "    div.append(a)\n",
    "    return div\n",
    "\n",
    "def pdivisors(a): # prime divisors of a\n",
    "    div = [[1,a]]\n",
    "    for t in range(2,int(a/2)+1):\n",
    "        if a % t == 0:\n",
    "            check = True\n",
    "            for p in div:\n",
    "                if t % p[0] == 0 and p[0] > 1:\n",
    "                    check = False\n",
    "                    pexp = math.log(t)/math.log(p[0])\n",
    "                    if float(pexp).is_integer():\n",
    "                        p[1] = int(pexp)\n",
    "                    break\n",
    "            if check:\n",
    "                div.append([t,1])\n",
    "    return div\n",
    "\n",
    "def takeFirst(elem):\n",
    "    return elem[0]\n",
    "\n",
    "def lcm(a,b): # simple lowest common multiple\n",
    "    divlcm = []\n",
    "    divlcm += pdivisors(a)\n",
    "    divlcm += pdivisors(b)\n",
    "    divlcm.sort(key=takeFirst, reverse=True)\n",
    "    resl = []\n",
    "    lastel = divlcm[0]\n",
    "    for el in divlcm:\n",
    "        if el[0] != lastel[0]:\n",
    "            resl.append(lastel)\n",
    "        lastel = el\n",
    "    res = 1\n",
    "    for el in resl:\n",
    "        res *= el[0]**el[1]\n",
    "    return res\n",
    "\n",
    "if __name__==\"__main__\":\n",
    "    #print pdivisors(144)\n",
    "    print lcm(33,144)"
   ]
  },
  {
   "cell_type": "code",
   "execution_count": 6,
   "metadata": {},
   "outputs": [
    {
     "name": "stdout",
     "output_type": "stream",
     "text": [
      "[40, 78, 114, 148, 180, 210, 238, 264, 288, 310, 330, 348, 364, 378, 390, 400, 408, 414, 418, 420, 420, 418, 414, 408, 400, 390, 378, 364, 348, 330, 310, 288, 264, 238, 210, 180, 148, 114, 78, 40]\n"
     ]
    }
   ],
   "source": [
    "# a triangle of numbers\n",
    "import math\n",
    "\n",
    "def nthrow(n): # n-th row in triangle\n",
    "    res = [n]\n",
    "    for k in range(2,n):\n",
    "        res += [k*(n-k+1)]\n",
    "    res += [n]\n",
    "    return res\n",
    "    \n",
    "if __name__==\"__main__\":\n",
    "    print nthrow(40)"
   ]
  },
  {
   "cell_type": "code",
   "execution_count": 15,
   "metadata": {},
   "outputs": [
    {
     "name": "stdout",
     "output_type": "stream",
     "text": [
      "x: 8.3 y: 36.2 z: 82.7 = 36.0\n"
     ]
    }
   ],
   "source": [
    "# a minimum\n",
    "import math\n",
    "\n",
    "def sss(x,y,z): # s\n",
    "    return math.sqrt(x+2.) + math.sqrt(y+5.) + math.sqrt(z+10.)\n",
    "\n",
    "def ttt(x,y,z): # t\n",
    "    return math.sqrt(x+1.) + math.sqrt(y+1.) + math.sqrt(z+1.)\n",
    "\n",
    "def stdist(x,y,z): # distance\n",
    "    return sss(x,y,z)**2-ttt(x,y,z)**2\n",
    "    \n",
    "if __name__==\"__main__\":\n",
    "    minv = 1000.\n",
    "    mx = 0.\n",
    "    my = 0.\n",
    "    mz = 0.\n",
    "    nsteps = 1000\n",
    "    ds = 0.1\n",
    "    for ix in range(nsteps):\n",
    "        x = 0. + ix*ds\n",
    "        for iy in range(nsteps):\n",
    "            y = 0. + iy*ds\n",
    "            for iz in range(nsteps):\n",
    "                z = 0. + iz*ds\n",
    "                thisv = stdist(x,y,z)\n",
    "                if thisv < minv:\n",
    "                    minv = thisv\n",
    "                    mx = x\n",
    "                    my = y\n",
    "                    mz = z\n",
    "    print('x: {0} y: {1} z: {2} = {3}'.format(mx, my, mz, minv))"
   ]
  },
  {
   "cell_type": "code",
   "execution_count": 4,
   "metadata": {},
   "outputs": [
    {
     "name": "stdout",
     "output_type": "stream",
     "text": [
      "[('A', 'B'), ('A', 'C'), ('A', 'D'), ('B', 'A'), ('B', 'C'), ('B', 'D'), ('C', 'A'), ('C', 'B'), ('C', 'D'), ('D', 'A'), ('D', 'B'), ('D', 'C')]\n"
     ]
    }
   ],
   "source": [
    "import itertools\n",
    "\n",
    "print list(itertools.permutations('ABCD', 2))"
   ]
  },
  {
   "cell_type": "code",
   "execution_count": 8,
   "metadata": {},
   "outputs": [
    {
     "name": "stdout",
     "output_type": "stream",
     "text": [
      "42\n"
     ]
    }
   ],
   "source": [
    "# a 3x3 grid\n",
    "import itertools\n",
    "\n",
    "def pvalid(p): # is the given permutation valid?\n",
    "    # a11, 12, 13, 21, 22, 23, 31, 32, 33\n",
    "    # 0    1   2   3   4   5   6   7   8\n",
    "    #      0   1   2   3   4   5   6\n",
    "    if p[4]<p[1]: return False\n",
    "    if p[4]<p[3]: return False\n",
    "    if p[6]<p[3]: return False\n",
    "    if p[6]<p[5]: return False\n",
    "    if p[3]<p[0]: return False\n",
    "    if p[3]<p[2]: return False\n",
    "    if p[1]<p[0]: return False\n",
    "    if p[5]<p[2]: return False\n",
    "    return True\n",
    "\n",
    "if __name__==\"__main__\":\n",
    "    perm = list(itertools.permutations('2345678', 7))\n",
    "    #perm = list(itertools.permutations('234', 2))\n",
    "    ctr = 0\n",
    "    for p in perm:\n",
    "        if pvalid(p):\n",
    "            ctr += 1\n",
    "    print ctr"
   ]
  },
  {
   "cell_type": "code",
   "execution_count": 1,
   "metadata": {},
   "outputs": [
    {
     "name": "stdout",
     "output_type": "stream",
     "text": [
      "132\n"
     ]
    }
   ],
   "source": [
    "# a 2xn grid\n",
    "import itertools\n",
    "\n",
    "def pvalid(p): # is the given permutation valid?\n",
    "    # 11, 12, 13, 21, 22, 23\n",
    "    lp = len(p)/2\n",
    "    for i in range(1,2*lp):\n",
    "        #print('at {0} : {1} {2}'.format(i, p[i], p[i-1]))\n",
    "        if i > lp:\n",
    "            if p[i]<p[i-lp-1]: return False\n",
    "            if p[i]<p[i-1]: return False\n",
    "        if i < lp:\n",
    "            if p[i]<p[i-1]: return False\n",
    "    return True\n",
    "\n",
    "if __name__==\"__main__\":\n",
    "    perm = list(itertools.permutations('abcdefghij', 10))\n",
    "    ctr = 0\n",
    "    for p in perm:\n",
    "        if pvalid(p):\n",
    "            ctr += 1\n",
    "    print ctr"
   ]
  },
  {
   "cell_type": "code",
   "execution_count": 12,
   "metadata": {},
   "outputs": [
    {
     "name": "stdout",
     "output_type": "stream",
     "text": [
      "[5, 10, 9, 12, 8, 4, 7, 6, 11]\n",
      "72\n",
      "[5, 12, 7, 10, 8, 6, 9, 4, 11]\n",
      "72\n",
      "[7, 6, 11, 12, 8, 4, 5, 10, 9]\n",
      "72\n",
      "[7, 12, 5, 6, 8, 10, 11, 4, 9]\n",
      "72\n",
      "[9, 4, 11, 10, 8, 6, 5, 12, 7]\n",
      "72\n",
      "[9, 10, 5, 4, 8, 12, 11, 6, 7]\n",
      "72\n",
      "[11, 4, 9, 6, 8, 10, 7, 12, 5]\n",
      "72\n",
      "[11, 6, 7, 4, 8, 12, 9, 10, 5]\n",
      "72\n"
     ]
    }
   ],
   "source": [
    "# a 3x3 grid\n",
    "import itertools\n",
    "\n",
    "def gridchk(g): # returns the grid value check\n",
    "    n = g[0] + g[1] + g[2]\n",
    "    n0 = g[3] + g[4] + g[5]\n",
    "    n1 = g[6] + g[7] + g[8]\n",
    "    if n != n0 or n != n1 or n0 != n1:\n",
    "        return False\n",
    "    n0 = g[0] + g[3] + g[6]\n",
    "    n1 = g[1] + g[4] + g[7]\n",
    "    if n != n0 or n != n1 or n0 != n1:\n",
    "        return False\n",
    "    n0 = g[2] + g[5] + g[8]\n",
    "    n1 = g[0] + g[4] + g[8]\n",
    "    n2 = g[2] + g[4] + g[6]\n",
    "    if n != n0 or n != n1 or n0 != n1:\n",
    "        return False\n",
    "    if n != n2:\n",
    "        return False\n",
    "    return True\n",
    "\n",
    "if __name__==\"__main__\":\n",
    "    vals = [4,5,6,7,9,10,11,12]\n",
    "    perm = list(itertools.permutations(vals, 8))\n",
    "    for p in perm:\n",
    "        pchk = []\n",
    "        pchk += p[:4]\n",
    "        pchk.append(8)\n",
    "        pchk += p[4:8]\n",
    "        if gridchk(pchk):\n",
    "            print pchk\n",
    "            print sum(pchk)"
   ]
  },
  {
   "cell_type": "code",
   "execution_count": 6,
   "metadata": {},
   "outputs": [
    {
     "name": "stdout",
     "output_type": "stream",
     "text": [
      "[1, 2, 3, 4, 5, 6, 7, 8]\n",
      "[1, 5, 2, 6, 3, 7, 4, 8]\n",
      "[1, 3, 5, 7, 2, 4, 6, 8]\n",
      "[1, 2, 3, 4, 5, 6, 7, 8]\n"
     ]
    }
   ],
   "source": [
    "# shuffling cards\n",
    "import itertools\n",
    "\n",
    "def shuffle(cards): # shuffle cards\n",
    "    res = []\n",
    "    for c in cards:\n",
    "        if c % 2 == 0:\n",
    "            res.append(len(cards)/2+c/2)\n",
    "        else:\n",
    "            res.append((c+1)/2)\n",
    "    return res\n",
    "\n",
    "if __name__==\"__main__\":\n",
    "    #print shuffle([1,2,3,4,5,6,7,8])\n",
    "    cards = [1,2,3,4,5,6,7,8]\n",
    "    for i in range(4):\n",
    "        print cards\n",
    "        cards = shuffle(cards)"
   ]
  },
  {
   "cell_type": "code",
   "execution_count": 46,
   "metadata": {},
   "outputs": [
    {
     "name": "stdout",
     "output_type": "stream",
     "text": [
      "[4, 4, 4, 4, 4, 4, 4, 4, 4, 4, 4, 4, 4, 4, 4, 4, 4, 4, 4, 4, 4, 4, 4, 4, 4, 4, 4, 4, 4, 4, 4, 4, 4, 4, 4, 4, 4, 4, 4, 4, 4, 4, 4, 4, 4, 4, 4, 4, 4, 4, 4, 4, 4, 4, 4, 4, 4, 4, 4, 4, 4, 4, 4, 4, 4, 4, 4, 4, 4, 4, 4, 4, 4, 4, 4, 4, 4, 4, 4, 4, 4, 4, 4, 4, 4, 4, 4, 4, 4, 4, 4, 4, 4, 4, 4, 4, 4, 4, 4, 4, 4, 4, 4, 4, 4, 4, 4, 4, 4, 4, 4, 4, 4, 4, 4, 4, 4, 4, 4, 4, 4, 4, 4, 4, 4]\n"
     ]
    }
   ],
   "source": [
    "# Fibonacci divisibility\n",
    "import math\n",
    "\n",
    "def fib(n): # simple fibonacci\n",
    "    fn1 = 0.\n",
    "    fn2 = 1.\n",
    "    for k in range(1,n+1):\n",
    "        fn = fn1 + fn2\n",
    "        fn2 = fn1\n",
    "        fn1 = fn\n",
    "    return fn\n",
    "\n",
    "if __name__==\"__main__\":\n",
    "    n = 500\n",
    "    d = 125\n",
    "    fn1 = 0\n",
    "    fn2 = 1\n",
    "    rests = []\n",
    "    for k in range(1,n+1):\n",
    "        fn = fn1 + fn2\n",
    "        fn2 = fn1\n",
    "        fn1 = fn\n",
    "        rests.append(fn%d)\n",
    "    #print rests\n",
    "    #print sum(1 for x in rests if x==0)\n",
    "    ratios = []\n",
    "    for k in range(d):\n",
    "        ratios.append(sum(1 for x in rests if x==k))\n",
    "    print ratios"
   ]
  },
  {
   "cell_type": "code",
   "execution_count": 27,
   "metadata": {},
   "outputs": [
    {
     "name": "stdout",
     "output_type": "stream",
     "text": [
      "[2, 3, 0, 5, 0, 7, 0, 0, 0, 11, 0, 13, 0, 0, 0, 17, 0, 19, 0, 0, 0, 23, 0, 0, 0, 0, 0, 29, 0, 31, 0, 0, 0, 0, 0, 37, 0, 0, 0, 41, 0, 43, 0, 0, 0, 47, 0, 0, 0, 0, 0, 53, 0, 0, 0, 0, 0, 59, 0, 61, 0, 0, 0, 0, 0, 67, 0, 0, 0, 71, 0, 73, 0, 0, 0, 0, 0, 79, 0, 0, 0, 83, 0, 0, 0, 0, 0, 89, 0, 0, 0, 0, 0, 0, 0, 97, 0, 0, 100]\n"
     ]
    }
   ],
   "source": [
    "# sieve of Eratosthenes\n",
    "\n",
    "def primes(n): # primes up to n via sieve\n",
    "    res = range(2, n+1)\n",
    "    idx = range(2, n+1)\n",
    "    for k in res:\n",
    "        for i in range(k, n, k):\n",
    "            #print('k: {0} i: {1}'.format(k,i))\n",
    "            if i % k == 0 and i > k:\n",
    "                idx[i-2] = 0\n",
    "    return idx\n",
    "\n",
    "if __name__==\"__main__\":\n",
    "    print primes(100)"
   ]
  },
  {
   "cell_type": "code",
   "execution_count": 66,
   "metadata": {},
   "outputs": [
    {
     "name": "stdout",
     "output_type": "stream",
     "text": [
      "0.1141086\n"
     ]
    }
   ],
   "source": [
    "# tennis players\n",
    "import random\n",
    "\n",
    "def playm(pl): # play first round and return winners\n",
    "    random.shuffle(pl)\n",
    "    winners = []\n",
    "    for i in range(0,len(pl),2):\n",
    "        if pl[i]>pl[i+1]:\n",
    "            winners.append(pl[i])\n",
    "        else:\n",
    "            winners.append(pl[i+1])\n",
    "    return winners\n",
    "\n",
    "if __name__==\"__main__\":\n",
    "    thisplyr = 5\n",
    "    ctr = 0.\n",
    "    nruns = 100000\n",
    "    for i in range(nruns):\n",
    "        pl = range(1,9)\n",
    "        fm = playm(playm(pl))\n",
    "        if thisplyr in fm:\n",
    "            ctr += 1.\n",
    "            #print fm\n",
    "    print ctr/float(nruns)"
   ]
  },
  {
   "cell_type": "code",
   "execution_count": 57,
   "metadata": {},
   "outputs": [
    {
     "name": "stdout",
     "output_type": "stream",
     "text": [
      "0.2482\n"
     ]
    }
   ],
   "source": [
    "# coin on grid\n",
    "import random\n",
    "\n",
    "def throwcoin(dg, rc): # throw a coin onto grid, return False if it touches the grid\n",
    "    lwr = rc/2.\n",
    "    upr = dg-lwr\n",
    "    cx = random.uniform(0., dg)\n",
    "    cy = random.uniform(0., dg)\n",
    "    if cx >= lwr and cx <= upr:\n",
    "        if cy >= lwr and cy <= upr:\n",
    "            return True\n",
    "    return False\n",
    "\n",
    "if __name__==\"__main__\":\n",
    "    ctr = 0.\n",
    "    nruns = 100000\n",
    "    for i in range(nruns):\n",
    "        if throwcoin(2., 1.):\n",
    "            ctr += 1.\n",
    "    print ctr/float(nruns)"
   ]
  },
  {
   "cell_type": "code",
   "execution_count": 67,
   "metadata": {},
   "outputs": [
    {
     "name": "stdout",
     "output_type": "stream",
     "text": [
      "a: 4 b: 35\n"
     ]
    }
   ],
   "source": [
    "lmin = 1000.\n",
    "for a in range(1,16):\n",
    "    for b in range(3,111):\n",
    "        thisd = abs(float(a)/float(b)-0.1142)\n",
    "        if thisd<lmin:\n",
    "            lmin = thisd\n",
    "            ma = a\n",
    "            mb = b\n",
    "print('a: {0} b: {1}'.format(ma,mb))"
   ]
  },
  {
   "cell_type": "code",
   "execution_count": null,
   "metadata": {},
   "outputs": [],
   "source": []
  }
 ],
 "metadata": {
  "kernelspec": {
   "display_name": "Python 2",
   "language": "python",
   "name": "python2"
  },
  "language_info": {
   "codemirror_mode": {
    "name": "ipython",
    "version": 2
   },
   "file_extension": ".py",
   "mimetype": "text/x-python",
   "name": "python",
   "nbconvert_exporter": "python",
   "pygments_lexer": "ipython2",
   "version": "2.7.15"
  }
 },
 "nbformat": 4,
 "nbformat_minor": 2
}
