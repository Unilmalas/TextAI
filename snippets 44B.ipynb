{
 "cells": [
  {
   "cell_type": "markdown",
   "id": "68cf1e03",
   "metadata": {},
   "source": [
    "# NLP name classifier\n",
    "\n",
    "https://pytorch.org/tutorials/intermediate/char_rnn_classification_tutorial"
   ]
  },
  {
   "cell_type": "code",
   "execution_count": 1,
   "id": "6bb9af6c",
   "metadata": {},
   "outputs": [
    {
     "name": "stdout",
     "output_type": "stream",
     "text": [
      "['data/names\\\\Arabic.txt', 'data/names\\\\Chinese.txt', 'data/names\\\\Czech.txt', 'data/names\\\\Dutch.txt', 'data/names\\\\English.txt', 'data/names\\\\French.txt', 'data/names\\\\German.txt', 'data/names\\\\Greek.txt', 'data/names\\\\Irish.txt', 'data/names\\\\Italian.txt', 'data/names\\\\Japanese.txt', 'data/names\\\\Korean.txt', 'data/names\\\\Polish.txt', 'data/names\\\\Portuguese.txt', 'data/names\\\\Russian.txt', 'data/names\\\\Scottish.txt', 'data/names\\\\Spanish.txt', 'data/names\\\\Vietnamese.txt']\n",
      "Slusarski\n"
     ]
    }
   ],
   "source": [
    "# load data from file and prepare data\n",
    "from __future__ import unicode_literals, print_function, division\n",
    "from io import open\n",
    "import glob\n",
    "import os\n",
    "\n",
    "def findFiles(path): return glob.glob(path)\n",
    "\n",
    "print(findFiles('data/names/*.txt'))\n",
    "\n",
    "import unicodedata\n",
    "import string\n",
    "\n",
    "all_letters = string.ascii_letters + \" .,;'\"  # all characters\n",
    "n_letters = len(all_letters)\n",
    "\n",
    "# Turn a Unicode string to plain ASCII, thanks to https://stackoverflow.com/a/518232/2809427\n",
    "def unicodeToAscii(s):\n",
    "    return ''.join(\n",
    "        c for c in unicodedata.normalize('NFD', s)\n",
    "        if unicodedata.category(c) != 'Mn'\n",
    "        and c in all_letters\n",
    "    )\n",
    "\n",
    "print(unicodeToAscii('Ślusàrski'))\n",
    "\n",
    "# Build the category_lines dictionary, a list of names per language\n",
    "category_lines = {}\n",
    "all_categories = []\n",
    "\n",
    "# Read a file and split into lines\n",
    "def readLines(filename):\n",
    "    lines = open(filename, encoding='utf-8').read().strip().split('\\n')\n",
    "    return [unicodeToAscii(line) for line in lines]\n",
    "\n",
    "for filename in findFiles('data/names/*.txt'):\n",
    "    category = os.path.splitext(os.path.basename(filename))[0]\n",
    "    all_categories.append(category)\n",
    "    lines = readLines(filename)\n",
    "    category_lines[category] = lines\n",
    "\n",
    "n_categories = len(all_categories)"
   ]
  },
  {
   "cell_type": "code",
   "execution_count": 2,
   "id": "03ef070f",
   "metadata": {},
   "outputs": [
    {
     "name": "stdout",
     "output_type": "stream",
     "text": [
      "['Abandonato', 'Abatangelo', 'Abatantuono', 'Abate', 'Abategiovanni']\n"
     ]
    }
   ],
   "source": [
    "print(category_lines['Italian'][:5])"
   ]
  },
  {
   "cell_type": "code",
   "execution_count": 3,
   "id": "9339c98c",
   "metadata": {},
   "outputs": [
    {
     "name": "stdout",
     "output_type": "stream",
     "text": [
      "torch.Size([1, 1, 57])\n",
      "torch.Size([1, 5, 57])\n",
      "tensor([[[0., 0., 0., 0., 0., 0., 0., 0., 0., 0., 0., 0., 0., 0., 0., 0., 0.,\n",
      "          0., 0., 0., 0., 0., 0., 0., 0., 0., 0., 0., 0., 0., 0., 0., 0., 0.,\n",
      "          0., 1., 0., 0., 0., 0., 0., 0., 0., 0., 0., 0., 0., 0., 0., 0., 0.,\n",
      "          0., 0., 0., 0., 0., 0.],\n",
      "         [0., 0., 0., 0., 0., 0., 0., 0., 0., 0., 0., 0., 0., 0., 1., 0., 0.,\n",
      "          0., 0., 0., 0., 0., 0., 0., 0., 0., 0., 0., 0., 0., 0., 0., 0., 0.,\n",
      "          0., 0., 0., 0., 0., 0., 0., 0., 0., 0., 0., 0., 0., 0., 0., 0., 0.,\n",
      "          0., 0., 0., 0., 0., 0.],\n",
      "         [0., 0., 0., 0., 0., 0., 0., 0., 0., 0., 0., 0., 0., 1., 0., 0., 0.,\n",
      "          0., 0., 0., 0., 0., 0., 0., 0., 0., 0., 0., 0., 0., 0., 0., 0., 0.,\n",
      "          0., 0., 0., 0., 0., 0., 0., 0., 0., 0., 0., 0., 0., 0., 0., 0., 0.,\n",
      "          0., 0., 0., 0., 0., 0.],\n",
      "         [0., 0., 0., 0., 1., 0., 0., 0., 0., 0., 0., 0., 0., 0., 0., 0., 0.,\n",
      "          0., 0., 0., 0., 0., 0., 0., 0., 0., 0., 0., 0., 0., 0., 0., 0., 0.,\n",
      "          0., 0., 0., 0., 0., 0., 0., 0., 0., 0., 0., 0., 0., 0., 0., 0., 0.,\n",
      "          0., 0., 0., 0., 0., 0.],\n",
      "         [0., 0., 0., 0., 0., 0., 0., 0., 0., 0., 0., 0., 0., 0., 0., 0., 0.,\n",
      "          0., 1., 0., 0., 0., 0., 0., 0., 0., 0., 0., 0., 0., 0., 0., 0., 0.,\n",
      "          0., 0., 0., 0., 0., 0., 0., 0., 0., 0., 0., 0., 0., 0., 0., 0., 0.,\n",
      "          0., 0., 0., 0., 0., 0.]]])\n"
     ]
    }
   ],
   "source": [
    "import torch\n",
    "\n",
    "# Find letter index from all_letters, e.g. \"a\" = 0\n",
    "def letterToIndex(letter):\n",
    "    return all_letters.find(letter)\n",
    "\n",
    "# Just for demonstration, turn a letter into a <1 x n_letters> Tensor\n",
    "def letterToTensor(letter):\n",
    "    tensor = torch.zeros(1, n_letters)\n",
    "    tensor[0][letterToIndex(letter)] = 1\n",
    "    return tensor\n",
    "\n",
    "def letterToTensorGRU(letter):  \n",
    "    tensor = torch.zeros(1, 1, n_letters)  # input dimension need to be (batch_size, seq_len, input_size)\n",
    "    tensor[0][0][letterToIndex(letter)] = 1\n",
    "    return tensor\n",
    "\n",
    "# Turn a line into a <line_length x 1 x n_letters>,\n",
    "# or an array of one-hot letter vectors\n",
    "def lineToTensor(line):\n",
    "    tensor = torch.zeros(len(line), 1, n_letters)\n",
    "    for li, letter in enumerate(line):\n",
    "        tensor[li][0][letterToIndex(letter)] = 1\n",
    "    return tensor\n",
    "\n",
    "def lineToTensorGRU(line):  \n",
    "    tensor = torch.zeros(1, len(line), n_letters)  # input dimension need to be (batch_size, seq_len, input_size)\n",
    "    for li, letter in enumerate(line):\n",
    "        tensor[0][li][letterToIndex(letter)] = 1\n",
    "    return tensor\n",
    "\n",
    "def lineToInputGRU(line_oh):  \n",
    "    tensor = torch.zeros(1, 1, n_letters)  # input dimension need to be (batch_size, seq_len, input_size)\n",
    "    for li, letter_oh in enumerate(line_oh):\n",
    "        tensor[0][0][li] = letter_oh\n",
    "    return tensor\n",
    "\n",
    "#print(letterToTensor('J'))\n",
    "\n",
    "#print(lineToTensor('Jones').size())\n",
    "\n",
    "print(letterToTensorGRU('J').size())\n",
    "\n",
    "print(lineToTensorGRU('Jones').size())\n",
    "print(lineToTensorGRU('Jones'))"
   ]
  },
  {
   "attachments": {
    "image.png": {
     "image/png": "[encoded data removed]"
    }
   },
   "cell_type": "markdown",
   "id": "a20d12b1",
   "metadata": {},
   "source": [
    "## RNN\n",
    "\n",
    "![image.png](attachment:image.png)"
   ]
  },
  {
   "cell_type": "code",
   "execution_count": 19,
   "id": "83dae0da",
   "metadata": {},
   "outputs": [],
   "source": [
    "import torch.nn as nn\n",
    "\n",
    "class RNN(nn.Module):\n",
    "    def __init__(self, input_size, hidden_size, output_size):\n",
    "        super(RNN, self).__init__()\n",
    "\n",
    "        self.hidden_size = hidden_size\n",
    "\n",
    "        self.i2h = nn.Linear(input_size + hidden_size, hidden_size)  # input to hidden\n",
    "        self.i2o = nn.Linear(input_size + hidden_size, output_size)  # input to output\n",
    "        self.softmax = nn.LogSoftmax(dim=1)\n",
    "\n",
    "    def forward(self, input, hidden):\n",
    "        combined = torch.cat((input, hidden), 1)  # simply concatenate\n",
    "        hidden = self.i2h(combined)\n",
    "        output = self.i2o(combined)\n",
    "        output = self.softmax(output)\n",
    "        return output, hidden\n",
    "\n",
    "    def initHidden(self):\n",
    "        return torch.zeros(1, self.hidden_size)\n",
    "\n",
    "n_hidden = 128\n",
    "rnn = RNN(n_letters, n_hidden, n_categories)"
   ]
  },
  {
   "attachments": {
    "image-2.png": {
     "image/png": "[encoded data removed]"
    }
   },
   "cell_type": "markdown",
   "id": "c3241613",
   "metadata": {},
   "source": [
    "![image-2.png](attachment:image-2.png)"
   ]
  },
  {
   "cell_type": "code",
   "execution_count": 85,
   "id": "8986e893",
   "metadata": {},
   "outputs": [
    {
     "data": {
      "text/plain": [
       "GRU(\n",
       "  (gru): GRU(57, 128, num_layers=3, batch_first=True, dropout=0.1)\n",
       "  (hidden2tag): Linear(in_features=128, out_features=18, bias=True)\n",
       "  (relu): ReLU()\n",
       ")"
      ]
     },
     "execution_count": 85,
     "metadata": {},
     "output_type": "execute_result"
    }
   ],
   "source": [
    "import torch.nn as nn\n",
    "\n",
    "class GRU(nn.Module):\n",
    "    def __init__(self, input_size, hidden_size, output_size, n_layers, drop_prob=0.1):\n",
    "        super(GRU, self).__init__()\n",
    "\n",
    "        self.hidden_size = hidden_size\n",
    "        self.n_layers = n_layers\n",
    "        \n",
    "        self.gru = nn.GRU(input_size, hidden_size, n_layers, batch_first=True, dropout=drop_prob)\n",
    "        self.hidden2tag = nn.Linear(hidden_size, output_size)\n",
    "        self.relu = nn.ReLU()\n",
    "\n",
    "    def forward(self, input, hidden):  \n",
    "        output, hidden = self.gru(input, hidden)\n",
    "        output = self.hidden2tag(self.relu(output[:,-1]))  # all rows, only last col of output\n",
    "        return output, hidden\n",
    "\n",
    "    def initHidden(self, batch_size, device):\n",
    "        weight = next(self.parameters()).to(device).data\n",
    "        hidden = weight.new(self.n_layers, batch_size, self.hidden_size).zero_().to(device)\n",
    "        return hidden\n",
    "\n",
    "n_hidden = 128\n",
    "rnn = GRU(n_letters, n_hidden, n_categories, 3) # input dimension need to be (batch_size, seq_len, input_size)\n",
    "rnn.to('cuda:0')"
   ]
  },
  {
   "cell_type": "code",
   "execution_count": 86,
   "id": "cb0c221e",
   "metadata": {},
   "outputs": [
    {
     "name": "stdout",
     "output_type": "stream",
     "text": [
      "tensor([[-0.0550, -0.0726,  0.0494,  0.0624, -0.0498, -0.0021, -0.0292,  0.0696,\n",
      "          0.0758,  0.0050,  0.0997, -0.0341,  0.0918, -0.0050, -0.0635, -0.0773,\n",
      "          0.0217, -0.0377]], device='cuda:0', grad_fn=<AddmmBackward>)\n"
     ]
    }
   ],
   "source": [
    "input = letterToTensorGRU('A').to('cuda:0')  # input dimension need to be (batch_size, seq_len, input_size)\n",
    "hidden = torch.zeros(3, 1, n_hidden).to('cuda:0')\n",
    "\n",
    "output, next_hidden = rnn(input, hidden)  # one single step\n",
    "print(output)"
   ]
  },
  {
   "cell_type": "code",
   "execution_count": 87,
   "id": "c34f37e2",
   "metadata": {},
   "outputs": [
    {
     "name": "stdout",
     "output_type": "stream",
     "text": [
      "torch.Size([1, 6, 57])\n",
      "tensor([[-0.0514, -0.0726,  0.0770,  0.0836, -0.0769, -0.0023, -0.0251,  0.0550,\n",
      "          0.0448,  0.0186,  0.1339, -0.0518,  0.1090,  0.0092, -0.0753, -0.0925,\n",
      "          0.0183, -0.0382]], device='cuda:0', grad_fn=<AddmmBackward>)\n"
     ]
    }
   ],
   "source": [
    "name = 'Albert'\n",
    "input = lineToTensorGRU(name).to('cuda:0')\n",
    "hidden = torch.zeros(3, 1, n_hidden).to('cuda:0')\n",
    "\n",
    "print(input.size())\n",
    "\n",
    "output, next_hidden = rnn(input, hidden)  # run a single step through the rnn\n",
    "print(output)"
   ]
  },
  {
   "cell_type": "code",
   "execution_count": 88,
   "id": "6c1bb594",
   "metadata": {},
   "outputs": [
    {
     "name": "stdout",
     "output_type": "stream",
     "text": [
      "('Japanese', 10)\n"
     ]
    }
   ],
   "source": [
    "def categoryFromOutput(output):\n",
    "    '''to interpret the output of the network'''\n",
    "    top_n, top_i = output.topk(1)  # get the index of the greatest value\n",
    "    category_i = top_i[0].item()\n",
    "    return all_categories[category_i], category_i\n",
    "\n",
    "print(categoryFromOutput(output))"
   ]
  },
  {
   "cell_type": "code",
   "execution_count": 115,
   "id": "e542a076",
   "metadata": {},
   "outputs": [
    {
     "name": "stdout",
     "output_type": "stream",
     "text": [
      "['Arabic', 'Chinese', 'Czech', 'Dutch', 'English', 'French', 'German', 'Greek', 'Irish', 'Italian', 'Japanese', 'Korean', 'Polish', 'Portuguese', 'Russian', 'Scottish', 'Spanish', 'Vietnamese']\n",
      "category = Arabic / line = Srour\n",
      "tensor([0., 0., 0., 0., 0., 0., 0., 0., 0., 0., 0., 0., 0., 0., 0., 0., 0., 0.,\n",
      "        0., 0., 0., 0., 0., 0., 0., 0., 0., 0., 0., 0., 0., 0., 0., 0., 0., 0.,\n",
      "        0., 0., 0., 0., 0., 0., 0., 0., 1., 0., 0., 0., 0., 0., 0., 0., 0., 0.,\n",
      "        0., 0., 0.])\n",
      "tensor([[1, 0, 0, 0, 0, 0, 0, 0, 0, 0, 0, 0, 0, 0, 0, 0, 0, 0]])\n",
      "category = Russian / line = Martyshin\n",
      "tensor([0., 0., 0., 0., 0., 0., 0., 0., 0., 0., 0., 0., 0., 0., 0., 0., 0., 0.,\n",
      "        0., 0., 0., 0., 0., 0., 0., 0., 0., 0., 0., 0., 0., 0., 0., 0., 0., 0.,\n",
      "        0., 0., 1., 0., 0., 0., 0., 0., 0., 0., 0., 0., 0., 0., 0., 0., 0., 0.,\n",
      "        0., 0., 0.])\n",
      "tensor([[0, 0, 0, 0, 0, 0, 0, 0, 0, 0, 0, 0, 0, 0, 1, 0, 0, 0]])\n",
      "category = Greek / line = Horiatis\n",
      "tensor([0., 0., 0., 0., 0., 0., 0., 0., 0., 0., 0., 0., 0., 0., 0., 0., 0., 0.,\n",
      "        0., 0., 0., 0., 0., 0., 0., 0., 0., 0., 0., 0., 0., 0., 0., 1., 0., 0.,\n",
      "        0., 0., 0., 0., 0., 0., 0., 0., 0., 0., 0., 0., 0., 0., 0., 0., 0., 0.,\n",
      "        0., 0., 0.])\n",
      "tensor([[0, 0, 0, 0, 0, 0, 0, 1, 0, 0, 0, 0, 0, 0, 0, 0, 0, 0]])\n"
     ]
    }
   ],
   "source": [
    "# to get a quick training example\n",
    "import random\n",
    "\n",
    "def randomChoice(l):\n",
    "    return l[random.randint(0, len(l) - 1)]\n",
    "\n",
    "def randomTrainingExample():\n",
    "    category = randomChoice(all_categories)  # choose language\n",
    "    line = randomChoice(category_lines[category])  # choose line\n",
    "    category_tensor = torch.tensor([all_categories.index(category)], dtype=torch.long)  # build category tensor\n",
    "    line_tensor = lineToTensor(line)  # build line tensor\n",
    "    return category, line, category_tensor, line_tensor\n",
    "\n",
    "def randomTrainingExampleGRU():\n",
    "    category = randomChoice(all_categories)  # choose language\n",
    "    line = randomChoice(category_lines[category])  # choose line\n",
    "    category_tensor = torch.tensor([[1 if i == all_categories.index(category) else 0 for i in range(len(all_categories))]], dtype=torch.long)  # build category tensor\n",
    "    line_tensor = lineToTensorGRU(line)  # build line tensor\n",
    "    return category, line, category_tensor, line_tensor\n",
    "\n",
    "print(all_categories)\n",
    "\n",
    "for i in range(3):\n",
    "    category, line, category_tensor, line_tensor = randomTrainingExampleGRU()\n",
    "    print('category =', category, '/ line =', line)\n",
    "    print(line_tensor[0][0])\n",
    "    print(category_tensor)"
   ]
  },
  {
   "cell_type": "code",
   "execution_count": 135,
   "id": "6c47af5d",
   "metadata": {},
   "outputs": [],
   "source": [
    "learning_rate = 0.1 # If you set this too high, it might explode. If too low, it might not learn\n",
    "\n",
    "#criterion = nn.NLLLoss()  # init loss function\n",
    "criterion = nn.MSELoss()  # init loss function\n",
    "optimizer = torch.optim.Adam(rnn.parameters(), lr=learning_rate)\n",
    "\n",
    "def train(category_tensor, line_tensor):  # Create target (=category_tensor) and input (=line_tensor) tensors\n",
    "    hidden = rnn.initHidden(1, 'cuda:0')  # Create a zeroed initial hidden state\n",
    "\n",
    "    rnn.zero_grad()\n",
    "\n",
    "    output, hidden = rnn(line_tensor.to('cuda:0').float(), hidden)  # Keep hidden state for next letter\n",
    "\n",
    "    loss = criterion(output, category_tensor.to('cuda:0').float())  # Compare final output to target\n",
    "    loss.backward()  # Back-propagate\n",
    "    optimizer.step()\n",
    "\n",
    "    return output, loss.item()  # Return the output and loss"
   ]
  },
  {
   "cell_type": "code",
   "execution_count": 136,
   "id": "27b3d2b4",
   "metadata": {},
   "outputs": [
    {
     "name": "stdout",
     "output_type": "stream",
     "text": [
      "500 5% (0m 1s) 0.0703 An / German ✗ (Vietnamese)\n",
      "1000 10% (0m 3s) 0.0613 Adigamoff / Portuguese ✗ (Russian)\n",
      "1500 15% (0m 5s) 0.0929 Lamberti / Greek ✗ (Italian)\n",
      "2000 20% (0m 7s) 0.0579 Voclain / Irish ✗ (French)\n",
      "2500 25% (0m 8s) 0.0569 Michael / German ✗ (Irish)\n",
      "3000 30% (0m 10s) 0.0711 Than / Arabic ✗ (Vietnamese)\n",
      "3500 35% (0m 12s) 0.0595 Daher / Polish ✗ (Arabic)\n",
      "4000 40% (0m 14s) 0.0777 Zawisza / Greek ✗ (Polish)\n",
      "4500 45% (0m 15s) 0.0750 Arrigucci / Vietnamese ✗ (Italian)\n",
      "5000 50% (0m 17s) 0.0408 Kleid / Russian ✗ (German)\n",
      "5500 55% (0m 19s) 0.0775 Snider / German ✗ (Dutch)\n",
      "6000 60% (0m 21s) 0.0543 Sala / Czech ✗ (Italian)\n",
      "6500 65% (0m 23s) 0.0514 Rothbauer / Vietnamese ✗ (German)\n",
      "7000 70% (0m 24s) 0.0554 Doan / Irish ✗ (Vietnamese)\n",
      "7500 75% (0m 26s) 0.0625 Sinclair / Chinese ✗ (Scottish)\n",
      "8000 80% (0m 28s) 0.0497 Fonseca / Russian ✗ (Portuguese)\n",
      "8500 85% (0m 30s) 0.0711 Quraishi / Portuguese ✗ (Arabic)\n",
      "9000 90% (0m 31s) 0.0705 Lu / Russian ✗ (Chinese)\n",
      "9500 95% (0m 33s) 0.0798 Eatros / English ✗ (Greek)\n",
      "10000 100% (0m 35s) 0.0662 Ader / Portuguese ✗ (Russian)\n"
     ]
    }
   ],
   "source": [
    "import time\n",
    "import math\n",
    "\n",
    "n_iters = 10000\n",
    "print_every = 500\n",
    "plot_every = 100\n",
    "\n",
    "\n",
    "# Keep track of losses for plotting\n",
    "current_loss = 0\n",
    "all_losses = []\n",
    "\n",
    "def timeSince(since):\n",
    "    now = time.time()\n",
    "    s = now - since\n",
    "    m = math.floor(s / 60)\n",
    "    s -= m * 60\n",
    "    return '%dm %ds' % (m, s)\n",
    "\n",
    "start = time.time()\n",
    "\n",
    "for iter in range(1, n_iters + 1):\n",
    "    category, line, category_tensor, line_tensor = randomTrainingExampleGRU()  # fetch a random example\n",
    "    output, loss = train(category_tensor, line_tensor)  # train\n",
    "    current_loss += loss\n",
    "\n",
    "    # Print iter number, loss, name and guess\n",
    "    if iter % print_every == 0:\n",
    "        guess, guess_i = categoryFromOutput(output)\n",
    "        correct = '✓' if guess == category else '✗ (%s)' % category\n",
    "        print('%d %d%% (%s) %.4f %s / %s %s' % (iter, iter / n_iters * 100, timeSince(start), loss, line, guess, correct))\n",
    "\n",
    "    # Add current loss avg to list of losses\n",
    "    if iter % plot_every == 0:\n",
    "        all_losses.append(current_loss / plot_every)\n",
    "        current_loss = 0"
   ]
  },
  {
   "cell_type": "code",
   "execution_count": 137,
   "id": "d9c04b6b",
   "metadata": {},
   "outputs": [
    {
     "data": {
      "text/plain": [
       "[<matplotlib.lines.Line2D at 0x28f22b3a0c8>]"
      ]
     },
     "execution_count": 137,
     "metadata": {},
     "output_type": "execute_result"
    },
    {
     "data": {
      "image/png": "[encoded data removed]",
      "text/plain": [
       "<Figure size 432x288 with 1 Axes>"
      ]
     },
     "metadata": {
      "needs_background": "light"
     },
     "output_type": "display_data"
    }
   ],
   "source": [
    "import matplotlib.pyplot as plt\n",
    "import matplotlib.ticker as ticker\n",
    "\n",
    "plt.figure()\n",
    "plt.plot(all_losses)"
   ]
  },
  {
   "cell_type": "code",
   "execution_count": 125,
   "id": "49fa9b39",
   "metadata": {},
   "outputs": [
    {
     "name": "stderr",
     "output_type": "stream",
     "text": [
      "C:\\Users\\bscho\\anaconda3\\lib\\site-packages\\ipykernel_launcher.py:33: UserWarning: FixedFormatter should only be used together with FixedLocator\n",
      "C:\\Users\\bscho\\anaconda3\\lib\\site-packages\\ipykernel_launcher.py:34: UserWarning: FixedFormatter should only be used together with FixedLocator\n"
     ]
    },
    {
     "data": {
      "image/png": "[encoded data removed]",
      "text/plain": [
       "<Figure size 432x288 with 2 Axes>"
      ]
     },
     "metadata": {
      "needs_background": "light"
     },
     "output_type": "display_data"
    }
   ],
   "source": [
    "# Keep track of correct guesses in a confusion matrix\n",
    "confusion = torch.zeros(n_categories, n_categories)\n",
    "n_confusion = 1000\n",
    "\n",
    "# Just return an output given a line\n",
    "def evaluate(line_tensor):\n",
    "    hidden = rnn.initHidden(1, 'cuda:0') \n",
    "\n",
    "    for i in range(line_tensor.size()[0]):\n",
    "        output, hidden = rnn(line_tensor.to('cuda:0'), hidden)\n",
    "\n",
    "    return output\n",
    "\n",
    "# Go through a bunch of examples and record which are correctly guessed\n",
    "for i in range(n_confusion):\n",
    "    category, line, category_tensor, line_tensor = randomTrainingExampleGRU()  # fetch a random example\n",
    "    output = evaluate(line_tensor)\n",
    "    guess, guess_i = categoryFromOutput(output)  # category of guess\n",
    "    category_i = all_categories.index(category)  # correct category\n",
    "    confusion[category_i][guess_i] += 1  # increment counter at correct and guessed category\n",
    "\n",
    "# Normalize by dividing every row by its sum\n",
    "for i in range(n_categories):\n",
    "    confusion[i] = confusion[i] / confusion[i].sum()\n",
    "\n",
    "# Set up plot\n",
    "fig = plt.figure()\n",
    "ax = fig.add_subplot(111)\n",
    "cax = ax.matshow(confusion.numpy())\n",
    "fig.colorbar(cax)\n",
    "\n",
    "# Set up axes\n",
    "ax.set_xticklabels([''] + all_categories, rotation=90)\n",
    "ax.set_yticklabels([''] + all_categories)\n",
    "\n",
    "# Force label at every tick\n",
    "ax.xaxis.set_major_locator(ticker.MultipleLocator(1))\n",
    "ax.yaxis.set_major_locator(ticker.MultipleLocator(1))\n",
    "\n",
    "# sphinx_gallery_thumbnail_number = 2\n",
    "plt.show()"
   ]
  },
  {
   "cell_type": "code",
   "execution_count": 37,
   "id": "0f3d3e06",
   "metadata": {},
   "outputs": [
    {
     "name": "stdout",
     "output_type": "stream",
     "text": [
      "\n",
      "> Dovesky\n",
      "(1.13) Arabic\n",
      "(0.02) Irish\n",
      "(0.00) Vietnamese\n",
      "\n",
      "> Jackson\n",
      "(1.13) Arabic\n",
      "(0.02) Irish\n",
      "(0.00) Vietnamese\n",
      "\n",
      "> Satoshi\n",
      "(1.13) Arabic\n",
      "(0.02) Irish\n",
      "(0.00) Vietnamese\n",
      "\n",
      "> Bernd\n",
      "(1.13) Arabic\n",
      "(0.02) Irish\n",
      "(0.00) Vietnamese\n",
      "\n",
      "> Patrick\n",
      "(1.13) Arabic\n",
      "(0.02) Irish\n",
      "(0.00) Vietnamese\n",
      "\n",
      "> Aurelia\n",
      "(1.13) Arabic\n",
      "(0.02) Irish\n",
      "(0.00) Vietnamese\n",
      "\n",
      "> Jakob\n",
      "(1.13) Arabic\n",
      "(0.02) Irish\n",
      "(0.00) Vietnamese\n"
     ]
    }
   ],
   "source": [
    "def predict(input_line, n_predictions=3):\n",
    "    print('\\n> %s' % input_line)\n",
    "    with torch.no_grad():\n",
    "        output = evaluate(lineToTensorGRU(input_line))\n",
    "\n",
    "        # Get top N categories\n",
    "        topv, topi = output.topk(n_predictions, 1, True)\n",
    "        predictions = []\n",
    "\n",
    "        for i in range(n_predictions):\n",
    "            value = topv[0][i].item()\n",
    "            category_index = topi[0][i].item()\n",
    "            print('(%.2f) %s' % (value, all_categories[category_index]))\n",
    "            predictions.append([value, all_categories[category_index]])\n",
    "\n",
    "predict('Dovesky')\n",
    "predict('Jackson')\n",
    "predict('Satoshi')\n",
    "predict('Bernd')\n",
    "predict('Patrick')\n",
    "predict('Aurelia')\n",
    "predict('Jakob')"
   ]
  },
  {
   "cell_type": "markdown",
   "id": "85896130",
   "metadata": {},
   "source": [
    "## Exercises\n",
    "- Try with a different dataset of line -> category, for example:\n",
    " - Any word -> language\n",
    " - First name -> gender\n",
    " - Character name -> writer\n",
    " - Page title -> blog or subreddit\n",
    "- Get better results with a bigger and/or better shaped network\n",
    " - Add more linear layers\n",
    " - Try the nn.LSTM and nn.GRU layers\n",
    " - Combine multiple of these RNNs as a higher level network"
   ]
  },
  {
   "cell_type": "code",
   "execution_count": null,
   "id": "237ef4f0",
   "metadata": {},
   "outputs": [],
   "source": []
  },
  {
   "cell_type": "code",
   "execution_count": 10,
   "id": "1d100263",
   "metadata": {},
   "outputs": [
    {
     "name": "stderr",
     "output_type": "stream",
     "text": [
      "C:\\Users\\bscho\\anaconda3\\lib\\site-packages\\ipykernel_launcher.py:31: TqdmDeprecationWarning: This function will be removed in tqdm==5.0.0\n",
      "Please use `tqdm.notebook.tqdm` instead of `tqdm.tqdm_notebook`\n"
     ]
    },
    {
     "data": {
      "application/vnd.jupyter.widget-view+json": {
       "model_id": "5388b4c15020483c842b2bcbcf257232",
       "version_major": 2,
       "version_minor": 0
      },
      "text/plain": [
       "HBox(children=(HTML(value=''), FloatProgress(value=0.0, max=14.0), HTML(value='')))"
      ]
     },
     "metadata": {},
     "output_type": "display_data"
    },
    {
     "name": "stdout",
     "output_type": "stream",
     "text": [
      "\n"
     ]
    }
   ],
   "source": [
    "# https://blog.floydhub.com/gru-with-pytorch/\n",
    "\n",
    "import os\n",
    "import time\n",
    "\n",
    "import numpy as np\n",
    "import pandas as pd\n",
    "import matplotlib.pyplot as plt\n",
    "\n",
    "import torch\n",
    "import torch.nn as nn\n",
    "from torch.utils.data import TensorDataset, DataLoader\n",
    "\n",
    "from tqdm import tqdm_notebook\n",
    "from sklearn.preprocessing import MinMaxScaler\n",
    "\n",
    "# Define data root directory\n",
    "data_dir = r'C:\\Users\\bscho\\Documents\\DL\\data\\poweruse'\n",
    "\n",
    "os.chdir(data_dir)\n",
    "# Visualise how our data looks\n",
    "pd.read_csv(r'AEP_hourly.csv').head()\n",
    "\n",
    "# The scaler objects will be stored in this dictionary so that our output test data from the model can be re-scaled during evaluation\n",
    "label_scalers = {}\n",
    "\n",
    "train_x = []\n",
    "test_x = {}\n",
    "test_y = {}\n",
    "\n",
    "for file in tqdm_notebook(os.listdir(data_dir)): \n",
    "    # Skipping the files we're not using\n",
    "    if file[-4:] != \".csv\" or file == \"pjm_hourly_est.csv\":\n",
    "        continue\n",
    "    \n",
    "    # Store csv file in a Pandas DataFrame\n",
    "    df = pd.read_csv('{}/{}'.format(data_dir, file), parse_dates=[0])\n",
    "    # Processing the time data into suitable input formats\n",
    "    df['hour'] = df.apply(lambda x: x['Datetime'].hour,axis=1)\n",
    "    df['dayofweek'] = df.apply(lambda x: x['Datetime'].dayofweek,axis=1)\n",
    "    df['month'] = df.apply(lambda x: x['Datetime'].month,axis=1)\n",
    "    df['dayofyear'] = df.apply(lambda x: x['Datetime'].dayofyear,axis=1)\n",
    "    df = df.sort_values(\"Datetime\").drop(\"Datetime\",axis=1)\n",
    "    \n",
    "    # Scaling the input data\n",
    "    sc = MinMaxScaler()\n",
    "    label_sc = MinMaxScaler()\n",
    "    data = sc.fit_transform(df.values)\n",
    "    # Obtaining the Scale for the labels(usage data) so that output can be re-scaled to actual value during evaluation\n",
    "    label_sc.fit(df.iloc[:,0].values.reshape(-1,1))\n",
    "    label_scalers[file] = label_sc\n",
    "    \n",
    "    # Define lookback period and split inputs/labels\n",
    "    lookback = 90\n",
    "    inputs = np.zeros((len(data)-lookback,lookback,df.shape[1]))\n",
    "    labels = np.zeros(len(data)-lookback)\n",
    "    \n",
    "    for i in range(lookback, len(data)):\n",
    "        inputs[i-lookback] = data[i-lookback:i]\n",
    "        labels[i-lookback] = data[i,0]\n",
    "    inputs = inputs.reshape(-1,lookback,df.shape[1])\n",
    "    labels = labels.reshape(-1,1)\n",
    "    \n",
    "    # Split data into train/test portions and combining all data from different files into a single array\n",
    "    test_portion = int(0.1*len(inputs))\n",
    "    if len(train_x) == 0:\n",
    "        train_x = inputs[:-test_portion]\n",
    "        train_y = labels[:-test_portion]\n",
    "    else:\n",
    "        train_x = np.concatenate((train_x,inputs[:-test_portion]))\n",
    "        train_y = np.concatenate((train_y,labels[:-test_portion]))\n",
    "    test_x[file] = (inputs[-test_portion:])\n",
    "    test_y[file] = (labels[-test_portion:])"
   ]
  },
  {
   "cell_type": "code",
   "execution_count": 11,
   "id": "bf9c70c5",
   "metadata": {},
   "outputs": [],
   "source": [
    "batch_size = 1024\n",
    "train_data = TensorDataset(torch.from_numpy(train_x), torch.from_numpy(train_y))\n",
    "train_loader = DataLoader(train_data, shuffle=True, batch_size=batch_size, drop_last=True).__iter__()\n",
    "\n",
    "# torch.cuda.is_available() checks and returns a Boolean True if a GPU is available, else it'll return False\n",
    "is_cuda = torch.cuda.is_available()\n",
    "\n",
    "# If we have a GPU available, we'll set our device to GPU. We'll use this device variable later in our code.\n",
    "if is_cuda:\n",
    "    device = torch.device(\"cuda\")\n",
    "else:\n",
    "    device = torch.device(\"cpu\")"
   ]
  },
  {
   "cell_type": "code",
   "execution_count": 12,
   "id": "612a71c2",
   "metadata": {},
   "outputs": [],
   "source": [
    "class GRUNet(nn.Module):\n",
    "    def __init__(self, input_dim, hidden_dim, output_dim, n_layers, drop_prob=0.2):\n",
    "        super(GRUNet, self).__init__()\n",
    "        self.hidden_dim = hidden_dim\n",
    "        self.n_layers = n_layers\n",
    "        \n",
    "        self.gru = nn.GRU(input_dim, hidden_dim, n_layers, batch_first=True, dropout=drop_prob)\n",
    "        self.fc = nn.Linear(hidden_dim, output_dim)\n",
    "        self.relu = nn.ReLU()\n",
    "        \n",
    "    def forward(self, x, h):\n",
    "        out, h = self.gru(x, h)\n",
    "        out = self.fc(self.relu(out[:,-1]))\n",
    "        return out, h\n",
    "    \n",
    "    def init_hidden(self, batch_size):\n",
    "        weight = next(self.parameters()).data\n",
    "        hidden = weight.new(self.n_layers, batch_size, self.hidden_dim).zero_().to(device)\n",
    "        return hidden\n",
    "\n",
    "class LSTMNet(nn.Module):\n",
    "    def __init__(self, input_dim, hidden_dim, output_dim, n_layers, drop_prob=0.2):\n",
    "        super(LSTMNet, self).__init__()\n",
    "        self.hidden_dim = hidden_dim\n",
    "        self.n_layers = n_layers\n",
    "        \n",
    "        self.lstm = nn.LSTM(input_dim, hidden_dim, n_layers, batch_first=True, dropout=drop_prob)\n",
    "        self.fc = nn.Linear(hidden_dim, output_dim)\n",
    "        self.relu = nn.ReLU()\n",
    "        \n",
    "    def forward(self, x, h):\n",
    "        out, h = self.lstm(x, h)\n",
    "        out = self.fc(self.relu(out[:,-1]))\n",
    "        return out, h\n",
    "    \n",
    "    def init_hidden(self, batch_size):\n",
    "        weight = next(self.parameters()).data\n",
    "        hidden = (weight.new(self.n_layers, batch_size, self.hidden_dim).zero_().to(device),\n",
    "                  weight.new(self.n_layers, batch_size, self.hidden_dim).zero_().to(device))\n",
    "        return hidden"
   ]
  },
  {
   "cell_type": "code",
   "execution_count": 13,
   "id": "b48d3725",
   "metadata": {},
   "outputs": [],
   "source": [
    "def train(train_loader, learn_rate, hidden_dim=256, EPOCHS=5, model_type=\"GRU\"):\n",
    "    \n",
    "    # Setting common hyperparameters\n",
    "    input_dim = next(train_loader)[0].shape[2]\n",
    "    output_dim = 1\n",
    "    n_layers = 2\n",
    "    # Instantiating the models\n",
    "    if model_type == \"GRU\":\n",
    "        model = GRUNet(input_dim, hidden_dim, output_dim, n_layers)\n",
    "    else:\n",
    "        model = LSTMNet(input_dim, hidden_dim, output_dim, n_layers)\n",
    "    model.to(device)\n",
    "    \n",
    "    # Defining loss function and optimizer\n",
    "    criterion = nn.MSELoss()\n",
    "    optimizer = torch.optim.Adam(model.parameters(), lr=learn_rate)\n",
    "    \n",
    "    model.train()\n",
    "    print(\"Starting Training of {} model\".format(model_type))\n",
    "    epoch_times = []\n",
    "    # Start training loop\n",
    "    for epoch in range(1,EPOCHS+1):\n",
    "        start_time = time.clock()\n",
    "        h = model.init_hidden(batch_size)\n",
    "        avg_loss = 0.\n",
    "        counter = 0\n",
    "        for x, label in train_loader:\n",
    "            counter += 1\n",
    "            if model_type == \"GRU\":\n",
    "                h = h.data\n",
    "            else:\n",
    "                h = tuple([e.data for e in h])\n",
    "            model.zero_grad()\n",
    "            \n",
    "            \n",
    "            print(x.size())\n",
    "            print(x)\n",
    "            break\n",
    "            \n",
    "            out, h = model(x.to(device).float(), h)\n",
    "            loss = criterion(out, label.to(device).float())\n",
    "            loss.backward()\n",
    "            optimizer.step()\n",
    "            avg_loss += loss.item()\n",
    "            if counter%200 == 0:\n",
    "                print(\"Epoch {}......Step: {}/{}....... Average Loss for Epoch: {}\".format(epoch, counter, len(train_loader), avg_loss/counter))\n",
    "        current_time = time.clock()\n",
    "        print(\"Epoch {}/{} Done, Total Loss: {}\".format(epoch, EPOCHS, avg_loss/len(train_loader)))\n",
    "        print(\"Total Time Elapsed: {} seconds\".format(str(current_time-start_time)))\n",
    "        epoch_times.append(current_time-start_time)\n",
    "        \n",
    "        break\n",
    "        \n",
    "    print(\"Total Training Time: {} seconds\".format(str(sum(epoch_times))))\n",
    "    return model\n",
    "\n",
    "def evaluate(model, test_x, test_y, label_scalers):\n",
    "    model.eval()\n",
    "    outputs = []\n",
    "    targets = []\n",
    "    start_time = time.clock()\n",
    "    for i in test_x.keys():\n",
    "        inp = torch.from_numpy(np.array(test_x[i]))\n",
    "        labs = torch.from_numpy(np.array(test_y[i]))\n",
    "        h = model.init_hidden(inp.shape[0])\n",
    "        out, h = model(inp.to(device).float(), h)\n",
    "        outputs.append(label_scalers[i].inverse_transform(out.cpu().detach().numpy()).reshape(-1))\n",
    "        targets.append(label_scalers[i].inverse_transform(labs.numpy()).reshape(-1))\n",
    "    print(\"Evaluation Time: {}\".format(str(time.clock()-start_time)))\n",
    "    sMAPE = 0\n",
    "    for i in range(len(outputs)):\n",
    "        sMAPE += np.mean(abs(outputs[i]-targets[i])/(targets[i]+outputs[i])/2)/len(outputs)\n",
    "    print(\"sMAPE: {}%\".format(sMAPE*100))\n",
    "    return outputs, targets, sMAPE"
   ]
  },
  {
   "cell_type": "code",
   "execution_count": 14,
   "id": "23589f14",
   "metadata": {},
   "outputs": [
    {
     "name": "stdout",
     "output_type": "stream",
     "text": [
      "Starting Training of GRU model\n",
      "torch.Size([1024, 90, 5])\n",
      "tensor([[[0.4269, 0.2609, 0.0000, 0.0909, 0.0904],\n",
      "         [0.5054, 0.3043, 0.0000, 0.0909, 0.0904],\n",
      "         [0.5582, 0.3478, 0.0000, 0.0909, 0.0904],\n",
      "         ...,\n",
      "         [0.6252, 0.9130, 0.5000, 0.0909, 0.0986],\n",
      "         [0.6089, 0.9565, 0.5000, 0.0909, 0.0986],\n",
      "         [0.5713, 1.0000, 0.5000, 0.0909, 0.0986]],\n",
      "\n",
      "        [[0.6135, 0.9565, 0.3333, 0.6364, 0.6630],\n",
      "         [0.5557, 1.0000, 0.3333, 0.6364, 0.6630],\n",
      "         [0.4912, 0.0000, 0.5000, 0.7273, 0.6658],\n",
      "         ...,\n",
      "         [0.4994, 0.5652, 1.0000, 0.7273, 0.6740],\n",
      "         [0.5127, 0.6087, 1.0000, 0.7273, 0.6740],\n",
      "         [0.5243, 0.6522, 1.0000, 0.7273, 0.6740]],\n",
      "\n",
      "        [[0.1919, 0.2174, 0.0000, 0.6364, 0.6110],\n",
      "         [0.2158, 0.2609, 0.0000, 0.6364, 0.6110],\n",
      "         [0.2769, 0.3043, 0.0000, 0.6364, 0.6110],\n",
      "         ...,\n",
      "         [0.5387, 0.8696, 0.5000, 0.6364, 0.6192],\n",
      "         [0.5456, 0.9130, 0.5000, 0.6364, 0.6192],\n",
      "         [0.5329, 0.9565, 0.5000, 0.6364, 0.6192]],\n",
      "\n",
      "        ...,\n",
      "\n",
      "        [[0.1476, 0.3913, 1.0000, 0.7273, 0.6904],\n",
      "         [0.1823, 0.4348, 1.0000, 0.7273, 0.6904],\n",
      "         [0.2048, 0.4783, 1.0000, 0.7273, 0.6904],\n",
      "         ...,\n",
      "         [0.3108, 0.0000, 0.5000, 0.7273, 0.7014],\n",
      "         [0.2605, 0.0435, 0.5000, 0.7273, 0.7014],\n",
      "         [0.2272, 0.0870, 0.5000, 0.7273, 0.7014]],\n",
      "\n",
      "        [[0.7232, 0.7826, 0.3333, 0.6364, 0.6301],\n",
      "         [0.6936, 0.8261, 0.3333, 0.6364, 0.6301],\n",
      "         [0.6581, 0.8696, 0.3333, 0.6364, 0.6301],\n",
      "         ...,\n",
      "         [0.2331, 0.3913, 1.0000, 0.6364, 0.6411],\n",
      "         [0.2809, 0.4348, 1.0000, 0.6364, 0.6411],\n",
      "         [0.3232, 0.4783, 1.0000, 0.6364, 0.6411]],\n",
      "\n",
      "        [[0.4066, 0.0000, 0.3333, 1.0000, 0.9726],\n",
      "         [0.3579, 0.0435, 0.3333, 1.0000, 0.9726],\n",
      "         [0.3335, 0.0870, 0.3333, 1.0000, 0.9726],\n",
      "         ...,\n",
      "         [0.3715, 0.6522, 0.8333, 1.0000, 0.9808],\n",
      "         [0.3649, 0.6957, 0.8333, 1.0000, 0.9808],\n",
      "         [0.3855, 0.7391, 0.8333, 1.0000, 0.9808]]], dtype=torch.float64)\n",
      "Epoch 1/5 Done, Total Loss: 0.0\n",
      "Total Time Elapsed: 0.03454209999995328 seconds\n",
      "Total Training Time: 0.03454209999995328 seconds\n"
     ]
    },
    {
     "name": "stderr",
     "output_type": "stream",
     "text": [
      "C:\\Users\\bscho\\anaconda3\\lib\\site-packages\\ipykernel_launcher.py:23: DeprecationWarning: time.clock has been deprecated in Python 3.3 and will be removed from Python 3.8: use time.perf_counter or time.process_time instead\n",
      "C:\\Users\\bscho\\anaconda3\\lib\\site-packages\\ipykernel_launcher.py:47: DeprecationWarning: time.clock has been deprecated in Python 3.3 and will be removed from Python 3.8: use time.perf_counter or time.process_time instead\n"
     ]
    }
   ],
   "source": [
    "lr = 0.001\n",
    "gru_model = train(train_loader, lr, model_type=\"GRU\")\n",
    "#Lstm_model = train(train_loader, lr, model_type=\"LSTM\")"
   ]
  },
  {
   "cell_type": "code",
   "execution_count": 80,
   "id": "6262cbe9",
   "metadata": {},
   "outputs": [
    {
     "name": "stderr",
     "output_type": "stream",
     "text": [
      "C:\\Users\\bscho\\anaconda3\\lib\\site-packages\\ipykernel_launcher.py:53: DeprecationWarning: time.clock has been deprecated in Python 3.3 and will be removed from Python 3.8: use time.perf_counter or time.process_time instead\n"
     ]
    },
    {
     "name": "stdout",
     "output_type": "stream",
     "text": [
      "Evaluation Time: 1.783071600002586\n",
      "sMAPE: 0.4008307104832169%\n"
     ]
    },
    {
     "name": "stderr",
     "output_type": "stream",
     "text": [
      "C:\\Users\\bscho\\anaconda3\\lib\\site-packages\\ipykernel_launcher.py:61: DeprecationWarning: time.clock has been deprecated in Python 3.3 and will be removed from Python 3.8: use time.perf_counter or time.process_time instead\n"
     ]
    }
   ],
   "source": [
    "gru_outputs, targets, gru_sMAPE = evaluate(gru_model, test_x, test_y, label_scalers)"
   ]
  },
  {
   "cell_type": "code",
   "execution_count": null,
   "id": "41f22d7f",
   "metadata": {},
   "outputs": [],
   "source": [
    "lstm_outputs, targets, lstm_sMAPE = evaluate(lstm_model, test_x, test_y, label_scalers)"
   ]
  },
  {
   "cell_type": "code",
   "execution_count": 81,
   "id": "7a780ee1",
   "metadata": {},
   "outputs": [
    {
     "ename": "NameError",
     "evalue": "name 'lstm_outputs' is not defined",
     "output_type": "error",
     "traceback": [
      "\u001b[1;31m---------------------------------------------------------------------------\u001b[0m",
      "\u001b[1;31mNameError\u001b[0m                                 Traceback (most recent call last)",
      "\u001b[1;32m<ipython-input-81-c9fc59bae353>\u001b[0m in \u001b[0;36m<module>\u001b[1;34m\u001b[0m\n\u001b[0;32m     19\u001b[0m \u001b[1;33m\u001b[0m\u001b[0m\n\u001b[0;32m     20\u001b[0m \u001b[0mplt\u001b[0m\u001b[1;33m.\u001b[0m\u001b[0msubplot\u001b[0m\u001b[1;33m(\u001b[0m\u001b[1;36m2\u001b[0m\u001b[1;33m,\u001b[0m\u001b[1;36m2\u001b[0m\u001b[1;33m,\u001b[0m\u001b[1;36m4\u001b[0m\u001b[1;33m)\u001b[0m\u001b[1;33m\u001b[0m\u001b[1;33m\u001b[0m\u001b[0m\n\u001b[1;32m---> 21\u001b[1;33m \u001b[0mplt\u001b[0m\u001b[1;33m.\u001b[0m\u001b[0mplot\u001b[0m\u001b[1;33m(\u001b[0m\u001b[0mlstm_outputs\u001b[0m\u001b[1;33m[\u001b[0m\u001b[1;36m6\u001b[0m\u001b[1;33m]\u001b[0m\u001b[1;33m[\u001b[0m\u001b[1;33m:\u001b[0m\u001b[1;36m100\u001b[0m\u001b[1;33m]\u001b[0m\u001b[1;33m,\u001b[0m \u001b[1;34m\"-o\"\u001b[0m\u001b[1;33m,\u001b[0m \u001b[0mcolor\u001b[0m\u001b[1;33m=\u001b[0m\u001b[1;34m\"g\"\u001b[0m\u001b[1;33m,\u001b[0m \u001b[0mlabel\u001b[0m\u001b[1;33m=\u001b[0m\u001b[1;34m\"Predicted\"\u001b[0m\u001b[1;33m)\u001b[0m\u001b[1;33m\u001b[0m\u001b[1;33m\u001b[0m\u001b[0m\n\u001b[0m\u001b[0;32m     22\u001b[0m \u001b[0mplt\u001b[0m\u001b[1;33m.\u001b[0m\u001b[0mplot\u001b[0m\u001b[1;33m(\u001b[0m\u001b[0mtargets\u001b[0m\u001b[1;33m[\u001b[0m\u001b[1;36m6\u001b[0m\u001b[1;33m]\u001b[0m\u001b[1;33m[\u001b[0m\u001b[1;33m:\u001b[0m\u001b[1;36m100\u001b[0m\u001b[1;33m]\u001b[0m\u001b[1;33m,\u001b[0m \u001b[0mcolor\u001b[0m\u001b[1;33m=\u001b[0m\u001b[1;34m\"b\"\u001b[0m\u001b[1;33m,\u001b[0m \u001b[0mlabel\u001b[0m\u001b[1;33m=\u001b[0m\u001b[1;34m\"Actual\"\u001b[0m\u001b[1;33m)\u001b[0m\u001b[1;33m\u001b[0m\u001b[1;33m\u001b[0m\u001b[0m\n\u001b[0;32m     23\u001b[0m \u001b[0mplt\u001b[0m\u001b[1;33m.\u001b[0m\u001b[0mylabel\u001b[0m\u001b[1;33m(\u001b[0m\u001b[1;34m'Energy Consumption (MW)'\u001b[0m\u001b[1;33m)\u001b[0m\u001b[1;33m\u001b[0m\u001b[1;33m\u001b[0m\u001b[0m\n",
      "\u001b[1;31mNameError\u001b[0m: name 'lstm_outputs' is not defined"
     ]
    },
    {
     "data": {
      "image/png": "[encoded data removed]",
      "text/plain": [
       "<Figure size 1008x720 with 4 Axes>"
      ]
     },
     "metadata": {
      "needs_background": "light"
     },
     "output_type": "display_data"
    }
   ],
   "source": [
    "plt.figure(figsize=(14,10))\n",
    "plt.subplot(2,2,1)\n",
    "plt.plot(gru_outputs[0][-100:], \"-o\", color=\"g\", label=\"Predicted\")\n",
    "plt.plot(targets[0][-100:], color=\"b\", label=\"Actual\")\n",
    "plt.ylabel('Energy Consumption (MW)')\n",
    "plt.legend()\n",
    "\n",
    "plt.subplot(2,2,2)\n",
    "plt.plot(gru_outputs[8][-50:], \"-o\", color=\"g\", label=\"Predicted\")\n",
    "plt.plot(targets[8][-50:], color=\"b\", label=\"Actual\")\n",
    "plt.ylabel('Energy Consumption (MW)')\n",
    "plt.legend()\n",
    "\n",
    "plt.subplot(2,2,3)\n",
    "plt.plot(gru_outputs[4][:50], \"-o\", color=\"g\", label=\"Predicted\")\n",
    "plt.plot(targets[4][:50], color=\"b\", label=\"Actual\")\n",
    "plt.ylabel('Energy Consumption (MW)')\n",
    "plt.legend()\n",
    "\n",
    "plt.subplot(2,2,4)\n",
    "plt.plot(lstm_outputs[6][:100], \"-o\", color=\"g\", label=\"Predicted\")\n",
    "plt.plot(targets[6][:100], color=\"b\", label=\"Actual\")\n",
    "plt.ylabel('Energy Consumption (MW)')\n",
    "plt.legend()\n",
    "plt.show()"
   ]
  },
  {
   "cell_type": "code",
   "execution_count": null,
   "id": "e3cca9de",
   "metadata": {},
   "outputs": [],
   "source": []
  },
  {
   "cell_type": "code",
   "execution_count": null,
   "id": "8839b322",
   "metadata": {},
   "outputs": [],
   "source": [
    "# https://d2l.ai/chapter_recurrent-modern/gru.html"
   ]
  },
  {
   "cell_type": "code",
   "execution_count": null,
   "id": "3d8e25d3",
   "metadata": {},
   "outputs": [],
   "source": [
    "# https://pytorch.org/tutorials/beginner/nlp/sequence_models_tutorial.html"
   ]
  },
  {
   "cell_type": "code",
   "execution_count": 4,
   "id": "fbb36e75",
   "metadata": {},
   "outputs": [
    {
     "data": {
      "text/plain": [
       "<torch._C.Generator at 0x25524ec24b0>"
      ]
     },
     "execution_count": 4,
     "metadata": {},
     "output_type": "execute_result"
    }
   ],
   "source": [
    "# Author: Robert Guthrie\n",
    "\n",
    "import torch\n",
    "import torch.nn as nn\n",
    "import torch.nn.functional as F\n",
    "import torch.optim as optim\n",
    "\n",
    "torch.manual_seed(1)"
   ]
  },
  {
   "cell_type": "code",
   "execution_count": 5,
   "id": "4e6d54a0",
   "metadata": {},
   "outputs": [
    {
     "name": "stdout",
     "output_type": "stream",
     "text": [
      "tensor([[[-0.0187,  0.1713, -0.2944]],\n",
      "\n",
      "        [[-0.3521,  0.1026, -0.2971]],\n",
      "\n",
      "        [[-0.3191,  0.0781, -0.1957]],\n",
      "\n",
      "        [[-0.1634,  0.0941, -0.1637]],\n",
      "\n",
      "        [[-0.3368,  0.0959, -0.0538]]], grad_fn=<StackBackward>)\n",
      "(tensor([[[-0.3368,  0.0959, -0.0538]]], grad_fn=<StackBackward>), tensor([[[-0.9825,  0.4715, -0.0633]]], grad_fn=<StackBackward>))\n"
     ]
    }
   ],
   "source": [
    "lstm = nn.LSTM(3, 3)  # Input dim is 3, output dim is 3\n",
    "inputs = [torch.randn(1, 3) for _ in range(5)]  # make a sequence of length 5\n",
    "\n",
    "# initialize the hidden state.\n",
    "hidden = (torch.randn(1, 1, 3),\n",
    "          torch.randn(1, 1, 3))\n",
    "for i in inputs:\n",
    "    # Step through the sequence one element at a time.\n",
    "    # after each step, hidden contains the hidden state.\n",
    "    out, hidden = lstm(i.view(1, 1, -1), hidden)\n",
    "\n",
    "# alternatively, we can do the entire sequence all at once.\n",
    "# the first value returned by LSTM is all of the hidden states throughout\n",
    "# the sequence. the second is just the most recent hidden state\n",
    "# (compare the last slice of \"out\" with \"hidden\" below, they are the same)\n",
    "# The reason for this is that:\n",
    "# \"out\" will give you access to all hidden states in the sequence\n",
    "# \"hidden\" will allow you to continue the sequence and backpropagate,\n",
    "# by passing it as an argument  to the lstm at a later time\n",
    "# Add the extra 2nd dimension\n",
    "inputs = torch.cat(inputs).view(len(inputs), 1, -1)\n",
    "hidden = (torch.randn(1, 1, 3), torch.randn(1, 1, 3))  # clean out hidden state\n",
    "out, hidden = lstm(inputs, hidden)\n",
    "print(out)\n",
    "print(hidden)"
   ]
  },
  {
   "cell_type": "code",
   "execution_count": 6,
   "id": "dd852fe9",
   "metadata": {},
   "outputs": [
    {
     "name": "stdout",
     "output_type": "stream",
     "text": [
      "{'The': 0, 'dog': 1, 'ate': 2, 'the': 3, 'apple': 4, 'Everybody': 5, 'read': 6, 'that': 7, 'book': 8}\n"
     ]
    }
   ],
   "source": [
    "def prepare_sequence(seq, to_ix):\n",
    "    idxs = [to_ix[w] for w in seq]\n",
    "    return torch.tensor(idxs, dtype=torch.long)\n",
    "\n",
    "\n",
    "training_data = [\n",
    "    # Tags are: DET - determiner; NN - noun; V - verb\n",
    "    # For example, the word \"The\" is a determiner\n",
    "    (\"The dog ate the apple\".split(), [\"DET\", \"NN\", \"V\", \"DET\", \"NN\"]),\n",
    "    (\"Everybody read that book\".split(), [\"NN\", \"V\", \"DET\", \"NN\"])\n",
    "]\n",
    "word_to_ix = {}\n",
    "# For each words-list (sentence) and tags-list in each tuple of training_data\n",
    "for sent, tags in training_data:\n",
    "    for word in sent:\n",
    "        if word not in word_to_ix:  # word has not been assigned an index yet\n",
    "            word_to_ix[word] = len(word_to_ix)  # Assign each word with a unique index\n",
    "print(word_to_ix)\n",
    "tag_to_ix = {\"DET\": 0, \"NN\": 1, \"V\": 2}  # Assign each tag with a unique index\n",
    "\n",
    "# These will usually be more like 32 or 64 dimensional.\n",
    "# We will keep them small, so we can see how the weights change as we train.\n",
    "EMBEDDING_DIM = 6\n",
    "HIDDEN_DIM = 6"
   ]
  },
  {
   "cell_type": "code",
   "execution_count": 7,
   "id": "2a281e8a",
   "metadata": {},
   "outputs": [],
   "source": [
    "class LSTMTagger(nn.Module):\n",
    "\n",
    "    def __init__(self, embedding_dim, hidden_dim, vocab_size, tagset_size):\n",
    "        super(LSTMTagger, self).__init__()\n",
    "        self.hidden_dim = hidden_dim\n",
    "\n",
    "        self.word_embeddings = nn.Embedding(vocab_size, embedding_dim)\n",
    "\n",
    "        # The LSTM takes word embeddings as inputs, and outputs hidden states\n",
    "        # with dimensionality hidden_dim.\n",
    "        self.lstm = nn.LSTM(embedding_dim, hidden_dim)\n",
    "\n",
    "        # The linear layer that maps from hidden state space to tag space\n",
    "        self.hidden2tag = nn.Linear(hidden_dim, tagset_size)\n",
    "\n",
    "    def forward(self, sentence):\n",
    "        embeds = self.word_embeddings(sentence)\n",
    "        lstm_out, _ = self.lstm(embeds.view(len(sentence), 1, -1))\n",
    "        tag_space = self.hidden2tag(lstm_out.view(len(sentence), -1))\n",
    "        tag_scores = F.log_softmax(tag_space, dim=1)\n",
    "        return tag_scores"
   ]
  },
  {
   "cell_type": "code",
   "execution_count": 8,
   "id": "e0717bf1",
   "metadata": {},
   "outputs": [
    {
     "name": "stdout",
     "output_type": "stream",
     "text": [
      "tensor([[-1.1389, -1.2024, -0.9693],\n",
      "        [-1.1065, -1.2200, -0.9834],\n",
      "        [-1.1286, -1.2093, -0.9726],\n",
      "        [-1.1190, -1.1960, -0.9916],\n",
      "        [-1.0137, -1.2642, -1.0366]])\n",
      "tensor([[-0.0462, -4.0106, -3.6096],\n",
      "        [-4.8205, -0.0286, -3.9045],\n",
      "        [-3.7876, -4.1355, -0.0394],\n",
      "        [-0.0185, -4.7874, -4.6013],\n",
      "        [-5.7881, -0.0186, -4.1778]])\n"
     ]
    }
   ],
   "source": [
    "model = LSTMTagger(EMBEDDING_DIM, HIDDEN_DIM, len(word_to_ix), len(tag_to_ix))\n",
    "loss_function = nn.NLLLoss()\n",
    "optimizer = optim.SGD(model.parameters(), lr=0.1)\n",
    "\n",
    "# See what the scores are before training\n",
    "# Note that element i,j of the output is the score for tag j for word i.\n",
    "# Here we don't need to train, so the code is wrapped in torch.no_grad()\n",
    "with torch.no_grad():\n",
    "    inputs = prepare_sequence(training_data[0][0], word_to_ix)\n",
    "    tag_scores = model(inputs)\n",
    "    print(tag_scores)\n",
    "\n",
    "for epoch in range(300):  # again, normally you would NOT do 300 epochs, it is toy data\n",
    "    for sentence, tags in training_data:\n",
    "        # Step 1. Remember that Pytorch accumulates gradients.\n",
    "        # We need to clear them out before each instance\n",
    "        model.zero_grad()\n",
    "\n",
    "        # Step 2. Get our inputs ready for the network, that is, turn them into\n",
    "        # Tensors of word indices.\n",
    "        sentence_in = prepare_sequence(sentence, word_to_ix)\n",
    "        targets = prepare_sequence(tags, tag_to_ix)\n",
    "\n",
    "        # Step 3. Run our forward pass.\n",
    "        tag_scores = model(sentence_in)\n",
    "\n",
    "        # Step 4. Compute the loss, gradients, and update the parameters by\n",
    "        #  calling optimizer.step()\n",
    "        loss = loss_function(tag_scores, targets)\n",
    "        loss.backward()\n",
    "        optimizer.step()\n",
    "\n",
    "# See what the scores are after training\n",
    "with torch.no_grad():\n",
    "    inputs = prepare_sequence(training_data[0][0], word_to_ix)\n",
    "    tag_scores = model(inputs)\n",
    "\n",
    "    # The sentence is \"the dog ate the apple\".  i,j corresponds to score for tag j\n",
    "    # for word i. The predicted tag is the maximum scoring tag.\n",
    "    # Here, we can see the predicted sequence below is 0 1 2 0 1\n",
    "    # since 0 is index of the maximum value of row 1,\n",
    "    # 1 is the index of maximum value of row 2, etc.\n",
    "    # Which is DET NOUN VERB DET NOUN, the correct sequence!\n",
    "    print(tag_scores)"
   ]
  },
  {
   "cell_type": "code",
   "execution_count": null,
   "id": "7c016315",
   "metadata": {},
   "outputs": [],
   "source": []
  },
  {
   "cell_type": "code",
   "execution_count": 4,
   "id": "efc21bdc",
   "metadata": {},
   "outputs": [
    {
     "name": "stdout",
     "output_type": "stream",
     "text": [
      "tensor([[[ 2.5659e-01, -6.0563e-02, -2.9562e-01,  4.4534e-01,  5.7759e-01,\n",
      "          -7.5750e-01, -3.0271e-01, -4.8029e-01,  5.0939e-01, -1.7019e-01,\n",
      "          -1.4085e-01,  5.6438e-01,  5.6402e-01, -1.5547e-01, -4.3570e-01,\n",
      "          -1.3902e-01,  2.1234e-01,  2.5165e-01,  6.5038e-01, -5.6648e-01],\n",
      "         [ 8.4474e-01, -5.3987e-01, -7.2602e-02, -4.2141e-01, -1.4315e-01,\n",
      "          -1.1369e+00,  6.1455e-01,  7.9089e-01,  3.2985e-02, -7.9022e-01,\n",
      "          -3.1150e-01, -5.4499e-03, -4.6394e-02,  1.0305e-01,  5.4947e-01,\n",
      "          -9.8161e-03,  3.0000e-01, -7.1129e-01, -1.7547e-01,  4.6966e-01],\n",
      "         [-3.2930e-01,  4.0790e-01, -3.4544e-02,  1.0289e-01, -3.6906e-01,\n",
      "           1.6226e+00,  1.9433e-01,  6.8703e-02, -4.7362e-01,  5.6485e-01,\n",
      "           7.3549e-01,  4.0491e-01, -4.5796e-01,  1.8255e+00, -5.7419e-02,\n",
      "           1.0907e+00,  8.2214e-01, -2.4675e-01,  5.2914e-01,  3.7236e-01]],\n",
      "\n",
      "        [[ 2.7194e-01,  1.5293e-01, -3.1253e-01,  3.6232e-01,  1.1535e-01,\n",
      "          -3.8898e-01, -2.4943e-01, -1.1190e-01,  1.6337e-01, -2.5145e-02,\n",
      "          -1.2536e-01,  3.8909e-01,  6.4373e-02, -1.6948e-01, -5.5940e-01,\n",
      "          -1.9675e-01,  2.3275e-01, -1.3394e-01,  1.5284e-01, -2.5804e-01],\n",
      "         [ 4.3445e-01, -3.4633e-01, -1.6591e-01, -8.4317e-02,  1.0153e-01,\n",
      "          -5.3860e-01,  2.2191e-01,  5.1409e-01, -1.6523e-01, -4.7560e-01,\n",
      "          -3.7014e-01,  1.2120e-01, -5.4853e-02,  4.8284e-02,  4.3747e-01,\n",
      "          -1.7447e-01,  1.8613e-01, -4.7635e-01,  7.3690e-03,  2.3435e-01],\n",
      "         [-2.9982e-01,  1.8432e-01,  1.0809e-01,  4.9007e-02, -3.1334e-01,\n",
      "           8.8730e-01,  2.5248e-01,  2.6442e-01, -4.3151e-01,  1.9400e-01,\n",
      "           2.2946e-01,  9.7907e-02, -3.4986e-01,  9.8614e-01, -2.4295e-01,\n",
      "           4.9853e-01,  4.5215e-01, -3.0635e-01,  4.0966e-01,  2.1712e-01]],\n",
      "\n",
      "        [[ 1.9392e-01,  9.3593e-02, -1.3946e-01,  2.6775e-01, -9.1618e-02,\n",
      "          -2.7630e-01, -1.9189e-01,  7.7021e-03,  7.2940e-03, -2.3783e-02,\n",
      "          -1.9404e-01,  2.8634e-01,  8.5924e-02, -1.2758e-01, -5.1319e-01,\n",
      "          -1.3436e-01,  1.0978e-01, -2.6004e-01, -6.6394e-02, -1.7457e-01],\n",
      "         [ 1.9025e-01, -2.0052e-01, -1.0108e-01,  4.7769e-02,  1.4853e-01,\n",
      "          -3.2442e-01,  5.8090e-02,  2.9451e-01, -1.4160e-01, -4.1471e-01,\n",
      "          -2.9752e-01,  1.7328e-01,  8.6203e-03,  8.3327e-02,  2.4318e-01,\n",
      "          -1.7889e-01,  1.5251e-01, -4.1557e-01,  7.3137e-02,  2.2273e-01],\n",
      "         [-3.2312e-01, -4.6480e-02,  1.4946e-01, -1.4706e-03, -1.1578e-01,\n",
      "           3.9298e-01,  1.7180e-01,  2.6617e-01, -3.8126e-01, -5.5938e-02,\n",
      "           1.7004e-02,  9.9038e-02, -1.6260e-01,  5.1543e-01, -3.0242e-01,\n",
      "           2.1216e-01,  2.1222e-01, -2.8862e-01,  2.7109e-01,  1.4979e-01]],\n",
      "\n",
      "        [[ 7.8739e-02,  8.7230e-03, -5.5465e-02,  2.0458e-01, -3.0044e-02,\n",
      "          -2.3257e-01, -1.2375e-01,  2.5840e-02, -9.6119e-02, -1.1056e-01,\n",
      "          -1.0767e-01,  2.3699e-01,  3.0130e-02, -4.5606e-02, -4.7337e-01,\n",
      "          -1.3930e-01,  7.9117e-02, -3.1089e-01, -8.2818e-02, -5.7837e-02],\n",
      "         [ 1.4626e-01, -1.5949e-01, -1.6394e-02,  3.9574e-02,  2.1010e-01,\n",
      "          -1.5791e-01,  1.8679e-02,  1.9836e-01, -5.2234e-02, -3.6124e-01,\n",
      "          -2.4603e-01,  2.1506e-01,  1.4662e-01,  9.0762e-02,  1.6023e-01,\n",
      "          -1.0636e-01,  1.5722e-01, -3.3424e-01,  5.3471e-02,  1.3740e-01],\n",
      "         [-2.1471e-01, -5.4345e-02,  4.6942e-02,  7.5825e-02,  9.3396e-04,\n",
      "           1.5621e-01,  8.7188e-02,  1.9795e-01, -3.1748e-01, -1.7918e-01,\n",
      "          -8.3220e-02,  3.8867e-02, -1.0546e-01,  2.4877e-01, -3.0572e-01,\n",
      "           2.8268e-02,  1.2351e-01, -3.4432e-01,  1.7733e-01,  1.1977e-01]],\n",
      "\n",
      "        [[-3.0560e-03, -1.3224e-01,  3.3426e-02,  1.7287e-01, -8.7605e-02,\n",
      "          -2.7682e-01, -6.4268e-02, -7.4588e-02, -2.7794e-01, -8.6863e-02,\n",
      "          -2.7286e-01,  2.1880e-01,  1.4835e-01, -8.0793e-02, -3.6426e-01,\n",
      "          -1.0754e-01, -4.9005e-02, -1.3459e-01, -1.0998e-01, -8.4588e-02],\n",
      "         [ 1.1571e-01, -1.5115e-01, -1.3013e-02,  7.2635e-02,  2.1529e-01,\n",
      "          -5.8955e-02, -3.4032e-02,  9.5819e-02, -1.6261e-01, -2.3622e-01,\n",
      "          -2.4584e-01,  2.0886e-01,  1.5761e-01,  5.6453e-02,  8.5854e-02,\n",
      "          -1.2168e-01,  1.0941e-01, -2.6631e-01,  5.7743e-02,  6.6892e-02],\n",
      "         [-6.7843e-02,  6.8041e-02, -9.4379e-02,  2.2404e-01,  3.7655e-02,\n",
      "           1.1662e-01,  9.0997e-02,  2.4922e-01, -2.1044e-01, -2.4964e-01,\n",
      "          -1.2864e-01, -7.1989e-02, -1.9985e-01,  1.4121e-01, -3.7975e-01,\n",
      "          -1.1581e-01,  1.7571e-01, -3.7096e-01,  7.2757e-02,  8.0835e-02]]],\n",
      "       grad_fn=<StackBackward>)\n"
     ]
    }
   ],
   "source": [
    "import torch\n",
    "\n",
    "rnn = nn.GRU(10, 20, 2)  # input_size, hidden, num_layers\n",
    "input = torch.randn(5, 3, 10)  # batch_size, seq_len, input_size\n",
    "h0 = torch.randn(2, 3, 20)  # num_layers * num_directions, batch, hidden_size\n",
    "output, hn = rnn(input, h0)  # out: seq_len, batch, num_directions * hidden_size, hn: num_layers * num_directions, batch, hidden_size\n",
    "print(output)"
   ]
  },
  {
   "cell_type": "code",
   "execution_count": null,
   "id": "498244c3",
   "metadata": {},
   "outputs": [],
   "source": []
  },
  {
   "cell_type": "code",
   "execution_count": 5,
   "id": "db7e837a",
   "metadata": {},
   "outputs": [
    {
     "name": "stdout",
     "output_type": "stream",
     "text": [
      "torch.Size([1, 7, 21])\n",
      "tensor([[[0, 0, 0, 0, 0, 0, 0, 0, 0, 0, 0, 0, 1, 0, 0, 0, 0, 0, 0, 0, 0],\n",
      "         [0, 0, 0, 0, 1, 0, 0, 0, 0, 0, 0, 0, 0, 0, 0, 0, 0, 0, 0, 0, 0],\n",
      "         [0, 0, 0, 1, 0, 0, 0, 0, 0, 0, 0, 0, 0, 0, 0, 0, 0, 0, 0, 0, 0],\n",
      "         [0, 1, 0, 0, 0, 0, 0, 0, 0, 0, 0, 0, 0, 0, 0, 0, 0, 0, 0, 0, 0],\n",
      "         [0, 0, 0, 0, 0, 0, 0, 0, 0, 0, 0, 0, 0, 0, 0, 1, 0, 0, 0, 0, 0],\n",
      "         [0, 0, 0, 0, 0, 0, 0, 0, 0, 0, 0, 0, 0, 0, 0, 0, 1, 0, 0, 0, 0],\n",
      "         [1, 0, 0, 0, 0, 0, 0, 0, 0, 0, 0, 0, 0, 0, 0, 0, 0, 0, 0, 0, 0]]])\n",
      "torch.Size([3, 7, 21])\n",
      "tensor([[[0, 0, 0, 0, 0, 0, 0, 0, 0, 0, 0, 0, 1, 0, 0, 0, 0, 0, 0, 0, 0],\n",
      "         [0, 0, 0, 0, 1, 0, 0, 0, 0, 0, 0, 0, 0, 0, 0, 0, 0, 0, 0, 0, 0],\n",
      "         [0, 0, 0, 1, 0, 0, 0, 0, 0, 0, 0, 0, 0, 0, 0, 0, 0, 0, 0, 0, 0],\n",
      "         [0, 1, 0, 0, 0, 0, 0, 0, 0, 0, 0, 0, 0, 0, 0, 0, 0, 0, 0, 0, 0],\n",
      "         [0, 0, 0, 0, 0, 0, 0, 0, 0, 0, 0, 0, 0, 0, 0, 1, 0, 0, 0, 0, 0],\n",
      "         [0, 0, 0, 0, 0, 0, 0, 0, 0, 0, 0, 0, 0, 0, 0, 0, 1, 0, 0, 0, 0],\n",
      "         [1, 0, 0, 0, 0, 0, 0, 0, 0, 0, 0, 0, 0, 0, 0, 0, 0, 0, 0, 0, 0]],\n",
      "\n",
      "        [[0, 0, 0, 0, 0, 0, 0, 0, 0, 0, 0, 0, 0, 1, 0, 0, 0, 0, 0, 0, 0],\n",
      "         [0, 0, 0, 0, 0, 0, 0, 0, 0, 0, 0, 0, 1, 0, 0, 0, 0, 0, 0, 0, 0],\n",
      "         [0, 0, 0, 0, 1, 0, 0, 0, 0, 0, 0, 0, 0, 0, 0, 0, 0, 0, 0, 0, 0],\n",
      "         [1, 0, 0, 0, 0, 0, 0, 0, 0, 0, 0, 0, 0, 0, 0, 0, 0, 0, 0, 0, 0],\n",
      "         [0, 0, 0, 0, 0, 0, 0, 0, 0, 0, 1, 0, 0, 0, 0, 0, 0, 0, 0, 0, 0],\n",
      "         [0, 0, 0, 0, 0, 1, 0, 0, 0, 0, 0, 0, 0, 0, 0, 0, 0, 0, 0, 0, 0],\n",
      "         [0, 0, 0, 0, 0, 0, 0, 0, 0, 0, 0, 1, 0, 0, 0, 0, 0, 0, 0, 0, 0]],\n",
      "\n",
      "        [[0, 0, 0, 0, 0, 0, 0, 0, 0, 0, 0, 0, 0, 0, 0, 0, 1, 0, 0, 0, 0],\n",
      "         [0, 0, 0, 0, 0, 0, 0, 0, 0, 0, 0, 0, 1, 0, 0, 0, 0, 0, 0, 0, 0],\n",
      "         [0, 0, 0, 0, 0, 0, 0, 0, 0, 0, 0, 0, 0, 0, 1, 0, 0, 0, 0, 0, 0],\n",
      "         [0, 0, 0, 0, 0, 0, 0, 0, 1, 0, 0, 0, 0, 0, 0, 0, 0, 0, 0, 0, 0],\n",
      "         [1, 0, 0, 0, 0, 0, 0, 0, 0, 0, 0, 0, 0, 0, 0, 0, 0, 0, 0, 0, 0],\n",
      "         [0, 0, 0, 0, 0, 0, 0, 0, 0, 0, 1, 0, 0, 0, 0, 0, 0, 0, 0, 0, 0],\n",
      "         [0, 0, 0, 0, 0, 1, 0, 0, 0, 0, 0, 0, 0, 0, 0, 0, 0, 0, 0, 0, 0]]])\n"
     ]
    }
   ],
   "source": [
    "def one_hot(ch, vocab_size):\n",
    "    return [1 if idx == char_to_ix[ch] else 0 for idx in range(vocab_size)]\n",
    "\n",
    "p = 12\n",
    "inputs = torch.tensor([[one_hot(ch, vocab_size) for ch in data[p:p+seq_length]]], dtype=torch.long)\n",
    "\n",
    "print(inputs.size())\n",
    "print(inputs)\n",
    "\n",
    "batch_size = 3\n",
    "inputs = torch.tensor([[one_hot(ch, vocab_size) for ch in data[b*seq_length+p:b*seq_length+p+seq_length]] for b in range(batch_size)], dtype=torch.long)\n",
    "\n",
    "print(inputs.size())\n",
    "print(inputs)"
   ]
  },
  {
   "cell_type": "code",
   "execution_count": 2,
   "id": "49e693ab",
   "metadata": {},
   "outputs": [
    {
     "data": {
      "text/plain": [
       "<torch._C.Generator at 0x1d601945a10>"
      ]
     },
     "execution_count": 2,
     "metadata": {},
     "output_type": "execute_result"
    }
   ],
   "source": [
    "import torch\n",
    "import torch.nn as nn\n",
    "import torch.nn.functional as F\n",
    "import torch.optim as optim\n",
    "\n",
    "torch.manual_seed(1)"
   ]
  },
  {
   "cell_type": "code",
   "execution_count": 9,
   "id": "f856a78f",
   "metadata": {},
   "outputs": [
    {
     "name": "stdout",
     "output_type": "stream",
     "text": [
      "{'The': 0, 'dog': 1, 'ate': 2, 'the': 3, 'apple': 4, 'Everybody': 5, 'read': 6, 'that': 7, 'book': 8}\n"
     ]
    }
   ],
   "source": [
    "def prepare_sequence(seq, to_ix):\n",
    "    idxs = [to_ix[w] for w in seq]\n",
    "    return torch.tensor(idxs, dtype=torch.long)\n",
    "\n",
    "training_data = [\n",
    "    # Tags are: DET - determiner; NN - noun; V - verb\n",
    "    # For example, the word \"The\" is a determiner\n",
    "    (\"The dog ate the apple\".split(), [\"DET\", \"NN\", \"V\", \"DET\", \"NN\"]),\n",
    "    (\"Everybody read that book\".split(), [\"NN\", \"V\", \"DET\", \"NN\"])\n",
    "]\n",
    "word_to_ix = {}\n",
    "# For each words-list (sentence) and tags-list in each tuple of training_data\n",
    "for sent, tags in training_data:\n",
    "    for word in sent:\n",
    "        if word not in word_to_ix:  # word has not been assigned an index yet\n",
    "            word_to_ix[word] = len(word_to_ix)  # Assign each word with a unique index\n",
    "print(word_to_ix)\n",
    "tag_to_ix = {\"DET\": 0, \"NN\": 1, \"V\": 2}  # Assign each tag with a unique index\n",
    "\n",
    "# These will usually be more like 32 or 64 dimensional.\n",
    "# We will keep them small, so we can see how the weights change as we train.\n",
    "EMBEDDING_DIM = 6\n",
    "HIDDEN_DIM = 6"
   ]
  },
  {
   "cell_type": "code",
   "execution_count": 12,
   "id": "f81a19dd",
   "metadata": {},
   "outputs": [],
   "source": [
    "class GRUTagger(nn.Module):\n",
    "\n",
    "    def __init__(self, embedding_dim, hidden_dim, vocab_size, tagset_size):\n",
    "        super(GRUTagger, self).__init__()\n",
    "        self.hidden_dim = hidden_dim\n",
    "\n",
    "        self.word_embeddings = nn.Embedding(vocab_size, embedding_dim)\n",
    "\n",
    "        # The GRU takes word embeddings as inputs, and outputs hidden states\n",
    "        # with dimensionality hidden_dim.\n",
    "        self.gru = nn.GRU(embedding_dim, hidden_dim)  # GRU: input_size, hidden, num_layers\n",
    "\n",
    "        # The linear layer that maps from hidden state space to tag space\n",
    "        self.hidden2tag = nn.Linear(hidden_dim, tagset_size)\n",
    "\n",
    "    def forward(self, sentence):\n",
    "        embeds = self.word_embeddings(sentence)\n",
    "        gru_out, _ = self.gru(embeds.view(len(sentence), 1, -1))\n",
    "        tag_space = self.hidden2tag(gru_out.view(len(sentence), -1))\n",
    "        tag_scores = F.log_softmax(tag_space, dim=1)\n",
    "        return tag_scores"
   ]
  },
  {
   "cell_type": "code",
   "execution_count": 22,
   "id": "e30fc3a8",
   "metadata": {},
   "outputs": [
    {
     "name": "stdout",
     "output_type": "stream",
     "text": [
      "tensor([[-1.2383, -1.1588, -0.9257],\n",
      "        [-1.2729, -1.0460, -0.9980],\n",
      "        [-1.3513, -1.1436, -0.8617],\n",
      "        [-1.3635, -1.1146, -0.8766],\n",
      "        [-1.2866, -1.1087, -0.9319]])\n",
      "tensor([[-1.3050e-02, -4.5937e+00, -5.8606e+00],\n",
      "        [-5.5351e+00, -5.2276e-03, -6.6704e+00],\n",
      "        [-4.7625e+00, -4.6057e+00, -1.8713e-02],\n",
      "        [-1.5795e-02, -5.2453e+00, -4.5661e+00],\n",
      "        [-4.9098e+00, -1.0802e-02, -5.6929e+00]])\n",
      "DET\n",
      "NN\n",
      "V\n",
      "DET\n",
      "NN\n"
     ]
    }
   ],
   "source": [
    "model = GRUTagger(EMBEDDING_DIM, HIDDEN_DIM, len(word_to_ix), len(tag_to_ix))\n",
    "loss_function = nn.NLLLoss()\n",
    "optimizer = optim.SGD(model.parameters(), lr=0.1)\n",
    "\n",
    "ix_to_word = { w:i for i, w in enumerate(word_to_ix) }\n",
    "ix_to_tag = { i:t for t, i in tag_to_ix.items() }\n",
    "\n",
    "# See what the scores are before training\n",
    "# Note that element i,j of the output is the score for tag j for word i.\n",
    "# Here we don't need to train, so the code is wrapped in torch.no_grad()\n",
    "with torch.no_grad():\n",
    "    inputs = prepare_sequence(training_data[0][0], word_to_ix)\n",
    "    tag_scores = model(inputs)\n",
    "    print(tag_scores)\n",
    "\n",
    "for epoch in range(300):  # again, normally you would NOT do 300 epochs, it is toy data\n",
    "    for sentence, tags in training_data:\n",
    "        # Step 1. Remember that Pytorch accumulates gradients.\n",
    "        # We need to clear them out before each instance\n",
    "        model.zero_grad()\n",
    "\n",
    "        # Step 2. Get our inputs ready for the network, that is, turn them into\n",
    "        # Tensors of word indices.\n",
    "        sentence_in = prepare_sequence(sentence, word_to_ix)\n",
    "        targets = prepare_sequence(tags, tag_to_ix)\n",
    "\n",
    "        # Step 3. Run our forward pass.\n",
    "        tag_scores = model(sentence_in)\n",
    "\n",
    "        # Step 4. Compute the loss, gradients, and update the parameters by\n",
    "        #  calling optimizer.step()\n",
    "        loss = loss_function(tag_scores, targets)\n",
    "        loss.backward()\n",
    "        optimizer.step()\n",
    "\n",
    "# See what the scores are after training\n",
    "with torch.no_grad():\n",
    "    inputs = prepare_sequence(training_data[0][0], word_to_ix)\n",
    "    tag_scores = model(inputs)\n",
    "\n",
    "    # The sentence is \"the dog ate the apple\".  i,j corresponds to score for tag j\n",
    "    # for word i. The predicted tag is the maximum scoring tag.\n",
    "    # Here, we can see the predicted sequence below is 0 1 2 0 1\n",
    "    # since 0 is index of the maximum value of row 1,\n",
    "    # 1 is the index of maximum value of row 2, etc.\n",
    "    # Which is DET NOUN VERB DET NOUN, the correct sequence!\n",
    "    print(tag_scores)\n",
    "    \n",
    "    top_value, top_idx = tag_scores.topk(1)  # chose top value from scores (returned as value, idx)\n",
    "    for i in top_idx:\n",
    "        print(ix_to_tag[i.item()])"
   ]
  },
  {
   "cell_type": "markdown",
   "id": "96ea60f3",
   "metadata": {},
   "source": [
    "# GRU next character guessing"
   ]
  },
  {
   "cell_type": "code",
   "execution_count": 1,
   "id": "abc9bb5c",
   "metadata": {},
   "outputs": [
    {
     "data": {
      "text/plain": [
       "<torch._C.Generator at 0x19cc7ef2970>"
      ]
     },
     "execution_count": 1,
     "metadata": {},
     "output_type": "execute_result"
    }
   ],
   "source": [
    "import torch\n",
    "import torch.nn as nn\n",
    "import torch.nn.functional as F\n",
    "import torch.optim as optim\n",
    "\n",
    "torch.manual_seed(1)"
   ]
  },
  {
   "cell_type": "code",
   "execution_count": 2,
   "id": "caf4e53e",
   "metadata": {},
   "outputs": [
    {
     "data": {
      "text/plain": [
       "tensor([[[-1.6095, -0.1002, -0.6092],\n",
       "         [-0.9798, -1.6091, -0.7121],\n",
       "         [-0.2223,  1.6871, -0.3206],\n",
       "         [-0.2993,  1.8793, -0.0721]],\n",
       "\n",
       "        [[-0.2223,  1.6871, -0.3206],\n",
       "         [ 0.3037, -0.7773, -0.2515],\n",
       "         [-0.9798, -1.6091, -0.7121],\n",
       "         [-0.0288,  2.3571, -1.0373]]], grad_fn=<EmbeddingBackward>)"
      ]
     },
     "execution_count": 2,
     "metadata": {},
     "output_type": "execute_result"
    }
   ],
   "source": [
    "# https://pytorch.org/docs/stable/generated/torch.nn.Embedding.html\n",
    "embedding = nn.Embedding(10, 3)\n",
    "# a batch of 2 samples of 4 indices each\n",
    "input_embd = torch.LongTensor([[1,2,4,5],[4,3,2,9]])\n",
    "embedding(input_embd)"
   ]
  },
  {
   "cell_type": "code",
   "execution_count": 18,
   "id": "0c6c2aa9",
   "metadata": {},
   "outputs": [
    {
     "name": "stdout",
     "output_type": "stream",
     "text": [
      "enter some name ideas:This is faster than replace with each char but wont perform as well as non pure python approaches such as regexes or string translate as you can see from the below timings For this type of problem doing it at as low a level as possible pays off\n",
      "{'this': 0, 'is': 1, 'faster': 2, 'than': 3, 'replace': 4, 'with': 5, 'each': 6, 'char': 7, 'but': 8, 'wont': 9, 'perform': 10, 'as': 11, 'well': 12, 'non': 13, 'pure': 14, 'python': 15, 'approaches': 16, 'such': 17, 'regexes': 18, 'or': 19, 'string': 20, 'translate': 21, 'you': 22, 'can': 23, 'see': 24, 'from': 25, 'the': 26, 'below': 27, 'timings': 28, 'for': 29, 'type': 30, 'of': 31, 'problem': 32, 'doing': 33, 'it': 34, 'at': 35, 'low': 36, 'a': 37, 'level': 38, 'possible': 39, 'pays': 40, 'off': 41}\n"
     ]
    }
   ],
   "source": [
    "import string\n",
    "\n",
    "def prepare_sequence(seq, to_ix):\n",
    "    idxs = [to_ix[w] for w in seq]\n",
    "    return torch.tensor(idxs, dtype=torch.long)\n",
    "\n",
    "data_in = input('enter some name ideas:').lower()\n",
    "\n",
    "training_data = data_in.split(' ')\n",
    "\n",
    "char_vocab = [\"<EOS>\"] + sorted([ch for ch in string.ascii_lowercase])\n",
    "char_size = len(char_vocab)\n",
    "char_to_ix = {ch:i for i, ch in enumerate(char_vocab)}\n",
    "ix_to_char = {i:ch for ch, i in char_to_ix.items()}            \n",
    "\n",
    "word_to_ix = {}\n",
    "# For each words-list (sentence) and tags-list in each tuple of training_data\n",
    "for word in training_data:\n",
    "    if word not in word_to_ix:  # word has not been assigned an index yet\n",
    "        word_to_ix[word] = len(word_to_ix)  # Assign each word with a unique index\n",
    "print(word_to_ix)\n",
    "\n",
    "#EMBEDDING_DIM = 6\n",
    "#HIDDEN_DIM = 6"
   ]
  },
  {
   "cell_type": "code",
   "execution_count": 13,
   "id": "ee1cfc05",
   "metadata": {},
   "outputs": [
    {
     "name": "stdout",
     "output_type": "stream",
     "text": [
      "['<EOS>', 'a', 'b', 'c', 'd', 'e', 'f', 'g', 'h', 'i', 'j', 'k', 'l', 'm', 'n', 'o', 'p', 'q', 'r', 's', 't', 'u', 'v', 'w', 'x', 'y', 'z']\n"
     ]
    }
   ],
   "source": [
    "print(char_vocab)"
   ]
  },
  {
   "cell_type": "code",
   "execution_count": 22,
   "id": "97f749e9",
   "metadata": {},
   "outputs": [
    {
     "name": "stdout",
     "output_type": "stream",
     "text": [
      "['<EOS>', 'a', 'b', 'c', 'd', 'e', 'f', 'g', 'h', 'i', 'j', 'k', 'l', 'm', 'n', 'o', 'p', 'q', 'r', 's', 't', 'u', 'v', 'w', 'x', 'y', 'z']\n",
      "tensor([[[0., 0., 1., 0., 0., 0., 0., 0., 0., 0., 0., 0., 0., 0., 0., 0., 0.,\n",
      "          0., 0., 0., 0., 0., 0., 0., 0., 0., 0.],\n",
      "         [0., 0., 0., 0., 0., 0., 0., 0., 0., 0., 0., 0., 0., 0., 0., 0., 0.,\n",
      "          0., 1., 0., 0., 0., 0., 0., 0., 0., 0.],\n",
      "         [0., 0., 0., 0., 0., 0., 0., 0., 0., 0., 0., 0., 0., 0., 0., 1., 0.,\n",
      "          0., 0., 0., 0., 0., 0., 0., 0., 0., 0.],\n",
      "         [0., 0., 0., 0., 0., 0., 0., 0., 0., 0., 0., 0., 0., 0., 0., 0., 0.,\n",
      "          0., 0., 0., 0., 0., 0., 1., 0., 0., 0.],\n",
      "         [0., 0., 0., 0., 0., 0., 0., 0., 0., 0., 0., 0., 0., 0., 1., 0., 0.,\n",
      "          0., 0., 0., 0., 0., 0., 0., 0., 0., 0.]]])\n",
      "tensor([[[0., 0., 1., 0., 0., 0., 0., 0., 0., 0., 0., 0., 0., 0., 0., 0., 0.,\n",
      "          0., 0., 0., 0., 0., 0., 0., 0., 0., 0.]]])\n"
     ]
    },
    {
     "ename": "RuntimeError",
     "evalue": "Expected tensor for argument #1 'indices' to have scalar type Long; but got torch.FloatTensor instead (while checking arguments for embedding)",
     "output_type": "error",
     "traceback": [
      "\u001b[1;31m---------------------------------------------------------------------------\u001b[0m",
      "\u001b[1;31mRuntimeError\u001b[0m                              Traceback (most recent call last)",
      "\u001b[1;32m<ipython-input-22-860d40e8de42>\u001b[0m in \u001b[0;36m<module>\u001b[1;34m\u001b[0m\n\u001b[0;32m     21\u001b[0m \u001b[0membedding\u001b[0m \u001b[1;33m=\u001b[0m \u001b[0mnn\u001b[0m\u001b[1;33m.\u001b[0m\u001b[0mEmbedding\u001b[0m\u001b[1;33m(\u001b[0m\u001b[0mEMBEDDING_DIM\u001b[0m\u001b[1;33m,\u001b[0m \u001b[0mEMBEDDING_DIM\u001b[0m\u001b[1;33m)\u001b[0m  \u001b[1;31m# Embedding(size of the dictionary of embeddings, size of each embedding vector)\u001b[0m\u001b[1;33m\u001b[0m\u001b[1;33m\u001b[0m\u001b[0m\n\u001b[0;32m     22\u001b[0m \u001b[0minput_embd\u001b[0m \u001b[1;33m=\u001b[0m \u001b[0mone_hot\u001b[0m\u001b[1;33m(\u001b[0m\u001b[1;34m'brown'\u001b[0m\u001b[1;33m,\u001b[0m \u001b[0mlen\u001b[0m\u001b[1;33m(\u001b[0m\u001b[0mchar_vocab\u001b[0m\u001b[1;33m)\u001b[0m\u001b[1;33m)\u001b[0m\u001b[1;33m\u001b[0m\u001b[1;33m\u001b[0m\u001b[0m\n\u001b[1;32m---> 23\u001b[1;33m \u001b[0membedding\u001b[0m\u001b[1;33m(\u001b[0m\u001b[0minput_embd\u001b[0m\u001b[1;33m)\u001b[0m\u001b[1;33m\u001b[0m\u001b[1;33m\u001b[0m\u001b[0m\n\u001b[0m",
      "\u001b[1;32mc:\\users\\bscho\\anaconda3\\envs\\tfgpu\\lib\\site-packages\\torch\\nn\\modules\\module.py\u001b[0m in \u001b[0;36m_call_impl\u001b[1;34m(self, *input, **kwargs)\u001b[0m\n\u001b[0;32m    725\u001b[0m             \u001b[0mresult\u001b[0m \u001b[1;33m=\u001b[0m \u001b[0mself\u001b[0m\u001b[1;33m.\u001b[0m\u001b[0m_slow_forward\u001b[0m\u001b[1;33m(\u001b[0m\u001b[1;33m*\u001b[0m\u001b[0minput\u001b[0m\u001b[1;33m,\u001b[0m \u001b[1;33m**\u001b[0m\u001b[0mkwargs\u001b[0m\u001b[1;33m)\u001b[0m\u001b[1;33m\u001b[0m\u001b[1;33m\u001b[0m\u001b[0m\n\u001b[0;32m    726\u001b[0m         \u001b[1;32melse\u001b[0m\u001b[1;33m:\u001b[0m\u001b[1;33m\u001b[0m\u001b[1;33m\u001b[0m\u001b[0m\n\u001b[1;32m--> 727\u001b[1;33m             \u001b[0mresult\u001b[0m \u001b[1;33m=\u001b[0m \u001b[0mself\u001b[0m\u001b[1;33m.\u001b[0m\u001b[0mforward\u001b[0m\u001b[1;33m(\u001b[0m\u001b[1;33m*\u001b[0m\u001b[0minput\u001b[0m\u001b[1;33m,\u001b[0m \u001b[1;33m**\u001b[0m\u001b[0mkwargs\u001b[0m\u001b[1;33m)\u001b[0m\u001b[1;33m\u001b[0m\u001b[1;33m\u001b[0m\u001b[0m\n\u001b[0m\u001b[0;32m    728\u001b[0m         for hook in itertools.chain(\n\u001b[0;32m    729\u001b[0m                 \u001b[0m_global_forward_hooks\u001b[0m\u001b[1;33m.\u001b[0m\u001b[0mvalues\u001b[0m\u001b[1;33m(\u001b[0m\u001b[1;33m)\u001b[0m\u001b[1;33m,\u001b[0m\u001b[1;33m\u001b[0m\u001b[1;33m\u001b[0m\u001b[0m\n",
      "\u001b[1;32mc:\\users\\bscho\\anaconda3\\envs\\tfgpu\\lib\\site-packages\\torch\\nn\\modules\\sparse.py\u001b[0m in \u001b[0;36mforward\u001b[1;34m(self, input)\u001b[0m\n\u001b[0;32m    124\u001b[0m         return F.embedding(\n\u001b[0;32m    125\u001b[0m             \u001b[0minput\u001b[0m\u001b[1;33m,\u001b[0m \u001b[0mself\u001b[0m\u001b[1;33m.\u001b[0m\u001b[0mweight\u001b[0m\u001b[1;33m,\u001b[0m \u001b[0mself\u001b[0m\u001b[1;33m.\u001b[0m\u001b[0mpadding_idx\u001b[0m\u001b[1;33m,\u001b[0m \u001b[0mself\u001b[0m\u001b[1;33m.\u001b[0m\u001b[0mmax_norm\u001b[0m\u001b[1;33m,\u001b[0m\u001b[1;33m\u001b[0m\u001b[1;33m\u001b[0m\u001b[0m\n\u001b[1;32m--> 126\u001b[1;33m             self.norm_type, self.scale_grad_by_freq, self.sparse)\n\u001b[0m\u001b[0;32m    127\u001b[0m \u001b[1;33m\u001b[0m\u001b[0m\n\u001b[0;32m    128\u001b[0m     \u001b[1;32mdef\u001b[0m \u001b[0mextra_repr\u001b[0m\u001b[1;33m(\u001b[0m\u001b[0mself\u001b[0m\u001b[1;33m)\u001b[0m \u001b[1;33m->\u001b[0m \u001b[0mstr\u001b[0m\u001b[1;33m:\u001b[0m\u001b[1;33m\u001b[0m\u001b[1;33m\u001b[0m\u001b[0m\n",
      "\u001b[1;32mc:\\users\\bscho\\anaconda3\\envs\\tfgpu\\lib\\site-packages\\torch\\nn\\functional.py\u001b[0m in \u001b[0;36membedding\u001b[1;34m(input, weight, padding_idx, max_norm, norm_type, scale_grad_by_freq, sparse)\u001b[0m\n\u001b[0;32m   1850\u001b[0m         \u001b[1;31m# remove once script supports set_grad_enabled\u001b[0m\u001b[1;33m\u001b[0m\u001b[1;33m\u001b[0m\u001b[1;33m\u001b[0m\u001b[0m\n\u001b[0;32m   1851\u001b[0m         \u001b[0m_no_grad_embedding_renorm_\u001b[0m\u001b[1;33m(\u001b[0m\u001b[0mweight\u001b[0m\u001b[1;33m,\u001b[0m \u001b[0minput\u001b[0m\u001b[1;33m,\u001b[0m \u001b[0mmax_norm\u001b[0m\u001b[1;33m,\u001b[0m \u001b[0mnorm_type\u001b[0m\u001b[1;33m)\u001b[0m\u001b[1;33m\u001b[0m\u001b[1;33m\u001b[0m\u001b[0m\n\u001b[1;32m-> 1852\u001b[1;33m     \u001b[1;32mreturn\u001b[0m \u001b[0mtorch\u001b[0m\u001b[1;33m.\u001b[0m\u001b[0membedding\u001b[0m\u001b[1;33m(\u001b[0m\u001b[0mweight\u001b[0m\u001b[1;33m,\u001b[0m \u001b[0minput\u001b[0m\u001b[1;33m,\u001b[0m \u001b[0mpadding_idx\u001b[0m\u001b[1;33m,\u001b[0m \u001b[0mscale_grad_by_freq\u001b[0m\u001b[1;33m,\u001b[0m \u001b[0msparse\u001b[0m\u001b[1;33m)\u001b[0m\u001b[1;33m\u001b[0m\u001b[1;33m\u001b[0m\u001b[0m\n\u001b[0m\u001b[0;32m   1853\u001b[0m \u001b[1;33m\u001b[0m\u001b[0m\n\u001b[0;32m   1854\u001b[0m \u001b[1;33m\u001b[0m\u001b[0m\n",
      "\u001b[1;31mRuntimeError\u001b[0m: Expected tensor for argument #1 'indices' to have scalar type Long; but got torch.FloatTensor instead (while checking arguments for embedding)"
     ]
    }
   ],
   "source": [
    "def one_hot(input_seq, vocab_len):\n",
    "    x = torch.zeros([1, len(input_seq), vocab_len], dtype=torch.float)  # dtype=torch.float  dtype=torch.long\n",
    "    for t in range(len(input_seq)):\n",
    "        x[0][t][char_to_ix[input_seq[t]]] = 1\n",
    "    return x\n",
    "\n",
    "def one_hot_char(input_char, vocab_len):\n",
    "    x = torch.zeros([1, 1, vocab_len], dtype=torch.float)  # dtype=torch.float  dtype=torch.long\n",
    "    x[0][0][char_to_ix[input_char]] = 1\n",
    "    return x\n",
    "    \n",
    "print(char_vocab)\n",
    "\n",
    "print(one_hot('brown', len(char_vocab)))\n",
    "            \n",
    "print(one_hot_char('b', len(char_vocab)))\n",
    "\n",
    "EMBEDDING_DIM = len(char_vocab)\n",
    "HIDDEN_DIM = 6\n",
    "\n",
    "embedding = nn.Embedding(EMBEDDING_DIM, EMBEDDING_DIM)  # Embedding(size of the dictionary of embeddings, size of each embedding vector)\n",
    "input_embd = one_hot('brown', len(char_vocab))\n",
    "embedding(input_embd)"
   ]
  },
  {
   "cell_type": "code",
   "execution_count": 23,
   "id": "7e4c378a",
   "metadata": {},
   "outputs": [],
   "source": [
    "class GRUCreator(nn.Module):\n",
    "\n",
    "    def __init__(self, embedding_dim, hidden_dim, char_size):  # input dimension need to be (batch_size, seq_len, input_size)\n",
    "        super(GRUCreator, self).__init__()\n",
    "        self.hidden_dim = hidden_dim\n",
    "\n",
    "        #self.word_embeddings = nn.Embedding(char_size, embedding_dim)  # lookup table that stores embeddings of a fixed dict and size\n",
    "        #self.gru = nn.GRU(embedding_dim, hidden_dim)  # GRU: input_size, hidden, num_layers\n",
    "        self.gru = nn.GRU(embedding_dim, hidden_dim)  # requires float inputs (so without embeddings need to cast to float)\n",
    "\n",
    "        # The linear layer that maps from hidden state space to vocabulary space\n",
    "        self.hidden2char = nn.Linear(hidden_dim, char_size)\n",
    "\n",
    "    def forward(self, inpt):\n",
    "        #embeds = self.word_embeddings(inpt)\n",
    "        #print(inpt.size(), embeds.size())\n",
    "        #gru_out, _ = self.gru(embeds.view(1, 1, len(inpt)))  # embeds.view(len(sentence), 1, -1)\n",
    "        #print(inpt.dtype, inpt.size(), inpt)\n",
    "        gru_out, _ = self.gru(inpt)\n",
    "        inpt_space = self.hidden2char(gru_out.view(len(inpt), -1))\n",
    "        inpt_scores = F.log_softmax(inpt_space, dim=1)\n",
    "        return inpt_scores\n",
    "        #return gru_out"
   ]
  },
  {
   "cell_type": "code",
   "execution_count": 25,
   "id": "2cb87fe4",
   "metadata": {},
   "outputs": [
    {
     "name": "stdout",
     "output_type": "stream",
     "text": [
      "hesisiosihlehesselleshlishelsheheselshisshlleoseisiileesissslsellohesssllessheliishesieleleliseihessehessieshlsiosshssilloesihelllesihsisseiosehesihollsolesleliossseshshsiesiselelesilsiislellsoisoo\n"
     ]
    }
   ],
   "source": [
    "model = GRUCreator(EMBEDDING_DIM, HIDDEN_DIM, len(char_vocab))\n",
    "#loss_function = nn.NLLLoss()\n",
    "loss_function = nn.MSELoss()\n",
    "optimizer = optim.SGD(model.parameters(), lr=0.1)\n",
    "\n",
    "ix_to_word = { w:i for i, w in enumerate(word_to_ix) }\n",
    "\n",
    "'''with torch.no_grad():\n",
    "    for word in training_data:\n",
    "        for char in word:\n",
    "            inputs = one_hot_char(char, len(char_vocab))\n",
    "            #print(inputs.dtype, inputs.size(), inputs)\n",
    "            outpt = model(inputs)\n",
    "            print(outpt)'''\n",
    "\n",
    "for epoch in range(500):  # again, normally you would NOT do 300 epochs, it is toy data\n",
    "    for word in training_data:\n",
    "        for cidx, char in enumerate(word):\n",
    "            # Step 1. Remember that Pytorch accumulates gradients.\n",
    "            # We need to clear them out before each instance\n",
    "            model.zero_grad()\n",
    "\n",
    "            # Step 2. Get our inputs ready for the network, that is, turn them into\n",
    "            # Tensors of word indices.\n",
    "            #char_in = torch.tensor(char_to_ix[char], dtype=torch.long)\n",
    "            #targets = torch.tensor(char_to_ix[word[cidx+1]], dtype=torch.long)  # should be +1 offset\n",
    "            if cidx == len(word)-1:\n",
    "                break\n",
    "            inputs = one_hot_char(char, len(char_vocab))\n",
    "            targets = one_hot_char(word[cidx+1], len(char_vocab))\n",
    "\n",
    "            # Step 3. Run our forward pass.\n",
    "            char_scores = model(inputs)\n",
    "\n",
    "            # Step 4. Compute the loss, gradients, and update the parameters by\n",
    "            #  calling optimizer.step()\n",
    "            loss = loss_function(char_scores, targets[0])\n",
    "            loss.backward()\n",
    "            optimizer.step()\n",
    "            \n",
    "# See what the scores are after training\n",
    "with torch.no_grad():\n",
    "    res = []\n",
    "    for word in training_data:\n",
    "        for char in word:\n",
    "            inputs = one_hot_char(char, len(char_vocab))\n",
    "            outpt = model(inputs)\n",
    "            top_value, top_idx = outpt.topk(1)  # chose top value from scores (returned as value, idx)\n",
    "            for i in top_idx:\n",
    "                res.append(ix_to_char[i.item()])\n",
    "                \n",
    "    print(''.join(res))"
   ]
  },
  {
   "cell_type": "markdown",
   "id": "4f1e6a71",
   "metadata": {},
   "source": [
    "# GRU next character guess improved"
   ]
  },
  {
   "cell_type": "code",
   "execution_count": 1,
   "id": "aeaa3526",
   "metadata": {},
   "outputs": [],
   "source": [
    "import torch\n",
    "import torch.nn as nn\n",
    "import torch.nn.functional as F\n",
    "import torch.optim as optim"
   ]
  },
  {
   "cell_type": "code",
   "execution_count": 52,
   "id": "63f0249f",
   "metadata": {},
   "outputs": [
    {
     "name": "stdout",
     "output_type": "stream",
     "text": [
      "enter some name ideas:nuando nandaner hronano cendaro mahto itaquen coaquen nuando nandaner hronano cendaro mahto itaquen coaquen nuando nandaner hronano cendaro mahto itaquen coaquen\n",
      "{'nuando': 0, 'nandaner': 1, 'hronano': 2, 'cendaro': 3, 'mahto': 4, 'itaquen': 5, 'coaquen': 6}\n"
     ]
    }
   ],
   "source": [
    "import string\n",
    "\n",
    "def prepare_sequence(seq, to_ix):\n",
    "    idxs = [to_ix[w] for w in seq]\n",
    "    return torch.tensor(idxs, dtype=torch.long)\n",
    "\n",
    "data_in = input('enter some name ideas:').lower()\n",
    "\n",
    "training_data = data_in.split(' ')\n",
    "\n",
    "char_vocab = [\"<EOS>\", \" \"] + sorted([ch for ch in string.ascii_lowercase])\n",
    "char_size = len(char_vocab)\n",
    "char_to_ix = {ch:i for i, ch in enumerate(char_vocab)}\n",
    "ix_to_char = {i:ch for ch, i in char_to_ix.items()}            \n",
    "\n",
    "word_to_ix = {}\n",
    "# For each words-list (sentence) and tags-list in each tuple of training_data\n",
    "for word in training_data:\n",
    "    if word not in word_to_ix:  # word has not been assigned an index yet\n",
    "        word_to_ix[word] = len(word_to_ix)  # Assign each word with a unique index\n",
    "print(word_to_ix)\n",
    "\n",
    "#EMBEDDING_DIM = 6\n",
    "#HIDDEN_DIM = 6"
   ]
  },
  {
   "cell_type": "code",
   "execution_count": 53,
   "id": "8ec187f7",
   "metadata": {},
   "outputs": [
    {
     "name": "stdout",
     "output_type": "stream",
     "text": [
      "['<EOS>', ' ', 'a', 'b', 'c', 'd', 'e', 'f', 'g', 'h', 'i', 'j', 'k', 'l', 'm', 'n', 'o', 'p', 'q', 'r', 's', 't', 'u', 'v', 'w', 'x', 'y', 'z']\n",
      "tensor([[[0., 0., 0., 1., 0., 0., 0., 0., 0., 0., 0., 0., 0., 0., 0., 0., 0.,\n",
      "          0., 0., 0., 0., 0., 0., 0., 0., 0., 0., 0.],\n",
      "         [0., 0., 0., 0., 0., 0., 0., 0., 0., 0., 0., 0., 0., 0., 0., 0., 0.,\n",
      "          0., 0., 1., 0., 0., 0., 0., 0., 0., 0., 0.],\n",
      "         [0., 0., 0., 0., 0., 0., 0., 0., 0., 0., 0., 0., 0., 0., 0., 0., 1.,\n",
      "          0., 0., 0., 0., 0., 0., 0., 0., 0., 0., 0.],\n",
      "         [0., 0., 0., 0., 0., 0., 0., 0., 0., 0., 0., 0., 0., 0., 0., 0., 0.,\n",
      "          0., 0., 0., 0., 0., 0., 0., 1., 0., 0., 0.],\n",
      "         [0., 0., 0., 0., 0., 0., 0., 0., 0., 0., 0., 0., 0., 0., 0., 1., 0.,\n",
      "          0., 0., 0., 0., 0., 0., 0., 0., 0., 0., 0.]]])\n",
      "tensor([[[0., 0., 0., 1., 0., 0., 0., 0., 0., 0., 0., 0., 0., 0., 0., 0., 0.,\n",
      "          0., 0., 0., 0., 0., 0., 0., 0., 0., 0., 0.]]])\n"
     ]
    }
   ],
   "source": [
    "def one_hot_seq(input_seq, vocab_len):\n",
    "    x = torch.zeros([1, len(input_seq), vocab_len], dtype=torch.float)  # dtype=torch.float  dtype=torch.long\n",
    "    for t in range(len(input_seq)):\n",
    "        x[0][t][char_to_ix[input_seq[t]]] = 1\n",
    "    return x\n",
    "\n",
    "def one_hot_char(input_char, vocab_len):\n",
    "    x = torch.zeros([1, 1, vocab_len], dtype=torch.float)  # dtype=torch.float  dtype=torch.long\n",
    "    x[0][0][char_to_ix[input_char]] = 1\n",
    "    return x\n",
    "    \n",
    "print(char_vocab)\n",
    "\n",
    "print(one_hot_seq('brown', len(char_vocab)))\n",
    "            \n",
    "print(one_hot_char('b', len(char_vocab)))\n",
    "\n",
    "EMBEDDING_DIM = len(char_vocab)\n",
    "HIDDEN_DIM = 6"
   ]
  },
  {
   "cell_type": "code",
   "execution_count": 54,
   "id": "5b663eb7",
   "metadata": {},
   "outputs": [],
   "source": [
    "class GRUCreator(nn.Module):\n",
    "\n",
    "    def __init__(self, embedding_dim, hidden_dim, char_size):  # input dimension need to be (batch_size, seq_len, input_size)\n",
    "        super(GRUCreator, self).__init__()\n",
    "        self.hidden_dim = hidden_dim\n",
    "\n",
    "        #self.word_embeddings = nn.Embedding(char_size, embedding_dim)  # lookup table that stores embeddings of a fixed dict and size\n",
    "        #self.gru = nn.GRU(embedding_dim, hidden_dim)  # GRU: input_size, hidden, num_layers\n",
    "        self.gru = nn.GRU(embedding_dim, embedding_dim)  # requires float inputs (so without embeddings need to cast to float)\n",
    "\n",
    "        # The linear layer that maps from hidden state space to vocabulary space\n",
    "        #self.hidden2char = nn.Linear(hidden_dim, char_size)\n",
    "\n",
    "    def forward(self, inpt):\n",
    "        #embeds = self.word_embeddings(inpt)\n",
    "        #print(inpt.size(), embeds.size())\n",
    "        #gru_out, _ = self.gru(embeds.view(1, 1, len(inpt)))  # embeds.view(len(sentence), 1, -1)\n",
    "        #print(inpt.dtype, inpt.size(), inpt)\n",
    "        gru_out, _ = self.gru(inpt)\n",
    "        #inpt_space = self.hidden2char(gru_out.view(len(inpt), -1))\n",
    "        #inpt_scores = F.log_softmax(inpt_space, dim=1)\n",
    "        #return inpt_scores\n",
    "        return gru_out"
   ]
  },
  {
   "cell_type": "code",
   "execution_count": 57,
   "id": "b188a438",
   "metadata": {},
   "outputs": [
    {
     "name": "stdout",
     "output_type": "stream",
     "text": [
      "nnannonannanexoxonanonennaxonaoooioaonennoaonennnannonannanexoxonanonennaxonaoooioaonennoaonennnannonannanexoxonanonennaxonaoooioaonennoaonen\n"
     ]
    }
   ],
   "source": [
    "model = GRUCreator(EMBEDDING_DIM, HIDDEN_DIM, len(char_vocab))\n",
    "#loss_function = nn.NLLLoss()\n",
    "loss_function = nn.MSELoss()\n",
    "optimizer = optim.SGD(model.parameters(), lr=0.1)\n",
    "\n",
    "ix_to_word = { w:i for i, w in enumerate(word_to_ix) }\n",
    "\n",
    "'''with torch.no_grad():\n",
    "    for word in training_data:\n",
    "        for char in word:\n",
    "            inputs = one_hot_char(char, len(char_vocab))\n",
    "            #print(inputs.dtype, inputs.size(), inputs)\n",
    "            outpt = model(inputs)\n",
    "            print(outpt)'''\n",
    "\n",
    "for epoch in range(20):  # again, normally you would NOT do 300 epochs, it is toy data\n",
    "    for word in training_data:\n",
    "        model.zero_grad()\n",
    "        \n",
    "        inputs = one_hot_seq(word, len(char_vocab))\n",
    "        targets = one_hot_seq(word, len(char_vocab))\n",
    "\n",
    "        word_scores = model(inputs)\n",
    "\n",
    "        loss = loss_function(word_scores, targets)\n",
    "        loss.backward()\n",
    "        optimizer.step()\n",
    "            \n",
    "# See what the scores are after training\n",
    "with torch.no_grad():\n",
    "    res = []\n",
    "    for word in training_data:\n",
    "        inputs = one_hot_seq(word, len(char_vocab))\n",
    "        outpt = model(inputs)\n",
    "        top_value, top_idx = outpt.topk(1)  # chose top value from scores (returned as value, idx)\n",
    "        for i in top_idx[0]:\n",
    "            res.append(ix_to_char[i.item()])\n",
    "                \n",
    "    print(''.join(res))"
   ]
  },
  {
   "cell_type": "code",
   "execution_count": 58,
   "id": "7df5a127",
   "metadata": {},
   "outputs": [
    {
     "name": "stdout",
     "output_type": "stream",
     "text": [
      "enter some name ideas:itaquando nuando nerque\n",
      "ioaonannonnannonexone\n"
     ]
    }
   ],
   "source": [
    "# generate new words\n",
    "\n",
    "data_in = input('enter some name ideas:').lower()\n",
    "new_data = data_in.split(' ')\n",
    "\n",
    "with torch.no_grad():\n",
    "    res = []\n",
    "    for word in new_data:\n",
    "        inputs = one_hot_seq(word, len(char_vocab))\n",
    "        outpt = model(inputs)\n",
    "        top_value, top_idx = outpt.topk(1)  # chose top value from scores (returned as value, idx)\n",
    "        for i in top_idx[0]:\n",
    "            res.append(ix_to_char[i.item()])\n",
    "                \n",
    "    print(''.join(res))"
   ]
  },
  {
   "cell_type": "code",
   "execution_count": null,
   "id": "48240e48",
   "metadata": {},
   "outputs": [],
   "source": []
  },
  {
   "cell_type": "code",
   "execution_count": null,
   "id": "371d857d",
   "metadata": {},
   "outputs": [],
   "source": []
  },
  {
   "cell_type": "code",
   "execution_count": 7,
   "id": "8e703dc1",
   "metadata": {},
   "outputs": [],
   "source": [
    "import os\n",
    "import time\n",
    "import math\n",
    "import string\n",
    "import random\n",
    "\n",
    "import collections\n",
    "import numpy as np\n",
    "import matplotlib.pyplot as plt\n",
    "\n",
    "import torch\n",
    "from torch import nn\n",
    "from torch import optim\n",
    "from torch.functional import F\n",
    "from torch.utils.data import DataLoader"
   ]
  },
  {
   "cell_type": "code",
   "execution_count": 9,
   "id": "ab178890",
   "metadata": {},
   "outputs": [],
   "source": [
    "def split_to_names(fname):\n",
    "    EOS = \"<EOS>\"\n",
    "    data = []\n",
    "        \n",
    "    with open(fname) as file:\n",
    "        text = file.read().lower()\n",
    "            \n",
    "    names = text.splitlines()\n",
    "    for i, name in enumerate(names):\n",
    "        # Split names to chars and append the End of Sequence (EOS) Token\n",
    "        ch_list = list(name) + [EOS]\n",
    "        data.append(ch_list)\n",
    "    return data\n",
    "\n",
    "data_in_char = split_to_names(\"dinos.txt\")"
   ]
  },
  {
   "cell_type": "code",
   "execution_count": 10,
   "id": "1b89d319",
   "metadata": {},
   "outputs": [],
   "source": [
    "char_vocab = [\"<EOS>\"] + sorted([ch for ch in string.ascii_lowercase])\n",
    "char_to_ix = {ch:i for i,ch in enumerate(char_vocab)}\n",
    "ix_to_char = {i:ch for ch,i in char_to_ix.items()}"
   ]
  },
  {
   "cell_type": "code",
   "execution_count": 11,
   "id": "7b591714",
   "metadata": {},
   "outputs": [],
   "source": [
    "class Dataset(torch.utils.data.Dataset):\n",
    "    def __init__(self, data_as_str, _map):\n",
    "        self.data_as_int = []\n",
    "        \n",
    "        # Convert characters to integers\n",
    "        for seq_as_str in data_as_str:\n",
    "            seq_as_int = keys_to_values(seq_as_str, _map,\n",
    "                random.choice(list(_map)))\n",
    "            \n",
    "            self.data_as_int.append(seq_as_int)\n",
    "\n",
    "    def __len__(self):\n",
    "        return len(self.data_as_int)\n",
    "\n",
    "    def __getitem__(self, ix):\n",
    "        # Get data sample at index ix\n",
    "        item = self.data_as_int[ix]\n",
    "        \n",
    "        # Slice x and y from sample\n",
    "        x = item[:-1]\n",
    "        y = item[ 1:]\n",
    "        return torch.tensor(x), torch.tensor(y)\n",
    "\n",
    "def keys_to_values(keys, _map, default):\n",
    "    return [_map.get(key, default) for key in keys]"
   ]
  },
  {
   "cell_type": "code",
   "execution_count": 12,
   "id": "11e0a3b0",
   "metadata": {},
   "outputs": [],
   "source": [
    "dataset = Dataset(data_in_char, char_to_ix)\n",
    "dataloader = DataLoader(dataset, batch_size=1, shuffle=True)"
   ]
  },
  {
   "cell_type": "code",
   "execution_count": 13,
   "id": "63d892f9",
   "metadata": {},
   "outputs": [],
   "source": [
    "class Model(nn.Module):\n",
    "    def __init__(self, _map, hidden_size, emb_dim=8, n_layers=1, dropout_p=0.2):\n",
    "        super(Model, self).__init__()\n",
    "        \n",
    "        self.vocab_size  = len(_map)\n",
    "        self.hidden_size = hidden_size\n",
    "        self.emb_dim     = emb_dim\n",
    "        self.n_layers    = n_layers\n",
    "        self.dropout_p   = dropout_p\n",
    "        \n",
    "        self.embedding = nn.Embedding(\n",
    "            num_embeddings=self.vocab_size,\n",
    "            embedding_dim =self.emb_dim)\n",
    "        \n",
    "        self.lstm = nn.LSTM(\n",
    "            input_size =self.emb_dim,\n",
    "            hidden_size=self.hidden_size,\n",
    "            num_layers =self.n_layers,\n",
    "            batch_first=True)\n",
    "        \n",
    "        self.dropout = nn.Dropout(self.dropout_p)\n",
    "        \n",
    "        self.fc = nn.Linear(\n",
    "            in_features =self.hidden_size,\n",
    "            out_features=self.vocab_size)\n",
    "        \n",
    "    def forward(self, x, prev_state):\n",
    "        n_b, n_s = x.shape\n",
    "        \n",
    "        embed = self.embedding(x)\n",
    "        yhat, state = self.lstm(embed, prev_state)\n",
    "        \n",
    "        yhat = self.dropout(yhat)\n",
    "        out = self.fc(yhat)\n",
    "        return out, state\n",
    "    \n",
    "    def init_state(self, b_size=1):\n",
    "        return (torch.zeros(self.n_layers, b_size, self.hidden_size),\n",
    "                torch.zeros(self.n_layers, b_size, self.hidden_size))\n",
    "\n",
    "model = Model(char_to_ix, 64, 8, n_layers=1, dropout_p=0.2)"
   ]
  },
  {
   "cell_type": "code",
   "execution_count": 14,
   "id": "a2e69bdc",
   "metadata": {},
   "outputs": [
    {
     "name": "stdout",
     "output_type": "stream",
     "text": [
      "Iteration:   1000/50000, Loss:   2.2790\n",
      "Iteration:   2000/50000, Loss:   1.9592\n",
      "Iteration:   3000/50000, Loss:   1.8411\n",
      "Iteration:   4000/50000, Loss:   1.7624\n",
      "Iteration:   5000/50000, Loss:   1.7585\n",
      "Iteration:   6000/50000, Loss:   1.6905\n",
      "Iteration:   7000/50000, Loss:   1.6416\n",
      "Iteration:   8000/50000, Loss:   1.6571\n",
      "Iteration:   9000/50000, Loss:   1.6084\n",
      "Iteration:  10000/50000, Loss:   1.5998\n",
      "Iteration:  11000/50000, Loss:   1.5692\n",
      "Iteration:  12000/50000, Loss:   1.5575\n",
      "Iteration:  13000/50000, Loss:   1.5513\n",
      "Iteration:  14000/50000, Loss:   1.5243\n",
      "Iteration:  15000/50000, Loss:   1.5067\n",
      "Iteration:  16000/50000, Loss:   1.4982\n",
      "Iteration:  17000/50000, Loss:   1.4893\n",
      "Iteration:  18000/50000, Loss:   1.4517\n",
      "Iteration:  19000/50000, Loss:   1.4598\n",
      "Iteration:  20000/50000, Loss:   1.4584\n",
      "Iteration:  21000/50000, Loss:   1.4122\n",
      "Iteration:  22000/50000, Loss:   1.4373\n",
      "Iteration:  23000/50000, Loss:   1.3876\n",
      "Iteration:  24000/50000, Loss:   1.4188\n",
      "Iteration:  25000/50000, Loss:   1.3962\n",
      "Iteration:  26000/50000, Loss:   1.3663\n",
      "Iteration:  27000/50000, Loss:   1.3840\n",
      "Iteration:  28000/50000, Loss:   1.3480\n",
      "Iteration:  29000/50000, Loss:   1.3383\n",
      "Iteration:  30000/50000, Loss:   1.3288\n",
      "Iteration:  31000/50000, Loss:   1.3568\n",
      "Iteration:  32000/50000, Loss:   1.3153\n",
      "Iteration:  33000/50000, Loss:   1.3206\n",
      "Iteration:  34000/50000, Loss:   1.2970\n",
      "Iteration:  35000/50000, Loss:   1.2675\n",
      "Iteration:  36000/50000, Loss:   1.3103\n",
      "Iteration:  37000/50000, Loss:   1.2925\n",
      "Iteration:  38000/50000, Loss:   1.2657\n",
      "Iteration:  39000/50000, Loss:   1.2469\n",
      "Iteration:  40000/50000, Loss:   1.2826\n",
      "Iteration:  41000/50000, Loss:   1.2689\n",
      "Iteration:  42000/50000, Loss:   1.2412\n",
      "Iteration:  43000/50000, Loss:   1.2504\n",
      "Iteration:  44000/50000, Loss:   1.2317\n",
      "Iteration:  45000/50000, Loss:   1.2359\n",
      "Iteration:  46000/50000, Loss:   1.2156\n",
      "Iteration:  47000/50000, Loss:   1.2118\n",
      "Iteration:  48000/50000, Loss:   1.2145\n",
      "Iteration:  49000/50000, Loss:   1.1827\n",
      "Iteration:  50000/50000, Loss:   1.2282\n"
     ]
    }
   ],
   "source": [
    "def train(model, data, num_iter, criterion, clip=0.25, lr=0.001, print_every=50):\n",
    "    model.train()\n",
    "    \n",
    "    costs = []\n",
    "    running_loss = 0\n",
    "    optimizer = optim.Adam(model.parameters(), lr=lr)\n",
    "\n",
    "    curr_iter = 0\n",
    "    while curr_iter < num_iter:\n",
    "        for x, y in data:\n",
    "            optimizer.zero_grad()\n",
    "            \n",
    "            # Initialise model's state and perform forward-prop\n",
    "            prev_state = model.init_state(b_size=x.shape[0])\n",
    "            out, state = model(x, prev_state)\n",
    "\n",
    "            # Calculate loss\n",
    "            loss = criterion(out.transpose(1, 2), y)\n",
    "            costs.append(loss.item())\n",
    "            running_loss += loss.item()\n",
    "\n",
    "            # Calculate gradients and update parameters\n",
    "            loss.backward()\n",
    "            if clip:\n",
    "                nn.utils.clip_grad_norm_(model.parameters(), clip)\n",
    "            optimizer.step()\n",
    "            \n",
    "            curr_iter += 1\n",
    "            if print_every and (curr_iter%print_every)==0:\n",
    "                print(\"Iteration: {:{}}/{}, Loss: {:8.4f}\".format(\n",
    "                    curr_iter, int(math.log(num_iter, 10))+2, num_iter,\n",
    "                    running_loss/float(print_every)))\n",
    "                running_loss = 0\n",
    "                \n",
    "            if curr_iter>=num_iter:\n",
    "                break\n",
    "    return model, costs\n",
    "\n",
    "\n",
    "criterion = nn.CrossEntropyLoss()\n",
    "model, costs = train(\n",
    "    model, dataloader, 50000, criterion, clip=0.25, lr=1e-3, print_every=1000)"
   ]
  },
  {
   "cell_type": "code",
   "execution_count": 16,
   "id": "f678f8d6",
   "metadata": {},
   "outputs": [
    {
     "ename": "NameError",
     "evalue": "name 'loss_history' is not defined",
     "output_type": "error",
     "traceback": [
      "\u001b[1;31m---------------------------------------------------------------------------\u001b[0m",
      "\u001b[1;31mNameError\u001b[0m                                 Traceback (most recent call last)",
      "\u001b[1;32m<ipython-input-16-154817775ebb>\u001b[0m in \u001b[0;36m<module>\u001b[1;34m\u001b[0m\n\u001b[0;32m      3\u001b[0m \u001b[0mplt\u001b[0m\u001b[1;33m.\u001b[0m\u001b[0mylabel\u001b[0m\u001b[1;33m(\u001b[0m\u001b[1;34m\"Cross-Entropy Loss\"\u001b[0m\u001b[1;33m)\u001b[0m\u001b[1;33m\u001b[0m\u001b[1;33m\u001b[0m\u001b[0m\n\u001b[0;32m      4\u001b[0m plt.plot(\n\u001b[1;32m----> 5\u001b[1;33m     [sum(loss_history[i:i+cum])/cum for i in range(0, len(loss_history), cum)])\n\u001b[0m",
      "\u001b[1;31mNameError\u001b[0m: name 'loss_history' is not defined"
     ]
    },
    {
     "data": {
      "image/png": "[encoded data removed]",
      "text/plain": [
       "<Figure size 432x288 with 1 Axes>"
      ]
     },
     "metadata": {
      "needs_background": "light"
     },
     "output_type": "display_data"
    }
   ],
   "source": [
    "cum = 300\n",
    "plt.xlabel(\"Iteration\")\n",
    "plt.ylabel(\"Cross-Entropy Loss\")\n",
    "plt.plot(\n",
    "    [sum(loss_history[i:i+cum])/cum for i in range(0, len(loss_history), cum)])"
   ]
  },
  {
   "cell_type": "code",
   "execution_count": 17,
   "id": "5fee1dcc",
   "metadata": {},
   "outputs": [],
   "source": [
    "def sample_next(model, x, prev_state, topk=5, uniform=True):\n",
    "    # Perform forward-prop and get the output of the last time-step\n",
    "    out, state = model(x, prev_state)\n",
    "    last_out = out[0, -1, :]\n",
    "\n",
    "    # Get the top-k indexes and their values\n",
    "    topk = topk if topk else last_out.shape[0]\n",
    "    top_logit, top_ix = torch.topk(last_out, k=topk, dim=-1)\n",
    "    \n",
    "    # Get the softmax of the topk's and sample\n",
    "    p = None if uniform else F.softmax(top_logit.detach(), dim=-1).numpy()\n",
    "    sampled_ix = np.random.choice(top_ix, p=p)\n",
    "    return sampled_ix, state\n",
    "\n",
    "\n",
    "def sample(model, seed, topk=5, uniform=True, max_seqlen=18, stop_on=None):\n",
    "    seed = seed if isinstance(seed, (list, tuple)) else [seed]\n",
    "    \n",
    "    model.eval()\n",
    "    with torch.no_grad():\n",
    "        sampled_ix_list = seed[:]\n",
    "        x = torch.tensor([seed])\n",
    "        \n",
    "        prev_state = model.init_state(b_size=1)\n",
    "        for t in range(max_seqlen - len(seed)):\n",
    "            sampled_ix, prev_state = sample_next(model, x, prev_state, topk, uniform)\n",
    "\n",
    "            sampled_ix_list.append(sampled_ix)\n",
    "            x = torch.tensor([[sampled_ix]])\n",
    "            \n",
    "            if sampled_ix==stop_on:\n",
    "                break\n",
    "    \n",
    "    model.train()\n",
    "    return sampled_ix_list"
   ]
  },
  {
   "cell_type": "code",
   "execution_count": 18,
   "id": "8e0df7bd",
   "metadata": {},
   "outputs": [
    {
     "name": "stdout",
     "output_type": "stream",
     "text": [
      ">>> Samples where seed is a randomly chosen character.\n",
      "25 => yroctosaurus<EOS>\n",
      "9 => ingonosaurus<EOS>\n",
      "4 => dachodongosaurus<EOS>\n",
      "17 => qilambeititan<EOS>\n",
      "15 => oligosaurus<EOS>\n",
      "9 => iliovenator<EOS>\n",
      "8 => hyposaurus<EOS>\n",
      "22 => velasuchus<EOS>\n",
      "10 => jongongosaurus<EOS>\n",
      "26 => ziaosaurus<EOS>\n",
      ">>> Samples where seed is a list of character.\n"
     ]
    },
    {
     "ename": "KeyError",
     "evalue": "'<PAD>'",
     "output_type": "error",
     "traceback": [
      "\u001b[1;31m---------------------------------------------------------------------------\u001b[0m",
      "\u001b[1;31mKeyError\u001b[0m                                  Traceback (most recent call last)",
      "\u001b[1;32m<ipython-input-18-f31fddcee96f>\u001b[0m in \u001b[0;36m<module>\u001b[1;34m\u001b[0m\n\u001b[0;32m      9\u001b[0m \u001b[0mprint\u001b[0m\u001b[1;33m(\u001b[0m\u001b[1;34m\">>> Samples where seed is a list of character.\"\u001b[0m\u001b[1;33m)\u001b[0m\u001b[1;33m\u001b[0m\u001b[1;33m\u001b[0m\u001b[0m\n\u001b[0;32m     10\u001b[0m \u001b[1;32mfor\u001b[0m \u001b[0mi\u001b[0m \u001b[1;32min\u001b[0m \u001b[0mrange\u001b[0m\u001b[1;33m(\u001b[0m\u001b[1;36m3\u001b[0m\u001b[1;33m)\u001b[0m\u001b[1;33m:\u001b[0m\u001b[1;33m\u001b[0m\u001b[1;33m\u001b[0m\u001b[0m\n\u001b[1;32m---> 11\u001b[1;33m     \u001b[0mseed\u001b[0m \u001b[1;33m=\u001b[0m \u001b[0mkeys_to_values\u001b[0m\u001b[1;33m(\u001b[0m\u001b[0mlist\u001b[0m\u001b[1;33m(\u001b[0m\u001b[1;34m\"python\"\u001b[0m\u001b[1;33m)\u001b[0m\u001b[1;33m,\u001b[0m \u001b[0mchar_to_ix\u001b[0m\u001b[1;33m,\u001b[0m \u001b[0mchar_to_ix\u001b[0m\u001b[1;33m[\u001b[0m\u001b[1;34m\"<PAD>\"\u001b[0m\u001b[1;33m]\u001b[0m\u001b[1;33m)\u001b[0m\u001b[1;33m\u001b[0m\u001b[1;33m\u001b[0m\u001b[0m\n\u001b[0m\u001b[0;32m     12\u001b[0m     print(seed, \"=>\", \"\".join(keys_to_values(\n\u001b[0;32m     13\u001b[0m         \u001b[0msample\u001b[0m\u001b[1;33m(\u001b[0m\u001b[0mmodel\u001b[0m\u001b[1;33m,\u001b[0m \u001b[0mseed\u001b[0m\u001b[1;33m,\u001b[0m \u001b[1;36m5\u001b[0m\u001b[1;33m,\u001b[0m \u001b[1;32mFalse\u001b[0m\u001b[1;33m,\u001b[0m \u001b[1;36m30\u001b[0m\u001b[1;33m,\u001b[0m \u001b[0mchar_to_ix\u001b[0m\u001b[1;33m[\u001b[0m\u001b[1;34m\"<EOS>\"\u001b[0m\u001b[1;33m]\u001b[0m\u001b[1;33m)\u001b[0m\u001b[1;33m,\u001b[0m\u001b[1;33m\u001b[0m\u001b[1;33m\u001b[0m\u001b[0m\n",
      "\u001b[1;31mKeyError\u001b[0m: '<PAD>'"
     ]
    }
   ],
   "source": [
    "print(\">>> Samples where seed is a randomly chosen character.\")\n",
    "for i in range(10):\n",
    "    seed = random.choice(list(char_to_ix.values())[1:])\n",
    "    print(seed, \"=>\", \"\".join(keys_to_values(\n",
    "        sample(model, seed, 5, False, 30, char_to_ix[\"<EOS>\"]),\n",
    "        ix_to_char, \"<?>\")))\n",
    "\n",
    "\n",
    "print(\">>> Samples where seed is a list of character.\")\n",
    "for i in range(3):\n",
    "    seed = keys_to_values(list(\"python\"), char_to_ix, char_to_ix[\"<PAD>\"])\n",
    "    print(seed, \"=>\", \"\".join(keys_to_values(\n",
    "        sample(model, seed, 5, False, 30, char_to_ix[\"<EOS>\"]),\n",
    "        ix_to_char, \"<?>\")))"
   ]
  },
  {
   "cell_type": "code",
   "execution_count": null,
   "id": "24a7062b",
   "metadata": {},
   "outputs": [],
   "source": []
  },
  {
   "cell_type": "markdown",
   "id": "4ad83205",
   "metadata": {},
   "source": [
    "# GRU name generator with file input"
   ]
  },
  {
   "cell_type": "code",
   "execution_count": 59,
   "id": "63d15ffd",
   "metadata": {},
   "outputs": [
    {
     "name": "stdout",
     "output_type": "stream",
     "text": [
      "{'sales': 0, 'cast': 1, 'podcast': 2, 'pod': 3, 'mentori': 4, 'mentor': 5, 'polyvalence': 6, 'tanyo': 7, 'helpbit': 8, 'castastic': 9, 'fantastic': 10, 'fan': 11, 'castiller': 12, 'destill': 13, 'optimize': 14, 'help': 15, 'learn': 16, 'educate': 17, 'rep': 18, 'assist': 19, 'train': 20, '': 21}\n"
     ]
    }
   ],
   "source": [
    "import torch\n",
    "import torch.nn as nn\n",
    "import torch.nn.functional as F\n",
    "import torch.optim as optim\n",
    "import string\n",
    "import numpy as np\n",
    "import os.path\n",
    "\n",
    "# Seed random\n",
    "np.random.seed(0)\n",
    "\n",
    "def prepare_sequence(seq, to_ix):\n",
    "    idxs = [to_ix[w] for w in seq]\n",
    "    return torch.tensor(idxs, dtype=torch.long)\n",
    "\n",
    "data_in = open('input0.txt', 'r').read().lower()\n",
    "training_data = data_in.split(' ')\n",
    "\n",
    "char_vocab = [\"<EOS>\", \" \"] + sorted([ch for ch in string.ascii_lowercase])\n",
    "char_size = len(char_vocab)\n",
    "char_to_ix = {ch:i for i, ch in enumerate(char_vocab)}\n",
    "ix_to_char = {i:ch for ch, i in char_to_ix.items()}            \n",
    "\n",
    "word_to_ix = {}\n",
    "# For each words-list (sentence) and tags-list in each tuple of training_data\n",
    "for word in training_data:\n",
    "    if word not in word_to_ix:  # word has not been assigned an index yet\n",
    "        word_to_ix[word] = len(word_to_ix)  # Assign each word with a unique index\n",
    "print(word_to_ix)"
   ]
  },
  {
   "cell_type": "code",
   "execution_count": 60,
   "id": "d3189d63",
   "metadata": {},
   "outputs": [
    {
     "name": "stdout",
     "output_type": "stream",
     "text": [
      "['<EOS>', ' ', 'a', 'b', 'c', 'd', 'e', 'f', 'g', 'h', 'i', 'j', 'k', 'l', 'm', 'n', 'o', 'p', 'q', 'r', 's', 't', 'u', 'v', 'w', 'x', 'y', 'z']\n",
      "tensor([[[0., 0., 0., 1., 0., 0., 0., 0., 0., 0., 0., 0., 0., 0., 0., 0., 0.,\n",
      "          0., 0., 0., 0., 0., 0., 0., 0., 0., 0., 0.],\n",
      "         [0., 0., 0., 0., 0., 0., 0., 0., 0., 0., 0., 0., 0., 0., 0., 0., 0.,\n",
      "          0., 0., 1., 0., 0., 0., 0., 0., 0., 0., 0.],\n",
      "         [0., 0., 0., 0., 0., 0., 0., 0., 0., 0., 0., 0., 0., 0., 0., 0., 1.,\n",
      "          0., 0., 0., 0., 0., 0., 0., 0., 0., 0., 0.],\n",
      "         [0., 0., 0., 0., 0., 0., 0., 0., 0., 0., 0., 0., 0., 0., 0., 0., 0.,\n",
      "          0., 0., 0., 0., 0., 0., 0., 1., 0., 0., 0.],\n",
      "         [0., 0., 0., 0., 0., 0., 0., 0., 0., 0., 0., 0., 0., 0., 0., 1., 0.,\n",
      "          0., 0., 0., 0., 0., 0., 0., 0., 0., 0., 0.]]])\n",
      "tensor([[[0., 0., 0., 1., 0., 0., 0., 0., 0., 0., 0., 0., 0., 0., 0., 0., 0.,\n",
      "          0., 0., 0., 0., 0., 0., 0., 0., 0., 0., 0.]]])\n"
     ]
    }
   ],
   "source": [
    "def one_hot_seq(input_seq, vocab_len):\n",
    "    x = torch.zeros([1, len(input_seq), vocab_len], dtype=torch.float)  # dtype=torch.float  dtype=torch.long\n",
    "    for t in range(len(input_seq)):\n",
    "        x[0][t][char_to_ix[input_seq[t]]] = 1\n",
    "    return x\n",
    "\n",
    "def one_hot_char(input_char, vocab_len):\n",
    "    x = torch.zeros([1, 1, vocab_len], dtype=torch.float)  # dtype=torch.float  dtype=torch.long\n",
    "    x[0][0][char_to_ix[input_char]] = 1\n",
    "    return x\n",
    "    \n",
    "print(char_vocab)\n",
    "\n",
    "print(one_hot_seq('brown', len(char_vocab)))\n",
    "            \n",
    "print(one_hot_char('b', len(char_vocab)))\n",
    "\n",
    "EMBEDDING_DIM = len(char_vocab)\n",
    "HIDDEN_DIM = 6"
   ]
  },
  {
   "cell_type": "code",
   "execution_count": 61,
   "id": "fe8d6aaa",
   "metadata": {},
   "outputs": [],
   "source": [
    "class GRUCreator(nn.Module):\n",
    "\n",
    "    def __init__(self, embedding_dim, hidden_dim, char_size):  # input dimension need to be (batch_size, seq_len, input_size)\n",
    "        super(GRUCreator, self).__init__()\n",
    "        self.hidden_dim = hidden_dim\n",
    "\n",
    "        #self.word_embeddings = nn.Embedding(char_size, embedding_dim)  # lookup table that stores embeddings of a fixed dict and size\n",
    "        #self.gru = nn.GRU(embedding_dim, hidden_dim)  # GRU: input_size, hidden, num_layers\n",
    "        self.gru = nn.GRU(embedding_dim, embedding_dim)  # requires float inputs (so without embeddings need to cast to float)\n",
    "\n",
    "        # The linear layer that maps from hidden state space to vocabulary space\n",
    "        #self.hidden2char = nn.Linear(hidden_dim, char_size)\n",
    "\n",
    "    def forward(self, inpt):\n",
    "        #embeds = self.word_embeddings(inpt)\n",
    "        #print(inpt.size(), embeds.size())\n",
    "        #gru_out, _ = self.gru(embeds.view(1, 1, len(inpt)))  # embeds.view(len(sentence), 1, -1)\n",
    "        #print(inpt.dtype, inpt.size(), inpt)\n",
    "        gru_out, _ = self.gru(inpt)\n",
    "        #inpt_space = self.hidden2char(gru_out.view(len(inpt), -1))\n",
    "        #inpt_scores = F.log_softmax(inpt_space, dim=1)\n",
    "        #return inpt_scores\n",
    "        return gru_out"
   ]
  },
  {
   "cell_type": "code",
   "execution_count": 65,
   "id": "9ba00f98",
   "metadata": {},
   "outputs": [
    {
     "name": "stdout",
     "output_type": "stream",
     "text": [
      "salescastpadcastpadcentaricentarpaltaalencetantalelpaitcastasticaantasticaancastillerdestillapticipelelplearnedecaterepassisttrainsalescastpadcastpadcentaricentarpaltaalencetantalelpaitcastasticaantasticaancastillerdestillapticipelelplearnedecaterepassisttrainsalescastpadcastpadcentaricentarpaltaalencetantalelpaitcastasticaantasticaancastillerdestillapticipelelplearnedecaterepassisttrainsalescastpadcastpadcentaricentarpaltaalencetantalelpaitcastasticaantasticaancastillerdestillapticipelelplearnedecaterepassisttrainsalescastpadcastpadcentaricentarpaltaalencetantalelpaitcastasticaantasticaancastillerdestillapticipelelplearnedecaterepassisttrainsalescastpadcastpadcentaricentarpaltaalencetantalelpaitcastasticaantasticaancastillerdestillapticipelelplearnedecaterepassisttrainsalescastpadcastpadcentaricentarpaltaalencetantalelpaitcastasticaantasticaancastillerdestillapticipelelplearnedecaterepassisttrainsalescastpadcastpadcentaricentarpaltaalencetantalelpaitcastasticaantasticaancastillerdestillapticipelelplearnedecaterepassisttrainsalescastpadcastpadcentaricentarpaltaalencetantalelpaitcastasticaantasticaancastillerdestillapticipelelplearnedecaterepassisttrainsalescastpadcastpadcentaricentarpaltaalencetantalelpaitcastasticaantasticaancastillerdestillapticipelelplearnedecaterepassisttrainsalescastpadcastpadcentaricentarpaltaalencetantalelpaitcastasticaantasticaancastillerdestillapticipelelplearnedecaterepassisttrainsalescastpadcastpadcentaricentarpaltaalencetantalelpaitcastasticaantasticaancastillerdestillapticipelelplearnedecaterepassisttrainsalescastpadcastpadcentaricentarpaltaalencetantalelpaitcastasticaantasticaancastillerdestillapticipelelplearnedecaterepassisttrainsalescastpadcastpadcentaricentarpaltaalencetantalelpaitcastasticaantasticaancastillerdestillapticipelelplearnedecaterepassisttrainsalescastpadcastpadcentaricentarpaltaalencetantalelpaitcastasticaantasticaancastillerdestillapticipelelplearnedecaterepassisttrainsalescastpadcastpadcentaricentarpaltaalencetantalelpaitcastasticaantasticaancastillerdestillapticipelelplearnedecaterepassisttrainsalescastpadcastpadcentaricentarpaltaalencetantalelpaitcastasticaantasticaancastillerdestillapticipelelplearnedecaterepassisttrainsalescastpadcastpadcentaricentarpaltaalencetantalelpaitcastasticaantasticaancastillerdestillapticipelelplearnedecaterepassisttrainsalescastpadcastpadcentaricentarpaltaalencetantalelpaitcastasticaantasticaancastillerdestillapticipelelplearnedecaterepassisttrain\n"
     ]
    }
   ],
   "source": [
    "model = GRUCreator(EMBEDDING_DIM, HIDDEN_DIM, len(char_vocab))\n",
    "#loss_function = nn.NLLLoss()\n",
    "loss_function = nn.MSELoss()\n",
    "optimizer = optim.SGD(model.parameters(), lr=0.1)\n",
    "\n",
    "ix_to_word = { w:i for i, w in enumerate(word_to_ix) }\n",
    "\n",
    "'''with torch.no_grad():\n",
    "    for word in training_data:\n",
    "        for char in word:\n",
    "            inputs = one_hot_char(char, len(char_vocab))\n",
    "            #print(inputs.dtype, inputs.size(), inputs)\n",
    "            outpt = model(inputs)\n",
    "            print(outpt)'''\n",
    "\n",
    "for epoch in range(5):  # again, normally you would NOT do 300 epochs, it is toy data\n",
    "    for word in training_data:\n",
    "        model.zero_grad()\n",
    "        \n",
    "        inputs = one_hot_seq(word, len(char_vocab))\n",
    "        targets = one_hot_seq(word, len(char_vocab))\n",
    "\n",
    "        word_scores = model(inputs)\n",
    "\n",
    "        loss = loss_function(word_scores, targets)\n",
    "        loss.backward()\n",
    "        optimizer.step()\n",
    "            \n",
    "# See what the scores are after training\n",
    "with torch.no_grad():\n",
    "    res = []\n",
    "    for word in training_data:\n",
    "        inputs = one_hot_seq(word, len(char_vocab))\n",
    "        outpt = model(inputs)\n",
    "        top_value, top_idx = outpt.topk(1)  # chose top value from scores (returned as value, idx)\n",
    "        for i in top_idx[0]:\n",
    "            res.append(ix_to_char[i.item()])\n",
    "                \n",
    "    print(''.join(res))"
   ]
  },
  {
   "cell_type": "code",
   "execution_count": 66,
   "id": "a4f2ec41",
   "metadata": {},
   "outputs": [
    {
     "name": "stdout",
     "output_type": "stream",
     "text": [
      "enter some name ideas:cast test model name fantasy\n",
      "casttestcadelnaceaantast\n"
     ]
    }
   ],
   "source": [
    "# generate new words\n",
    "\n",
    "data_in = input('enter some name ideas:').lower()\n",
    "new_data = data_in.split(' ')\n",
    "\n",
    "with torch.no_grad():\n",
    "    res = []\n",
    "    for word in new_data:\n",
    "        inputs = one_hot_seq(word, len(char_vocab))\n",
    "        outpt = model(inputs)\n",
    "        top_value, top_idx = outpt.topk(1)  # chose top value from scores (returned as value, idx)\n",
    "        for i in top_idx[0]:\n",
    "            res.append(ix_to_char[i.item()])\n",
    "                \n",
    "    print(''.join(res))"
   ]
  },
  {
   "cell_type": "code",
   "execution_count": null,
   "id": "f1bc8b0c",
   "metadata": {},
   "outputs": [],
   "source": []
  },
  {
   "cell_type": "code",
   "execution_count": null,
   "id": "9e52d2fa",
   "metadata": {},
   "outputs": [],
   "source": []
  }
 ],
 "metadata": {
  "kernelspec": {
   "display_name": "tfgpu",
   "language": "python",
   "name": "tfgpu"
  },
  "language_info": {
   "codemirror_mode": {
    "name": "ipython",
    "version": 3
   },
   "file_extension": ".py",
   "mimetype": "text/x-python",
   "name": "python",
   "nbconvert_exporter": "python",
   "pygments_lexer": "ipython3",
   "version": "3.7.9"
  }
 },
 "nbformat": 4,
 "nbformat_minor": 5
}
