{
 "cells": [
  {
   "cell_type": "code",
   "execution_count": 1,
   "metadata": {},
   "outputs": [
    {
     "name": "stdout",
     "output_type": "stream",
     "text": [
      "fraction  (2, 3, 7, 14, 21)\n",
      "fraction  (4, 5, 5, 20, 25)\n",
      "fraction  (7, 8, 12, 84, 96)\n",
      "859 / 999 = 0.8598598598598599\n",
      "215 / 999 = 0.21521521521521522\n",
      "512 1000 0.512\n",
      "6791 10000 0.6791\n",
      "7.035190306198546 / 4.00867759248939 1.754990303879662\n",
      "1.1450432968222946 / 2.1748368073133433 0.5264961917932633\n",
      "[(10, 23), (11, 22), (16, 19), (14, 13), (19, 8)]\n",
      "[(4, 17), (2, 5), (24, 22), (15, 12), (19, 13)]\n",
      "[(7, 22), (6, 12), (7, 6), (23, 19), (14, 9)]\n",
      "[(8, 24), (17, 19), (21, 14), (17, 7), (13, 1)]\n",
      "x, y:  (0, 4)\n",
      "x, y:  (-3, -2)\n",
      "x, y:  (-4, 4)\n",
      "x, y:  (-5, -4)\n"
     ]
    }
   ],
   "source": [
    "# maths for Meia\n",
    "import math\n",
    "import random\n",
    "\n",
    "def lcm(a,b):\n",
    "    return int(abs(a * b) / math.gcd(a,b) if a and b else 0)\n",
    "\n",
    "def exfract(a,b):\n",
    "    gcdab = math.gcd(a, b)\n",
    "    a /= gcdab\n",
    "    b /= gcdab\n",
    "    mult = random.randrange(2, 15)\n",
    "    return (int(a), int(b), mult, int(a*mult), int(b*mult))\n",
    "\n",
    "def prdfr(p):\n",
    "    '''periodic p as fraction'''\n",
    "    l = len(str(p))\n",
    "    return (p, 10**l - 1)\n",
    "\n",
    "def frdec(mxln):\n",
    "    a = random.randrange(1, mxln)\n",
    "    b = random.randrange(1, mxln)\n",
    "    return (a , 10**len(str(a)))\n",
    "\n",
    "def ordfrc(mxln, mxv):\n",
    "    res = []\n",
    "    for i in range(mxln):\n",
    "        a = random.randrange(1, mxv)\n",
    "        b = random.randrange(1, mxv)\n",
    "        res.append((a,b))\n",
    "        res.sort(key=lambda x: x[0]/x[1])\n",
    "    return res\n",
    "\n",
    "if __name__==\"__main__\":\n",
    "    for i in range(3):\n",
    "        a = random.randrange(2, 20)\n",
    "        b = random.randrange(2, 20)\n",
    "        print('fraction ', exfract(a, b))\n",
    "    for i in range(2):\n",
    "        a, b = prdfr(random.randrange(1, 1000))\n",
    "        print(a, '/', b, '=', a/b)\n",
    "    for i in range(2):\n",
    "        a, b = frdec(10000)\n",
    "        print(a, b, a/b)\n",
    "    for i in range(2):\n",
    "        a = random.random() * 10\n",
    "        b = random.random() * 10 + 1\n",
    "        print(a, '/', b, a/b)\n",
    "        \n",
    "    for i in range(4):\n",
    "        print(ordfrc(5, 25))\n",
    "        \n",
    "    for i in range(4):\n",
    "        a = random.randrange(-5, 5)\n",
    "        b = random.randrange(-5, 5)\n",
    "        print('x, y: ', (a, b))"
   ]
  },
  {
   "cell_type": "code",
   "execution_count": 2,
   "metadata": {},
   "outputs": [
    {
     "ename": "NameError",
     "evalue": "name 'scipy' is not defined",
     "output_type": "error",
     "traceback": [
      "\u001b[1;31m---------------------------------------------------------------------------\u001b[0m",
      "\u001b[1;31mNameError\u001b[0m                                 Traceback (most recent call last)",
      "\u001b[1;32m<ipython-input-2-66be3a723a93>\u001b[0m in \u001b[0;36m<module>\u001b[1;34m\u001b[0m\n\u001b[0;32m     49\u001b[0m \u001b[0mmask\u001b[0m\u001b[1;33m[\u001b[0m\u001b[0mmask_area\u001b[0m\u001b[1;33m]\u001b[0m \u001b[1;33m=\u001b[0m \u001b[1;36m0\u001b[0m\u001b[1;33m\u001b[0m\u001b[1;33m\u001b[0m\u001b[0m\n\u001b[0;32m     50\u001b[0m \u001b[1;33m\u001b[0m\u001b[0m\n\u001b[1;32m---> 51\u001b[1;33m \u001b[0mbsf\u001b[0m \u001b[1;33m=\u001b[0m \u001b[0mscipy\u001b[0m\u001b[1;33m.\u001b[0m\u001b[0msignal\u001b[0m\u001b[1;33m.\u001b[0m\u001b[0mfirwin\u001b[0m\u001b[1;33m(\u001b[0m\u001b[1;36m61\u001b[0m\u001b[1;33m,\u001b[0m \u001b[1;33m[\u001b[0m\u001b[1;36m1\u001b[0m\u001b[1;33m/\u001b[0m\u001b[1;36m12\u001b[0m \u001b[1;33m-\u001b[0m \u001b[1;36m0.03\u001b[0m\u001b[1;33m,\u001b[0m \u001b[1;36m1\u001b[0m\u001b[1;33m/\u001b[0m\u001b[1;36m12\u001b[0m \u001b[1;33m+\u001b[0m \u001b[1;36m0.03\u001b[0m\u001b[1;33m]\u001b[0m\u001b[1;33m,\u001b[0m \u001b[0mpass_zero\u001b[0m\u001b[1;33m=\u001b[0m\u001b[1;34m'bandstop'\u001b[0m\u001b[1;33m,\u001b[0m \u001b[0mfs\u001b[0m\u001b[1;33m=\u001b[0m\u001b[1;36m1\u001b[0m\u001b[1;33m)\u001b[0m\u001b[1;33m\u001b[0m\u001b[1;33m\u001b[0m\u001b[0m\n\u001b[0m\u001b[0;32m     52\u001b[0m \u001b[0mscipy\u001b[0m\u001b[1;33m.\u001b[0m\u001b[0mndimage\u001b[0m\u001b[1;33m.\u001b[0m\u001b[0mconvolve1d\u001b[0m\u001b[1;33m(\u001b[0m\u001b[0mimage\u001b[0m\u001b[1;33m,\u001b[0m \u001b[0mbsf\u001b[0m\u001b[1;33m,\u001b[0m \u001b[0maxis\u001b[0m\u001b[1;33m=\u001b[0m\u001b[1;36m0\u001b[0m\u001b[1;33m)\u001b[0m\u001b[1;33m\u001b[0m\u001b[1;33m\u001b[0m\u001b[0m\n\u001b[0;32m     53\u001b[0m \u001b[1;33m\u001b[0m\u001b[0m\n",
      "\u001b[1;31mNameError\u001b[0m: name 'scipy' is not defined"
     ]
    }
   ],
   "source": [
    "# https://stackoverflow.com/questions/65480162/how-to-remove-repititve-pattern-from-an-image-using-fft\n",
    "\n",
    "from skimage.io import imread, imsave\n",
    "from matplotlib import pyplot as plt\n",
    "import numpy as np\n",
    "import cv2\n",
    "\n",
    "img = imread('skin.jpg')\n",
    "\n",
    "R = img[...,2]\n",
    "G = img[...,1]\n",
    "B = img[...,0]\n",
    "\n",
    "f1 = np.fft.fft2(R)\n",
    "fshift1 = np.fft.fftshift(f1)\n",
    "phase_spectrumR = np.angle(fshift1)\n",
    "magnitude_spectrumR = 20*np.log(np.abs(fshift1))\n",
    "\n",
    "f2 = np.fft.fft2(G)\n",
    "fshift2 = np.fft.fftshift(f2)\n",
    "phase_spectrumG = np.angle(fshift2)\n",
    "magnitude_spectrumG = 20*np.log(np.abs(fshift2))\n",
    "\n",
    "f3 = np.fft.fft2(B)\n",
    "fshift3 = np.fft.fftshift(f3)\n",
    "phase_spectrumB = np.angle(fshift3)\n",
    "magnitude_spectrumB = 20*np.log(np.abs(fshift2))\n",
    "\n",
    "#===============================\n",
    "# LPF # HPF\n",
    "magR = np.zeros_like(R) #  = fshift1 # \n",
    "magR[magR.shape[0]//4:3*magR.shape[0]//4,\n",
    " magR.shape[1]//4:3*magR.shape[1]//4] = np.abs(fshift1[magR.shape[0]//4:3*magR.shape[0]//4,\n",
    "  magR.shape[1]//4:3*magR.shape[1]//4]) # =0 #\n",
    "\n",
    "rows = img.shape[0]\n",
    "cols = img.shape[1]\n",
    "crow, ccol = int(rows / 2), int(cols / 2)  # center\n",
    "\n",
    "# Circular HPF mask, center circle is 0, remaining all ones\n",
    "#mask = np.ones((rows, cols, 2), np.uint8)\n",
    "mask = np.ones((rows, cols), np.uint8)\n",
    "r = 30\n",
    "center = [crow, ccol]\n",
    "x, y = np.ogrid[:rows, :cols]\n",
    "mask_area = (x - center[0]) ** 2 + (y - center[1]) ** 2 <= r*r # circular\n",
    "#mask_area = abs((x - center[0]) + y * 0.)  <= r # directional x\n",
    "#mask_area = abs(x * 0. + (y - center[1]))  <= r # directional y\n",
    "mask[mask_area] = 0\n",
    "\n",
    "bsf = scipy.signal.firwin(61, [1/12 - 0.03, 1/12 + 0.03], pass_zero='bandstop', fs=1)\n",
    "scipy.ndimage.convolve1d(image, bsf, axis=0)\n",
    "\n",
    "# apply mask and inverse DFT\n",
    "#print(magR.shape, mask.shape)\n",
    "fshift = magR * mask\n",
    "\n",
    "#fshift_mask_mag = 1000 * np.log(cv2.magnitude(fshift[:, :, 0], fshift[:, :, 1]))\n",
    "fshift_mask_mag = 1000 * np.log(cv2.magnitude(fshift[:, :], fshift[:, :]))\n",
    "resR = np.abs(np.fft.ifft2(np.fft.ifftshift(fshift_mask_mag)))\n",
    "\n",
    "#resR = np.abs(np.fft.ifft2(np.fft.ifftshift(magR)))\n",
    "resR = R - resR\n",
    "#===============================\n",
    "magnitude_spectrumR\n",
    "plt.subplot(221)\n",
    "plt.imshow(R, cmap='gray')\n",
    "plt.title('Original')\n",
    "\n",
    "plt.subplot(222)\n",
    "plt.imshow(magnitude_spectrumR, cmap='gray')\n",
    "plt.title('Magnitude Spectrum')\n",
    "\n",
    "plt.subplot(223)\n",
    "plt.imshow(phase_spectrumR, cmap='gray')\n",
    "plt.title('Phase Spectrum')\n",
    "\n",
    "plt.subplot(224)\n",
    "plt.imshow(resR, cmap='gray')\n",
    "plt.title('Processed')"
   ]
  },
  {
   "cell_type": "code",
   "execution_count": 1,
   "metadata": {},
   "outputs": [
    {
     "name": "stdout",
     "output_type": "stream",
     "text": [
      "      fun: -1680992803.7075548\n",
      " hess_inv: array([[1]])\n",
      "      jac: array([-0.])\n",
      "  message: 'Optimization terminated successfully.'\n",
      "     nfev: 30\n",
      "      nit: 1\n",
      "     njev: 15\n",
      "   status: 0\n",
      "  success: True\n",
      "        x: array([-90373169.85000004])\n",
      "15.0\n",
      "1289.2168548432105\n",
      "102577.38991170967\n",
      "10.769230769230768\n"
     ]
    }
   ],
   "source": [
    "\n",
    "import numpy as np\n",
    "import scipy as sp\n",
    "import scipy.optimize\n",
    "\n",
    "capital = 150000\n",
    "periods = 180\n",
    "interest = 0.035\n",
    "growth = 0.03\n",
    "\n",
    "def calc_payment(x):\n",
    "    ini = x\n",
    "    x = 0\n",
    "    for i in range(int(periods/12)):\n",
    "        increase = ini*(1+growth)**(i)\n",
    "        x += increase\n",
    "    return x - capital\n",
    "\n",
    "def pv_annuity(cap, r, g, t):\n",
    "    return cap * (r-g) / (1-((1+g)/(1+r))**t)\n",
    "\n",
    "def pmt_annuity(pay, r, g, t):\n",
    "    return pay / (r-g) * (1-((1+g)/(1+r))**t)\n",
    "\n",
    "solution = scipy.optimize.minimize(calc_payment,x0=100)\n",
    "\n",
    "print(solution)\n",
    "print(180/12)\n",
    "\n",
    "print(pv_annuity(capital, interest, growth, periods))\n",
    "print(pmt_annuity(881.63, interest, growth, periods))\n",
    "\n",
    "print(0.7*1/(interest+growth))"
   ]
  },
  {
   "cell_type": "code",
   "execution_count": 38,
   "metadata": {},
   "outputs": [
    {
     "name": "stdout",
     "output_type": "stream",
     "text": [
      "[-0.04   -0.0398 -0.0396 ...  0.9994  0.9996  0.9998]\n",
      "0.05 0.1\n"
     ]
    },
    {
     "data": {
      "image/png": "[encoded data removed]",
      "text/plain": [
       "<Figure size 360x360 with 2 Axes>"
      ]
     },
     "metadata": {
      "needs_background": "light"
     },
     "output_type": "display_data"
    }
   ],
   "source": [
    "import matplotlib.pyplot as plt\n",
    "import math\n",
    "import numpy as np\n",
    "\n",
    "fig, (ax1, ax2) = plt.subplots(nrows=2, ncols=1, figsize=(5,5))\n",
    "\n",
    "# Equation - dispersion relation \n",
    "omega_p = 500\n",
    "k       = 5\n",
    "u_0     = 5\n",
    "u_02    = 10\n",
    "m       = 90\n",
    "M       = 2\n",
    "omega   = np.arange(-20, 500, 0.1)\n",
    "ksi     = omega / omega_p\n",
    "ksi_0   = k*u_0 / omega_p\n",
    "ksi_02  = k*u_02 / omega_p\n",
    "\n",
    "print(ksi)\n",
    "print(ksi_0, ksi_02)\n",
    "eps = 0.00001\n",
    "\n",
    "F       = (m/M) / (ksi**2+eps*10) + 1 / ((ksi-ksi_0)**2+eps)\n",
    "F2      = (m/M) / (ksi**2+eps*10) + 1 / ((ksi-ksi_02)**2+eps)\n",
    "\n",
    "# Fig 1\n",
    "ax1.plot(ksi[:600], F[:600])\n",
    "# Fig 2\n",
    "ax2.plot(ksi[:800], F2[:800])\n",
    "plt.show()"
   ]
  },
  {
   "cell_type": "code",
   "execution_count": 50,
   "metadata": {},
   "outputs": [
    {
     "name": "stdout",
     "output_type": "stream",
     "text": [
      "[[ 2  2  2  0  0  0]\n",
      " [ 4  7  4  2  0  0]\n",
      " [ 2  4  8 10  8  4]\n",
      " [ 2  3  6  7  6  0]\n",
      " [ 0  3  9 19 14  8]\n",
      " [ 0  0  3  4  6  0]]\n",
      "2\n",
      "[7, 8, 10, 8, 7, 9, 19, 14, 8]\n"
     ]
    }
   ],
   "source": [
    "\n",
    "import numpy as np\n",
    "from scipy import signal\n",
    "\n",
    "list_of_array = np.array([[1, 1, 1, 0, 0, 0], \n",
    "                          [0, 1, 0, 0, 0, 0], \n",
    "                          [1, 1, 1, 0, 0, 0], \n",
    "                          [0, 0, 2, 4, 4, 0], \n",
    "                          [0, 0, 0, 2, 0, 0], \n",
    "                          [0, 0, 1, 2, 4, 0]])\n",
    "\n",
    "hrg_krnl = np.array([[1, 1, 1],\n",
    "                     [0, 1, 0],\n",
    "                     [1, 1, 1]])\n",
    "\n",
    "'''summary = 0 # variable for calculating sum\n",
    "list_max = [] # list that i can store my all possible sums\n",
    "\n",
    "for i in range(len(list_of_array)):\n",
    "    for j in range(len(list_of_array[i])):\n",
    "        if i<4 and j<4:\n",
    "            summary = list_of_array[i][j]+list_of_array[i][j+1]+list_of_array[i][j+2]+list_of_array[i+1][j+1]+list_of_array[i+2][j]+list_of_array[i+2][j+1]+list_of_array[i+2][j+2]\n",
    "            list_max.append(summary)\n",
    "            summary = 0\n",
    "\n",
    "list_max.sort(reverse = True)\n",
    "print(list_max)\n",
    "print(list_max[0])'''\n",
    "\n",
    "grad = signal.convolve2d(list_of_array, hrg_krnl, boundary='fill', fillvalue=0, mode='same')    \n",
    "print(grad)\n",
    "hrxy = np.where(grad > 6)\n",
    "print(hrxy[0][1])\n",
    "print([grad[hrxy[0][i], hrxy[1][i]] for i in range(len(hrxy[0]))])"
   ]
  },
  {
   "cell_type": "code",
   "execution_count": 99,
   "metadata": {},
   "outputs": [
    {
     "name": "stdout",
     "output_type": "stream",
     "text": [
      "  type_commune     code   pop_t cd_reg\n",
      "2        Rural  1610511  7890.0   1610\n",
      "3        Rural  1610513  5860.0   1610\n",
      "4        Rural  1610515  6341.0   1610\n",
      "  type_commune     code  pop_t cd_reg\n",
      "6        Rural  3910503   32.0   3910\n"
     ]
    }
   ],
   "source": [
    "\n",
    "import pandas as pd\n",
    "\n",
    "df = pd.DataFrame({\"type_commune\": [\"Centre Urbain\", \"Urbain\", \"Rural\", \"Rural\", \"Rural\", \"Centre Urbain\", \"Rural\"],\n",
    "                   \"code\": [\"1610311\", \"3510503\", \"1610511\", \"1610513\", \"1610515\", \"3910101\", \"3910503\"],\n",
    "                   \"pop_t\": [13537.0, 14544.0, 7890.0, 5860.0, 6341.0, 102098.0, 32.0]})\n",
    "\n",
    "# add cd_reg derived from code\n",
    "df['cd_reg'] = [str(cd[:4]) for cd in df['code']]\n",
    "\n",
    "for index, row in df[df.type_commune == \"Centre Urbain\"].iterrows():\n",
    "    dfl0 = df.loc(axis=0)[df.cd_reg == row['cd_reg']] # choose the region\n",
    "    dfl1 = dfl0.loc(axis=0)[dfl0.type_commune == \"Rural\"] # only consider rural communities\n",
    "    print(dfl1.loc(axis=0)[dfl1.pop_t < row['pop_t']]) # consider population"
   ]
  },
  {
   "cell_type": "code",
   "execution_count": 126,
   "metadata": {},
   "outputs": [
    {
     "data": {
      "image/png": "[encoded data removed]",
      "text/plain": [
       "<Figure size 432x288 with 1 Axes>"
      ]
     },
     "metadata": {
      "needs_background": "light"
     },
     "output_type": "display_data"
    }
   ],
   "source": [
    "# https://stackoverflow.com/questions/65529725/how-to-create-and-plot-xor-data-for-a-specific-range-in-python/65530531#65530531\n",
    "import matplotlib.pyplot as plt\n",
    "from sklearn.datasets import make_blobs\n",
    "\n",
    "centers = [[-2,2],[-2,-2],[2,-2],[2,2]]\n",
    "X, y = make_blobs(n_samples = 400, n_features=2, centers=centers, cluster_std=0.8, random_state=40)\n",
    "\n",
    "X1 = [x for idx,x in enumerate(X[:,0]) if y[idx]<=2]\n",
    "Y1 = [x for idx,x in enumerate(X[:,1]) if y[idx]<=2]\n",
    "X2 = [x for idx,x in enumerate(X[:,0]) if y[idx]>=3]\n",
    "Y2 = [x for idx,x in enumerate(X[:,1]) if y[idx]>=3]\n",
    "\n",
    "plt.scatter(X1,Y1,color=\"green\")\n",
    "plt.scatter(X2,Y2,color=\"red\")\n",
    "\n",
    "plt.show()"
   ]
  },
  {
   "cell_type": "code",
   "execution_count": 3,
   "metadata": {},
   "outputs": [
    {
     "name": "stdout",
     "output_type": "stream",
     "text": [
      "0.7069300386983334\n"
     ]
    }
   ],
   "source": [
    "# Quake reverse sqrt\n",
    "from ctypes import c_float, c_int32, cast, byref, POINTER\n",
    "\n",
    "def ctypes_isqrt(number):\n",
    "    threehalfs = 1.5\n",
    "    x2 = number * 0.5\n",
    "    y = c_float(number)\n",
    "\n",
    "    i = cast(byref(y), POINTER(c_int32)).contents.value\n",
    "    i = c_int32(0x5f3759df - (i >> 1))\n",
    "    y = cast(byref(i), POINTER(c_float)).contents.value\n",
    "\n",
    "    y = y * (threehalfs - (x2 * y * y))\n",
    "    return y\n",
    "\n",
    "print(ctypes_isqrt(2))"
   ]
  },
  {
   "cell_type": "code",
   "execution_count": 1,
   "metadata": {},
   "outputs": [
    {
     "name": "stdout",
     "output_type": "stream",
     "text": [
      "Input the formula here : math.sin(x)**2\n",
      "Input the degree of derivative here: 1\n",
      "Input the approximation of x here : 2\n",
      "Input the stepsize h here : 1\n",
      "Derivative of f in x0 = 2.0 is : \n",
      "f'(2.0) = -1.4867780 (Three Point Endpoint)\n"
     ]
    }
   ],
   "source": [
    "# https://stackoverflow.com/questions/65539855/using-recursion-to-find-derivative-of-a-function-three-point-endpoint-formula\n",
    "import math\n",
    "\n",
    "formula = input('Input the formula here : ')\n",
    "n = int(input('Input the degree of derivative here: '))\n",
    "\n",
    "def f(formula, x):\n",
    "    return eval(formula, globals(), {'x': x}) # use global and local scope\n",
    "\n",
    "x0 = float(input('Input the approximation of x here : ')) # no error handling here - TODO\n",
    "h = float(input('Input the stepsize h here : '))\n",
    "\n",
    "def TPEP(x, h, n, formula): # Three Point End Point\n",
    "    if n <= 1: # need to check for iteration stop: the grade of derivatives\n",
    "        return (1/(2*h))*(-3*f(formula, x)+4*f(formula, x+h)-f(formula, x+2*h))\n",
    "    return (1/(2*h))*(-3*TPEP(x,h,n-1,formula)+4*TPEP(x+h,h,n-1,formula)-TPEP(x+2*h,h,n-1,formula)) # error-term omitted\n",
    "\n",
    "print('Derivative of f in x0 = {0} is : '.format(x0))\n",
    "print(\"f'({0}) = {1:.7f} (Three Point Endpoint)\".format(x0, TPEP(x0, h, n, formula)))\n"
   ]
  },
  {
   "cell_type": "code",
   "execution_count": 16,
   "metadata": {},
   "outputs": [
    {
     "name": "stdout",
     "output_type": "stream",
     "text": [
      "(-1, -1)\n"
     ]
    },
    {
     "ename": "NameError",
     "evalue": "name 'x' is not defined",
     "output_type": "error",
     "traceback": [
      "\u001b[1;31m---------------------------------------------------------------------------\u001b[0m",
      "\u001b[1;31mNameError\u001b[0m                                 Traceback (most recent call last)",
      "\u001b[1;32m<ipython-input-16-728f702b060f>\u001b[0m in \u001b[0;36m<module>\u001b[1;34m\u001b[0m\n\u001b[0;32m     78\u001b[0m \u001b[1;33m\u001b[0m\u001b[0m\n\u001b[0;32m     79\u001b[0m     \u001b[1;32mfor\u001b[0m \u001b[0mp\u001b[0m \u001b[1;32min\u001b[0m \u001b[0mprimes2\u001b[0m\u001b[1;33m(\u001b[0m\u001b[1;36m177\u001b[0m\u001b[1;33m)\u001b[0m\u001b[1;33m:\u001b[0m\u001b[1;33m\u001b[0m\u001b[1;33m\u001b[0m\u001b[0m\n\u001b[1;32m---> 80\u001b[1;33m         \u001b[0mprint\u001b[0m\u001b[1;33m(\u001b[0m\u001b[0mslvqdrcgr\u001b[0m\u001b[1;33m(\u001b[0m\u001b[1;36m177\u001b[0m\u001b[1;33m,\u001b[0m \u001b[1;36m987\u001b[0m\u001b[1;33m,\u001b[0m \u001b[0mp\u001b[0m\u001b[1;33m)\u001b[0m\u001b[1;33m)\u001b[0m\u001b[1;33m\u001b[0m\u001b[1;33m\u001b[0m\u001b[0m\n\u001b[0m",
      "\u001b[1;32m<ipython-input-16-728f702b060f>\u001b[0m in \u001b[0;36mslvqdrcgr\u001b[1;34m(a, m, p)\u001b[0m\n\u001b[0;32m     59\u001b[0m                         \u001b[1;32mreturn\u001b[0m \u001b[1;33m(\u001b[0m\u001b[1;33m-\u001b[0m\u001b[1;36m1\u001b[0m\u001b[1;33m,\u001b[0m \u001b[1;33m-\u001b[0m\u001b[1;36m1\u001b[0m\u001b[1;33m)\u001b[0m \u001b[1;31m# no solution\u001b[0m\u001b[1;33m\u001b[0m\u001b[1;33m\u001b[0m\u001b[0m\n\u001b[0;32m     60\u001b[0m                     \u001b[1;32melse\u001b[0m\u001b[1;33m:\u001b[0m\u001b[1;33m\u001b[0m\u001b[1;33m\u001b[0m\u001b[0m\n\u001b[1;32m---> 61\u001b[1;33m                         \u001b[0mX\u001b[0m \u001b[1;33m=\u001b[0m \u001b[0mx\u001b[0m \u001b[1;33m/\u001b[0m \u001b[0mp\u001b[0m\u001b[1;33m**\u001b[0m\u001b[0mm\u001b[0m \u001b[1;31m# x = p**m * X\u001b[0m\u001b[1;33m\u001b[0m\u001b[1;33m\u001b[0m\u001b[0m\n\u001b[0m\u001b[0;32m     62\u001b[0m                         \u001b[0mA\u001b[0m \u001b[1;33m=\u001b[0m \u001b[0ma\u001b[0m \u001b[1;33m/\u001b[0m \u001b[0mp\u001b[0m\u001b[1;33m**\u001b[0m\u001b[1;33m(\u001b[0m\u001b[1;36m2\u001b[0m\u001b[1;33m*\u001b[0m\u001b[0mm\u001b[0m\u001b[1;33m)\u001b[0m \u001b[1;31m# a = p**(2*m) * A\u001b[0m\u001b[1;33m\u001b[0m\u001b[1;33m\u001b[0m\u001b[0m\n\u001b[0;32m     63\u001b[0m                         \u001b[1;32mif\u001b[0m \u001b[0mp\u001b[0m \u001b[1;33m==\u001b[0m \u001b[1;36m2\u001b[0m\u001b[1;33m:\u001b[0m\u001b[1;33m\u001b[0m\u001b[1;33m\u001b[0m\u001b[0m\n",
      "\u001b[1;31mNameError\u001b[0m: name 'x' is not defined"
     ]
    }
   ],
   "source": [
    "import math\n",
    "from functools import reduce\n",
    "\n",
    "def chinese_remainder(n, a):\n",
    "    sum = 0\n",
    "    prod = reduce(lambda a, b: a*b, n)\n",
    "    for n_i, a_i in zip(n, a):\n",
    "        p = prod // n_i\n",
    "        sum += a_i * mul_inv(p, n_i) * p\n",
    "    return sum % prod\n",
    "\n",
    "def mul_inv(a, b):\n",
    "    b0 = b\n",
    "    x0, x1 = 0, 1\n",
    "    if b == 1: return 1\n",
    "    while a > 1:\n",
    "        q = a // b\n",
    "        a, b = b, a%b\n",
    "        x0, x1 = x1 - q * x0, x0\n",
    "    if x1 < 0: x1 += b0\n",
    "    return x1\n",
    "\n",
    "def primes2(limit):\n",
    "    if limit < 2: return []\n",
    "    if limit < 3: return [2]\n",
    "    lmtbf = (limit - 3) // 2\n",
    "    buf = [True] * (lmtbf + 1)\n",
    "    for i in range((int(limit ** 0.5) - 3) // 2 + 1):\n",
    "        if buf[i]:\n",
    "            p = i + i + 3\n",
    "            s = p * (i + 1) + i\n",
    "            buf[s::p] = [False] * ((lmtbf - s) // p + 1)\n",
    "    return [2] + [i + i + 3 for i, v in enumerate(buf) if v]\n",
    "\n",
    "def slvqdrcgr(a, m, p):\n",
    "    for n in range(math.floor(math.log(a)/math.log(p)/2)):\n",
    "        if a % p != 0: # p does not divide a\n",
    "            if p == 2:\n",
    "                if n == 1:\n",
    "                    return (1, 2) # x ≡ 1 (mod 2) TODO: append A, X (more solutions!)\n",
    "                elif n == 2:\n",
    "                    if a % 4 == 1:\n",
    "                        return (1, 4) # x ≡ ±1 (mod 4) TODO: +-\n",
    "                else:\n",
    "                    if a % 8 == 1:\n",
    "                        return (-1, 2*n - 1) # two solutions (mod 2n-1)\n",
    "            else: # p odd\n",
    "                if a**((p-1)/2) % p == 1:\n",
    "                    return (2, p*n) # there are two solutions (mod pn).\n",
    "        else: # p divides a\n",
    "            if a % p**n == 0: # p**n divides a\n",
    "                if n == 2*m+1:\n",
    "                    return (0, p*m+1) # x ≡ 0 (mod pm+1)\n",
    "                if n == 2*m:\n",
    "                    return (0, p*m) # x ≡ 0 (mod pm)\n",
    "            for r in range(n+1): # 0 < r < n\n",
    "                if math.gcd(a, p**n) == p**r:\n",
    "                    if r % 2 != 0:\n",
    "                        return (-1, -1) # no solution\n",
    "                    else:\n",
    "                        X = x / p**m # x = p**m * X\n",
    "                        A = a / p**(2*m) # a = p**(2*m) * A\n",
    "                        if p == 2:\n",
    "                            if n-2*m == 1:\n",
    "                                return (1, 2) #1 solution (mod 2) \n",
    "                            if n-2*m == 2 and A % 4 == 1:\n",
    "                                return (2, 4) #2 solutions (mod 4) \n",
    "                            if n-2*m > 2 and A % 8 == 1:\n",
    "                                return (2, 2*n - m - 1) #2 solutions (mod 2n-m-1) \n",
    "                        else:\n",
    "                            return (2, p*n - m) #two solutions (mod pn-m)\n",
    "    return (-1, -1) # no solution\n",
    "\n",
    "if __name__ == '__main__':\n",
    "    #nn = [3, 5, 7]\n",
    "    #aa = [2, 3, 2]\n",
    "    #print(chinese_remainder(nn, aa))\n",
    "    \n",
    "    for p in primes2(177):\n",
    "        print(slvqdrcgr(177, 987, p))"
   ]
  },
  {
   "cell_type": "code",
   "execution_count": 6,
   "metadata": {},
   "outputs": [
    {
     "name": "stdout",
     "output_type": "stream",
     "text": [
      "507600 (mod 691200)\n"
     ]
    },
    {
     "data": {
      "text/plain": [
       "507600"
      ]
     },
     "execution_count": 6,
     "metadata": {},
     "output_type": "execute_result"
    }
   ],
   "source": [
    "# https://stackoverflow.com/questions/65546444/how-do-i-solve-square-congruences-with-the-chinese-remainder-theorem\n",
    "from functools import reduce\n",
    "import math\n",
    "\n",
    "def llinear_diophantinex(a, b, divmodx=1, x=1, y=0, offset=0, withstats=False, pow_mod_p2=False): \n",
    "  origa, origb = a, b \n",
    "  r=a  \n",
    "  q = a//b \n",
    "  prevq=1  \n",
    "  if a == 1:\n",
    "    return 1\n",
    "  if withstats == True: \n",
    "    print(f\"a = {a}, b = {b}, q = {q}, r = {r}\")   \n",
    "  while r != 0:  \n",
    "       prevr = r  \n",
    "       a,r,b = b, b, r   \n",
    "       q,r = divmod(a,b) \n",
    "       x, y = y, x - q * y \n",
    "       if withstats == True: \n",
    "         print(f\"a = {a}, b = {b}, q = {q}, r = {r}, x = {x}, y = {y}\")  \n",
    "  y = 1 - origb*x // origa - 1\n",
    "  if withstats == True: \n",
    "    print(f\"x = {x}, y = {y}\")  \n",
    "  x,y=y,x \n",
    "  modx = (-abs(x)*divmodx)%origb \n",
    "  if withstats == True: \n",
    "    print(f\"x = {x}, y = {y}, modx = {modx}\") \n",
    "  if pow_mod_p2==False:   \n",
    "    return (x*divmodx)%origb, y, modx, (origa)%origb\n",
    "  else: \n",
    "    if x < 0: return (modx*divmodx)%origb \n",
    "    else: return (x*divmodx)%origb\n",
    "\n",
    "def CRT(numbers, modulusx, withstats=False):\n",
    "\n",
    "   from functools import reduce\n",
    "   from operator import mul\n",
    "\n",
    "   invx, modx, nums = [], [], []\n",
    "   k = len(numbers)\n",
    "   total = reduce(mul, modulusx)\n",
    "   modx = [total//x for x in modulusx]\n",
    "   modsx = [x%y for x, y in zip(modx, modulusx)] \n",
    "   invsx = [llinear_diophantinex(x,y,pow_mod_p2=True) for x, y in zip(modsx, modulusx)]\n",
    "   modw = [(x*y)%total for x, y in zip(modx, invsx)] \n",
    "   sumw = [sum(x * y for x, y in zip(modw, numbers))] \n",
    "   crtmod = divmod(sumw[0], total)\n",
    "   print(f\"{crtmod[1]} (mod {total})\")\n",
    "   return crtmod[1]\n",
    "   \n",
    "\n",
    "def isSquare(hm):\n",
    "  cr=math.isqrt(hm)\n",
    "  if cr*cr == hm:\n",
    "     return True\n",
    "  return False  \n",
    "\n",
    "def modexp_rl(a, b, n, withstats=False):\n",
    "    r = 1\n",
    "    while 1:\n",
    "        if b % 2 == 1:\n",
    "            r = r * a % n\n",
    "            if withstats==True:\n",
    "              print(b, r, a, n)\n",
    "        b //= 2\n",
    "        if b == 0:\n",
    "            break\n",
    "        a = a * a % n\n",
    "        if withstats==True:\n",
    "          print(b, r, a, n)\n",
    "    return r\n",
    "\n",
    "def legendre_symbol(a, p):\n",
    "    ls = pow(a, (p - 1) // 2, p)\n",
    "    return -1 if ls == p - 1 else ls\n",
    "\n",
    "def solvesquarecongruence(n, modulus):\n",
    "    count = 2\n",
    "    solvable = legendre_symbol(n, modulus)\n",
    "    if solvable == -1:\n",
    "       return False\n",
    "    while not isSquare(N):\n",
    "       N = n + count * modulus\n",
    "       count+=1\n",
    "    print(f\"x^2 = {math.isqrt(N)} mod {modulus}\")\n",
    "    return math.isqrt(N), modulus-math.isqrt(N)\n",
    "\n",
    "CRT([256, 255],[720, 960])"
   ]
  },
  {
   "cell_type": "code",
   "execution_count": 39,
   "metadata": {},
   "outputs": [
    {
     "name": "stdout",
     "output_type": "stream",
     "text": [
      "[[0, 0, 0, 0], [0, 1, 1, 1], [0, 2, 3, 3], [0, 3, 5, 6]]\n",
      "[('2', 1, 3), ('1', 1, 2), ('0', 1, 1)]\n"
     ]
    }
   ],
   "source": [
    "\n",
    "\"\"\"\n",
    "A large package can hold 5 itmes, while the small package can hold only one item. The\n",
    "available number of both large and small packages is limited. All items must be placed\n",
    "in packages and used packages have to be filled up completely.\n",
    "\n",
    "Write a function that calculates the minimum number of packages needed to hold a given\n",
    "number of items. If it's not possible to meet the requirements return -1.\n",
    "\n",
    "For Example, if we have 16 items,, 2 large and 10 small packages, the function should return \n",
    "8(2 large packages + 6 small packages)\n",
    "\n",
    "\"\"\"\n",
    "\n",
    "def knapsack01_dp(items, limit): # items is a list of tuples ('name', weight, value)\n",
    "    table = [[0 for w in range(limit + 1)] for j in range(len(items) + 1)] # init table of values to be maxed\n",
    "    for j in range(1, len(items) + 1): # for all items\n",
    "        item, wt, val = items[j-1] # get item details\n",
    "        for wi in range(1, limit + 1): # weight index\n",
    "            if wt > wi:\n",
    "                table[j][wi] = table[j-1][wi] # keep config if next item weight is too high\n",
    "            else:\n",
    "                table[j][wi] = max(table[j-1][wi], table[j-1][wi-wt] + val) # add new item or keep, whatever is better\n",
    "    result = []\n",
    "    wlim = limit\n",
    "    for j in range(len(items), 0, -1): # go down the table from the top (best config down right)\n",
    "        was_added = table[j][wlim] != table[j-1][wlim] # a new item?\n",
    "        if was_added:\n",
    "            item, wt, val = items[j-1]\n",
    "            result.append(items[j-1])\n",
    "            wlim -= wt\n",
    "    return result\n",
    "\n",
    "print(knapSack(3, [1, 1, 1], [1, 2, 3], 3))\n",
    "print(knapsack01_dp([('0', 1, 1), ('1', 1, 2), ('2', 1, 3)], 3))"
   ]
  },
  {
   "cell_type": "code",
   "execution_count": 14,
   "metadata": {},
   "outputs": [
    {
     "name": "stdout",
     "output_type": "stream",
     "text": [
      "(True, {2: True, 4: True})\n",
      "(True, {2: True, 4: True})\n",
      "(True, {2: True, 4: True})\n",
      "(True, {2: True, 4: True, 6: True, 8: True, 10: True})\n",
      "(True, {2: True, 4: True, 6: True, 8: True, 10: True})\n",
      "(False, {2: True, 4: True, 6: True, 8: True, 10: True, 1: False, 3: False, 5: False, 7: False, 9: False, 11: False})\n",
      "(False, {2: True, 4: True, 6: True, 8: True, 10: True, 1: False, 3: False, 5: False, 7: False, 9: False, 11: False})\n"
     ]
    }
   ],
   "source": [
    "\n",
    "# given a number and a list of numbers return if the number can be made out of the \n",
    "# numbers in a list, numbers can be used as many times as needed\n",
    "\n",
    "def canSum(target_sum, numbers, memo = {}):\n",
    "    if target_sum in memo:\n",
    "        return memo[target_sum], memo\n",
    "    if target_sum == 0:\n",
    "        return True, {}\n",
    "    if target_sum < 0:\n",
    "        return False, {}\n",
    "\n",
    "    for n in numbers:\n",
    "        remainder = target_sum - n\n",
    "        if canSum(remainder, numbers)[0] == True:\n",
    "            memo[target_sum] = True\n",
    "            return True, memo\n",
    "\n",
    "    memo[target_sum] = False\n",
    "    return False, memo\n",
    "\n",
    "print(canSum(4, [2]))\n",
    "print(canSum(4, [2,1]))\n",
    "print(canSum(4, [1,2]))\n",
    "print(canSum(10, [2]))\n",
    "print(canSum(10, [2,3]))\n",
    "print(canSum(11, [2]))\n",
    "print(canSum(7, [2]))"
   ]
  },
  {
   "cell_type": "code",
   "execution_count": 13,
   "metadata": {},
   "outputs": [
    {
     "data": {
      "text/plain": [
       "Text(0, 0.5, 'Probability of event (PMF)')"
      ]
     },
     "execution_count": 13,
     "metadata": {},
     "output_type": "execute_result"
    },
    {
     "data": {
      "image/png": "[encoded data removed]",
      "text/plain": [
       "<Figure size 576x504 with 1 Axes>"
      ]
     },
     "metadata": {
      "needs_background": "light"
     },
     "output_type": "display_data"
    }
   ],
   "source": [
    "\n",
    "# Hypergeometric Distribution code adapted from https://docs.scipy.org/doc/scipy/reference/generated/scipy.stats.hypergeom.html\n",
    "\n",
    "import numpy as np\n",
    "from scipy.stats import hypergeom, norm\n",
    "import matplotlib.pyplot as plt\n",
    "\n",
    "# (N, K, n) The hypergeometric distribution models drawing objects from a bin. N is the total number of objects, K is total number of Type I objects. The random variate represents the number of Type I objects in n drawn without replacement from the total population.\n",
    "[N, K, n] = [2000, 278, 500]\n",
    "[N, K, n] = [2000, 278, 100]\n",
    "rv1 = hypergeom(N, K, n) \n",
    "x = np.arange(0, n+1)\n",
    "pmf1 = rv1.pmf(x)\n",
    "\n",
    "xlabel=\"Number of people who are interested\"; ylabel=\"Probability of event (PMF)\"\n",
    "fig = plt.figure(figsize=(8,7))\n",
    "ax1 = fig.add_subplot(211)\n",
    "ax1.plot(x, pmf1, 'bo:', aa=True)\n",
    "#ax1.vlines(x, 0, pmf1, lw=2);\n",
    "ax1.set_xlabel(xlabel); ax1.set_ylabel(ylabel)"
   ]
  },
  {
   "cell_type": "code",
   "execution_count": 3,
   "metadata": {},
   "outputs": [
    {
     "name": "stdout",
     "output_type": "stream",
     "text": [
      "mult:  (2, 9, 18)\n",
      "mult:  (3, 1, 3)\n",
      "mult:  (1, 9, 9)\n",
      "mult:  (8, 2, 16)\n",
      "mult:  (5, 6, 30)\n",
      "div:  (40, 5, 8)\n",
      "div:  (5, 1, 5)\n",
      "div:  (8, 2, 4)\n",
      "(14, '+', 11, 25)\n",
      "(23, '-', 12, 11)\n",
      "(29, '-', 18, 11)\n",
      "(20, '-', 2, 18)\n"
     ]
    }
   ],
   "source": [
    "# maths for Rakki\n",
    "import math\n",
    "import random\n",
    "\n",
    "def mult(mxln):\n",
    "    a = random.randrange(1, mxln)\n",
    "    b = random.randrange(1, mxln)\n",
    "    return (a , b, a*b)\n",
    "\n",
    "def div(mxln):\n",
    "    a = random.randrange(1, mxln)\n",
    "    b = random.randrange(1, mxln)\n",
    "    return (a*b , b, a)\n",
    "\n",
    "def add(mxln):\n",
    "    a = random.randrange(1, mxln)\n",
    "    b = random.randrange(1, mxln)\n",
    "    sgn = random.choice(['+', '-'])\n",
    "    if b > a:\n",
    "        b, a = a, b\n",
    "    return (a , sgn, b, eval('a' + sgn + 'b'))\n",
    "\n",
    "if __name__==\"__main__\":\n",
    "    for i in range(5):\n",
    "        print('mult: ', mult(10))\n",
    "    for i in range(3):\n",
    "        print('div: ', div(10))\n",
    "    for i in range(4):\n",
    "        print(add(30))"
   ]
  },
  {
   "cell_type": "code",
   "execution_count": 36,
   "metadata": {},
   "outputs": [
    {
     "name": "stdout",
     "output_type": "stream",
     "text": [
      "summation takes 82.0 ns.± 0.63 ns per loop (mean ± std. dev. of 5 runs 1000000 loops each)\n",
      "subtraction takes 81.0 ns.± 0.49 ns per loop (mean ± std. dev. of 5 runs 1000000 loops each)\n",
      "multiplication takes 79.0 ns.± 3.06 ns per loop (mean ± std. dev. of 5 runs 1000000 loops each)\n",
      "division takes 84.0 ns.± 2.15 ns per loop (mean ± std. dev. of 5 runs 1000000 loops each)\n",
      "square takes 197.0 ns.± 0.89 ns per loop (mean ± std. dev. of 5 runs 1000000 loops each)\n",
      "sin takes 786.0 ns.± 4.4 ns per loop (mean ± std. dev. of 5 runs 1000000 loops each)\n"
     ]
    },
    {
     "data": {
      "image/png": "[encoded data removed]",
      "text/plain": [
       "<Figure size 432x288 with 1 Axes>"
      ]
     },
     "metadata": {
      "needs_background": "light"
     },
     "output_type": "display_data"
    }
   ],
   "source": [
    "# Import necessary modules\n",
    "import numpy as np\n",
    "import time\n",
    "import matplotlib.pyplot as plt\n",
    "\n",
    "# Define functions to test\n",
    "def summation(value):\n",
    "    return value+value\n",
    "    \n",
    "def subtraction(value):\n",
    "    return value-value\n",
    "\n",
    "def multiplication(value):\n",
    "    return value*3.4\n",
    "\n",
    "def division(value):\n",
    "    return value/3.5\n",
    "\n",
    "def square(value):\n",
    "    return value**2\n",
    "    \n",
    "def sin(value):\n",
    "    return np.sin(value)\n",
    "\n",
    "# Function that will evaluate the execution time\n",
    "def time_execution(func, valueToEvaluate, nOuterCycles, nCycles):\n",
    "    store = np.zeros( nOuterCycles)\n",
    "    for i in range( nOuterCycles):\n",
    "        start = time.time()\n",
    "        for j in range(nCycles):\n",
    "            func(valueToEvaluate)\n",
    "        end = time.time()\n",
    "        store[i]=(end-start)\n",
    "    \n",
    "    meanCycleTime=np.round(np.mean(store)*1e9/nCycles)\n",
    "    stdCycleTime=np.round(np.std(store)*1e9/nCycles,2)\n",
    "    print(\"%s takes %s ns.\\u00B1 %s ns per loop (mean ± std. dev. of %s runs %s loops each)\" %(func.__name__,meanCycleTime,stdCycleTime,nOuterCycles,nCycles))\n",
    "    return func.__name__,meanCycleTime,stdCycleTime\n",
    "\n",
    "# Time execution parameters\n",
    "nCycles=1000000\n",
    "nOuterCycles=5\n",
    "value=1.1\n",
    "\n",
    "# Executes the functions and appends the results to a list\n",
    "valuesForPlot=[]\n",
    "valuesForPlot.append(time_execution(summation,value,nOuterCycles,nCycles))\n",
    "valuesForPlot.append(time_execution(subtraction,value,nOuterCycles,nCycles))\n",
    "valuesForPlot.append(time_execution(multiplication,value,nOuterCycles,nCycles))\n",
    "valuesForPlot.append(time_execution(division,value,nOuterCycles,nCycles))\n",
    "valuesForPlot.append(time_execution(square,value,nOuterCycles,nCycles))\n",
    "valuesForPlot.append(time_execution(sin,value,nOuterCycles,nCycles))\n",
    "\n",
    "    \n",
    "## Bar plot\n",
    "# Collect entries for the plot\n",
    "x_names =  []\n",
    "y_values = []\n",
    "error =    []\n",
    "\n",
    "for i in valuesForPlot:\n",
    "    x_names.append(i[0])\n",
    "    y_values.append(i[1])\n",
    "    error.append(i[2])\n",
    "\n",
    "fig, ax = plt.subplots()\n",
    "ax.bar(x_names, y_values, yerr=error,align='center', alpha=0.5, ecolor='black', capsize=10)\n",
    "ax.set_ylabel('Time of operation [s]')\n",
    "ax.yaxis.grid(True)\n",
    "plt.tight_layout()\n",
    "plt.show()"
   ]
  },
  {
   "cell_type": "code",
   "execution_count": 38,
   "metadata": {},
   "outputs": [
    {
     "name": "stdout",
     "output_type": "stream",
     "text": [
      "completed sums in 0.078s.\n",
      "completed divs in 0.080s.\n",
      "completed sqrs in 0.179s.\n"
     ]
    }
   ],
   "source": [
    "\n",
    "from time import time\n",
    "\n",
    "b = 2.5\n",
    "\n",
    "t0 = time()\n",
    "\n",
    "for i in range(1000000):\n",
    "    a = b + 2.5\n",
    "\n",
    "print(\"completed sums in %0.3fs.\" % (time() - t0))\n",
    "\n",
    "t0 = time()\n",
    "\n",
    "for i in range(1000000):\n",
    "    a = 2.5 / b\n",
    "\n",
    "print(\"completed divs in %0.3fs.\" % (time() - t0))\n",
    "\n",
    "t0 = time()\n",
    "\n",
    "for i in range(1000000):\n",
    "    a = b**2\n",
    "\n",
    "print(\"completed sqrs in %0.3fs.\" % (time() - t0))"
   ]
  },
  {
   "cell_type": "code",
   "execution_count": 21,
   "metadata": {},
   "outputs": [
    {
     "name": "stdout",
     "output_type": "stream",
     "text": [
      "0\n",
      "1\n",
      "0\n",
      "2\n",
      "0\n",
      "3\n",
      "0\n",
      "4\n",
      "0\n",
      "5\n",
      "0\n",
      "6\n",
      "0\n",
      "7\n",
      "0\n",
      "8\n",
      "0\n",
      "9\n",
      "0\n",
      "5.70087712549569\n",
      "576\n",
      "441\n"
     ]
    }
   ],
   "source": [
    "import math\n",
    "\n",
    "def sn(n):\n",
    "    return int(n*(n-1)/2)\n",
    "\n",
    "for n in range(1,20):\n",
    "    print(sn(n) % n)\n",
    "    \n",
    "print(math.sqrt(4.5*4.5 + 3.5*3.5))\n",
    "print(24*24)\n",
    "print(21*21)"
   ]
  },
  {
   "cell_type": "code",
   "execution_count": 19,
   "metadata": {},
   "outputs": [
    {
     "data": {
      "image/png": "[encoded data removed]",
      "text/plain": [
       "<Figure size 432x720 with 2 Axes>"
      ]
     },
     "metadata": {
      "needs_background": "light"
     },
     "output_type": "display_data"
    },
    {
     "data": {
      "image/png": "[encoded data removed]",
      "text/plain": [
       "<Figure size 432x720 with 2 Axes>"
      ]
     },
     "metadata": {
      "needs_background": "light"
     },
     "output_type": "display_data"
    }
   ],
   "source": [
    "\n",
    "import numpy as np\n",
    "import matplotlib.pyplot as plt\n",
    "import scipy.interpolate\n",
    "import pandas as pd\n",
    "\n",
    "x = [444, 664, 0, 193, 444, 664, 0, 193, 444, 664, 193]\n",
    "y = [0, 0, 553, 553, 553, 553, 726, 726, 726, 726, 1107]\n",
    "\n",
    "z = [-0.1, -0.25, 0.14, 0.45, 0.5, 0.7, -0.15, 0.27, 0.4, -0.2, 0.1]\n",
    "\n",
    "# Set up a regular grid of interpolation points\n",
    "xi, yi = np.linspace(min(x), max(x), 100), np.linspace(min(y), max(y), 100)\n",
    "xi, yi = np.meshgrid(xi, yi)\n",
    "\n",
    "# Interpolate\n",
    "rbf = scipy.interpolate.Rbf(x, y, z, function='linear')\n",
    "zi = rbf(xi, yi)\n",
    "\n",
    "normi = plt.Normalize(vmin=-0.25, vmax=1)\n",
    "\n",
    "plt.figure(figsize=(6,10))\n",
    "plt.imshow(zi, vmin=-0.25, vmax=1, origin='lower', extent=[min(x), max(x), min(y), max(y)])\n",
    "\n",
    "plt.contourf(xi, yi, zi, 500, norm=normi, cmap='jet')\n",
    "#plt.contourf(xi, yi, zi, 500, cmap='jet')\n",
    "plt.scatter(x, y, c=z, cmap='jet')\n",
    "plt.colorbar()\n",
    "plt.clim(-0.25, 1)\n",
    "\n",
    "z = [-0.1, -0.25, 0.14, 1.45, 0.5, 0.7, -0.15, 1.27, 0.4, -0.2, 0.1]\n",
    "\n",
    "# Interpolate\n",
    "rbf = scipy.interpolate.Rbf(x, y, z, function='linear')\n",
    "zi = rbf(xi, yi)\n",
    "\n",
    "normi = plt.Normalize(vmin=-0.25, vmax=1)\n",
    "\n",
    "plt.figure(figsize=(6,10))\n",
    "plt.imshow(zi, vmin=-0.25, vmax=1, origin='lower', extent=[min(x), max(x), min(y), max(y)])\n",
    "\n",
    "plt.contourf(xi, yi, zi, 500, norm=normi, cmap='jet')\n",
    "#plt.contourf(xi, yi, zi, 500, cmap='jet')\n",
    "plt.scatter(x, y, c=z, cmap='jet')\n",
    "plt.colorbar()\n",
    "plt.clim(-0.25, 1)"
   ]
  },
  {
   "cell_type": "code",
   "execution_count": 31,
   "metadata": {},
   "outputs": [
    {
     "data": {
      "image/png": "[encoded data removed]",
      "text/plain": [
       "<Figure size 432x288 with 1 Axes>"
      ]
     },
     "metadata": {
      "needs_background": "light"
     },
     "output_type": "display_data"
    }
   ],
   "source": [
    "\n",
    "\n",
    "import numpy as np\n",
    "import matplotlib.pyplot as plt\n",
    "\n",
    "xN = [11.86478, 24.851482, 75.38245, 84.50359, 58.3]\n",
    "yN = [4.3048816, 3.541581, 4.0219164, 2.854434, 0.0]\n",
    "\n",
    "newX = []\n",
    "newY = []\n",
    "\n",
    "d = 1\n",
    "for i in range(len(xN)-1):\n",
    "    newX.append(xN[i]+dx)\n",
    "    newY.append(yN[i]+dy)\n",
    "    \n",
    "    r = np.sqrt((xN[i+1]-xN[i])**2+(yN[i+1]-yN[i])**2) \n",
    "    dx = d/r*abs(yN[i+1]-yN[i])\n",
    "    dy = d/r*abs(xN[i+1]-xN[i]) \n",
    "\n",
    "newX.append(xN[i+1]+dx)\n",
    "newY.append(yN[i+1]+dy)\n",
    "\n",
    "plt.plot(xN, yN)\n",
    "plt.plot(newX, newY)\n",
    "plt.show()\n"
   ]
  },
  {
   "cell_type": "code",
   "execution_count": 15,
   "metadata": {},
   "outputs": [
    {
     "data": {
      "image/png": "[encoded data removed]",
      "text/plain": [
       "<Figure size 432x288 with 1 Axes>"
      ]
     },
     "metadata": {
      "needs_background": "light"
     },
     "output_type": "display_data"
    }
   ],
   "source": [
    "\n",
    "\n",
    "import numpy as np\n",
    "import matplotlib.pyplot as plt\n",
    "\n",
    "xN = [11.86478, 24.851482, 75.38245, 84.50359, 58.3, 0.4]\n",
    "yN = [4.3048816, 3.541581, 4.0219164, 2.854434, 0.0, 1.0]\n",
    "\n",
    "newX = []\n",
    "newY = []\n",
    "\n",
    "d = 1\n",
    "dx = 1\n",
    "dy = 1\n",
    "s3 = dx*dx + dy*dy\n",
    "    \n",
    "for i in range(len(xN)-1):\n",
    "    if s3 < 0:\n",
    "        newX.append(xN[i]+dy)\n",
    "        newY.append(yN[i]-dx)\n",
    "    else:\n",
    "        newX.append(xN[i]-dy)\n",
    "        newY.append(yN[i]+dx)\n",
    "        \n",
    "    r = np.sqrt((xN[i+1]-xN[i])**2+(yN[i+1]-yN[i])**2) \n",
    "    dy = d/r*(yN[i+1]-yN[i])\n",
    "    dx = d/r*(xN[i+1]-xN[i])\n",
    "    \n",
    "    s3 = dx*dx + dy*dy\n",
    "\n",
    "if s3 < 0:\n",
    "    newX.append(xN[i+1]+dy)\n",
    "    newY.append(yN[i+1]-dx)\n",
    "else:\n",
    "    newX.append(xN[i+1]-dy)\n",
    "    newY.append(yN[i+1]+dx)\n",
    "\n",
    "plt.plot(xN, yN)\n",
    "#plt.plot(newX, newY)\n",
    "plt.plot(newX, newY, 'o')\n",
    "plt.show()\n"
   ]
  },
  {
   "cell_type": "code",
   "execution_count": 89,
   "metadata": {},
   "outputs": [
    {
     "data": {
      "image/png": "[encoded data removed]",
      "text/plain": [
       "<Figure size 432x288 with 1 Axes>"
      ]
     },
     "metadata": {
      "needs_background": "light"
     },
     "output_type": "display_data"
    }
   ],
   "source": [
    "\n",
    "import numpy as np\n",
    "import matplotlib.pyplot as plt\n",
    "from scipy.interpolate import interp1d\n",
    "\n",
    "xN = [11.86478, 24.851482, 75.38245, 84.50359, 58.3, 0.4, -20, -18, 0, 20, 0, -20]\n",
    "yN = [4.3048816, 3.541581, 4.0219164, 2.854434, 0.0, 1.0, 0, -1, -1, -2, -4, -5]\n",
    "\n",
    "newX = []\n",
    "newY = []\n",
    "\n",
    "d = 1\n",
    "dx = 1\n",
    "dy = 1\n",
    "s3 = dx*dx + dy*dy\n",
    "x0 = xN[0]\n",
    "y0 = yN[0]\n",
    "    \n",
    "for i in range(len(xN)-1):\n",
    "    if s3 < 0:\n",
    "        newX.append(xN[i]+dy)\n",
    "        newY.append(yN[i]-dx)\n",
    "    else:\n",
    "        newX.append(xN[i]-dy)\n",
    "        newY.append(yN[i]+dx)\n",
    "    \n",
    "    if i>0:\n",
    "        f = interp1d(xN[i-1:i+1], yN[i-1:i+1], fill_value=\"extrapolate\")\n",
    "        x0 = (xN[i+1]-xN[i-1])/2 + xN[i]\n",
    "        y0 = f(x0)\n",
    "        r = np.sqrt((xN[i+1]-x0)**2+(yN[i+1]-y0)**2) \n",
    "        dy = d/r*(yN[i+1]-y0)\n",
    "        dx = d/r*(xN[i+1]-x0)\n",
    "    else:\n",
    "        x0 = xN[i+1]\n",
    "        y0 = yN[i+1]\n",
    "        r = np.sqrt((xN[i+1]-xN[i])**2+(yN[i+1]-yN[i])**2) \n",
    "        dy = d/r*(yN[i+1]-yN[i])\n",
    "        dx = d/r*(xN[i+1]-xN[i])\n",
    "    \n",
    "    s3 = dx*dx + dy*dy\n",
    "\n",
    "if s3 < 0:\n",
    "    newX.append(xN[i+1]+dy)\n",
    "    newY.append(yN[i+1]-dx)\n",
    "else:\n",
    "    newX.append(xN[i+1]-dy)\n",
    "    newY.append(yN[i+1]+dx)\n",
    "\n",
    "plt.plot(xN, yN)\n",
    "#plt.plot(newX, newY)\n",
    "plt.plot(newX, newY, 'o')\n",
    "plt.show()"
   ]
  },
  {
   "cell_type": "code",
   "execution_count": 87,
   "metadata": {},
   "outputs": [
    {
     "data": {
      "image/png": "[encoded data removed]",
      "text/plain": [
       "<Figure size 432x288 with 1 Axes>"
      ]
     },
     "metadata": {
      "needs_background": "light"
     },
     "output_type": "display_data"
    }
   ],
   "source": [
    "\n",
    "import numpy as np\n",
    "import matplotlib.pyplot as plt\n",
    "from scipy.interpolate import interp1d\n",
    "\n",
    "xN = [11.86478, 24.851482, 75.38245, 84.50359, 58.3, 0.4, -20, -8]\n",
    "yN = [4.3048816, 3.541581, 4.0219164, 2.854434, 0.0, 1.0, 0, -1]\n",
    "\n",
    "# refine xN, yN\n",
    "xNN = []\n",
    "yNN = []\n",
    "for i in range(1,len(xN)):\n",
    "    xNN.append(xN[i])\n",
    "    yNN.append(yN[i])\n",
    "    if i>0 and i < len(xN)-1:\n",
    "        x0 = (xN[i+1]-xN[i-1])/2 + xN[i]\n",
    "        xNN.append(x0)\n",
    "        f = interp1d(xN[i-1:i+1], yN[i-1:i+1], fill_value=\"extrapolate\")\n",
    "        yNN.append(f(x0))\n",
    "        \n",
    "xN = xNN\n",
    "yN = yNN\n",
    "\n",
    "newX = []\n",
    "newY = []\n",
    "\n",
    "d = 1\n",
    "dx = 1\n",
    "dy = 1\n",
    "s3 = dx*dx + dy*dy\n",
    "    \n",
    "for i in range(len(xN)-1):\n",
    "    if s3 < 0:\n",
    "        newX.append(xN[i]+dy)\n",
    "        newY.append(yN[i]-dx)\n",
    "    else:\n",
    "        newX.append(xN[i]-dy)\n",
    "        newY.append(yN[i]+dx)\n",
    "        \n",
    "    r = np.sqrt((xN[i+1]-xN[i])**2+(yN[i+1]-yN[i])**2) \n",
    "    dy = d/r*(yN[i+1]-yN[i])\n",
    "    dx = d/r*(xN[i+1]-xN[i])\n",
    "    \n",
    "    s3 = dx*dx + dy*dy\n",
    "\n",
    "if s3 < 0:\n",
    "    newX.append(xN[i+1]+dy)\n",
    "    newY.append(yN[i+1]-dx)\n",
    "else:\n",
    "    newX.append(xN[i+1]-dy)\n",
    "    newY.append(yN[i+1]+dx)\n",
    "\n",
    "plt.plot(xN, yN)\n",
    "#plt.plot(newX, newY)\n",
    "plt.plot(newX, newY, 'o')\n",
    "plt.show()\n"
   ]
  },
  {
   "cell_type": "code",
   "execution_count": 15,
   "metadata": {},
   "outputs": [
    {
     "name": "stdout",
     "output_type": "stream",
     "text": [
      "{'a': 1, 'b': 2, 'c': 3, 'd': 4}\n",
      "dict_items([('a', 1), ('b', 2), ('c', 3), ('d', 4)])\n"
     ]
    }
   ],
   "source": [
    "a = { \"a\" : 1, \"b\" : 2 }\n",
    "b = { \"c\" : 3, \"d\" : 4 }\n",
    "a.update(b)\n",
    "print(a)\n",
    "print(a.items())"
   ]
  },
  {
   "cell_type": "code",
   "execution_count": 14,
   "metadata": {},
   "outputs": [
    {
     "name": "stdout",
     "output_type": "stream",
     "text": [
      "(6, 0)\n",
      "(6, 0, -11, 13)\n"
     ]
    }
   ],
   "source": [
    "# extended Euclidean Algorithm\n",
    "\n",
    "def ea(a, b):\n",
    "    '''Euclidean Algorithm'''\n",
    "    if b>a:\n",
    "        b, a = a, b\n",
    "    r0 = 1\n",
    "    while r0 > 0:\n",
    "        r0 = a % b\n",
    "        n0 = a // b\n",
    "        a = b\n",
    "        b = r0\n",
    "    return a, b\n",
    "\n",
    "def eea(a, b):\n",
    "    '''Extended Euclidean Algorithm, returns ax+by as a,b,x,y'''\n",
    "    if b>a:\n",
    "        b, a = a, b\n",
    "    r0 = 1\n",
    "    i = 0\n",
    "    while r0 > 0:\n",
    "        r0 = a % b\n",
    "        n0 = a // b\n",
    "        a = b\n",
    "        b = r0\n",
    "        if i>1:\n",
    "            x0, x1 = x1, x0 - n0 * x1\n",
    "            y0, y1 = y1, y0 - n0 * y1\n",
    "        elif i==0:\n",
    "            x0 = 1\n",
    "            y0 = -n0\n",
    "        elif i==1:\n",
    "            x1 = -n0\n",
    "            y1 = -y0*n0 + 1\n",
    "        i += 1\n",
    "    return a, b, x0, y0\n",
    "\n",
    "print(ea(198, 168))\n",
    "print(eea(198, 168))"
   ]
  },
  {
   "cell_type": "code",
   "execution_count": null,
   "metadata": {},
   "outputs": [],
   "source": []
  }
 ],
 "metadata": {
  "kernelspec": {
   "display_name": "tfgpu",
   "language": "python",
   "name": "tfgpu"
  },
  "language_info": {
   "codemirror_mode": {
    "name": "ipython",
    "version": 3
   },
   "file_extension": ".py",
   "mimetype": "text/x-python",
   "name": "python",
   "nbconvert_exporter": "python",
   "pygments_lexer": "ipython3",
   "version": "3.7.9"
  }
 },
 "nbformat": 4,
 "nbformat_minor": 4
}
