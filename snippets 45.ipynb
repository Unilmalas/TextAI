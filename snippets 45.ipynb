{
 "cells": [
  {
   "cell_type": "code",
   "execution_count": 18,
   "id": "e5cd5034",
   "metadata": {},
   "outputs": [
    {
     "name": "stdout",
     "output_type": "stream",
     "text": [
      "2.99\n"
     ]
    }
   ],
   "source": [
    "# spinning the wheel\n",
    "import random\n",
    "import matplotlib.pyplot as plt\n",
    "\n",
    "def spinwin(n):\n",
    "    wins = [0, 1, 2]\n",
    "    cum_win = 0\n",
    "    ctr = 0\n",
    "    this_win = random.choice(wins)\n",
    "    while this_win > 0 and ctr < n:\n",
    "        cum_win += this_win\n",
    "        this_win = random.choice(wins)\n",
    "        ctr += 1\n",
    "    return cum_win\n",
    "\n",
    "#print(spinwin(20))\n",
    "y = [spinwin(200) for i in range(1000)]\n",
    "#plt.plot(y)\n",
    "#plt.show()\n",
    "\n",
    "print(sum(y) / 1000)"
   ]
  },
  {
   "cell_type": "code",
   "execution_count": null,
   "id": "798d904d",
   "metadata": {},
   "outputs": [],
   "source": []
  }
 ],
 "metadata": {
  "kernelspec": {
   "display_name": "tfgpu",
   "language": "python",
   "name": "tfgpu"
  },
  "language_info": {
   "codemirror_mode": {
    "name": "ipython",
    "version": 3
   },
   "file_extension": ".py",
   "mimetype": "text/x-python",
   "name": "python",
   "nbconvert_exporter": "python",
   "pygments_lexer": "ipython3",
   "version": "3.7.9"
  }
 },
 "nbformat": 4,
 "nbformat_minor": 5
}
